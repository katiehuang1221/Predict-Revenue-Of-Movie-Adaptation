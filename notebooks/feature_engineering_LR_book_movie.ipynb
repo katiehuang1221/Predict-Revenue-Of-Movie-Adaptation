{
 "cells": [
  {
   "cell_type": "code",
   "execution_count": 1,
   "metadata": {},
   "outputs": [],
   "source": [
    "import pandas as pd\n",
    "import numpy as np\n",
    "import matplotlib.pyplot as plt\n",
    "import seaborn as sns\n",
    "sns.set()\n",
    "\n",
    "from sklearn.model_selection import train_test_split\n",
    "from sklearn.model_selection import cross_val_score\n",
    "from sklearn.linear_model import LinearRegression\n",
    "from sklearn.preprocessing import StandardScaler, PolynomialFeatures, OneHotEncoder\n",
    "from sklearn.pipeline import Pipeline\n",
    "from sklearn.model_selection import train_test_split\n",
    "from sklearn.linear_model import LinearRegression, Lasso, LassoCV, Ridge, RidgeCV\n",
    "from sklearn.metrics import r2_score"
   ]
  },
  {
   "cell_type": "markdown",
   "metadata": {},
   "source": [
    "## 1. Simple EDA and Baseline Model"
   ]
  },
  {
   "cell_type": "code",
   "execution_count": 23,
   "metadata": {},
   "outputs": [],
   "source": [
    "# Load the cleaned complete data\n",
    "all_df = pd.read_pickle('../dump/complete_data_cleaned_test')"
   ]
  },
  {
   "cell_type": "code",
   "execution_count": 24,
   "metadata": {},
   "outputs": [],
   "source": [
    "# all_df.head()"
   ]
  },
  {
   "cell_type": "code",
   "execution_count": 25,
   "metadata": {},
   "outputs": [],
   "source": [
    "# convert unit of 'opening_weekend_usa' to million dollors\n",
    "all_df['opening_weekend_usa'] = all_df['opening_weekend_usa']/1e6"
   ]
  },
  {
   "cell_type": "code",
   "execution_count": 26,
   "metadata": {},
   "outputs": [
    {
     "data": {
      "text/html": [
       "<div>\n",
       "<style scoped>\n",
       "    .dataframe tbody tr th:only-of-type {\n",
       "        vertical-align: middle;\n",
       "    }\n",
       "\n",
       "    .dataframe tbody tr th {\n",
       "        vertical-align: top;\n",
       "    }\n",
       "\n",
       "    .dataframe thead th {\n",
       "        text-align: right;\n",
       "    }\n",
       "</style>\n",
       "<table border=\"1\" class=\"dataframe\">\n",
       "  <thead>\n",
       "    <tr style=\"text-align: right;\">\n",
       "      <th></th>\n",
       "      <th>rating</th>\n",
       "      <th>budget</th>\n",
       "      <th>opening_weekend_usa</th>\n",
       "      <th>gross_usa</th>\n",
       "      <th>gross_world</th>\n",
       "      <th>runtime</th>\n",
       "      <th>rating_value_b</th>\n",
       "      <th>rating_count_b</th>\n",
       "      <th>review_count_b</th>\n",
       "      <th>page</th>\n",
       "      <th>...</th>\n",
       "      <th>author_search</th>\n",
       "      <th>search_fiction_author</th>\n",
       "      <th>book_popularity</th>\n",
       "      <th>author_popularity</th>\n",
       "      <th>log_book_search</th>\n",
       "      <th>log_author_search</th>\n",
       "      <th>book_popularity_test</th>\n",
       "      <th>log_book_popularity</th>\n",
       "      <th>author_popularity_test</th>\n",
       "      <th>log_author_popularity</th>\n",
       "    </tr>\n",
       "  </thead>\n",
       "  <tbody>\n",
       "    <tr>\n",
       "      <th>count</th>\n",
       "      <td>1135.000000</td>\n",
       "      <td>8.300000e+02</td>\n",
       "      <td>713.000000</td>\n",
       "      <td>1.135000e+03</td>\n",
       "      <td>8.420000e+02</td>\n",
       "      <td>1124.000000</td>\n",
       "      <td>1135.000000</td>\n",
       "      <td>1.135000e+03</td>\n",
       "      <td>1135.000000</td>\n",
       "      <td>1106.000000</td>\n",
       "      <td>...</td>\n",
       "      <td>8.810000e+02</td>\n",
       "      <td>8.810000e+02</td>\n",
       "      <td>872.000000</td>\n",
       "      <td>881.000000</td>\n",
       "      <td>881.000000</td>\n",
       "      <td>881.000000</td>\n",
       "      <td>880.000000</td>\n",
       "      <td>880.000000</td>\n",
       "      <td>881.000000</td>\n",
       "      <td>881.000000</td>\n",
       "    </tr>\n",
       "    <tr>\n",
       "      <th>mean</th>\n",
       "      <td>6.667313</td>\n",
       "      <td>2.846106e+07</td>\n",
       "      <td>9.598797</td>\n",
       "      <td>3.740295e+07</td>\n",
       "      <td>7.753742e+07</td>\n",
       "      <td>113.920819</td>\n",
       "      <td>3.875551</td>\n",
       "      <td>2.312974e+05</td>\n",
       "      <td>7510.383260</td>\n",
       "      <td>332.676311</td>\n",
       "      <td>...</td>\n",
       "      <td>2.068350e+07</td>\n",
       "      <td>1.636476e+08</td>\n",
       "      <td>0.086892</td>\n",
       "      <td>0.124288</td>\n",
       "      <td>8.561603</td>\n",
       "      <td>10.932581</td>\n",
       "      <td>0.122211</td>\n",
       "      <td>-4.003152</td>\n",
       "      <td>0.124289</td>\n",
       "      <td>-4.736478</td>\n",
       "    </tr>\n",
       "    <tr>\n",
       "      <th>std</th>\n",
       "      <td>0.905118</td>\n",
       "      <td>3.429356e+07</td>\n",
       "      <td>16.664456</td>\n",
       "      <td>4.785715e+07</td>\n",
       "      <td>1.450034e+08</td>\n",
       "      <td>23.305856</td>\n",
       "      <td>0.393255</td>\n",
       "      <td>5.965459e+05</td>\n",
       "      <td>16791.442166</td>\n",
       "      <td>171.545723</td>\n",
       "      <td>...</td>\n",
       "      <td>1.140401e+08</td>\n",
       "      <td>2.688862e+08</td>\n",
       "      <td>0.220079</td>\n",
       "      <td>0.436333</td>\n",
       "      <td>3.326120</td>\n",
       "      <td>3.810858</td>\n",
       "      <td>0.921601</td>\n",
       "      <td>1.942105</td>\n",
       "      <td>0.436334</td>\n",
       "      <td>2.619676</td>\n",
       "    </tr>\n",
       "    <tr>\n",
       "      <th>min</th>\n",
       "      <td>3.000000</td>\n",
       "      <td>3.000000e+04</td>\n",
       "      <td>0.000181</td>\n",
       "      <td>5.250000e+02</td>\n",
       "      <td>7.600000e+01</td>\n",
       "      <td>55.000000</td>\n",
       "      <td>0.000000</td>\n",
       "      <td>0.000000e+00</td>\n",
       "      <td>0.000000</td>\n",
       "      <td>0.000000</td>\n",
       "      <td>...</td>\n",
       "      <td>3.900000e+01</td>\n",
       "      <td>1.160000e+03</td>\n",
       "      <td>0.000000</td>\n",
       "      <td>0.000000</td>\n",
       "      <td>1.945910</td>\n",
       "      <td>3.663562</td>\n",
       "      <td>0.000012</td>\n",
       "      <td>-11.346477</td>\n",
       "      <td>0.000006</td>\n",
       "      <td>-11.959746</td>\n",
       "    </tr>\n",
       "    <tr>\n",
       "      <th>25%</th>\n",
       "      <td>6.100000</td>\n",
       "      <td>5.025000e+06</td>\n",
       "      <td>0.229292</td>\n",
       "      <td>1.096977e+07</td>\n",
       "      <td>5.916931e+06</td>\n",
       "      <td>99.000000</td>\n",
       "      <td>3.760000</td>\n",
       "      <td>2.808500e+03</td>\n",
       "      <td>218.500000</td>\n",
       "      <td>224.000000</td>\n",
       "      <td>...</td>\n",
       "      <td>3.100000e+03</td>\n",
       "      <td>1.330000e+05</td>\n",
       "      <td>0.010000</td>\n",
       "      <td>0.001200</td>\n",
       "      <td>6.021023</td>\n",
       "      <td>8.039157</td>\n",
       "      <td>0.005467</td>\n",
       "      <td>-5.209122</td>\n",
       "      <td>0.001168</td>\n",
       "      <td>-6.752070</td>\n",
       "    </tr>\n",
       "    <tr>\n",
       "      <th>50%</th>\n",
       "      <td>6.700000</td>\n",
       "      <td>1.800000e+07</td>\n",
       "      <td>4.163623</td>\n",
       "      <td>3.011468e+07</td>\n",
       "      <td>2.450694e+07</td>\n",
       "      <td>110.000000</td>\n",
       "      <td>3.920000</td>\n",
       "      <td>2.513900e+04</td>\n",
       "      <td>1314.000000</td>\n",
       "      <td>308.000000</td>\n",
       "      <td>...</td>\n",
       "      <td>2.430000e+04</td>\n",
       "      <td>1.720000e+07</td>\n",
       "      <td>0.020000</td>\n",
       "      <td>0.009200</td>\n",
       "      <td>7.859413</td>\n",
       "      <td>10.098232</td>\n",
       "      <td>0.017820</td>\n",
       "      <td>-4.027413</td>\n",
       "      <td>0.009167</td>\n",
       "      <td>-4.692182</td>\n",
       "    </tr>\n",
       "    <tr>\n",
       "      <th>75%</th>\n",
       "      <td>7.350000</td>\n",
       "      <td>3.575000e+07</td>\n",
       "      <td>11.515790</td>\n",
       "      <td>3.534301e+07</td>\n",
       "      <td>8.420588e+07</td>\n",
       "      <td>125.000000</td>\n",
       "      <td>4.070000</td>\n",
       "      <td>1.691815e+05</td>\n",
       "      <td>5807.000000</td>\n",
       "      <td>401.000000</td>\n",
       "      <td>...</td>\n",
       "      <td>6.210000e+05</td>\n",
       "      <td>1.690000e+08</td>\n",
       "      <td>0.060000</td>\n",
       "      <td>0.059600</td>\n",
       "      <td>10.561008</td>\n",
       "      <td>13.339086</td>\n",
       "      <td>0.068059</td>\n",
       "      <td>-2.687405</td>\n",
       "      <td>0.059615</td>\n",
       "      <td>-2.819842</td>\n",
       "    </tr>\n",
       "    <tr>\n",
       "      <th>max</th>\n",
       "      <td>9.200000</td>\n",
       "      <td>2.500000e+08</td>\n",
       "      <td>152.535747</td>\n",
       "      <td>4.080107e+08</td>\n",
       "      <td>1.033927e+09</td>\n",
       "      <td>280.000000</td>\n",
       "      <td>4.700000</td>\n",
       "      <td>7.292896e+06</td>\n",
       "      <td>173808.000000</td>\n",
       "      <td>1463.000000</td>\n",
       "      <td>...</td>\n",
       "      <td>1.860000e+09</td>\n",
       "      <td>1.220000e+09</td>\n",
       "      <td>2.420000</td>\n",
       "      <td>6.589700</td>\n",
       "      <td>18.403535</td>\n",
       "      <td>21.343842</td>\n",
       "      <td>26.369863</td>\n",
       "      <td>3.272222</td>\n",
       "      <td>6.589744</td>\n",
       "      <td>1.885514</td>\n",
       "    </tr>\n",
       "  </tbody>\n",
       "</table>\n",
       "<p>8 rows × 32 columns</p>\n",
       "</div>"
      ],
      "text/plain": [
       "            rating        budget  opening_weekend_usa     gross_usa  \\\n",
       "count  1135.000000  8.300000e+02           713.000000  1.135000e+03   \n",
       "mean      6.667313  2.846106e+07             9.598797  3.740295e+07   \n",
       "std       0.905118  3.429356e+07            16.664456  4.785715e+07   \n",
       "min       3.000000  3.000000e+04             0.000181  5.250000e+02   \n",
       "25%       6.100000  5.025000e+06             0.229292  1.096977e+07   \n",
       "50%       6.700000  1.800000e+07             4.163623  3.011468e+07   \n",
       "75%       7.350000  3.575000e+07            11.515790  3.534301e+07   \n",
       "max       9.200000  2.500000e+08           152.535747  4.080107e+08   \n",
       "\n",
       "        gross_world      runtime  rating_value_b  rating_count_b  \\\n",
       "count  8.420000e+02  1124.000000     1135.000000    1.135000e+03   \n",
       "mean   7.753742e+07   113.920819        3.875551    2.312974e+05   \n",
       "std    1.450034e+08    23.305856        0.393255    5.965459e+05   \n",
       "min    7.600000e+01    55.000000        0.000000    0.000000e+00   \n",
       "25%    5.916931e+06    99.000000        3.760000    2.808500e+03   \n",
       "50%    2.450694e+07   110.000000        3.920000    2.513900e+04   \n",
       "75%    8.420588e+07   125.000000        4.070000    1.691815e+05   \n",
       "max    1.033927e+09   280.000000        4.700000    7.292896e+06   \n",
       "\n",
       "       review_count_b         page  ...  author_search  search_fiction_author  \\\n",
       "count     1135.000000  1106.000000  ...   8.810000e+02           8.810000e+02   \n",
       "mean      7510.383260   332.676311  ...   2.068350e+07           1.636476e+08   \n",
       "std      16791.442166   171.545723  ...   1.140401e+08           2.688862e+08   \n",
       "min          0.000000     0.000000  ...   3.900000e+01           1.160000e+03   \n",
       "25%        218.500000   224.000000  ...   3.100000e+03           1.330000e+05   \n",
       "50%       1314.000000   308.000000  ...   2.430000e+04           1.720000e+07   \n",
       "75%       5807.000000   401.000000  ...   6.210000e+05           1.690000e+08   \n",
       "max     173808.000000  1463.000000  ...   1.860000e+09           1.220000e+09   \n",
       "\n",
       "       book_popularity  author_popularity  log_book_search  log_author_search  \\\n",
       "count       872.000000         881.000000       881.000000         881.000000   \n",
       "mean          0.086892           0.124288         8.561603          10.932581   \n",
       "std           0.220079           0.436333         3.326120           3.810858   \n",
       "min           0.000000           0.000000         1.945910           3.663562   \n",
       "25%           0.010000           0.001200         6.021023           8.039157   \n",
       "50%           0.020000           0.009200         7.859413          10.098232   \n",
       "75%           0.060000           0.059600        10.561008          13.339086   \n",
       "max           2.420000           6.589700        18.403535          21.343842   \n",
       "\n",
       "       book_popularity_test  log_book_popularity  author_popularity_test  \\\n",
       "count            880.000000           880.000000              881.000000   \n",
       "mean               0.122211            -4.003152                0.124289   \n",
       "std                0.921601             1.942105                0.436334   \n",
       "min                0.000012           -11.346477                0.000006   \n",
       "25%                0.005467            -5.209122                0.001168   \n",
       "50%                0.017820            -4.027413                0.009167   \n",
       "75%                0.068059            -2.687405                0.059615   \n",
       "max               26.369863             3.272222                6.589744   \n",
       "\n",
       "       log_author_popularity  \n",
       "count             881.000000  \n",
       "mean               -4.736478  \n",
       "std                 2.619676  \n",
       "min               -11.959746  \n",
       "25%                -6.752070  \n",
       "50%                -4.692182  \n",
       "75%                -2.819842  \n",
       "max                 1.885514  \n",
       "\n",
       "[8 rows x 32 columns]"
      ]
     },
     "execution_count": 26,
     "metadata": {},
     "output_type": "execute_result"
    }
   ],
   "source": [
    "all_df.describe()"
   ]
  },
  {
   "cell_type": "code",
   "execution_count": 6,
   "metadata": {},
   "outputs": [],
   "source": [
    "# all_df.country"
   ]
  },
  {
   "cell_type": "code",
   "execution_count": 37,
   "metadata": {},
   "outputs": [],
   "source": [
    "all_df['release_year'] = all_df['release_date'].dt.year\n",
    "all_df['years_apart'] = all_df['release_year']-all_df['publish_year']"
   ]
  },
  {
   "cell_type": "code",
   "execution_count": 38,
   "metadata": {},
   "outputs": [],
   "source": [
    "all_df.rename(columns={'certificate':'MPAA'},inplace=True)\n",
    "all_df.drop_duplicates(subset=['movie_title','release_year'],inplace=True)"
   ]
  },
  {
   "cell_type": "code",
   "execution_count": 39,
   "metadata": {},
   "outputs": [],
   "source": [
    "# Find top 100 actors\n",
    "all_df_actor = all_df['actor'].str.join(sep='*').str.get_dummies(sep='*')\n",
    "actor_list = (all_df_actor.sum()).sort_values(ascending=False).index.tolist()[:100]\n",
    "# actor_list"
   ]
  },
  {
   "cell_type": "code",
   "execution_count": 40,
   "metadata": {},
   "outputs": [
    {
     "name": "stdout",
     "output_type": "stream",
     "text": [
      "<class 'pandas.core.frame.DataFrame'>\n",
      "Int64Index: 708 entries, 0 to 1516\n",
      "Data columns (total 48 columns):\n",
      " #   Column                  Non-Null Count  Dtype         \n",
      "---  ------                  --------------  -----         \n",
      " 0   movie_title             708 non-null    object        \n",
      " 1   rating                  708 non-null    float64       \n",
      " 2   MPAA                    708 non-null    object        \n",
      " 3   genre                   708 non-null    object        \n",
      " 4   release_date            708 non-null    datetime64[ns]\n",
      " 5   budget                  591 non-null    float64       \n",
      " 6   opening_weekend_usa     708 non-null    float64       \n",
      " 7   gross_usa               708 non-null    float64       \n",
      " 8   gross_world             707 non-null    float64       \n",
      " 9   runtime                 703 non-null    float64       \n",
      " 10  director                708 non-null    object        \n",
      " 11  writer                  708 non-null    object        \n",
      " 12  actor                   708 non-null    object        \n",
      " 13  distributor             707 non-null    object        \n",
      " 14  language                708 non-null    object        \n",
      " 15  country                 708 non-null    object        \n",
      " 16  author                  708 non-null    object        \n",
      " 17  rating_value_b          708 non-null    float64       \n",
      " 18  rating_count_b          708 non-null    float64       \n",
      " 19  review_count_b          708 non-null    float64       \n",
      " 20  page                    696 non-null    float64       \n",
      " 21  publish_year            708 non-null    float64       \n",
      " 22  title_x                 708 non-null    object        \n",
      " 23  book_popularity_x       708 non-null    float64       \n",
      " 24  author_popularity_x     708 non-null    float64       \n",
      " 25  release_year            708 non-null    int64         \n",
      " 26  count_a                 708 non-null    int64         \n",
      " 27  release_month           708 non-null    int64         \n",
      " 28  dow                     708 non-null    int64         \n",
      " 29  film_count_d            708 non-null    int64         \n",
      " 30  avg_rating_d            708 non-null    float64       \n",
      " 31  avg_gross_d             708 non-null    int64         \n",
      " 32  title_y                 620 non-null    object        \n",
      " 33  genre_y                 620 non-null    object        \n",
      " 34  title_search            620 non-null    float64       \n",
      " 35  search_fiction_book     619 non-null    float64       \n",
      " 36  author_search           620 non-null    float64       \n",
      " 37  search_fiction_author   620 non-null    float64       \n",
      " 38  book_popularity         615 non-null    float64       \n",
      " 39  author_popularity       620 non-null    float64       \n",
      " 40  log_book_search         620 non-null    float64       \n",
      " 41  log_author_search       620 non-null    float64       \n",
      " 42  book_popularity_test    619 non-null    float64       \n",
      " 43  log_book_popularity     619 non-null    float64       \n",
      " 44  author_popularity_test  620 non-null    float64       \n",
      " 45  log_author_popularity   620 non-null    float64       \n",
      " 46  years apart             708 non-null    float64       \n",
      " 47  years_apart             708 non-null    float64       \n",
      "dtypes: datetime64[ns](1), float64(28), int64(6), object(13)\n",
      "memory usage: 271.0+ KB\n"
     ]
    }
   ],
   "source": [
    "# Remove outliers\n",
    "all_df = all_df[all_df.opening_weekend_usa < 100]\n",
    "all_df = all_df[all_df.movie_title != \"Kiki's Delivery Service\"]\n",
    "# all_df = all_df[all_df.movie_title.isin(res_movie)]\n",
    "all_df.info()"
   ]
  },
  {
   "cell_type": "code",
   "execution_count": 31,
   "metadata": {},
   "outputs": [],
   "source": [
    "# all_df = all_df[all_df.movie_title.isin(res_movie) == False]"
   ]
  },
  {
   "cell_type": "code",
   "execution_count": null,
   "metadata": {},
   "outputs": [],
   "source": []
  },
  {
   "cell_type": "code",
   "execution_count": 41,
   "metadata": {},
   "outputs": [],
   "source": [
    "cat_feature = ['MPAA','genre','distributor','language','country']\n",
    "# con_feature = ['budget','runtime','film_count_d','avg_rating_d','avg_gross_d','T_movie_age']\n",
    "# con_book_feature = ['T_book_age','publish_year','page','log_book_popularity','log_author_popularity']\n",
    "con_feature = ['budget','runtime','film_count_d','avg_rating_d','avg_gross_d','release_year']\n",
    "con_book_feature = ['years_apart','publish_year','page','log_book_popularity','log_author_popularity','count_a']\n",
    "target_candidate = ['opening_weekend_usa','log_owu','gross_usa','gross_world','rating']\n",
    "\n",
    "potential_feature = ['rating_value_b','rating_count_b','review_count_b']"
   ]
  },
  {
   "cell_type": "code",
   "execution_count": 42,
   "metadata": {},
   "outputs": [],
   "source": [
    "# Choose only the continuous variables for now\n",
    "\n",
    "cc_df = all_df[['opening_weekend_usa'] + con_feature + con_book_feature + cat_feature].copy()\n",
    "c_movie_df = all_df[['opening_weekend_usa'] + con_feature].copy() # only continuous features for movie\n",
    "c_all_df = all_df[['opening_weekend_usa'] + con_feature + con_book_feature].copy() # continuous features both movie and book"
   ]
  },
  {
   "cell_type": "code",
   "execution_count": null,
   "metadata": {},
   "outputs": [],
   "source": [
    "# c_df.describe()"
   ]
  },
  {
   "cell_type": "code",
   "execution_count": null,
   "metadata": {},
   "outputs": [],
   "source": [
    "# cc_df.info()"
   ]
  },
  {
   "cell_type": "code",
   "execution_count": null,
   "metadata": {},
   "outputs": [],
   "source": [
    "# sns.pairplot(c_movie_df[['opening_weekend_usa','budget','release_year','runtime']], plot_kws=dict(alpha=.1, edgecolor='none'))\n",
    "sns.pairplot(c_movie_df[['budget','release_year','runtime','opening_weekend_usa']],plot_kws=dict(alpha=.1))"
   ]
  },
  {
   "cell_type": "code",
   "execution_count": null,
   "metadata": {},
   "outputs": [],
   "source": [
    "c_movie_df.info()"
   ]
  },
  {
   "cell_type": "code",
   "execution_count": null,
   "metadata": {},
   "outputs": [],
   "source": []
  },
  {
   "cell_type": "code",
   "execution_count": null,
   "metadata": {},
   "outputs": [],
   "source": []
  },
  {
   "cell_type": "code",
   "execution_count": null,
   "metadata": {},
   "outputs": [],
   "source": []
  },
  {
   "cell_type": "code",
   "execution_count": null,
   "metadata": {},
   "outputs": [],
   "source": [
    "scatter_df = all_df[['budget','release_year','runtime','opening_weekend_usa']].copy()\n",
    "scatter_df['budget'] = scatter_df['budget']/1e6\n",
    "scatter_df.rename(columns={'budget': 'Budget($M)', 'release_year':'Year of release', 'runtime':'Runtime (min)',\\\n",
    "'opening_weekend_usa': 'Opening Weekend in USA ($M)'},inplace=True)\n",
    "fig = sns.pairplot(scatter_df,plot_kws=dict(alpha=.1))\n",
    "    \n",
    "# for i in range(len(xlabels)):\n",
    "#     for j in range(len(ylabels)):\n",
    "#         g.axes[j,i].xaxis.set_label_text(xlabels[i])\n",
    "#         g.axes[j,i].yaxis.set_label_text(ylabels[j])\n",
    "\n",
    "# xlabels = ['budget(USD)','release year','runtime(min)','opening_weekend_usa ($M)']\n",
    "# ylabels = ['budget(USD)','release year','runtime(min)','opening_weekend_usa ($M)']\n",
    "\n",
    "\n",
    "# i=3\n",
    "# for j in range(len(ylabels)):\n",
    "#         g.axes[j,i].xaxis.set_label_text(xlabels[i])\n",
    "#         g.axes[j,i].yaxis.set_label_text(ylabels[j])\n",
    "\n",
    "plt.show()"
   ]
  },
  {
   "cell_type": "code",
   "execution_count": null,
   "metadata": {},
   "outputs": [],
   "source": [
    "fig.savefig('../plot/pairplot.pdf', bbox_inches='tight', transparent = True)"
   ]
  },
  {
   "cell_type": "code",
   "execution_count": null,
   "metadata": {},
   "outputs": [],
   "source": []
  },
  {
   "cell_type": "code",
   "execution_count": null,
   "metadata": {},
   "outputs": [],
   "source": []
  },
  {
   "cell_type": "markdown",
   "metadata": {},
   "source": [
    "### Baseline Model\n",
    "Only consider the continuous predictors and use 'opening_weekend_usa'."
   ]
  },
  {
   "cell_type": "code",
   "execution_count": 43,
   "metadata": {},
   "outputs": [],
   "source": [
    "# Separate features and target variable\n",
    "\n",
    "def get_Xy(df):\n",
    "    \n",
    "    df = df.dropna()\n",
    "    \n",
    "    target = 'opening_weekend_usa'\n",
    "#     target = 'rating'\n",
    "#     target = 'gross_usa'\n",
    "    all_column = df.columns.values.tolist()\n",
    "    all_column.remove(target)\n",
    "\n",
    "    y = df[target]\n",
    "    X = df[all_column]\n",
    "    \n",
    "    return X, y"
   ]
  },
  {
   "cell_type": "code",
   "execution_count": 65,
   "metadata": {},
   "outputs": [],
   "source": [
    "X, y = get_Xy(c_movie_df)"
   ]
  },
  {
   "cell_type": "code",
   "execution_count": 68,
   "metadata": {},
   "outputs": [],
   "source": [
    "X, y = get_Xy(c_all_df)"
   ]
  },
  {
   "cell_type": "code",
   "execution_count": 53,
   "metadata": {},
   "outputs": [],
   "source": [
    "def split_and_validate(X, y):\n",
    "    '''\n",
    "    For a set of features and target X, y, perform a 80/20 train/val split, \n",
    "    fit and validate a linear regression model, and report results\n",
    "    '''\n",
    "    \n",
    "#     # perform train/val split\n",
    "#     X_train, X_val, y_train, y_val = \\\n",
    "#         train_test_split(X, y, test_size=0.2, random_state=25)\n",
    "\n",
    "    # train/val/test split\n",
    "    # holding test set\n",
    "    X_, X_test, y_, y_test = train_test_split(X, y, test_size=.2, random_state=20)\n",
    "    X_train, X_val, y_train, y_val = train_test_split(X_, y_, test_size=.25, random_state=21)\n",
    "    \n",
    "    # fit linear regression to training data\n",
    "    lr_model = LinearRegression()\n",
    "    lr_model.fit(X_train, y_train)\n",
    "    y_pred = lr_model.predict(X_val)\n",
    "    \n",
    "    # score fit model on validation data\n",
    "    train_score = lr_model.score(X_train, y_train)\n",
    "    val_score = lr_model.score(X_val, y_val)\n",
    "#     rmse = np.sqrt(mean_squared_error(y_val, y_pred))\n",
    "    \n",
    "    \n",
    "    # report results\n",
    "    print('\\nTrain R^2 score was:', train_score)\n",
    "    print('Validation R^2 score was:', val_score)\n",
    "    print('Feature coefficient results: \\n')\n",
    "#     print(f'RMSE: {rmse:.2f}')\n",
    "    for feature, coef in zip(X.columns, lr_model.coef_):\n",
    "        print(feature, ':', f'{coef:.2f}')\n",
    "        \n",
    "    \n",
    "    # Visualization\n",
    "    fig, ax = plt.subplots(1, 1)\n",
    "    plt.scatter(y_val, y_pred, alpha=0.4)\n",
    "\n",
    "    ax.set_xlabel('Opening weekend revenue (USD)',fontsize=20)\n",
    "    ax.set_ylabel('Prediction (USD)',fontsize=20)\n",
    "    ax.set_title('R$^2$: %0.2f' % val_score, fontsize=20)\n",
    "\n",
    "    plt.xticks(fontsize=16)\n",
    "    plt.yticks(fontsize=16)\n",
    "\n",
    "#     ax.set_xticks([0,0.2e8,0.4e8,0.6e8,0.8e8])\n",
    "#     ax.set_xticklabels(['0','20M','40M','60M','80M'])\n",
    "#     ax.set_yticks([0,0.1e8,0.2e8,0.3e8,0.4e8,0.5e8,0.6e8,0.7e8])\n",
    "#     ax.set_yticklabels(['0','10M','20M','30M','40M','50M','60M','70M'])\n",
    "\n",
    "    x=np.linspace(0,0.7e2,50)\n",
    "#     x=np.linspace(4,9,50)\n",
    "    \n",
    "    y=x\n",
    "    plt.plot(x,y,color='firebrick',linewidth=3,alpha=0.6)\n",
    "    plt.ylim(0,)\n",
    "    plt.xlim(0,)\n",
    "    return fig"
   ]
  },
  {
   "cell_type": "code",
   "execution_count": 66,
   "metadata": {},
   "outputs": [
    {
     "name": "stdout",
     "output_type": "stream",
     "text": [
      "\n",
      "Train R^2 score was: 0.44727559341990897\n",
      "Validation R^2 score was: 0.37407604639710657\n",
      "Feature coefficient results: \n",
      "\n",
      "budget : 0.00\n",
      "runtime : 0.04\n",
      "film_count_d : -0.01\n",
      "avg_rating_d : -1.52\n",
      "avg_gross_d : 0.00\n",
      "release_year : 0.07\n"
     ]
    },
    {
     "data": {
      "image/png": "[encoded data removed]",
      "text/plain": [
       "<Figure size 432x288 with 1 Axes>"
      ]
     },
     "metadata": {},
     "output_type": "display_data"
    }
   ],
   "source": [
    "# Reports for model with all features\n",
    "fig = split_and_validate(X,y)"
   ]
  },
  {
   "cell_type": "code",
   "execution_count": 67,
   "metadata": {},
   "outputs": [],
   "source": [
    "fig.savefig('../plot/lr_prediction_m.pdf', bbox_inches='tight', transparent = True)"
   ]
  },
  {
   "cell_type": "code",
   "execution_count": 69,
   "metadata": {},
   "outputs": [
    {
     "name": "stdout",
     "output_type": "stream",
     "text": [
      "\n",
      "Train R^2 score was: 0.48815902816186285\n",
      "Validation R^2 score was: 0.42104360425138043\n",
      "Feature coefficient results: \n",
      "\n",
      "budget : 0.00\n",
      "runtime : 0.01\n",
      "film_count_d : -0.10\n",
      "avg_rating_d : -1.59\n",
      "avg_gross_d : 0.00\n",
      "release_year : 0.04\n",
      "years_apart : 0.01\n",
      "publish_year : 0.03\n",
      "page : 0.00\n",
      "log_book_popularity : 0.30\n",
      "log_author_popularity : 0.35\n",
      "count_a : 0.03\n"
     ]
    },
    {
     "data": {
      "image/png": "[encoded data removed]",
      "text/plain": [
       "<Figure size 432x288 with 1 Axes>"
      ]
     },
     "metadata": {},
     "output_type": "display_data"
    }
   ],
   "source": [
    "# Reports for model with all features\n",
    "fig = split_and_validate(X,y)"
   ]
  },
  {
   "cell_type": "code",
   "execution_count": 70,
   "metadata": {},
   "outputs": [],
   "source": [
    "fig.savefig('../plot/lr_prediction_b.pdf', bbox_inches='tight', transparent = True)"
   ]
  },
  {
   "cell_type": "code",
   "execution_count": null,
   "metadata": {},
   "outputs": [],
   "source": [
    "# # Reports for model with features of movie only\n",
    "# X, y = get_Xy(c_movie_df)\n",
    "# split_and_validate(X,y)"
   ]
  },
  {
   "cell_type": "code",
   "execution_count": null,
   "metadata": {},
   "outputs": [],
   "source": []
  },
  {
   "cell_type": "code",
   "execution_count": 100,
   "metadata": {},
   "outputs": [],
   "source": [
    "def get_score(X_train,X_val,y_train,y_val):\n",
    "    \n",
    "    # fit linear regression to training data\n",
    "    lr_model = LinearRegression()\n",
    "    lr_model.fit(X_train, y_train)\n",
    "    y_pred = lr_model.predict(X_val)\n",
    "    \n",
    "    # score fit model on validation data\n",
    "    train_score = lr_model.score(X_train, y_train)\n",
    "    val_score = lr_model.score(X_val, y_val)\n",
    "#     rmse = np.sqrt(mean_squared_error(y_val, y_pred))\n",
    "    \n",
    "    \n",
    "    # report results\n",
    "    print('\\nTrain R^2 score was:', train_score)\n",
    "    print('Validation R^2 score was:', val_score)\n",
    "    print('Feature coefficient results: \\n')\n",
    "#     print(f'RMSE: {rmse:.2f}')\n",
    "    for feature, coef in zip(X.columns, lr_model.coef_):\n",
    "        print(feature, ':', f'{coef:.2f}')\n",
    "        \n",
    "    \n",
    "    # Visualization\n",
    "    fig, ax = plt.subplots(1, 1)\n",
    "    plt.scatter(y_val, y_pred, alpha=0.4)\n",
    "\n",
    "    ax.set_xlabel('Opening weekend revenue (USD)',fontsize=20)\n",
    "    ax.set_ylabel('Prediction (USD)',fontsize=20)\n",
    "    ax.set_title('R$^2$: %0.2f' % val_score, fontsize=20)\n",
    "\n",
    "    plt.xticks(fontsize=16)\n",
    "    plt.yticks(fontsize=16)\n",
    "\n",
    "#     ax.set_xticks([0,0.2e8,0.4e8,0.6e8,0.8e8])\n",
    "#     ax.set_xticklabels(['0','20M','40M','60M','80M'])\n",
    "#     ax.set_yticks([0,0.1e8,0.2e8,0.3e8,0.4e8,0.5e8,0.6e8,0.7e8])\n",
    "#     ax.set_yticklabels(['0','10M','20M','30M','40M','50M','60M','70M'])\n",
    "\n",
    "    x=np.linspace(0,0.7e2,50)\n",
    "#     x=np.linspace(4,9,50)\n",
    "    \n",
    "    y=x\n",
    "    plt.plot(x,y,color='firebrick',linewidth=3,alpha=0.6)\n",
    "    plt.ylim(0,)\n",
    "    plt.xlim(0,)\n",
    "    return fig"
   ]
  },
  {
   "cell_type": "code",
   "execution_count": null,
   "metadata": {},
   "outputs": [],
   "source": [
    "X_, X_test, y_, y_test = train_test_split(X, y, test_size=.2, random_state=20)\n",
    "X_train, X_val, y_train, y_val = train_test_split(X_, y_, test_size=.25, random_state=21)"
   ]
  },
  {
   "cell_type": "code",
   "execution_count": null,
   "metadata": {},
   "outputs": [],
   "source": [
    "fig = get_score(X_train,X_val,y_train,y_val)"
   ]
  },
  {
   "cell_type": "code",
   "execution_count": null,
   "metadata": {},
   "outputs": [],
   "source": [
    "fig.savefig('../plot/lr_prediction_.pdf', bbox_inches='tight', transparent = True)"
   ]
  },
  {
   "cell_type": "markdown",
   "metadata": {},
   "source": [
    "### Cross-validation"
   ]
  },
  {
   "cell_type": "code",
   "execution_count": null,
   "metadata": {},
   "outputs": [],
   "source": [
    "# Will not use X_test, y_test\n",
    "lr = LinearRegression()\n",
    "\n",
    "X, y = get_Xy(c_movie_df)\n",
    "\n",
    "X_, X_test, y_, y_test = train_test_split(X, y, test_size=.2, random_state=20)\n",
    "X_train, X_val, y_train, y_val = train_test_split(X, y, test_size=.25, random_state=21)\n",
    "result = cross_val_score(lr, X_train, y_train, # estimator, features, target\n",
    "                cv=5, # number of folds \n",
    "                scoring='r2') # scoring metric\n",
    "# mean of val_score\n",
    "print(\"Meam of validation score is:\", np.mean(result))\n",
    "print(result)"
   ]
  },
  {
   "cell_type": "code",
   "execution_count": null,
   "metadata": {},
   "outputs": [],
   "source": []
  },
  {
   "cell_type": "code",
   "execution_count": null,
   "metadata": {},
   "outputs": [],
   "source": [
    "# result = cross_val_score(lr, X_train, y_train, # estimator, features, target\n",
    "#                 cv=5, # number of folds \n",
    "#                 scoring='r2') # scoring metric"
   ]
  },
  {
   "cell_type": "code",
   "execution_count": null,
   "metadata": {},
   "outputs": [],
   "source": [
    "# # mean of val_score\n",
    "# print(\"Meam of validation score is:\", np.mean(result))\n",
    "# print(result)"
   ]
  },
  {
   "cell_type": "code",
   "execution_count": null,
   "metadata": {},
   "outputs": [],
   "source": [
    "cross_val_score()"
   ]
  },
  {
   "cell_type": "code",
   "execution_count": null,
   "metadata": {},
   "outputs": [],
   "source": []
  },
  {
   "cell_type": "markdown",
   "metadata": {},
   "source": [
    "### Find outliers and evaluate the model again"
   ]
  },
  {
   "cell_type": "code",
   "execution_count": null,
   "metadata": {},
   "outputs": [],
   "source": []
  },
  {
   "cell_type": "code",
   "execution_count": 84,
   "metadata": {},
   "outputs": [],
   "source": [
    "c_all_df['rating_b'] = all_df['rating_value_b']"
   ]
  },
  {
   "cell_type": "code",
   "execution_count": 85,
   "metadata": {},
   "outputs": [
    {
     "name": "stdout",
     "output_type": "stream",
     "text": [
      "<class 'pandas.core.frame.DataFrame'>\n",
      "Int64Index: 708 entries, 0 to 1516\n",
      "Data columns (total 14 columns):\n",
      " #   Column                 Non-Null Count  Dtype  \n",
      "---  ------                 --------------  -----  \n",
      " 0   opening_weekend_usa    708 non-null    float64\n",
      " 1   budget                 591 non-null    float64\n",
      " 2   runtime                703 non-null    float64\n",
      " 3   film_count_d           708 non-null    int64  \n",
      " 4   avg_rating_d           708 non-null    float64\n",
      " 5   avg_gross_d            708 non-null    int64  \n",
      " 6   release_year           708 non-null    int64  \n",
      " 7   years_apart            708 non-null    float64\n",
      " 8   publish_year           708 non-null    float64\n",
      " 9   page                   696 non-null    float64\n",
      " 10  log_book_popularity    619 non-null    float64\n",
      " 11  log_author_popularity  620 non-null    float64\n",
      " 12  count_a                708 non-null    int64  \n",
      " 13  rating_b               708 non-null    float64\n",
      "dtypes: float64(10), int64(4)\n",
      "memory usage: 83.0 KB\n"
     ]
    }
   ],
   "source": [
    "c_all_df.info()"
   ]
  },
  {
   "cell_type": "markdown",
   "metadata": {},
   "source": [
    "## 2. Basic Feature Engineering"
   ]
  },
  {
   "cell_type": "markdown",
   "metadata": {},
   "source": [
    "### Split the data set into Train / Validation / Test sets"
   ]
  },
  {
   "cell_type": "code",
   "execution_count": 86,
   "metadata": {},
   "outputs": [],
   "source": [
    "# Choose df\n",
    "# X, y = get_Xy(c_movie_df)\n",
    "X, y = get_Xy(c_all_df)\n",
    "\n",
    "# train_test_split\n",
    "X_, X_test, y_, y_test = train_test_split(X, y, test_size=.2, random_state=20)\n",
    "X_train, X_val, y_train, y_val = train_test_split(X_, y_, test_size=.25, random_state=21)"
   ]
  },
  {
   "cell_type": "markdown",
   "metadata": {},
   "source": [
    "### * Scaled Features"
   ]
  },
  {
   "cell_type": "code",
   "execution_count": 87,
   "metadata": {},
   "outputs": [],
   "source": [
    "scaler = StandardScaler()\n",
    "\n",
    "X_train_scaled = scaler.fit_transform(X_train.values)\n",
    "X_val_scaled = scaler.transform(X_val.values)\n",
    "X_test_scaled = scaler.transform(X_test.values)"
   ]
  },
  {
   "cell_type": "code",
   "execution_count": 88,
   "metadata": {},
   "outputs": [
    {
     "data": {
      "text/plain": [
       "(0.49254929591667385, 0.43524181346432145)"
      ]
     },
     "execution_count": 88,
     "metadata": {},
     "output_type": "execute_result"
    }
   ],
   "source": [
    "lr = LinearRegression()\n",
    "lr.fit(X_train_scaled,y_train)\n",
    "lr.score(X_train_scaled,y_train), lr.score(scaler.transform(X_val),y_val)"
   ]
  },
  {
   "cell_type": "code",
   "execution_count": 89,
   "metadata": {},
   "outputs": [
    {
     "data": {
      "text/plain": [
       "array([ 9.18263698e+00,  7.49504050e-03, -7.17272441e-01, -7.66139872e-01,\n",
       "        1.58606481e+00,  6.83533422e-01, -1.31547014e-01,  3.72299237e-01,\n",
       "        4.44113578e-01,  4.09554801e-01,  8.72686723e-01,  8.15679012e-01,\n",
       "        1.05379010e+00])"
      ]
     },
     "execution_count": 89,
     "metadata": {},
     "output_type": "execute_result"
    }
   ],
   "source": [
    "lr.coef_"
   ]
  },
  {
   "cell_type": "code",
   "execution_count": 93,
   "metadata": {},
   "outputs": [
    {
     "data": {
      "text/html": [
       "<div>\n",
       "<style scoped>\n",
       "    .dataframe tbody tr th:only-of-type {\n",
       "        vertical-align: middle;\n",
       "    }\n",
       "\n",
       "    .dataframe tbody tr th {\n",
       "        vertical-align: top;\n",
       "    }\n",
       "\n",
       "    .dataframe thead th {\n",
       "        text-align: right;\n",
       "    }\n",
       "</style>\n",
       "<table border=\"1\" class=\"dataframe\">\n",
       "  <thead>\n",
       "    <tr style=\"text-align: right;\">\n",
       "      <th></th>\n",
       "      <th>Feature</th>\n",
       "      <th>Coefficient</th>\n",
       "    </tr>\n",
       "  </thead>\n",
       "  <tbody>\n",
       "    <tr>\n",
       "      <th>budget</th>\n",
       "      <td>budget</td>\n",
       "      <td>9.182637</td>\n",
       "    </tr>\n",
       "    <tr>\n",
       "      <th>avg_gross_d</th>\n",
       "      <td>avg_gross_d</td>\n",
       "      <td>1.586065</td>\n",
       "    </tr>\n",
       "    <tr>\n",
       "      <th>rating</th>\n",
       "      <td>rating</td>\n",
       "      <td>1.053790</td>\n",
       "    </tr>\n",
       "    <tr>\n",
       "      <th>log_author_popularity</th>\n",
       "      <td>log_author_popularity</td>\n",
       "      <td>0.872687</td>\n",
       "    </tr>\n",
       "    <tr>\n",
       "      <th>count_a</th>\n",
       "      <td>count_a</td>\n",
       "      <td>0.815679</td>\n",
       "    </tr>\n",
       "    <tr>\n",
       "      <th>release_year</th>\n",
       "      <td>release_year</td>\n",
       "      <td>0.683533</td>\n",
       "    </tr>\n",
       "    <tr>\n",
       "      <th>page</th>\n",
       "      <td>page</td>\n",
       "      <td>0.444114</td>\n",
       "    </tr>\n",
       "    <tr>\n",
       "      <th>log_book_popularity</th>\n",
       "      <td>log_book_popularity</td>\n",
       "      <td>0.409555</td>\n",
       "    </tr>\n",
       "    <tr>\n",
       "      <th>publish_year</th>\n",
       "      <td>publish_year</td>\n",
       "      <td>0.372299</td>\n",
       "    </tr>\n",
       "    <tr>\n",
       "      <th>runtime</th>\n",
       "      <td>runtime</td>\n",
       "      <td>0.007495</td>\n",
       "    </tr>\n",
       "    <tr>\n",
       "      <th>years_apart</th>\n",
       "      <td>years_apart</td>\n",
       "      <td>-0.131547</td>\n",
       "    </tr>\n",
       "    <tr>\n",
       "      <th>film_count_d</th>\n",
       "      <td>film_count_d</td>\n",
       "      <td>-0.717272</td>\n",
       "    </tr>\n",
       "    <tr>\n",
       "      <th>avg_rating_d</th>\n",
       "      <td>avg_rating_d</td>\n",
       "      <td>-0.766140</td>\n",
       "    </tr>\n",
       "  </tbody>\n",
       "</table>\n",
       "</div>"
      ],
      "text/plain": [
       "                                     Feature  Coefficient\n",
       "budget                                budget     9.182637\n",
       "avg_gross_d                      avg_gross_d     1.586065\n",
       "rating                                rating     1.053790\n",
       "log_author_popularity  log_author_popularity     0.872687\n",
       "count_a                              count_a     0.815679\n",
       "release_year                    release_year     0.683533\n",
       "page                                    page     0.444114\n",
       "log_book_popularity      log_book_popularity     0.409555\n",
       "publish_year                    publish_year     0.372299\n",
       "runtime                              runtime     0.007495\n",
       "years_apart                      years_apart    -0.131547\n",
       "film_count_d                    film_count_d    -0.717272\n",
       "avg_rating_d                    avg_rating_d    -0.766140"
      ]
     },
     "execution_count": 93,
     "metadata": {},
     "output_type": "execute_result"
    }
   ],
   "source": [
    "coef = pd.DataFrame(list(zip((con_feature+con_book_feature+['rating']),lr.coef_)),\\\n",
    "                    index=con_feature+con_book_feature+['rating'],\\\n",
    "                    columns = ['Feature','Coefficient']).\\\n",
    "sort_values(['Coefficient'],ascending=False)\n",
    "coef = coef[coef.Feature != 'T_book_age']\n",
    "coef"
   ]
  },
  {
   "cell_type": "code",
   "execution_count": 94,
   "metadata": {},
   "outputs": [
    {
     "data": {
      "text/plain": [
       "['budget',\n",
       " 'avg_gross_d',\n",
       " 'rating',\n",
       " 'log_author_popularity',\n",
       " 'count_a',\n",
       " 'release_year',\n",
       " 'page',\n",
       " 'log_book_popularity',\n",
       " 'publish_year',\n",
       " 'runtime',\n",
       " 'years_apart',\n",
       " 'film_count_d',\n",
       " 'avg_rating_d']"
      ]
     },
     "execution_count": 94,
     "metadata": {},
     "output_type": "execute_result"
    }
   ],
   "source": [
    "coef.index.tolist()"
   ]
  },
  {
   "cell_type": "code",
   "execution_count": 96,
   "metadata": {},
   "outputs": [
    {
     "data": {
      "image/png": "[encoded data removed]",
      "text/plain": [
       "<Figure size 432x288 with 1 Axes>"
      ]
     },
     "metadata": {},
     "output_type": "display_data"
    }
   ],
   "source": [
    "# Generate coef plots for the 3 continuous features\n",
    "# plt.style.use('seaborn')\n",
    "import matplotlib.style as style\n",
    "sns.set()\n",
    "# style.use('seaborn-poster') #sets the size of the charts\n",
    "# style.use('seaborn-dark')\n",
    "p = sns.color_palette(\"GnBu_r\",3)\n",
    "sns.set_palette(p)\n",
    "\n",
    "fig, ax = plt.subplots()\n",
    "sns.set_palette(p)\n",
    "sns.barplot(y=\"Feature\", x= 'Coefficient', data = coef,orient='h')\n",
    "ax.set_title('Book data help!',fontsize=20)\n",
    "ax.set_ylabel('Feature',fontsize=20)\n",
    "ax.set_xlabel('Coefficient',fontsize=20)\n",
    "plt.xticks(fontsize=14)\n",
    "plt.yticks(fontsize=14)\n",
    "# ax.set_xticks([0,5e4,100e3,150e3,200e3,250e3])\n",
    "ax.set_yticklabels(['budget',\n",
    " 'director avg gross',\n",
    " 'book rating',\n",
    " 'author popularity (log)',\n",
    " 'author publications',\n",
    " 'year of movie release',\n",
    " 'page',\n",
    " 'book_popularity (log)',\n",
    " 'year book first published',\n",
    " 'runtime',\n",
    " 'years between movie and book',\n",
    " 'director film count',\n",
    " 'director avg rating'])\n",
    "\n",
    "fig.savefig('../plot/lr_coef_book.pdf', bbox_inches='tight', transparent=True)\n",
    "# fig.savefig('Top_station2.svg', format='svg')"
   ]
  },
  {
   "cell_type": "code",
   "execution_count": 98,
   "metadata": {},
   "outputs": [
    {
     "name": "stdout",
     "output_type": "stream",
     "text": [
      "Meam of validation score is: 0.36060040882313243\n",
      "[ 0.551631    0.46679908  0.34186366  0.4552971  -0.0125888 ]\n"
     ]
    }
   ],
   "source": [
    "# Cross-validation\n",
    "# Will not use X_test, y_test\n",
    "lr = LinearRegression()\n",
    "# X_, X_test, y_, y_test = train_test_split(X, y, test_size=.2, random_state=20)\n",
    "# X_train, X_val, y_train, y_val = train_test_split(X_, y_, test_size=.25, random_state=21)\n",
    "result = cross_val_score(lr, X_train, y_train, # estimator, features, target\n",
    "                cv=5, # number of folds \n",
    "                scoring='r2') # scoring metric\n",
    "# mean of val_score\n",
    "print(\"Meam of validation score is:\", np.mean(result))\n",
    "print(result)"
   ]
  },
  {
   "cell_type": "code",
   "execution_count": 101,
   "metadata": {},
   "outputs": [
    {
     "name": "stdout",
     "output_type": "stream",
     "text": [
      "\n",
      "Train R^2 score was: 0.49254929591667407\n",
      "Validation R^2 score was: 0.4352418134643742\n",
      "Feature coefficient results: \n",
      "\n",
      "budget : 0.00\n",
      "runtime : 0.00\n",
      "film_count_d : -0.10\n",
      "avg_rating_d : -1.44\n",
      "avg_gross_d : 0.00\n",
      "release_year : 0.04\n",
      "years_apart : 0.01\n",
      "publish_year : 0.03\n",
      "page : 0.00\n",
      "log_book_popularity : 0.22\n",
      "log_author_popularity : 0.32\n",
      "count_a : 0.03\n",
      "rating_b : 3.14\n"
     ]
    },
    {
     "data": {
      "image/png": "[encoded data removed]",
      "text/plain": [
       "<Figure size 432x288 with 1 Axes>"
      ]
     },
     "metadata": {},
     "output_type": "display_data"
    }
   ],
   "source": [
    "fig = get_score(X_train,X_val,y_train,y_val)"
   ]
  },
  {
   "cell_type": "code",
   "execution_count": null,
   "metadata": {},
   "outputs": [],
   "source": []
  },
  {
   "cell_type": "markdown",
   "metadata": {},
   "source": [
    "### * Polynomial Fearues\n",
    "(degree=2): Adding interaction terms and second order feature."
   ]
  },
  {
   "cell_type": "code",
   "execution_count": null,
   "metadata": {},
   "outputs": [],
   "source": [
    "# Choose df\n",
    "# X, y = get_Xy(c_movie_df)\n",
    "X, y = get_Xy(c_all_df)\n",
    "\n",
    "# train_test_split\n",
    "X_, X_test, y_, y_test = train_test_split(X, y, test_size=.2, random_state=20)\n",
    "X_train, X_val, y_train, y_val = train_test_split(X_, y_, test_size=.25, random_state=21)"
   ]
  },
  {
   "cell_type": "code",
   "execution_count": null,
   "metadata": {},
   "outputs": [],
   "source": [
    "# Only with interaction terms\n",
    "from sklearn.preprocessing import PolynomialFeatures\n",
    "\n",
    "poly = PolynomialFeatures(degree=2,interaction_only = True)\n",
    "\n",
    "X_train_poly_scaled = scaler.fit_transform(poly.fit_transform(X_train))\n",
    "X_val_poly_scaled = scaler.transform(poly.transform(X_val))\n",
    "\n",
    "lr.fit(X_train_poly_scaled,y_train)\n",
    "lr.score(X_train_poly_scaled,y_train), lr.score(X_val_poly_scaled,y_val)"
   ]
  },
  {
   "cell_type": "code",
   "execution_count": null,
   "metadata": {},
   "outputs": [],
   "source": [
    "# Cross-validation\n",
    "# Will not use X_test, y_test\n",
    "lr = LinearRegression()\n",
    "# X_, X_test, y_, y_test = train_test_split(X, y, test_size=.2, random_state=20)\n",
    "# X_train, X_val, y_train, y_val = train_test_split(X_, y_, test_size=.25, random_state=21)\n",
    "result = cross_val_score(lr, X_train_poly_scaled, y_train, # estimator, features, target\n",
    "                cv=5, # number of folds \n",
    "                scoring='r2') # scoring metric\n",
    "# mean of val_score\n",
    "print(\"Mean of validation score is:\", np.mean(result))\n",
    "print(result)"
   ]
  },
  {
   "cell_type": "code",
   "execution_count": null,
   "metadata": {},
   "outputs": [],
   "source": [
    "# increased train score, but decreased val score.\n",
    "# overfitting"
   ]
  },
  {
   "cell_type": "code",
   "execution_count": null,
   "metadata": {},
   "outputs": [],
   "source": [
    "from sklearn.preprocessing import PolynomialFeatures\n",
    "\n",
    "poly = PolynomialFeatures(degree=2,interaction_only = False)\n",
    "\n",
    "X_train_poly_scaled = scaler.fit_transform(poly.fit_transform(X_train))\n",
    "X_val_poly_scaled = scaler.transform(poly.transform(X_val))\n",
    "\n",
    "lr.fit(X_train_poly_scaled,y_train)\n",
    "lr.score(X_train_poly_scaled,y_train), lr.score(X_val_poly_scaled,y_val)"
   ]
  },
  {
   "cell_type": "code",
   "execution_count": null,
   "metadata": {},
   "outputs": [],
   "source": [
    "feature = poly.get_feature_names(con_feature)\n",
    "list(zip((feature),lr.coef_))"
   ]
  },
  {
   "cell_type": "code",
   "execution_count": null,
   "metadata": {},
   "outputs": [],
   "source": []
  },
  {
   "cell_type": "code",
   "execution_count": null,
   "metadata": {
    "scrolled": false
   },
   "outputs": [],
   "source": [
    "coef = pd.DataFrame(list(zip((feature),lr.coef_)),index= feature,columns = ['Feature','Coefficient']).\\\n",
    "sort_values(['Coefficient'],ascending=False)\n",
    "\n",
    "# Generate coef plots for the 3 continuous features\n",
    "# plt.style.use('seaborn')\n",
    "import matplotlib.style as style\n",
    "# style.use('seaborn-poster') #sets the size of the charts\n",
    "# style.use('seaborn-dark')\n",
    "p = sns.color_palette(\"GnBu_r\",9)\n",
    "sns.set_palette(p)\n",
    "\n",
    "fig, ax = plt.subplots()\n",
    "sns.set_palette(p)\n",
    "sns.barplot(y=\"Feature\", x= 'Coefficient', data = coef,orient='h')\n",
    "ax.set_title('Polynomial features improved the model',fontsize=20)\n",
    "ax.set_xlabel('Feature',fontsize=20)\n",
    "ax.set_ylabel('Coefficient',fontsize=20)\n",
    "plt.xticks(fontsize=16)\n",
    "plt.yticks(fontsize=16)\n",
    "# ax.set_xticks([0,5e4,100e3,150e3,200e3,250e3])\n",
    "ax.set_yticklabels(['budget','year of release$^2$','runtime * year of release','budget * runtime','1',\\\n",
    "                    'budget$^2$','runtime$^2$','runtime','year of release','budget * year of release'])\n",
    "\n",
    "fig.savefig('../plot/lr_poly_coef.pdf', bbox_inches='tight', transparent=True)\n",
    "# fig.savefig('Top_station2.svg', format='svg')"
   ]
  },
  {
   "cell_type": "code",
   "execution_count": null,
   "metadata": {},
   "outputs": [],
   "source": [
    "# Cross-validation\n",
    "# Will not use X_test, y_test\n",
    "lr = LinearRegression()\n",
    "# X_, X_test, y_, y_test = train_test_split(X, y, test_size=.2, random_state=20)\n",
    "# X_train, X_val, y_train, y_val = train_test_split(X_, y_, test_size=.25, random_state=21)\n",
    "result = cross_val_score(lr, X_train_poly_scaled, y_train, # estimator, features, target\n",
    "                cv=5, # number of folds \n",
    "                scoring='r2') # scoring metric\n",
    "# mean of val_score\n",
    "print(\"Mean of validation score is:\", np.mean(result))\n",
    "print(result)"
   ]
  },
  {
   "cell_type": "code",
   "execution_count": null,
   "metadata": {},
   "outputs": [],
   "source": [
    "fig = get_score(X_train_poly_scaled,X_val_poly_scaled,y_train,y_val)"
   ]
  },
  {
   "cell_type": "code",
   "execution_count": null,
   "metadata": {},
   "outputs": [],
   "source": [
    "fig.savefig('../plot/lr_poly_prediction_m.pdf', bbox_inches='tight', transparent=True)"
   ]
  },
  {
   "cell_type": "code",
   "execution_count": null,
   "metadata": {},
   "outputs": [],
   "source": []
  },
  {
   "cell_type": "code",
   "execution_count": null,
   "metadata": {},
   "outputs": [],
   "source": []
  },
  {
   "cell_type": "code",
   "execution_count": null,
   "metadata": {},
   "outputs": [],
   "source": []
  },
  {
   "cell_type": "code",
   "execution_count": null,
   "metadata": {},
   "outputs": [],
   "source": []
  },
  {
   "cell_type": "markdown",
   "metadata": {},
   "source": [
    "## 3. Intermediate Feature Engineering: Categorical features\n",
    "Use `OneHotEncoder` or `pd.get_dummies(df['column'])` to treat categorical variables"
   ]
  },
  {
   "cell_type": "markdown",
   "metadata": {},
   "source": [
    "### 1. genre"
   ]
  },
  {
   "cell_type": "code",
   "execution_count": null,
   "metadata": {},
   "outputs": [],
   "source": [
    "all_df.info(), con_feature"
   ]
  },
  {
   "cell_type": "code",
   "execution_count": null,
   "metadata": {},
   "outputs": [],
   "source": [
    "# Get the data from all_df with both continuous and categorical variables\n",
    "df = all_df[['opening_weekend_usa'] + con_feature + ['genre']]\n",
    "# df = all_df[['rating'] + con_feature + con_book_feature + ['genre']]\n",
    "# df = all_df[['gross_usa'] + con_feature + con_book_feature + ['genre']]\n",
    "X, y = get_Xy(df)\n",
    "# train_test_split\n",
    "X_, X_test, y_, y_test = train_test_split(X, y, test_size=.2, random_state=42)\n",
    "X_train, X_val, y_train, y_val = train_test_split(X_, y_, test_size=.25, random_state=3)"
   ]
  },
  {
   "cell_type": "code",
   "execution_count": null,
   "metadata": {},
   "outputs": [],
   "source": [
    "\n",
    "# Train set\n",
    "# Convert genre to dummies\n",
    "X_train_genre = X_train['genre'].str.join(sep='*').str.get_dummies(sep='*')\n",
    "\n",
    "# Scaling continuous variables\n",
    "X_train_con = X_train[con_feature]\n",
    "X_train_con_scaled = scaler.fit_transform(X_train_con)\n",
    "X_train_con_scaled_df = pd.DataFrame(X_train_con_scaled, columns=X_train_con.columns, index=X_train_con.index)\n",
    "\n",
    "X_train_poly = poly.fit_transform(X_train_con_scaled)\n",
    "X_train_poly_df = pd.DataFrame(X_train_poly, columns=poly.get_feature_names(X_train_con.columns), index=X_train_con.index)\n",
    "\n",
    "\n",
    "#Combine\n",
    "# X_train = pd.concat([X_train_genre,X_train_con_scaled_df],axis=1)\n",
    "X_train = pd.concat([X_train_genre,X_train_poly_df],axis=1)\n",
    "\n",
    "\n",
    "\n",
    "# Val set\n",
    "# Convert genre to dummies\n",
    "X_val_genre = X_val['genre'].str.join(sep='*').str.get_dummies(sep='*')\n",
    "\n",
    "# Scaling continuous variables\n",
    "X_val_con = X_val[con_feature]\n",
    "X_val_con_scaled = scaler.transform(X_val_con)\n",
    "X_val_con_scaled_df = pd.DataFrame(X_val_con_scaled, columns=X_val_con.columns, index=X_val_con.index)\n",
    "\n",
    "X_val_poly = poly.transform(X_val_con_scaled)\n",
    "X_val_poly_df = pd.DataFrame(X_val_poly, columns=poly.get_feature_names(X_val_con.columns), index=X_val_con.index)\n",
    "\n",
    "\n",
    "#Combine\n",
    "# X_val = pd.concat([X_val_genre,X_val_con_scaled_df],axis=1)\n",
    "X_val = pd.concat([X_val_genre,X_val_poly_df],axis=1)\n",
    "\n",
    "# Find the common columns to keep\n",
    "keep = list(set(X_train.columns).intersection(set(X_val.columns)))\n",
    "X_train = X_train[keep]\n",
    "X_val = X_val[keep]\n",
    "\n",
    "\n",
    "# # Test set\n",
    "# # Convert genre to dummies\n",
    "# X_test_genre = X_test['genre'].str.join(sep='*').str.get_dummies(sep='*')\n",
    "\n",
    "# # Scaling continuous variables\n",
    "# X_test_con = X_test[con_feature]\n",
    "# X_test_con_scaled = scaler.transform(X_test_con)\n",
    "# X_test_con_scaled_df = pd.DataFrame(X_test_con_scaled, columns=X_test_con.columns, index=X_test_con.index)\n",
    "\n",
    "# #Combine\n",
    "# X_test = pd.concat([X_test_genre,X_test_con_scaled_df],axis=1)\n",
    "# keep2 = list(set(keep).intersection(set(X_test.columns)))\n",
    "# X_test = X_test[keep2]"
   ]
  },
  {
   "cell_type": "code",
   "execution_count": null,
   "metadata": {},
   "outputs": [],
   "source": [
    "X_train.shape, X_val.shape, X_test.shape"
   ]
  },
  {
   "cell_type": "code",
   "execution_count": null,
   "metadata": {},
   "outputs": [],
   "source": [
    "# X_train"
   ]
  },
  {
   "cell_type": "code",
   "execution_count": null,
   "metadata": {},
   "outputs": [],
   "source": [
    "get_score(X_train, X_val, y_train, y_val) # only scaling"
   ]
  },
  {
   "cell_type": "code",
   "execution_count": null,
   "metadata": {},
   "outputs": [],
   "source": [
    "get_score(X_train, X_val, y_train, y_val) # scaling+poly"
   ]
  },
  {
   "cell_type": "code",
   "execution_count": null,
   "metadata": {},
   "outputs": [],
   "source": []
  },
  {
   "cell_type": "code",
   "execution_count": null,
   "metadata": {},
   "outputs": [],
   "source": [
    "lr=LinearRegression()\n",
    "lr.fit(X_train,y_train)\n",
    "lr.score(X_train,y_train)"
   ]
  },
  {
   "cell_type": "code",
   "execution_count": null,
   "metadata": {},
   "outputs": [],
   "source": [
    "lr.coef_"
   ]
  },
  {
   "cell_type": "code",
   "execution_count": null,
   "metadata": {},
   "outputs": [],
   "source": [
    "# pd.DataFrame(list(zip(X_train.columns,lr.coef_))).sort_values(by=[1],ascending=False)"
   ]
  },
  {
   "cell_type": "code",
   "execution_count": null,
   "metadata": {},
   "outputs": [],
   "source": [
    "lr.score(X_val,y_val)"
   ]
  },
  {
   "cell_type": "code",
   "execution_count": null,
   "metadata": {},
   "outputs": [],
   "source": [
    "X_train.shape,y_train.shape"
   ]
  },
  {
   "cell_type": "code",
   "execution_count": null,
   "metadata": {},
   "outputs": [],
   "source": [
    "# Cross-validation\n",
    "# Will not use X_test, y_test\n",
    "lr = LinearRegression()\n",
    "# X_train, X_test, y_train, y_test = train_test_split(X, y, test_size=.2, random_state=20)\n",
    "result = cross_val_score(lr, X_train, y_train, # estimator, features, target\n",
    "                cv=5, # number of folds \n",
    "                scoring='r2') # scoring metric\n",
    "# mean of val_score\n",
    "print(\"Mean of validation score is:\", np.mean(result))\n",
    "print(result)"
   ]
  },
  {
   "cell_type": "code",
   "execution_count": null,
   "metadata": {},
   "outputs": [],
   "source": []
  },
  {
   "cell_type": "markdown",
   "metadata": {},
   "source": [
    "### 2. MPAA rating"
   ]
  },
  {
   "cell_type": "code",
   "execution_count": null,
   "metadata": {},
   "outputs": [],
   "source": [
    "# Get the data from all_df with both continuous and categorical variables\n",
    "df = all_df[['opening_weekend_usa'] + con_feature + ['MPAA']]\n",
    "# df = all_df[['rating'] + con_feature + con_book_feature + ['genre']]\n",
    "# df = all_df[['gross_usa'] + con_feature + con_book_feature + ['genre']]\n",
    "X, y = get_Xy(df)\n",
    "# train_test_split\n",
    "X_, X_test, y_, y_test = train_test_split(X, y, test_size=.2, random_state=42)\n",
    "X_train, X_val, y_train, y_val = train_test_split(X_, y_, test_size=.25, random_state=3)"
   ]
  },
  {
   "cell_type": "code",
   "execution_count": null,
   "metadata": {},
   "outputs": [],
   "source": [
    "# Train set\n",
    "# Convert genre to dummies\n",
    "X_train_genre = X_train['MPAA'].str.join(sep='*').str.get_dummies(sep='*')\n",
    "\n",
    "# Scaling continuous variables\n",
    "X_train_con = X_train[con_feature]\n",
    "X_train_con_scaled = scaler.fit_transform(X_train_con)\n",
    "X_train_con_scaled_df = pd.DataFrame(X_train_con_scaled, columns=X_train_con.columns, index=X_train_con.index)\n",
    "\n",
    "#Combine\n",
    "X_train = pd.concat([X_train_genre,X_train_con_scaled_df],axis=1)\n",
    "\n",
    "\n",
    "\n",
    "# Val set\n",
    "# Convert genre to dummies\n",
    "X_val_genre = X_val['MPAA'].str.join(sep='*').str.get_dummies(sep='*')\n",
    "\n",
    "# Scaling continuous variables\n",
    "X_val_con = X_val[con_feature]\n",
    "X_val_con_scaled = scaler.transform(X_val_con)\n",
    "X_val_con_scaled_df = pd.DataFrame(X_val_con_scaled, columns=X_val_con.columns, index=X_val_con.index)\n",
    "\n",
    "#Combine\n",
    "X_val = pd.concat([X_val_genre,X_val_con_scaled_df],axis=1)\n",
    "\n",
    "\n",
    "# Find the common columns to keep\n",
    "keep = list(set(X_train.columns).intersection(set(X_val.columns)))\n",
    "X_train = pd.concat([X_train_genre,X_train_con_scaled_df],axis=1)[keep]\n",
    "X_val = pd.concat([X_val_genre,X_val_con_scaled_df],axis=1)[keep]"
   ]
  },
  {
   "cell_type": "code",
   "execution_count": null,
   "metadata": {},
   "outputs": [],
   "source": [
    "get_score(X_train, X_val, y_train, y_val)"
   ]
  },
  {
   "cell_type": "code",
   "execution_count": null,
   "metadata": {},
   "outputs": [],
   "source": [
    "# Cross-validation\n",
    "# Will not use X_test, y_test\n",
    "lr = LinearRegression()\n",
    "# X_train, X_test, y_train, y_test = train_test_split(X, y, test_size=.2, random_state=20)\n",
    "result = cross_val_score(lr, X_train, y_train, # estimator, features, target\n",
    "                cv=5, # number of folds \n",
    "                scoring='r2') # scoring metric\n",
    "# mean of val_score\n",
    "print(\"Meam of validation score is:\", np.mean(result))\n",
    "print(result)"
   ]
  },
  {
   "cell_type": "code",
   "execution_count": null,
   "metadata": {},
   "outputs": [],
   "source": [
    "# all_df.info()"
   ]
  },
  {
   "cell_type": "markdown",
   "metadata": {},
   "source": [
    "### 3. language"
   ]
  },
  {
   "cell_type": "code",
   "execution_count": null,
   "metadata": {},
   "outputs": [],
   "source": [
    "# Get the data from all_df with both continuous and categorical variables\n",
    "df = all_df[['opening_weekend_usa'] + con_feature + ['language']]\n",
    "# df = all_df[['rating'] + con_feature + con_book_feature + ['genre']]\n",
    "# df = all_df[['gross_usa'] + con_feature + con_book_feature + ['genre']]\n",
    "X, y = get_Xy(df)\n",
    "# train_test_split\n",
    "X_, X_test, y_, y_test = train_test_split(X, y, test_size=.2, random_state=42)\n",
    "X_train, X_val, y_train, y_val = train_test_split(X_, y_, test_size=.25, random_state=3)"
   ]
  },
  {
   "cell_type": "code",
   "execution_count": null,
   "metadata": {},
   "outputs": [],
   "source": [
    "# Train set\n",
    "# Convert genre to dummies\n",
    "X_train_genre = X_train['language'].str.join(sep='*').str.get_dummies(sep='*')\n",
    "\n",
    "# Scaling continuous variables\n",
    "X_train_con = X_train[con_feature]\n",
    "X_train_con_scaled = scaler.fit_transform(X_train_con)\n",
    "X_train_con_scaled_df = pd.DataFrame(X_train_con_scaled, columns=X_train_con.columns, index=X_train_con.index)\n",
    "\n",
    "#Combine\n",
    "X_train = pd.concat([X_train_genre,X_train_con_scaled_df],axis=1)\n",
    "\n",
    "\n",
    "\n",
    "# Val set\n",
    "# Convert genre to dummies\n",
    "X_val_genre = X_val['language'].str.join(sep='*').str.get_dummies(sep='*')\n",
    "\n",
    "# Scaling continuous variables\n",
    "X_val_con = X_val[con_feature]\n",
    "X_val_con_scaled = scaler.transform(X_val_con)\n",
    "X_val_con_scaled_df = pd.DataFrame(X_val_con_scaled, columns=X_val_con.columns, index=X_val_con.index)\n",
    "\n",
    "#Combine\n",
    "X_val = pd.concat([X_val_genre,X_val_con_scaled_df],axis=1)\n",
    "\n",
    "\n",
    "# Find the common columns to keep\n",
    "keep = list(set(X_train.columns).intersection(set(X_val.columns)))\n",
    "X_train = pd.concat([X_train_genre,X_train_con_scaled_df],axis=1)[keep]\n",
    "X_val = pd.concat([X_val_genre,X_val_con_scaled_df],axis=1)[keep]"
   ]
  },
  {
   "cell_type": "code",
   "execution_count": null,
   "metadata": {},
   "outputs": [],
   "source": []
  },
  {
   "cell_type": "code",
   "execution_count": null,
   "metadata": {},
   "outputs": [],
   "source": [
    "get_score(X_train, X_val, y_train, y_val)"
   ]
  },
  {
   "cell_type": "code",
   "execution_count": null,
   "metadata": {},
   "outputs": [],
   "source": [
    "# X_train.info()"
   ]
  },
  {
   "cell_type": "code",
   "execution_count": null,
   "metadata": {},
   "outputs": [],
   "source": [
    "# Cross-validation\n",
    "# Will not use X_test, y_test\n",
    "lr = LinearRegression()\n",
    "# X_train, X_test, y_train, y_test = train_test_split(X, y, test_size=.2, random_state=20)\n",
    "result = cross_val_score(lr, X_train, y_train, # estimator, features, target\n",
    "                cv=5, # number of folds \n",
    "                scoring='r2') # scoring metric\n",
    "# mean of val_score\n",
    "print(\"Meam of validation score is:\", np.mean(result))\n",
    "print(result)"
   ]
  },
  {
   "cell_type": "code",
   "execution_count": null,
   "metadata": {},
   "outputs": [],
   "source": []
  },
  {
   "cell_type": "markdown",
   "metadata": {},
   "source": [
    "### 4. country"
   ]
  },
  {
   "cell_type": "code",
   "execution_count": null,
   "metadata": {},
   "outputs": [],
   "source": [
    "# Get the data from all_df with both continuous and categorical variables\n",
    "df = all_df[['opening_weekend_usa'] + con_feature + ['country']]\n",
    "# df = all_df[['opening_weekend_usa'] + con_feature + ['genre'] + ['MPAA'] + ['language'] + ['country']]\n",
    "# df = all_df[['gross_usa'] + con_feature + con_book_feature + ['genre']]\n",
    "X, y = get_Xy(df)"
   ]
  },
  {
   "cell_type": "code",
   "execution_count": null,
   "metadata": {},
   "outputs": [],
   "source": [
    "# train_test_split\n",
    "X_, X_test, y_, y_test = train_test_split(X, y, test_size=.2, random_state=13)\n",
    "X_train, X_val, y_train, y_val = train_test_split(X_, y_, test_size=.25, random_state=3)\n",
    "\n",
    "\n",
    "# Train set\n",
    "# Convert genre to dummies\n",
    "X_train_genre = X_train['country'].str.join(sep='*').str.get_dummies(sep='*')\n",
    "\n",
    "# Scaling continuous variables\n",
    "X_train_con = X_train[con_feature]\n",
    "X_train_con_scaled = scaler.fit_transform(X_train_con)\n",
    "X_train_con_scaled_df = pd.DataFrame(X_train_con_scaled, columns=X_train_con.columns, index=X_train_con.index)\n",
    "\n",
    "#Combine\n",
    "X_train = pd.concat([X_train_genre,X_train_con_scaled_df],axis=1)\n",
    "\n",
    "\n",
    "\n",
    "# Val set\n",
    "# Convert genre to dummies\n",
    "X_val_genre = X_val['country'].str.join(sep='*').str.get_dummies(sep='*')\n",
    "\n",
    "# Scaling continuous variables\n",
    "X_val_con = X_val[con_feature]\n",
    "X_val_con_scaled = scaler.transform(X_val_con)\n",
    "X_val_con_scaled_df = pd.DataFrame(X_val_con_scaled, columns=X_val_con.columns, index=X_val_con.index)\n",
    "\n",
    "#Combine\n",
    "X_val = pd.concat([X_val_genre,X_val_con_scaled_df],axis=1)\n",
    "\n",
    "# Find the common columns to keep\n",
    "keep = list(set(X_train.columns).intersection(set(X_val.columns)))\n",
    "X_train = pd.concat([X_train_genre,X_train_con_scaled_df],axis=1)[keep]\n",
    "X_val = pd.concat([X_val_genre,X_val_con_scaled_df],axis=1)[keep]"
   ]
  },
  {
   "cell_type": "code",
   "execution_count": null,
   "metadata": {},
   "outputs": [],
   "source": [
    "pd.DataFrame(X_train_genre.sum()).sort_values(by=[0],ascending=False)"
   ]
  },
  {
   "cell_type": "code",
   "execution_count": null,
   "metadata": {},
   "outputs": [],
   "source": [
    "get_score(X_train, X_val, y_train, y_val)"
   ]
  },
  {
   "cell_type": "code",
   "execution_count": null,
   "metadata": {},
   "outputs": [],
   "source": [
    "# Cross-validation\n",
    "# Will not use X_test, y_test\n",
    "lr = LinearRegression()\n",
    "# X_train, X_test, y_train, y_test = train_test_split(X, y, test_size=.2, random_state=20)\n",
    "result = cross_val_score(lr, X_train, y_train, # estimator, features, target\n",
    "                cv=5, # number of folds \n",
    "                scoring='r2') # scoring metric\n",
    "# mean of val_score\n",
    "print(\"Meam of validation score is:\", np.mean(result))\n",
    "print(result)"
   ]
  },
  {
   "cell_type": "markdown",
   "metadata": {},
   "source": [
    "### 5. distributor"
   ]
  },
  {
   "cell_type": "code",
   "execution_count": null,
   "metadata": {},
   "outputs": [],
   "source": []
  },
  {
   "cell_type": "code",
   "execution_count": null,
   "metadata": {},
   "outputs": [],
   "source": [
    "# Get the data from all_df with both continuous and categorical variables\n",
    "df = all_df[['opening_weekend_usa'] + con_feature + ['distributor']]\n",
    "# df = all_df[['opening_weekend_usa'] + con_feature + ['genre'] + ['MPAA'] + ['language'] + ['country'] + ['distributor']\n",
    "# df = all_df[['gross_usa'] + con_feature + con_book_feature + ['genre']]\n",
    "X, y = get_Xy(df)"
   ]
  },
  {
   "cell_type": "code",
   "execution_count": null,
   "metadata": {},
   "outputs": [],
   "source": [
    "# train_test_split\n",
    "X_, X_test, y_, y_test = train_test_split(X, y, test_size=.2, random_state=13)\n",
    "X_train, X_val, y_train, y_val = train_test_split(X_, y_, test_size=.25, random_state=3)\n",
    "\n",
    "\n",
    "# Train set\n",
    "# Convert genre to dummies\n",
    "X_train_genre = X_train['distributor'].str.join(sep='*').str.get_dummies(sep='*')\n",
    "\n",
    "# Scaling continuous variables\n",
    "X_train_con = X_train[con_feature]\n",
    "X_train_con_scaled = scaler.fit_transform(X_train_con)\n",
    "X_train_con_scaled_df = pd.DataFrame(X_train_con_scaled, columns=X_train_con.columns, index=X_train_con.index)\n",
    "\n",
    "#Combine\n",
    "X_train = pd.concat([X_train_genre,X_train_con_scaled_df],axis=1)\n",
    "\n",
    "\n",
    "\n",
    "# Val set\n",
    "# Convert genre to dummies\n",
    "X_val_genre = X_val['distributor'].str.join(sep='*').str.get_dummies(sep='*')\n",
    "\n",
    "# Scaling continuous variables\n",
    "X_val_con = X_val[con_feature]\n",
    "X_val_con_scaled = scaler.transform(X_val_con)\n",
    "X_val_con_scaled_df = pd.DataFrame(X_val_con_scaled, columns=X_val_con.columns, index=X_val_con.index)\n",
    "\n",
    "#Combine\n",
    "X_val = pd.concat([X_val_genre,X_val_con_scaled_df],axis=1)\n",
    "\n",
    "# Find the common columns to keep\n",
    "keep = list(set(X_train.columns).intersection(set(X_val.columns)))\n",
    "X_train = pd.concat([X_train_genre,X_train_con_scaled_df],axis=1)[keep]\n",
    "X_val = pd.concat([X_val_genre,X_val_con_scaled_df],axis=1)[keep]"
   ]
  },
  {
   "cell_type": "code",
   "execution_count": null,
   "metadata": {},
   "outputs": [],
   "source": [
    "get_score(X_train, X_val, y_train, y_val)"
   ]
  },
  {
   "cell_type": "code",
   "execution_count": null,
   "metadata": {},
   "outputs": [],
   "source": [
    "# Cross-validation\n",
    "# Will not use X_test, y_test\n",
    "lr = LinearRegression()\n",
    "# X_train, X_test, y_train, y_test = train_test_split(X, y, test_size=.2, random_state=20)\n",
    "result = cross_val_score(lr, X_train, y_train, # estimator, features, target\n",
    "                cv=5, # number of folds \n",
    "                scoring='r2') # scoring metric\n",
    "# mean of val_score\n",
    "print(\"Meam of validation score is:\", np.mean(result))\n",
    "print(result)"
   ]
  },
  {
   "cell_type": "code",
   "execution_count": null,
   "metadata": {},
   "outputs": [],
   "source": []
  },
  {
   "cell_type": "markdown",
   "metadata": {},
   "source": [
    "### 7. actor"
   ]
  },
  {
   "cell_type": "code",
   "execution_count": null,
   "metadata": {},
   "outputs": [],
   "source": []
  },
  {
   "cell_type": "code",
   "execution_count": null,
   "metadata": {},
   "outputs": [],
   "source": [
    "# Get the data from all_df with both continuous and categorical variables\n",
    "df = all_df[['opening_weekend_usa'] + con_feature + ['actor']]\n",
    "# df = all_df[['opening_weekend_usa'] + con_feature + ['genre'] + ['MPAA'] + ['language'] + ['country'] + ['distributor']\n",
    "# df = all_df[['gross_usa'] + con_feature + con_book_feature + ['genre']]\n",
    "X, y = get_Xy(df)"
   ]
  },
  {
   "cell_type": "code",
   "execution_count": null,
   "metadata": {},
   "outputs": [],
   "source": [
    "# train_test_split\n",
    "X_, X_test, y_, y_test = train_test_split(X, y, test_size=.2, random_state=13)\n",
    "X_train, X_val, y_train, y_val = train_test_split(X_, y_, test_size=.25, random_state=3)\n",
    "\n",
    "\n",
    "# Train set\n",
    "# Convert genre to dummies\n",
    "X_train_genre = X_train['actor'].str.join(sep='*').str.get_dummies(sep='*')\n",
    "keep_actor = list(set(X_train_genre.columns).intersection(set(actor_list)))\n",
    "X_train_genre = X_train_genre[keep_actor]\n",
    "\n",
    "# Scaling continuous variables\n",
    "X_train_con = X_train[con_feature]\n",
    "X_train_con_scaled = scaler.fit_transform(X_train_con)\n",
    "X_train_con_scaled_df = pd.DataFrame(X_train_con_scaled, columns=X_train_con.columns, index=X_train_con.index)\n",
    "\n",
    "#Combine\n",
    "X_train = pd.concat([X_train_genre,X_train_con_scaled_df],axis=1)\n",
    "\n",
    "\n",
    "\n",
    "# Val set\n",
    "# Convert genre to dummies\n",
    "X_val_genre = X_val['actor'].str.join(sep='*').str.get_dummies(sep='*')\n",
    "keep_actor = list(set(X_val_genre.columns).intersection(set(actor_list)))\n",
    "X_val_genre = X_val_genre[keep_actor]\n",
    "\n",
    "# Scaling continuous variables\n",
    "X_val_con = X_val[con_feature]\n",
    "X_val_con_scaled = scaler.transform(X_val_con)\n",
    "X_val_con_scaled_df = pd.DataFrame(X_val_con_scaled, columns=X_val_con.columns, index=X_val_con.index)\n",
    "\n",
    "#Combine\n",
    "X_val = pd.concat([X_val_genre,X_val_con_scaled_df],axis=1)\n",
    "\n",
    "# Find the common columns to keep\n",
    "keep = list(set(X_train.columns).intersection(set(X_val.columns)))\n",
    "X_train = pd.concat([X_train_genre,X_train_con_scaled_df],axis=1)[keep]\n",
    "X_val = pd.concat([X_val_genre,X_val_con_scaled_df],axis=1)[keep]"
   ]
  },
  {
   "cell_type": "code",
   "execution_count": null,
   "metadata": {},
   "outputs": [],
   "source": [
    "get_score(X_train, X_val, y_train, y_val)"
   ]
  },
  {
   "cell_type": "code",
   "execution_count": null,
   "metadata": {},
   "outputs": [],
   "source": []
  },
  {
   "cell_type": "code",
   "execution_count": null,
   "metadata": {},
   "outputs": [],
   "source": [
    "# Get the data from all_df with both continuous and categorical variables\n",
    "df = all_df[['opening_weekend_usa'] + con_feature + ['actor']]\n",
    "# df = all_df[['opening_weekend_usa'] + con_feature + ['genre'] + ['MPAA'] + ['language'] + ['country'] + ['distributor']\n",
    "# df = all_df[['gross_usa'] + con_feature + con_book_feature + ['genre']]\n",
    "X, y = get_Xy(df)"
   ]
  },
  {
   "cell_type": "code",
   "execution_count": null,
   "metadata": {},
   "outputs": [],
   "source": [
    "#\n",
    "## scaling + poly\n",
    "\n",
    "# train_test_split\n",
    "X_, X_test, y_, y_test = train_test_split(X, y, test_size=.2, random_state=13)\n",
    "X_train, X_val, y_train, y_val = train_test_split(X_, y_, test_size=.25, random_state=3)\n",
    "\n",
    "\n",
    "# Train set\n",
    "# Convert genre to dummies\n",
    "X_train_genre = X_train['actor'].str.join(sep='*').str.get_dummies(sep='*')\n",
    "keep_actor = list(set(X_train_genre.columns).intersection(set(actor_list)))\n",
    "X_train_genre = X_train_genre[keep_actor]\n",
    "\n",
    "# Scaling continuous variables\n",
    "X_train_con = X_train[con_feature]\n",
    "X_train_con_scaled = scaler.fit_transform(X_train_con)\n",
    "X_train_con_scaled_df = pd.DataFrame(X_train_con_scaled, columns=X_train_con.columns, index=X_train_con.index)\n",
    "\n",
    "X_train_poly = poly.fit_transform(X_train_con_scaled)\n",
    "X_train_poly_df = pd.DataFrame(X_train_poly, columns=poly.get_feature_names(X_train_con.columns), index=X_train_con.index)\n",
    "\n",
    "\n",
    "#Combine\n",
    "# X_train = pd.concat([X_train_genre,X_train_con_scaled_df],axis=1)\n",
    "X_train = pd.concat([X_train_genre,X_train_poly_df],axis=1)\n",
    "\n",
    "\n",
    "\n",
    "# Val set\n",
    "# Convert genre to dummies\n",
    "X_val_genre = X_val['actor'].str.join(sep='*').str.get_dummies(sep='*')\n",
    "keep_actor = list(set(X_val_genre.columns).intersection(set(actor_list)))\n",
    "X_val_genre = X_val_genre[keep_actor]\n",
    "\n",
    "# Scaling continuous variables\n",
    "X_val_con = X_val[con_feature]\n",
    "X_val_con_scaled = scaler.transform(X_val_con)\n",
    "X_val_con_scaled_df = pd.DataFrame(X_val_con_scaled, columns=X_val_con.columns, index=X_val_con.index)\n",
    "\n",
    "X_val_poly = poly.transform(X_val_con_scaled)\n",
    "X_val_poly_df = pd.DataFrame(X_val_poly, columns=poly.get_feature_names(X_val_con.columns), index=X_val_con.index)\n",
    "\n",
    "\n",
    "#Combine\n",
    "# X_val = pd.concat([X_val_genre,X_val_con_scaled_df],axis=1)\n",
    "X_val = pd.concat([X_val_genre,X_val_poly_df],axis=1)\n",
    "\n",
    "# Find the common columns to keep\n",
    "keep = list(set(X_train.columns).intersection(set(X_val.columns)))\n",
    "X_train = X_train[keep]\n",
    "X_val = X_val[keep]"
   ]
  },
  {
   "cell_type": "code",
   "execution_count": null,
   "metadata": {},
   "outputs": [],
   "source": [
    "# X_train_genre"
   ]
  },
  {
   "cell_type": "code",
   "execution_count": null,
   "metadata": {},
   "outputs": [],
   "source": [
    "get_score(X_train, X_val, y_train, y_val)"
   ]
  },
  {
   "cell_type": "code",
   "execution_count": null,
   "metadata": {},
   "outputs": [],
   "source": [
    "# Cross-validation\n",
    "# Will not use X_test, y_test\n",
    "lr = LinearRegression()\n",
    "# X_train, X_test, y_train, y_test = train_test_split(X, y, test_size=.2, random_state=20)\n",
    "result = cross_val_score(lr, X_train, y_train, # estimator, features, target\n",
    "                cv=5, # number of folds \n",
    "                scoring='r2') # scoring metric\n",
    "# mean of val_score\n",
    "print(\"Mean of validation score is:\", np.mean(result))\n",
    "print(result)"
   ]
  },
  {
   "cell_type": "code",
   "execution_count": null,
   "metadata": {},
   "outputs": [],
   "source": []
  },
  {
   "cell_type": "markdown",
   "metadata": {},
   "source": [
    "### 6. all categorical variables\n",
    "\n",
    "#### * all categorical variables + scaling"
   ]
  },
  {
   "cell_type": "code",
   "execution_count": null,
   "metadata": {},
   "outputs": [],
   "source": [
    "# Get the data from all_df with both continuous and categorical variables\n",
    "# Get the data from all_df with both continuous and categorical variables\n",
    "df = all_df[['opening_weekend_usa'] + con_feature + \\\n",
    "            ['genre'] + ['MPAA'] + ['language'] + ['country'] + ['distributor'] + ['actor']]\n",
    "# df = all_df[['gross_usa'] + con_feature + con_book_feature + ['genre']]\n",
    "X, y = get_Xy(df)\n",
    "\n",
    "\n",
    "\n",
    "# train_test_split\n",
    "X_, X_test, y_, y_test = train_test_split(X, y, test_size=.2, random_state=13)\n",
    "X_train, X_val, y_train, y_val = train_test_split(X_, y_, test_size=.25, random_state=3)"
   ]
  },
  {
   "cell_type": "code",
   "execution_count": null,
   "metadata": {},
   "outputs": [],
   "source": [
    "\n",
    "# Train set\n",
    "# Convert all cat to dummies\n",
    "X_train_genre = X_train['genre'].str.join(sep='*').str.get_dummies(sep='*')\n",
    "X_train_MPAA = pd.get_dummies(X_train['MPAA'])\n",
    "X_train_language= X_train['language'].str.join(sep='*').str.get_dummies(sep='*')\n",
    "X_train_country = X_train['country'].str.join(sep='*').str.get_dummies(sep='*')\n",
    "X_train_distributor = pd.get_dummies(X_train['distributor'])\n",
    "X_train_genre = X_train['actor'].str.join(sep='*').str.get_dummies(sep='*')\n",
    "keep_actor = list(set(X_train_genre.columns).intersection(set(actor_list)))\n",
    "X_train_genre = X_train_genre[keep_actor]\n",
    "\n",
    "\n",
    "# Scaling continuous variables\n",
    "X_train_con = X_train[con_feature]\n",
    "X_train_con_scaled = scaler.fit_transform(X_train_con)\n",
    "X_train_con_scaled_df = pd.DataFrame(X_train_con_scaled, columns=X_train_con.columns, index=X_train_con.index)\n",
    "\n",
    "#Combine\n",
    "X_train = pd.concat([X_train_genre,X_train_MPAA, X_train_language, X_train_country, X_train_distributor,\\\n",
    "                     X_train_con_scaled_df],axis=1)\n",
    "\n",
    "\n",
    "\n",
    "# Val set\n",
    "# Convert genre to dummies\n",
    "X_val_genre = X_val['genre'].str.join(sep='*').str.get_dummies(sep='*')\n",
    "X_val_MPAA = pd.get_dummies(X_val['MPAA'])\n",
    "X_val_language= X_val['language'].str.join(sep='*').str.get_dummies(sep='*')\n",
    "X_val_country = X_val['country'].str.join(sep='*').str.get_dummies(sep='*')\n",
    "X_val_distributor = pd.get_dummies(X_val['distributor'])\n",
    "X_val_genre = X_val['actor'].str.join(sep='*').str.get_dummies(sep='*')\n",
    "keep_actor = list(set(X_val_genre.columns).intersection(set(actor_list)))\n",
    "X_val_genre = X_val_genre[keep_actor]\n",
    "\n",
    "\n",
    "# Scaling continuous variables\n",
    "X_val_con = X_val[con_feature]\n",
    "X_val_con_scaled = scaler.transform(X_val_con)\n",
    "X_val_con_scaled_df = pd.DataFrame(X_val_con_scaled, columns=X_val_con.columns, index=X_val_con.index)\n",
    "\n",
    "#Combine\n",
    "X_val = pd.concat([X_val_genre,X_val_MPAA, X_val_language, X_val_country, X_val_distributor, \\\n",
    "                   X_val_con_scaled_df],axis=1)\n",
    "            \n",
    "            \n",
    "# Find the common columns to keep\n",
    "keep = list(set(X_train.columns).intersection(set(X_val.columns)))\n",
    "X_train = X_train[keep]\n",
    "X_val = X_val[keep]"
   ]
  },
  {
   "cell_type": "code",
   "execution_count": null,
   "metadata": {},
   "outputs": [],
   "source": [
    "X_train.shape, X_val.shape"
   ]
  },
  {
   "cell_type": "code",
   "execution_count": null,
   "metadata": {},
   "outputs": [],
   "source": [
    "get_score(X_train, X_val, y_train, y_val)"
   ]
  },
  {
   "cell_type": "code",
   "execution_count": null,
   "metadata": {},
   "outputs": [],
   "source": [
    "# Cross-validation\n",
    "# Will not use X_test, y_test\n",
    "lr = LinearRegression()\n",
    "# X_train, X_test, y_train, y_test = train_test_split(X, y, test_size=.2, random_state=20)\n",
    "result = cross_val_score(lr, X_train, y_train, # estimator, features, target\n",
    "                cv=5, # number of folds \n",
    "                scoring='r2') # scoring metric\n",
    "# mean of val_score\n",
    "print(\"Mean of validation score is:\", np.mean(result))\n",
    "print(result)"
   ]
  },
  {
   "cell_type": "markdown",
   "metadata": {},
   "source": [
    "#### * All categorical variables + scaling + polynomial features"
   ]
  },
  {
   "cell_type": "code",
   "execution_count": null,
   "metadata": {},
   "outputs": [],
   "source": [
    "# Get the data from all_df with both continuous and categorical variables\n",
    "# Get the data from all_df with both continuous and categorical variables\n",
    "df = all_df[['opening_weekend_usa'] + con_feature + \\\n",
    "            ['genre'] + ['MPAA'] + ['language'] + ['country'] + ['distributor'] + ['actor']]\n",
    "# df = all_df[['gross_usa'] + con_feature + con_book_feature + ['genre']]\n",
    "X, y = get_Xy(df)\n",
    "\n",
    "\n",
    "\n",
    "# train_test_split\n",
    "X_, X_test, y_, y_test = train_test_split(X, y, test_size=.2, random_state=13)\n",
    "X_train, X_val, y_train, y_val = train_test_split(X_, y_, test_size=.25, random_state=3)"
   ]
  },
  {
   "cell_type": "code",
   "execution_count": null,
   "metadata": {},
   "outputs": [],
   "source": [
    "\n",
    "# Train set\n",
    "# Convert all cat to dummies\n",
    "X_train_genre = X_train['genre'].str.join(sep='*').str.get_dummies(sep='*')\n",
    "X_train_MPAA = pd.get_dummies(X_train['MPAA'])\n",
    "X_train_language= X_train['language'].str.join(sep='*').str.get_dummies(sep='*')\n",
    "X_train_country = X_train['country'].str.join(sep='*').str.get_dummies(sep='*')\n",
    "X_train_distributor = pd.get_dummies(X_train['distributor'])\n",
    "X_train_genre = X_train['actor'].str.join(sep='*').str.get_dummies(sep='*')\n",
    "keep_actor = list(set(X_train_genre.columns).intersection(set(actor_list)))\n",
    "X_train_genre = X_train_genre[keep_actor]\n",
    "\n",
    "\n",
    "# Scaling continuous variables\n",
    "X_train_con = X_train[con_feature]\n",
    "X_train_con_scaled = scaler.fit_transform(X_train_con)\n",
    "X_train_con_scaled_df = pd.DataFrame(X_train_con_scaled, columns=X_train_con.columns, index=X_train_con.index)\n",
    "\n",
    "X_train_poly = poly.fit_transform(X_train_con_scaled)\n",
    "X_train_poly_df = pd.DataFrame(X_train_poly, columns=poly.get_feature_names(X_train_con.columns), index=X_train_con.index)\n",
    "\n",
    "\n",
    "# Combine\n",
    "# X_train = pd.concat([X_train_genre,X_train_con_scaled_df],axis=1)\n",
    "X_train = pd.concat([X_train_genre,X_train_poly_df],axis=1)\n",
    "\n",
    "\n",
    "\n",
    "# Val set\n",
    "# Convert genre to dummies\n",
    "X_val_genre = X_val['genre'].str.join(sep='*').str.get_dummies(sep='*')\n",
    "X_val_MPAA = pd.get_dummies(X_val['MPAA'])\n",
    "X_val_language= X_val['language'].str.join(sep='*').str.get_dummies(sep='*')\n",
    "X_val_country = X_val['country'].str.join(sep='*').str.get_dummies(sep='*')\n",
    "X_val_distributor = pd.get_dummies(X_val['distributor'])\n",
    "X_val_genre = X_val['actor'].str.join(sep='*').str.get_dummies(sep='*')\n",
    "keep_actor = list(set(X_val_genre.columns).intersection(set(actor_list)))\n",
    "X_val_genre = X_val_genre[keep_actor]\n",
    "\n",
    "\n",
    "# Scaling continuous variables\n",
    "X_val_con = X_val[con_feature]\n",
    "X_val_con_scaled = scaler.transform(X_val_con)\n",
    "X_val_con_scaled_df = pd.DataFrame(X_val_con_scaled, columns=X_val_con.columns, index=X_val_con.index)\n",
    "\n",
    "X_val_poly = poly.transform(X_val_con_scaled)\n",
    "X_val_poly_df = pd.DataFrame(X_val_poly, columns=poly.get_feature_names(X_val_con.columns), index=X_val_con.index)\n",
    "\n",
    "\n",
    "# Combine\n",
    "# X_val = pd.concat([X_val_genre,X_val_con_scaled_df],axis=1)\n",
    "X_val = pd.concat([X_val_genre,X_val_poly_df],axis=1)\n",
    "\n",
    "# Find the common columns to keep\n",
    "keep = list(set(X_train.columns).intersection(set(X_val.columns)))\n",
    "X_train = X_train[keep]\n",
    "X_val = X_val[keep]"
   ]
  },
  {
   "cell_type": "code",
   "execution_count": null,
   "metadata": {},
   "outputs": [],
   "source": [
    "X_train.shape, X_val.shape"
   ]
  },
  {
   "cell_type": "code",
   "execution_count": null,
   "metadata": {},
   "outputs": [],
   "source": [
    "lr = LinearRegression()\n",
    "lr.fit(X_train,y_train)\n",
    "lr.score(X_train,y_train)"
   ]
  },
  {
   "cell_type": "code",
   "execution_count": null,
   "metadata": {},
   "outputs": [],
   "source": [
    "list(zip(poly.get_feature_names(X_val_con.columns), lr.coef_))"
   ]
  },
  {
   "cell_type": "code",
   "execution_count": null,
   "metadata": {},
   "outputs": [],
   "source": [
    "get_score(X_train, X_val, y_train, y_val)"
   ]
  },
  {
   "cell_type": "code",
   "execution_count": null,
   "metadata": {},
   "outputs": [],
   "source": [
    "# Cross-validation\n",
    "# Will not use X_test, y_test\n",
    "lr = LinearRegression()\n",
    "# X_, X_test, y_, y_test = train_test_split(X, y, test_size=.2, random_state=13)\n",
    "# X_train, X_val, y_train, y_val = train_test_split(X_, y_, test_size=.25, random_state=3)\n",
    "result = cross_val_score(lr, X_train, y_train, # estimator, features, target\n",
    "                cv=5, # number of folds \n",
    "                scoring='r2') # scoring metric\n",
    "# mean of val_score\n",
    "print(\"Mean of validation score is:\", np.mean(result))\n",
    "print(result)"
   ]
  },
  {
   "cell_type": "code",
   "execution_count": null,
   "metadata": {},
   "outputs": [],
   "source": []
  },
  {
   "cell_type": "code",
   "execution_count": null,
   "metadata": {},
   "outputs": [],
   "source": []
  },
  {
   "cell_type": "code",
   "execution_count": null,
   "metadata": {},
   "outputs": [],
   "source": [
    "# all_variable_score('movie only')"
   ]
  },
  {
   "cell_type": "code",
   "execution_count": null,
   "metadata": {},
   "outputs": [],
   "source": [
    "# all_variable_score('movie+book')"
   ]
  },
  {
   "cell_type": "code",
   "execution_count": null,
   "metadata": {},
   "outputs": [],
   "source": []
  },
  {
   "cell_type": "code",
   "execution_count": null,
   "metadata": {},
   "outputs": [],
   "source": []
  },
  {
   "cell_type": "markdown",
   "metadata": {},
   "source": [
    "## 4. Incorporate Polynomial Features"
   ]
  },
  {
   "cell_type": "code",
   "execution_count": null,
   "metadata": {},
   "outputs": [],
   "source": [
    "from sklearn.preprocessing import PolynomialFeatures\n",
    "poly = PolynomialFeatures(degree=2,interaction_only = True)\n",
    "\n",
    "\n",
    "# Get the data from all_df with both continuous and categorical variables\n",
    "# Get the data from all_df with both continuous and categorical variables\n",
    "df = all_df[['opening_weekend_usa'] + con_feature + con_book_feature + \\\n",
    "            ['genre'] + ['MPAA'] + ['language'] + ['country'] + ['distributor'] + ['actor']]\n",
    "# df = all_df[['gross_usa'] + con_feature + con_book_feature + ['genre']]\n",
    "X, y = get_Xy(df)\n",
    "\n",
    "\n",
    "\n",
    "# train_test_split\n",
    "X_, X_test, y_, y_test = train_test_split(X, y, test_size=.2, random_state=13)\n",
    "X_train, X_val, y_train, y_val = train_test_split(X_, y_, test_size=.25, random_state=3)\n",
    "\n",
    "\n",
    "# train_test_split\n",
    "X_, X_test, y_, y_test = train_test_split(X, y, test_size=.2, random_state=13)\n",
    "X_train, X_val, y_train, y_val = train_test_split(X_, y_, test_size=.25, random_state=3)\n",
    "\n",
    "\n",
    "# Train set\n",
    "# Convert all cat to dummies\n",
    "X_train_genre = X_train['genre'].str.join(sep='*').str.get_dummies(sep='*')\n",
    "X_train_MPAA = pd.get_dummies(X_train['MPAA'])\n",
    "X_train_language= X_train['language'].str.join(sep='*').str.get_dummies(sep='*')\n",
    "X_train_country = X_train['country'].str.join(sep='*').str.get_dummies(sep='*')\n",
    "X_train_distributor = pd.get_dummies(X_train['distributor'])\n",
    "X_train_genre = X_train['actor'].str.join(sep='*').str.get_dummies(sep='*')\n",
    "keep_actor = list(set(X_train_genre.columns).intersection(set(actor_list)))\n",
    "X_train_genre = X_train_genre[keep_actor]\n",
    "\n",
    "# Scaling continuous variables\n",
    "X_train_con = X_train[con_feature + con_book_feature]\n",
    "X_train_con_scaled = poly.fit_transform(scaler.fit_transform(X_train_con)) # standardscalar and polyfeatrues\n",
    "poly_column = poly.get_feature_names(con_feature) # poly coef columns\n",
    "X_train_con_scaled_df = pd.DataFrame(X_train_con_scaled, columns = poly_column,\\\n",
    "                                     index=X_train_con.index)\n",
    "\n",
    "#Combine\n",
    "X_train = pd.concat([X_train_genre,X_train_MPAA, X_train_language, X_train_country, X_train_distributor,\\\n",
    "                     X_train_con_scaled_df],axis=1)\n",
    "\n",
    "\n",
    "\n",
    "# Val set\n",
    "# Convert genre to dummies\n",
    "X_val_genre = X_val['genre'].str.join(sep='*').str.get_dummies(sep='*')\n",
    "X_val_MPAA = pd.get_dummies(X_val['MPAA'])\n",
    "X_val_language= X_val['language'].str.join(sep='*').str.get_dummies(sep='*')\n",
    "X_val_country = X_val['country'].str.join(sep='*').str.get_dummies(sep='*')\n",
    "X_val_distributor = pd.get_dummies(X_val['distributor'])\n",
    "X_val_genre = X_val['actor'].str.join(sep='*').str.get_dummies(sep='*')\n",
    "keep_actor = list(set(X_val_genre.columns).intersection(set(actor_list)))\n",
    "X_val_genre = X_val_genre[keep_actor]\n",
    "\n",
    "# Scaling continuous variables\n",
    "X_val_con = X_val[con_feature + con_book_feature]\n",
    "X_val_con_scaled = poly.transform(scaler.fit_transform(X_val_con)) # standardscalar and polyfeatrues\n",
    "poly_column = poly.get_feature_names(con_feature) # poly coef columns\n",
    "X_val_con_scaled_df = pd.DataFrame(X_val_con_scaled, columns = poly_column,\\\n",
    "                                   index=X_val_con.index)\n",
    "\n",
    "#Combine\n",
    "X_val = pd.concat([X_val_genre,X_val_MPAA, X_val_language, X_val_country, X_val_distributor, \\\n",
    "                   X_val_con_scaled_df],axis=1)\n",
    "\n",
    "# Find the common columns to keep\n",
    "keep = list(set(X_train.columns).intersection(set(X_val.columns)))\n",
    "X_train = X_train[keep]\n",
    "X_val = X_val[keep]"
   ]
  },
  {
   "cell_type": "code",
   "execution_count": null,
   "metadata": {},
   "outputs": [],
   "source": [
    "# only adding interaction term\n",
    "get_score(X_train, X_val, y_train, y_val)"
   ]
  },
  {
   "cell_type": "code",
   "execution_count": null,
   "metadata": {},
   "outputs": [],
   "source": [
    "# Cross-validation\n",
    "# Will not use X_test, y_test\n",
    "lr = LinearRegression()\n",
    "# X_, X_test, y_, y_test = train_test_split(X, y, test_size=.2, random_state=13)\n",
    "# X_train, X_val, y_train, y_val = train_test_split(X_, y_, test_size=.25, random_state=3)\n",
    "result = cross_val_score(lr, X_train, y_train, # estimator, features, target\n",
    "                cv=5, # number of folds \n",
    "                scoring='r2') # scoring metric\n",
    "# mean of val_score\n",
    "print(\"Mean of validation score is:\", np.mean(result))\n",
    "print(result)"
   ]
  },
  {
   "cell_type": "code",
   "execution_count": null,
   "metadata": {},
   "outputs": [],
   "source": []
  },
  {
   "cell_type": "code",
   "execution_count": null,
   "metadata": {},
   "outputs": [],
   "source": [
    "\n",
    "###\n",
    "### Including square term\n",
    "\n",
    "\n",
    "from sklearn.preprocessing import PolynomialFeatures\n",
    "poly = PolynomialFeatures(degree=2,interaction_only = False)\n",
    "\n",
    "\n",
    "## Get the data from all_df with both continuous and categorical variables\n",
    "# Get the data from all_df with both continuous and categorical variables\n",
    "df = all_df[['opening_weekend_usa'] + con_feature + \\\n",
    "            ['genre'] + ['MPAA'] + ['language'] + ['country'] + ['distributor'] + ['actor']]\n",
    "# df = all_df[['gross_usa'] + con_feature + con_book_feature + ['genre']]\n",
    "X, y = get_Xy(df)\n",
    "\n",
    "\n",
    "\n",
    "# train_test_split\n",
    "X_, X_test, y_, y_test = train_test_split(X, y, test_size=.2, random_state=13)\n",
    "X_train, X_val, y_train, y_val = train_test_split(X_, y_, test_size=.25, random_state=3)\n",
    "\n",
    "\n",
    "# train_test_split\n",
    "X_, X_test, y_, y_test = train_test_split(X, y, test_size=.2, random_state=13)\n",
    "X_train, X_val, y_train, y_val = train_test_split(X_, y_, test_size=.25, random_state=3)\n",
    "\n",
    "\n",
    "# Train set\n",
    "# Convert all cat to dummies\n",
    "X_train_genre = X_train['genre'].str.join(sep='*').str.get_dummies(sep='*')\n",
    "X_train_MPAA = pd.get_dummies(X_train['MPAA'])\n",
    "X_train_language= X_train['language'].str.join(sep='*').str.get_dummies(sep='*')\n",
    "X_train_country = X_train['country'].str.join(sep='*').str.get_dummies(sep='*')\n",
    "X_train_distributor = pd.get_dummies(X_train['distributor'])\n",
    "X_train_genre = X_train['actor'].str.join(sep='*').str.get_dummies(sep='*')\n",
    "keep_actor = list(set(X_train_genre.columns).intersection(set(actor_list)))\n",
    "X_train_genre = X_train_genre[keep_actor]\n",
    "\n",
    "# Scaling continuous variables\n",
    "X_train_con = X_train[con_feature]\n",
    "X_train_con_scaled = poly.fit_transform(scaler.fit_transform(X_train_con)) # standardscalar and polyfeatrues\n",
    "poly_column = poly.get_feature_names(con_feature) # poly coef columns\n",
    "X_train_con_scaled_df = pd.DataFrame(X_train_con_scaled, columns = poly_column,\\\n",
    "                                     index=X_train_con.index)\n",
    "\n",
    "#Combine\n",
    "X_train = pd.concat([X_train_genre,X_train_MPAA, X_train_language, X_train_country, X_train_distributor,\\\n",
    "                     X_train_con_scaled_df],axis=1)\n",
    "\n",
    "\n",
    "\n",
    "# Val set\n",
    "# Convert genre to dummies\n",
    "X_val_genre = X_val['genre'].str.join(sep='*').str.get_dummies(sep='*')\n",
    "X_val_MPAA = pd.get_dummies(X_val['MPAA'])\n",
    "X_val_language= X_val['language'].str.join(sep='*').str.get_dummies(sep='*')\n",
    "X_val_country = X_val['country'].str.join(sep='*').str.get_dummies(sep='*')\n",
    "X_val_distributor = pd.get_dummies(X_val['distributor'])\n",
    "X_val_genre = X_val['actor'].str.join(sep='*').str.get_dummies(sep='*')\n",
    "keep_actor = list(set(X_val_genre.columns).intersection(set(actor_list)))\n",
    "X_val_genre = X_val_genre[keep_actor]\n",
    "\n",
    "# Scaling continuous variables\n",
    "X_val_con = X_val[con_feature]\n",
    "X_val_con_scaled = poly.transform(scaler.fit_transform(X_val_con)) # standardscalar and polyfeatrues\n",
    "poly_column = poly.get_feature_names(con_feature) # poly coef columns\n",
    "X_val_con_scaled_df = pd.DataFrame(X_val_con_scaled, columns = poly_column,\\\n",
    "                                   index=X_val_con.index)\n",
    "\n",
    "#Combine\n",
    "X_val = pd.concat([X_val_genre,X_val_MPAA, X_val_language, X_val_country, X_val_distributor, \\\n",
    "                   X_val_con_scaled_df],axis=1)\n",
    "\n",
    "# Find the common columns to keep\n",
    "keep = list(set(X_train.columns).intersection(set(X_val.columns)))\n",
    "X_train = X_train[keep]\n",
    "X_val = X_val[keep]"
   ]
  },
  {
   "cell_type": "code",
   "execution_count": null,
   "metadata": {},
   "outputs": [],
   "source": [
    "# only adding interaction term\n",
    "get_score(X_train, X_val, y_train, y_val)"
   ]
  },
  {
   "cell_type": "code",
   "execution_count": null,
   "metadata": {},
   "outputs": [],
   "source": []
  },
  {
   "cell_type": "markdown",
   "metadata": {},
   "source": [
    "### Find outliers and evaluate the model again"
   ]
  },
  {
   "cell_type": "code",
   "execution_count": null,
   "metadata": {},
   "outputs": [],
   "source": [
    "lc_df = all_df[['movie_title'] + ['opening_weekend_usa'] + con_feature + \n",
    "               ['genre','release_year','rating']].copy().dropna()"
   ]
  },
  {
   "cell_type": "code",
   "execution_count": null,
   "metadata": {},
   "outputs": [],
   "source": [
    "lc_df.shape"
   ]
  },
  {
   "cell_type": "code",
   "execution_count": null,
   "metadata": {},
   "outputs": [],
   "source": [
    "lc_df.drop_duplicates(subset=['movie_title','release_year'],keep='first',inplace=True)"
   ]
  },
  {
   "cell_type": "code",
   "execution_count": null,
   "metadata": {},
   "outputs": [],
   "source": [
    "X = lc_df[con_feature + ['rating']]\n",
    "y = lc_df['opening_weekend_usa']\n",
    "X_train, X_val, y_train, y_val = train_test_split(X, y, test_size=.15, random_state=58)\n",
    "\n",
    "lr = LinearRegression()\n",
    "lr.fit(X_train, y_train)\n",
    "lr.score(X_train, y_train)\n",
    "lc_df['res'] = lr.predict(lc_df[con_feature + ['rating']])-lc_df['opening_weekend_usa']"
   ]
  },
  {
   "cell_type": "code",
   "execution_count": null,
   "metadata": {},
   "outputs": [],
   "source": [
    "res1 = lc_df[['movie_title','genre','res']].sort_values(['res']).dropna().head(100)\n",
    "res1.head(15)"
   ]
  },
  {
   "cell_type": "code",
   "execution_count": null,
   "metadata": {},
   "outputs": [],
   "source": [
    "res2 = lc_df[['movie_title','genre','res']].sort_values(['res']).tail(100)\n",
    "res2.tail(20)"
   ]
  },
  {
   "cell_type": "code",
   "execution_count": null,
   "metadata": {},
   "outputs": [],
   "source": [
    "res1 = lc_df[['movie_title','release_year','genre','res']].sort_values(['res']).head(100)\n",
    "res1.head(20)"
   ]
  },
  {
   "cell_type": "code",
   "execution_count": null,
   "metadata": {},
   "outputs": [],
   "source": [
    "res2 = lc_df[['movie_title','release_year','genre','res']].sort_values(['res']).tail(100)\n",
    "res2.tail(20)"
   ]
  },
  {
   "cell_type": "code",
   "execution_count": null,
   "metadata": {},
   "outputs": [],
   "source": [
    "res_df = pd.concat([res1,res2],axis=0)\n",
    "res_movie = res.movie_title.tolist()"
   ]
  },
  {
   "cell_type": "code",
   "execution_count": null,
   "metadata": {},
   "outputs": [],
   "source": [
    "all_df[all_df.movie_title == \"Kiki's Delivery Service\"]"
   ]
  },
  {
   "cell_type": "markdown",
   "metadata": {},
   "source": [
    "## 4. Regularization"
   ]
  },
  {
   "cell_type": "code",
   "execution_count": null,
   "metadata": {},
   "outputs": [],
   "source": [
    "from sklearn.model_selection import train_test_split\n",
    "from sklearn.linear_model import LinearRegression, Lasso, LassoCV, Ridge, RidgeCV\n",
    "from sklearn.metrics import r2_score"
   ]
  },
  {
   "cell_type": "markdown",
   "metadata": {},
   "source": [
    "### * Ridge"
   ]
  },
  {
   "cell_type": "code",
   "execution_count": null,
   "metadata": {},
   "outputs": [],
   "source": [
    "## Fit a Ridge model on the standardized data\n",
    "\n",
    "# ridge_model = Ridge(alpha = 0.001)\n",
    "# ridge_model.fit(X_train,y_train)\n",
    "# list(zip(X_train.columns, ridge_model.coef_))"
   ]
  },
  {
   "cell_type": "code",
   "execution_count": null,
   "metadata": {},
   "outputs": [],
   "source": [
    "# Run the cross validation, find the best alpha, refit the model on all the data with that alpha\n",
    "\n",
    "alphavec = 10**np.linspace(-2,2,1000)\n",
    "\n",
    "ridge_model = RidgeCV(alphas = alphavec, cv=5)\n",
    "ridge_model.fit(X_train, y_train)\n",
    "print('The best value of alpha is:', ridge_model.alpha_)"
   ]
  },
  {
   "cell_type": "code",
   "execution_count": null,
   "metadata": {},
   "outputs": [],
   "source": [
    "# Fit Ridge model once again with the best alpha\n",
    "ridge_model = Ridge(alpha = 10.25)\n",
    "ridge_model.fit(X_train,y_train)\n",
    "list(zip(X_train.columns, ridge_model.coef_))"
   ]
  },
  {
   "cell_type": "code",
   "execution_count": null,
   "metadata": {},
   "outputs": [],
   "source": [
    "top_key = pd.DataFrame(list(zip(X_train.columns, ridge_model.coef_)),columns=['key','coef'])\n",
    "top_key.sort_values(by='coef',ascending=False).head(20)"
   ]
  },
  {
   "cell_type": "code",
   "execution_count": null,
   "metadata": {},
   "outputs": [],
   "source": []
  },
  {
   "cell_type": "code",
   "execution_count": null,
   "metadata": {},
   "outputs": [],
   "source": [
    "len(top_key.key)"
   ]
  },
  {
   "cell_type": "code",
   "execution_count": null,
   "metadata": {},
   "outputs": [],
   "source": []
  },
  {
   "cell_type": "code",
   "execution_count": null,
   "metadata": {},
   "outputs": [],
   "source": [
    "# Fit Ridge model once again with the best alpha\n",
    "ridge_model = Ridge(alpha = 19.1992)\n",
    "ridge_model.fit(X_train,y_train)\n",
    "list(zip(X_train_con_scaled_df.columns, ridge_model.coef_))"
   ]
  },
  {
   "cell_type": "code",
   "execution_count": null,
   "metadata": {},
   "outputs": [],
   "source": [
    "y_pred = ridge_model.predict(X_val)\n",
    "r2_score(y_val, y_pred)"
   ]
  },
  {
   "cell_type": "code",
   "execution_count": null,
   "metadata": {},
   "outputs": [],
   "source": [
    "# fig = get_score(X_train, X_val, y_train, y_val)"
   ]
  },
  {
   "cell_type": "code",
   "execution_count": null,
   "metadata": {},
   "outputs": [],
   "source": [
    "# Visualization\n",
    "fig, ax = plt.subplots(1, 1)\n",
    "plt.scatter(y_val, y_pred, alpha=0.4)\n",
    "\n",
    "val_score=r2_score(y_val, y_pred)\n",
    "\n",
    "ax.set_xlabel('Opening weekend revenue (USD)',fontsize=20)\n",
    "ax.set_ylabel('Prediction (USD)',fontsize=20)\n",
    "ax.set_title('R$^2$: %0.2f' % val_score, fontsize=20)\n",
    "\n",
    "plt.xticks(fontsize=16)\n",
    "plt.yticks(fontsize=16)\n",
    "\n",
    "#     ax.set_xticks([0,0.2e8,0.4e8,0.6e8,0.8e8])\n",
    "#     ax.set_xticklabels(['0','20M','40M','60M','80M'])\n",
    "#     ax.set_yticks([0,0.1e8,0.2e8,0.3e8,0.4e8,0.5e8,0.6e8,0.7e8])\n",
    "#     ax.set_yticklabels(['0','10M','20M','30M','40M','50M','60M','70M'])\n",
    "\n",
    "x=np.linspace(0,0.7e2,50)\n",
    "#     x=np.linspace(4,9,50)\n",
    "\n",
    "y=x\n",
    "plt.plot(x,y,color='firebrick',linewidth=3,alpha=0.6)\n",
    "plt.ylim(0,)\n",
    "plt.xlim(0,)"
   ]
  },
  {
   "cell_type": "code",
   "execution_count": null,
   "metadata": {},
   "outputs": [],
   "source": [
    "fig.savefig('../plot/ridge_prediction_m.pdf', bbox_inches='tight', transparent = True)"
   ]
  },
  {
   "cell_type": "code",
   "execution_count": null,
   "metadata": {},
   "outputs": [],
   "source": [
    "rmse = np.sqrt(mean_squared_error(y_val, y_pred))\n",
    "rmse"
   ]
  },
  {
   "cell_type": "markdown",
   "metadata": {},
   "source": [
    "### * LASSO"
   ]
  },
  {
   "cell_type": "code",
   "execution_count": null,
   "metadata": {},
   "outputs": [],
   "source": [
    "# lasso_model = Lasso(alpha = 0.001)\n",
    "# lasso_model.fit(X_train,y_train)\n",
    "# list(zip(X_train_con_scaled_df.columns, lasso_model.coef_))"
   ]
  },
  {
   "cell_type": "code",
   "execution_count": null,
   "metadata": {},
   "outputs": [],
   "source": [
    "# Run the cross validation, find the best alpha, refit the model on all the data with that alpha\n",
    "\n",
    "\n",
    "alphavec = 10**np.linspace(-5,5,1000)\n",
    "\n",
    "lasso_model = LassoCV(alphas = alphavec, cv=5)\n",
    "lasso_model.fit(X_train, y_train)\n",
    "print('The best value of alpha is:', lasso_model.alpha_)"
   ]
  },
  {
   "cell_type": "code",
   "execution_count": null,
   "metadata": {},
   "outputs": [],
   "source": [
    "lasso_model = Lasso(alpha = 0.0986)\n",
    "lasso_model.fit(X_train,y_train)\n",
    "list(zip(X_train.columns, lasso_model.coef_))"
   ]
  },
  {
   "cell_type": "code",
   "execution_count": null,
   "metadata": {},
   "outputs": [],
   "source": [
    "lasso_coef = pd.DataFrame(list(zip(X_train.columns, lasso_model.coef_)),columns=['Feature','Coefficient'])\n",
    "lassp_top = lasso_coef.sort_values(by=['Coefficient'],ascending=False).head(20)"
   ]
  },
  {
   "cell_type": "code",
   "execution_count": null,
   "metadata": {},
   "outputs": [],
   "source": [
    "lassp_top.Feature.tolist()"
   ]
  },
  {
   "cell_type": "code",
   "execution_count": null,
   "metadata": {},
   "outputs": [],
   "source": [
    "\n",
    "# Generate coef plots for the 3 continuous features\n",
    "# plt.style.use('seaborn')\n",
    "import matplotlib.style as style\n",
    "# style.use('seaborn-poster') #sets the size of the charts\n",
    "# style.use('seaborn-dark')\n",
    "# p = sns.color_palette(\"GnBu_r\",20)\n",
    "p = sns.color_palette(\"RdYlBu\",20)\n",
    "sns.set_palette(p)\n",
    "\n",
    "fig, ax = plt.subplots()\n",
    "sns.set_palette(p)\n",
    "sns.barplot(y=\"Feature\", x= 'Coefficient', data = lassp_top,orient='h')\n",
    "ax.set_title('What makes a blockbuster?',fontsize=20)\n",
    "ax.set_ylabel('Feature',fontsize=20)\n",
    "ax.set_xlabel('Coefficient',fontsize=20)\n",
    "plt.xticks(fontsize=16)\n",
    "plt.yticks(fontsize=13)\n",
    "# ax.set_xticks([0,5e4,100e3,150e3,200e3,250e3])\n",
    "ax.set_yticklabels(['Budget',\n",
    " 'Lucasfilm',\n",
    " 'Dream Works Animation',\n",
    " 'Czech',\n",
    " 'New Line Cinema',\n",
    " 'Universal Pictures',\n",
    " 'Screen Gems',\n",
    " 'Twentieth CenturyFox',\n",
    " 'Paramount Pictures',\n",
    " 'Horror',\n",
    " 'Year of release',\n",
    " 'Animation',\n",
    " 'Italian',\n",
    " 'Walt Disney Pictures',\n",
    " 'Runtime',\n",
    " 'Budget * Year of release',\n",
    " 'Warner Bros.',\n",
    " 'Japan',\n",
    " 'Lionsgate',\n",
    " 'Columbia Pictures'])\n",
    "\n",
    "fig.savefig('../plot/lasso_coef.pdf', bbox_inches='tight', transparent=True)\n",
    "# fig.savefig('Top_station2.svg', format='svg')"
   ]
  },
  {
   "cell_type": "code",
   "execution_count": null,
   "metadata": {},
   "outputs": [],
   "source": [
    "val_pred = lasso_model.predict(X_val)\n",
    "r2_score(y_val, val_pred)"
   ]
  },
  {
   "cell_type": "code",
   "execution_count": null,
   "metadata": {},
   "outputs": [],
   "source": [
    "# Visualization\n",
    "fig, ax = plt.subplots(1, 1)\n",
    "plt.scatter(y_val, y_pred, alpha=0.4)\n",
    "\n",
    "val_score=r2_score(y_val, y_pred)\n",
    "\n",
    "ax.set_xlabel('Opening weekend revenue (USD)',fontsize=20)\n",
    "ax.set_ylabel('Prediction (USD)',fontsize=20)\n",
    "ax.set_title('R$^2$: %0.2f' % val_score, fontsize=20)\n",
    "\n",
    "plt.xticks(fontsize=16)\n",
    "plt.yticks(fontsize=16)\n",
    "\n",
    "#     ax.set_xticks([0,0.2e8,0.4e8,0.6e8,0.8e8])\n",
    "#     ax.set_xticklabels(['0','20M','40M','60M','80M'])\n",
    "#     ax.set_yticks([0,0.1e8,0.2e8,0.3e8,0.4e8,0.5e8,0.6e8,0.7e8])\n",
    "#     ax.set_yticklabels(['0','10M','20M','30M','40M','50M','60M','70M'])\n",
    "\n",
    "x=np.linspace(0,0.7e2,50)\n",
    "#     x=np.linspace(4,9,50)\n",
    "\n",
    "y=x\n",
    "plt.plot(x,y,color='firebrick',linewidth=3,alpha=0.6)\n",
    "plt.ylim(0,)\n",
    "plt.xlim(0,)"
   ]
  },
  {
   "cell_type": "code",
   "execution_count": null,
   "metadata": {},
   "outputs": [],
   "source": []
  },
  {
   "cell_type": "code",
   "execution_count": null,
   "metadata": {},
   "outputs": [],
   "source": []
  }
 ],
 "metadata": {
  "kernelspec": {
   "display_name": "Python 3",
   "language": "python",
   "name": "python3"
  },
  "language_info": {
   "codemirror_mode": {
    "name": "ipython",
    "version": 3
   },
   "file_extension": ".py",
   "mimetype": "text/x-python",
   "name": "python",
   "nbconvert_exporter": "python",
   "pygments_lexer": "ipython3",
   "version": "3.8.5"
  }
 },
 "nbformat": 4,
 "nbformat_minor": 4
}
