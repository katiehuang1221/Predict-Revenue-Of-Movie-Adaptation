{
 "cells": [
  {
   "cell_type": "code",
   "execution_count": 1,
   "metadata": {},
   "outputs": [],
   "source": [
    "import sys\n",
    "sys.path.append('/Users/katiehuang/Desktop/metis/projects/onl_ds5_project_2/py')\n",
    "from loadpage import *\n",
    "import importlib\n",
    "from fictiondb import *"
   ]
  },
  {
   "cell_type": "code",
   "execution_count": 2,
   "metadata": {},
   "outputs": [],
   "source": [
    "from bs4 import BeautifulSoup\n",
    "import requests\n",
    "import time, os"
   ]
  },
  {
   "cell_type": "code",
   "execution_count": 3,
   "metadata": {},
   "outputs": [],
   "source": [
    "from selenium import webdriver\n",
    "from selenium.webdriver.common.keys import Keys\n",
    "from selenium.webdriver.support.ui import WebDriverWait\n",
    "from selenium.webdriver.common.by import By\n",
    "from selenium.webdriver.support import expected_conditions as EC\n",
    "from selenium.webdriver.common.action_chains import ActionChains\n",
    "\n",
    "\n",
    "chromedriver = \"/Applications/chromedriver\" # path to the chromedriver executable\n",
    "os.environ[\"webdriver.chrome.driver\"] = chromedriver"
   ]
  },
  {
   "cell_type": "code",
   "execution_count": 4,
   "metadata": {},
   "outputs": [],
   "source": [
    "# # Open automated Chrome with fictionDB webpage\n",
    "# driver = webdriver.Chrome(chromedriver)\n",
    "# driver.get(\"https://www.fictiondb.com/search/search.htm\")\n",
    "\n",
    "# # Search for author (test with Jane Austen)\n",
    "# search_bar = driver.find_element_by_xpath(\"//input[@name='author'][@type='text']\")\n",
    "# search_bar.clear()\n",
    "# search_bar.send_keys(\"Jane Austen\")\n",
    "# search_bar.send_keys(Keys.RETURN)\n",
    "\n",
    "# # Click on the author link\n",
    "# elem = driver.find_element_by_link_text(\"Austen, Jane\")\n",
    "# elem.click()\n",
    "\n",
    "# # Find publications and create list of year\n",
    "# publication = driver.find_elements_by_xpath(\"//a[@itemprop='datePublished']\")\n",
    "# years = [int(s.text) for s in publication]\n",
    "\n",
    "# years"
   ]
  },
  {
   "cell_type": "code",
   "execution_count": null,
   "metadata": {},
   "outputs": [],
   "source": []
  },
  {
   "cell_type": "code",
   "execution_count": null,
   "metadata": {},
   "outputs": [],
   "source": []
  },
  {
   "cell_type": "code",
   "execution_count": 5,
   "metadata": {},
   "outputs": [],
   "source": [
    "# may be useful??\n",
    "# WebDriverWait(driver, 10).until(EC.element_to_be_clickable((By.XPATH, \"//input[@class='btn btn-primary' and @id='YesBtn']\"))).click()"
   ]
  },
  {
   "cell_type": "code",
   "execution_count": 6,
   "metadata": {},
   "outputs": [],
   "source": [
    "# driver.find_element_by_xpath((\"//html\")).click()"
   ]
  },
  {
   "cell_type": "code",
   "execution_count": 14,
   "metadata": {},
   "outputs": [],
   "source": [
    "author_dict = {}"
   ]
  },
  {
   "cell_type": "code",
   "execution_count": 15,
   "metadata": {},
   "outputs": [],
   "source": [
    "authors = [\"Jane Austen\",\"J.K. Rowling\"]"
   ]
  },
  {
   "cell_type": "code",
   "execution_count": 18,
   "metadata": {},
   "outputs": [],
   "source": [
    "for author in authors:\n",
    "    years = search(author)\n",
    "    author_dict[author] = years"
   ]
  },
  {
   "cell_type": "code",
   "execution_count": 19,
   "metadata": {},
   "outputs": [
    {
     "data": {
      "text/plain": [
       "{'Jane Austen': [1818,\n",
       "  1817,\n",
       "  1815,\n",
       "  1814,\n",
       "  1813,\n",
       "  1811,\n",
       "  1805,\n",
       "  1805,\n",
       "  1803,\n",
       "  1790,\n",
       "  1786],\n",
       " 'J.K. Rowling': [2020,\n",
       "  2018,\n",
       "  2016,\n",
       "  2016,\n",
       "  2016,\n",
       "  2016,\n",
       "  2012,\n",
       "  2008,\n",
       "  2007,\n",
       "  2005,\n",
       "  2003,\n",
       "  2001,\n",
       "  2001,\n",
       "  2000,\n",
       "  1999,\n",
       "  1999,\n",
       "  1998]}"
      ]
     },
     "execution_count": 19,
     "metadata": {},
     "output_type": "execute_result"
    }
   ],
   "source": [
    "author_dict"
   ]
  },
  {
   "cell_type": "code",
   "execution_count": 9,
   "metadata": {},
   "outputs": [],
   "source": [
    "# search(\"J.K. Rowling\")"
   ]
  },
  {
   "cell_type": "code",
   "execution_count": 10,
   "metadata": {},
   "outputs": [],
   "source": [
    "# find_years()"
   ]
  },
  {
   "cell_type": "code",
   "execution_count": 11,
   "metadata": {},
   "outputs": [],
   "source": [
    "# publication = driver.find_elements_by_xpath(\"//a[@itemprop='datePublished']\")"
   ]
  },
  {
   "cell_type": "code",
   "execution_count": null,
   "metadata": {},
   "outputs": [],
   "source": []
  },
  {
   "cell_type": "markdown",
   "metadata": {},
   "source": [
    "### Selenium on goodreads\n",
    "\n",
    "Need to search on goodreads using movie title to find the book match."
   ]
  },
  {
   "cell_type": "code",
   "execution_count": null,
   "metadata": {},
   "outputs": [],
   "source": [
    "driver = webdriver.Chrome(chromedriver)"
   ]
  },
  {
   "cell_type": "code",
   "execution_count": null,
   "metadata": {},
   "outputs": [],
   "source": [
    "driver.get(\"https://www.goodreads.com/\")"
   ]
  },
  {
   "cell_type": "code",
   "execution_count": null,
   "metadata": {},
   "outputs": [],
   "source": [
    "# Search for movie title\n",
    "# Take After we collided for example\n",
    "search_bar = driver.find_element_by_xpath(\"//input[@name='query'][@type='text']\")\n",
    "search_bar.clear()\n",
    "search_bar.send_keys(\"After we collided\")\n",
    "search_bar.send_keys(Keys.RETURN)"
   ]
  },
  {
   "cell_type": "code",
   "execution_count": null,
   "metadata": {},
   "outputs": [],
   "source": [
    "# get ad page and reactid\n",
    "ad = driver.page_source\n",
    "ad_soup = BeautifulSoup(ad, \"lxml\")\n",
    "button = ad_soup.find_all('button',class_=\"gr-iconButton\")[-1]\n",
    "rid = (button.get('data-reactid'))\n",
    "\n",
    "# Click on the cross button\n",
    "cross = driver.find_element_by_xpath(\"//button[@data-reactid='\" + rid + \"'][@type='button']\")\n",
    "cross.click()"
   ]
  },
  {
   "cell_type": "code",
   "execution_count": null,
   "metadata": {},
   "outputs": [],
   "source": [
    "# Click on the first results\n",
    "elem = driver.find_element_by_xpath(\"//a[@class='bookTitle']\")\n",
    "elem.click()"
   ]
  },
  {
   "cell_type": "code",
   "execution_count": null,
   "metadata": {},
   "outputs": [],
   "source": [
    "book = BeautifulSoup(driver.page_source, \"lxml\")\n",
    "get_bookdata(book)"
   ]
  },
  {
   "cell_type": "code",
   "execution_count": null,
   "metadata": {},
   "outputs": [],
   "source": [
    "# Refine the function\n",
    "\n",
    "def search_goodreads(movie):\n",
    "    driver.get(\"https://www.goodreads.com/\")\n",
    "    \n",
    "    # Set book default\n",
    "    book = {'book_title': np.nan,\n",
    " 'author': np.nan,\n",
    " 'rating_value': np.nan,\n",
    " 'rating_count': np.nan,\n",
    " 'review_count': np.nan,\n",
    " 'page': np.nan,\n",
    " 'year': np.nan}\n",
    "\n",
    "    # Search movie title\n",
    "    search_bar = driver.find_element_by_xpath(\"//input[@name='query'][@type='text']\")\n",
    "    search_bar.clear()\n",
    "    search_bar.send_keys(movie)\n",
    "    search_bar.send_keys(Keys.RETURN)\n",
    "    time.sleep(5)\n",
    "\n",
    "    actions = ActionChains(driver)\n",
    "    actions.send_keys(Keys.RETURN)\n",
    "    actions.perform()\n",
    "    # Click on the first result\n",
    "    try:\n",
    "        elem = driver.find_element_by_class_name(\"bookTitle\").click()\n",
    "        # Make soup and get data\n",
    "        book_soup = BeautifulSoup(driver.page_source, \"lxml\")\n",
    "        book = get_bookdata(book_soup)\n",
    "    except:\n",
    "        pass\n",
    "    \n",
    "\n",
    "    return book"
   ]
  },
  {
   "cell_type": "code",
   "execution_count": null,
   "metadata": {},
   "outputs": [],
   "source": [
    "# Test on short list of movies missing books\n",
    "found_book1=[]\n",
    "driver = webdriver.Chrome(chromedriver)\n",
    "for movie in ['After We Collided','Mowgli Legend of the Jungle','The Beastmaster']:\n",
    "    result = search_goodreads(movie)\n",
    "    found_book1.append(result)"
   ]
  },
  {
   "cell_type": "code",
   "execution_count": null,
   "metadata": {},
   "outputs": [],
   "source": [
    "found_book1"
   ]
  },
  {
   "cell_type": "markdown",
   "metadata": {},
   "source": [
    "### Create a found_book list of data for books found by searching movie titles"
   ]
  },
  {
   "cell_type": "code",
   "execution_count": null,
   "metadata": {},
   "outputs": [],
   "source": [
    "# Load in movie_data picke file\n",
    "movie_df = pd.read_pickle('../dump/movie_data')\n",
    "book_df = pd.read_pickle('../dump/book_data')"
   ]
  },
  {
   "cell_type": "code",
   "execution_count": null,
   "metadata": {},
   "outputs": [],
   "source": [
    "movie_list = list(movie_df.movie_title)\n",
    "book_list = list(book_df.book_title)"
   ]
  },
  {
   "cell_type": "code",
   "execution_count": null,
   "metadata": {},
   "outputs": [],
   "source": [
    "need_book_pre = list(set(movie_list).difference(set(book_list)))\n",
    "need_book = [book.replace('&','and').replace(\":\",'') for book in need_book_pre]"
   ]
  },
  {
   "cell_type": "code",
   "execution_count": null,
   "metadata": {},
   "outputs": [],
   "source": [
    "len(need_book)"
   ]
  },
  {
   "cell_type": "code",
   "execution_count": null,
   "metadata": {},
   "outputs": [],
   "source": [
    "found_book=[]\n",
    "driver = webdriver.Chrome(chromedriver)\n",
    "for movie in need_book:\n",
    "    result = search_goodreads(movie)\n",
    "    found_book.append(result)"
   ]
  },
  {
   "cell_type": "code",
   "execution_count": null,
   "metadata": {},
   "outputs": [],
   "source": [
    "# Save the list to pd.DataFrame\n",
    "found_book_df = pd.DataFrame(found_book)\n",
    "# Save the data to pickle file\n",
    "found_book_df.to_pickle('../dump/found_book')"
   ]
  },
  {
   "cell_type": "code",
   "execution_count": null,
   "metadata": {},
   "outputs": [],
   "source": [
    "len(found_book)"
   ]
  },
  {
   "cell_type": "code",
   "execution_count": null,
   "metadata": {},
   "outputs": [],
   "source": []
  },
  {
   "cell_type": "code",
   "execution_count": null,
   "metadata": {},
   "outputs": [],
   "source": [
    "# Try loading from picke files\n",
    "found_book_df = pd.read_pickle('../dump/found_book')"
   ]
  },
  {
   "cell_type": "code",
   "execution_count": null,
   "metadata": {},
   "outputs": [],
   "source": [
    "found_book_df"
   ]
  }
 ],
 "metadata": {
  "kernelspec": {
   "display_name": "Python 3",
   "language": "python",
   "name": "python3"
  },
  "language_info": {
   "codemirror_mode": {
    "name": "ipython",
    "version": 3
   },
   "file_extension": ".py",
   "mimetype": "text/x-python",
   "name": "python",
   "nbconvert_exporter": "python",
   "pygments_lexer": "ipython3",
   "version": "3.8.5"
  }
 },
 "nbformat": 4,
 "nbformat_minor": 4
}
