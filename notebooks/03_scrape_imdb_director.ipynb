{
 "cells": [
  {
   "cell_type": "code",
   "execution_count": null,
   "metadata": {},
   "outputs": [],
   "source": [
    "\"\"\"\n",
    "Get data of directors from IMDB page.\n",
    "Import movie_adaptations_data for director and link_d and scrape the directors pages.\n",
    "For each director, find list of movies and scrape movie pages for brief info.\n",
    "\n",
    "functions used:\n",
    "get_soup(url) from scrape.py\n",
    "get_movie_brief(soup) from get_movie.py\n",
    "\n",
    "Output to pickle 'director_data'.\n",
    "\n",
    "\"\"\""
   ]
  },
  {
   "cell_type": "code",
   "execution_count": null,
   "metadata": {},
   "outputs": [],
   "source": [
    "from bs4 import BeautifulSoup\n",
    "import requests\n",
    "\n",
    "import pandas as pd\n",
    "import numpy as np\n",
    "\n",
    "import pickle\n",
    "\n",
    "import sys\n",
    "sys.path.append('/Users/katiehuang/Documents/metis/projects/onl_ds5_project_2/py')\n",
    "from scrape import *\n",
    "from get_movie import *"
   ]
  },
  {
   "cell_type": "markdown",
   "metadata": {},
   "source": [
    "### Construct director DataFrame"
   ]
  },
  {
   "cell_type": "code",
   "execution_count": null,
   "metadata": {},
   "outputs": [],
   "source": [
    "# Load movie_adaptations_data\n",
    "movie_df = pd.read_pickle('../data/movie_data_adaptation')"
   ]
  },
  {
   "cell_type": "code",
   "execution_count": null,
   "metadata": {},
   "outputs": [],
   "source": [
    "# Create list of directors from the 2000 movies (uniqie:1102)\n",
    "# Create dictionary of director and director link\n",
    "movie_temp = movie_df.drop_duplicates(subset=['director'])\n",
    "director_link_dict = movie_df[['director','link_d']].drop_duplicates(subset=['director']).\\\n",
    "                    set_index('director').T.to_dict('list')"
   ]
  },
  {
   "cell_type": "code",
   "execution_count": null,
   "metadata": {},
   "outputs": [],
   "source": [
    "# Create list of movie_dict for each director\n",
    "director_film_list=[]\n",
    "\n",
    "base_url = \"https://www.imdb.com\"\n",
    "# c = 0 # to check scraping progress\n",
    "\n",
    "for director in director_link_dict:\n",
    "#     c += 1\n",
    "#     print(c, director)\n",
    "    director_url = base_url + director_link_dict[director][0]\n",
    "    director_soup = get_soup(director_url)\n",
    "    films = director_soup.find('div', id=\"filmo-head-director\").findNext('div')\n",
    "    \n",
    "    for film in films:\n",
    "        movie = film.find('a')\n",
    "        if type(movie) != int:\n",
    "            movie_title = movie.text\n",
    "            movie_link = movie.get('href')\n",
    "            movie_soup = get_soup(base_url + movie_link)\n",
    "    \n",
    "            detail = get_movie_brief(movie_soup)\n",
    "            director_film_list.append(detail)"
   ]
  },
  {
   "cell_type": "code",
   "execution_count": null,
   "metadata": {},
   "outputs": [],
   "source": [
    "director_df = pd.DataFrame(director_film_list)"
   ]
  },
  {
   "cell_type": "code",
   "execution_count": null,
   "metadata": {},
   "outputs": [],
   "source": [
    "# Create director_df and pickle as 'director_data'\n",
    "\n",
    "director_df = pd.DataFrame(director_film_list)\n"
   ]
  },
  {
   "cell_type": "code",
   "execution_count": null,
   "metadata": {},
   "outputs": [],
   "source": []
  }
 ],
 "metadata": {
  "kernelspec": {
   "display_name": "Python 3",
   "language": "python",
   "name": "python3"
  },
  "language_info": {
   "codemirror_mode": {
    "name": "ipython",
    "version": 3
   },
   "file_extension": ".py",
   "mimetype": "text/x-python",
   "name": "python",
   "nbconvert_exporter": "python",
   "pygments_lexer": "ipython3",
   "version": "3.8.5"
  }
 },
 "nbformat": 4,
 "nbformat_minor": 4
}
