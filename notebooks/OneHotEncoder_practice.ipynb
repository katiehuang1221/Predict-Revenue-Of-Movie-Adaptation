{
 "cells": [
  {
   "cell_type": "code",
   "execution_count": 33,
   "metadata": {},
   "outputs": [],
   "source": [
    "import pandas as pd\n",
    "from sklearn.model_selection import train_test_split\n",
    "from sklearn.linear_model import LinearRegression\n",
    "from sklearn.metrics import mean_squared_error\n",
    "from sklearn.preprocessing import OneHotEncoder\n",
    "import numpy as np"
   ]
  },
  {
   "cell_type": "code",
   "execution_count": 2,
   "metadata": {},
   "outputs": [],
   "source": [
    "# Load movie data\n",
    "import pandas as pd\n",
    "movie_df = pd.read_pickle('../dump/movie_data')"
   ]
  },
  {
   "cell_type": "code",
   "execution_count": 12,
   "metadata": {},
   "outputs": [],
   "source": [
    "movie_trimmed = movie_df.drop(columns=['rating','vote','metascore','keywords',\\\n",
    "                                       'link_d','link_s','link_w'])\n",
    "movie_trimmed.rename(columns = {'certificate':'MPAA'},inplace=True)"
   ]
  },
  {
   "cell_type": "code",
   "execution_count": 13,
   "metadata": {},
   "outputs": [
    {
     "data": {
      "text/html": [
       "<div>\n",
       "<style scoped>\n",
       "    .dataframe tbody tr th:only-of-type {\n",
       "        vertical-align: middle;\n",
       "    }\n",
       "\n",
       "    .dataframe tbody tr th {\n",
       "        vertical-align: top;\n",
       "    }\n",
       "\n",
       "    .dataframe thead th {\n",
       "        text-align: right;\n",
       "    }\n",
       "</style>\n",
       "<table border=\"1\" class=\"dataframe\">\n",
       "  <thead>\n",
       "    <tr style=\"text-align: right;\">\n",
       "      <th></th>\n",
       "      <th>movie_title</th>\n",
       "      <th>MPAA</th>\n",
       "      <th>genre</th>\n",
       "      <th>release_date</th>\n",
       "      <th>budget</th>\n",
       "      <th>opening_weekend_usa</th>\n",
       "      <th>gross_usa</th>\n",
       "      <th>gross_world</th>\n",
       "      <th>runtime</th>\n",
       "      <th>director</th>\n",
       "      <th>writer</th>\n",
       "      <th>star</th>\n",
       "      <th>distributor</th>\n",
       "      <th>language</th>\n",
       "      <th>country</th>\n",
       "    </tr>\n",
       "  </thead>\n",
       "  <tbody>\n",
       "    <tr>\n",
       "      <th>0</th>\n",
       "      <td>After We Collided</td>\n",
       "      <td>R</td>\n",
       "      <td>[Drama, Romance]</td>\n",
       "      <td>2020-10-23</td>\n",
       "      <td>NaN</td>\n",
       "      <td>422899.0</td>\n",
       "      <td>2386483.0</td>\n",
       "      <td>4.799041e+07</td>\n",
       "      <td>105.0</td>\n",
       "      <td>Roger Kumble</td>\n",
       "      <td>[Anna Todd, Mario Celaya]</td>\n",
       "      <td>[Josephine Langford, Hero Fiennes Tiffin, Dyla...</td>\n",
       "      <td>CalMaple</td>\n",
       "      <td>[English, Chinese]</td>\n",
       "      <td>[USA]</td>\n",
       "    </tr>\n",
       "    <tr>\n",
       "      <th>1</th>\n",
       "      <td>The Godfather</td>\n",
       "      <td>R</td>\n",
       "      <td>[Crime, Drama]</td>\n",
       "      <td>1972-03-24</td>\n",
       "      <td>6000000.0</td>\n",
       "      <td>302393.0</td>\n",
       "      <td>134966411.0</td>\n",
       "      <td>2.461210e+08</td>\n",
       "      <td>175.0</td>\n",
       "      <td>Francis Ford Coppola</td>\n",
       "      <td>[Mario Puzo, Francis Ford Coppola]</td>\n",
       "      <td>[Marlon Brando, Al Pacino, James Caan]</td>\n",
       "      <td>ParamountPictures</td>\n",
       "      <td>[English, Italian, Latin]</td>\n",
       "      <td>[USA]</td>\n",
       "    </tr>\n",
       "    <tr>\n",
       "      <th>2</th>\n",
       "      <td>Harry Potter and the Sorcerer's Stone</td>\n",
       "      <td>PG</td>\n",
       "      <td>[Adventure, Family, Fantasy]</td>\n",
       "      <td>2001-11-16</td>\n",
       "      <td>125000000.0</td>\n",
       "      <td>90294621.0</td>\n",
       "      <td>318087620.0</td>\n",
       "      <td>1.006918e+09</td>\n",
       "      <td>159.0</td>\n",
       "      <td>Chris Columbus</td>\n",
       "      <td>[J.K. Rowling, Steve Kloves]</td>\n",
       "      <td>[Daniel Radcliffe, Rupert Grint, Richard Harris]</td>\n",
       "      <td>WarnerBros.</td>\n",
       "      <td>[English]</td>\n",
       "      <td>[UK, USA]</td>\n",
       "    </tr>\n",
       "    <tr>\n",
       "      <th>3</th>\n",
       "      <td>Unknown</td>\n",
       "      <td>PG-13</td>\n",
       "      <td>[Action, Thriller]</td>\n",
       "      <td>2011-02-18</td>\n",
       "      <td>30000000.0</td>\n",
       "      <td>21856389.0</td>\n",
       "      <td>63686397.0</td>\n",
       "      <td>1.357100e+08</td>\n",
       "      <td>113.0</td>\n",
       "      <td>Jaume Collet-Serra</td>\n",
       "      <td>[Oliver Butcher, Stephen Cornwell]</td>\n",
       "      <td>[Liam Neeson, Diane Kruger, January Jones]</td>\n",
       "      <td>DarkCastleEntertainment</td>\n",
       "      <td>[English, German, Turkish, Arabic]</td>\n",
       "      <td>[UK, Germany, France, USA]</td>\n",
       "    </tr>\n",
       "    <tr>\n",
       "      <th>4</th>\n",
       "      <td>The Lord of the Rings: The Fellowship of the Ring</td>\n",
       "      <td>PG-13</td>\n",
       "      <td>[Action, Adventure, Drama]</td>\n",
       "      <td>2001-12-19</td>\n",
       "      <td>93000000.0</td>\n",
       "      <td>47211490.0</td>\n",
       "      <td>315544750.0</td>\n",
       "      <td>8.881591e+08</td>\n",
       "      <td>171.0</td>\n",
       "      <td>Peter Jackson</td>\n",
       "      <td>[J.R.R. Tolkien, Fran Walsh, 2 more credits]</td>\n",
       "      <td>[Elijah Wood, Ian McKellen, Orlando Bloom]</td>\n",
       "      <td>NewLineCinema</td>\n",
       "      <td>[English, Sindarin]</td>\n",
       "      <td>[NewZealand, USA]</td>\n",
       "    </tr>\n",
       "    <tr>\n",
       "      <th>...</th>\n",
       "      <td>...</td>\n",
       "      <td>...</td>\n",
       "      <td>...</td>\n",
       "      <td>...</td>\n",
       "      <td>...</td>\n",
       "      <td>...</td>\n",
       "      <td>...</td>\n",
       "      <td>...</td>\n",
       "      <td>...</td>\n",
       "      <td>...</td>\n",
       "      <td>...</td>\n",
       "      <td>...</td>\n",
       "      <td>...</td>\n",
       "      <td>...</td>\n",
       "      <td>...</td>\n",
       "    </tr>\n",
       "    <tr>\n",
       "      <th>1995</th>\n",
       "      <td>From the Terrace</td>\n",
       "      <td>Passed</td>\n",
       "      <td>[Drama, Romance]</td>\n",
       "      <td>1960-09-09</td>\n",
       "      <td>NaN</td>\n",
       "      <td>NaN</td>\n",
       "      <td>11336000.0</td>\n",
       "      <td>NaN</td>\n",
       "      <td>149.0</td>\n",
       "      <td>Mark Robson</td>\n",
       "      <td>[John O'Hara, Ernest Lehman]</td>\n",
       "      <td>[Paul Newman, Joanne Woodward, Myrna Loy]</td>\n",
       "      <td>Linebrook</td>\n",
       "      <td>[English]</td>\n",
       "      <td>[USA]</td>\n",
       "    </tr>\n",
       "    <tr>\n",
       "      <th>1996</th>\n",
       "      <td>V.I. Warshawski</td>\n",
       "      <td>R</td>\n",
       "      <td>[Action, Comedy, Crime]</td>\n",
       "      <td>1991-07-26</td>\n",
       "      <td>NaN</td>\n",
       "      <td>3603338.0</td>\n",
       "      <td>11128309.0</td>\n",
       "      <td>1.112831e+07</td>\n",
       "      <td>89.0</td>\n",
       "      <td>Jeff Kanew</td>\n",
       "      <td>[Sara Paretsky, Edward Taylor, 3 more credits]</td>\n",
       "      <td>[Kathleen Turner, Jay O. Sanders, Charles Durn...</td>\n",
       "      <td>HollywoodPictures</td>\n",
       "      <td>[English]</td>\n",
       "      <td>[USA]</td>\n",
       "    </tr>\n",
       "    <tr>\n",
       "      <th>1997</th>\n",
       "      <td>Anne of Green Gables</td>\n",
       "      <td>Passed</td>\n",
       "      <td>[Comedy, Drama, Family]</td>\n",
       "      <td>1934-11-23</td>\n",
       "      <td>226000.0</td>\n",
       "      <td>NaN</td>\n",
       "      <td>NaN</td>\n",
       "      <td>NaN</td>\n",
       "      <td>78.0</td>\n",
       "      <td>George Nichols Jr.</td>\n",
       "      <td>[Sam Mintz, Lucy Maud Montgomery]</td>\n",
       "      <td>[Anne Shirley, Tom Brown, O.P. Heggie]</td>\n",
       "      <td>RKORadioPictures</td>\n",
       "      <td>[English]</td>\n",
       "      <td>[USA]</td>\n",
       "    </tr>\n",
       "    <tr>\n",
       "      <th>1998</th>\n",
       "      <td>Odds Against Tomorrow</td>\n",
       "      <td>Approved</td>\n",
       "      <td>[Crime, Drama, Thriller]</td>\n",
       "      <td>1959-11-01</td>\n",
       "      <td>NaN</td>\n",
       "      <td>NaN</td>\n",
       "      <td>NaN</td>\n",
       "      <td>NaN</td>\n",
       "      <td>100.0</td>\n",
       "      <td>Robert Wise</td>\n",
       "      <td>[William P. McGivern, Abraham Polonsky, 2 more...</td>\n",
       "      <td>[Harry Belafonte, Robert Ryan, Gloria Grahame]</td>\n",
       "      <td>HarBelProductions</td>\n",
       "      <td>[English]</td>\n",
       "      <td>[USA]</td>\n",
       "    </tr>\n",
       "    <tr>\n",
       "      <th>1999</th>\n",
       "      <td>Once Is Not Enough</td>\n",
       "      <td>R</td>\n",
       "      <td>[Drama, Romance]</td>\n",
       "      <td>1975-06-20</td>\n",
       "      <td>NaN</td>\n",
       "      <td>NaN</td>\n",
       "      <td>15700729.0</td>\n",
       "      <td>1.570073e+07</td>\n",
       "      <td>121.0</td>\n",
       "      <td>Guy Green</td>\n",
       "      <td>[Julius J. Epstein, Jacqueline Susann]</td>\n",
       "      <td>[Kirk Douglas, Alexis Smith, David Janssen]</td>\n",
       "      <td>AriesProductions</td>\n",
       "      <td>[English]</td>\n",
       "      <td>[USA]</td>\n",
       "    </tr>\n",
       "  </tbody>\n",
       "</table>\n",
       "<p>2000 rows × 15 columns</p>\n",
       "</div>"
      ],
      "text/plain": [
       "                                            movie_title      MPAA  \\\n",
       "0                                     After We Collided         R   \n",
       "1                                         The Godfather         R   \n",
       "2                 Harry Potter and the Sorcerer's Stone        PG   \n",
       "3                                               Unknown     PG-13   \n",
       "4     The Lord of the Rings: The Fellowship of the Ring     PG-13   \n",
       "...                                                 ...       ...   \n",
       "1995                                   From the Terrace    Passed   \n",
       "1996                                    V.I. Warshawski         R   \n",
       "1997                               Anne of Green Gables    Passed   \n",
       "1998                              Odds Against Tomorrow  Approved   \n",
       "1999                                 Once Is Not Enough         R   \n",
       "\n",
       "                             genre release_date       budget  \\\n",
       "0                 [Drama, Romance]   2020-10-23          NaN   \n",
       "1                   [Crime, Drama]   1972-03-24    6000000.0   \n",
       "2     [Adventure, Family, Fantasy]   2001-11-16  125000000.0   \n",
       "3               [Action, Thriller]   2011-02-18   30000000.0   \n",
       "4       [Action, Adventure, Drama]   2001-12-19   93000000.0   \n",
       "...                            ...          ...          ...   \n",
       "1995              [Drama, Romance]   1960-09-09          NaN   \n",
       "1996       [Action, Comedy, Crime]   1991-07-26          NaN   \n",
       "1997       [Comedy, Drama, Family]   1934-11-23     226000.0   \n",
       "1998      [Crime, Drama, Thriller]   1959-11-01          NaN   \n",
       "1999              [Drama, Romance]   1975-06-20          NaN   \n",
       "\n",
       "      opening_weekend_usa    gross_usa   gross_world  runtime  \\\n",
       "0                422899.0    2386483.0  4.799041e+07    105.0   \n",
       "1                302393.0  134966411.0  2.461210e+08    175.0   \n",
       "2              90294621.0  318087620.0  1.006918e+09    159.0   \n",
       "3              21856389.0   63686397.0  1.357100e+08    113.0   \n",
       "4              47211490.0  315544750.0  8.881591e+08    171.0   \n",
       "...                   ...          ...           ...      ...   \n",
       "1995                  NaN   11336000.0           NaN    149.0   \n",
       "1996            3603338.0   11128309.0  1.112831e+07     89.0   \n",
       "1997                  NaN          NaN           NaN     78.0   \n",
       "1998                  NaN          NaN           NaN    100.0   \n",
       "1999                  NaN   15700729.0  1.570073e+07    121.0   \n",
       "\n",
       "                  director                                             writer  \\\n",
       "0             Roger Kumble                          [Anna Todd, Mario Celaya]   \n",
       "1     Francis Ford Coppola                 [Mario Puzo, Francis Ford Coppola]   \n",
       "2           Chris Columbus                       [J.K. Rowling, Steve Kloves]   \n",
       "3       Jaume Collet-Serra                 [Oliver Butcher, Stephen Cornwell]   \n",
       "4            Peter Jackson       [J.R.R. Tolkien, Fran Walsh, 2 more credits]   \n",
       "...                    ...                                                ...   \n",
       "1995           Mark Robson                       [John O'Hara, Ernest Lehman]   \n",
       "1996            Jeff Kanew     [Sara Paretsky, Edward Taylor, 3 more credits]   \n",
       "1997    George Nichols Jr.                  [Sam Mintz, Lucy Maud Montgomery]   \n",
       "1998           Robert Wise  [William P. McGivern, Abraham Polonsky, 2 more...   \n",
       "1999             Guy Green             [Julius J. Epstein, Jacqueline Susann]   \n",
       "\n",
       "                                                   star  \\\n",
       "0     [Josephine Langford, Hero Fiennes Tiffin, Dyla...   \n",
       "1                [Marlon Brando, Al Pacino, James Caan]   \n",
       "2      [Daniel Radcliffe, Rupert Grint, Richard Harris]   \n",
       "3            [Liam Neeson, Diane Kruger, January Jones]   \n",
       "4            [Elijah Wood, Ian McKellen, Orlando Bloom]   \n",
       "...                                                 ...   \n",
       "1995          [Paul Newman, Joanne Woodward, Myrna Loy]   \n",
       "1996  [Kathleen Turner, Jay O. Sanders, Charles Durn...   \n",
       "1997             [Anne Shirley, Tom Brown, O.P. Heggie]   \n",
       "1998     [Harry Belafonte, Robert Ryan, Gloria Grahame]   \n",
       "1999        [Kirk Douglas, Alexis Smith, David Janssen]   \n",
       "\n",
       "                  distributor                            language  \\\n",
       "0                    CalMaple                  [English, Chinese]   \n",
       "1           ParamountPictures           [English, Italian, Latin]   \n",
       "2                 WarnerBros.                           [English]   \n",
       "3     DarkCastleEntertainment  [English, German, Turkish, Arabic]   \n",
       "4               NewLineCinema                 [English, Sindarin]   \n",
       "...                       ...                                 ...   \n",
       "1995                Linebrook                           [English]   \n",
       "1996        HollywoodPictures                           [English]   \n",
       "1997         RKORadioPictures                           [English]   \n",
       "1998        HarBelProductions                           [English]   \n",
       "1999         AriesProductions                           [English]   \n",
       "\n",
       "                         country  \n",
       "0                          [USA]  \n",
       "1                          [USA]  \n",
       "2                      [UK, USA]  \n",
       "3     [UK, Germany, France, USA]  \n",
       "4              [NewZealand, USA]  \n",
       "...                          ...  \n",
       "1995                       [USA]  \n",
       "1996                       [USA]  \n",
       "1997                       [USA]  \n",
       "1998                       [USA]  \n",
       "1999                       [USA]  \n",
       "\n",
       "[2000 rows x 15 columns]"
      ]
     },
     "execution_count": 13,
     "metadata": {},
     "output_type": "execute_result"
    }
   ],
   "source": [
    "movie_trimmed"
   ]
  },
  {
   "cell_type": "code",
   "execution_count": 18,
   "metadata": {},
   "outputs": [],
   "source": [
    "movie_trimmed.dropna(inplace=True)"
   ]
  },
  {
   "cell_type": "code",
   "execution_count": 19,
   "metadata": {},
   "outputs": [
    {
     "data": {
      "text/plain": [
       "(960, 15)"
      ]
     },
     "execution_count": 19,
     "metadata": {},
     "output_type": "execute_result"
    }
   ],
   "source": [
    "movie_trimmed.shape"
   ]
  },
  {
   "cell_type": "code",
   "execution_count": 20,
   "metadata": {},
   "outputs": [
    {
     "data": {
      "text/plain": [
       "array(['R', 'PG', 'PG-13', 'G', 'Passed', 'NC-17', 'Approved', 'X',\n",
       "       'M/PG', 'Not'], dtype=object)"
      ]
     },
     "execution_count": 20,
     "metadata": {},
     "output_type": "execute_result"
    }
   ],
   "source": [
    "movie_trimmed.MPAA.unique()"
   ]
  },
  {
   "cell_type": "code",
   "execution_count": 25,
   "metadata": {},
   "outputs": [
    {
     "data": {
      "text/plain": [
       "R           434\n",
       "PG-13       301\n",
       "PG          179\n",
       "G            36\n",
       "Passed        4\n",
       "Not           2\n",
       "X             1\n",
       "M/PG          1\n",
       "Approved      1\n",
       "NC-17         1\n",
       "Name: MPAA, dtype: int64"
      ]
     },
     "execution_count": 25,
     "metadata": {},
     "output_type": "execute_result"
    }
   ],
   "source": [
    "movie_trimmed.MPAA.value_counts()"
   ]
  },
  {
   "cell_type": "code",
   "execution_count": 31,
   "metadata": {},
   "outputs": [],
   "source": [
    "movie_trimmed.MPAA.replace(['G','Passed','Not','X','M/PG','Approved','NC-17'],'Other',inplace=True)"
   ]
  },
  {
   "cell_type": "code",
   "execution_count": 32,
   "metadata": {},
   "outputs": [
    {
     "data": {
      "text/plain": [
       "R        434\n",
       "PG-13    301\n",
       "PG       179\n",
       "Other     46\n",
       "Name: MPAA, dtype: int64"
      ]
     },
     "execution_count": 32,
     "metadata": {},
     "output_type": "execute_result"
    }
   ],
   "source": [
    "movie_trimmed.MPAA.value_counts()"
   ]
  },
  {
   "cell_type": "code",
   "execution_count": 34,
   "metadata": {},
   "outputs": [
    {
     "data": {
      "text/plain": [
       "Index(['movie_title', 'MPAA', 'genre', 'release_date', 'budget',\n",
       "       'opening_weekend_usa', 'gross_usa', 'gross_world', 'runtime',\n",
       "       'director', 'writer', 'star', 'distributor', 'language', 'country'],\n",
       "      dtype='object')"
      ]
     },
     "execution_count": 34,
     "metadata": {},
     "output_type": "execute_result"
    }
   ],
   "source": [
    "movie_trimmed.columns"
   ]
  },
  {
   "cell_type": "code",
   "execution_count": 38,
   "metadata": {},
   "outputs": [],
   "source": [
    "# Train test split\n",
    "from sklearn.model_selection import train_test_split\n",
    "\n",
    "X= movie_trimmed[['movie_title', 'MPAA', 'genre', 'release_date', 'budget','runtime',\n",
    "       'director', 'writer', 'star', 'distributor', 'language', 'country']]\n",
    "\n",
    "y = movie_trimmed['opening_weekend_usa']\n",
    "\n",
    "X_train, X_test, y_train, y_test = train_test_split(X,y,test_size=0.2)"
   ]
  },
  {
   "cell_type": "code",
   "execution_count": 39,
   "metadata": {},
   "outputs": [],
   "source": [
    "# Preprocessing\n",
    "# Categorical varibale: MPAA\n",
    "cat_variables = ['MPAA']\n",
    "X_train_cat = X_train[cat_variables]"
   ]
  },
  {
   "cell_type": "code",
   "execution_count": 41,
   "metadata": {},
   "outputs": [],
   "source": [
    "# Instantiate a OneHotEncoder object\n",
    "from sklearn.preprocessing import OneHotEncoder\n",
    "\n",
    "ohe = OneHotEncoder(sparse=False, drop='first')\n",
    "ohe.fit(X_train_cat)\n",
    "cats = ohe.transform(X_train_cat)"
   ]
  },
  {
   "cell_type": "code",
   "execution_count": 43,
   "metadata": {},
   "outputs": [
    {
     "data": {
      "text/html": [
       "<div>\n",
       "<style scoped>\n",
       "    .dataframe tbody tr th:only-of-type {\n",
       "        vertical-align: middle;\n",
       "    }\n",
       "\n",
       "    .dataframe tbody tr th {\n",
       "        vertical-align: top;\n",
       "    }\n",
       "\n",
       "    .dataframe thead th {\n",
       "        text-align: right;\n",
       "    }\n",
       "</style>\n",
       "<table border=\"1\" class=\"dataframe\">\n",
       "  <thead>\n",
       "    <tr style=\"text-align: right;\">\n",
       "      <th></th>\n",
       "      <th>MPAA_PG</th>\n",
       "      <th>MPAA_PG-13</th>\n",
       "      <th>MPAA_R</th>\n",
       "    </tr>\n",
       "  </thead>\n",
       "  <tbody>\n",
       "    <tr>\n",
       "      <th>230</th>\n",
       "      <td>0.0</td>\n",
       "      <td>0.0</td>\n",
       "      <td>1.0</td>\n",
       "    </tr>\n",
       "    <tr>\n",
       "      <th>22</th>\n",
       "      <td>0.0</td>\n",
       "      <td>0.0</td>\n",
       "      <td>1.0</td>\n",
       "    </tr>\n",
       "    <tr>\n",
       "      <th>1226</th>\n",
       "      <td>0.0</td>\n",
       "      <td>0.0</td>\n",
       "      <td>1.0</td>\n",
       "    </tr>\n",
       "    <tr>\n",
       "      <th>1326</th>\n",
       "      <td>0.0</td>\n",
       "      <td>0.0</td>\n",
       "      <td>1.0</td>\n",
       "    </tr>\n",
       "    <tr>\n",
       "      <th>501</th>\n",
       "      <td>0.0</td>\n",
       "      <td>1.0</td>\n",
       "      <td>0.0</td>\n",
       "    </tr>\n",
       "  </tbody>\n",
       "</table>\n",
       "</div>"
      ],
      "text/plain": [
       "      MPAA_PG  MPAA_PG-13  MPAA_R\n",
       "230       0.0         0.0     1.0\n",
       "22        0.0         0.0     1.0\n",
       "1226      0.0         0.0     1.0\n",
       "1326      0.0         0.0     1.0\n",
       "501       0.0         1.0     0.0"
      ]
     },
     "execution_count": 43,
     "metadata": {},
     "output_type": "execute_result"
    }
   ],
   "source": [
    "# Create the categorical dataframe\n",
    "columns = ohe.get_feature_names(cat_variables)\n",
    "X_train_cat_df = pd.DataFrame(cats, columns = columns, index = X_train_cat.index)\n",
    "X_train_cat_df.head()"
   ]
  },
  {
   "cell_type": "code",
   "execution_count": null,
   "metadata": {},
   "outputs": [],
   "source": [
    "# Repeat transformation for testing set"
   ]
  },
  {
   "cell_type": "code",
   "execution_count": null,
   "metadata": {},
   "outputs": [],
   "source": []
  },
  {
   "cell_type": "code",
   "execution_count": null,
   "metadata": {},
   "outputs": [],
   "source": []
  },
  {
   "cell_type": "code",
   "execution_count": null,
   "metadata": {},
   "outputs": [],
   "source": []
  },
  {
   "cell_type": "markdown",
   "metadata": {},
   "source": [
    "### OneHotEncoder with list item (e.g. genre)"
   ]
  },
  {
   "cell_type": "code",
   "execution_count": 158,
   "metadata": {},
   "outputs": [
    {
     "data": {
      "text/html": [
       "<div>\n",
       "<style scoped>\n",
       "    .dataframe tbody tr th:only-of-type {\n",
       "        vertical-align: middle;\n",
       "    }\n",
       "\n",
       "    .dataframe tbody tr th {\n",
       "        vertical-align: top;\n",
       "    }\n",
       "\n",
       "    .dataframe thead th {\n",
       "        text-align: right;\n",
       "    }\n",
       "</style>\n",
       "<table border=\"1\" class=\"dataframe\">\n",
       "  <thead>\n",
       "    <tr style=\"text-align: right;\">\n",
       "      <th></th>\n",
       "      <th>A</th>\n",
       "    </tr>\n",
       "  </thead>\n",
       "  <tbody>\n",
       "    <tr>\n",
       "      <th>0</th>\n",
       "      <td>[5, 7]</td>\n",
       "    </tr>\n",
       "    <tr>\n",
       "      <th>1</th>\n",
       "      <td>[3, 4, 5]</td>\n",
       "    </tr>\n",
       "    <tr>\n",
       "      <th>2</th>\n",
       "      <td>[2]</td>\n",
       "    </tr>\n",
       "    <tr>\n",
       "      <th>3</th>\n",
       "      <td>[1, 2, 3, 4]</td>\n",
       "    </tr>\n",
       "  </tbody>\n",
       "</table>\n",
       "</div>"
      ],
      "text/plain": [
       "              A\n",
       "0        [5, 7]\n",
       "1     [3, 4, 5]\n",
       "2           [2]\n",
       "3  [1, 2, 3, 4]"
      ]
     },
     "execution_count": 158,
     "metadata": {},
     "output_type": "execute_result"
    }
   ],
   "source": [
    "# Example\n",
    "d = {'A': [[5,7], [3, 4, 5], [2], [1,2,3,4]]}\n",
    "df = pd.DataFrame(data=d)\n",
    "df"
   ]
  },
  {
   "cell_type": "code",
   "execution_count": 91,
   "metadata": {},
   "outputs": [
    {
     "data": {
      "text/html": [
       "<div>\n",
       "<style scoped>\n",
       "    .dataframe tbody tr th:only-of-type {\n",
       "        vertical-align: middle;\n",
       "    }\n",
       "\n",
       "    .dataframe tbody tr th {\n",
       "        vertical-align: top;\n",
       "    }\n",
       "\n",
       "    .dataframe thead th {\n",
       "        text-align: right;\n",
       "    }\n",
       "</style>\n",
       "<table border=\"1\" class=\"dataframe\">\n",
       "  <thead>\n",
       "    <tr style=\"text-align: right;\">\n",
       "      <th></th>\n",
       "      <th>1</th>\n",
       "      <th>2</th>\n",
       "      <th>3</th>\n",
       "      <th>4</th>\n",
       "      <th>5</th>\n",
       "      <th>7</th>\n",
       "    </tr>\n",
       "  </thead>\n",
       "  <tbody>\n",
       "    <tr>\n",
       "      <th>0</th>\n",
       "      <td>0</td>\n",
       "      <td>0</td>\n",
       "      <td>0</td>\n",
       "      <td>0</td>\n",
       "      <td>1</td>\n",
       "      <td>1</td>\n",
       "    </tr>\n",
       "    <tr>\n",
       "      <th>1</th>\n",
       "      <td>0</td>\n",
       "      <td>0</td>\n",
       "      <td>1</td>\n",
       "      <td>1</td>\n",
       "      <td>1</td>\n",
       "      <td>0</td>\n",
       "    </tr>\n",
       "    <tr>\n",
       "      <th>2</th>\n",
       "      <td>0</td>\n",
       "      <td>1</td>\n",
       "      <td>0</td>\n",
       "      <td>0</td>\n",
       "      <td>0</td>\n",
       "      <td>0</td>\n",
       "    </tr>\n",
       "    <tr>\n",
       "      <th>3</th>\n",
       "      <td>1</td>\n",
       "      <td>1</td>\n",
       "      <td>1</td>\n",
       "      <td>1</td>\n",
       "      <td>0</td>\n",
       "      <td>0</td>\n",
       "    </tr>\n",
       "  </tbody>\n",
       "</table>\n",
       "</div>"
      ],
      "text/plain": [
       "   1  2  3  4  5  7\n",
       "0  0  0  0  0  1  1\n",
       "1  0  0  1  1  1  0\n",
       "2  0  1  0  0  0  0\n",
       "3  1  1  1  1  0  0"
      ]
     },
     "execution_count": 91,
     "metadata": {},
     "output_type": "execute_result"
    }
   ],
   "source": [
    "# Use MultiLabelBinarizer\n",
    "from sklearn.preprocessing import MultiLabelBinarizer\n",
    "mlb = MultiLabelBinarizer()\n",
    "df_ohe = pd.DataFrame(mlb.fit_transform(df['A']),columns = mlb.classes_, index=df.index)\n",
    "df_ohe"
   ]
  },
  {
   "cell_type": "code",
   "execution_count": 195,
   "metadata": {},
   "outputs": [],
   "source": [
    "# Test on genre\n",
    "cat_variable = ['genre']\n",
    "X_train_cat = X_train[cat_variable]"
   ]
  },
  {
   "cell_type": "code",
   "execution_count": 199,
   "metadata": {},
   "outputs": [
    {
     "data": {
      "text/html": [
       "<div>\n",
       "<style scoped>\n",
       "    .dataframe tbody tr th:only-of-type {\n",
       "        vertical-align: middle;\n",
       "    }\n",
       "\n",
       "    .dataframe tbody tr th {\n",
       "        vertical-align: top;\n",
       "    }\n",
       "\n",
       "    .dataframe thead th {\n",
       "        text-align: right;\n",
       "    }\n",
       "</style>\n",
       "<table border=\"1\" class=\"dataframe\">\n",
       "  <thead>\n",
       "    <tr style=\"text-align: right;\">\n",
       "      <th></th>\n",
       "      <th>genre</th>\n",
       "    </tr>\n",
       "  </thead>\n",
       "  <tbody>\n",
       "    <tr>\n",
       "      <th>230</th>\n",
       "      <td>[Drama, History]</td>\n",
       "    </tr>\n",
       "    <tr>\n",
       "      <th>22</th>\n",
       "      <td>[Crime, Drama, Mystery]</td>\n",
       "    </tr>\n",
       "    <tr>\n",
       "      <th>1226</th>\n",
       "      <td>[Crime, Drama, Thriller]</td>\n",
       "    </tr>\n",
       "    <tr>\n",
       "      <th>1326</th>\n",
       "      <td>[Drama]</td>\n",
       "    </tr>\n",
       "    <tr>\n",
       "      <th>501</th>\n",
       "      <td>[Drama, Fantasy, Mystery]</td>\n",
       "    </tr>\n",
       "    <tr>\n",
       "      <th>...</th>\n",
       "      <td>...</td>\n",
       "    </tr>\n",
       "    <tr>\n",
       "      <th>1361</th>\n",
       "      <td>[Action, Biography, Western]</td>\n",
       "    </tr>\n",
       "    <tr>\n",
       "      <th>402</th>\n",
       "      <td>[Animation, Drama, Family]</td>\n",
       "    </tr>\n",
       "    <tr>\n",
       "      <th>436</th>\n",
       "      <td>[Action, Adventure, Fantasy]</td>\n",
       "    </tr>\n",
       "    <tr>\n",
       "      <th>901</th>\n",
       "      <td>[Crime, Drama, Mystery]</td>\n",
       "    </tr>\n",
       "    <tr>\n",
       "      <th>171</th>\n",
       "      <td>[Drama, Western]</td>\n",
       "    </tr>\n",
       "  </tbody>\n",
       "</table>\n",
       "<p>768 rows × 1 columns</p>\n",
       "</div>"
      ],
      "text/plain": [
       "                             genre\n",
       "230               [Drama, History]\n",
       "22         [Crime, Drama, Mystery]\n",
       "1226      [Crime, Drama, Thriller]\n",
       "1326                       [Drama]\n",
       "501      [Drama, Fantasy, Mystery]\n",
       "...                            ...\n",
       "1361  [Action, Biography, Western]\n",
       "402     [Animation, Drama, Family]\n",
       "436   [Action, Adventure, Fantasy]\n",
       "901        [Crime, Drama, Mystery]\n",
       "171               [Drama, Western]\n",
       "\n",
       "[768 rows x 1 columns]"
      ]
     },
     "execution_count": 199,
     "metadata": {},
     "output_type": "execute_result"
    }
   ],
   "source": [
    "X_train_cat"
   ]
  },
  {
   "cell_type": "code",
   "execution_count": 173,
   "metadata": {},
   "outputs": [
    {
     "data": {
      "text/html": [
       "<div>\n",
       "<style scoped>\n",
       "    .dataframe tbody tr th:only-of-type {\n",
       "        vertical-align: middle;\n",
       "    }\n",
       "\n",
       "    .dataframe tbody tr th {\n",
       "        vertical-align: top;\n",
       "    }\n",
       "\n",
       "    .dataframe thead th {\n",
       "        text-align: right;\n",
       "    }\n",
       "</style>\n",
       "<table border=\"1\" class=\"dataframe\">\n",
       "  <thead>\n",
       "    <tr style=\"text-align: right;\">\n",
       "      <th></th>\n",
       "      <th>genre</th>\n",
       "    </tr>\n",
       "  </thead>\n",
       "  <tbody>\n",
       "    <tr>\n",
       "      <th>230</th>\n",
       "      <td>[Drama, History]</td>\n",
       "    </tr>\n",
       "    <tr>\n",
       "      <th>22</th>\n",
       "      <td>[Crime, Drama, Mystery]</td>\n",
       "    </tr>\n",
       "    <tr>\n",
       "      <th>1226</th>\n",
       "      <td>[Crime, Drama, Thriller]</td>\n",
       "    </tr>\n",
       "  </tbody>\n",
       "</table>\n",
       "</div>"
      ],
      "text/plain": [
       "                         genre\n",
       "230           [Drama, History]\n",
       "22     [Crime, Drama, Mystery]\n",
       "1226  [Crime, Drama, Thriller]"
      ]
     },
     "execution_count": 173,
     "metadata": {},
     "output_type": "execute_result"
    }
   ],
   "source": [
    "X_train_cat_test = X_train_cat.iloc[:3,:].copy()\n",
    "X_train_cat_test"
   ]
  },
  {
   "cell_type": "code",
   "execution_count": 243,
   "metadata": {},
   "outputs": [],
   "source": [
    "X_train_cat_set = X_train_cat.copy()"
   ]
  },
  {
   "cell_type": "code",
   "execution_count": 144,
   "metadata": {},
   "outputs": [],
   "source": [
    "def list_set(my_list):\n",
    "    return set(my_list)"
   ]
  },
  {
   "cell_type": "code",
   "execution_count": 254,
   "metadata": {},
   "outputs": [],
   "source": [
    "# Keep only the top 10 genre\n",
    "genre_list = ['Drama','Adventure','Comedy','Action','Crime','Romance','Thriller',\\\n",
    "              'Mystery','Family','Fantasy']"
   ]
  },
  {
   "cell_type": "code",
   "execution_count": 255,
   "metadata": {},
   "outputs": [],
   "source": [
    "X_train_cat_set['genre_clean']= X_train_cat_set.genre.apply(lambda x:\\\n",
    "                            [genre if genre in genre_list else 'Other'for genre in x])"
   ]
  },
  {
   "cell_type": "code",
   "execution_count": 256,
   "metadata": {},
   "outputs": [
    {
     "data": {
      "text/html": [
       "<div>\n",
       "<style scoped>\n",
       "    .dataframe tbody tr th:only-of-type {\n",
       "        vertical-align: middle;\n",
       "    }\n",
       "\n",
       "    .dataframe tbody tr th {\n",
       "        vertical-align: top;\n",
       "    }\n",
       "\n",
       "    .dataframe thead th {\n",
       "        text-align: right;\n",
       "    }\n",
       "</style>\n",
       "<table border=\"1\" class=\"dataframe\">\n",
       "  <thead>\n",
       "    <tr style=\"text-align: right;\">\n",
       "      <th></th>\n",
       "      <th>genre</th>\n",
       "      <th>genre_clean</th>\n",
       "    </tr>\n",
       "  </thead>\n",
       "  <tbody>\n",
       "    <tr>\n",
       "      <th>230</th>\n",
       "      <td>[Drama, History]</td>\n",
       "      <td>[Drama, Other]</td>\n",
       "    </tr>\n",
       "    <tr>\n",
       "      <th>22</th>\n",
       "      <td>[Crime, Drama, Mystery]</td>\n",
       "      <td>[Crime, Drama, Mystery]</td>\n",
       "    </tr>\n",
       "    <tr>\n",
       "      <th>1226</th>\n",
       "      <td>[Crime, Drama, Thriller]</td>\n",
       "      <td>[Crime, Drama, Thriller]</td>\n",
       "    </tr>\n",
       "    <tr>\n",
       "      <th>1326</th>\n",
       "      <td>[Drama]</td>\n",
       "      <td>[Drama]</td>\n",
       "    </tr>\n",
       "    <tr>\n",
       "      <th>501</th>\n",
       "      <td>[Drama, Fantasy, Mystery]</td>\n",
       "      <td>[Drama, Fantasy, Mystery]</td>\n",
       "    </tr>\n",
       "    <tr>\n",
       "      <th>...</th>\n",
       "      <td>...</td>\n",
       "      <td>...</td>\n",
       "    </tr>\n",
       "    <tr>\n",
       "      <th>1361</th>\n",
       "      <td>[Action, Biography, Western]</td>\n",
       "      <td>[Action, Other, Other]</td>\n",
       "    </tr>\n",
       "    <tr>\n",
       "      <th>402</th>\n",
       "      <td>[Animation, Drama, Family]</td>\n",
       "      <td>[Other, Drama, Family]</td>\n",
       "    </tr>\n",
       "    <tr>\n",
       "      <th>436</th>\n",
       "      <td>[Action, Adventure, Fantasy]</td>\n",
       "      <td>[Action, Adventure, Fantasy]</td>\n",
       "    </tr>\n",
       "    <tr>\n",
       "      <th>901</th>\n",
       "      <td>[Crime, Drama, Mystery]</td>\n",
       "      <td>[Crime, Drama, Mystery]</td>\n",
       "    </tr>\n",
       "    <tr>\n",
       "      <th>171</th>\n",
       "      <td>[Drama, Western]</td>\n",
       "      <td>[Drama, Other]</td>\n",
       "    </tr>\n",
       "  </tbody>\n",
       "</table>\n",
       "<p>768 rows × 2 columns</p>\n",
       "</div>"
      ],
      "text/plain": [
       "                             genre                   genre_clean\n",
       "230               [Drama, History]                [Drama, Other]\n",
       "22         [Crime, Drama, Mystery]       [Crime, Drama, Mystery]\n",
       "1226      [Crime, Drama, Thriller]      [Crime, Drama, Thriller]\n",
       "1326                       [Drama]                       [Drama]\n",
       "501      [Drama, Fantasy, Mystery]     [Drama, Fantasy, Mystery]\n",
       "...                            ...                           ...\n",
       "1361  [Action, Biography, Western]        [Action, Other, Other]\n",
       "402     [Animation, Drama, Family]        [Other, Drama, Family]\n",
       "436   [Action, Adventure, Fantasy]  [Action, Adventure, Fantasy]\n",
       "901        [Crime, Drama, Mystery]       [Crime, Drama, Mystery]\n",
       "171               [Drama, Western]                [Drama, Other]\n",
       "\n",
       "[768 rows x 2 columns]"
      ]
     },
     "execution_count": 256,
     "metadata": {},
     "output_type": "execute_result"
    }
   ],
   "source": [
    "X_train_cat_set"
   ]
  },
  {
   "cell_type": "code",
   "execution_count": 259,
   "metadata": {},
   "outputs": [
    {
     "data": {
      "text/html": [
       "<div>\n",
       "<style scoped>\n",
       "    .dataframe tbody tr th:only-of-type {\n",
       "        vertical-align: middle;\n",
       "    }\n",
       "\n",
       "    .dataframe tbody tr th {\n",
       "        vertical-align: top;\n",
       "    }\n",
       "\n",
       "    .dataframe thead th {\n",
       "        text-align: right;\n",
       "    }\n",
       "</style>\n",
       "<table border=\"1\" class=\"dataframe\">\n",
       "  <thead>\n",
       "    <tr style=\"text-align: right;\">\n",
       "      <th></th>\n",
       "      <th>genre_clean</th>\n",
       "    </tr>\n",
       "  </thead>\n",
       "  <tbody>\n",
       "    <tr>\n",
       "      <th>230</th>\n",
       "      <td>{Other, Drama}</td>\n",
       "    </tr>\n",
       "    <tr>\n",
       "      <th>22</th>\n",
       "      <td>{Mystery, Crime, Drama}</td>\n",
       "    </tr>\n",
       "    <tr>\n",
       "      <th>1226</th>\n",
       "      <td>{Crime, Thriller, Drama}</td>\n",
       "    </tr>\n",
       "    <tr>\n",
       "      <th>1326</th>\n",
       "      <td>{Drama}</td>\n",
       "    </tr>\n",
       "    <tr>\n",
       "      <th>501</th>\n",
       "      <td>{Mystery, Drama, Fantasy}</td>\n",
       "    </tr>\n",
       "    <tr>\n",
       "      <th>...</th>\n",
       "      <td>...</td>\n",
       "    </tr>\n",
       "    <tr>\n",
       "      <th>1361</th>\n",
       "      <td>{Other, Action}</td>\n",
       "    </tr>\n",
       "    <tr>\n",
       "      <th>402</th>\n",
       "      <td>{Drama, Other, Family}</td>\n",
       "    </tr>\n",
       "    <tr>\n",
       "      <th>436</th>\n",
       "      <td>{Fantasy, Adventure, Action}</td>\n",
       "    </tr>\n",
       "    <tr>\n",
       "      <th>901</th>\n",
       "      <td>{Mystery, Crime, Drama}</td>\n",
       "    </tr>\n",
       "    <tr>\n",
       "      <th>171</th>\n",
       "      <td>{Other, Drama}</td>\n",
       "    </tr>\n",
       "  </tbody>\n",
       "</table>\n",
       "<p>768 rows × 1 columns</p>\n",
       "</div>"
      ],
      "text/plain": [
       "                       genre_clean\n",
       "230                 {Other, Drama}\n",
       "22         {Mystery, Crime, Drama}\n",
       "1226      {Crime, Thriller, Drama}\n",
       "1326                       {Drama}\n",
       "501      {Mystery, Drama, Fantasy}\n",
       "...                            ...\n",
       "1361               {Other, Action}\n",
       "402         {Drama, Other, Family}\n",
       "436   {Fantasy, Adventure, Action}\n",
       "901        {Mystery, Crime, Drama}\n",
       "171                 {Other, Drama}\n",
       "\n",
       "[768 rows x 1 columns]"
      ]
     },
     "execution_count": 259,
     "metadata": {},
     "output_type": "execute_result"
    }
   ],
   "source": [
    "# Convert genre column from list to set\n",
    "X_train_cat_set['genre_clean'] = X_train_cat_set.genre_clean.apply(list_set)\n",
    "X_train_cat_set[['genre_clean']]"
   ]
  },
  {
   "cell_type": "code",
   "execution_count": 260,
   "metadata": {},
   "outputs": [
    {
     "data": {
      "text/html": [
       "<div>\n",
       "<style scoped>\n",
       "    .dataframe tbody tr th:only-of-type {\n",
       "        vertical-align: middle;\n",
       "    }\n",
       "\n",
       "    .dataframe tbody tr th {\n",
       "        vertical-align: top;\n",
       "    }\n",
       "\n",
       "    .dataframe thead th {\n",
       "        text-align: right;\n",
       "    }\n",
       "</style>\n",
       "<table border=\"1\" class=\"dataframe\">\n",
       "  <thead>\n",
       "    <tr style=\"text-align: right;\">\n",
       "      <th></th>\n",
       "      <th>Action</th>\n",
       "      <th>Adventure</th>\n",
       "      <th>Comedy</th>\n",
       "      <th>Crime</th>\n",
       "      <th>Drama</th>\n",
       "      <th>Family</th>\n",
       "      <th>Fantasy</th>\n",
       "      <th>Mystery</th>\n",
       "      <th>Other</th>\n",
       "      <th>Romance</th>\n",
       "      <th>Thriller</th>\n",
       "    </tr>\n",
       "  </thead>\n",
       "  <tbody>\n",
       "    <tr>\n",
       "      <th>230</th>\n",
       "      <td>0</td>\n",
       "      <td>0</td>\n",
       "      <td>0</td>\n",
       "      <td>0</td>\n",
       "      <td>1</td>\n",
       "      <td>0</td>\n",
       "      <td>0</td>\n",
       "      <td>0</td>\n",
       "      <td>1</td>\n",
       "      <td>0</td>\n",
       "      <td>0</td>\n",
       "    </tr>\n",
       "    <tr>\n",
       "      <th>22</th>\n",
       "      <td>0</td>\n",
       "      <td>0</td>\n",
       "      <td>0</td>\n",
       "      <td>1</td>\n",
       "      <td>1</td>\n",
       "      <td>0</td>\n",
       "      <td>0</td>\n",
       "      <td>1</td>\n",
       "      <td>0</td>\n",
       "      <td>0</td>\n",
       "      <td>0</td>\n",
       "    </tr>\n",
       "    <tr>\n",
       "      <th>1226</th>\n",
       "      <td>0</td>\n",
       "      <td>0</td>\n",
       "      <td>0</td>\n",
       "      <td>1</td>\n",
       "      <td>1</td>\n",
       "      <td>0</td>\n",
       "      <td>0</td>\n",
       "      <td>0</td>\n",
       "      <td>0</td>\n",
       "      <td>0</td>\n",
       "      <td>1</td>\n",
       "    </tr>\n",
       "    <tr>\n",
       "      <th>1326</th>\n",
       "      <td>0</td>\n",
       "      <td>0</td>\n",
       "      <td>0</td>\n",
       "      <td>0</td>\n",
       "      <td>1</td>\n",
       "      <td>0</td>\n",
       "      <td>0</td>\n",
       "      <td>0</td>\n",
       "      <td>0</td>\n",
       "      <td>0</td>\n",
       "      <td>0</td>\n",
       "    </tr>\n",
       "    <tr>\n",
       "      <th>501</th>\n",
       "      <td>0</td>\n",
       "      <td>0</td>\n",
       "      <td>0</td>\n",
       "      <td>0</td>\n",
       "      <td>1</td>\n",
       "      <td>0</td>\n",
       "      <td>1</td>\n",
       "      <td>1</td>\n",
       "      <td>0</td>\n",
       "      <td>0</td>\n",
       "      <td>0</td>\n",
       "    </tr>\n",
       "    <tr>\n",
       "      <th>...</th>\n",
       "      <td>...</td>\n",
       "      <td>...</td>\n",
       "      <td>...</td>\n",
       "      <td>...</td>\n",
       "      <td>...</td>\n",
       "      <td>...</td>\n",
       "      <td>...</td>\n",
       "      <td>...</td>\n",
       "      <td>...</td>\n",
       "      <td>...</td>\n",
       "      <td>...</td>\n",
       "    </tr>\n",
       "    <tr>\n",
       "      <th>1361</th>\n",
       "      <td>1</td>\n",
       "      <td>0</td>\n",
       "      <td>0</td>\n",
       "      <td>0</td>\n",
       "      <td>0</td>\n",
       "      <td>0</td>\n",
       "      <td>0</td>\n",
       "      <td>0</td>\n",
       "      <td>1</td>\n",
       "      <td>0</td>\n",
       "      <td>0</td>\n",
       "    </tr>\n",
       "    <tr>\n",
       "      <th>402</th>\n",
       "      <td>0</td>\n",
       "      <td>0</td>\n",
       "      <td>0</td>\n",
       "      <td>0</td>\n",
       "      <td>1</td>\n",
       "      <td>1</td>\n",
       "      <td>0</td>\n",
       "      <td>0</td>\n",
       "      <td>1</td>\n",
       "      <td>0</td>\n",
       "      <td>0</td>\n",
       "    </tr>\n",
       "    <tr>\n",
       "      <th>436</th>\n",
       "      <td>1</td>\n",
       "      <td>1</td>\n",
       "      <td>0</td>\n",
       "      <td>0</td>\n",
       "      <td>0</td>\n",
       "      <td>0</td>\n",
       "      <td>1</td>\n",
       "      <td>0</td>\n",
       "      <td>0</td>\n",
       "      <td>0</td>\n",
       "      <td>0</td>\n",
       "    </tr>\n",
       "    <tr>\n",
       "      <th>901</th>\n",
       "      <td>0</td>\n",
       "      <td>0</td>\n",
       "      <td>0</td>\n",
       "      <td>1</td>\n",
       "      <td>1</td>\n",
       "      <td>0</td>\n",
       "      <td>0</td>\n",
       "      <td>1</td>\n",
       "      <td>0</td>\n",
       "      <td>0</td>\n",
       "      <td>0</td>\n",
       "    </tr>\n",
       "    <tr>\n",
       "      <th>171</th>\n",
       "      <td>0</td>\n",
       "      <td>0</td>\n",
       "      <td>0</td>\n",
       "      <td>0</td>\n",
       "      <td>1</td>\n",
       "      <td>0</td>\n",
       "      <td>0</td>\n",
       "      <td>0</td>\n",
       "      <td>1</td>\n",
       "      <td>0</td>\n",
       "      <td>0</td>\n",
       "    </tr>\n",
       "  </tbody>\n",
       "</table>\n",
       "<p>768 rows × 11 columns</p>\n",
       "</div>"
      ],
      "text/plain": [
       "      Action  Adventure  Comedy  Crime  Drama  Family  Fantasy  Mystery  \\\n",
       "230        0          0       0      0      1       0        0        0   \n",
       "22         0          0       0      1      1       0        0        1   \n",
       "1226       0          0       0      1      1       0        0        0   \n",
       "1326       0          0       0      0      1       0        0        0   \n",
       "501        0          0       0      0      1       0        1        1   \n",
       "...      ...        ...     ...    ...    ...     ...      ...      ...   \n",
       "1361       1          0       0      0      0       0        0        0   \n",
       "402        0          0       0      0      1       1        0        0   \n",
       "436        1          1       0      0      0       0        1        0   \n",
       "901        0          0       0      1      1       0        0        1   \n",
       "171        0          0       0      0      1       0        0        0   \n",
       "\n",
       "      Other  Romance  Thriller  \n",
       "230       1        0         0  \n",
       "22        0        0         0  \n",
       "1226      0        0         1  \n",
       "1326      0        0         0  \n",
       "501       0        0         0  \n",
       "...     ...      ...       ...  \n",
       "1361      1        0         0  \n",
       "402       1        0         0  \n",
       "436       0        0         0  \n",
       "901       0        0         0  \n",
       "171       1        0         0  \n",
       "\n",
       "[768 rows x 11 columns]"
      ]
     },
     "execution_count": 260,
     "metadata": {},
     "output_type": "execute_result"
    }
   ],
   "source": [
    "X_train_cat_df = pd.DataFrame(mlb.fit_transform(X_train_cat_set['genre_clean']),\\\n",
    "                              columns=mlb.classes_,index=X_train_cat_set.index)\n",
    "X_train_cat_df"
   ]
  },
  {
   "cell_type": "code",
   "execution_count": 262,
   "metadata": {},
   "outputs": [
    {
     "data": {
      "text/plain": [
       "(11,\n",
       " array(['Action', 'Adventure', 'Comedy', 'Crime', 'Drama', 'Family',\n",
       "        'Fantasy', 'Mystery', 'Other', 'Romance', 'Thriller'], dtype=object))"
      ]
     },
     "execution_count": 262,
     "metadata": {},
     "output_type": "execute_result"
    }
   ],
   "source": [
    "len(mlb.classes_),mlb.classes_"
   ]
  },
  {
   "cell_type": "code",
   "execution_count": 263,
   "metadata": {},
   "outputs": [
    {
     "data": {
      "text/plain": [
       "Drama        491\n",
       "Other        224\n",
       "Adventure    191\n",
       "Comedy       188\n",
       "Action       175\n",
       "Crime        155\n",
       "Romance      152\n",
       "Thriller     137\n",
       "Mystery       98\n",
       "Family        98\n",
       "Fantasy       92\n",
       "dtype: int64"
      ]
     },
     "execution_count": 263,
     "metadata": {},
     "output_type": "execute_result"
    }
   ],
   "source": [
    "X_train_cat_df.sum(axis=0).sort_values(ascending=False)"
   ]
  },
  {
   "cell_type": "code",
   "execution_count": 216,
   "metadata": {},
   "outputs": [],
   "source": []
  },
  {
   "cell_type": "code",
   "execution_count": 218,
   "metadata": {},
   "outputs": [
    {
     "data": {
      "text/plain": [
       "230                 {History, Drama}\n",
       "22           {Mystery, Crime, Drama}\n",
       "1226        {Crime, Thriller, Drama}\n",
       "1326                         {Drama}\n",
       "501        {Mystery, Drama, Fantasy}\n",
       "                    ...             \n",
       "1361    {Western, Biography, Action}\n",
       "402       {Animation, Drama, Family}\n",
       "436     {Fantasy, Adventure, Action}\n",
       "901          {Mystery, Crime, Drama}\n",
       "171                 {Western, Drama}\n",
       "Name: genre, Length: 768, dtype: object"
      ]
     },
     "execution_count": 218,
     "metadata": {},
     "output_type": "execute_result"
    }
   ],
   "source": [
    "X_train_cat_set.genre.replace(genre_list,'Other')"
   ]
  },
  {
   "cell_type": "code",
   "execution_count": 240,
   "metadata": {},
   "outputs": [],
   "source": [
    "def genre_clean(genre_list):\n",
    "    clean_genre = [x if x in genre_list else 'Other' for x in my_list]\n",
    "    return clean_genre"
   ]
  },
  {
   "cell_type": "code",
   "execution_count": 222,
   "metadata": {},
   "outputs": [],
   "source": [
    "s = ['History', 'Drama']"
   ]
  },
  {
   "cell_type": "code",
   "execution_count": 223,
   "metadata": {},
   "outputs": [
    {
     "ename": "AttributeError",
     "evalue": "'list' object has no attribute 'replace'",
     "output_type": "error",
     "traceback": [
      "\u001b[0;31m---------------------------------------------------------------------------\u001b[0m",
      "\u001b[0;31mAttributeError\u001b[0m                            Traceback (most recent call last)",
      "\u001b[0;32m<ipython-input-223-11e239f49206>\u001b[0m in \u001b[0;36m<module>\u001b[0;34m\u001b[0m\n\u001b[0;32m----> 1\u001b[0;31m \u001b[0ms\u001b[0m\u001b[0;34m.\u001b[0m\u001b[0mreplace\u001b[0m\u001b[0;34m(\u001b[0m\u001b[0;34m'History'\u001b[0m\u001b[0;34m,\u001b[0m\u001b[0;34m'Other'\u001b[0m\u001b[0;34m)\u001b[0m\u001b[0;34m\u001b[0m\u001b[0;34m\u001b[0m\u001b[0m\n\u001b[0m",
      "\u001b[0;31mAttributeError\u001b[0m: 'list' object has no attribute 'replace'"
     ]
    }
   ],
   "source": [
    "s.replace('History','Other')"
   ]
  },
  {
   "cell_type": "code",
   "execution_count": 234,
   "metadata": {},
   "outputs": [
    {
     "data": {
      "text/plain": [
       "['Other', 'Drama']"
      ]
     },
     "execution_count": 234,
     "metadata": {},
     "output_type": "execute_result"
    }
   ],
   "source": [
    "s1 = [x if x in genre_list else 'Other' for x in s]\n",
    "s1"
   ]
  },
  {
   "cell_type": "code",
   "execution_count": 230,
   "metadata": {},
   "outputs": [],
   "source": [
    "l = [22, 13, 45, 50, 98, 69, 43, 44, 1]"
   ]
  },
  {
   "cell_type": "code",
   "execution_count": 231,
   "metadata": {},
   "outputs": [
    {
     "data": {
      "text/plain": [
       "[27, 18, 46, 51, 99, 70, 48, 49, 6]"
      ]
     },
     "execution_count": 231,
     "metadata": {},
     "output_type": "execute_result"
    }
   ],
   "source": [
    "[x+1 if x >= 45 else x+5 for x in l]"
   ]
  },
  {
   "cell_type": "code",
   "execution_count": null,
   "metadata": {},
   "outputs": [],
   "source": []
  }
 ],
 "metadata": {
  "kernelspec": {
   "display_name": "Python 3",
   "language": "python",
   "name": "python3"
  },
  "language_info": {
   "codemirror_mode": {
    "name": "ipython",
    "version": 3
   },
   "file_extension": ".py",
   "mimetype": "text/x-python",
   "name": "python",
   "nbconvert_exporter": "python",
   "pygments_lexer": "ipython3",
   "version": "3.8.5"
  }
 },
 "nbformat": 4,
 "nbformat_minor": 4
}
