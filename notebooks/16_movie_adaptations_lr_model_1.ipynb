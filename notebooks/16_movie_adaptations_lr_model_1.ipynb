{
 "cells": [
  {
   "cell_type": "code",
   "execution_count": 1,
   "metadata": {},
   "outputs": [
    {
     "data": {
      "text/plain": [
       "'\\nUse complete_data_cleaned_test to build a Linear Regression model for adapted movies.\\n\\nFeature engineering: scaling, polynomial, categorical features\\nRegularization: Ridge is better than LASSO but worse than baseline model\\n\\nfunctions used:\\nget_Xy(df) from model.py\\nget_score(X_train,X_val,y_train,y_val) from model.py\\ncategorical_multilabel(X_train,X_val,X_test,cat_variable) from model.py\\ncategorical_singlelabel(X_train,X_val,X_test,cat_variable) from model.py\\n\\n\\nResult:\\n\\nValidation set R^2 ~ 0.55\\nTest set R^2 ~ 0.59\\n\\nCompared to only using movie data, movie + book data has improved R^\\nfrom 0.37 to 0.42\\n\\n'"
      ]
     },
     "execution_count": 1,
     "metadata": {},
     "output_type": "execute_result"
    }
   ],
   "source": [
    "\"\"\"\n",
    "Use complete_data_cleaned to build a Linear Regression model for adapted movies.\n",
    "\n",
    "Feature engineering: scaling, polynomial, categorical features\n",
    "Regularization: Ridge is better than LASSO but worse than baseline model\n",
    "\n",
    "functions used:\n",
    "get_Xy(df) from model.py\n",
    "get_score(X_train,X_val,y_train,y_val) from model.py\n",
    "categorical_multilabel(X_train,X_val,X_test,cat_variable) from model.py\n",
    "categorical_singlelabel(X_train,X_val,X_test,cat_variable) from model.py\n",
    "\n",
    "\n",
    "Result:\n",
    "\n",
    "Validation set R^2 ~ 0.55\n",
    "Test set R^2 ~ 0.59\n",
    "\n",
    "Compared to only using movie data, movie + book data has improved R^\n",
    "from 0.37 to 0.42\n",
    "\n",
    "\"\"\""
   ]
  },
  {
   "cell_type": "code",
   "execution_count": 2,
   "metadata": {},
   "outputs": [],
   "source": [
    "import pandas as pd\n",
    "import numpy as np\n",
    "import matplotlib.pyplot as plt\n",
    "import matplotlib.style as style\n",
    "import seaborn as sns\n",
    "sns.set()\n",
    "\n",
    "from sklearn.model_selection import train_test_split\n",
    "from sklearn.model_selection import cross_val_score\n",
    "from sklearn.linear_model import LinearRegression\n",
    "from sklearn.preprocessing import StandardScaler, PolynomialFeatures, OneHotEncoder\n",
    "from sklearn.pipeline import Pipeline\n",
    "from sklearn.model_selection import train_test_split\n",
    "from sklearn.linear_model import LinearRegression, Lasso, LassoCV, Ridge, RidgeCV\n",
    "from sklearn.metrics import r2_score, mean_squared_error\n",
    "\n",
    "import patsy\n",
    "import scipy.stats as stats\n",
    "\n",
    "import sys\n",
    "sys.path.append('/Users/katiehuang/Documents/metis/projects/onl_ds5_project_2/py')\n",
    "import importlib\n",
    "from model import *"
   ]
  },
  {
   "cell_type": "markdown",
   "metadata": {},
   "source": [
    "## 1. Prepare data"
   ]
  },
  {
   "cell_type": "code",
   "execution_count": 3,
   "metadata": {},
   "outputs": [],
   "source": [
    "# Load the cleaned complete data\n",
    "all_df = pd.read_pickle('../data/complete_data_cleaned')\n",
    "\n",
    "# convert unit of 'opening_weekend_usa' to million dollors\n",
    "all_df['opening_weekend_usa'] = all_df['opening_weekend_usa']/1e6"
   ]
  },
  {
   "cell_type": "code",
   "execution_count": 4,
   "metadata": {},
   "outputs": [
    {
     "data": {
      "text/html": [
       "<div>\n",
       "<style scoped>\n",
       "    .dataframe tbody tr th:only-of-type {\n",
       "        vertical-align: middle;\n",
       "    }\n",
       "\n",
       "    .dataframe tbody tr th {\n",
       "        vertical-align: top;\n",
       "    }\n",
       "\n",
       "    .dataframe thead th {\n",
       "        text-align: right;\n",
       "    }\n",
       "</style>\n",
       "<table border=\"1\" class=\"dataframe\">\n",
       "  <thead>\n",
       "    <tr style=\"text-align: right;\">\n",
       "      <th></th>\n",
       "      <th>rating</th>\n",
       "      <th>budget</th>\n",
       "      <th>opening_weekend_usa</th>\n",
       "      <th>gross_usa</th>\n",
       "      <th>gross_world</th>\n",
       "      <th>runtime</th>\n",
       "      <th>rating_value_b</th>\n",
       "      <th>rating_count_b</th>\n",
       "      <th>review_count_b</th>\n",
       "      <th>page</th>\n",
       "      <th>...</th>\n",
       "      <th>author_search</th>\n",
       "      <th>search_fiction_author</th>\n",
       "      <th>book_popularity</th>\n",
       "      <th>author_popularity</th>\n",
       "      <th>log_book_search</th>\n",
       "      <th>log_author_search</th>\n",
       "      <th>book_popularity_test</th>\n",
       "      <th>log_book_popularity</th>\n",
       "      <th>author_popularity_test</th>\n",
       "      <th>log_author_popularity</th>\n",
       "    </tr>\n",
       "  </thead>\n",
       "  <tbody>\n",
       "    <tr>\n",
       "      <th>count</th>\n",
       "      <td>1135.000000</td>\n",
       "      <td>8.300000e+02</td>\n",
       "      <td>713.000000</td>\n",
       "      <td>1.135000e+03</td>\n",
       "      <td>8.420000e+02</td>\n",
       "      <td>1124.000000</td>\n",
       "      <td>1135.000000</td>\n",
       "      <td>1.135000e+03</td>\n",
       "      <td>1135.000000</td>\n",
       "      <td>1106.000000</td>\n",
       "      <td>...</td>\n",
       "      <td>8.810000e+02</td>\n",
       "      <td>8.810000e+02</td>\n",
       "      <td>872.000000</td>\n",
       "      <td>881.000000</td>\n",
       "      <td>881.000000</td>\n",
       "      <td>881.000000</td>\n",
       "      <td>880.000000</td>\n",
       "      <td>880.000000</td>\n",
       "      <td>881.000000</td>\n",
       "      <td>881.000000</td>\n",
       "    </tr>\n",
       "    <tr>\n",
       "      <th>mean</th>\n",
       "      <td>6.667313</td>\n",
       "      <td>2.846106e+07</td>\n",
       "      <td>9.598797</td>\n",
       "      <td>3.740295e+07</td>\n",
       "      <td>7.753742e+07</td>\n",
       "      <td>113.920819</td>\n",
       "      <td>3.875551</td>\n",
       "      <td>2.312974e+05</td>\n",
       "      <td>7510.383260</td>\n",
       "      <td>332.676311</td>\n",
       "      <td>...</td>\n",
       "      <td>2.068350e+07</td>\n",
       "      <td>1.636476e+08</td>\n",
       "      <td>0.086892</td>\n",
       "      <td>0.124288</td>\n",
       "      <td>8.561603</td>\n",
       "      <td>10.932581</td>\n",
       "      <td>0.122211</td>\n",
       "      <td>-4.003152</td>\n",
       "      <td>0.124289</td>\n",
       "      <td>-4.736478</td>\n",
       "    </tr>\n",
       "    <tr>\n",
       "      <th>std</th>\n",
       "      <td>0.905118</td>\n",
       "      <td>3.429356e+07</td>\n",
       "      <td>16.664456</td>\n",
       "      <td>4.785715e+07</td>\n",
       "      <td>1.450034e+08</td>\n",
       "      <td>23.305856</td>\n",
       "      <td>0.393255</td>\n",
       "      <td>5.965459e+05</td>\n",
       "      <td>16791.442166</td>\n",
       "      <td>171.545723</td>\n",
       "      <td>...</td>\n",
       "      <td>1.140401e+08</td>\n",
       "      <td>2.688862e+08</td>\n",
       "      <td>0.220079</td>\n",
       "      <td>0.436333</td>\n",
       "      <td>3.326120</td>\n",
       "      <td>3.810858</td>\n",
       "      <td>0.921601</td>\n",
       "      <td>1.942105</td>\n",
       "      <td>0.436334</td>\n",
       "      <td>2.619676</td>\n",
       "    </tr>\n",
       "    <tr>\n",
       "      <th>min</th>\n",
       "      <td>3.000000</td>\n",
       "      <td>3.000000e+04</td>\n",
       "      <td>0.000181</td>\n",
       "      <td>5.250000e+02</td>\n",
       "      <td>7.600000e+01</td>\n",
       "      <td>55.000000</td>\n",
       "      <td>0.000000</td>\n",
       "      <td>0.000000e+00</td>\n",
       "      <td>0.000000</td>\n",
       "      <td>0.000000</td>\n",
       "      <td>...</td>\n",
       "      <td>3.900000e+01</td>\n",
       "      <td>1.160000e+03</td>\n",
       "      <td>0.000000</td>\n",
       "      <td>0.000000</td>\n",
       "      <td>1.945910</td>\n",
       "      <td>3.663562</td>\n",
       "      <td>0.000012</td>\n",
       "      <td>-11.346477</td>\n",
       "      <td>0.000006</td>\n",
       "      <td>-11.959746</td>\n",
       "    </tr>\n",
       "    <tr>\n",
       "      <th>25%</th>\n",
       "      <td>6.100000</td>\n",
       "      <td>5.025000e+06</td>\n",
       "      <td>0.229292</td>\n",
       "      <td>1.096977e+07</td>\n",
       "      <td>5.916931e+06</td>\n",
       "      <td>99.000000</td>\n",
       "      <td>3.760000</td>\n",
       "      <td>2.808500e+03</td>\n",
       "      <td>218.500000</td>\n",
       "      <td>224.000000</td>\n",
       "      <td>...</td>\n",
       "      <td>3.100000e+03</td>\n",
       "      <td>1.330000e+05</td>\n",
       "      <td>0.010000</td>\n",
       "      <td>0.001200</td>\n",
       "      <td>6.021023</td>\n",
       "      <td>8.039157</td>\n",
       "      <td>0.005467</td>\n",
       "      <td>-5.209122</td>\n",
       "      <td>0.001168</td>\n",
       "      <td>-6.752070</td>\n",
       "    </tr>\n",
       "    <tr>\n",
       "      <th>50%</th>\n",
       "      <td>6.700000</td>\n",
       "      <td>1.800000e+07</td>\n",
       "      <td>4.163623</td>\n",
       "      <td>3.011468e+07</td>\n",
       "      <td>2.450694e+07</td>\n",
       "      <td>110.000000</td>\n",
       "      <td>3.920000</td>\n",
       "      <td>2.513900e+04</td>\n",
       "      <td>1314.000000</td>\n",
       "      <td>308.000000</td>\n",
       "      <td>...</td>\n",
       "      <td>2.430000e+04</td>\n",
       "      <td>1.720000e+07</td>\n",
       "      <td>0.020000</td>\n",
       "      <td>0.009200</td>\n",
       "      <td>7.859413</td>\n",
       "      <td>10.098232</td>\n",
       "      <td>0.017820</td>\n",
       "      <td>-4.027413</td>\n",
       "      <td>0.009167</td>\n",
       "      <td>-4.692182</td>\n",
       "    </tr>\n",
       "    <tr>\n",
       "      <th>75%</th>\n",
       "      <td>7.350000</td>\n",
       "      <td>3.575000e+07</td>\n",
       "      <td>11.515790</td>\n",
       "      <td>3.534301e+07</td>\n",
       "      <td>8.420588e+07</td>\n",
       "      <td>125.000000</td>\n",
       "      <td>4.070000</td>\n",
       "      <td>1.691815e+05</td>\n",
       "      <td>5807.000000</td>\n",
       "      <td>401.000000</td>\n",
       "      <td>...</td>\n",
       "      <td>6.210000e+05</td>\n",
       "      <td>1.690000e+08</td>\n",
       "      <td>0.060000</td>\n",
       "      <td>0.059600</td>\n",
       "      <td>10.561008</td>\n",
       "      <td>13.339086</td>\n",
       "      <td>0.068059</td>\n",
       "      <td>-2.687405</td>\n",
       "      <td>0.059615</td>\n",
       "      <td>-2.819842</td>\n",
       "    </tr>\n",
       "    <tr>\n",
       "      <th>max</th>\n",
       "      <td>9.200000</td>\n",
       "      <td>2.500000e+08</td>\n",
       "      <td>152.535747</td>\n",
       "      <td>4.080107e+08</td>\n",
       "      <td>1.033927e+09</td>\n",
       "      <td>280.000000</td>\n",
       "      <td>4.700000</td>\n",
       "      <td>7.292896e+06</td>\n",
       "      <td>173808.000000</td>\n",
       "      <td>1463.000000</td>\n",
       "      <td>...</td>\n",
       "      <td>1.860000e+09</td>\n",
       "      <td>1.220000e+09</td>\n",
       "      <td>2.420000</td>\n",
       "      <td>6.589700</td>\n",
       "      <td>18.403535</td>\n",
       "      <td>21.343842</td>\n",
       "      <td>26.369863</td>\n",
       "      <td>3.272222</td>\n",
       "      <td>6.589744</td>\n",
       "      <td>1.885514</td>\n",
       "    </tr>\n",
       "  </tbody>\n",
       "</table>\n",
       "<p>8 rows × 32 columns</p>\n",
       "</div>"
      ],
      "text/plain": [
       "            rating        budget  opening_weekend_usa     gross_usa  \\\n",
       "count  1135.000000  8.300000e+02           713.000000  1.135000e+03   \n",
       "mean      6.667313  2.846106e+07             9.598797  3.740295e+07   \n",
       "std       0.905118  3.429356e+07            16.664456  4.785715e+07   \n",
       "min       3.000000  3.000000e+04             0.000181  5.250000e+02   \n",
       "25%       6.100000  5.025000e+06             0.229292  1.096977e+07   \n",
       "50%       6.700000  1.800000e+07             4.163623  3.011468e+07   \n",
       "75%       7.350000  3.575000e+07            11.515790  3.534301e+07   \n",
       "max       9.200000  2.500000e+08           152.535747  4.080107e+08   \n",
       "\n",
       "        gross_world      runtime  rating_value_b  rating_count_b  \\\n",
       "count  8.420000e+02  1124.000000     1135.000000    1.135000e+03   \n",
       "mean   7.753742e+07   113.920819        3.875551    2.312974e+05   \n",
       "std    1.450034e+08    23.305856        0.393255    5.965459e+05   \n",
       "min    7.600000e+01    55.000000        0.000000    0.000000e+00   \n",
       "25%    5.916931e+06    99.000000        3.760000    2.808500e+03   \n",
       "50%    2.450694e+07   110.000000        3.920000    2.513900e+04   \n",
       "75%    8.420588e+07   125.000000        4.070000    1.691815e+05   \n",
       "max    1.033927e+09   280.000000        4.700000    7.292896e+06   \n",
       "\n",
       "       review_count_b         page  ...  author_search  search_fiction_author  \\\n",
       "count     1135.000000  1106.000000  ...   8.810000e+02           8.810000e+02   \n",
       "mean      7510.383260   332.676311  ...   2.068350e+07           1.636476e+08   \n",
       "std      16791.442166   171.545723  ...   1.140401e+08           2.688862e+08   \n",
       "min          0.000000     0.000000  ...   3.900000e+01           1.160000e+03   \n",
       "25%        218.500000   224.000000  ...   3.100000e+03           1.330000e+05   \n",
       "50%       1314.000000   308.000000  ...   2.430000e+04           1.720000e+07   \n",
       "75%       5807.000000   401.000000  ...   6.210000e+05           1.690000e+08   \n",
       "max     173808.000000  1463.000000  ...   1.860000e+09           1.220000e+09   \n",
       "\n",
       "       book_popularity  author_popularity  log_book_search  log_author_search  \\\n",
       "count       872.000000         881.000000       881.000000         881.000000   \n",
       "mean          0.086892           0.124288         8.561603          10.932581   \n",
       "std           0.220079           0.436333         3.326120           3.810858   \n",
       "min           0.000000           0.000000         1.945910           3.663562   \n",
       "25%           0.010000           0.001200         6.021023           8.039157   \n",
       "50%           0.020000           0.009200         7.859413          10.098232   \n",
       "75%           0.060000           0.059600        10.561008          13.339086   \n",
       "max           2.420000           6.589700        18.403535          21.343842   \n",
       "\n",
       "       book_popularity_test  log_book_popularity  author_popularity_test  \\\n",
       "count            880.000000           880.000000              881.000000   \n",
       "mean               0.122211            -4.003152                0.124289   \n",
       "std                0.921601             1.942105                0.436334   \n",
       "min                0.000012           -11.346477                0.000006   \n",
       "25%                0.005467            -5.209122                0.001168   \n",
       "50%                0.017820            -4.027413                0.009167   \n",
       "75%                0.068059            -2.687405                0.059615   \n",
       "max               26.369863             3.272222                6.589744   \n",
       "\n",
       "       log_author_popularity  \n",
       "count             881.000000  \n",
       "mean               -4.736478  \n",
       "std                 2.619676  \n",
       "min               -11.959746  \n",
       "25%                -6.752070  \n",
       "50%                -4.692182  \n",
       "75%                -2.819842  \n",
       "max                 1.885514  \n",
       "\n",
       "[8 rows x 32 columns]"
      ]
     },
     "execution_count": 4,
     "metadata": {},
     "output_type": "execute_result"
    }
   ],
   "source": [
    "all_df.describe()"
   ]
  },
  {
   "cell_type": "code",
   "execution_count": 5,
   "metadata": {},
   "outputs": [],
   "source": [
    "# Clean columns\n",
    "all_df['release_year'] = all_df['release_date'].dt.year\n",
    "all_df['years_apart'] = all_df['release_year'] - all_df['publish_year']\n",
    "\n",
    "all_df.rename(columns={'certificate':'MPAA'},inplace=True)\n",
    "all_df.drop_duplicates(subset=['movie_title','release_year'],inplace=True)\n",
    "\n",
    "# Load top 100 actor list\n",
    "actor_list = pd.read_pickle('../dump/actor_top100_list')"
   ]
  },
  {
   "cell_type": "code",
   "execution_count": 6,
   "metadata": {},
   "outputs": [
    {
     "name": "stdout",
     "output_type": "stream",
     "text": [
      "<class 'pandas.core.frame.DataFrame'>\n",
      "Int64Index: 708 entries, 0 to 1516\n",
      "Data columns (total 47 columns):\n",
      " #   Column                  Non-Null Count  Dtype         \n",
      "---  ------                  --------------  -----         \n",
      " 0   movie_title             708 non-null    object        \n",
      " 1   rating                  708 non-null    float64       \n",
      " 2   MPAA                    708 non-null    object        \n",
      " 3   genre                   708 non-null    object        \n",
      " 4   release_date            708 non-null    datetime64[ns]\n",
      " 5   budget                  591 non-null    float64       \n",
      " 6   opening_weekend_usa     708 non-null    float64       \n",
      " 7   gross_usa               708 non-null    float64       \n",
      " 8   gross_world             707 non-null    float64       \n",
      " 9   runtime                 703 non-null    float64       \n",
      " 10  director                708 non-null    object        \n",
      " 11  writer                  708 non-null    object        \n",
      " 12  actor                   708 non-null    object        \n",
      " 13  distributor             707 non-null    object        \n",
      " 14  language                708 non-null    object        \n",
      " 15  country                 708 non-null    object        \n",
      " 16  author                  708 non-null    object        \n",
      " 17  rating_value_b          708 non-null    float64       \n",
      " 18  rating_count_b          708 non-null    float64       \n",
      " 19  review_count_b          708 non-null    float64       \n",
      " 20  page                    696 non-null    float64       \n",
      " 21  publish_year            708 non-null    float64       \n",
      " 22  title_x                 708 non-null    object        \n",
      " 23  book_popularity_x       708 non-null    float64       \n",
      " 24  author_popularity_x     708 non-null    float64       \n",
      " 25  release_year            708 non-null    int64         \n",
      " 26  count_a                 708 non-null    int64         \n",
      " 27  release_month           708 non-null    int64         \n",
      " 28  dow                     708 non-null    int64         \n",
      " 29  film_count_d            708 non-null    int64         \n",
      " 30  avg_rating_d            708 non-null    float64       \n",
      " 31  avg_gross_d             708 non-null    int64         \n",
      " 32  title_y                 620 non-null    object        \n",
      " 33  genre_y                 620 non-null    object        \n",
      " 34  title_search            620 non-null    float64       \n",
      " 35  search_fiction_book     619 non-null    float64       \n",
      " 36  author_search           620 non-null    float64       \n",
      " 37  search_fiction_author   620 non-null    float64       \n",
      " 38  book_popularity         615 non-null    float64       \n",
      " 39  author_popularity       620 non-null    float64       \n",
      " 40  log_book_search         620 non-null    float64       \n",
      " 41  log_author_search       620 non-null    float64       \n",
      " 42  book_popularity_test    619 non-null    float64       \n",
      " 43  log_book_popularity     619 non-null    float64       \n",
      " 44  author_popularity_test  620 non-null    float64       \n",
      " 45  log_author_popularity   620 non-null    float64       \n",
      " 46  years_apart             708 non-null    float64       \n",
      "dtypes: datetime64[ns](1), float64(27), int64(6), object(13)\n",
      "memory usage: 265.5+ KB\n"
     ]
    }
   ],
   "source": [
    "# Remove outliers\n",
    "all_df = all_df[all_df.opening_weekend_usa < 100]\n",
    "all_df = all_df[all_df.movie_title != \"Kiki's Delivery Service\"]\n",
    "# all_df = all_df[all_df.movie_title.isin(res_movie)]\n",
    "all_df.info()"
   ]
  },
  {
   "cell_type": "code",
   "execution_count": 7,
   "metadata": {},
   "outputs": [],
   "source": [
    "# all_df = all_df[all_df.movie_title.isin(res_movie) == False]"
   ]
  },
  {
   "cell_type": "code",
   "execution_count": null,
   "metadata": {},
   "outputs": [],
   "source": []
  },
  {
   "cell_type": "code",
   "execution_count": 8,
   "metadata": {},
   "outputs": [],
   "source": [
    "cat_feature = ['MPAA','genre','distributor','language','country']\n",
    "con_feature = ['budget','runtime','film_count_d','avg_rating_d','avg_gross_d','release_year']\n",
    "con_book_feature = ['years_apart','publish_year','page','log_book_popularity','log_author_popularity','count_a']\n",
    "target_candidate = ['opening_weekend_usa','log_owu','gross_usa','gross_world','rating']\n",
    "\n",
    "potential_feature = ['rating_value_b','rating_count_b','review_count_b']"
   ]
  },
  {
   "cell_type": "code",
   "execution_count": 9,
   "metadata": {},
   "outputs": [],
   "source": [
    "# only continuous features for movie\n",
    "c_movie_df = all_df[['opening_weekend_usa'] + con_feature].copy() \n",
    "\n",
    "# continuous features both movie and book\n",
    "c_all_df = all_df[['opening_weekend_usa'] + con_feature + con_book_feature].copy()\n",
    "\n",
    "# continuous feature both movie and book plus categorical variables\n",
    "cc_df = all_df[['opening_weekend_usa'] + con_feature + con_book_feature + cat_feature].copy()"
   ]
  },
  {
   "cell_type": "code",
   "execution_count": null,
   "metadata": {},
   "outputs": [],
   "source": []
  },
  {
   "cell_type": "markdown",
   "metadata": {},
   "source": [
    "### Baseline Model\n",
    "Only consider the continuous predictors and use 'opening_weekend_usa'. Compare using movie data only and using movie+book data."
   ]
  },
  {
   "cell_type": "markdown",
   "metadata": {},
   "source": [
    "#### * Only using movie data"
   ]
  },
  {
   "cell_type": "code",
   "execution_count": 10,
   "metadata": {},
   "outputs": [],
   "source": [
    "X, y = get_Xy(c_movie_df)"
   ]
  },
  {
   "cell_type": "code",
   "execution_count": 11,
   "metadata": {},
   "outputs": [
    {
     "name": "stdout",
     "output_type": "stream",
     "text": [
      "\n",
      "Train R^2 score was: 0.44727559341990897\n",
      "Validation R^2 score was: 0.37407604639466374\n",
      "RMSE: 10.81 \n",
      "\n"
     ]
    },
    {
     "data": {
      "image/png": "[encoded data removed]",
      "text/plain": [
       "<Figure size 432x288 with 1 Axes>"
      ]
     },
     "metadata": {},
     "output_type": "display_data"
    }
   ],
   "source": [
    "X_, X_test, y_, y_test = train_test_split(X, y, test_size=.2, random_state=20)\n",
    "X_train, X_val, y_train, y_val = train_test_split(X_, y_, test_size=.25, random_state=21)\n",
    "fig,lr,y_pred  = get_score(X_train,X_val,y_train,y_val)"
   ]
  },
  {
   "cell_type": "code",
   "execution_count": 12,
   "metadata": {},
   "outputs": [],
   "source": [
    "fig.savefig('../plot/lr_prediction_m.pdf', bbox_inches='tight', transparent = True)"
   ]
  },
  {
   "cell_type": "code",
   "execution_count": null,
   "metadata": {},
   "outputs": [],
   "source": []
  },
  {
   "cell_type": "markdown",
   "metadata": {},
   "source": [
    "#### * Only movie + book data"
   ]
  },
  {
   "cell_type": "code",
   "execution_count": 13,
   "metadata": {},
   "outputs": [],
   "source": [
    "X, y = get_Xy(c_all_df)"
   ]
  },
  {
   "cell_type": "code",
   "execution_count": 14,
   "metadata": {},
   "outputs": [
    {
     "name": "stdout",
     "output_type": "stream",
     "text": [
      "\n",
      "Train R^2 score was: 0.48815902816186296\n",
      "Validation R^2 score was: 0.42104360425101417\n",
      "RMSE: 10.01 \n",
      "\n"
     ]
    },
    {
     "data": {
      "image/png": "[encoded data removed]",
      "text/plain": [
       "<Figure size 432x288 with 1 Axes>"
      ]
     },
     "metadata": {},
     "output_type": "display_data"
    }
   ],
   "source": [
    "X_, X_test, y_, y_test = train_test_split(X, y, test_size=.2, random_state=20)\n",
    "X_train, X_val, y_train, y_val = train_test_split(X_, y_, test_size=.25, random_state=21)\n",
    "fig,lr,y_pred  = get_score(X_train,X_val,y_train,y_val)"
   ]
  },
  {
   "cell_type": "code",
   "execution_count": 15,
   "metadata": {},
   "outputs": [],
   "source": [
    "fig.savefig('../plot/lr_prediction_b.pdf', bbox_inches='tight', transparent = True)"
   ]
  },
  {
   "cell_type": "code",
   "execution_count": 16,
   "metadata": {},
   "outputs": [],
   "source": [
    "# Using both movie and book data increased R^2 from 0.36 to 0.42"
   ]
  },
  {
   "cell_type": "code",
   "execution_count": null,
   "metadata": {},
   "outputs": [],
   "source": []
  },
  {
   "cell_type": "markdown",
   "metadata": {},
   "source": [
    "## 2. Basic Feature Engineering"
   ]
  },
  {
   "cell_type": "markdown",
   "metadata": {},
   "source": [
    "### Split the data set into Train / Validation / Test sets"
   ]
  },
  {
   "cell_type": "code",
   "execution_count": 17,
   "metadata": {},
   "outputs": [],
   "source": [
    "# Use movie+book data\n",
    "X, y = get_Xy(c_all_df)\n",
    "\n",
    "# train_test_split\n",
    "X_, X_test, y_, y_test = train_test_split(X, y, test_size=.2, random_state=20)\n",
    "X_train, X_val, y_train, y_val = train_test_split(X_, y_, test_size=.25, random_state=21)"
   ]
  },
  {
   "cell_type": "markdown",
   "metadata": {},
   "source": [
    "### * Scaled Features"
   ]
  },
  {
   "cell_type": "code",
   "execution_count": 18,
   "metadata": {},
   "outputs": [],
   "source": [
    "scaler = StandardScaler()\n",
    "\n",
    "X_train_scaled = scaler.fit_transform(X_train.values)\n",
    "X_val_scaled = scaler.transform(X_val.values)\n",
    "X_test_scaled = scaler.transform(X_test.values)"
   ]
  },
  {
   "cell_type": "code",
   "execution_count": 19,
   "metadata": {},
   "outputs": [
    {
     "data": {
      "text/plain": [
       "(0.48815902816186296, 0.42104360425121834)"
      ]
     },
     "execution_count": 19,
     "metadata": {},
     "output_type": "execute_result"
    }
   ],
   "source": [
    "lr = LinearRegression()\n",
    "lr.fit(X_train_scaled,y_train)\n",
    "lr.score(X_train_scaled,y_train), lr.score(scaler.transform(X_val),y_val)"
   ]
  },
  {
   "cell_type": "code",
   "execution_count": 20,
   "metadata": {},
   "outputs": [
    {
     "data": {
      "text/plain": [
       "array([ 9.33799763,  0.15506341, -0.71482218, -0.84812158,  1.68615927,\n",
       "        0.67112789, -0.13626359,  0.37234754,  0.57606768,  0.56067474,\n",
       "        0.97201438,  0.85490126])"
      ]
     },
     "execution_count": 20,
     "metadata": {},
     "output_type": "execute_result"
    }
   ],
   "source": [
    "lr.coef_"
   ]
  },
  {
   "cell_type": "code",
   "execution_count": 21,
   "metadata": {},
   "outputs": [
    {
     "data": {
      "text/html": [
       "<div>\n",
       "<style scoped>\n",
       "    .dataframe tbody tr th:only-of-type {\n",
       "        vertical-align: middle;\n",
       "    }\n",
       "\n",
       "    .dataframe tbody tr th {\n",
       "        vertical-align: top;\n",
       "    }\n",
       "\n",
       "    .dataframe thead th {\n",
       "        text-align: right;\n",
       "    }\n",
       "</style>\n",
       "<table border=\"1\" class=\"dataframe\">\n",
       "  <thead>\n",
       "    <tr style=\"text-align: right;\">\n",
       "      <th></th>\n",
       "      <th>Feature</th>\n",
       "      <th>Coefficient</th>\n",
       "    </tr>\n",
       "  </thead>\n",
       "  <tbody>\n",
       "    <tr>\n",
       "      <th>budget</th>\n",
       "      <td>budget</td>\n",
       "      <td>9.337998</td>\n",
       "    </tr>\n",
       "    <tr>\n",
       "      <th>avg_gross_d</th>\n",
       "      <td>avg_gross_d</td>\n",
       "      <td>1.686159</td>\n",
       "    </tr>\n",
       "    <tr>\n",
       "      <th>log_author_popularity</th>\n",
       "      <td>log_author_popularity</td>\n",
       "      <td>0.972014</td>\n",
       "    </tr>\n",
       "    <tr>\n",
       "      <th>count_a</th>\n",
       "      <td>count_a</td>\n",
       "      <td>0.854901</td>\n",
       "    </tr>\n",
       "    <tr>\n",
       "      <th>release_year</th>\n",
       "      <td>release_year</td>\n",
       "      <td>0.671128</td>\n",
       "    </tr>\n",
       "    <tr>\n",
       "      <th>page</th>\n",
       "      <td>page</td>\n",
       "      <td>0.576068</td>\n",
       "    </tr>\n",
       "    <tr>\n",
       "      <th>log_book_popularity</th>\n",
       "      <td>log_book_popularity</td>\n",
       "      <td>0.560675</td>\n",
       "    </tr>\n",
       "    <tr>\n",
       "      <th>publish_year</th>\n",
       "      <td>publish_year</td>\n",
       "      <td>0.372348</td>\n",
       "    </tr>\n",
       "    <tr>\n",
       "      <th>runtime</th>\n",
       "      <td>runtime</td>\n",
       "      <td>0.155063</td>\n",
       "    </tr>\n",
       "    <tr>\n",
       "      <th>years_apart</th>\n",
       "      <td>years_apart</td>\n",
       "      <td>-0.136264</td>\n",
       "    </tr>\n",
       "    <tr>\n",
       "      <th>film_count_d</th>\n",
       "      <td>film_count_d</td>\n",
       "      <td>-0.714822</td>\n",
       "    </tr>\n",
       "    <tr>\n",
       "      <th>avg_rating_d</th>\n",
       "      <td>avg_rating_d</td>\n",
       "      <td>-0.848122</td>\n",
       "    </tr>\n",
       "  </tbody>\n",
       "</table>\n",
       "</div>"
      ],
      "text/plain": [
       "                                     Feature  Coefficient\n",
       "budget                                budget     9.337998\n",
       "avg_gross_d                      avg_gross_d     1.686159\n",
       "log_author_popularity  log_author_popularity     0.972014\n",
       "count_a                              count_a     0.854901\n",
       "release_year                    release_year     0.671128\n",
       "page                                    page     0.576068\n",
       "log_book_popularity      log_book_popularity     0.560675\n",
       "publish_year                    publish_year     0.372348\n",
       "runtime                              runtime     0.155063\n",
       "years_apart                      years_apart    -0.136264\n",
       "film_count_d                    film_count_d    -0.714822\n",
       "avg_rating_d                    avg_rating_d    -0.848122"
      ]
     },
     "execution_count": 21,
     "metadata": {},
     "output_type": "execute_result"
    }
   ],
   "source": [
    "coef = pd.DataFrame(list(zip((con_feature+con_book_feature),lr.coef_)),\\\n",
    "                    index=con_feature+con_book_feature,\\\n",
    "                    columns = ['Feature','Coefficient']).\\\n",
    "sort_values(['Coefficient'],ascending=False)\n",
    "coef = coef[coef.Feature != 'T_book_age']\n",
    "coef\n",
    "# coef.index.tolist()"
   ]
  },
  {
   "cell_type": "code",
   "execution_count": 22,
   "metadata": {},
   "outputs": [
    {
     "data": {
      "image/png": "[encoded data removed]",
      "text/plain": [
       "<Figure size 432x288 with 1 Axes>"
      ]
     },
     "metadata": {},
     "output_type": "display_data"
    }
   ],
   "source": [
    "# Generate coef plots for the 3 continuous features\n",
    "p = sns.color_palette(\"GnBu_r\",3)\n",
    "sns.set_palette(p)\n",
    "\n",
    "fig, ax = plt.subplots()\n",
    "sns.set_palette(p)\n",
    "sns.barplot(y=\"Feature\", x= 'Coefficient', data = coef,orient='h')\n",
    "ax.set_title('Book data help!',fontsize=20)\n",
    "ax.set_ylabel('Feature',fontsize=20)\n",
    "ax.set_xlabel('Coefficient',fontsize=20)\n",
    "plt.xticks(fontsize=14)\n",
    "plt.yticks(fontsize=14)\n",
    "# ax.set_xticks([0,5e4,100e3,150e3,200e3,250e3])\n",
    "ax.set_yticklabels(['budget',\n",
    " 'director avg gross',\n",
    " 'author popularity (log)',\n",
    " 'author publications',\n",
    " 'year of movie release',\n",
    " 'page',\n",
    " 'book_popularity (log)',\n",
    " 'year book first published',\n",
    " 'runtime',\n",
    " 'years between movie and book',\n",
    " 'director film count',\n",
    " 'director avg rating'])\n",
    "\n",
    "fig.savefig('../plot/lr_coef_book.pdf', bbox_inches='tight', transparent=True)\n",
    "# fig.savefig('Top_station2.svg', format='svg')"
   ]
  },
  {
   "cell_type": "code",
   "execution_count": 23,
   "metadata": {},
   "outputs": [
    {
     "name": "stdout",
     "output_type": "stream",
     "text": [
      "\n",
      "Train R^2 score was: 0.48815902816186296\n",
      "Validation R^2 score was: 0.42104360425101417\n",
      "RMSE: 10.01 \n",
      "\n"
     ]
    },
    {
     "data": {
      "image/png": "[encoded data removed]",
      "text/plain": [
       "<Figure size 432x288 with 1 Axes>"
      ]
     },
     "metadata": {},
     "output_type": "display_data"
    }
   ],
   "source": [
    "fig = get_score(X_train,X_val,y_train,y_val)"
   ]
  },
  {
   "cell_type": "code",
   "execution_count": null,
   "metadata": {},
   "outputs": [],
   "source": []
  },
  {
   "cell_type": "markdown",
   "metadata": {},
   "source": [
    "### * Polynomial Fearues\n",
    "(degree=2): Adding interaction terms and second order feature."
   ]
  },
  {
   "cell_type": "code",
   "execution_count": 24,
   "metadata": {},
   "outputs": [],
   "source": [
    "# Choose df\n",
    "# X, y = get_Xy(c_movie_df)\n",
    "X, y = get_Xy(c_all_df)\n",
    "\n",
    "# train_test_split\n",
    "X_, X_test, y_, y_test = train_test_split(X, y, test_size=.2, random_state=20)\n",
    "X_train, X_val, y_train, y_val = train_test_split(X_, y_, test_size=.25, random_state=21)"
   ]
  },
  {
   "cell_type": "code",
   "execution_count": 25,
   "metadata": {},
   "outputs": [
    {
     "data": {
      "text/plain": [
       "(0.6338147380611499, -0.2791009818331145)"
      ]
     },
     "execution_count": 25,
     "metadata": {},
     "output_type": "execute_result"
    }
   ],
   "source": [
    "# Only with interaction terms\n",
    "from sklearn.preprocessing import PolynomialFeatures\n",
    "\n",
    "poly = PolynomialFeatures(degree=2,interaction_only = True)\n",
    "\n",
    "X_train_poly_scaled = scaler.fit_transform(poly.fit_transform(X_train))\n",
    "X_val_poly_scaled = scaler.transform(poly.transform(X_val))\n",
    "\n",
    "lr.fit(X_train_poly_scaled,y_train)\n",
    "lr.score(X_train_poly_scaled,y_train), lr.score(X_val_poly_scaled,y_val)"
   ]
  },
  {
   "cell_type": "code",
   "execution_count": 26,
   "metadata": {},
   "outputs": [
    {
     "name": "stdout",
     "output_type": "stream",
     "text": [
      "Mean of validation score is: -0.607066320158298\n",
      "[ 0.18357434  0.26149514  0.22847227 -0.59196765 -3.11690569]\n"
     ]
    }
   ],
   "source": [
    "# Cross-validation\n",
    "# Will not use X_test, y_test\n",
    "lr = LinearRegression()\n",
    "# X_, X_test, y_, y_test = train_test_split(X, y, test_size=.2, random_state=20)\n",
    "# X_train, X_val, y_train, y_val = train_test_split(X_, y_, test_size=.25, random_state=21)\n",
    "result = cross_val_score(lr, X_train_poly_scaled, y_train, # estimator, features, target\n",
    "                cv=5, # number of folds \n",
    "                scoring='r2') # scoring metric\n",
    "# mean of val_score\n",
    "print(\"Mean of validation score is:\", np.mean(result))\n",
    "print(result)"
   ]
  },
  {
   "cell_type": "code",
   "execution_count": 27,
   "metadata": {},
   "outputs": [
    {
     "data": {
      "text/plain": [
       "(0.6504009168903095, -0.18662062527112044)"
      ]
     },
     "execution_count": 27,
     "metadata": {},
     "output_type": "execute_result"
    }
   ],
   "source": [
    "from sklearn.preprocessing import PolynomialFeatures\n",
    "\n",
    "poly = PolynomialFeatures(degree=2,interaction_only = False)\n",
    "\n",
    "X_train_poly_scaled = scaler.fit_transform(poly.fit_transform(X_train))\n",
    "X_val_poly_scaled = scaler.transform(poly.transform(X_val))\n",
    "\n",
    "lr.fit(X_train_poly_scaled,y_train)\n",
    "lr.score(X_train_poly_scaled,y_train), lr.score(X_val_poly_scaled,y_val)"
   ]
  },
  {
   "cell_type": "code",
   "execution_count": 28,
   "metadata": {},
   "outputs": [],
   "source": [
    "# increased train score, but decreased val score.\n",
    "# overfitting"
   ]
  },
  {
   "cell_type": "code",
   "execution_count": null,
   "metadata": {},
   "outputs": [],
   "source": []
  },
  {
   "cell_type": "markdown",
   "metadata": {},
   "source": [
    "## 3. Intermediate Feature Engineering: Categorical features\n",
    "Use `OneHotEncoder` or `pd.get_dummies(df['column'])` to treat categorical variables"
   ]
  },
  {
   "cell_type": "markdown",
   "metadata": {},
   "source": [
    "#### * All categorical variables"
   ]
  },
  {
   "cell_type": "code",
   "execution_count": 29,
   "metadata": {},
   "outputs": [],
   "source": [
    "# Get the data from all_df with both continuous and categorical variables\n",
    "# Get the data from all_df with both continuous and categorical variables\n",
    "df = all_df[['opening_weekend_usa'] + con_feature + con_book_feature + \\\n",
    "            ['genre'] + ['MPAA'] + ['language'] + ['country'] + ['distributor'] + ['actor']]\n",
    "# df = all_df[['gross_usa'] + con_feature + con_book_feature + ['genre']]\n",
    "X, y = get_Xy(df)\n",
    "\n",
    "\n",
    "\n",
    "# train_test_split\n",
    "X_, X_test, y_, y_test = train_test_split(X, y, test_size=.2, random_state=13)\n",
    "X_train, X_val, y_train, y_val = train_test_split(X_, y_, test_size=.25, random_state=3)"
   ]
  },
  {
   "cell_type": "code",
   "execution_count": 30,
   "metadata": {},
   "outputs": [],
   "source": [
    "\n",
    "# Train set\n",
    "# Convert all cat to dummies\n",
    "X_train_genre = X_train['genre'].str.join(sep='*').str.get_dummies(sep='*')\n",
    "X_train_MPAA = pd.get_dummies(X_train['MPAA'])\n",
    "X_train_language= X_train['language'].str.join(sep='*').str.get_dummies(sep='*')\n",
    "X_train_country = X_train['country'].str.join(sep='*').str.get_dummies(sep='*')\n",
    "X_train_distributor = pd.get_dummies(X_train['distributor'])\n",
    "X_train_genre = X_train['actor'].str.join(sep='*').str.get_dummies(sep='*')\n",
    "keep_actor = list(set(X_train_genre.columns).intersection(set(actor_list)))\n",
    "X_train_genre = X_train_genre[keep_actor]\n",
    "\n",
    "\n",
    "# Scaling continuous variables\n",
    "X_train_con = X_train[con_feature]\n",
    "X_train_con_scaled = scaler.fit_transform(X_train_con)\n",
    "X_train_con_scaled_df = pd.DataFrame(X_train_con_scaled, columns=X_train_con.columns, index=X_train_con.index)\n",
    "\n",
    "X_train_poly = poly.fit_transform(X_train_con_scaled)\n",
    "X_train_poly_df = pd.DataFrame(X_train_poly, columns=poly.get_feature_names(X_train_con.columns), index=X_train_con.index)\n",
    "\n",
    "\n",
    "# Combine\n",
    "# X_train = pd.concat([X_train_genre,X_train_con_scaled_df],axis=1)\n",
    "X_train = pd.concat([X_train_genre,X_train_poly_df],axis=1)\n",
    "\n",
    "\n",
    "\n",
    "# Val set\n",
    "# Convert genre to dummies\n",
    "X_val_genre = X_val['genre'].str.join(sep='*').str.get_dummies(sep='*')\n",
    "X_val_MPAA = pd.get_dummies(X_val['MPAA'])\n",
    "X_val_language= X_val['language'].str.join(sep='*').str.get_dummies(sep='*')\n",
    "X_val_country = X_val['country'].str.join(sep='*').str.get_dummies(sep='*')\n",
    "X_val_distributor = pd.get_dummies(X_val['distributor'])\n",
    "X_val_genre = X_val['actor'].str.join(sep='*').str.get_dummies(sep='*')\n",
    "keep_actor = list(set(X_val_genre.columns).intersection(set(actor_list)))\n",
    "X_val_genre = X_val_genre[keep_actor]\n",
    "\n",
    "\n",
    "# Scaling continuous variables\n",
    "X_val_con = X_val[con_feature]\n",
    "X_val_con_scaled = scaler.transform(X_val_con)\n",
    "X_val_con_scaled_df = pd.DataFrame(X_val_con_scaled, columns=X_val_con.columns, index=X_val_con.index)\n",
    "\n",
    "X_val_poly = poly.transform(X_val_con_scaled)\n",
    "X_val_poly_df = pd.DataFrame(X_val_poly, columns=poly.get_feature_names(X_val_con.columns), index=X_val_con.index)\n",
    "\n",
    "\n",
    "# Combine\n",
    "# X_val = pd.concat([X_val_genre,X_val_con_scaled_df],axis=1)\n",
    "X_val = pd.concat([X_val_genre,X_val_poly_df],axis=1)\n",
    "\n",
    "# Find the common columns to keep\n",
    "keep = list(set(X_train.columns).intersection(set(X_val.columns)))\n",
    "X_train = X_train[keep]\n",
    "X_val = X_val[keep]"
   ]
  },
  {
   "cell_type": "code",
   "execution_count": 31,
   "metadata": {},
   "outputs": [
    {
     "data": {
      "text/plain": [
       "((345, 65), (115, 65))"
      ]
     },
     "execution_count": 31,
     "metadata": {},
     "output_type": "execute_result"
    }
   ],
   "source": [
    "X_train.shape, X_val.shape"
   ]
  },
  {
   "cell_type": "code",
   "execution_count": 32,
   "metadata": {},
   "outputs": [
    {
     "data": {
      "text/plain": [
       "(0.5729670561731262, 0.391757570838711)"
      ]
     },
     "execution_count": 32,
     "metadata": {},
     "output_type": "execute_result"
    }
   ],
   "source": [
    "# Quick evaluation\n",
    "lr = LinearRegression()\n",
    "lr.fit(X_train,y_train)\n",
    "lr.score(X_train,y_train), lr.score(X_val,y_val)"
   ]
  },
  {
   "cell_type": "code",
   "execution_count": 33,
   "metadata": {},
   "outputs": [],
   "source": [
    "# Still overfitting"
   ]
  },
  {
   "cell_type": "code",
   "execution_count": null,
   "metadata": {},
   "outputs": [],
   "source": []
  },
  {
   "cell_type": "markdown",
   "metadata": {},
   "source": [
    "## 4. Regularization"
   ]
  },
  {
   "cell_type": "markdown",
   "metadata": {},
   "source": [
    "### * Ridge"
   ]
  },
  {
   "cell_type": "code",
   "execution_count": 34,
   "metadata": {},
   "outputs": [],
   "source": [
    "## Fit a Ridge model on the standardized data\n",
    "\n",
    "# ridge_model = Ridge(alpha = 0.001)\n",
    "# ridge_model.fit(X_train,y_train)\n",
    "# list(zip(X_train.columns, ridge_model.coef_))"
   ]
  },
  {
   "cell_type": "code",
   "execution_count": 35,
   "metadata": {},
   "outputs": [
    {
     "name": "stdout",
     "output_type": "stream",
     "text": [
      "The best value of alpha is: 64.2403365939419\n"
     ]
    }
   ],
   "source": [
    "# Run the cross validation, find the best alpha, refit the model on all the data with that alpha\n",
    "\n",
    "alphavec = 10**np.linspace(-2,2,1000)\n",
    "\n",
    "ridge_model = RidgeCV(alphas = alphavec, cv=5)\n",
    "ridge_model.fit(X_train, y_train)\n",
    "print('The best value of alpha is:', ridge_model.alpha_)"
   ]
  },
  {
   "cell_type": "code",
   "execution_count": 36,
   "metadata": {},
   "outputs": [
    {
     "data": {
      "text/plain": [
       "[('Scarlett Johansson', 0.010530525406587055),\n",
       " ('Anthony Hopkins', 0.21776051145644684),\n",
       " ('Gwyneth Paltrow', -0.051305115971970953),\n",
       " ('Edward Norton', -0.17337084185115506),\n",
       " ('Russell Crowe', -0.21383957090277683),\n",
       " ('budget runtime', 1.837757701403972),\n",
       " ('Drew Barrymore', 0.029353881241262484),\n",
       " ('Joaquin Phoenix', -0.08258408237303329),\n",
       " ('Willem Dafoe', 0.062739915815073),\n",
       " ('Sandra Bullock', 0.08081176418072304),\n",
       " ('budget avg_rating_d', -0.04022597305591769),\n",
       " ('runtime', 0.8800907750758874),\n",
       " ('avg_rating_d avg_gross_d', -1.3373531850788416),\n",
       " ('Charlize Theron', -0.008439912376644395),\n",
       " ('Colin Farrell', -0.22203852139501642),\n",
       " ('Harrison Ford', -0.041595237557327226),\n",
       " ('Hugh Jackman', 0.061473423242464235),\n",
       " ('Gene Hackman', 0.19023140741594827),\n",
       " ('film_count_d avg_rating_d', -0.02766413133654822),\n",
       " ('Renée Zellweger', -0.14814945002509802),\n",
       " ('Bill Murray', -0.0027904597517218015),\n",
       " ('Nicole Kidman', -0.2876681905908805),\n",
       " ('avg_rating_d', -0.2946271709973238),\n",
       " ('budget^2', 0.6162562258442895),\n",
       " ('Susan Sarandon', 0.04843955210543956),\n",
       " ('avg_gross_d release_year', -0.4955137817591271),\n",
       " ('John Goodman', -0.08848024566208848),\n",
       " ('Bruce Willis', -0.05816997229172692),\n",
       " ('avg_gross_d^2', -0.14689384054421192),\n",
       " ('runtime avg_rating_d', -0.26931979143459617),\n",
       " ('Julianne Moore', 0.07568320652509031),\n",
       " ('film_count_d', 0.012256343269873744),\n",
       " ('Meryl Streep', 0.1632272758500621),\n",
       " ('Jack Nicholson', -0.07359244092333846),\n",
       " ('Kevin Spacey', -0.0856264930484792),\n",
       " ('avg_rating_d^2', -0.35981299752448226),\n",
       " ('Tom Hanks', 0.07531433910620339),\n",
       " ('avg_rating_d release_year', 0.11795464855640739),\n",
       " ('Matt Damon', 0.4754360517845948),\n",
       " ('budget', 5.271140991987085),\n",
       " ('Sylvester Stallone', -0.019976029333598818),\n",
       " ('runtime film_count_d', 0.7757711983005467),\n",
       " ('runtime release_year', 0.33375506560275725),\n",
       " ('runtime^2', -0.09230893192363847),\n",
       " ('Denzel Washington', 0.12917968439235847),\n",
       " ('Brendan Fraser', -0.1251609294821055),\n",
       " ('1', 0.0),\n",
       " ('release_year', 1.0142349712680303),\n",
       " ('film_count_d^2', -0.06887127536387713),\n",
       " ('Johnny Depp', 0.17869208608466464),\n",
       " ('Cate Blanchett', 0.05584733966912586),\n",
       " ('budget avg_gross_d', 0.7043902266650865),\n",
       " ('budget release_year', -0.48825723387351294),\n",
       " ('Samuel L. Jackson', -0.03854078130816645),\n",
       " ('film_count_d release_year', -0.11129778508338979),\n",
       " ('runtime avg_gross_d', 1.1033076759024545),\n",
       " ('Angelina Jolie', 0.0009267743211720551),\n",
       " ('Sean Penn', -0.1647017411611878),\n",
       " ('Ethan Hawke', -0.00925770810976968),\n",
       " ('Gary Oldman', 0.11209637985863084),\n",
       " ('film_count_d avg_gross_d', 0.9126761431067515),\n",
       " ('George Clooney', -0.23219304324037682),\n",
       " ('release_year^2', -0.03061741236387142),\n",
       " ('avg_gross_d', 1.5301984074249726),\n",
       " ('budget film_count_d', 0.09064147397471944)]"
      ]
     },
     "execution_count": 36,
     "metadata": {},
     "output_type": "execute_result"
    }
   ],
   "source": [
    "# Fit Ridge model once again with the best alpha\n",
    "ridge_model = Ridge(alpha = 100)\n",
    "ridge_model.fit(X_train,y_train)\n",
    "list(zip(X_train.columns, ridge_model.coef_))"
   ]
  },
  {
   "cell_type": "code",
   "execution_count": 37,
   "metadata": {},
   "outputs": [
    {
     "data": {
      "text/html": [
       "<div>\n",
       "<style scoped>\n",
       "    .dataframe tbody tr th:only-of-type {\n",
       "        vertical-align: middle;\n",
       "    }\n",
       "\n",
       "    .dataframe tbody tr th {\n",
       "        vertical-align: top;\n",
       "    }\n",
       "\n",
       "    .dataframe thead th {\n",
       "        text-align: right;\n",
       "    }\n",
       "</style>\n",
       "<table border=\"1\" class=\"dataframe\">\n",
       "  <thead>\n",
       "    <tr style=\"text-align: right;\">\n",
       "      <th></th>\n",
       "      <th>key</th>\n",
       "      <th>coef</th>\n",
       "    </tr>\n",
       "  </thead>\n",
       "  <tbody>\n",
       "    <tr>\n",
       "      <th>39</th>\n",
       "      <td>budget</td>\n",
       "      <td>5.271141</td>\n",
       "    </tr>\n",
       "    <tr>\n",
       "      <th>5</th>\n",
       "      <td>budget runtime</td>\n",
       "      <td>1.837758</td>\n",
       "    </tr>\n",
       "    <tr>\n",
       "      <th>63</th>\n",
       "      <td>avg_gross_d</td>\n",
       "      <td>1.530198</td>\n",
       "    </tr>\n",
       "    <tr>\n",
       "      <th>55</th>\n",
       "      <td>runtime avg_gross_d</td>\n",
       "      <td>1.103308</td>\n",
       "    </tr>\n",
       "    <tr>\n",
       "      <th>47</th>\n",
       "      <td>release_year</td>\n",
       "      <td>1.014235</td>\n",
       "    </tr>\n",
       "    <tr>\n",
       "      <th>60</th>\n",
       "      <td>film_count_d avg_gross_d</td>\n",
       "      <td>0.912676</td>\n",
       "    </tr>\n",
       "    <tr>\n",
       "      <th>11</th>\n",
       "      <td>runtime</td>\n",
       "      <td>0.880091</td>\n",
       "    </tr>\n",
       "    <tr>\n",
       "      <th>41</th>\n",
       "      <td>runtime film_count_d</td>\n",
       "      <td>0.775771</td>\n",
       "    </tr>\n",
       "    <tr>\n",
       "      <th>51</th>\n",
       "      <td>budget avg_gross_d</td>\n",
       "      <td>0.704390</td>\n",
       "    </tr>\n",
       "    <tr>\n",
       "      <th>23</th>\n",
       "      <td>budget^2</td>\n",
       "      <td>0.616256</td>\n",
       "    </tr>\n",
       "    <tr>\n",
       "      <th>38</th>\n",
       "      <td>Matt Damon</td>\n",
       "      <td>0.475436</td>\n",
       "    </tr>\n",
       "    <tr>\n",
       "      <th>42</th>\n",
       "      <td>runtime release_year</td>\n",
       "      <td>0.333755</td>\n",
       "    </tr>\n",
       "    <tr>\n",
       "      <th>1</th>\n",
       "      <td>Anthony Hopkins</td>\n",
       "      <td>0.217761</td>\n",
       "    </tr>\n",
       "    <tr>\n",
       "      <th>17</th>\n",
       "      <td>Gene Hackman</td>\n",
       "      <td>0.190231</td>\n",
       "    </tr>\n",
       "    <tr>\n",
       "      <th>49</th>\n",
       "      <td>Johnny Depp</td>\n",
       "      <td>0.178692</td>\n",
       "    </tr>\n",
       "    <tr>\n",
       "      <th>32</th>\n",
       "      <td>Meryl Streep</td>\n",
       "      <td>0.163227</td>\n",
       "    </tr>\n",
       "    <tr>\n",
       "      <th>44</th>\n",
       "      <td>Denzel Washington</td>\n",
       "      <td>0.129180</td>\n",
       "    </tr>\n",
       "    <tr>\n",
       "      <th>37</th>\n",
       "      <td>avg_rating_d release_year</td>\n",
       "      <td>0.117955</td>\n",
       "    </tr>\n",
       "    <tr>\n",
       "      <th>59</th>\n",
       "      <td>Gary Oldman</td>\n",
       "      <td>0.112096</td>\n",
       "    </tr>\n",
       "    <tr>\n",
       "      <th>64</th>\n",
       "      <td>budget film_count_d</td>\n",
       "      <td>0.090641</td>\n",
       "    </tr>\n",
       "  </tbody>\n",
       "</table>\n",
       "</div>"
      ],
      "text/plain": [
       "                          key      coef\n",
       "39                     budget  5.271141\n",
       "5              budget runtime  1.837758\n",
       "63                avg_gross_d  1.530198\n",
       "55        runtime avg_gross_d  1.103308\n",
       "47               release_year  1.014235\n",
       "60   film_count_d avg_gross_d  0.912676\n",
       "11                    runtime  0.880091\n",
       "41       runtime film_count_d  0.775771\n",
       "51         budget avg_gross_d  0.704390\n",
       "23                   budget^2  0.616256\n",
       "38                 Matt Damon  0.475436\n",
       "42       runtime release_year  0.333755\n",
       "1             Anthony Hopkins  0.217761\n",
       "17               Gene Hackman  0.190231\n",
       "49                Johnny Depp  0.178692\n",
       "32               Meryl Streep  0.163227\n",
       "44          Denzel Washington  0.129180\n",
       "37  avg_rating_d release_year  0.117955\n",
       "59                Gary Oldman  0.112096\n",
       "64        budget film_count_d  0.090641"
      ]
     },
     "execution_count": 37,
     "metadata": {},
     "output_type": "execute_result"
    }
   ],
   "source": [
    "top_key = pd.DataFrame(list(zip(X_train.columns, ridge_model.coef_)),columns=['key','coef'])\n",
    "top_key.sort_values(by='coef',ascending=False).head(20)"
   ]
  },
  {
   "cell_type": "code",
   "execution_count": 38,
   "metadata": {},
   "outputs": [
    {
     "data": {
      "text/plain": [
       "0.3858823447473123"
      ]
     },
     "execution_count": 38,
     "metadata": {},
     "output_type": "execute_result"
    }
   ],
   "source": [
    "# Quick evaluation\n",
    "y_pred = ridge_model.predict(X_val)\n",
    "r2_score(y_val, y_pred)"
   ]
  },
  {
   "cell_type": "code",
   "execution_count": 39,
   "metadata": {},
   "outputs": [],
   "source": [
    "# Similar to baseline model R^2"
   ]
  },
  {
   "cell_type": "code",
   "execution_count": 40,
   "metadata": {},
   "outputs": [
    {
     "data": {
      "text/plain": [
       "(0.0, 94.80935205)"
      ]
     },
     "execution_count": 40,
     "metadata": {},
     "output_type": "execute_result"
    },
    {
     "data": {
      "image/png": "[encoded data removed]",
      "text/plain": [
       "<Figure size 432x288 with 1 Axes>"
      ]
     },
     "metadata": {},
     "output_type": "display_data"
    }
   ],
   "source": [
    "# Visualization\n",
    "fig, ax = plt.subplots(1, 1)\n",
    "plt.scatter(y_val, y_pred, alpha=0.4)\n",
    "\n",
    "val_score=r2_score(y_val, y_pred)\n",
    "\n",
    "ax.set_xlabel('Opening weekend revenue (USD)',fontsize=20)\n",
    "ax.set_ylabel('Prediction (USD)',fontsize=20)\n",
    "ax.set_title('R$^2$: %0.2f' % val_score, fontsize=20)\n",
    "\n",
    "plt.xticks(fontsize=16)\n",
    "plt.yticks(fontsize=16)\n",
    "\n",
    "#     ax.set_xticks([0,0.2e8,0.4e8,0.6e8,0.8e8])\n",
    "#     ax.set_xticklabels(['0','20M','40M','60M','80M'])\n",
    "#     ax.set_yticks([0,0.1e8,0.2e8,0.3e8,0.4e8,0.5e8,0.6e8,0.7e8])\n",
    "#     ax.set_yticklabels(['0','10M','20M','30M','40M','50M','60M','70M'])\n",
    "\n",
    "x=np.linspace(0,0.7e2,50)\n",
    "#     x=np.linspace(4,9,50)\n",
    "\n",
    "y=x\n",
    "plt.plot(x,y,color='firebrick',linewidth=3,alpha=0.6)\n",
    "plt.ylim(0,)\n",
    "plt.xlim(0,)"
   ]
  },
  {
   "cell_type": "code",
   "execution_count": 41,
   "metadata": {},
   "outputs": [],
   "source": [
    "fig.savefig('../plot/ridge_prediction_b.pdf', bbox_inches='tight', transparent = True)"
   ]
  },
  {
   "cell_type": "code",
   "execution_count": 42,
   "metadata": {},
   "outputs": [
    {
     "data": {
      "text/plain": [
       "10.017792833305412"
      ]
     },
     "execution_count": 42,
     "metadata": {},
     "output_type": "execute_result"
    }
   ],
   "source": [
    "rmse = np.sqrt(mean_squared_error(y_val, y_pred))\n",
    "rmse"
   ]
  },
  {
   "cell_type": "code",
   "execution_count": null,
   "metadata": {},
   "outputs": [],
   "source": []
  },
  {
   "cell_type": "markdown",
   "metadata": {},
   "source": [
    "### * LASSO"
   ]
  },
  {
   "cell_type": "code",
   "execution_count": 43,
   "metadata": {},
   "outputs": [],
   "source": [
    "# lasso_model = Lasso(alpha = 0.001)\n",
    "# lasso_model.fit(X_train,y_train)\n",
    "# list(zip(X_train_con_scaled_df.columns, lasso_model.coef_))"
   ]
  },
  {
   "cell_type": "code",
   "execution_count": 44,
   "metadata": {},
   "outputs": [
    {
     "name": "stdout",
     "output_type": "stream",
     "text": [
      "The best value of alpha is: 0.8412497049736118\n"
     ]
    }
   ],
   "source": [
    "# Run the cross validation, find the best alpha, refit the model on all the data with that alpha\n",
    "\n",
    "\n",
    "alphavec = 10**np.linspace(-5,5,1000)\n",
    "\n",
    "lasso_model = LassoCV(alphas = alphavec, cv=5)\n",
    "lasso_model.fit(X_train, y_train)\n",
    "print('The best value of alpha is:', lasso_model.alpha_)"
   ]
  },
  {
   "cell_type": "code",
   "execution_count": 45,
   "metadata": {},
   "outputs": [
    {
     "data": {
      "text/plain": [
       "[('Scarlett Johansson', -0.0),\n",
       " ('Anthony Hopkins', 0.0),\n",
       " ('Gwyneth Paltrow', -0.0),\n",
       " ('Edward Norton', -0.0),\n",
       " ('Russell Crowe', -0.0),\n",
       " ('budget runtime', 0.0),\n",
       " ('Drew Barrymore', -0.0),\n",
       " ('Joaquin Phoenix', -0.0),\n",
       " ('Willem Dafoe', -0.0),\n",
       " ('Sandra Bullock', 0.0),\n",
       " ('budget avg_rating_d', 0.0),\n",
       " ('runtime', 0.0),\n",
       " ('avg_rating_d avg_gross_d', 0.0),\n",
       " ('Charlize Theron', 0.0),\n",
       " ('Colin Farrell', -0.0),\n",
       " ('Harrison Ford', 0.0),\n",
       " ('Hugh Jackman', 0.0),\n",
       " ('Gene Hackman', 0.0),\n",
       " ('film_count_d avg_rating_d', 0.0),\n",
       " ('Renée Zellweger', -0.0),\n",
       " ('Bill Murray', -0.0),\n",
       " ('Nicole Kidman', 0.0),\n",
       " ('avg_rating_d', 0.0),\n",
       " ('budget^2', 0.0),\n",
       " ('Susan Sarandon', 0.0),\n",
       " ('avg_gross_d release_year', 0.0),\n",
       " ('John Goodman', -0.0),\n",
       " ('Bruce Willis', -0.0),\n",
       " ('avg_gross_d^2', 0.0),\n",
       " ('runtime avg_rating_d', -0.0),\n",
       " ('Julianne Moore', 0.0),\n",
       " ('film_count_d', 0.0),\n",
       " ('Meryl Streep', -0.0),\n",
       " ('Jack Nicholson', -0.0),\n",
       " ('Kevin Spacey', -0.0),\n",
       " ('avg_rating_d^2', -0.0),\n",
       " ('Tom Hanks', 0.0),\n",
       " ('avg_rating_d release_year', 0.0),\n",
       " ('Matt Damon', 0.0),\n",
       " ('budget', 0.0),\n",
       " ('Sylvester Stallone', -0.0),\n",
       " ('runtime film_count_d', 0.0),\n",
       " ('runtime release_year', 0.0),\n",
       " ('runtime^2', 0.0),\n",
       " ('Denzel Washington', 0.0),\n",
       " ('Brendan Fraser', -0.0),\n",
       " ('1', 0.0),\n",
       " ('release_year', 0.0),\n",
       " ('film_count_d^2', 0.0),\n",
       " ('Johnny Depp', 0.0),\n",
       " ('Cate Blanchett', -0.0),\n",
       " ('budget avg_gross_d', 0.0),\n",
       " ('budget release_year', 0.0),\n",
       " ('Samuel L. Jackson', 0.0),\n",
       " ('film_count_d release_year', 0.0),\n",
       " ('runtime avg_gross_d', 0.0),\n",
       " ('Angelina Jolie', 0.0),\n",
       " ('Sean Penn', -0.0),\n",
       " ('Ethan Hawke', -0.0),\n",
       " ('Gary Oldman', 0.0),\n",
       " ('film_count_d avg_gross_d', 0.0),\n",
       " ('George Clooney', -0.0),\n",
       " ('release_year^2', -0.0),\n",
       " ('avg_gross_d', 0.0),\n",
       " ('budget film_count_d', 0.0)]"
      ]
     },
     "execution_count": 45,
     "metadata": {},
     "output_type": "execute_result"
    }
   ],
   "source": [
    "lasso_model = Lasso(alpha = 32.1)\n",
    "lasso_model.fit(X_train,y_train)\n",
    "list(zip(X_train.columns, lasso_model.coef_))"
   ]
  },
  {
   "cell_type": "code",
   "execution_count": 46,
   "metadata": {},
   "outputs": [
    {
     "data": {
      "text/html": [
       "<div>\n",
       "<style scoped>\n",
       "    .dataframe tbody tr th:only-of-type {\n",
       "        vertical-align: middle;\n",
       "    }\n",
       "\n",
       "    .dataframe tbody tr th {\n",
       "        vertical-align: top;\n",
       "    }\n",
       "\n",
       "    .dataframe thead th {\n",
       "        text-align: right;\n",
       "    }\n",
       "</style>\n",
       "<table border=\"1\" class=\"dataframe\">\n",
       "  <thead>\n",
       "    <tr style=\"text-align: right;\">\n",
       "      <th></th>\n",
       "      <th>Feature</th>\n",
       "      <th>Coefficient</th>\n",
       "    </tr>\n",
       "  </thead>\n",
       "  <tbody>\n",
       "    <tr>\n",
       "      <th>0</th>\n",
       "      <td>Scarlett Johansson</td>\n",
       "      <td>-0.0</td>\n",
       "    </tr>\n",
       "    <tr>\n",
       "      <th>33</th>\n",
       "      <td>Jack Nicholson</td>\n",
       "      <td>-0.0</td>\n",
       "    </tr>\n",
       "    <tr>\n",
       "      <th>35</th>\n",
       "      <td>avg_rating_d^2</td>\n",
       "      <td>-0.0</td>\n",
       "    </tr>\n",
       "    <tr>\n",
       "      <th>36</th>\n",
       "      <td>Tom Hanks</td>\n",
       "      <td>0.0</td>\n",
       "    </tr>\n",
       "    <tr>\n",
       "      <th>37</th>\n",
       "      <td>avg_rating_d release_year</td>\n",
       "      <td>0.0</td>\n",
       "    </tr>\n",
       "    <tr>\n",
       "      <th>38</th>\n",
       "      <td>Matt Damon</td>\n",
       "      <td>0.0</td>\n",
       "    </tr>\n",
       "    <tr>\n",
       "      <th>39</th>\n",
       "      <td>budget</td>\n",
       "      <td>0.0</td>\n",
       "    </tr>\n",
       "    <tr>\n",
       "      <th>40</th>\n",
       "      <td>Sylvester Stallone</td>\n",
       "      <td>-0.0</td>\n",
       "    </tr>\n",
       "    <tr>\n",
       "      <th>41</th>\n",
       "      <td>runtime film_count_d</td>\n",
       "      <td>0.0</td>\n",
       "    </tr>\n",
       "    <tr>\n",
       "      <th>42</th>\n",
       "      <td>runtime release_year</td>\n",
       "      <td>0.0</td>\n",
       "    </tr>\n",
       "    <tr>\n",
       "      <th>43</th>\n",
       "      <td>runtime^2</td>\n",
       "      <td>0.0</td>\n",
       "    </tr>\n",
       "    <tr>\n",
       "      <th>44</th>\n",
       "      <td>Denzel Washington</td>\n",
       "      <td>0.0</td>\n",
       "    </tr>\n",
       "    <tr>\n",
       "      <th>45</th>\n",
       "      <td>Brendan Fraser</td>\n",
       "      <td>-0.0</td>\n",
       "    </tr>\n",
       "    <tr>\n",
       "      <th>46</th>\n",
       "      <td>1</td>\n",
       "      <td>0.0</td>\n",
       "    </tr>\n",
       "    <tr>\n",
       "      <th>47</th>\n",
       "      <td>release_year</td>\n",
       "      <td>0.0</td>\n",
       "    </tr>\n",
       "    <tr>\n",
       "      <th>48</th>\n",
       "      <td>film_count_d^2</td>\n",
       "      <td>0.0</td>\n",
       "    </tr>\n",
       "    <tr>\n",
       "      <th>49</th>\n",
       "      <td>Johnny Depp</td>\n",
       "      <td>0.0</td>\n",
       "    </tr>\n",
       "    <tr>\n",
       "      <th>50</th>\n",
       "      <td>Cate Blanchett</td>\n",
       "      <td>-0.0</td>\n",
       "    </tr>\n",
       "    <tr>\n",
       "      <th>51</th>\n",
       "      <td>budget avg_gross_d</td>\n",
       "      <td>0.0</td>\n",
       "    </tr>\n",
       "    <tr>\n",
       "      <th>52</th>\n",
       "      <td>budget release_year</td>\n",
       "      <td>0.0</td>\n",
       "    </tr>\n",
       "  </tbody>\n",
       "</table>\n",
       "</div>"
      ],
      "text/plain": [
       "                      Feature  Coefficient\n",
       "0          Scarlett Johansson         -0.0\n",
       "33             Jack Nicholson         -0.0\n",
       "35             avg_rating_d^2         -0.0\n",
       "36                  Tom Hanks          0.0\n",
       "37  avg_rating_d release_year          0.0\n",
       "38                 Matt Damon          0.0\n",
       "39                     budget          0.0\n",
       "40         Sylvester Stallone         -0.0\n",
       "41       runtime film_count_d          0.0\n",
       "42       runtime release_year          0.0\n",
       "43                  runtime^2          0.0\n",
       "44          Denzel Washington          0.0\n",
       "45             Brendan Fraser         -0.0\n",
       "46                          1          0.0\n",
       "47               release_year          0.0\n",
       "48             film_count_d^2          0.0\n",
       "49                Johnny Depp          0.0\n",
       "50             Cate Blanchett         -0.0\n",
       "51         budget avg_gross_d          0.0\n",
       "52        budget release_year          0.0"
      ]
     },
     "execution_count": 46,
     "metadata": {},
     "output_type": "execute_result"
    }
   ],
   "source": [
    "lasso_coef = pd.DataFrame(list(zip(X_train.columns, lasso_model.coef_)),columns=['Feature','Coefficient'])\n",
    "lasso_top = lasso_coef.sort_values(by=['Coefficient'],ascending=False).head(20)\n",
    "lasso_top"
   ]
  },
  {
   "cell_type": "code",
   "execution_count": 47,
   "metadata": {},
   "outputs": [],
   "source": [
    "# only page, budget, director average gross are left\n",
    "# but coefficients not meaning ful since all features are small"
   ]
  },
  {
   "cell_type": "code",
   "execution_count": 48,
   "metadata": {},
   "outputs": [
    {
     "data": {
      "text/plain": [
       "-0.06698318004980996"
      ]
     },
     "execution_count": 48,
     "metadata": {},
     "output_type": "execute_result"
    }
   ],
   "source": [
    "y_pred = lasso_model.predict(X_val)\n",
    "r2_score(y_val, y_pred)"
   ]
  },
  {
   "cell_type": "code",
   "execution_count": 49,
   "metadata": {},
   "outputs": [
    {
     "data": {
      "text/plain": [
       "(0.0, 94.80935205)"
      ]
     },
     "execution_count": 49,
     "metadata": {},
     "output_type": "execute_result"
    },
    {
     "data": {
      "image/png": "[encoded data removed]",
      "text/plain": [
       "<Figure size 432x288 with 1 Axes>"
      ]
     },
     "metadata": {},
     "output_type": "display_data"
    }
   ],
   "source": [
    "# Visualization\n",
    "fig, ax = plt.subplots(1, 1)\n",
    "plt.scatter(y_val, y_pred, alpha=0.4)\n",
    "\n",
    "val_score=r2_score(y_val, y_pred)\n",
    "\n",
    "ax.set_xlabel('Opening weekend revenue (USD)',fontsize=20)\n",
    "ax.set_ylabel('Prediction (USD)',fontsize=20)\n",
    "ax.set_title('R$^2$: %0.2f' % val_score, fontsize=20)\n",
    "\n",
    "plt.xticks(fontsize=16)\n",
    "plt.yticks(fontsize=16)\n",
    "\n",
    "#     ax.set_xticks([0,0.2e8,0.4e8,0.6e8,0.8e8])\n",
    "#     ax.set_xticklabels(['0','20M','40M','60M','80M'])\n",
    "#     ax.set_yticks([0,0.1e8,0.2e8,0.3e8,0.4e8,0.5e8,0.6e8,0.7e8])\n",
    "#     ax.set_yticklabels(['0','10M','20M','30M','40M','50M','60M','70M'])\n",
    "\n",
    "x=np.linspace(0,0.7e2,50)\n",
    "#     x=np.linspace(4,9,50)\n",
    "\n",
    "y=x\n",
    "plt.plot(x,y,color='firebrick',linewidth=3,alpha=0.6)\n",
    "plt.ylim(0,)\n",
    "plt.xlim(0,)"
   ]
  },
  {
   "cell_type": "code",
   "execution_count": null,
   "metadata": {},
   "outputs": [],
   "source": []
  }
 ],
 "metadata": {
  "kernelspec": {
   "display_name": "Python 3",
   "language": "python",
   "name": "python3"
  },
  "language_info": {
   "codemirror_mode": {
    "name": "ipython",
    "version": 3
   },
   "file_extension": ".py",
   "mimetype": "text/x-python",
   "name": "python",
   "nbconvert_exporter": "python",
   "pygments_lexer": "ipython3",
   "version": "3.8.5"
  }
 },
 "nbformat": 4,
 "nbformat_minor": 4
}
