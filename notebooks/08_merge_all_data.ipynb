{
 "cells": [
  {
   "cell_type": "code",
   "execution_count": null,
   "metadata": {},
   "outputs": [],
   "source": [
    "\"\"\"\n",
    "Combine all data from:\n",
    "1. movie_data_adaptation\n",
    "2. director_data\n",
    "3. book_data\n",
    "4. found_book\n",
    "5. author_book_data\n",
    "6. book_history_data\n",
    "\n",
    "functions used:\n",
    "director_value(movie) from director.py\n",
    "\n",
    "Output to pickle: all_data\n",
    "\n",
    "\"\"\""
   ]
  },
  {
   "cell_type": "code",
   "execution_count": 48,
   "metadata": {},
   "outputs": [],
   "source": [
    "import pandas as pd\n",
    "import numpy as np\n",
    "import pickle\n",
    "\n",
    "import sys\n",
    "sys.path.append('/Users/katiehuang/Documents/metis/projects/onl_ds5_project_2/py')\n",
    "from director import *"
   ]
  },
  {
   "cell_type": "markdown",
   "metadata": {},
   "source": [
    "## 1. Merge movie data and (book_data, found_book)"
   ]
  },
  {
   "cell_type": "code",
   "execution_count": 7,
   "metadata": {},
   "outputs": [],
   "source": [
    "# Load in movie_data and book_data pickle files\n",
    "movie_df = pd.read_pickle('../data/movie_data_adaptation')\n",
    "book_df = pd.read_pickle('../data/book_data')\n",
    "found_book_df = pd.read_pickle('../data/found_book')"
   ]
  },
  {
   "cell_type": "code",
   "execution_count": 11,
   "metadata": {},
   "outputs": [],
   "source": [
    "# Combine book_df and found_book_df to book_all_df\n",
    "book_all_df = pd.concat([book_df,found_book_df],axis=0).\\\n",
    "drop_duplicates(subset=['book_title','author'])"
   ]
  },
  {
   "cell_type": "code",
   "execution_count": 12,
   "metadata": {},
   "outputs": [
    {
     "data": {
      "text/html": [
       "<div>\n",
       "<style scoped>\n",
       "    .dataframe tbody tr th:only-of-type {\n",
       "        vertical-align: middle;\n",
       "    }\n",
       "\n",
       "    .dataframe tbody tr th {\n",
       "        vertical-align: top;\n",
       "    }\n",
       "\n",
       "    .dataframe thead th {\n",
       "        text-align: right;\n",
       "    }\n",
       "</style>\n",
       "<table border=\"1\" class=\"dataframe\">\n",
       "  <thead>\n",
       "    <tr style=\"text-align: right;\">\n",
       "      <th></th>\n",
       "      <th>book_title</th>\n",
       "      <th>author</th>\n",
       "      <th>rating_value</th>\n",
       "      <th>rating_count</th>\n",
       "      <th>review_count</th>\n",
       "      <th>page</th>\n",
       "      <th>year</th>\n",
       "    </tr>\n",
       "  </thead>\n",
       "  <tbody>\n",
       "    <tr>\n",
       "      <th>0</th>\n",
       "      <td>Harry Potter and the Sorcerer's Stone</td>\n",
       "      <td>J.K. Rowling</td>\n",
       "      <td>4.48</td>\n",
       "      <td>7292896.0</td>\n",
       "      <td>115556.0</td>\n",
       "      <td>309.0</td>\n",
       "      <td>1997.0</td>\n",
       "    </tr>\n",
       "    <tr>\n",
       "      <th>1</th>\n",
       "      <td>Harry Potter and the Chamber of Secrets</td>\n",
       "      <td>J.K. Rowling</td>\n",
       "      <td>4.43</td>\n",
       "      <td>2821010.0</td>\n",
       "      <td>54542.0</td>\n",
       "      <td>341.0</td>\n",
       "      <td>1998.0</td>\n",
       "    </tr>\n",
       "    <tr>\n",
       "      <th>2</th>\n",
       "      <td>Harry Potter and the Prisoner of Azkaban</td>\n",
       "      <td>J.K. Rowling</td>\n",
       "      <td>4.57</td>\n",
       "      <td>2908354.0</td>\n",
       "      <td>57262.0</td>\n",
       "      <td>435.0</td>\n",
       "      <td>1999.0</td>\n",
       "    </tr>\n",
       "    <tr>\n",
       "      <th>3</th>\n",
       "      <td>Harry Potter and the Goblet of Fire</td>\n",
       "      <td>J.K. Rowling</td>\n",
       "      <td>4.56</td>\n",
       "      <td>2676621.0</td>\n",
       "      <td>47961.0</td>\n",
       "      <td>734.0</td>\n",
       "      <td>2000.0</td>\n",
       "    </tr>\n",
       "    <tr>\n",
       "      <th>4</th>\n",
       "      <td>Harry Potter and the Order of the Phoenix</td>\n",
       "      <td>J.K. Rowling</td>\n",
       "      <td>4.50</td>\n",
       "      <td>2585450.0</td>\n",
       "      <td>43737.0</td>\n",
       "      <td>870.0</td>\n",
       "      <td>2003.0</td>\n",
       "    </tr>\n",
       "    <tr>\n",
       "      <th>...</th>\n",
       "      <td>...</td>\n",
       "      <td>...</td>\n",
       "      <td>...</td>\n",
       "      <td>...</td>\n",
       "      <td>...</td>\n",
       "      <td>...</td>\n",
       "      <td>...</td>\n",
       "    </tr>\n",
       "    <tr>\n",
       "      <th>1392</th>\n",
       "      <td>The Hanging Tree - Sheet Music: (from The Hung...</td>\n",
       "      <td>Hal Leonard Corporation</td>\n",
       "      <td>4.14</td>\n",
       "      <td>7.0</td>\n",
       "      <td>2.0</td>\n",
       "      <td>NaN</td>\n",
       "      <td>2015.0</td>\n",
       "    </tr>\n",
       "    <tr>\n",
       "      <th>1393</th>\n",
       "      <td>Fifty Shades Darker</td>\n",
       "      <td>E.L. James</td>\n",
       "      <td>3.84</td>\n",
       "      <td>761148.0</td>\n",
       "      <td>29215.0</td>\n",
       "      <td>532.0</td>\n",
       "      <td>2011.0</td>\n",
       "    </tr>\n",
       "    <tr>\n",
       "      <th>1394</th>\n",
       "      <td>Bless the Child</td>\n",
       "      <td>Cathy Cash Spellman</td>\n",
       "      <td>3.80</td>\n",
       "      <td>607.0</td>\n",
       "      <td>54.0</td>\n",
       "      <td>608.0</td>\n",
       "      <td>1993.0</td>\n",
       "    </tr>\n",
       "    <tr>\n",
       "      <th>1395</th>\n",
       "      <td>Playing for Keeps</td>\n",
       "      <td>R.L. Mathewson</td>\n",
       "      <td>4.05</td>\n",
       "      <td>106251.0</td>\n",
       "      <td>5587.0</td>\n",
       "      <td>330.0</td>\n",
       "      <td>2011.0</td>\n",
       "    </tr>\n",
       "    <tr>\n",
       "      <th>1396</th>\n",
       "      <td>The Badlanders</td>\n",
       "      <td>Jack Slade</td>\n",
       "      <td>3.25</td>\n",
       "      <td>4.0</td>\n",
       "      <td>0.0</td>\n",
       "      <td>NaN</td>\n",
       "      <td>1973.0</td>\n",
       "    </tr>\n",
       "  </tbody>\n",
       "</table>\n",
       "<p>3037 rows × 7 columns</p>\n",
       "</div>"
      ],
      "text/plain": [
       "                                             book_title  \\\n",
       "0                 Harry Potter and the Sorcerer's Stone   \n",
       "1               Harry Potter and the Chamber of Secrets   \n",
       "2              Harry Potter and the Prisoner of Azkaban   \n",
       "3                   Harry Potter and the Goblet of Fire   \n",
       "4             Harry Potter and the Order of the Phoenix   \n",
       "...                                                 ...   \n",
       "1392  The Hanging Tree - Sheet Music: (from The Hung...   \n",
       "1393                                Fifty Shades Darker   \n",
       "1394                                    Bless the Child   \n",
       "1395                                  Playing for Keeps   \n",
       "1396                                     The Badlanders   \n",
       "\n",
       "                       author  rating_value  rating_count  review_count  \\\n",
       "0                J.K. Rowling          4.48     7292896.0      115556.0   \n",
       "1                J.K. Rowling          4.43     2821010.0       54542.0   \n",
       "2                J.K. Rowling          4.57     2908354.0       57262.0   \n",
       "3                J.K. Rowling          4.56     2676621.0       47961.0   \n",
       "4                J.K. Rowling          4.50     2585450.0       43737.0   \n",
       "...                       ...           ...           ...           ...   \n",
       "1392  Hal Leonard Corporation          4.14           7.0           2.0   \n",
       "1393               E.L. James          3.84      761148.0       29215.0   \n",
       "1394      Cathy Cash Spellman          3.80         607.0          54.0   \n",
       "1395           R.L. Mathewson          4.05      106251.0        5587.0   \n",
       "1396               Jack Slade          3.25           4.0           0.0   \n",
       "\n",
       "       page    year  \n",
       "0     309.0  1997.0  \n",
       "1     341.0  1998.0  \n",
       "2     435.0  1999.0  \n",
       "3     734.0  2000.0  \n",
       "4     870.0  2003.0  \n",
       "...     ...     ...  \n",
       "1392    NaN  2015.0  \n",
       "1393  532.0  2011.0  \n",
       "1394  608.0  1993.0  \n",
       "1395  330.0  2011.0  \n",
       "1396    NaN  1973.0  \n",
       "\n",
       "[3037 rows x 7 columns]"
      ]
     },
     "execution_count": 12,
     "metadata": {},
     "output_type": "execute_result"
    }
   ],
   "source": [
    "book_all_df"
   ]
  },
  {
   "cell_type": "code",
   "execution_count": 10,
   "metadata": {},
   "outputs": [
    {
     "data": {
      "text/plain": [
       "((1800, 7), (1397, 7))"
      ]
     },
     "execution_count": 10,
     "metadata": {},
     "output_type": "execute_result"
    }
   ],
   "source": [
    "movie_df."
   ]
  },
  {
   "cell_type": "code",
   "execution_count": null,
   "metadata": {},
   "outputs": [],
   "source": []
  },
  {
   "cell_type": "code",
   "execution_count": 28,
   "metadata": {},
   "outputs": [
    {
     "data": {
      "text/plain": [
       "(1169, 29)"
      ]
     },
     "execution_count": 28,
     "metadata": {},
     "output_type": "execute_result"
    }
   ],
   "source": [
    "# Merge movie_df and book_all_df\n",
    "mb_df = pd.merge(movie_df,book_all_df,\\\n",
    "                      left_on=\"movie_title\",right_on=\"book_title\",how='inner')\n",
    "mb_df.shape"
   ]
  },
  {
   "cell_type": "markdown",
   "metadata": {},
   "source": [
    "## 2. Merge with google search (popularity)"
   ]
  },
  {
   "cell_type": "code",
   "execution_count": 22,
   "metadata": {},
   "outputs": [
    {
     "data": {
      "text/plain": [
       "(1166, 9)"
      ]
     },
     "execution_count": 22,
     "metadata": {},
     "output_type": "execute_result"
    }
   ],
   "source": [
    "import pandas as pd\n",
    "# Load pickle file\n",
    "book_history = pd.read_pickle('../data/book_history_2_data')\n",
    "book_history.shape"
   ]
  },
  {
   "cell_type": "code",
   "execution_count": 25,
   "metadata": {},
   "outputs": [],
   "source": [
    "book_popularity_df = \\\n",
    "book_history[['title','release_date','book_popularity','author_popularity']].dropna()"
   ]
  },
  {
   "cell_type": "code",
   "execution_count": 27,
   "metadata": {},
   "outputs": [
    {
     "data": {
      "text/html": [
       "<div>\n",
       "<style scoped>\n",
       "    .dataframe tbody tr th:only-of-type {\n",
       "        vertical-align: middle;\n",
       "    }\n",
       "\n",
       "    .dataframe tbody tr th {\n",
       "        vertical-align: top;\n",
       "    }\n",
       "\n",
       "    .dataframe thead th {\n",
       "        text-align: right;\n",
       "    }\n",
       "</style>\n",
       "<table border=\"1\" class=\"dataframe\">\n",
       "  <thead>\n",
       "    <tr style=\"text-align: right;\">\n",
       "      <th></th>\n",
       "      <th>title</th>\n",
       "      <th>release_date</th>\n",
       "      <th>book_popularity</th>\n",
       "      <th>author_popularity</th>\n",
       "    </tr>\n",
       "  </thead>\n",
       "  <tbody>\n",
       "    <tr>\n",
       "      <th>0</th>\n",
       "      <td>The Godfather</td>\n",
       "      <td>1972-03-24</td>\n",
       "      <td>0.26</td>\n",
       "      <td>0.0567</td>\n",
       "    </tr>\n",
       "    <tr>\n",
       "      <th>1</th>\n",
       "      <td>Harry Potter and the Sorcerer's Stone</td>\n",
       "      <td>2001-11-16</td>\n",
       "      <td>0.18</td>\n",
       "      <td>0.0121</td>\n",
       "    </tr>\n",
       "    <tr>\n",
       "      <th>2</th>\n",
       "      <td>Harry Potter and the Sorcerer's Stone</td>\n",
       "      <td>2001-11-16</td>\n",
       "      <td>0.18</td>\n",
       "      <td>0.0121</td>\n",
       "    </tr>\n",
       "  </tbody>\n",
       "</table>\n",
       "</div>"
      ],
      "text/plain": [
       "                                   title release_date  book_popularity  \\\n",
       "0                          The Godfather   1972-03-24             0.26   \n",
       "1  Harry Potter and the Sorcerer's Stone   2001-11-16             0.18   \n",
       "2  Harry Potter and the Sorcerer's Stone   2001-11-16             0.18   \n",
       "\n",
       "   author_popularity  \n",
       "0             0.0567  \n",
       "1             0.0121  \n",
       "2             0.0121  "
      ]
     },
     "execution_count": 27,
     "metadata": {},
     "output_type": "execute_result"
    }
   ],
   "source": [
    "book_popularity_df.head(3)"
   ]
  },
  {
   "cell_type": "code",
   "execution_count": 31,
   "metadata": {},
   "outputs": [
    {
     "data": {
      "text/plain": [
       "(1602, 33)"
      ]
     },
     "execution_count": 31,
     "metadata": {},
     "output_type": "execute_result"
    }
   ],
   "source": [
    "# Combine movie,book,popularity (mbp)\n",
    "mbp_df = pd.merge(mb_df,book_popularity_df,left_on='book_title',\\\n",
    "                 right_on='title',how='inner')\n",
    "mbp_df.shape"
   ]
  },
  {
   "cell_type": "code",
   "execution_count": 147,
   "metadata": {},
   "outputs": [],
   "source": [
    "# Save the data to pickle file\n",
    "all_df.to_pickle('../dump/all_correctRT_data')"
   ]
  },
  {
   "cell_type": "code",
   "execution_count": null,
   "metadata": {},
   "outputs": [],
   "source": []
  },
  {
   "cell_type": "markdown",
   "metadata": {},
   "source": [
    "## 3. Merge with author_book_data\n",
    "(How many books the author had published before the movie release year)"
   ]
  },
  {
   "cell_type": "code",
   "execution_count": 63,
   "metadata": {},
   "outputs": [
    {
     "data": {
      "text/plain": [
       "((1602, 33), (979, 2))"
      ]
     },
     "execution_count": 63,
     "metadata": {},
     "output_type": "execute_result"
    }
   ],
   "source": [
    "# Load author_book_data\n",
    "author_book_df = pd.read_pickle('../data/author_book_data')\n",
    "mbp_df.shape,author_book_df.shape"
   ]
  },
  {
   "cell_type": "code",
   "execution_count": 64,
   "metadata": {},
   "outputs": [
    {
     "data": {
      "text/plain": [
       "(1785, 34)"
      ]
     },
     "execution_count": 64,
     "metadata": {},
     "output_type": "execute_result"
    }
   ],
   "source": [
    "# Merge movie,book,popularity,author_boook (mbp_ab)\n",
    "mpb_ab_df = pd.merge(mbp_df,author_book_df,on='author',how='left')\n",
    "mpb_ab_df.shape"
   ]
  },
  {
   "cell_type": "code",
   "execution_count": 65,
   "metadata": {},
   "outputs": [],
   "source": [
    "mpb_ab_df['release_year'] = mpb_ab_df['release_date_x'].dt.year"
   ]
  },
  {
   "cell_type": "code",
   "execution_count": 66,
   "metadata": {},
   "outputs": [],
   "source": [
    "# count publications of author before the movie release\n",
    "def count_pub(movie):\n",
    "    \n",
    "    author = movie.author\n",
    "    movie_release_year = movie.release_year\n",
    "    \n",
    "    author_info = author_book_df[author_book_df.author == author]\n",
    "    \n",
    "    years = author_info.iloc[0].years\n",
    "    prior = [x for x in years if x < movie_release_year]\n",
    "    count = len(prior)\n",
    "    \n",
    "    return count"
   ]
  },
  {
   "cell_type": "code",
   "execution_count": 67,
   "metadata": {
    "scrolled": false
   },
   "outputs": [
    {
     "data": {
      "text/html": [
       "<div>\n",
       "<style scoped>\n",
       "    .dataframe tbody tr th:only-of-type {\n",
       "        vertical-align: middle;\n",
       "    }\n",
       "\n",
       "    .dataframe tbody tr th {\n",
       "        vertical-align: top;\n",
       "    }\n",
       "\n",
       "    .dataframe thead th {\n",
       "        text-align: right;\n",
       "    }\n",
       "</style>\n",
       "<table border=\"1\" class=\"dataframe\">\n",
       "  <thead>\n",
       "    <tr style=\"text-align: right;\">\n",
       "      <th></th>\n",
       "      <th>movie_title</th>\n",
       "      <th>rating</th>\n",
       "      <th>vote</th>\n",
       "      <th>certificate</th>\n",
       "      <th>genre</th>\n",
       "      <th>release_date_x</th>\n",
       "      <th>metascore</th>\n",
       "      <th>keywords</th>\n",
       "      <th>budget</th>\n",
       "      <th>opening_weekend_usa</th>\n",
       "      <th>...</th>\n",
       "      <th>review_count</th>\n",
       "      <th>page</th>\n",
       "      <th>year</th>\n",
       "      <th>title</th>\n",
       "      <th>release_date_y</th>\n",
       "      <th>book_popularity</th>\n",
       "      <th>author_popularity</th>\n",
       "      <th>years</th>\n",
       "      <th>release_year</th>\n",
       "      <th>count_a</th>\n",
       "    </tr>\n",
       "  </thead>\n",
       "  <tbody>\n",
       "    <tr>\n",
       "      <th>0</th>\n",
       "      <td>The Godfather</td>\n",
       "      <td>9.2</td>\n",
       "      <td>1616717</td>\n",
       "      <td>R</td>\n",
       "      <td>[Crime, Drama]</td>\n",
       "      <td>1972-03-24</td>\n",
       "      <td>100.0</td>\n",
       "      <td>[crime family, mafia, patriarch, organized cri...</td>\n",
       "      <td>6000000.0</td>\n",
       "      <td>302393.0</td>\n",
       "      <td>...</td>\n",
       "      <td>8930.0</td>\n",
       "      <td>448.0</td>\n",
       "      <td>1969.0</td>\n",
       "      <td>The Godfather</td>\n",
       "      <td>1972-03-24</td>\n",
       "      <td>0.26</td>\n",
       "      <td>0.0567</td>\n",
       "      <td>[2002, 2000, 1997, 1996, 1996, 1991, 1990, 198...</td>\n",
       "      <td>1972</td>\n",
       "      <td>1</td>\n",
       "    </tr>\n",
       "    <tr>\n",
       "      <th>1</th>\n",
       "      <td>Harry Potter and the Sorcerer's Stone</td>\n",
       "      <td>7.6</td>\n",
       "      <td>656400</td>\n",
       "      <td>PG</td>\n",
       "      <td>[Adventure, Family, Fantasy]</td>\n",
       "      <td>2001-11-16</td>\n",
       "      <td>64.0</td>\n",
       "      <td>[magic, wizard, school of magic, based on nove...</td>\n",
       "      <td>125000000.0</td>\n",
       "      <td>90294621.0</td>\n",
       "      <td>...</td>\n",
       "      <td>115556.0</td>\n",
       "      <td>309.0</td>\n",
       "      <td>1997.0</td>\n",
       "      <td>Harry Potter and the Sorcerer's Stone</td>\n",
       "      <td>2001-11-16</td>\n",
       "      <td>0.18</td>\n",
       "      <td>0.0121</td>\n",
       "      <td>[2020, 2018, 2016, 2016, 2016, 2016, 2012, 200...</td>\n",
       "      <td>2001</td>\n",
       "      <td>4</td>\n",
       "    </tr>\n",
       "    <tr>\n",
       "      <th>2</th>\n",
       "      <td>Harry Potter and the Sorcerer's Stone</td>\n",
       "      <td>7.6</td>\n",
       "      <td>656400</td>\n",
       "      <td>PG</td>\n",
       "      <td>[Adventure, Family, Fantasy]</td>\n",
       "      <td>2001-11-16</td>\n",
       "      <td>64.0</td>\n",
       "      <td>[magic, wizard, school of magic, based on nove...</td>\n",
       "      <td>125000000.0</td>\n",
       "      <td>90294621.0</td>\n",
       "      <td>...</td>\n",
       "      <td>115556.0</td>\n",
       "      <td>309.0</td>\n",
       "      <td>1997.0</td>\n",
       "      <td>Harry Potter and the Sorcerer's Stone</td>\n",
       "      <td>2001-11-16</td>\n",
       "      <td>0.18</td>\n",
       "      <td>0.0121</td>\n",
       "      <td>[2020, 2018, 2016, 2016, 2016, 2016, 2012, 200...</td>\n",
       "      <td>2001</td>\n",
       "      <td>4</td>\n",
       "    </tr>\n",
       "  </tbody>\n",
       "</table>\n",
       "<p>3 rows × 36 columns</p>\n",
       "</div>"
      ],
      "text/plain": [
       "                             movie_title  rating     vote certificate  \\\n",
       "0                          The Godfather     9.2  1616717           R   \n",
       "1  Harry Potter and the Sorcerer's Stone     7.6   656400          PG   \n",
       "2  Harry Potter and the Sorcerer's Stone     7.6   656400          PG   \n",
       "\n",
       "                          genre release_date_x  metascore  \\\n",
       "0                [Crime, Drama]     1972-03-24      100.0   \n",
       "1  [Adventure, Family, Fantasy]     2001-11-16       64.0   \n",
       "2  [Adventure, Family, Fantasy]     2001-11-16       64.0   \n",
       "\n",
       "                                            keywords       budget  \\\n",
       "0  [crime family, mafia, patriarch, organized cri...    6000000.0   \n",
       "1  [magic, wizard, school of magic, based on nove...  125000000.0   \n",
       "2  [magic, wizard, school of magic, based on nove...  125000000.0   \n",
       "\n",
       "   opening_weekend_usa  ...  review_count   page    year  \\\n",
       "0             302393.0  ...        8930.0  448.0  1969.0   \n",
       "1           90294621.0  ...      115556.0  309.0  1997.0   \n",
       "2           90294621.0  ...      115556.0  309.0  1997.0   \n",
       "\n",
       "                                   title release_date_y book_popularity  \\\n",
       "0                          The Godfather     1972-03-24            0.26   \n",
       "1  Harry Potter and the Sorcerer's Stone     2001-11-16            0.18   \n",
       "2  Harry Potter and the Sorcerer's Stone     2001-11-16            0.18   \n",
       "\n",
       "  author_popularity                                              years  \\\n",
       "0            0.0567  [2002, 2000, 1997, 1996, 1996, 1991, 1990, 198...   \n",
       "1            0.0121  [2020, 2018, 2016, 2016, 2016, 2016, 2012, 200...   \n",
       "2            0.0121  [2020, 2018, 2016, 2016, 2016, 2016, 2012, 200...   \n",
       "\n",
       "  release_year count_a  \n",
       "0         1972       1  \n",
       "1         2001       4  \n",
       "2         2001       4  \n",
       "\n",
       "[3 rows x 36 columns]"
      ]
     },
     "execution_count": 67,
     "metadata": {},
     "output_type": "execute_result"
    }
   ],
   "source": [
    "mpb_ab_df['count_a'] = mpb_ab_df.apply(count_pub,axis=1)\n",
    "mpb_ab_df.head(3)"
   ]
  },
  {
   "cell_type": "code",
   "execution_count": 68,
   "metadata": {},
   "outputs": [
    {
     "name": "stdout",
     "output_type": "stream",
     "text": [
      "<class 'pandas.core.frame.DataFrame'>\n",
      "Int64Index: 1785 entries, 0 to 1784\n",
      "Data columns (total 30 columns):\n",
      " #   Column               Non-Null Count  Dtype         \n",
      "---  ------               --------------  -----         \n",
      " 0   movie_title          1785 non-null   object        \n",
      " 1   rating               1785 non-null   float64       \n",
      " 2   vote                 1785 non-null   int64         \n",
      " 3   certificate          1785 non-null   object        \n",
      " 4   genre                1785 non-null   object        \n",
      " 5   release_date         1785 non-null   datetime64[ns]\n",
      " 6   metascore            779 non-null    float64       \n",
      " 7   keywords             1785 non-null   object        \n",
      " 8   budget               1631 non-null   float64       \n",
      " 9   opening_weekend_usa  1143 non-null   float64       \n",
      " 10  gross_usa            1307 non-null   float64       \n",
      " 11  gross_world          1373 non-null   float64       \n",
      " 12  runtime              1774 non-null   float64       \n",
      " 13  distributor          1777 non-null   object        \n",
      " 14  language             1785 non-null   object        \n",
      " 15  country              1785 non-null   object        \n",
      " 16  director             1785 non-null   object        \n",
      " 17  writer               1785 non-null   object        \n",
      " 18  star                 1785 non-null   object        \n",
      " 19  author               1785 non-null   object        \n",
      " 20  rating_value         1785 non-null   float64       \n",
      " 21  rating_count         1785 non-null   float64       \n",
      " 22  review_count         1785 non-null   float64       \n",
      " 23  page                 1754 non-null   float64       \n",
      " 24  publish_year         1783 non-null   float64       \n",
      " 25  title                1785 non-null   object        \n",
      " 26  book_popularity      1785 non-null   float64       \n",
      " 27  author_popularity    1785 non-null   float64       \n",
      " 28  release_year         1785 non-null   int64         \n",
      " 29  count_a              1785 non-null   int64         \n",
      "dtypes: datetime64[ns](1), float64(14), int64(3), object(12)\n",
      "memory usage: 432.3+ KB\n"
     ]
    }
   ],
   "source": [
    "# Clean up columns\n",
    "mpb_ab_df.drop(columns=['link_d','link_w','link_s','book_title','release_date_y','years'],inplace=True)\n",
    "mpb_ab_df.rename(columns = {'release_date_x':'release_date',\n",
    "                           'year':'publish_year'},inplace=True)\n",
    "mpb_ab_df.info()"
   ]
  },
  {
   "cell_type": "code",
   "execution_count": null,
   "metadata": {},
   "outputs": [],
   "source": []
  },
  {
   "cell_type": "markdown",
   "metadata": {},
   "source": [
    "## 4. Merge with director value\n",
    "(How many movies directed before the movie release, average rating, average gross of those movies)"
   ]
  },
  {
   "cell_type": "code",
   "execution_count": 70,
   "metadata": {},
   "outputs": [],
   "source": [
    "# Find corresponding value of each director when movie is released\n",
    "# ['avg_rating','avg_gross'] (per movie directed)\n",
    "director_df = pd.read_pickle('../data/director_data')"
   ]
  },
  {
   "cell_type": "code",
   "execution_count": 72,
   "metadata": {},
   "outputs": [
    {
     "data": {
      "text/html": [
       "<div>\n",
       "<style scoped>\n",
       "    .dataframe tbody tr th:only-of-type {\n",
       "        vertical-align: middle;\n",
       "    }\n",
       "\n",
       "    .dataframe tbody tr th {\n",
       "        vertical-align: top;\n",
       "    }\n",
       "\n",
       "    .dataframe thead th {\n",
       "        text-align: right;\n",
       "    }\n",
       "</style>\n",
       "<table border=\"1\" class=\"dataframe\">\n",
       "  <thead>\n",
       "    <tr style=\"text-align: right;\">\n",
       "      <th></th>\n",
       "      <th>movie_title</th>\n",
       "      <th>director</th>\n",
       "      <th>film_count_d</th>\n",
       "      <th>avg_rating_d</th>\n",
       "      <th>avg_gross_d</th>\n",
       "    </tr>\n",
       "  </thead>\n",
       "  <tbody>\n",
       "    <tr>\n",
       "      <th>0</th>\n",
       "      <td>The Godfather</td>\n",
       "      <td>Francis Ford Coppola</td>\n",
       "      <td>7</td>\n",
       "      <td>5.285714</td>\n",
       "      <td>32634196</td>\n",
       "    </tr>\n",
       "    <tr>\n",
       "      <th>1</th>\n",
       "      <td>Harry Potter and the Sorcerer's Stone</td>\n",
       "      <td>Chris Columbus</td>\n",
       "      <td>9</td>\n",
       "      <td>6.622222</td>\n",
       "      <td>106588545</td>\n",
       "    </tr>\n",
       "    <tr>\n",
       "      <th>2</th>\n",
       "      <td>Harry Potter and the Sorcerer's Stone</td>\n",
       "      <td>Chris Columbus</td>\n",
       "      <td>9</td>\n",
       "      <td>6.622222</td>\n",
       "      <td>106588545</td>\n",
       "    </tr>\n",
       "  </tbody>\n",
       "</table>\n",
       "</div>"
      ],
      "text/plain": [
       "                             movie_title              director  film_count_d  \\\n",
       "0                          The Godfather  Francis Ford Coppola             7   \n",
       "1  Harry Potter and the Sorcerer's Stone        Chris Columbus             9   \n",
       "2  Harry Potter and the Sorcerer's Stone        Chris Columbus             9   \n",
       "\n",
       "   avg_rating_d  avg_gross_d  \n",
       "0      5.285714     32634196  \n",
       "1      6.622222    106588545  \n",
       "2      6.622222    106588545  "
      ]
     },
     "execution_count": 72,
     "metadata": {},
     "output_type": "execute_result"
    }
   ],
   "source": [
    "# Create df including columns of director film_count, avg_rating, avg_gross\n",
    "# Rows correspond to rows in all_df\n",
    "movie_director_df = mpb_ab_df.apply(director_value,axis=1).apply(pd.Series)\n",
    "movie_director_df.head(3)"
   ]
  },
  {
   "cell_type": "code",
   "execution_count": 73,
   "metadata": {},
   "outputs": [],
   "source": [
    "# Merge mpb_ab_df and director value\n",
    "all_df = pd.merge(mpb_ab_df, movie_director_df, on=['movie_title','director'] ,how='left')"
   ]
  },
  {
   "cell_type": "code",
   "execution_count": 74,
   "metadata": {},
   "outputs": [],
   "source": [
    "# Save the data to pickle file\n",
    "all_df.to_pickle('../data/all_data')"
   ]
  },
  {
   "cell_type": "code",
   "execution_count": null,
   "metadata": {},
   "outputs": [],
   "source": []
  },
  {
   "cell_type": "code",
   "execution_count": null,
   "metadata": {},
   "outputs": [],
   "source": []
  },
  {
   "cell_type": "markdown",
   "metadata": {},
   "source": [
    "### Practice on fuzzywuzzy package"
   ]
  },
  {
   "cell_type": "code",
   "execution_count": 9,
   "metadata": {},
   "outputs": [
    {
     "name": "stdout",
     "output_type": "stream",
     "text": [
      "50\n",
      "100\n"
     ]
    }
   ],
   "source": [
    "from fuzzywuzzy import fuzz\n",
    "from fuzzywuzzy import process\n",
    "Str1 = \"Los Angeles Lakers\"\n",
    "Str2 = \"Lakers\"\n",
    "Ratio = fuzz.ratio(Str1.lower(),Str2.lower())\n",
    "Partial_Ratio = fuzz.partial_ratio(Str1.lower(),Str2.lower())\n",
    "print(Ratio)\n",
    "print(Partial_Ratio)"
   ]
  },
  {
   "cell_type": "code",
   "execution_count": 21,
   "metadata": {},
   "outputs": [],
   "source": [
    "movie_title_list_s=['After We Collided',\n",
    " 'The Godfather',\n",
    " \"Harry Potter and the Sorcerer's Stone\",\n",
    " 'Unknown',\n",
    " 'The Lord of the Rings: The Fellowship of the Ring',\n",
    " 'The Beastmaster',\n",
    " 'Little Women']"
   ]
  },
  {
   "cell_type": "code",
   "execution_count": 22,
   "metadata": {},
   "outputs": [],
   "source": [
    "book_title_list_s = ['The Running Man',\n",
    " 'Left Behind',\"Harry Potter and the Sorcerer's Stone\",\n",
    " 'Harry Potter and the Chamber of Secrets',\n",
    " 'Harry Potter and the Prisoner of Azkaban',\n",
    " 'Harry Potter and the Goblet of Fire',\n",
    " 'Harry Potter and the Order of the Phoenix',\n",
    " 'Twilight']"
   ]
  },
  {
   "cell_type": "code",
   "execution_count": 23,
   "metadata": {},
   "outputs": [
    {
     "name": "stdout",
     "output_type": "stream",
     "text": [
      "no match\n"
     ]
    }
   ],
   "source": [
    "movie_title_list_s[4]\n",
    "Ratios = process.extract(movie_title_list_s[4],book_title_list_s)\n",
    "match = process.extractOne(movie_title_list_s[4],book_title_list_s)\n",
    "if match[1] > 90:\n",
    "    print(match[0])\n",
    "else:\n",
    "    print('no match')"
   ]
  },
  {
   "cell_type": "code",
   "execution_count": 27,
   "metadata": {},
   "outputs": [],
   "source": [
    "match=[]\n",
    "for movie in movie_title_list:\n",
    "    potential = process.extractOne(movie,book_title_list)\n",
    "    if potential[1] > 90:\n",
    "        match.append(potential[0])\n",
    "    else:\n",
    "        match.append(np.nan)"
   ]
  },
  {
   "cell_type": "code",
   "execution_count": 30,
   "metadata": {},
   "outputs": [
    {
     "data": {
      "text/plain": [
       "1367"
      ]
     },
     "execution_count": 30,
     "metadata": {},
     "output_type": "execute_result"
    }
   ],
   "source": [
    "c = 0\n",
    "for x in match:\n",
    "    if x is np.nan:\n",
    "        c += 1\n",
    "c"
   ]
  },
  {
   "cell_type": "code",
   "execution_count": 29,
   "metadata": {},
   "outputs": [
    {
     "data": {
      "text/plain": [
       "433"
      ]
     },
     "execution_count": 29,
     "metadata": {},
     "output_type": "execute_result"
    }
   ],
   "source": [
    "1800-c"
   ]
  },
  {
   "cell_type": "code",
   "execution_count": null,
   "metadata": {},
   "outputs": [],
   "source": []
  }
 ],
 "metadata": {
  "kernelspec": {
   "display_name": "Python 3",
   "language": "python",
   "name": "python3"
  },
  "language_info": {
   "codemirror_mode": {
    "name": "ipython",
    "version": 3
   },
   "file_extension": ".py",
   "mimetype": "text/x-python",
   "name": "python",
   "nbconvert_exporter": "python",
   "pygments_lexer": "ipython3",
   "version": "3.8.5"
  }
 },
 "nbformat": 4,
 "nbformat_minor": 4
}
