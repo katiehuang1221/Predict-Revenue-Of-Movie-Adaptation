{
 "cells": [
  {
   "cell_type": "code",
   "execution_count": null,
   "metadata": {},
   "outputs": [],
   "source": [
    "\"\"\"\n",
    "Get data of general movies from IMDb page.\n",
    "\n",
    "Scrape 100 pages of search results for movie title and link to individual movie page.\n",
    "Scrape 10000 movie pages.\n",
    "\n",
    "functions used:\n",
    "get_soup(url) from scrape.py\n",
    "get_movie_detail(movie_soup) from get_movie.py\n",
    "\n",
    "Scrape twice\n",
    "\n",
    "Output to pickle 'movie_data_general_all'.\n",
    "\n",
    "\"\"\""
   ]
  },
  {
   "cell_type": "markdown",
   "metadata": {},
   "source": [
    "### Construct DataFrame of general movies (len = 10000)"
   ]
  },
  {
   "cell_type": "code",
   "execution_count": 9,
   "metadata": {},
   "outputs": [],
   "source": [
    "from bs4 import BeautifulSoup\n",
    "import requests\n",
    "\n",
    "import pandas as pd\n",
    "import numpy as np\n",
    "\n",
    "import pickle\n",
    "\n",
    "import sys\n",
    "sys.path.append('/Users/katiehuang/Documents/metis/projects/onl_ds5_project_2/py')\n",
    "from scrape import *\n",
    "from get_movie import *"
   ]
  },
  {
   "cell_type": "markdown",
   "metadata": {},
   "source": [
    "## 1. First scrape"
   ]
  },
  {
   "cell_type": "code",
   "execution_count": 4,
   "metadata": {},
   "outputs": [],
   "source": [
    "# Find url for 100 pages\n",
    "base_url=\"https://www.imdb.com/search/title/?title_type=feature\\\n",
    "&release_date=1930-01-01,2020-12-31\\\n",
    "&countries=us\\\n",
    "&languages=en&count=100\"\n",
    "\n",
    "url_list=[base_url]\n",
    "for i in range(101,10001,100):\n",
    "    url = base_url+ \"&start=\" + str(i) + \"&ref_=adv_nxt\"\n",
    "    url_list.append(url)"
   ]
  },
  {
   "cell_type": "code",
   "execution_count": 10,
   "metadata": {},
   "outputs": [],
   "source": [
    "# Create soup_list (100 soup for 100 pages)\n",
    "\n",
    "soup_list=[]\n",
    "for url in url_list:\n",
    "    soup_list.append(get_soup(url))"
   ]
  },
  {
   "cell_type": "code",
   "execution_count": 11,
   "metadata": {},
   "outputs": [
    {
     "data": {
      "text/plain": [
       "100"
      ]
     },
     "execution_count": 11,
     "metadata": {},
     "output_type": "execute_result"
    }
   ],
   "source": [
    "len(soup_list)"
   ]
  },
  {
   "cell_type": "code",
   "execution_count": 12,
   "metadata": {},
   "outputs": [],
   "source": [
    "# Create movie_url_list (individual webpage for each movie)\n",
    "\n",
    "movie_url_list=[]\n",
    "movie_base_url = \"https://www.imdb.com/\"\n",
    "\n",
    "for soup in soup_list:\n",
    "    divs= [div for div in soup.find_all('div', class_=\"lister-item-content\")]\n",
    "\n",
    "    for i in range(100):\n",
    "        movie_url = divs[i].find('a').get('href')\n",
    "        movie_url_list.append(movie_base_url + movie_url)"
   ]
  },
  {
   "cell_type": "code",
   "execution_count": 13,
   "metadata": {},
   "outputs": [
    {
     "data": {
      "text/plain": [
       "10000"
      ]
     },
     "execution_count": 13,
     "metadata": {},
     "output_type": "execute_result"
    }
   ],
   "source": [
    "len(movie_url_list)"
   ]
  },
  {
   "cell_type": "code",
   "execution_count": 16,
   "metadata": {},
   "outputs": [],
   "source": [
    "# Create soup_list for the movies: len=10000\n",
    "\n",
    "movie_soup_list=[]\n",
    "for movie_url in movie_url_list:\n",
    "    movie_soup = get_soup(movie_url)\n",
    "    movie_soup_list.append(movie_soup)"
   ]
  },
  {
   "cell_type": "code",
   "execution_count": 17,
   "metadata": {},
   "outputs": [
    {
     "data": {
      "text/plain": [
       "10000"
      ]
     },
     "execution_count": 17,
     "metadata": {},
     "output_type": "execute_result"
    }
   ],
   "source": [
    "len(movie_soup_list)"
   ]
  },
  {
   "cell_type": "code",
   "execution_count": 18,
   "metadata": {},
   "outputs": [
    {
     "data": {
      "text/plain": [
       "10000"
      ]
     },
     "execution_count": 18,
     "metadata": {},
     "output_type": "execute_result"
    }
   ],
   "source": [
    "len(movie_soup_list)"
   ]
  },
  {
   "cell_type": "code",
   "execution_count": null,
   "metadata": {},
   "outputs": [],
   "source": [
    "# Create list of movie_dict\n",
    "movie_detail_data=[]\n",
    "for movie_soup in movie_soup_list:\n",
    "    movie = get_movie_detail(movie_soup)\n",
    "    movie_detail_data.append(movie)"
   ]
  },
  {
   "cell_type": "code",
   "execution_count": 34,
   "metadata": {},
   "outputs": [
    {
     "data": {
      "text/plain": [
       "9998"
      ]
     },
     "execution_count": 34,
     "metadata": {},
     "output_type": "execute_result"
    }
   ],
   "source": [
    "len(movie_detail_data)"
   ]
  },
  {
   "cell_type": "code",
   "execution_count": 55,
   "metadata": {},
   "outputs": [],
   "source": [
    "## Create DataFrame and pickle\n",
    "movie_df1 = pd.DataFrame(movie_detail_data).dropna(subset=['budget','opening_weekend_usa'])\n",
    "movie_df1.to_pickle('../data/movie_data_general')"
   ]
  },
  {
   "cell_type": "code",
   "execution_count": 56,
   "metadata": {},
   "outputs": [
    {
     "name": "stdout",
     "output_type": "stream",
     "text": [
      "<class 'pandas.core.frame.DataFrame'>\n",
      "Int64Index: 5183 entries, 3 to 9995\n",
      "Data columns (total 22 columns):\n",
      " #   Column               Non-Null Count  Dtype         \n",
      "---  ------               --------------  -----         \n",
      " 0   movie_title          5183 non-null   object        \n",
      " 1   rating               5183 non-null   float64       \n",
      " 2   vote                 5183 non-null   float64       \n",
      " 3   certificate          5183 non-null   object        \n",
      " 4   genre                5183 non-null   object        \n",
      " 5   release_date         5183 non-null   datetime64[ns]\n",
      " 6   metascore            1743 non-null   float64       \n",
      " 7   keywords             5183 non-null   object        \n",
      " 8   budget               5183 non-null   float64       \n",
      " 9   opening_weekend_usa  5183 non-null   float64       \n",
      " 10  gross_usa            5183 non-null   float64       \n",
      " 11  gross_world          5183 non-null   float64       \n",
      " 12  runtime              5171 non-null   float64       \n",
      " 13  distributor          5183 non-null   object        \n",
      " 14  language             5183 non-null   object        \n",
      " 15  country              5183 non-null   object        \n",
      " 16  director             5183 non-null   object        \n",
      " 17  writer               5183 non-null   object        \n",
      " 18  star                 5183 non-null   object        \n",
      " 19  link_d               5183 non-null   object        \n",
      " 20  link_w               5183 non-null   object        \n",
      " 21  link_s               5183 non-null   object        \n",
      "dtypes: datetime64[ns](1), float64(8), object(13)\n",
      "memory usage: 931.3+ KB\n"
     ]
    }
   ],
   "source": [
    "movie_df1.info()"
   ]
  },
  {
   "cell_type": "markdown",
   "metadata": {},
   "source": [
    "## 2. Second scrape"
   ]
  },
  {
   "cell_type": "code",
   "execution_count": 4,
   "metadata": {},
   "outputs": [],
   "source": [
    "# Find url for 100 pages\n",
    "base_url=\"https://www.imdb.com/search/title/?title_type=feature\\\n",
    "&release_date=1930-01-01,2020-12-31\\\n",
    "&countries=us\\\n",
    "&languages=en&count=100\"\n",
    "\n",
    "url_list=[base_url]\n",
    "for i in range(10001,25001,100):\n",
    "    url = base_url+ \"&start=\" + str(i) + \"&ref_=adv_nxt\"\n",
    "    url_list.append(url)"
   ]
  },
  {
   "cell_type": "code",
   "execution_count": 10,
   "metadata": {},
   "outputs": [],
   "source": [
    "# Create soup_list (100 soup for 100 pages)\n",
    "\n",
    "soup_list=[]\n",
    "for url in url_list:\n",
    "    soup_list.append(get_soup(url))"
   ]
  },
  {
   "cell_type": "code",
   "execution_count": 12,
   "metadata": {},
   "outputs": [],
   "source": [
    "# Create movie_url_list (individual webpage for each movie)\n",
    "\n",
    "movie_url_list=[]\n",
    "movie_base_url = \"https://www.imdb.com/\"\n",
    "\n",
    "for soup in soup_list:\n",
    "    divs= [div for div in soup.find_all('div', class_=\"lister-item-content\")]\n",
    "\n",
    "    for i in range(100):\n",
    "        movie_url = divs[i].find('a').get('href')\n",
    "        movie_url_list.append(movie_base_url + movie_url)"
   ]
  },
  {
   "cell_type": "code",
   "execution_count": 16,
   "metadata": {},
   "outputs": [],
   "source": [
    "# Create soup_list for the movies: len=10000\n",
    "\n",
    "movie_soup_list=[]\n",
    "for movie_url in movie_url_list:\n",
    "    movie_soup = get_soup(movie_url)\n",
    "    movie_soup_list.append(movie_soup)"
   ]
  },
  {
   "cell_type": "code",
   "execution_count": null,
   "metadata": {},
   "outputs": [],
   "source": [
    "# Create list of movie_dict\n",
    "movie_detail_data2=[]\n",
    "for movie_soup in movie_soup_list:\n",
    "    movie = get_movie_detail(movie_soup)\n",
    "    movie_detail_data2.append(movie)"
   ]
  },
  {
   "cell_type": "code",
   "execution_count": null,
   "metadata": {},
   "outputs": [],
   "source": [
    "# Create DataFrame and pickle\n",
    "movie_df2 = pd.DataFrame(movie_detail_data).dropna(subset=['budget','opening_weekend_usa'])\n",
    "movie_df2.to_pickle('../data/movie_data_general2')"
   ]
  },
  {
   "cell_type": "code",
   "execution_count": null,
   "metadata": {},
   "outputs": [],
   "source": []
  },
  {
   "cell_type": "code",
   "execution_count": null,
   "metadata": {},
   "outputs": [],
   "source": []
  },
  {
   "cell_type": "markdown",
   "metadata": {},
   "source": [
    "## 3. Combine data from two scrapings"
   ]
  },
  {
   "cell_type": "code",
   "execution_count": 59,
   "metadata": {},
   "outputs": [],
   "source": [
    "# Combine \n",
    "movie_df = pd.concat([movie_df1,movie_df2],axis=0)\n",
    "# Save the data to pickle file\n",
    "movie_df.to_pickle('../data/movie_data_general_all')"
   ]
  },
  {
   "cell_type": "code",
   "execution_count": 60,
   "metadata": {},
   "outputs": [
    {
     "data": {
      "text/html": [
       "<div>\n",
       "<style scoped>\n",
       "    .dataframe tbody tr th:only-of-type {\n",
       "        vertical-align: middle;\n",
       "    }\n",
       "\n",
       "    .dataframe tbody tr th {\n",
       "        vertical-align: top;\n",
       "    }\n",
       "\n",
       "    .dataframe thead th {\n",
       "        text-align: right;\n",
       "    }\n",
       "</style>\n",
       "<table border=\"1\" class=\"dataframe\">\n",
       "  <thead>\n",
       "    <tr style=\"text-align: right;\">\n",
       "      <th></th>\n",
       "      <th>movie_title</th>\n",
       "      <th>rating</th>\n",
       "      <th>vote</th>\n",
       "      <th>certificate</th>\n",
       "      <th>genre</th>\n",
       "      <th>release_date</th>\n",
       "      <th>metascore</th>\n",
       "      <th>keywords</th>\n",
       "      <th>budget</th>\n",
       "      <th>opening_weekend_usa</th>\n",
       "      <th>...</th>\n",
       "      <th>runtime</th>\n",
       "      <th>distributor</th>\n",
       "      <th>language</th>\n",
       "      <th>country</th>\n",
       "      <th>director</th>\n",
       "      <th>writer</th>\n",
       "      <th>star</th>\n",
       "      <th>link_d</th>\n",
       "      <th>link_w</th>\n",
       "      <th>link_s</th>\n",
       "    </tr>\n",
       "  </thead>\n",
       "  <tbody>\n",
       "    <tr>\n",
       "      <th>0</th>\n",
       "      <td>Pieces of a Woman</td>\n",
       "      <td>7.1</td>\n",
       "      <td>16183.0</td>\n",
       "      <td>R</td>\n",
       "      <td>[Drama]</td>\n",
       "      <td>2021-01-07</td>\n",
       "      <td>66.0</td>\n",
       "      <td>[female frontal nudity, female nudity, male fr...</td>\n",
       "      <td>NaN</td>\n",
       "      <td>NaN</td>\n",
       "      <td>...</td>\n",
       "      <td>126.0</td>\n",
       "      <td>BRONStudios</td>\n",
       "      <td>[English]</td>\n",
       "      <td>[Canada, Hungary, USA]</td>\n",
       "      <td>Kornél Mundruczó</td>\n",
       "      <td>[Kata Wéber]</td>\n",
       "      <td>[Vanessa Kirby, Shia LaBeouf, Ellen Burstyn]</td>\n",
       "      <td>/name/nm0610960/</td>\n",
       "      <td>[/name/nm0970537/]</td>\n",
       "      <td>[/name/nm3948952/, /name/nm0479471/, /name/nm0...</td>\n",
       "    </tr>\n",
       "    <tr>\n",
       "      <th>1</th>\n",
       "      <td>Soul</td>\n",
       "      <td>8.1</td>\n",
       "      <td>141473.0</td>\n",
       "      <td>PG</td>\n",
       "      <td>[Animation, Adventure, Comedy]</td>\n",
       "      <td>2020-12-25</td>\n",
       "      <td>83.0</td>\n",
       "      <td>[purpose, soul, lost soul, cat, afterlife]</td>\n",
       "      <td>NaN</td>\n",
       "      <td>NaN</td>\n",
       "      <td>...</td>\n",
       "      <td>100.0</td>\n",
       "      <td>WaltDisneyPictures</td>\n",
       "      <td>[English]</td>\n",
       "      <td>[USA]</td>\n",
       "      <td>Pete Docter</td>\n",
       "      <td>[Pete Docter, Mike Jones]</td>\n",
       "      <td>[Jamie Foxx, Tina Fey, Graham Norton]</td>\n",
       "      <td>/name/nm0230032/</td>\n",
       "      <td>[/name/nm0230032/, /name/nm0428873/]</td>\n",
       "      <td>[/name/nm0004937/, /name/nm0275486/, /name/nm0...</td>\n",
       "    </tr>\n",
       "    <tr>\n",
       "      <th>2</th>\n",
       "      <td>Wonder Woman 1984</td>\n",
       "      <td>5.4</td>\n",
       "      <td>138578.0</td>\n",
       "      <td>PG-13</td>\n",
       "      <td>[Action, Adventure, Fantasy]</td>\n",
       "      <td>2020-12-25</td>\n",
       "      <td>NaN</td>\n",
       "      <td>[princess, sequel, dc extended universe, actio...</td>\n",
       "      <td>NaN</td>\n",
       "      <td>NaN</td>\n",
       "      <td>...</td>\n",
       "      <td>151.0</td>\n",
       "      <td>AtlasEntertainment</td>\n",
       "      <td>[English]</td>\n",
       "      <td>[USA, UK, Spain]</td>\n",
       "      <td>Patty Jenkins</td>\n",
       "      <td>[Patty Jenkins, Geoff Johns, 4 more credits]</td>\n",
       "      <td>[Gal Gadot, Chris Pine, Kristen Wiig]</td>\n",
       "      <td>/name/nm0420941/</td>\n",
       "      <td>[/name/nm0420941/, /name/nm0424315/, fullcredi...</td>\n",
       "      <td>[/name/nm2933757/, /name/nm1517976/, /name/nm1...</td>\n",
       "    </tr>\n",
       "  </tbody>\n",
       "</table>\n",
       "<p>3 rows × 22 columns</p>\n",
       "</div>"
      ],
      "text/plain": [
       "         movie_title  rating      vote certificate  \\\n",
       "0  Pieces of a Woman     7.1   16183.0           R   \n",
       "1               Soul     8.1  141473.0          PG   \n",
       "2  Wonder Woman 1984     5.4  138578.0       PG-13   \n",
       "\n",
       "                            genre release_date  metascore  \\\n",
       "0                         [Drama]   2021-01-07       66.0   \n",
       "1  [Animation, Adventure, Comedy]   2020-12-25       83.0   \n",
       "2    [Action, Adventure, Fantasy]   2020-12-25        NaN   \n",
       "\n",
       "                                            keywords  budget  \\\n",
       "0  [female frontal nudity, female nudity, male fr...     NaN   \n",
       "1         [purpose, soul, lost soul, cat, afterlife]     NaN   \n",
       "2  [princess, sequel, dc extended universe, actio...     NaN   \n",
       "\n",
       "   opening_weekend_usa  ...  runtime         distributor   language  \\\n",
       "0                  NaN  ...    126.0         BRONStudios  [English]   \n",
       "1                  NaN  ...    100.0  WaltDisneyPictures  [English]   \n",
       "2                  NaN  ...    151.0  AtlasEntertainment  [English]   \n",
       "\n",
       "                  country          director  \\\n",
       "0  [Canada, Hungary, USA]  Kornél Mundruczó   \n",
       "1                   [USA]       Pete Docter   \n",
       "2        [USA, UK, Spain]     Patty Jenkins   \n",
       "\n",
       "                                         writer  \\\n",
       "0                                  [Kata Wéber]   \n",
       "1                     [Pete Docter, Mike Jones]   \n",
       "2  [Patty Jenkins, Geoff Johns, 4 more credits]   \n",
       "\n",
       "                                           star            link_d  \\\n",
       "0  [Vanessa Kirby, Shia LaBeouf, Ellen Burstyn]  /name/nm0610960/   \n",
       "1         [Jamie Foxx, Tina Fey, Graham Norton]  /name/nm0230032/   \n",
       "2         [Gal Gadot, Chris Pine, Kristen Wiig]  /name/nm0420941/   \n",
       "\n",
       "                                              link_w  \\\n",
       "0                                 [/name/nm0970537/]   \n",
       "1               [/name/nm0230032/, /name/nm0428873/]   \n",
       "2  [/name/nm0420941/, /name/nm0424315/, fullcredi...   \n",
       "\n",
       "                                              link_s  \n",
       "0  [/name/nm3948952/, /name/nm0479471/, /name/nm0...  \n",
       "1  [/name/nm0004937/, /name/nm0275486/, /name/nm0...  \n",
       "2  [/name/nm2933757/, /name/nm1517976/, /name/nm1...  \n",
       "\n",
       "[3 rows x 22 columns]"
      ]
     },
     "execution_count": 60,
     "metadata": {},
     "output_type": "execute_result"
    }
   ],
   "source": [
    "movie_df.head(3)"
   ]
  },
  {
   "cell_type": "code",
   "execution_count": null,
   "metadata": {},
   "outputs": [],
   "source": []
  }
 ],
 "metadata": {
  "kernelspec": {
   "display_name": "Python 3",
   "language": "python",
   "name": "python3"
  },
  "language_info": {
   "codemirror_mode": {
    "name": "ipython",
    "version": 3
   },
   "file_extension": ".py",
   "mimetype": "text/x-python",
   "name": "python",
   "nbconvert_exporter": "python",
   "pygments_lexer": "ipython3",
   "version": "3.8.5"
  }
 },
 "nbformat": 4,
 "nbformat_minor": 4
}
