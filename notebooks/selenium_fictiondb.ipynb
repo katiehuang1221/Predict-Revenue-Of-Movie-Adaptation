{
 "cells": [
  {
   "cell_type": "code",
   "execution_count": 1,
   "metadata": {},
   "outputs": [],
   "source": [
    "import sys\n",
    "sys.path.append('/Users/katiehuang/Documents/metis/projects/onl_ds5_project_2/py')\n",
    "from loadpage import *\n",
    "import importlib\n",
    "from fictiondb import *"
   ]
  },
  {
   "cell_type": "code",
   "execution_count": 1,
   "metadata": {},
   "outputs": [],
   "source": [
    "from bs4 import BeautifulSoup\n",
    "import requests\n",
    "import time, os\n",
    "from selenium import webdriver\n",
    "from selenium.webdriver.common.keys import Keys\n",
    "from selenium.webdriver.support.ui import WebDriverWait\n",
    "from selenium.webdriver.common.by import By\n",
    "from selenium.webdriver.support import expected_conditions as EC"
   ]
  },
  {
   "cell_type": "code",
   "execution_count": 2,
   "metadata": {},
   "outputs": [],
   "source": [
    "chromedriver = \"/Applications/chromedriver\" # path to the chromedriver executable\n",
    "os.environ[\"webdriver.chrome.driver\"] = chromedriver"
   ]
  },
  {
   "cell_type": "code",
   "execution_count": 3,
   "metadata": {},
   "outputs": [],
   "source": [
    "# # Open automated Chrome with fictionDB webpage\n",
    "driver = webdriver.Chrome(chromedriver)\n",
    "driver.get(\"https://www.fictiondb.com/search/search.htm\")"
   ]
  },
  {
   "cell_type": "code",
   "execution_count": 8,
   "metadata": {},
   "outputs": [],
   "source": [
    "def search(author):\n",
    "    author_dict={}\n",
    "\n",
    "    driver.get(\"https://www.fictiondb.com/search/search.htm\")\n",
    "    search_bar = driver.find_element_by_xpath(\"//input[@name='author'][@type='text']\")\n",
    "    search_bar.clear()\n",
    "    search_bar.send_keys(author)\n",
    "    search_bar.send_keys(Keys.RETURN)\n",
    "    \n",
    "    # Click on the author link\n",
    "    try:\n",
    "\n",
    "        author_r = \", \".join(author.split()[::-1])\n",
    "        elem = driver.find_element_by_link_text(author_r)\n",
    "        elem.click()\n",
    "    except:\n",
    "        print(\"can't find author\")\n",
    "        pass\n",
    "\n",
    "    try:\n",
    "        publication = driver.find_elements_by_xpath(\"//a[@itemprop='datePublished']\")\n",
    "        dates = [s.text.split('-') for s in publication]\n",
    "        years = [int(y[-1]) for y in dates]\n",
    "    except:\n",
    "        print(\"can't find publication\")\n",
    "        pass\n",
    "    \n",
    "    author_dict[author] = years\n",
    "\n",
    "    return author_dict"
   ]
  },
  {
   "cell_type": "code",
   "execution_count": 9,
   "metadata": {},
   "outputs": [
    {
     "data": {
      "text/plain": [
       "{'Jane Austen': [1818,\n",
       "  1817,\n",
       "  1815,\n",
       "  1814,\n",
       "  1813,\n",
       "  1811,\n",
       "  1805,\n",
       "  1805,\n",
       "  1803,\n",
       "  1790,\n",
       "  1786]}"
      ]
     },
     "execution_count": 9,
     "metadata": {},
     "output_type": "execute_result"
    }
   ],
   "source": [
    "search('Jane Austen')"
   ]
  },
  {
   "cell_type": "code",
   "execution_count": 3,
   "metadata": {},
   "outputs": [],
   "source": [
    "di={}\n",
    "di[\"jane\"] = [1,2,3]"
   ]
  },
  {
   "cell_type": "code",
   "execution_count": 4,
   "metadata": {},
   "outputs": [
    {
     "data": {
      "text/plain": [
       "{'jane': [1, 2, 3]}"
      ]
     },
     "execution_count": 4,
     "metadata": {},
     "output_type": "execute_result"
    }
   ],
   "source": [
    "di"
   ]
  },
  {
   "cell_type": "code",
   "execution_count": 3,
   "metadata": {},
   "outputs": [],
   "source": [
    "try:\n",
    "    publication = driver.find_elements_by_xpath(\"//a[@itemprop='datePublished']\")\n",
    "    dates = [s.text.split('-') for s in publication]\n",
    "    years = [int(y[-1]) for y in dates]\n",
    "except:\n",
    "    print(\"can't find publication\")\n",
    "    pass"
   ]
  },
  {
   "cell_type": "code",
   "execution_count": 4,
   "metadata": {},
   "outputs": [
    {
     "data": {
      "text/plain": [
       "[1818, 1817, 1815, 1814, 1813, 1811, 1805, 1805, 1803, 1790, 1786]"
      ]
     },
     "execution_count": 4,
     "metadata": {},
     "output_type": "execute_result"
    }
   ],
   "source": [
    "years"
   ]
  },
  {
   "cell_type": "code",
   "execution_count": 6,
   "metadata": {},
   "outputs": [],
   "source": [
    "di={}\n",
    "author=\"Jane\"\n",
    "di[author] = years"
   ]
  },
  {
   "cell_type": "code",
   "execution_count": 7,
   "metadata": {},
   "outputs": [
    {
     "data": {
      "text/plain": [
       "{'Jane': [1818, 1817, 1815, 1814, 1813, 1811, 1805, 1805, 1803, 1790, 1786]}"
      ]
     },
     "execution_count": 7,
     "metadata": {},
     "output_type": "execute_result"
    }
   ],
   "source": [
    "di"
   ]
  },
  {
   "cell_type": "code",
   "execution_count": null,
   "metadata": {},
   "outputs": [],
   "source": []
  }
 ],
 "metadata": {
  "kernelspec": {
   "display_name": "Python 3",
   "language": "python",
   "name": "python3"
  },
  "language_info": {
   "codemirror_mode": {
    "name": "ipython",
    "version": 3
   },
   "file_extension": ".py",
   "mimetype": "text/x-python",
   "name": "python",
   "nbconvert_exporter": "python",
   "pygments_lexer": "ipython3",
   "version": "3.8.5"
  }
 },
 "nbformat": 4,
 "nbformat_minor": 2
}
