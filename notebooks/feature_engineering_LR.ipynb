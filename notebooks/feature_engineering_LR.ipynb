{
 "cells": [
  {
   "cell_type": "code",
   "execution_count": 1,
   "metadata": {},
   "outputs": [],
   "source": [
    "import pandas as pd\n",
    "import numpy as np\n",
    "import matplotlib.pyplot as plt\n",
    "import seaborn as sns\n",
    "sns.set()\n",
    "\n",
    "from sklearn.model_selection import train_test_split\n",
    "from sklearn.model_selection import cross_val_score\n",
    "from sklearn.linear_model import LinearRegression\n",
    "from sklearn.preprocessing import StandardScaler, PolynomialFeatures, OneHotEncoder\n",
    "from sklearn.pipeline import Pipeline\n",
    "from sklearn.model_selection import train_test_split\n",
    "from sklearn.linear_model import LinearRegression, Lasso, LassoCV, Ridge, RidgeCV\n",
    "from sklearn.metrics import r2_score"
   ]
  },
  {
   "cell_type": "markdown",
   "metadata": {},
   "source": [
    "## 1. Simple EDA and Baseline Model"
   ]
  },
  {
   "cell_type": "code",
   "execution_count": 2,
   "metadata": {},
   "outputs": [],
   "source": [
    "# Load the cleaned complete data\n",
    "all_df = pd.read_pickle('../dump/complete_data_cleaned')"
   ]
  },
  {
   "cell_type": "code",
   "execution_count": 3,
   "metadata": {},
   "outputs": [
    {
     "data": {
      "text/html": [
       "<div>\n",
       "<style scoped>\n",
       "    .dataframe tbody tr th:only-of-type {\n",
       "        vertical-align: middle;\n",
       "    }\n",
       "\n",
       "    .dataframe tbody tr th {\n",
       "        vertical-align: top;\n",
       "    }\n",
       "\n",
       "    .dataframe thead th {\n",
       "        text-align: right;\n",
       "    }\n",
       "</style>\n",
       "<table border=\"1\" class=\"dataframe\">\n",
       "  <thead>\n",
       "    <tr style=\"text-align: right;\">\n",
       "      <th></th>\n",
       "      <th>movie_title</th>\n",
       "      <th>rating</th>\n",
       "      <th>MPAA</th>\n",
       "      <th>genre</th>\n",
       "      <th>release_date</th>\n",
       "      <th>budget</th>\n",
       "      <th>opening_weekend_usa</th>\n",
       "      <th>gross_usa</th>\n",
       "      <th>gross_world</th>\n",
       "      <th>runtime</th>\n",
       "      <th>...</th>\n",
       "      <th>author_popularity</th>\n",
       "      <th>log_book_search</th>\n",
       "      <th>log_author_search</th>\n",
       "      <th>book_popularity_test</th>\n",
       "      <th>log_book_popularity</th>\n",
       "      <th>author_popularity_test</th>\n",
       "      <th>log_author_popularity</th>\n",
       "      <th>log_owu</th>\n",
       "      <th>T_movie_age</th>\n",
       "      <th>T_book_age</th>\n",
       "    </tr>\n",
       "  </thead>\n",
       "  <tbody>\n",
       "    <tr>\n",
       "      <th>1</th>\n",
       "      <td>The Godfather</td>\n",
       "      <td>9.2</td>\n",
       "      <td>R</td>\n",
       "      <td>{Drama, Crime}</td>\n",
       "      <td>1972-03-24</td>\n",
       "      <td>6000000.0</td>\n",
       "      <td>302393.0</td>\n",
       "      <td>134966411.0</td>\n",
       "      <td>2.461210e+08</td>\n",
       "      <td>175.0</td>\n",
       "      <td>...</td>\n",
       "      <td>0.0567</td>\n",
       "      <td>5.257495</td>\n",
       "      <td>5.552960</td>\n",
       "      <td>0.263736</td>\n",
       "      <td>-1.332806</td>\n",
       "      <td>0.056703</td>\n",
       "      <td>-2.869923</td>\n",
       "      <td>-0.881468</td>\n",
       "      <td>0.856982</td>\n",
       "      <td>0.413280</td>\n",
       "    </tr>\n",
       "    <tr>\n",
       "      <th>2</th>\n",
       "      <td>Harry Potter and the Sorcerer's Stone</td>\n",
       "      <td>7.6</td>\n",
       "      <td>PG</td>\n",
       "      <td>{Family, Adventure, Fantasy}</td>\n",
       "      <td>2001-11-16</td>\n",
       "      <td>125000000.0</td>\n",
       "      <td>90294621.0</td>\n",
       "      <td>318087620.0</td>\n",
       "      <td>1.006918e+09</td>\n",
       "      <td>159.0</td>\n",
       "      <td>...</td>\n",
       "      <td>0.0121</td>\n",
       "      <td>8.651724</td>\n",
       "      <td>11.136048</td>\n",
       "      <td>0.182748</td>\n",
       "      <td>-1.699649</td>\n",
       "      <td>0.012077</td>\n",
       "      <td>-4.416414</td>\n",
       "      <td>2.134535</td>\n",
       "      <td>-0.275980</td>\n",
       "      <td>-0.435987</td>\n",
       "    </tr>\n",
       "    <tr>\n",
       "      <th>4</th>\n",
       "      <td>Little Women</td>\n",
       "      <td>7.8</td>\n",
       "      <td>PG</td>\n",
       "      <td>{Drama, Romance}</td>\n",
       "      <td>2019-12-25</td>\n",
       "      <td>40000000.0</td>\n",
       "      <td>16755310.0</td>\n",
       "      <td>108101214.0</td>\n",
       "      <td>2.166012e+08</td>\n",
       "      <td>135.0</td>\n",
       "      <td>...</td>\n",
       "      <td>0.0098</td>\n",
       "      <td>12.273731</td>\n",
       "      <td>14.538217</td>\n",
       "      <td>0.005707</td>\n",
       "      <td>-5.166120</td>\n",
       "      <td>0.009810</td>\n",
       "      <td>-4.624402</td>\n",
       "      <td>0.966743</td>\n",
       "      <td>-1.861227</td>\n",
       "      <td>1.779071</td>\n",
       "    </tr>\n",
       "    <tr>\n",
       "      <th>8</th>\n",
       "      <td>Little Women</td>\n",
       "      <td>7.3</td>\n",
       "      <td>PG</td>\n",
       "      <td>{Drama, Romance, Family}</td>\n",
       "      <td>1994-12-25</td>\n",
       "      <td>18000000.0</td>\n",
       "      <td>2411247.0</td>\n",
       "      <td>50083616.0</td>\n",
       "      <td>5.008362e+07</td>\n",
       "      <td>115.0</td>\n",
       "      <td>...</td>\n",
       "      <td>0.0135</td>\n",
       "      <td>6.777647</td>\n",
       "      <td>7.326466</td>\n",
       "      <td>0.098874</td>\n",
       "      <td>-2.313910</td>\n",
       "      <td>0.013451</td>\n",
       "      <td>-4.308677</td>\n",
       "      <td>-0.062204</td>\n",
       "      <td>0.062719</td>\n",
       "      <td>1.779071</td>\n",
       "    </tr>\n",
       "    <tr>\n",
       "      <th>13</th>\n",
       "      <td>Little Women</td>\n",
       "      <td>7.2</td>\n",
       "      <td>Other</td>\n",
       "      <td>{Drama, Romance, Family}</td>\n",
       "      <td>1933-11-24</td>\n",
       "      <td>424000.0</td>\n",
       "      <td>NaN</td>\n",
       "      <td>32634196.0</td>\n",
       "      <td>NaN</td>\n",
       "      <td>115.0</td>\n",
       "      <td>...</td>\n",
       "      <td>0.0181</td>\n",
       "      <td>15.337210</td>\n",
       "      <td>16.349207</td>\n",
       "      <td>0.084191</td>\n",
       "      <td>-2.474665</td>\n",
       "      <td>0.018103</td>\n",
       "      <td>-4.011653</td>\n",
       "      <td>NaN</td>\n",
       "      <td>1.821909</td>\n",
       "      <td>1.779071</td>\n",
       "    </tr>\n",
       "  </tbody>\n",
       "</table>\n",
       "<p>5 rows × 49 columns</p>\n",
       "</div>"
      ],
      "text/plain": [
       "                              movie_title  rating   MPAA  \\\n",
       "1                           The Godfather     9.2      R   \n",
       "2   Harry Potter and the Sorcerer's Stone     7.6     PG   \n",
       "4                            Little Women     7.8     PG   \n",
       "8                            Little Women     7.3     PG   \n",
       "13                           Little Women     7.2  Other   \n",
       "\n",
       "                           genre release_date       budget  \\\n",
       "1                 {Drama, Crime}   1972-03-24    6000000.0   \n",
       "2   {Family, Adventure, Fantasy}   2001-11-16  125000000.0   \n",
       "4               {Drama, Romance}   2019-12-25   40000000.0   \n",
       "8       {Drama, Romance, Family}   1994-12-25   18000000.0   \n",
       "13      {Drama, Romance, Family}   1933-11-24     424000.0   \n",
       "\n",
       "    opening_weekend_usa    gross_usa   gross_world  runtime  ...  \\\n",
       "1              302393.0  134966411.0  2.461210e+08    175.0  ...   \n",
       "2            90294621.0  318087620.0  1.006918e+09    159.0  ...   \n",
       "4            16755310.0  108101214.0  2.166012e+08    135.0  ...   \n",
       "8             2411247.0   50083616.0  5.008362e+07    115.0  ...   \n",
       "13                  NaN   32634196.0           NaN    115.0  ...   \n",
       "\n",
       "   author_popularity log_book_search log_author_search book_popularity_test  \\\n",
       "1             0.0567        5.257495          5.552960             0.263736   \n",
       "2             0.0121        8.651724         11.136048             0.182748   \n",
       "4             0.0098       12.273731         14.538217             0.005707   \n",
       "8             0.0135        6.777647          7.326466             0.098874   \n",
       "13            0.0181       15.337210         16.349207             0.084191   \n",
       "\n",
       "   log_book_popularity author_popularity_test log_author_popularity   log_owu  \\\n",
       "1            -1.332806               0.056703             -2.869923 -0.881468   \n",
       "2            -1.699649               0.012077             -4.416414  2.134535   \n",
       "4            -5.166120               0.009810             -4.624402  0.966743   \n",
       "8            -2.313910               0.013451             -4.308677 -0.062204   \n",
       "13           -2.474665               0.018103             -4.011653       NaN   \n",
       "\n",
       "    T_movie_age  T_book_age  \n",
       "1      0.856982    0.413280  \n",
       "2     -0.275980   -0.435987  \n",
       "4     -1.861227    1.779071  \n",
       "8      0.062719    1.779071  \n",
       "13     1.821909    1.779071  \n",
       "\n",
       "[5 rows x 49 columns]"
      ]
     },
     "execution_count": 3,
     "metadata": {},
     "output_type": "execute_result"
    }
   ],
   "source": [
    "all_df.head()"
   ]
  },
  {
   "cell_type": "code",
   "execution_count": 4,
   "metadata": {},
   "outputs": [],
   "source": [
    "# convert unit of 'opening_weekend_usa' to million dollors\n",
    "all_df['opening_weekend_usa'] = all_df['opening_weekend_usa']/1e6"
   ]
  },
  {
   "cell_type": "code",
   "execution_count": 5,
   "metadata": {},
   "outputs": [
    {
     "data": {
      "text/html": [
       "<div>\n",
       "<style scoped>\n",
       "    .dataframe tbody tr th:only-of-type {\n",
       "        vertical-align: middle;\n",
       "    }\n",
       "\n",
       "    .dataframe tbody tr th {\n",
       "        vertical-align: top;\n",
       "    }\n",
       "\n",
       "    .dataframe thead th {\n",
       "        text-align: right;\n",
       "    }\n",
       "</style>\n",
       "<table border=\"1\" class=\"dataframe\">\n",
       "  <thead>\n",
       "    <tr style=\"text-align: right;\">\n",
       "      <th></th>\n",
       "      <th>rating</th>\n",
       "      <th>budget</th>\n",
       "      <th>opening_weekend_usa</th>\n",
       "      <th>gross_usa</th>\n",
       "      <th>gross_world</th>\n",
       "      <th>runtime</th>\n",
       "      <th>rating_value_b</th>\n",
       "      <th>rating_count_b</th>\n",
       "      <th>review_count_b</th>\n",
       "      <th>page</th>\n",
       "      <th>...</th>\n",
       "      <th>author_popularity</th>\n",
       "      <th>log_book_search</th>\n",
       "      <th>log_author_search</th>\n",
       "      <th>book_popularity_test</th>\n",
       "      <th>log_book_popularity</th>\n",
       "      <th>author_popularity_test</th>\n",
       "      <th>log_author_popularity</th>\n",
       "      <th>log_owu</th>\n",
       "      <th>T_movie_age</th>\n",
       "      <th>T_book_age</th>\n",
       "    </tr>\n",
       "  </thead>\n",
       "  <tbody>\n",
       "    <tr>\n",
       "      <th>count</th>\n",
       "      <td>830.000000</td>\n",
       "      <td>8.300000e+02</td>\n",
       "      <td>596.000000</td>\n",
       "      <td>8.300000e+02</td>\n",
       "      <td>6.800000e+02</td>\n",
       "      <td>830.000000</td>\n",
       "      <td>830.000000</td>\n",
       "      <td>8.300000e+02</td>\n",
       "      <td>830.000000</td>\n",
       "      <td>830.000000</td>\n",
       "      <td>...</td>\n",
       "      <td>830.000000</td>\n",
       "      <td>830.000000</td>\n",
       "      <td>830.000000</td>\n",
       "      <td>830.000000</td>\n",
       "      <td>830.000000</td>\n",
       "      <td>830.000000</td>\n",
       "      <td>830.000000</td>\n",
       "      <td>596.000000</td>\n",
       "      <td>830.000000</td>\n",
       "      <td>830.000000</td>\n",
       "    </tr>\n",
       "    <tr>\n",
       "      <th>mean</th>\n",
       "      <td>6.728313</td>\n",
       "      <td>2.846106e+07</td>\n",
       "      <td>11.199472</td>\n",
       "      <td>4.396854e+07</td>\n",
       "      <td>9.333721e+07</td>\n",
       "      <td>116.904358</td>\n",
       "      <td>3.892747</td>\n",
       "      <td>2.517862e+05</td>\n",
       "      <td>8242.527711</td>\n",
       "      <td>338.582716</td>\n",
       "      <td>...</td>\n",
       "      <td>0.126429</td>\n",
       "      <td>8.523448</td>\n",
       "      <td>10.909193</td>\n",
       "      <td>0.125551</td>\n",
       "      <td>-3.993786</td>\n",
       "      <td>0.126430</td>\n",
       "      <td>-4.754056</td>\n",
       "      <td>0.155248</td>\n",
       "      <td>-0.050212</td>\n",
       "      <td>-0.037808</td>\n",
       "    </tr>\n",
       "    <tr>\n",
       "      <th>std</th>\n",
       "      <td>0.895266</td>\n",
       "      <td>3.429356e+07</td>\n",
       "      <td>17.769474</td>\n",
       "      <td>5.367619e+07</td>\n",
       "      <td>1.568685e+08</td>\n",
       "      <td>24.384076</td>\n",
       "      <td>0.357243</td>\n",
       "      <td>6.297016e+05</td>\n",
       "      <td>18125.773472</td>\n",
       "      <td>170.306914</td>\n",
       "      <td>...</td>\n",
       "      <td>0.447143</td>\n",
       "      <td>3.294378</td>\n",
       "      <td>3.796890</td>\n",
       "      <td>0.948464</td>\n",
       "      <td>1.930753</td>\n",
       "      <td>0.447144</td>\n",
       "      <td>2.636906</td>\n",
       "      <td>0.971834</td>\n",
       "      <td>0.920729</td>\n",
       "      <td>0.936634</td>\n",
       "    </tr>\n",
       "    <tr>\n",
       "      <th>min</th>\n",
       "      <td>3.000000</td>\n",
       "      <td>3.000000e+04</td>\n",
       "      <td>0.000301</td>\n",
       "      <td>6.630000e+02</td>\n",
       "      <td>7.600000e+01</td>\n",
       "      <td>69.000000</td>\n",
       "      <td>0.000000</td>\n",
       "      <td>0.000000e+00</td>\n",
       "      <td>0.000000</td>\n",
       "      <td>0.000000</td>\n",
       "      <td>...</td>\n",
       "      <td>0.000000</td>\n",
       "      <td>1.945910</td>\n",
       "      <td>3.663562</td>\n",
       "      <td>0.000012</td>\n",
       "      <td>-11.346477</td>\n",
       "      <td>0.000006</td>\n",
       "      <td>-11.959746</td>\n",
       "      <td>-2.340600</td>\n",
       "      <td>-2.077158</td>\n",
       "      <td>-3.043163</td>\n",
       "    </tr>\n",
       "    <tr>\n",
       "      <th>25%</th>\n",
       "      <td>6.200000</td>\n",
       "      <td>5.025000e+06</td>\n",
       "      <td>0.488126</td>\n",
       "      <td>1.431659e+07</td>\n",
       "      <td>9.979924e+06</td>\n",
       "      <td>101.000000</td>\n",
       "      <td>3.780000</td>\n",
       "      <td>4.301500e+03</td>\n",
       "      <td>281.000000</td>\n",
       "      <td>236.250000</td>\n",
       "      <td>...</td>\n",
       "      <td>0.001125</td>\n",
       "      <td>6.020411</td>\n",
       "      <td>8.044778</td>\n",
       "      <td>0.005404</td>\n",
       "      <td>-5.220643</td>\n",
       "      <td>0.001152</td>\n",
       "      <td>-6.766709</td>\n",
       "      <td>-0.714234</td>\n",
       "      <td>-0.699542</td>\n",
       "      <td>-0.622086</td>\n",
       "    </tr>\n",
       "    <tr>\n",
       "      <th>50%</th>\n",
       "      <td>6.800000</td>\n",
       "      <td>1.800000e+07</td>\n",
       "      <td>5.626404</td>\n",
       "      <td>3.157063e+07</td>\n",
       "      <td>3.382803e+07</td>\n",
       "      <td>112.000000</td>\n",
       "      <td>3.930000</td>\n",
       "      <td>3.270200e+04</td>\n",
       "      <td>1730.000000</td>\n",
       "      <td>318.500000</td>\n",
       "      <td>...</td>\n",
       "      <td>0.008900</td>\n",
       "      <td>7.855537</td>\n",
       "      <td>10.077441</td>\n",
       "      <td>0.017978</td>\n",
       "      <td>-4.018607</td>\n",
       "      <td>0.008891</td>\n",
       "      <td>-4.722863</td>\n",
       "      <td>0.351512</td>\n",
       "      <td>-0.122958</td>\n",
       "      <td>-0.065765</td>\n",
       "    </tr>\n",
       "    <tr>\n",
       "      <th>75%</th>\n",
       "      <td>7.400000</td>\n",
       "      <td>3.575000e+07</td>\n",
       "      <td>13.519931</td>\n",
       "      <td>4.985129e+07</td>\n",
       "      <td>1.089263e+08</td>\n",
       "      <td>128.000000</td>\n",
       "      <td>4.080000</td>\n",
       "      <td>2.069002e+05</td>\n",
       "      <td>6699.500000</td>\n",
       "      <td>405.500000</td>\n",
       "      <td>...</td>\n",
       "      <td>0.059750</td>\n",
       "      <td>10.498169</td>\n",
       "      <td>13.286783</td>\n",
       "      <td>0.067433</td>\n",
       "      <td>-2.696662</td>\n",
       "      <td>0.059788</td>\n",
       "      <td>-2.816951</td>\n",
       "      <td>0.837800</td>\n",
       "      <td>0.700554</td>\n",
       "      <td>0.581731</td>\n",
       "    </tr>\n",
       "    <tr>\n",
       "      <th>max</th>\n",
       "      <td>9.200000</td>\n",
       "      <td>2.500000e+08</td>\n",
       "      <td>152.535747</td>\n",
       "      <td>4.080107e+08</td>\n",
       "      <td>1.033927e+09</td>\n",
       "      <td>280.000000</td>\n",
       "      <td>4.690000</td>\n",
       "      <td>7.292896e+06</td>\n",
       "      <td>173808.000000</td>\n",
       "      <td>1463.000000</td>\n",
       "      <td>...</td>\n",
       "      <td>6.589700</td>\n",
       "      <td>18.403535</td>\n",
       "      <td>21.343842</td>\n",
       "      <td>26.369863</td>\n",
       "      <td>3.272222</td>\n",
       "      <td>6.589744</td>\n",
       "      <td>1.885514</td>\n",
       "      <td>2.561571</td>\n",
       "      <td>1.883462</td>\n",
       "      <td>2.762395</td>\n",
       "    </tr>\n",
       "  </tbody>\n",
       "</table>\n",
       "<p>8 rows × 35 columns</p>\n",
       "</div>"
      ],
      "text/plain": [
       "           rating        budget  opening_weekend_usa     gross_usa  \\\n",
       "count  830.000000  8.300000e+02           596.000000  8.300000e+02   \n",
       "mean     6.728313  2.846106e+07            11.199472  4.396854e+07   \n",
       "std      0.895266  3.429356e+07            17.769474  5.367619e+07   \n",
       "min      3.000000  3.000000e+04             0.000301  6.630000e+02   \n",
       "25%      6.200000  5.025000e+06             0.488126  1.431659e+07   \n",
       "50%      6.800000  1.800000e+07             5.626404  3.157063e+07   \n",
       "75%      7.400000  3.575000e+07            13.519931  4.985129e+07   \n",
       "max      9.200000  2.500000e+08           152.535747  4.080107e+08   \n",
       "\n",
       "        gross_world     runtime  rating_value_b  rating_count_b  \\\n",
       "count  6.800000e+02  830.000000      830.000000    8.300000e+02   \n",
       "mean   9.333721e+07  116.904358        3.892747    2.517862e+05   \n",
       "std    1.568685e+08   24.384076        0.357243    6.297016e+05   \n",
       "min    7.600000e+01   69.000000        0.000000    0.000000e+00   \n",
       "25%    9.979924e+06  101.000000        3.780000    4.301500e+03   \n",
       "50%    3.382803e+07  112.000000        3.930000    3.270200e+04   \n",
       "75%    1.089263e+08  128.000000        4.080000    2.069002e+05   \n",
       "max    1.033927e+09  280.000000        4.690000    7.292896e+06   \n",
       "\n",
       "       review_count_b         page  ...  author_popularity  log_book_search  \\\n",
       "count      830.000000   830.000000  ...         830.000000       830.000000   \n",
       "mean      8242.527711   338.582716  ...           0.126429         8.523448   \n",
       "std      18125.773472   170.306914  ...           0.447143         3.294378   \n",
       "min          0.000000     0.000000  ...           0.000000         1.945910   \n",
       "25%        281.000000   236.250000  ...           0.001125         6.020411   \n",
       "50%       1730.000000   318.500000  ...           0.008900         7.855537   \n",
       "75%       6699.500000   405.500000  ...           0.059750        10.498169   \n",
       "max     173808.000000  1463.000000  ...           6.589700        18.403535   \n",
       "\n",
       "       log_author_search  book_popularity_test  log_book_popularity  \\\n",
       "count         830.000000            830.000000           830.000000   \n",
       "mean           10.909193              0.125551            -3.993786   \n",
       "std             3.796890              0.948464             1.930753   \n",
       "min             3.663562              0.000012           -11.346477   \n",
       "25%             8.044778              0.005404            -5.220643   \n",
       "50%            10.077441              0.017978            -4.018607   \n",
       "75%            13.286783              0.067433            -2.696662   \n",
       "max            21.343842             26.369863             3.272222   \n",
       "\n",
       "       author_popularity_test  log_author_popularity     log_owu  T_movie_age  \\\n",
       "count              830.000000             830.000000  596.000000   830.000000   \n",
       "mean                 0.126430              -4.754056    0.155248    -0.050212   \n",
       "std                  0.447144               2.636906    0.971834     0.920729   \n",
       "min                  0.000006             -11.959746   -2.340600    -2.077158   \n",
       "25%                  0.001152              -6.766709   -0.714234    -0.699542   \n",
       "50%                  0.008891              -4.722863    0.351512    -0.122958   \n",
       "75%                  0.059788              -2.816951    0.837800     0.700554   \n",
       "max                  6.589744               1.885514    2.561571     1.883462   \n",
       "\n",
       "       T_book_age  \n",
       "count  830.000000  \n",
       "mean    -0.037808  \n",
       "std      0.936634  \n",
       "min     -3.043163  \n",
       "25%     -0.622086  \n",
       "50%     -0.065765  \n",
       "75%      0.581731  \n",
       "max      2.762395  \n",
       "\n",
       "[8 rows x 35 columns]"
      ]
     },
     "execution_count": 5,
     "metadata": {},
     "output_type": "execute_result"
    }
   ],
   "source": [
    "all_df.describe()"
   ]
  },
  {
   "cell_type": "code",
   "execution_count": 6,
   "metadata": {},
   "outputs": [],
   "source": [
    "# all_df.country"
   ]
  },
  {
   "cell_type": "code",
   "execution_count": 7,
   "metadata": {},
   "outputs": [
    {
     "name": "stdout",
     "output_type": "stream",
     "text": [
      "<class 'pandas.core.frame.DataFrame'>\n",
      "Int64Index: 830 entries, 1 to 1520\n",
      "Data columns (total 49 columns):\n",
      " #   Column                  Non-Null Count  Dtype         \n",
      "---  ------                  --------------  -----         \n",
      " 0   movie_title             830 non-null    object        \n",
      " 1   rating                  830 non-null    float64       \n",
      " 2   MPAA                    830 non-null    object        \n",
      " 3   genre                   830 non-null    object        \n",
      " 4   release_date            830 non-null    datetime64[ns]\n",
      " 5   budget                  830 non-null    float64       \n",
      " 6   opening_weekend_usa     596 non-null    float64       \n",
      " 7   gross_usa               830 non-null    float64       \n",
      " 8   gross_world             680 non-null    float64       \n",
      " 9   runtime                 830 non-null    float64       \n",
      " 10  director                830 non-null    object        \n",
      " 11  writer                  830 non-null    object        \n",
      " 12  actor                   830 non-null    object        \n",
      " 13  distributor             830 non-null    object        \n",
      " 14  language                830 non-null    object        \n",
      " 15  country                 830 non-null    object        \n",
      " 16  author                  830 non-null    object        \n",
      " 17  rating_value_b          830 non-null    float64       \n",
      " 18  rating_count_b          830 non-null    float64       \n",
      " 19  review_count_b          830 non-null    float64       \n",
      " 20  page                    830 non-null    float64       \n",
      " 21  publish_year            830 non-null    float64       \n",
      " 22  title_x                 830 non-null    object        \n",
      " 23  book_popularity_x       830 non-null    float64       \n",
      " 24  author_popularity_x     830 non-null    float64       \n",
      " 25  release_year            830 non-null    int64         \n",
      " 26  count_a                 830 non-null    int64         \n",
      " 27  release_month           830 non-null    int64         \n",
      " 28  dow                     830 non-null    int64         \n",
      " 29  film_count_d            830 non-null    int64         \n",
      " 30  avg_rating_d            830 non-null    float64       \n",
      " 31  avg_gross_d             830 non-null    int64         \n",
      " 32  title_y                 830 non-null    object        \n",
      " 33  genre_y                 830 non-null    object        \n",
      " 34  title_search            830 non-null    float64       \n",
      " 35  search_fiction_book     830 non-null    float64       \n",
      " 36  author_search           830 non-null    float64       \n",
      " 37  search_fiction_author   830 non-null    float64       \n",
      " 38  book_popularity         822 non-null    float64       \n",
      " 39  author_popularity       830 non-null    float64       \n",
      " 40  log_book_search         830 non-null    float64       \n",
      " 41  log_author_search       830 non-null    float64       \n",
      " 42  book_popularity_test    830 non-null    float64       \n",
      " 43  log_book_popularity     830 non-null    float64       \n",
      " 44  author_popularity_test  830 non-null    float64       \n",
      " 45  log_author_popularity   830 non-null    float64       \n",
      " 46  log_owu                 596 non-null    float64       \n",
      " 47  T_movie_age             830 non-null    float64       \n",
      " 48  T_book_age              830 non-null    float64       \n",
      "dtypes: datetime64[ns](1), float64(29), int64(6), object(13)\n",
      "memory usage: 324.2+ KB\n"
     ]
    }
   ],
   "source": [
    "# Remove outliers\n",
    "# all_df = all_df[all_df.opening_weekend_usa < 0.4e8]\n",
    "all_df.info()"
   ]
  },
  {
   "cell_type": "code",
   "execution_count": 8,
   "metadata": {},
   "outputs": [],
   "source": [
    "cat_feature = ['MPAA','genre','distributor','language','country']\n",
    "con_feature = ['budget','runtime','film_count_d','avg_rating_d','avg_gross_d','T_movie_age']\n",
    "con_book_feature = ['T_book_age','publish_year','page','log_book_popularity','log_author_popularity']\n",
    "target_candidate = ['opening_weekend_usa','log_owu','gross_usa','gross_world','rating']\n",
    "\n",
    "potential_feature = ['rating_value_b','rating_count_b','review_count_b']"
   ]
  },
  {
   "cell_type": "code",
   "execution_count": 9,
   "metadata": {},
   "outputs": [],
   "source": [
    "# Choose only the continuous variables for now\n",
    "\n",
    "cc_df = all_df[['opening_weekend_usa'] + con_feature + con_book_feature + cat_feature].copy()\n",
    "c_movie_df = all_df[['opening_weekend_usa'] + con_feature].copy() # only continuous features for movie\n",
    "c_all_df = all_df[['opening_weekend_usa'] + con_feature + con_book_feature].copy() # continuous features both movie and book"
   ]
  },
  {
   "cell_type": "code",
   "execution_count": 10,
   "metadata": {},
   "outputs": [],
   "source": [
    "# c_df.describe()"
   ]
  },
  {
   "cell_type": "code",
   "execution_count": 11,
   "metadata": {},
   "outputs": [
    {
     "name": "stdout",
     "output_type": "stream",
     "text": [
      "<class 'pandas.core.frame.DataFrame'>\n",
      "Int64Index: 830 entries, 1 to 1520\n",
      "Data columns (total 17 columns):\n",
      " #   Column                 Non-Null Count  Dtype  \n",
      "---  ------                 --------------  -----  \n",
      " 0   opening_weekend_usa    596 non-null    float64\n",
      " 1   budget                 830 non-null    float64\n",
      " 2   runtime                830 non-null    float64\n",
      " 3   film_count_d           830 non-null    int64  \n",
      " 4   avg_rating_d           830 non-null    float64\n",
      " 5   avg_gross_d            830 non-null    int64  \n",
      " 6   T_movie_age            830 non-null    float64\n",
      " 7   T_book_age             830 non-null    float64\n",
      " 8   publish_year           830 non-null    float64\n",
      " 9   page                   830 non-null    float64\n",
      " 10  log_book_popularity    830 non-null    float64\n",
      " 11  log_author_popularity  830 non-null    float64\n",
      " 12  MPAA                   830 non-null    object \n",
      " 13  genre                  830 non-null    object \n",
      " 14  distributor            830 non-null    object \n",
      " 15  language               830 non-null    object \n",
      " 16  country                830 non-null    object \n",
      "dtypes: float64(10), int64(2), object(5)\n",
      "memory usage: 116.7+ KB\n"
     ]
    }
   ],
   "source": [
    "cc_df.info()"
   ]
  },
  {
   "cell_type": "code",
   "execution_count": 12,
   "metadata": {},
   "outputs": [],
   "source": [
    "# sns.pairplot(c_df, plot_kws=dict(alpha=.1, edgecolor='none'))"
   ]
  },
  {
   "cell_type": "code",
   "execution_count": null,
   "metadata": {},
   "outputs": [],
   "source": []
  },
  {
   "cell_type": "markdown",
   "metadata": {},
   "source": [
    "### Baseline Model\n",
    "Only consider the continuous predictors and use 'opening_weekend_usa'."
   ]
  },
  {
   "cell_type": "code",
   "execution_count": 13,
   "metadata": {},
   "outputs": [],
   "source": [
    "# Separate features and target variable\n",
    "\n",
    "def get_Xy(df):\n",
    "    \n",
    "    df = df.dropna()\n",
    "    \n",
    "    target = 'opening_weekend_usa'\n",
    "#     target = 'rating'\n",
    "#     target = 'gross_usa'\n",
    "    all_column = df.columns.values.tolist()\n",
    "    all_column.remove(target)\n",
    "\n",
    "    y = df[target]\n",
    "    X = df[all_column]\n",
    "    \n",
    "    return X, y"
   ]
  },
  {
   "cell_type": "code",
   "execution_count": 14,
   "metadata": {},
   "outputs": [],
   "source": [
    "X, y = get_Xy(c_all_df)"
   ]
  },
  {
   "cell_type": "code",
   "execution_count": 15,
   "metadata": {},
   "outputs": [],
   "source": [
    "def split_and_validate(X, y):\n",
    "    '''\n",
    "    For a set of features and target X, y, perform a 80/20 train/val split, \n",
    "    fit and validate a linear regression model, and report results\n",
    "    '''\n",
    "    \n",
    "#     # perform train/val split\n",
    "#     X_train, X_val, y_train, y_val = \\\n",
    "#         train_test_split(X, y, test_size=0.2, random_state=25)\n",
    "\n",
    "    # train/val/test split\n",
    "    # holding test set\n",
    "    X_, X_test, y_, y_test = train_test_split(X, y, test_size=.2, random_state=20)\n",
    "    X_train, X_val, y_train, y_val = train_test_split(X_, y_, test_size=.25, random_state=21)\n",
    "    \n",
    "    # fit linear regression to training data\n",
    "    lr_model = LinearRegression()\n",
    "    lr_model.fit(X_train, y_train)\n",
    "    y_pred = lr_model.predict(X_val)\n",
    "    \n",
    "    # score fit model on validation data\n",
    "    train_score = lr_model.score(X_train, y_train)\n",
    "    val_score = lr_model.score(X_val, y_val)\n",
    "    \n",
    "    \n",
    "    # report results\n",
    "    print('\\nTrain R^2 score was:', train_score)\n",
    "    print('Validation R^2 score was:', val_score)\n",
    "    print('Feature coefficient results: \\n')\n",
    "    for feature, coef in zip(X.columns, lr_model.coef_):\n",
    "        print(feature, ':', f'{coef:.2f}')\n",
    "        \n",
    "    \n",
    "    # Visualization\n",
    "    fig, ax = plt.subplots(1, 1)\n",
    "    plt.scatter(y_val, y_pred)\n",
    "\n",
    "    ax.set_xlabel('Opening weekend gross (USD)')\n",
    "    ax.set_ylabel('Prediction (USD)')\n",
    "\n",
    "#     ax.set_xticks([0,0.2e8,0.4e8,0.6e8,0.8e8])\n",
    "#     ax.set_xticklabels(['0','20M','40M','60M','80M'])\n",
    "#     ax.set_yticks([0,0.1e8,0.2e8,0.3e8,0.4e8,0.5e8,0.6e8,0.7e8])\n",
    "#     ax.set_yticklabels(['0','10M','20M','30M','40M','50M','60M','70M'])\n",
    "\n",
    "    x=np.linspace(0,0.7e2,50)\n",
    "#     x=np.linspace(4,9,50)\n",
    "    \n",
    "    y=x\n",
    "    plt.plot(x,y,color='red')"
   ]
  },
  {
   "cell_type": "code",
   "execution_count": 16,
   "metadata": {},
   "outputs": [
    {
     "name": "stdout",
     "output_type": "stream",
     "text": [
      "\n",
      "Train R^2 score was: 0.4880662590443968\n",
      "Validation R^2 score was: 0.48742439238705315\n",
      "Feature coefficient results: \n",
      "\n",
      "budget : 0.00\n",
      "runtime : -0.00\n",
      "film_count_d : 0.02\n",
      "avg_rating_d : -1.14\n",
      "avg_gross_d : -0.00\n",
      "T_movie_age : -2.61\n",
      "T_book_age : 1.78\n",
      "publish_year : 0.05\n",
      "page : 0.01\n",
      "log_book_popularity : 0.04\n",
      "log_author_popularity : 0.60\n"
     ]
    },
    {
     "data": {
      "image/png": "[encoded data removed]",
      "text/plain": [
       "<Figure size 432x288 with 1 Axes>"
      ]
     },
     "metadata": {},
     "output_type": "display_data"
    }
   ],
   "source": [
    "# Reports for model with all features\n",
    "split_and_validate(X,y)"
   ]
  },
  {
   "cell_type": "code",
   "execution_count": 17,
   "metadata": {},
   "outputs": [
    {
     "name": "stdout",
     "output_type": "stream",
     "text": [
      "\n",
      "Train R^2 score was: 0.473965174147961\n",
      "Validation R^2 score was: 0.5042600723203712\n",
      "Feature coefficient results: \n",
      "\n",
      "budget : 0.00\n",
      "runtime : 0.01\n",
      "film_count_d : 0.05\n",
      "avg_rating_d : -1.09\n",
      "avg_gross_d : -0.00\n",
      "T_movie_age : -1.22\n"
     ]
    },
    {
     "data": {
      "image/png": "[encoded data removed]",
      "text/plain": [
       "<Figure size 432x288 with 1 Axes>"
      ]
     },
     "metadata": {},
     "output_type": "display_data"
    }
   ],
   "source": [
    "# Reports for model with features of movie only\n",
    "X, y = get_Xy(c_movie_df)\n",
    "split_and_validate(X,y)"
   ]
  },
  {
   "cell_type": "code",
   "execution_count": null,
   "metadata": {},
   "outputs": [],
   "source": []
  },
  {
   "cell_type": "code",
   "execution_count": 60,
   "metadata": {},
   "outputs": [],
   "source": [
    "def get_score(X_train,X_val,y_train,v_val):\n",
    "    # fit linear regression to training data\n",
    "    lr_model = LinearRegression()\n",
    "    lr_model.fit(X_train, y_train)\n",
    "    y_pred = lr_model.predict(X_val)\n",
    "    \n",
    "    # score fit model on validation data\n",
    "    train_score = lr_model.score(X_train, y_train)\n",
    "    val_score = lr_model.score(X_val, y_val)\n",
    "    \n",
    "    \n",
    "    # report results\n",
    "    print('\\nTrain R^2 score was:', train_score)\n",
    "    print('Validation R^2 score was:', val_score)\n",
    "    print('Feature coefficient results: \\n')\n",
    "    for feature, coef in zip(X.columns, lr_model.coef_):\n",
    "        print(feature, ':', f'{coef:.2f}')\n",
    "        \n",
    "    \n",
    "    # Visualization\n",
    "    fig, ax = plt.subplots(1, 1)\n",
    "    plt.scatter(y_val, y_pred)\n",
    "\n",
    "    ax.set_xlabel('Opening weekend gross (USD)')\n",
    "    ax.set_ylabel('Prediction (USD)')\n",
    "\n",
    "#     ax.set_xticks([0,0.2e8,0.4e8,0.6e8,0.8e8])\n",
    "#     ax.set_xticklabels(['0','20M','40M','60M','80M'])\n",
    "#     ax.set_yticks([0,0.1e8,0.2e8,0.3e8,0.4e8,0.5e8,0.6e8,0.7e8])\n",
    "#     ax.set_yticklabels(['0','10M','20M','30M','40M','50M','60M','70M'])\n",
    "\n",
    "    x=np.linspace(0,0.7e2,50)\n",
    "#     x=np.linspace(4,9,50)\n",
    "    \n",
    "    y=x\n",
    "    plt.plot(x,y,color='red')"
   ]
  },
  {
   "cell_type": "code",
   "execution_count": null,
   "metadata": {},
   "outputs": [],
   "source": []
  },
  {
   "cell_type": "markdown",
   "metadata": {},
   "source": [
    "### Cross-validation"
   ]
  },
  {
   "cell_type": "code",
   "execution_count": 61,
   "metadata": {},
   "outputs": [],
   "source": [
    "# Will not use X_test, y_test\n",
    "lr = LinearRegression()\n",
    "X_, X_test, y_, y_test = train_test_split(X, y, test_size=.2, random_state=20)\n",
    "X_train, X_val, y_train, y_val = train_test_split(X_, y_, test_size=.25, random_state=21)"
   ]
  },
  {
   "cell_type": "code",
   "execution_count": 62,
   "metadata": {},
   "outputs": [
    {
     "name": "stderr",
     "output_type": "stream",
     "text": [
      "/opt/anaconda3/lib/python3.8/site-packages/sklearn/model_selection/_validation.py:548: FitFailedWarning: Estimator fit failed. The score on this train-test partition for these parameters will be set to nan. Details: \n",
      "Traceback (most recent call last):\n",
      "  File \"/opt/anaconda3/lib/python3.8/site-packages/sklearn/model_selection/_validation.py\", line 531, in _fit_and_score\n",
      "    estimator.fit(X_train, y_train, **fit_params)\n",
      "  File \"/opt/anaconda3/lib/python3.8/site-packages/sklearn/linear_model/_base.py\", line 505, in fit\n",
      "    X, y = self._validate_data(X, y, accept_sparse=['csr', 'csc', 'coo'],\n",
      "  File \"/opt/anaconda3/lib/python3.8/site-packages/sklearn/base.py\", line 432, in _validate_data\n",
      "    X, y = check_X_y(X, y, **check_params)\n",
      "  File \"/opt/anaconda3/lib/python3.8/site-packages/sklearn/utils/validation.py\", line 72, in inner_f\n",
      "    return f(**kwargs)\n",
      "  File \"/opt/anaconda3/lib/python3.8/site-packages/sklearn/utils/validation.py\", line 795, in check_X_y\n",
      "    X = check_array(X, accept_sparse=accept_sparse,\n",
      "  File \"/opt/anaconda3/lib/python3.8/site-packages/sklearn/utils/validation.py\", line 72, in inner_f\n",
      "    return f(**kwargs)\n",
      "  File \"/opt/anaconda3/lib/python3.8/site-packages/sklearn/utils/validation.py\", line 598, in check_array\n",
      "    array = np.asarray(array, order=order, dtype=dtype)\n",
      "  File \"/opt/anaconda3/lib/python3.8/site-packages/numpy/core/_asarray.py\", line 83, in asarray\n",
      "    return array(a, dtype, copy=False, order=order)\n",
      "  File \"/opt/anaconda3/lib/python3.8/site-packages/pandas/core/generic.py\", line 1781, in __array__\n",
      "    return np.asarray(self._values, dtype=dtype)\n",
      "  File \"/opt/anaconda3/lib/python3.8/site-packages/numpy/core/_asarray.py\", line 83, in asarray\n",
      "    return array(a, dtype, copy=False, order=order)\n",
      "TypeError: float() argument must be a string or a number, not 'set'\n",
      "\n",
      "  warnings.warn(\"Estimator fit failed. The score on this train-test\"\n",
      "/opt/anaconda3/lib/python3.8/site-packages/sklearn/model_selection/_validation.py:548: FitFailedWarning: Estimator fit failed. The score on this train-test partition for these parameters will be set to nan. Details: \n",
      "Traceback (most recent call last):\n",
      "  File \"/opt/anaconda3/lib/python3.8/site-packages/sklearn/model_selection/_validation.py\", line 531, in _fit_and_score\n",
      "    estimator.fit(X_train, y_train, **fit_params)\n",
      "  File \"/opt/anaconda3/lib/python3.8/site-packages/sklearn/linear_model/_base.py\", line 505, in fit\n",
      "    X, y = self._validate_data(X, y, accept_sparse=['csr', 'csc', 'coo'],\n",
      "  File \"/opt/anaconda3/lib/python3.8/site-packages/sklearn/base.py\", line 432, in _validate_data\n",
      "    X, y = check_X_y(X, y, **check_params)\n",
      "  File \"/opt/anaconda3/lib/python3.8/site-packages/sklearn/utils/validation.py\", line 72, in inner_f\n",
      "    return f(**kwargs)\n",
      "  File \"/opt/anaconda3/lib/python3.8/site-packages/sklearn/utils/validation.py\", line 795, in check_X_y\n",
      "    X = check_array(X, accept_sparse=accept_sparse,\n",
      "  File \"/opt/anaconda3/lib/python3.8/site-packages/sklearn/utils/validation.py\", line 72, in inner_f\n",
      "    return f(**kwargs)\n",
      "  File \"/opt/anaconda3/lib/python3.8/site-packages/sklearn/utils/validation.py\", line 598, in check_array\n",
      "    array = np.asarray(array, order=order, dtype=dtype)\n",
      "  File \"/opt/anaconda3/lib/python3.8/site-packages/numpy/core/_asarray.py\", line 83, in asarray\n",
      "    return array(a, dtype, copy=False, order=order)\n",
      "  File \"/opt/anaconda3/lib/python3.8/site-packages/pandas/core/generic.py\", line 1781, in __array__\n",
      "    return np.asarray(self._values, dtype=dtype)\n",
      "  File \"/opt/anaconda3/lib/python3.8/site-packages/numpy/core/_asarray.py\", line 83, in asarray\n",
      "    return array(a, dtype, copy=False, order=order)\n",
      "TypeError: float() argument must be a string or a number, not 'set'\n",
      "\n",
      "  warnings.warn(\"Estimator fit failed. The score on this train-test\"\n",
      "/opt/anaconda3/lib/python3.8/site-packages/sklearn/model_selection/_validation.py:548: FitFailedWarning: Estimator fit failed. The score on this train-test partition for these parameters will be set to nan. Details: \n",
      "Traceback (most recent call last):\n",
      "  File \"/opt/anaconda3/lib/python3.8/site-packages/sklearn/model_selection/_validation.py\", line 531, in _fit_and_score\n",
      "    estimator.fit(X_train, y_train, **fit_params)\n",
      "  File \"/opt/anaconda3/lib/python3.8/site-packages/sklearn/linear_model/_base.py\", line 505, in fit\n",
      "    X, y = self._validate_data(X, y, accept_sparse=['csr', 'csc', 'coo'],\n",
      "  File \"/opt/anaconda3/lib/python3.8/site-packages/sklearn/base.py\", line 432, in _validate_data\n",
      "    X, y = check_X_y(X, y, **check_params)\n",
      "  File \"/opt/anaconda3/lib/python3.8/site-packages/sklearn/utils/validation.py\", line 72, in inner_f\n",
      "    return f(**kwargs)\n",
      "  File \"/opt/anaconda3/lib/python3.8/site-packages/sklearn/utils/validation.py\", line 795, in check_X_y\n",
      "    X = check_array(X, accept_sparse=accept_sparse,\n",
      "  File \"/opt/anaconda3/lib/python3.8/site-packages/sklearn/utils/validation.py\", line 72, in inner_f\n",
      "    return f(**kwargs)\n",
      "  File \"/opt/anaconda3/lib/python3.8/site-packages/sklearn/utils/validation.py\", line 598, in check_array\n",
      "    array = np.asarray(array, order=order, dtype=dtype)\n",
      "  File \"/opt/anaconda3/lib/python3.8/site-packages/numpy/core/_asarray.py\", line 83, in asarray\n",
      "    return array(a, dtype, copy=False, order=order)\n",
      "  File \"/opt/anaconda3/lib/python3.8/site-packages/pandas/core/generic.py\", line 1781, in __array__\n",
      "    return np.asarray(self._values, dtype=dtype)\n",
      "  File \"/opt/anaconda3/lib/python3.8/site-packages/numpy/core/_asarray.py\", line 83, in asarray\n",
      "    return array(a, dtype, copy=False, order=order)\n",
      "TypeError: float() argument must be a string or a number, not 'set'\n",
      "\n",
      "  warnings.warn(\"Estimator fit failed. The score on this train-test\"\n",
      "/opt/anaconda3/lib/python3.8/site-packages/sklearn/model_selection/_validation.py:548: FitFailedWarning: Estimator fit failed. The score on this train-test partition for these parameters will be set to nan. Details: \n",
      "Traceback (most recent call last):\n",
      "  File \"/opt/anaconda3/lib/python3.8/site-packages/sklearn/model_selection/_validation.py\", line 531, in _fit_and_score\n",
      "    estimator.fit(X_train, y_train, **fit_params)\n",
      "  File \"/opt/anaconda3/lib/python3.8/site-packages/sklearn/linear_model/_base.py\", line 505, in fit\n",
      "    X, y = self._validate_data(X, y, accept_sparse=['csr', 'csc', 'coo'],\n",
      "  File \"/opt/anaconda3/lib/python3.8/site-packages/sklearn/base.py\", line 432, in _validate_data\n",
      "    X, y = check_X_y(X, y, **check_params)\n",
      "  File \"/opt/anaconda3/lib/python3.8/site-packages/sklearn/utils/validation.py\", line 72, in inner_f\n",
      "    return f(**kwargs)\n",
      "  File \"/opt/anaconda3/lib/python3.8/site-packages/sklearn/utils/validation.py\", line 795, in check_X_y\n",
      "    X = check_array(X, accept_sparse=accept_sparse,\n",
      "  File \"/opt/anaconda3/lib/python3.8/site-packages/sklearn/utils/validation.py\", line 72, in inner_f\n",
      "    return f(**kwargs)\n",
      "  File \"/opt/anaconda3/lib/python3.8/site-packages/sklearn/utils/validation.py\", line 598, in check_array\n",
      "    array = np.asarray(array, order=order, dtype=dtype)\n",
      "  File \"/opt/anaconda3/lib/python3.8/site-packages/numpy/core/_asarray.py\", line 83, in asarray\n",
      "    return array(a, dtype, copy=False, order=order)\n",
      "  File \"/opt/anaconda3/lib/python3.8/site-packages/pandas/core/generic.py\", line 1781, in __array__\n",
      "    return np.asarray(self._values, dtype=dtype)\n",
      "  File \"/opt/anaconda3/lib/python3.8/site-packages/numpy/core/_asarray.py\", line 83, in asarray\n",
      "    return array(a, dtype, copy=False, order=order)\n",
      "TypeError: float() argument must be a string or a number, not 'set'\n",
      "\n",
      "  warnings.warn(\"Estimator fit failed. The score on this train-test\"\n",
      "/opt/anaconda3/lib/python3.8/site-packages/sklearn/model_selection/_validation.py:548: FitFailedWarning: Estimator fit failed. The score on this train-test partition for these parameters will be set to nan. Details: \n",
      "Traceback (most recent call last):\n",
      "  File \"/opt/anaconda3/lib/python3.8/site-packages/sklearn/model_selection/_validation.py\", line 531, in _fit_and_score\n",
      "    estimator.fit(X_train, y_train, **fit_params)\n",
      "  File \"/opt/anaconda3/lib/python3.8/site-packages/sklearn/linear_model/_base.py\", line 505, in fit\n",
      "    X, y = self._validate_data(X, y, accept_sparse=['csr', 'csc', 'coo'],\n",
      "  File \"/opt/anaconda3/lib/python3.8/site-packages/sklearn/base.py\", line 432, in _validate_data\n",
      "    X, y = check_X_y(X, y, **check_params)\n",
      "  File \"/opt/anaconda3/lib/python3.8/site-packages/sklearn/utils/validation.py\", line 72, in inner_f\n",
      "    return f(**kwargs)\n",
      "  File \"/opt/anaconda3/lib/python3.8/site-packages/sklearn/utils/validation.py\", line 795, in check_X_y\n",
      "    X = check_array(X, accept_sparse=accept_sparse,\n",
      "  File \"/opt/anaconda3/lib/python3.8/site-packages/sklearn/utils/validation.py\", line 72, in inner_f\n",
      "    return f(**kwargs)\n",
      "  File \"/opt/anaconda3/lib/python3.8/site-packages/sklearn/utils/validation.py\", line 598, in check_array\n",
      "    array = np.asarray(array, order=order, dtype=dtype)\n",
      "  File \"/opt/anaconda3/lib/python3.8/site-packages/numpy/core/_asarray.py\", line 83, in asarray\n",
      "    return array(a, dtype, copy=False, order=order)\n",
      "  File \"/opt/anaconda3/lib/python3.8/site-packages/pandas/core/generic.py\", line 1781, in __array__\n",
      "    return np.asarray(self._values, dtype=dtype)\n",
      "  File \"/opt/anaconda3/lib/python3.8/site-packages/numpy/core/_asarray.py\", line 83, in asarray\n",
      "    return array(a, dtype, copy=False, order=order)\n",
      "TypeError: float() argument must be a string or a number, not 'set'\n",
      "\n",
      "  warnings.warn(\"Estimator fit failed. The score on this train-test\"\n"
     ]
    }
   ],
   "source": [
    "result = cross_val_score(lr, X_train, y_train, # estimator, features, target\n",
    "                cv=5, # number of folds \n",
    "                scoring='r2') # scoring metric"
   ]
  },
  {
   "cell_type": "code",
   "execution_count": 63,
   "metadata": {},
   "outputs": [
    {
     "name": "stdout",
     "output_type": "stream",
     "text": [
      "Meam of validation score is: nan\n",
      "[nan nan nan nan nan]\n"
     ]
    }
   ],
   "source": [
    "# mean of val_score\n",
    "print(\"Meam of validation score is:\", np.mean(result))\n",
    "print(result)"
   ]
  },
  {
   "cell_type": "code",
   "execution_count": null,
   "metadata": {},
   "outputs": [],
   "source": []
  },
  {
   "cell_type": "code",
   "execution_count": null,
   "metadata": {},
   "outputs": [],
   "source": []
  },
  {
   "cell_type": "markdown",
   "metadata": {},
   "source": [
    "### Find outliers and evaluate the model again"
   ]
  },
  {
   "cell_type": "code",
   "execution_count": null,
   "metadata": {},
   "outputs": [],
   "source": []
  },
  {
   "cell_type": "code",
   "execution_count": null,
   "metadata": {},
   "outputs": [],
   "source": []
  },
  {
   "cell_type": "code",
   "execution_count": null,
   "metadata": {},
   "outputs": [],
   "source": []
  },
  {
   "cell_type": "markdown",
   "metadata": {},
   "source": [
    "## 2. Basic Feature Engineering"
   ]
  },
  {
   "cell_type": "markdown",
   "metadata": {},
   "source": [
    "### Split the data set into Train / Validation / Test sets"
   ]
  },
  {
   "cell_type": "code",
   "execution_count": 64,
   "metadata": {},
   "outputs": [],
   "source": [
    "# Choose df\n",
    "# X, y = get_Xy(c_movie_df)\n",
    "X, y = get_Xy(c_all_df)\n",
    "\n",
    "# train_test_split\n",
    "X_, X_test, y_, y_test = train_test_split(X, y, test_size=.2, random_state=20)\n",
    "X_train, X_val, y_train, y_val = train_test_split(X_, y_, test_size=.25, random_state=21)"
   ]
  },
  {
   "cell_type": "markdown",
   "metadata": {},
   "source": [
    "### * Scaled Features"
   ]
  },
  {
   "cell_type": "code",
   "execution_count": 65,
   "metadata": {},
   "outputs": [],
   "source": [
    "scaler = StandardScaler()\n",
    "\n",
    "X_train_scaled = scaler.fit_transform(X_train.values)\n",
    "X_val_scaled = scaler.transform(X_val.values)\n",
    "X_test_scaled = scaler.transform(X_test.values)"
   ]
  },
  {
   "cell_type": "code",
   "execution_count": 66,
   "metadata": {},
   "outputs": [
    {
     "data": {
      "text/plain": [
       "(0.48806625904439693, 0.4874243923869028)"
      ]
     },
     "execution_count": 66,
     "metadata": {},
     "output_type": "execute_result"
    }
   ],
   "source": [
    "lr = LinearRegression()\n",
    "lr.fit(X_train_scaled,y_train)\n",
    "lr.score(X_train_scaled,y_train), lr.score(scaler.transform(X_val),y_val)"
   ]
  },
  {
   "cell_type": "code",
   "execution_count": 67,
   "metadata": {},
   "outputs": [
    {
     "data": {
      "text/plain": [
       "[('budget', 10.464848245790677),\n",
       " ('runtime', -0.0941451609625184),\n",
       " ('film_count_d', 0.16514664655297012),\n",
       " ('avg_rating_d', -0.6155009682176027),\n",
       " ('avg_gross_d', -0.2927741422288692),\n",
       " ('T_movie_age', -1.7480159505663442)]"
      ]
     },
     "execution_count": 67,
     "metadata": {},
     "output_type": "execute_result"
    }
   ],
   "source": [
    "list(zip((con_feature),lr.coef_))"
   ]
  },
  {
   "cell_type": "code",
   "execution_count": null,
   "metadata": {},
   "outputs": [],
   "source": []
  },
  {
   "cell_type": "markdown",
   "metadata": {},
   "source": [
    "### * Polynomial Fearues\n",
    "(degree=2): Adding interaction terms and second order feature."
   ]
  },
  {
   "cell_type": "code",
   "execution_count": 68,
   "metadata": {},
   "outputs": [
    {
     "data": {
      "text/plain": [
       "(0.6718062091997166, 0.29487837288526986)"
      ]
     },
     "execution_count": 68,
     "metadata": {},
     "output_type": "execute_result"
    }
   ],
   "source": [
    "# Only with interaction terms\n",
    "from sklearn.preprocessing import PolynomialFeatures\n",
    "\n",
    "poly = PolynomialFeatures(degree=2,interaction_only = True)\n",
    "\n",
    "X_train_poly = poly.fit_transform(X_train_scaled)\n",
    "X_val_poly = poly.transform(X_val_scaled)\n",
    "\n",
    "lr.fit(X_train_poly,y_train)\n",
    "lr.score(X_train_poly,y_train), lr.score(X_val_poly,y_val)"
   ]
  },
  {
   "cell_type": "code",
   "execution_count": 69,
   "metadata": {},
   "outputs": [],
   "source": [
    "# increased train score, but decreased val score.\n",
    "# overfitting"
   ]
  },
  {
   "cell_type": "code",
   "execution_count": 70,
   "metadata": {},
   "outputs": [
    {
     "data": {
      "text/plain": [
       "(0.6931516456270843, 0.381656989121977)"
      ]
     },
     "execution_count": 70,
     "metadata": {},
     "output_type": "execute_result"
    }
   ],
   "source": [
    "from sklearn.preprocessing import PolynomialFeatures\n",
    "\n",
    "poly = PolynomialFeatures(degree=2,interaction_only = False)\n",
    "\n",
    "X_train_poly = poly.fit_transform(X_train_scaled)\n",
    "X_val_poly = poly.transform(X_val_scaled)\n",
    "\n",
    "lr.fit(X_train_poly,y_train)\n",
    "lr.score(X_train_poly,y_train), lr.score(X_val_poly,y_val)"
   ]
  },
  {
   "cell_type": "code",
   "execution_count": 71,
   "metadata": {},
   "outputs": [],
   "source": [
    "# overfitting even more"
   ]
  },
  {
   "cell_type": "code",
   "execution_count": null,
   "metadata": {},
   "outputs": [],
   "source": []
  },
  {
   "cell_type": "markdown",
   "metadata": {},
   "source": [
    "## 3. Intermediate Feature Engineering: Categorical features\n",
    "Use `OneHotEncoder` or `pd.get_dummies(df['column'])` to treat categorical variables"
   ]
  },
  {
   "cell_type": "markdown",
   "metadata": {},
   "source": [
    "### 1. genre"
   ]
  },
  {
   "cell_type": "code",
   "execution_count": 72,
   "metadata": {},
   "outputs": [],
   "source": [
    "# Get the data from all_df with both continuous and categorical variables\n",
    "df = all_df[['opening_weekend_usa'] + con_feature + ['genre']]\n",
    "# df = all_df[['rating'] + con_feature + con_book_feature + ['genre']]\n",
    "# df = all_df[['gross_usa'] + con_feature + con_book_feature + ['genre']]\n",
    "X, y = get_Xy(df)"
   ]
  },
  {
   "cell_type": "code",
   "execution_count": 73,
   "metadata": {},
   "outputs": [],
   "source": [
    "# train_test_split\n",
    "X_, X_test, y_, y_test = train_test_split(X, y, test_size=.2, random_state=13)\n",
    "X_train, X_val, y_train, y_val = train_test_split(X_, y_, test_size=.25, random_state=3)\n",
    "\n",
    "\n",
    "# Train set\n",
    "# Convert genre to dummies\n",
    "X_train_genre = X_train['genre'].str.join(sep='*').str.get_dummies(sep='*')\n",
    "\n",
    "# Scaling continuous variables\n",
    "X_train_con = X_train[con_feature]\n",
    "X_train_con_scaled = scaler.fit_transform(X_train_con)\n",
    "X_train_con_scaled_df = pd.DataFrame(X_train_con_scaled, columns=X_train_con.columns, index=X_train_con.index)\n",
    "\n",
    "#Combine\n",
    "X_train = pd.concat([X_train_genre,X_train_con_scaled_df],axis=1).drop(columns=['Other'])\n",
    "\n",
    "\n",
    "\n",
    "# Val set\n",
    "# Convert genre to dummies\n",
    "X_val_genre = X_val['genre'].str.join(sep='*').str.get_dummies(sep='*')\n",
    "\n",
    "# Scaling continuous variables\n",
    "X_val_con = X_val[con_feature]\n",
    "X_val_con_scaled = scaler.fit_transform(X_val_con)\n",
    "X_val_con_scaled_df = pd.DataFrame(X_val_con_scaled, columns=X_val_con.columns, index=X_val_con.index)\n",
    "\n",
    "#Combine\n",
    "X_val = pd.concat([X_val_genre,X_val_con_scaled_df],axis=1).drop(columns=['Other'])"
   ]
  },
  {
   "cell_type": "code",
   "execution_count": 74,
   "metadata": {},
   "outputs": [
    {
     "name": "stdout",
     "output_type": "stream",
     "text": [
      "\n",
      "Train R^2 score was: 0.428864683030736\n",
      "Validation R^2 score was: 0.12983969882953772\n",
      "Feature coefficient results: \n",
      "\n",
      "budget : 1.68\n",
      "runtime : 4.32\n",
      "film_count_d : 1.50\n",
      "avg_rating_d : 0.92\n",
      "avg_gross_d : 0.79\n",
      "T_movie_age : 5.02\n",
      "genre : 4.54\n"
     ]
    },
    {
     "data": {
      "image/png": "[encoded data removed]",
      "text/plain": [
       "<Figure size 432x288 with 1 Axes>"
      ]
     },
     "metadata": {},
     "output_type": "display_data"
    }
   ],
   "source": [
    "get_score(X_train, X_val, y_train, y_val)"
   ]
  },
  {
   "cell_type": "code",
   "execution_count": null,
   "metadata": {},
   "outputs": [],
   "source": []
  },
  {
   "cell_type": "markdown",
   "metadata": {},
   "source": [
    "### 2. MPAA rating"
   ]
  },
  {
   "cell_type": "code",
   "execution_count": 75,
   "metadata": {},
   "outputs": [],
   "source": [
    "# Get the data from all_df with both continuous and categorical variables\n",
    "# df = all_df[['opening_weekend_usa'] + con_feature + ['MPAA']]\n",
    "df = all_df[['opening_weekend_usa'] + con_feature + ['genre'] + ['MPAA']]\n",
    "# df = all_df[['rating'] + con_feature + con_book_feature + ['genre']]\n",
    "# df = all_df[['gross_usa'] + con_feature + con_book_feature + ['genre']]\n",
    "X, y = get_Xy(df)"
   ]
  },
  {
   "cell_type": "code",
   "execution_count": 76,
   "metadata": {},
   "outputs": [],
   "source": [
    "# train_test_split\n",
    "X_, X_test, y_, y_test = train_test_split(X, y, test_size=.2, random_state=13)\n",
    "X_train, X_val, y_train, y_val = train_test_split(X_, y_, test_size=.25, random_state=3)\n",
    "\n",
    "\n",
    "# Train set\n",
    "# Convert genre to dummies\n",
    "X_train_genre = X_train['MPAA'].str.join(sep='*').str.get_dummies(sep='*')\n",
    "\n",
    "# Scaling continuous variables\n",
    "X_train_con = X_train[con_feature]\n",
    "X_train_con_scaled = scaler.fit_transform(X_train_con)\n",
    "X_train_con_scaled_df = pd.DataFrame(X_train_con_scaled, columns=X_train_con.columns, index=X_train_con.index)\n",
    "\n",
    "#Combine\n",
    "X_train = pd.concat([X_train_genre,X_train_con_scaled_df],axis=1)\n",
    "\n",
    "\n",
    "\n",
    "# Val set\n",
    "# Convert genre to dummies\n",
    "X_val_genre = X_val['MPAA'].str.join(sep='*').str.get_dummies(sep='*')\n",
    "\n",
    "# Scaling continuous variables\n",
    "X_val_con = X_val[con_feature]\n",
    "X_val_con_scaled = scaler.fit_transform(X_val_con)\n",
    "X_val_con_scaled_df = pd.DataFrame(X_val_con_scaled, columns=X_val_con.columns, index=X_val_con.index)\n",
    "\n",
    "#Combine\n",
    "X_val = pd.concat([X_val_genre,X_val_con_scaled_df],axis=1)"
   ]
  },
  {
   "cell_type": "code",
   "execution_count": 77,
   "metadata": {},
   "outputs": [
    {
     "name": "stdout",
     "output_type": "stream",
     "text": [
      "\n",
      "Train R^2 score was: 0.4084176289167277\n",
      "Validation R^2 score was: 0.16264378460141238\n",
      "Feature coefficient results: \n",
      "\n",
      "budget : -0.11\n",
      "runtime : -0.11\n",
      "film_count_d : -0.11\n",
      "avg_rating_d : 1.14\n",
      "avg_gross_d : 0.21\n",
      "T_movie_age : 1.14\n",
      "genre : -1.35\n",
      "MPAA : 0.21\n"
     ]
    },
    {
     "data": {
      "image/png": "[encoded data removed]",
      "text/plain": [
       "<Figure size 432x288 with 1 Axes>"
      ]
     },
     "metadata": {},
     "output_type": "display_data"
    }
   ],
   "source": [
    "get_score(X_train, X_val, y_train, y_val)"
   ]
  },
  {
   "cell_type": "code",
   "execution_count": null,
   "metadata": {},
   "outputs": [],
   "source": []
  },
  {
   "cell_type": "code",
   "execution_count": null,
   "metadata": {},
   "outputs": [],
   "source": []
  },
  {
   "cell_type": "markdown",
   "metadata": {},
   "source": [
    "### 3. language"
   ]
  },
  {
   "cell_type": "code",
   "execution_count": 78,
   "metadata": {},
   "outputs": [],
   "source": [
    "# Get the data from all_df with both continuous and categorical variables\n",
    "# df = all_df[['opening_weekend_usa'] + con_feature + ['language']]\n",
    "df = all_df[['opening_weekend_usa'] + con_feature + ['genre'] + ['MPAA'] + ['language']]\n",
    "# df = all_df[['gross_usa'] + con_feature + con_book_feature + ['genre']]\n",
    "X, y = get_Xy(df)"
   ]
  },
  {
   "cell_type": "code",
   "execution_count": 79,
   "metadata": {},
   "outputs": [],
   "source": [
    "# train_test_split\n",
    "X_, X_test, y_, y_test = train_test_split(X, y, test_size=.2, random_state=13)\n",
    "X_train, X_val, y_train, y_val = train_test_split(X_, y_, test_size=.25, random_state=3)\n",
    "\n",
    "\n",
    "# Train set\n",
    "# Convert genre to dummies\n",
    "X_train_genre = X_train['language'].str.join(sep='*').str.get_dummies(sep='*')\n",
    "\n",
    "# Scaling continuous variables\n",
    "X_train_con = X_train[con_feature]\n",
    "X_train_con_scaled = scaler.fit_transform(X_train_con)\n",
    "X_train_con_scaled_df = pd.DataFrame(X_train_con_scaled, columns=X_train_con.columns, index=X_train_con.index)\n",
    "\n",
    "#Combine\n",
    "X_train = pd.concat([X_train_genre,X_train_con_scaled_df],axis=1)\n",
    "\n",
    "\n",
    "\n",
    "# Val set\n",
    "# Convert genre to dummies\n",
    "X_val_genre = X_val['language'].str.join(sep='*').str.get_dummies(sep='*')\n",
    "\n",
    "# Scaling continuous variables\n",
    "X_val_con = X_val[con_feature]\n",
    "X_val_con_scaled = scaler.fit_transform(X_val_con)\n",
    "X_val_con_scaled_df = pd.DataFrame(X_val_con_scaled, columns=X_val_con.columns, index=X_val_con.index)\n",
    "\n",
    "#Combine\n",
    "X_val = pd.concat([X_val_genre,X_val_con_scaled_df],axis=1)"
   ]
  },
  {
   "cell_type": "code",
   "execution_count": 80,
   "metadata": {},
   "outputs": [
    {
     "name": "stdout",
     "output_type": "stream",
     "text": [
      "\n",
      "Train R^2 score was: 0.4112160864182015\n",
      "Validation R^2 score was: 0.12158104001641357\n",
      "Feature coefficient results: \n",
      "\n",
      "budget : 0.00\n",
      "runtime : 0.61\n",
      "film_count_d : -0.17\n",
      "avg_rating_d : 3.08\n",
      "avg_gross_d : -5.04\n",
      "T_movie_age : -2.59\n",
      "genre : 0.30\n",
      "MPAA : 11.05\n",
      "language : 0.32\n"
     ]
    },
    {
     "data": {
      "image/png": "[encoded data removed]",
      "text/plain": [
       "<Figure size 432x288 with 1 Axes>"
      ]
     },
     "metadata": {},
     "output_type": "display_data"
    }
   ],
   "source": [
    "get_score(X_train, X_val, y_train, y_val)"
   ]
  },
  {
   "cell_type": "code",
   "execution_count": null,
   "metadata": {},
   "outputs": [],
   "source": []
  },
  {
   "cell_type": "markdown",
   "metadata": {},
   "source": [
    "### 4. country"
   ]
  },
  {
   "cell_type": "code",
   "execution_count": 81,
   "metadata": {},
   "outputs": [],
   "source": [
    "# Get the data from all_df with both continuous and categorical variables\n",
    "df = all_df[['opening_weekend_usa'] + con_feature + ['country']]\n",
    "# df = all_df[['opening_weekend_usa'] + con_feature + ['genre'] + ['MPAA'] + ['language'] + ['country']]\n",
    "# df = all_df[['gross_usa'] + con_feature + con_book_feature + ['genre']]\n",
    "X, y = get_Xy(df)"
   ]
  },
  {
   "cell_type": "code",
   "execution_count": 82,
   "metadata": {},
   "outputs": [],
   "source": [
    "# train_test_split\n",
    "X_, X_test, y_, y_test = train_test_split(X, y, test_size=.2, random_state=13)\n",
    "X_train, X_val, y_train, y_val = train_test_split(X_, y_, test_size=.25, random_state=3)\n",
    "\n",
    "\n",
    "# Train set\n",
    "# Convert genre to dummies\n",
    "X_train_genre = X_train['country'].str.join(sep='*').str.get_dummies(sep='*')\n",
    "\n",
    "# Scaling continuous variables\n",
    "X_train_con = X_train[con_feature]\n",
    "X_train_con_scaled = scaler.fit_transform(X_train_con)\n",
    "X_train_con_scaled_df = pd.DataFrame(X_train_con_scaled, columns=X_train_con.columns, index=X_train_con.index)\n",
    "\n",
    "#Combine\n",
    "X_train = pd.concat([X_train_genre,X_train_con_scaled_df],axis=1)\n",
    "\n",
    "\n",
    "\n",
    "# Val set\n",
    "# Convert genre to dummies\n",
    "X_val_genre = X_val['country'].str.join(sep='*').str.get_dummies(sep='*')\n",
    "\n",
    "# Scaling continuous variables\n",
    "X_val_con = X_val[con_feature]\n",
    "X_val_con_scaled = scaler.fit_transform(X_val_con)\n",
    "X_val_con_scaled_df = pd.DataFrame(X_val_con_scaled, columns=X_val_con.columns, index=X_val_con.index)\n",
    "\n",
    "#Combine\n",
    "X_val = pd.concat([X_val_genre,X_val_con_scaled_df],axis=1)"
   ]
  },
  {
   "cell_type": "code",
   "execution_count": 83,
   "metadata": {},
   "outputs": [
    {
     "name": "stdout",
     "output_type": "stream",
     "text": [
      "\n",
      "Train R^2 score was: 0.4241796162532875\n",
      "Validation R^2 score was: 0.16313691942251207\n",
      "Feature coefficient results: \n",
      "\n",
      "budget : -0.86\n",
      "runtime : -3.30\n",
      "film_count_d : -3.25\n",
      "avg_rating_d : -5.01\n",
      "avg_gross_d : 0.45\n",
      "T_movie_age : 0.00\n",
      "country : 11.12\n"
     ]
    },
    {
     "data": {
      "image/png": "[encoded data removed]",
      "text/plain": [
       "<Figure size 432x288 with 1 Axes>"
      ]
     },
     "metadata": {},
     "output_type": "display_data"
    }
   ],
   "source": [
    "get_score(X_train, X_val, y_train, y_val)"
   ]
  },
  {
   "cell_type": "code",
   "execution_count": null,
   "metadata": {},
   "outputs": [],
   "source": []
  },
  {
   "cell_type": "markdown",
   "metadata": {},
   "source": [
    "### 5. distributor"
   ]
  },
  {
   "cell_type": "code",
   "execution_count": 84,
   "metadata": {},
   "outputs": [],
   "source": [
    "# Get the data from all_df with both continuous and categorical variables\n",
    "df = all_df[['opening_weekend_usa'] + con_feature + ['distributor']]\n",
    "# df = all_df[['opening_weekend_usa'] + con_feature + ['genre'] + ['MPAA'] + ['language'] + ['country'] + ['distributor']\n",
    "# df = all_df[['gross_usa'] + con_feature + con_book_feature + ['genre']]\n",
    "X, y = get_Xy(df)"
   ]
  },
  {
   "cell_type": "code",
   "execution_count": 85,
   "metadata": {},
   "outputs": [],
   "source": [
    "# train_test_split\n",
    "X_, X_test, y_, y_test = train_test_split(X, y, test_size=.2, random_state=13)\n",
    "X_train, X_val, y_train, y_val = train_test_split(X_, y_, test_size=.25, random_state=3)\n",
    "\n",
    "\n",
    "# Train set\n",
    "# Convert genre to dummies\n",
    "X_train_genre = X_train['distributor'].str.join(sep='*').str.get_dummies(sep='*')\n",
    "\n",
    "# Scaling continuous variables\n",
    "X_train_con = X_train[con_feature]\n",
    "X_train_con_scaled = scaler.fit_transform(X_train_con)\n",
    "X_train_con_scaled_df = pd.DataFrame(X_train_con_scaled, columns=X_train_con.columns, index=X_train_con.index)\n",
    "\n",
    "#Combine\n",
    "X_train = pd.concat([X_train_genre,X_train_con_scaled_df],axis=1)\n",
    "\n",
    "\n",
    "\n",
    "# Val set\n",
    "# Convert genre to dummies\n",
    "X_val_genre = X_val['distributor'].str.join(sep='*').str.get_dummies(sep='*')\n",
    "\n",
    "# Scaling continuous variables\n",
    "X_val_con = X_val[con_feature]\n",
    "X_val_con_scaled = scaler.fit_transform(X_val_con)\n",
    "X_val_con_scaled_df = pd.DataFrame(X_val_con_scaled, columns=X_val_con.columns, index=X_val_con.index)\n",
    "\n",
    "#Combine\n",
    "X_val = pd.concat([X_val_genre,X_val_con_scaled_df],axis=1)"
   ]
  },
  {
   "cell_type": "code",
   "execution_count": 86,
   "metadata": {},
   "outputs": [
    {
     "name": "stdout",
     "output_type": "stream",
     "text": [
      "\n",
      "Train R^2 score was: 0.4167862970298878\n",
      "Validation R^2 score was: 0.127143010554564\n",
      "Feature coefficient results: \n",
      "\n",
      "budget : -230625214507258.56\n",
      "runtime : 141987788440719.69\n",
      "film_count_d : -227950673556106.28\n",
      "avg_rating_d : -285650708181374.81\n",
      "avg_gross_d : 376251055688212.88\n",
      "T_movie_age : 331046641072038.62\n",
      "distributor : -501683319575818.56\n"
     ]
    },
    {
     "data": {
      "image/png": "[encoded data removed]",
      "text/plain": [
       "<Figure size 432x288 with 1 Axes>"
      ]
     },
     "metadata": {},
     "output_type": "display_data"
    }
   ],
   "source": [
    "get_score(X_train, X_val, y_train, y_val)"
   ]
  },
  {
   "cell_type": "code",
   "execution_count": null,
   "metadata": {},
   "outputs": [],
   "source": []
  },
  {
   "cell_type": "markdown",
   "metadata": {},
   "source": [
    "### 6. all categorical variable"
   ]
  },
  {
   "cell_type": "code",
   "execution_count": 87,
   "metadata": {},
   "outputs": [],
   "source": [
    "# Get the data from all_df with both continuous and categorical variables\n",
    "# df = all_df[['opening_weekend_usa'] + con_feature + ['genre'] + ['MPAA'] + ['language'] + ['country'] + ['distributor']]\n",
    "df = all_df[['opening_weekend_usa'] + con_feature + con_book_feature + \\\n",
    "            ['genre'] + ['MPAA'] + ['language'] + ['country'] + ['distributor']]\n",
    "# df = all_df[['gross_usa'] + con_feature + con_book_feature + ['genre']]\n",
    "X, y = get_Xy(df)\n",
    "\n",
    "\n",
    "\n",
    "# train_test_split\n",
    "X_, X_test, y_, y_test = train_test_split(X, y, test_size=.2, random_state=13)\n",
    "X_train, X_val, y_train, y_val = train_test_split(X_, y_, test_size=.25, random_state=3)\n",
    "\n",
    "\n",
    "# Train set\n",
    "# Convert all cat to dummies\n",
    "X_train_genre = X_train['genre'].str.join(sep='*').str.get_dummies(sep='*')\n",
    "X_train_MPAA = pd.get_dummies(X_train['MPAA'])\n",
    "X_train_language= X_train['language'].str.join(sep='*').str.get_dummies(sep='*')\n",
    "X_train_country = X_train['country'].str.join(sep='*').str.get_dummies(sep='*')\n",
    "X_train_distributor = pd.get_dummies(X_train['distributor'])\n",
    "\n",
    "# Scaling continuous variables\n",
    "X_train_con = X_train[con_feature + con_book_feature]\n",
    "X_train_con_scaled = scaler.fit_transform(X_train_con)\n",
    "X_train_con_scaled_df = pd.DataFrame(X_train_con_scaled, columns=X_train_con.columns, index=X_train_con.index)\n",
    "\n",
    "#Combine\n",
    "X_train = pd.concat([X_train_genre,X_train_MPAA, X_train_language, X_train_country, X_train_distributor,\\\n",
    "                     X_train_con_scaled_df],axis=1)\n",
    "\n",
    "\n",
    "\n",
    "# Val set\n",
    "# Convert genre to dummies\n",
    "X_val_genre = X_val['genre'].str.join(sep='*').str.get_dummies(sep='*')\n",
    "X_val_MPAA = pd.get_dummies(X_val['MPAA'])\n",
    "X_val_language= X_val['language'].str.join(sep='*').str.get_dummies(sep='*')\n",
    "X_val_country = X_val['country'].str.join(sep='*').str.get_dummies(sep='*')\n",
    "X_val_distributor = pd.get_dummies(X_val['distributor'])\n",
    "\n",
    "# Scaling continuous variables\n",
    "X_val_con = X_val[con_feature + con_book_feature]\n",
    "X_val_con_scaled = scaler.fit_transform(X_val_con)\n",
    "X_val_con_scaled_df = pd.DataFrame(X_val_con_scaled, columns=X_val_con.columns, index=X_val_con.index)\n",
    "\n",
    "#Combine\n",
    "X_val = pd.concat([X_val_genre,X_val_MPAA, X_val_language, X_val_country, X_val_distributor, \\\n",
    "                   X_val_con_scaled_df],axis=1)"
   ]
  },
  {
   "cell_type": "code",
   "execution_count": 88,
   "metadata": {},
   "outputs": [
    {
     "name": "stdout",
     "output_type": "stream",
     "text": [
      "\n",
      "Train R^2 score was: 0.49311931522655594\n",
      "Validation R^2 score was: 0.13111550034163233\n",
      "Feature coefficient results: \n",
      "\n",
      "budget : 0.92\n",
      "runtime : 4.81\n",
      "film_count_d : -0.65\n",
      "avg_rating_d : 0.27\n",
      "avg_gross_d : -0.00\n",
      "T_movie_age : 3.48\n",
      "T_book_age : 3.36\n",
      "publish_year : 0.63\n",
      "page : 0.20\n",
      "log_book_popularity : -3.46\n",
      "log_author_popularity : 1.52\n",
      "genre : 7.07\n",
      "MPAA : 4.23\n",
      "language : 21528296530844.95\n",
      "country : 21528296530844.70\n",
      "distributor : 21528296530844.14\n"
     ]
    },
    {
     "data": {
      "image/png": "[encoded data removed]",
      "text/plain": [
       "<Figure size 432x288 with 1 Axes>"
      ]
     },
     "metadata": {},
     "output_type": "display_data"
    }
   ],
   "source": [
    "get_score(X_train, X_val, y_train, y_val)"
   ]
  },
  {
   "cell_type": "code",
   "execution_count": 89,
   "metadata": {},
   "outputs": [],
   "source": [
    "def all_variable_score(df_type):\n",
    "    \n",
    "    \n",
    "    if df_type == 'movie only':\n",
    "        con = con_feature\n",
    "        df = all_df[['opening_weekend_usa'] + con_feature + ['genre'] + ['MPAA'] + ['language'] + ['country'] + ['distributor']]\n",
    "    \n",
    "    if df_type == 'movie+book':\n",
    "        con = con_feature + con_book_feature\n",
    "        df = all_df[['opening_weekend_usa'] + con_feature + con_book_feature + \\\n",
    "            ['genre'] + ['MPAA'] + ['language'] + ['country'] + ['distributor']]\n",
    "    \n",
    "    try:\n",
    "        X, y = get_Xy(df)\n",
    "    except UnboundLocalError:\n",
    "        print(\"Pick 'movie only' or 'movie+book'\")\n",
    "\n",
    "\n",
    "\n",
    "    # train_test_split\n",
    "    X_, X_test, y_, y_test = train_test_split(X, y, test_size=.2, random_state=13)\n",
    "    X_train, X_val, y_train, y_val = train_test_split(X_, y_, test_size=.25, random_state=3)\n",
    "\n",
    "\n",
    "    # Train set\n",
    "    # Convert all cat to dummies\n",
    "    X_train_genre = X_train['genre'].str.join(sep='*').str.get_dummies(sep='*')\n",
    "    X_train_MPAA = pd.get_dummies(X_train['MPAA'])\n",
    "    X_train_language= X_train['language'].str.join(sep='*').str.get_dummies(sep='*')\n",
    "    X_train_country = X_train['country'].str.join(sep='*').str.get_dummies(sep='*')\n",
    "    X_train_distributor = pd.get_dummies(X_train['distributor'])\n",
    "\n",
    "    # Scaling continuous variables\n",
    "    X_train_con = X_train[con]\n",
    "    X_train_con_scaled = scaler.fit_transform(X_train_con)\n",
    "    X_train_con_scaled_df = pd.DataFrame(X_train_con_scaled, columns=X_train_con.columns, index=X_train_con.index)\n",
    "\n",
    "    #Combine\n",
    "    X_train = pd.concat([X_train_genre,X_train_MPAA, X_train_language, X_train_country, X_train_distributor,\\\n",
    "                         X_train_con_scaled_df],axis=1)\n",
    "\n",
    "\n",
    "\n",
    "    # Val set\n",
    "    # Convert genre to dummies\n",
    "    X_val_genre = X_val['genre'].str.join(sep='*').str.get_dummies(sep='*')\n",
    "    X_val_MPAA = pd.get_dummies(X_val['MPAA'])\n",
    "    X_val_language= X_val['language'].str.join(sep='*').str.get_dummies(sep='*')\n",
    "    X_val_country = X_val['country'].str.join(sep='*').str.get_dummies(sep='*')\n",
    "    X_val_distributor = pd.get_dummies(X_val['distributor'])\n",
    "\n",
    "    # Scaling continuous variables\n",
    "    X_val_con = X_val[con]\n",
    "    X_val_con_scaled = scaler.fit_transform(X_val_con)\n",
    "    X_val_con_scaled_df = pd.DataFrame(X_val_con_scaled, columns=X_val_con.columns, index=X_val_con.index)\n",
    "\n",
    "    #Combine\n",
    "    X_val = pd.concat([X_val_genre,X_val_MPAA, X_val_language, X_val_country, X_val_distributor, \\\n",
    "                       X_val_con_scaled_df],axis=1)\n",
    "    \n",
    "    return get_score(X_train, X_val, y_train, y_val)"
   ]
  },
  {
   "cell_type": "code",
   "execution_count": 90,
   "metadata": {},
   "outputs": [
    {
     "name": "stdout",
     "output_type": "stream",
     "text": [
      "\n",
      "Train R^2 score was: 0.48128831262490235\n",
      "Validation R^2 score was: 0.09978037482680457\n",
      "Feature coefficient results: \n",
      "\n",
      "budget : 1.56\n",
      "runtime : 5.15\n",
      "film_count_d : -0.31\n",
      "avg_rating_d : 1.00\n",
      "avg_gross_d : 0.89\n",
      "T_movie_age : 4.40\n",
      "T_book_age : 3.63\n",
      "publish_year : 1.96\n",
      "page : 0.52\n",
      "log_book_popularity : -3.00\n",
      "log_author_popularity : 1.99\n",
      "genre : 5.29\n",
      "MPAA : 4.94\n",
      "language : 24040889821885.79\n",
      "country : 24040889821886.58\n",
      "distributor : 24040889821887.43\n"
     ]
    },
    {
     "data": {
      "image/png": "[encoded data removed]",
      "text/plain": [
       "<Figure size 432x288 with 1 Axes>"
      ]
     },
     "metadata": {},
     "output_type": "display_data"
    }
   ],
   "source": [
    "all_variable_score('movie only')"
   ]
  },
  {
   "cell_type": "code",
   "execution_count": 91,
   "metadata": {},
   "outputs": [
    {
     "name": "stdout",
     "output_type": "stream",
     "text": [
      "\n",
      "Train R^2 score was: 0.49311931522655594\n",
      "Validation R^2 score was: 0.13111550034163233\n",
      "Feature coefficient results: \n",
      "\n",
      "budget : 0.92\n",
      "runtime : 4.81\n",
      "film_count_d : -0.65\n",
      "avg_rating_d : 0.27\n",
      "avg_gross_d : -0.00\n",
      "T_movie_age : 3.48\n",
      "T_book_age : 3.36\n",
      "publish_year : 0.63\n",
      "page : 0.20\n",
      "log_book_popularity : -3.46\n",
      "log_author_popularity : 1.52\n",
      "genre : 7.07\n",
      "MPAA : 4.23\n",
      "language : 21528296530844.95\n",
      "country : 21528296530844.70\n",
      "distributor : 21528296530844.14\n"
     ]
    },
    {
     "data": {
      "image/png": "[encoded data removed]",
      "text/plain": [
       "<Figure size 432x288 with 1 Axes>"
      ]
     },
     "metadata": {},
     "output_type": "display_data"
    }
   ],
   "source": [
    "all_variable_score('movie+book')"
   ]
  },
  {
   "cell_type": "code",
   "execution_count": null,
   "metadata": {},
   "outputs": [],
   "source": []
  },
  {
   "cell_type": "code",
   "execution_count": null,
   "metadata": {},
   "outputs": [],
   "source": []
  },
  {
   "cell_type": "markdown",
   "metadata": {},
   "source": [
    "## 4. Incorporate Polynomial Features"
   ]
  },
  {
   "cell_type": "code",
   "execution_count": 115,
   "metadata": {},
   "outputs": [],
   "source": [
    "from sklearn.preprocessing import PolynomialFeatures\n",
    "poly = PolynomialFeatures(degree=2,interaction_only = True)\n",
    "\n",
    "\n",
    "# Get the data from all_df with both continuous and categorical variables\n",
    "# df = all_df[['opening_weekend_usa'] + con_feature + ['genre'] + ['MPAA'] + ['language'] + ['country'] + ['distributor']]\n",
    "df = all_df[['opening_weekend_usa'] + con_feature + con_book_feature + \\\n",
    "            ['genre'] + ['MPAA'] + ['language'] + ['country'] + ['distributor']]\n",
    "# df = all_df[['gross_usa'] + con_feature + con_book_feature + ['genre']]\n",
    "X, y = get_Xy(df)\n",
    "\n",
    "\n",
    "\n",
    "# train_test_split\n",
    "X_, X_test, y_, y_test = train_test_split(X, y, test_size=.2, random_state=13)\n",
    "X_train, X_val, y_train, y_val = train_test_split(X_, y_, test_size=.25, random_state=3)\n",
    "\n",
    "\n",
    "# Train set\n",
    "# Convert all cat to dummies\n",
    "X_train_genre = X_train['genre'].str.join(sep='*').str.get_dummies(sep='*')\n",
    "X_train_MPAA = pd.get_dummies(X_train['MPAA'])\n",
    "X_train_language= X_train['language'].str.join(sep='*').str.get_dummies(sep='*')\n",
    "X_train_country = X_train['country'].str.join(sep='*').str.get_dummies(sep='*')\n",
    "X_train_distributor = pd.get_dummies(X_train['distributor'])\n",
    "\n",
    "# Scaling continuous variables\n",
    "X_train_con = X_train[con_feature + con_book_feature]\n",
    "X_train_con_scaled = poly.fit_transform(scaler.fit_transform(X_train_con)) # standardscalar and polyfeatrues\n",
    "poly_column = poly.get_feature_names(con_feature+con_book_feature) # poly coef columns\n",
    "X_train_con_scaled_df = pd.DataFrame(X_train_con_scaled, columns = poly_column,\\\n",
    "                                     index=X_train_con.index)\n",
    "\n",
    "#Combine\n",
    "X_train = pd.concat([X_train_genre,X_train_MPAA, X_train_language, X_train_country, X_train_distributor,\\\n",
    "                     X_train_con_scaled_df],axis=1)\n",
    "\n",
    "\n",
    "\n",
    "# Val set\n",
    "# Convert genre to dummies\n",
    "X_val_genre = X_val['genre'].str.join(sep='*').str.get_dummies(sep='*')\n",
    "X_val_MPAA = pd.get_dummies(X_val['MPAA'])\n",
    "X_val_language= X_val['language'].str.join(sep='*').str.get_dummies(sep='*')\n",
    "X_val_country = X_val['country'].str.join(sep='*').str.get_dummies(sep='*')\n",
    "X_val_distributor = pd.get_dummies(X_val['distributor'])\n",
    "\n",
    "# Scaling continuous variables\n",
    "X_val_con = X_val[con_feature + con_book_feature]\n",
    "X_val_con_scaled = poly.transform(scaler.fit_transform(X_val_con)) # standardscalar and polyfeatrues\n",
    "poly_column = poly.get_feature_names(con_feature+con_book_feature) # poly coef columns\n",
    "X_val_con_scaled_df = pd.DataFrame(X_val_con_scaled, columns = poly_column,\\\n",
    "                                   index=X_val_con.index)\n",
    "\n",
    "#Combine\n",
    "X_val = pd.concat([X_val_genre,X_val_MPAA, X_val_language, X_val_country, X_val_distributor, \\\n",
    "                   X_val_con_scaled_df],axis=1)"
   ]
  },
  {
   "cell_type": "code",
   "execution_count": 116,
   "metadata": {},
   "outputs": [
    {
     "name": "stdout",
     "output_type": "stream",
     "text": [
      "\n",
      "Train R^2 score was: 0.6211979580799024\n",
      "Validation R^2 score was: -0.12862361952267976\n",
      "Feature coefficient results: \n",
      "\n",
      "budget : 0.67\n",
      "runtime : 6.45\n",
      "film_count_d : -1.47\n",
      "avg_rating_d : 1.26\n",
      "avg_gross_d : -2.13\n",
      "T_movie_age : 3.83\n",
      "T_book_age : 0.47\n",
      "publish_year : 2.50\n",
      "page : -1.15\n",
      "log_book_popularity : -1.29\n",
      "log_author_popularity : 3.03\n",
      "genre : 7.32\n",
      "MPAA : 4.22\n",
      "language : 152449920663144.56\n",
      "country : 152449920663141.22\n",
      "distributor : 152449920663144.53\n"
     ]
    },
    {
     "data": {
      "image/png": "[encoded data removed]",
      "text/plain": [
       "<Figure size 432x288 with 1 Axes>"
      ]
     },
     "metadata": {},
     "output_type": "display_data"
    }
   ],
   "source": [
    "get_score(X_train, X_val, y_train, y_val)"
   ]
  },
  {
   "cell_type": "code",
   "execution_count": null,
   "metadata": {},
   "outputs": [],
   "source": []
  },
  {
   "cell_type": "markdown",
   "metadata": {},
   "source": [
    "## 4. Regularization"
   ]
  },
  {
   "cell_type": "code",
   "execution_count": 94,
   "metadata": {},
   "outputs": [],
   "source": [
    "from sklearn.model_selection import train_test_split\n",
    "from sklearn.linear_model import LinearRegression, Lasso, LassoCV, Ridge, RidgeCV\n",
    "from sklearn.metrics import r2_score"
   ]
  },
  {
   "cell_type": "markdown",
   "metadata": {},
   "source": [
    "### * Ridge"
   ]
  },
  {
   "cell_type": "code",
   "execution_count": 95,
   "metadata": {},
   "outputs": [],
   "source": [
    "## Fit a Ridge model on the standardized data\n",
    "\n",
    "# ridge_model = Ridge(alpha = 0.001)\n",
    "# ridge_model.fit(X_train,y_train)\n",
    "# list(zip(X_train.columns, ridge_model.coef_))"
   ]
  },
  {
   "cell_type": "code",
   "execution_count": 96,
   "metadata": {},
   "outputs": [
    {
     "name": "stdout",
     "output_type": "stream",
     "text": [
      "The best value of alpha is: 100.0\n"
     ]
    }
   ],
   "source": [
    "# Run the cross validation, find the best alpha, refit the model on all the data with that alpha\n",
    "\n",
    "alphavec = 10**np.linspace(-2,2,1000)\n",
    "\n",
    "ridge_model = RidgeCV(alphas = alphavec, cv=5)\n",
    "ridge_model.fit(X_train, y_train)\n",
    "print('The best value of alpha is:', ridge_model.alpha_)"
   ]
  },
  {
   "cell_type": "code",
   "execution_count": 97,
   "metadata": {},
   "outputs": [
    {
     "data": {
      "text/plain": [
       "[(0, 0.0),\n",
       " (1, 6.531231685372831),\n",
       " (2, 0.4004549043459629),\n",
       " (3, -0.5015410955466073),\n",
       " (4, 0.36267501454771783),\n",
       " (5, 0.48216275472537745),\n",
       " (6, -1.0448821819578058),\n",
       " (7, -0.8721311601339262),\n",
       " (8, 0.580168005586828),\n",
       " (9, 0.20665767582434386),\n",
       " (10, 0.757751309647009),\n",
       " (11, 0.1435279929109666),\n",
       " (12, 2.4007999799469912),\n",
       " (13, 1.1127964650585553),\n",
       " (14, 0.9668786352879757),\n",
       " (15, 0.4859141373977446),\n",
       " (16, -1.0769604179340626),\n",
       " (17, 0.4140220170354652),\n",
       " (18, -0.9915228154578952),\n",
       " (19, 0.16086636358110773),\n",
       " (20, 2.166091773750651),\n",
       " (21, -1.4505447139903207),\n",
       " (22, -0.23706741033278472),\n",
       " (23, -1.1976209171665964),\n",
       " (24, 0.29350637869716095),\n",
       " (25, 0.13084166751391146),\n",
       " (26, -1.2110559105687637),\n",
       " (27, -0.13280055236077817),\n",
       " (28, 0.259699914856593),\n",
       " (29, 0.3048109645260327),\n",
       " (30, 0.8778132263739896),\n",
       " (31, -0.11468616569235969),\n",
       " (32, -0.270721934619506),\n",
       " (33, 0.24394579604599476),\n",
       " (34, 0.6257903067600532),\n",
       " (35, -0.4379498360629471),\n",
       " (36, -0.03644548701858205),\n",
       " (37, -0.1345678793511082),\n",
       " (38, -0.540139862519155),\n",
       " (39, -0.6790629262937566),\n",
       " (40, -0.3741538605759408),\n",
       " (41, -0.8029185699563359),\n",
       " (42, -0.7394558387267047),\n",
       " (43, 0.6127644815981247),\n",
       " (44, -0.3530067758563528),\n",
       " (45, 0.1830246118170666),\n",
       " (46, 0.5958833154114296),\n",
       " (47, 0.20089764206379407),\n",
       " (48, 0.7747841241220622),\n",
       " (49, -0.8437389729180828),\n",
       " (50, -0.6198203903727015),\n",
       " (51, -0.6457066233515972),\n",
       " (52, -0.00560899814307927),\n",
       " (53, -0.4035434768667965),\n",
       " (54, 0.45562068109207443),\n",
       " (55, -0.42118482206413654),\n",
       " (56, -0.5131169363457492),\n",
       " (57, -0.4409684040756946),\n",
       " (58, 0.18807822609010633),\n",
       " (59, 0.08107520551242656),\n",
       " (60, -0.21272870997575502),\n",
       " (61, -0.0500197341646081),\n",
       " (62, 0.8013234905948593),\n",
       " (63, 0.5224812225969019),\n",
       " (64, 0.013053963377828064),\n",
       " (65, -0.017113728291020085),\n",
       " (66, -0.15725235296577705)]"
      ]
     },
     "execution_count": 97,
     "metadata": {},
     "output_type": "execute_result"
    }
   ],
   "source": [
    "# Fit Ridge model once again with the best alpha\n",
    "ridge_model = Ridge(alpha = 100)\n",
    "ridge_model.fit(X_train_con_scaled_df,y_train)\n",
    "list(zip(X_train_con_scaled_df.columns, ridge_model.coef_))"
   ]
  },
  {
   "cell_type": "code",
   "execution_count": 98,
   "metadata": {},
   "outputs": [
    {
     "data": {
      "text/plain": [
       "0.13834901304783098"
      ]
     },
     "execution_count": 98,
     "metadata": {},
     "output_type": "execute_result"
    }
   ],
   "source": [
    "val_pred = ridge_model.predict(X_val_con_scaled_df)\n",
    "r2_score(y_val, val_pred)"
   ]
  },
  {
   "cell_type": "code",
   "execution_count": 99,
   "metadata": {},
   "outputs": [
    {
     "name": "stdout",
     "output_type": "stream",
     "text": [
      "\n",
      "Train R^2 score was: 0.6211979580799024\n",
      "Validation R^2 score was: -0.12862361952267976\n",
      "Feature coefficient results: \n",
      "\n",
      "budget : 0.67\n",
      "runtime : 6.45\n",
      "film_count_d : -1.47\n",
      "avg_rating_d : 1.26\n",
      "avg_gross_d : -2.13\n",
      "T_movie_age : 3.83\n",
      "T_book_age : 0.47\n",
      "publish_year : 2.50\n",
      "page : -1.15\n",
      "log_book_popularity : -1.29\n",
      "log_author_popularity : 3.03\n",
      "genre : 7.32\n",
      "MPAA : 4.22\n",
      "language : 152449920663144.56\n",
      "country : 152449920663141.22\n",
      "distributor : 152449920663144.53\n"
     ]
    },
    {
     "data": {
      "image/png": "[encoded data removed]",
      "text/plain": [
       "<Figure size 432x288 with 1 Axes>"
      ]
     },
     "metadata": {},
     "output_type": "display_data"
    }
   ],
   "source": [
    "get_score(X_train, X_val, y_train, y_val)"
   ]
  },
  {
   "cell_type": "code",
   "execution_count": null,
   "metadata": {},
   "outputs": [],
   "source": []
  },
  {
   "cell_type": "markdown",
   "metadata": {},
   "source": [
    "### * LASSO"
   ]
  },
  {
   "cell_type": "code",
   "execution_count": 117,
   "metadata": {},
   "outputs": [
    {
     "name": "stderr",
     "output_type": "stream",
     "text": [
      "/opt/anaconda3/lib/python3.8/site-packages/sklearn/linear_model/_coordinate_descent.py:529: ConvergenceWarning: Objective did not converge. You might want to increase the number of iterations. Duality gap: 1179.5525622596615, tolerance: 10.73292685660009\n",
      "  model = cd_fast.enet_coordinate_descent(\n"
     ]
    },
    {
     "data": {
      "text/plain": [
       "[('1', 0.0),\n",
       " ('budget', 9.511484489922285),\n",
       " ('runtime', 0.9823952648668407),\n",
       " ('film_count_d', -0.8334378381093274),\n",
       " ('avg_rating_d', 0.28150659641641246),\n",
       " ('avg_gross_d', 0.9073787119228397),\n",
       " ('T_movie_age', -0.15525379017947857),\n",
       " ('T_book_age', -2.4108013953228444),\n",
       " ('publish_year', 1.280773115422568),\n",
       " ('page', -0.6099760687958559),\n",
       " ('log_book_popularity', 0.47178244504938316),\n",
       " ('log_author_popularity', 1.0778962985864864),\n",
       " ('budget runtime', 3.6382595861400997),\n",
       " ('budget film_count_d', 1.4415693343545661),\n",
       " ('budget avg_rating_d', 1.8291176222924808),\n",
       " ('budget avg_gross_d', -0.7305444823105672),\n",
       " ('budget T_movie_age', 0.2558070745679408),\n",
       " ('budget T_book_age', -4.38501402184217),\n",
       " ('budget publish_year', -4.948449982829456),\n",
       " ('budget page', -0.6431990624360868),\n",
       " ('budget log_book_popularity', 4.785220567595745),\n",
       " ('budget log_author_popularity', -3.339440678187307),\n",
       " ('runtime film_count_d', -1.176099917061404),\n",
       " ('runtime avg_rating_d', -1.8937531180571885),\n",
       " ('runtime avg_gross_d', 0.28202407621750686),\n",
       " ('runtime T_movie_age', 1.5922072021374287),\n",
       " ('runtime T_book_age', -7.309404087293178),\n",
       " ('runtime publish_year', -6.4906421023955465),\n",
       " ('runtime page', -0.24505103463247715),\n",
       " ('runtime log_book_popularity', -0.41198465957882396),\n",
       " ('runtime log_author_popularity', 1.7554844485555365),\n",
       " ('film_count_d avg_rating_d', -0.7350472825034146),\n",
       " ('film_count_d avg_gross_d', 0.317819544003503),\n",
       " ('film_count_d T_movie_age', -0.11026818143587984),\n",
       " ('film_count_d T_book_age', 4.068357084528926),\n",
       " ('film_count_d publish_year', 2.2420751065611335),\n",
       " ('film_count_d page', 0.21966901370434816),\n",
       " ('film_count_d log_book_popularity', 0.26383480344712534),\n",
       " ('film_count_d log_author_popularity', -0.8558449611418875),\n",
       " ('avg_rating_d avg_gross_d', -1.1743166117675041),\n",
       " ('avg_rating_d T_movie_age', 0.14896539001513462),\n",
       " ('avg_rating_d T_book_age', -4.67437718420641),\n",
       " ('avg_rating_d publish_year', -4.786193430314227),\n",
       " ('avg_rating_d page', 0.8858861725515413),\n",
       " ('avg_rating_d log_book_popularity', -1.3059785506817463),\n",
       " ('avg_rating_d log_author_popularity', 1.079744930847288),\n",
       " ('avg_gross_d T_movie_age', 0.41412089578941036),\n",
       " ('avg_gross_d T_book_age', 1.1327864501931182),\n",
       " ('avg_gross_d publish_year', 0.6072946623147912),\n",
       " ('avg_gross_d page', -0.6871985632610922),\n",
       " ('avg_gross_d log_book_popularity', -1.330583657486985),\n",
       " ('avg_gross_d log_author_popularity', 0.5044189277587984),\n",
       " ('T_movie_age T_book_age', -3.561425733935295),\n",
       " ('T_movie_age publish_year', -4.7467514839930285),\n",
       " ('T_movie_age page', 0.6972742556159162),\n",
       " ('T_movie_age log_book_popularity', -0.7199279034673189),\n",
       " ('T_movie_age log_author_popularity', 0.028721720991824958),\n",
       " ('T_book_age publish_year', -1.617912130494219),\n",
       " ('T_book_age page', 0.8374597701220968),\n",
       " ('T_book_age log_book_popularity', 2.817678384046144),\n",
       " ('T_book_age log_author_popularity', 0.2576465266651365),\n",
       " ('publish_year page', -0.16177410638818418),\n",
       " ('publish_year log_book_popularity', 4.786395737256601),\n",
       " ('publish_year log_author_popularity', 0.6974434195210022),\n",
       " ('page log_book_popularity', -0.9079869209976291),\n",
       " ('page log_author_popularity', 0.12202776562467951),\n",
       " ('log_book_popularity log_author_popularity', -0.06526339122219262)]"
      ]
     },
     "execution_count": 117,
     "metadata": {},
     "output_type": "execute_result"
    }
   ],
   "source": [
    "lasso_model = Lasso(alpha = 0.001)\n",
    "lasso_model.fit(X_train_con_scaled_df,y_train)\n",
    "list(zip(X_train_con_scaled_df.columns, lasso_model.coef_))"
   ]
  },
  {
   "cell_type": "code",
   "execution_count": 118,
   "metadata": {},
   "outputs": [
    {
     "name": "stdout",
     "output_type": "stream",
     "text": [
      "The best value of alpha is: 2.066880249629082\n"
     ]
    }
   ],
   "source": [
    "# Run the cross validation, find the best alpha, refit the model on all the data with that alpha\n",
    "\n",
    "\n",
    "alphavec = 10**np.linspace(-5,5,1000)\n",
    "\n",
    "lasso_model = LassoCV(alphas = alphavec, cv=5)\n",
    "lasso_model.fit(X_train_con_scaled_df, y_train)\n",
    "print('The best value of alpha is:', lasso_model.alpha_)"
   ]
  },
  {
   "cell_type": "code",
   "execution_count": 119,
   "metadata": {},
   "outputs": [
    {
     "data": {
      "text/plain": [
       "[('1', 0.0),\n",
       " ('budget', 8.509991204575927),\n",
       " ('runtime', 0.0),\n",
       " ('film_count_d', -0.0),\n",
       " ('avg_rating_d', 0.0),\n",
       " ('avg_gross_d', 0.0),\n",
       " ('T_movie_age', -0.0),\n",
       " ('T_book_age', -0.0),\n",
       " ('publish_year', 0.0),\n",
       " ('page', 0.0),\n",
       " ('log_book_popularity', 0.0),\n",
       " ('log_author_popularity', 0.0),\n",
       " ('budget runtime', 1.208366549466814),\n",
       " ('budget film_count_d', 0.0),\n",
       " ('budget avg_rating_d', 0.0),\n",
       " ('budget avg_gross_d', 0.0),\n",
       " ('budget T_movie_age', -0.0),\n",
       " ('budget T_book_age', 0.0),\n",
       " ('budget publish_year', -0.0),\n",
       " ('budget page', 0.0),\n",
       " ('budget log_book_popularity', 0.0),\n",
       " ('budget log_author_popularity', -0.0),\n",
       " ('runtime film_count_d', 0.0),\n",
       " ('runtime avg_rating_d', -0.0),\n",
       " ('runtime avg_gross_d', 0.0),\n",
       " ('runtime T_movie_age', -0.0),\n",
       " ('runtime T_book_age', -0.0),\n",
       " ('runtime publish_year', 0.0),\n",
       " ('runtime page', 0.0),\n",
       " ('runtime log_book_popularity', 0.0),\n",
       " ('runtime log_author_popularity', 0.0),\n",
       " ('film_count_d avg_rating_d', 0.0),\n",
       " ('film_count_d avg_gross_d', 0.0),\n",
       " ('film_count_d T_movie_age', 0.0),\n",
       " ('film_count_d T_book_age', 0.0),\n",
       " ('film_count_d publish_year', -0.0),\n",
       " ('film_count_d page', 0.0),\n",
       " ('film_count_d log_book_popularity', -0.0),\n",
       " ('film_count_d log_author_popularity', -0.0),\n",
       " ('avg_rating_d avg_gross_d', 0.0),\n",
       " ('avg_rating_d T_movie_age', -0.0),\n",
       " ('avg_rating_d T_book_age', -0.0),\n",
       " ('avg_rating_d publish_year', -0.0),\n",
       " ('avg_rating_d page', 0.0),\n",
       " ('avg_rating_d log_book_popularity', 0.0),\n",
       " ('avg_rating_d log_author_popularity', -0.0),\n",
       " ('avg_gross_d T_movie_age', -0.0),\n",
       " ('avg_gross_d T_book_age', -0.0),\n",
       " ('avg_gross_d publish_year', 0.0),\n",
       " ('avg_gross_d page', -0.0),\n",
       " ('avg_gross_d log_book_popularity', -0.0),\n",
       " ('avg_gross_d log_author_popularity', -0.0),\n",
       " ('T_movie_age T_book_age', 0.0),\n",
       " ('T_movie_age publish_year', 0.0),\n",
       " ('T_movie_age page', 0.0),\n",
       " ('T_movie_age log_book_popularity', -0.0),\n",
       " ('T_movie_age log_author_popularity', -0.0),\n",
       " ('T_book_age publish_year', 0.0),\n",
       " ('T_book_age page', -0.0),\n",
       " ('T_book_age log_book_popularity', -0.0),\n",
       " ('T_book_age log_author_popularity', -0.0),\n",
       " ('publish_year page', 0.0),\n",
       " ('publish_year log_book_popularity', 0.0),\n",
       " ('publish_year log_author_popularity', 0.0),\n",
       " ('page log_book_popularity', 0.0),\n",
       " ('page log_author_popularity', 0.0),\n",
       " ('log_book_popularity log_author_popularity', -0.0)]"
      ]
     },
     "execution_count": 119,
     "metadata": {},
     "output_type": "execute_result"
    }
   ],
   "source": [
    "lasso_model = Lasso(alpha = 2.08)\n",
    "lasso_model.fit(X_train_con_scaled_df,y_train)\n",
    "list(zip(X_train_con_scaled_df.columns, lasso_model.coef_))"
   ]
  },
  {
   "cell_type": "code",
   "execution_count": 122,
   "metadata": {},
   "outputs": [
    {
     "data": {
      "text/plain": [
       "0.16617998526983158"
      ]
     },
     "execution_count": 122,
     "metadata": {},
     "output_type": "execute_result"
    }
   ],
   "source": [
    "val_pred = lasso_model.predict(X_val_con_scaled_df)\n",
    "r2_score(y_val, val_pred)"
   ]
  },
  {
   "cell_type": "code",
   "execution_count": null,
   "metadata": {},
   "outputs": [],
   "source": []
  },
  {
   "cell_type": "code",
   "execution_count": null,
   "metadata": {},
   "outputs": [],
   "source": []
  }
 ],
 "metadata": {
  "kernelspec": {
   "display_name": "Python 3",
   "language": "python",
   "name": "python3"
  },
  "language_info": {
   "codemirror_mode": {
    "name": "ipython",
    "version": 3
   },
   "file_extension": ".py",
   "mimetype": "text/x-python",
   "name": "python",
   "nbconvert_exporter": "python",
   "pygments_lexer": "ipython3",
   "version": "3.8.5"
  }
 },
 "nbformat": 4,
 "nbformat_minor": 4
}
