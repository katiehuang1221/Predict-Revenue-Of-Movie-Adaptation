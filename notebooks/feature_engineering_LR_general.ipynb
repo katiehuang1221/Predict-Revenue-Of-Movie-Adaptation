{
 "cells": [
  {
   "cell_type": "code",
   "execution_count": 2,
   "metadata": {},
   "outputs": [],
   "source": [
    "import pandas as pd\n",
    "import numpy as np\n",
    "import matplotlib.pyplot as plt\n",
    "import seaborn as sns\n",
    "sns.set()\n",
    "\n",
    "from sklearn.model_selection import train_test_split\n",
    "from sklearn.model_selection import cross_val_score\n",
    "from sklearn.linear_model import LinearRegression\n",
    "from sklearn.preprocessing import StandardScaler, PolynomialFeatures, OneHotEncoder\n",
    "from sklearn.pipeline import Pipeline\n",
    "from sklearn.model_selection import train_test_split\n",
    "from sklearn.linear_model import LinearRegression, Lasso, LassoCV, Ridge, RidgeCV\n",
    "from sklearn.metrics import r2_score"
   ]
  },
  {
   "cell_type": "markdown",
   "metadata": {},
   "source": [
    "## 1. Simple EDA and Baseline Model"
   ]
  },
  {
   "cell_type": "code",
   "execution_count": 889,
   "metadata": {},
   "outputs": [],
   "source": [
    "# Load the cleaned complete data\n",
    "all_df = pd.read_pickle('../dump/movie_data_general')"
   ]
  },
  {
   "cell_type": "code",
   "execution_count": 890,
   "metadata": {},
   "outputs": [],
   "source": [
    "# all_df.head()"
   ]
  },
  {
   "cell_type": "code",
   "execution_count": 891,
   "metadata": {},
   "outputs": [],
   "source": [
    "# convert unit of 'opening_weekend_usa' to million dollors\n",
    "all_df['opening_weekend_usa'] = all_df['opening_weekend_usa']/1e6"
   ]
  },
  {
   "cell_type": "code",
   "execution_count": 892,
   "metadata": {},
   "outputs": [
    {
     "data": {
      "text/html": [
       "<div>\n",
       "<style scoped>\n",
       "    .dataframe tbody tr th:only-of-type {\n",
       "        vertical-align: middle;\n",
       "    }\n",
       "\n",
       "    .dataframe tbody tr th {\n",
       "        vertical-align: top;\n",
       "    }\n",
       "\n",
       "    .dataframe thead th {\n",
       "        text-align: right;\n",
       "    }\n",
       "</style>\n",
       "<table border=\"1\" class=\"dataframe\">\n",
       "  <thead>\n",
       "    <tr style=\"text-align: right;\">\n",
       "      <th></th>\n",
       "      <th>rating</th>\n",
       "      <th>vote</th>\n",
       "      <th>metascore</th>\n",
       "      <th>budget</th>\n",
       "      <th>opening_weekend_usa</th>\n",
       "      <th>gross_usa</th>\n",
       "      <th>gross_world</th>\n",
       "      <th>runtime</th>\n",
       "    </tr>\n",
       "  </thead>\n",
       "  <tbody>\n",
       "    <tr>\n",
       "      <th>count</th>\n",
       "      <td>4999.000000</td>\n",
       "      <td>4.999000e+03</td>\n",
       "      <td>1925.000000</td>\n",
       "      <td>3.980000e+03</td>\n",
       "      <td>3937.000000</td>\n",
       "      <td>4.115000e+03</td>\n",
       "      <td>4.429000e+03</td>\n",
       "      <td>4994.000000</td>\n",
       "    </tr>\n",
       "    <tr>\n",
       "      <th>mean</th>\n",
       "      <td>6.513443</td>\n",
       "      <td>1.242861e+05</td>\n",
       "      <td>73.516883</td>\n",
       "      <td>4.118368e+07</td>\n",
       "      <td>15.333603</td>\n",
       "      <td>5.959811e+07</td>\n",
       "      <td>1.197883e+08</td>\n",
       "      <td>109.922507</td>\n",
       "    </tr>\n",
       "    <tr>\n",
       "      <th>std</th>\n",
       "      <td>0.980322</td>\n",
       "      <td>1.871170e+05</td>\n",
       "      <td>9.505352</td>\n",
       "      <td>4.784484e+07</td>\n",
       "      <td>23.680944</td>\n",
       "      <td>7.762765e+07</td>\n",
       "      <td>2.022471e+08</td>\n",
       "      <td>21.078725</td>\n",
       "    </tr>\n",
       "    <tr>\n",
       "      <th>min</th>\n",
       "      <td>1.900000</td>\n",
       "      <td>2.200000e+01</td>\n",
       "      <td>61.000000</td>\n",
       "      <td>2.000000e+01</td>\n",
       "      <td>0.000294</td>\n",
       "      <td>4.220000e+02</td>\n",
       "      <td>2.700000e+01</td>\n",
       "      <td>34.000000</td>\n",
       "    </tr>\n",
       "    <tr>\n",
       "      <th>25%</th>\n",
       "      <td>6.000000</td>\n",
       "      <td>2.469400e+04</td>\n",
       "      <td>66.000000</td>\n",
       "      <td>1.000000e+07</td>\n",
       "      <td>1.125007</td>\n",
       "      <td>1.278963e+07</td>\n",
       "      <td>1.236187e+07</td>\n",
       "      <td>96.000000</td>\n",
       "    </tr>\n",
       "    <tr>\n",
       "      <th>50%</th>\n",
       "      <td>6.600000</td>\n",
       "      <td>6.352100e+04</td>\n",
       "      <td>72.000000</td>\n",
       "      <td>2.500000e+07</td>\n",
       "      <td>8.571785</td>\n",
       "      <td>3.584190e+07</td>\n",
       "      <td>4.816916e+07</td>\n",
       "      <td>106.000000</td>\n",
       "    </tr>\n",
       "    <tr>\n",
       "      <th>75%</th>\n",
       "      <td>7.200000</td>\n",
       "      <td>1.418045e+05</td>\n",
       "      <td>80.000000</td>\n",
       "      <td>5.400000e+07</td>\n",
       "      <td>18.692090</td>\n",
       "      <td>7.538930e+07</td>\n",
       "      <td>1.375151e+08</td>\n",
       "      <td>120.000000</td>\n",
       "    </tr>\n",
       "    <tr>\n",
       "      <th>max</th>\n",
       "      <td>9.300000</td>\n",
       "      <td>2.337357e+06</td>\n",
       "      <td>100.000000</td>\n",
       "      <td>8.000000e+08</td>\n",
       "      <td>357.115007</td>\n",
       "      <td>9.366622e+08</td>\n",
       "      <td>2.797801e+09</td>\n",
       "      <td>330.000000</td>\n",
       "    </tr>\n",
       "  </tbody>\n",
       "</table>\n",
       "</div>"
      ],
      "text/plain": [
       "            rating          vote    metascore        budget  \\\n",
       "count  4999.000000  4.999000e+03  1925.000000  3.980000e+03   \n",
       "mean      6.513443  1.242861e+05    73.516883  4.118368e+07   \n",
       "std       0.980322  1.871170e+05     9.505352  4.784484e+07   \n",
       "min       1.900000  2.200000e+01    61.000000  2.000000e+01   \n",
       "25%       6.000000  2.469400e+04    66.000000  1.000000e+07   \n",
       "50%       6.600000  6.352100e+04    72.000000  2.500000e+07   \n",
       "75%       7.200000  1.418045e+05    80.000000  5.400000e+07   \n",
       "max       9.300000  2.337357e+06   100.000000  8.000000e+08   \n",
       "\n",
       "       opening_weekend_usa     gross_usa   gross_world      runtime  \n",
       "count          3937.000000  4.115000e+03  4.429000e+03  4994.000000  \n",
       "mean             15.333603  5.959811e+07  1.197883e+08   109.922507  \n",
       "std              23.680944  7.762765e+07  2.022471e+08    21.078725  \n",
       "min               0.000294  4.220000e+02  2.700000e+01    34.000000  \n",
       "25%               1.125007  1.278963e+07  1.236187e+07    96.000000  \n",
       "50%               8.571785  3.584190e+07  4.816916e+07   106.000000  \n",
       "75%              18.692090  7.538930e+07  1.375151e+08   120.000000  \n",
       "max             357.115007  9.366622e+08  2.797801e+09   330.000000  "
      ]
     },
     "execution_count": 892,
     "metadata": {},
     "output_type": "execute_result"
    }
   ],
   "source": [
    "all_df.describe()"
   ]
  },
  {
   "cell_type": "code",
   "execution_count": 893,
   "metadata": {},
   "outputs": [],
   "source": [
    "# all_df.country"
   ]
  },
  {
   "cell_type": "code",
   "execution_count": 894,
   "metadata": {},
   "outputs": [],
   "source": [
    "all_df['release_year'] = all_df['release_date'].dt.year"
   ]
  },
  {
   "cell_type": "code",
   "execution_count": 895,
   "metadata": {},
   "outputs": [],
   "source": [
    "all_df.rename(columns={'certificate':'MPAA'},inplace=True);"
   ]
  },
  {
   "cell_type": "code",
   "execution_count": 896,
   "metadata": {},
   "outputs": [],
   "source": [
    "# Find top 100 actors\n",
    "all_df_actor = all_df['star'].str.join(sep='*').str.get_dummies(sep='*')\n",
    "actor_list = (all_df_actor.sum()).sort_values(ascending=False).index.tolist()[:100]\n",
    "# actor_list"
   ]
  },
  {
   "cell_type": "code",
   "execution_count": 897,
   "metadata": {},
   "outputs": [
    {
     "name": "stdout",
     "output_type": "stream",
     "text": [
      "<class 'pandas.core.frame.DataFrame'>\n",
      "Int64Index: 3878 entries, 3 to 4998\n",
      "Data columns (total 23 columns):\n",
      " #   Column               Non-Null Count  Dtype         \n",
      "---  ------               --------------  -----         \n",
      " 0   movie_title          3878 non-null   object        \n",
      " 1   rating               3878 non-null   float64       \n",
      " 2   vote                 3878 non-null   float64       \n",
      " 3   MPAA                 3878 non-null   object        \n",
      " 4   genre                3878 non-null   object        \n",
      " 5   release_date         3878 non-null   datetime64[ns]\n",
      " 6   metascore            1548 non-null   float64       \n",
      " 7   keywords             3878 non-null   object        \n",
      " 8   budget               3454 non-null   float64       \n",
      " 9   opening_weekend_usa  3878 non-null   float64       \n",
      " 10  gross_usa            3878 non-null   float64       \n",
      " 11  gross_world          3877 non-null   float64       \n",
      " 12  runtime              3877 non-null   float64       \n",
      " 13  distributor          3876 non-null   object        \n",
      " 14  language             3878 non-null   object        \n",
      " 15  country              3878 non-null   object        \n",
      " 16  director             3878 non-null   object        \n",
      " 17  writer               3878 non-null   object        \n",
      " 18  star                 3878 non-null   object        \n",
      " 19  link_d               3878 non-null   object        \n",
      " 20  link_w               3878 non-null   object        \n",
      " 21  link_s               3878 non-null   object        \n",
      " 22  release_year         3878 non-null   int64         \n",
      "dtypes: datetime64[ns](1), float64(8), int64(1), object(13)\n",
      "memory usage: 727.1+ KB\n"
     ]
    }
   ],
   "source": [
    "# Remove outliers\n",
    "all_df = all_df[all_df.opening_weekend_usa < 100]\n",
    "all_df = all_df[all_df.movie_title != \"Kiki's Delivery Service\"]\n",
    "# all_df = all_df[all_df.movie_title.isin(res_movie)]\n",
    "all_df.info()"
   ]
  },
  {
   "cell_type": "code",
   "execution_count": 904,
   "metadata": {},
   "outputs": [],
   "source": [
    "all_df = all_df[all_df.movie_title.isin(res_movie) == False]"
   ]
  },
  {
   "cell_type": "code",
   "execution_count": null,
   "metadata": {},
   "outputs": [],
   "source": []
  },
  {
   "cell_type": "code",
   "execution_count": 905,
   "metadata": {},
   "outputs": [],
   "source": [
    "con_feature = ['budget','runtime','release_year']\n",
    "cat_feature = ['MPAA','genre','distributor','language','country','keywords']\n",
    "target_candidate = ['opening_weekend_usa','gross_usa','gross_world','rating','vote']\n",
    "# con_feature = ['budget','runtime','film_count_d','avg_rating_d','avg_gross_d','T_movie_age']\n",
    "# con_book_feature = ['T_book_age','publish_year','page','log_book_popularity','log_author_popularity']\n",
    "# target_candidate = ['opening_weekend_usa','log_owu','gross_usa','gross_world','rating']\n",
    "\n",
    "# potential_feature = ['rating_value_b','rating_count_b','review_count_b']"
   ]
  },
  {
   "cell_type": "code",
   "execution_count": 906,
   "metadata": {},
   "outputs": [],
   "source": [
    "# Choose only the continuous variables for now\n",
    "\n",
    "# cc_df = all_df[['opening_weekend_usa'] + con_feature + con_book_feature + cat_feature].copy()\n",
    "c_movie_df = all_df[['opening_weekend_usa'] + con_feature].copy() # only continuous features for movie\n",
    "# c_all_df = all_df[['opening_weekend_usa'] + con_feature + con_book_feature].copy() # continuous features both movie and book"
   ]
  },
  {
   "cell_type": "code",
   "execution_count": 155,
   "metadata": {},
   "outputs": [],
   "source": [
    "# c_df.describe()"
   ]
  },
  {
   "cell_type": "code",
   "execution_count": 907,
   "metadata": {},
   "outputs": [],
   "source": [
    "# cc_df.info()"
   ]
  },
  {
   "cell_type": "code",
   "execution_count": 908,
   "metadata": {},
   "outputs": [],
   "source": [
    "# sns.pairplot(c_df, plot_kws=dict(alpha=.1, edgecolor='none'))"
   ]
  },
  {
   "cell_type": "code",
   "execution_count": 909,
   "metadata": {},
   "outputs": [
    {
     "name": "stdout",
     "output_type": "stream",
     "text": [
      "<class 'pandas.core.frame.DataFrame'>\n",
      "Int64Index: 3667 entries, 4 to 4998\n",
      "Data columns (total 4 columns):\n",
      " #   Column               Non-Null Count  Dtype  \n",
      "---  ------               --------------  -----  \n",
      " 0   opening_weekend_usa  3667 non-null   float64\n",
      " 1   budget               3244 non-null   float64\n",
      " 2   runtime              3666 non-null   float64\n",
      " 3   release_year         3667 non-null   int64  \n",
      "dtypes: float64(3), int64(1)\n",
      "memory usage: 143.2 KB\n"
     ]
    }
   ],
   "source": [
    "c_movie_df.info()"
   ]
  },
  {
   "cell_type": "markdown",
   "metadata": {},
   "source": [
    "### Baseline Model\n",
    "Only consider the continuous predictors and use 'opening_weekend_usa'."
   ]
  },
  {
   "cell_type": "code",
   "execution_count": 910,
   "metadata": {},
   "outputs": [],
   "source": [
    "# Separate features and target variable\n",
    "\n",
    "def get_Xy(df):\n",
    "    \n",
    "    df = df.dropna()\n",
    "    \n",
    "    target = 'opening_weekend_usa'\n",
    "#     target = 'rating'\n",
    "#     target = 'gross_usa'\n",
    "    all_column = df.columns.values.tolist()\n",
    "    all_column.remove(target)\n",
    "\n",
    "    y = df[target]\n",
    "    X = df[all_column]\n",
    "    \n",
    "    return X, y"
   ]
  },
  {
   "cell_type": "code",
   "execution_count": 962,
   "metadata": {},
   "outputs": [],
   "source": [
    "X, y = get_Xy(c_movie_df)"
   ]
  },
  {
   "cell_type": "code",
   "execution_count": 963,
   "metadata": {},
   "outputs": [],
   "source": [
    "def split_and_validate(X, y):\n",
    "    '''\n",
    "    For a set of features and target X, y, perform a 80/20 train/val split, \n",
    "    fit and validate a linear regression model, and report results\n",
    "    '''\n",
    "    \n",
    "#     # perform train/val split\n",
    "#     X_train, X_val, y_train, y_val = \\\n",
    "#         train_test_split(X, y, test_size=0.2, random_state=25)\n",
    "\n",
    "    # train/val/test split\n",
    "    # holding test set\n",
    "    X_, X_test, y_, y_test = train_test_split(X, y, test_size=.2, random_state=20)\n",
    "    X_train, X_val, y_train, y_val = train_test_split(X_, y_, test_size=.25, random_state=21)\n",
    "    \n",
    "    # fit linear regression to training data\n",
    "    lr_model = LinearRegression()\n",
    "    lr_model.fit(X_train, y_train)\n",
    "    y_pred = lr_model.predict(X_val)\n",
    "    \n",
    "    # score fit model on validation data\n",
    "    train_score = lr_model.score(X_train, y_train)\n",
    "    val_score = lr_model.score(X_val, y_val)\n",
    "    \n",
    "    \n",
    "    # report results\n",
    "    print('\\nTrain R^2 score was:', train_score)\n",
    "    print('Validation R^2 score was:', val_score)\n",
    "    print('Feature coefficient results: \\n')\n",
    "    for feature, coef in zip(X.columns, lr_model.coef_):\n",
    "        print(feature, ':', f'{coef:.2f}')\n",
    "        \n",
    "    \n",
    "    # Visualization\n",
    "    fig, ax = plt.subplots(1, 1)\n",
    "    plt.scatter(y_val, y_pred, alpha=0.5)\n",
    "\n",
    "    ax.set_xlabel('Opening weekend gross (USD)')\n",
    "    ax.set_ylabel('Prediction (USD)')\n",
    "\n",
    "#     ax.set_xticks([0,0.2e8,0.4e8,0.6e8,0.8e8])\n",
    "#     ax.set_xticklabels(['0','20M','40M','60M','80M'])\n",
    "#     ax.set_yticks([0,0.1e8,0.2e8,0.3e8,0.4e8,0.5e8,0.6e8,0.7e8])\n",
    "#     ax.set_yticklabels(['0','10M','20M','30M','40M','50M','60M','70M'])\n",
    "\n",
    "    x=np.linspace(0,0.7e2,50)\n",
    "#     x=np.linspace(4,9,50)\n",
    "    \n",
    "    y=x\n",
    "    plt.plot(x,y,color='red')"
   ]
  },
  {
   "cell_type": "code",
   "execution_count": 964,
   "metadata": {},
   "outputs": [
    {
     "name": "stdout",
     "output_type": "stream",
     "text": [
      "\n",
      "Train R^2 score was: 0.6091331138581555\n",
      "Validation R^2 score was: 0.6295594416372436\n",
      "Feature coefficient results: \n",
      "\n",
      "budget : 0.00\n",
      "runtime : -0.07\n",
      "release_year : 0.06\n"
     ]
    },
    {
     "data": {
      "image/png": "[encoded data removed]",
      "text/plain": [
       "<Figure size 432x288 with 1 Axes>"
      ]
     },
     "metadata": {},
     "output_type": "display_data"
    }
   ],
   "source": [
    "# Reports for model with all features\n",
    "split_and_validate(X,y)"
   ]
  },
  {
   "cell_type": "code",
   "execution_count": 965,
   "metadata": {},
   "outputs": [],
   "source": [
    "# # Reports for model with features of movie only\n",
    "# X, y = get_Xy(c_movie_df)\n",
    "# split_and_validate(X,y)"
   ]
  },
  {
   "cell_type": "code",
   "execution_count": null,
   "metadata": {},
   "outputs": [],
   "source": []
  },
  {
   "cell_type": "code",
   "execution_count": 966,
   "metadata": {},
   "outputs": [],
   "source": [
    "def get_score(X_train,X_val,y_train,y_val):\n",
    "    # fit linear regression to training data\n",
    "    lr_model = LinearRegression()\n",
    "    lr_model.fit(X_train, y_train)\n",
    "    y_pred = lr_model.predict(X_val)\n",
    "    \n",
    "    # score fit model on validation data\n",
    "    train_score = lr_model.score(X_train, y_train)\n",
    "    val_score = lr_model.score(X_val, y_val)\n",
    "    \n",
    "    \n",
    "    # report results\n",
    "    print('\\nTrain R^2 score was:', train_score)\n",
    "    print('Validation R^2 score was:', val_score)\n",
    "    print('Feature coefficient results: \\n')\n",
    "    for feature, coef in zip(X.columns, lr_model.coef_):\n",
    "        print(feature, ':', f'{coef:.2f}')\n",
    "        \n",
    "    \n",
    "    # Visualization\n",
    "    fig, ax = plt.subplots(1, 1)\n",
    "    plt.scatter(y_val, y_pred)\n",
    "\n",
    "    ax.set_xlabel('Opening weekend gross (USD)')\n",
    "    ax.set_ylabel('Prediction (USD)')\n",
    "\n",
    "#     ax.set_xticks([0,0.2e8,0.4e8,0.6e8,0.8e8])\n",
    "#     ax.set_xticklabels(['0','20M','40M','60M','80M'])\n",
    "#     ax.set_yticks([0,0.1e8,0.2e8,0.3e8,0.4e8,0.5e8,0.6e8,0.7e8])\n",
    "#     ax.set_yticklabels(['0','10M','20M','30M','40M','50M','60M','70M'])\n",
    "\n",
    "    x=np.linspace(0,0.7e2,50)\n",
    "#     x=np.linspace(4,9,50)\n",
    "    \n",
    "    y=x\n",
    "    plt.plot(x,y,color='red')"
   ]
  },
  {
   "cell_type": "code",
   "execution_count": null,
   "metadata": {},
   "outputs": [],
   "source": []
  },
  {
   "cell_type": "code",
   "execution_count": null,
   "metadata": {},
   "outputs": [],
   "source": []
  },
  {
   "cell_type": "markdown",
   "metadata": {},
   "source": [
    "### Cross-validation"
   ]
  },
  {
   "cell_type": "code",
   "execution_count": 916,
   "metadata": {},
   "outputs": [
    {
     "name": "stdout",
     "output_type": "stream",
     "text": [
      "Meam of validation score is: 0.4952746912735127\n",
      "[0.54014443 0.44291288 0.52722044 0.5179398  0.44815591]\n"
     ]
    }
   ],
   "source": [
    "# Will not use X_test, y_test\n",
    "lr = LinearRegression()\n",
    "\n",
    "# X, y = get_Xy(c_movie_df)\n",
    "\n",
    "# X_, X_test, y_, y_test = train_test_split(X, y, test_size=.2, random_state=20)\n",
    "# X_train, X_val, y_train, y_val = train_test_split(X, y, test_size=.25, random_state=21)\n",
    "result = cross_val_score(lr, X_train, y_train, # estimator, features, target\n",
    "                cv=5, # number of folds \n",
    "                scoring='r2') # scoring metric\n",
    "# mean of val_score\n",
    "print(\"Meam of validation score is:\", np.mean(result))\n",
    "print(result)"
   ]
  },
  {
   "cell_type": "code",
   "execution_count": 350,
   "metadata": {},
   "outputs": [],
   "source": [
    "# result = cross_val_score(lr, X_train, y_train, # estimator, features, target\n",
    "#                 cv=5, # number of folds \n",
    "#                 scoring='r2') # scoring metric"
   ]
  },
  {
   "cell_type": "code",
   "execution_count": 351,
   "metadata": {},
   "outputs": [],
   "source": [
    "# # mean of val_score\n",
    "# print(\"Meam of validation score is:\", np.mean(result))\n",
    "# print(result)"
   ]
  },
  {
   "cell_type": "code",
   "execution_count": null,
   "metadata": {},
   "outputs": [],
   "source": []
  },
  {
   "cell_type": "code",
   "execution_count": null,
   "metadata": {},
   "outputs": [],
   "source": []
  },
  {
   "cell_type": "markdown",
   "metadata": {},
   "source": [
    "### Find outliers and evaluate the model again"
   ]
  },
  {
   "cell_type": "code",
   "execution_count": null,
   "metadata": {},
   "outputs": [],
   "source": []
  },
  {
   "cell_type": "code",
   "execution_count": null,
   "metadata": {},
   "outputs": [],
   "source": []
  },
  {
   "cell_type": "code",
   "execution_count": null,
   "metadata": {},
   "outputs": [],
   "source": []
  },
  {
   "cell_type": "markdown",
   "metadata": {},
   "source": [
    "## 2. Basic Feature Engineering"
   ]
  },
  {
   "cell_type": "markdown",
   "metadata": {},
   "source": [
    "### Split the data set into Train / Validation / Test sets"
   ]
  },
  {
   "cell_type": "code",
   "execution_count": 917,
   "metadata": {},
   "outputs": [],
   "source": [
    "# Choose df\n",
    "# X, y = get_Xy(c_movie_df)\n",
    "X, y = get_Xy(c_movie_df)\n",
    "\n",
    "# train_test_split\n",
    "X_, X_test, y_, y_test = train_test_split(X, y, test_size=.2, random_state=20)\n",
    "X_train, X_val, y_train, y_val = train_test_split(X_, y_, test_size=.25, random_state=21)"
   ]
  },
  {
   "cell_type": "markdown",
   "metadata": {},
   "source": [
    "### * Scaled Features"
   ]
  },
  {
   "cell_type": "code",
   "execution_count": 918,
   "metadata": {},
   "outputs": [],
   "source": [
    "scaler = StandardScaler()\n",
    "\n",
    "X_train_scaled = scaler.fit_transform(X_train.values)\n",
    "X_val_scaled = scaler.transform(X_val.values)\n",
    "X_test_scaled = scaler.transform(X_test.values)"
   ]
  },
  {
   "cell_type": "code",
   "execution_count": 919,
   "metadata": {},
   "outputs": [
    {
     "data": {
      "text/plain": [
       "(0.6091331138581555, 0.6295594416372436)"
      ]
     },
     "execution_count": 919,
     "metadata": {},
     "output_type": "execute_result"
    }
   ],
   "source": [
    "lr = LinearRegression()\n",
    "lr.fit(X_train_scaled,y_train)\n",
    "lr.score(X_train_scaled,y_train), lr.score(scaler.transform(X_val),y_val)"
   ]
  },
  {
   "cell_type": "code",
   "execution_count": 920,
   "metadata": {},
   "outputs": [
    {
     "data": {
      "text/plain": [
       "[('budget', 10.64992127348399),\n",
       " ('runtime', -1.473916405937492),\n",
       " ('release_year', 0.6997945412836499)]"
      ]
     },
     "execution_count": 920,
     "metadata": {},
     "output_type": "execute_result"
    }
   ],
   "source": [
    "list(zip((con_feature),lr.coef_))"
   ]
  },
  {
   "cell_type": "code",
   "execution_count": 921,
   "metadata": {},
   "outputs": [
    {
     "name": "stdout",
     "output_type": "stream",
     "text": [
      "Meam of validation score is: 0.606888770474088\n",
      "[0.62482657 0.63405651 0.56755111 0.58579418 0.62221549]\n"
     ]
    }
   ],
   "source": [
    "# Cross-validation\n",
    "# Will not use X_test, y_test\n",
    "lr = LinearRegression()\n",
    "# X_, X_test, y_, y_test = train_test_split(X, y, test_size=.2, random_state=20)\n",
    "# X_train, X_val, y_train, y_val = train_test_split(X_, y_, test_size=.25, random_state=21)\n",
    "result = cross_val_score(lr, X_train, y_train, # estimator, features, target\n",
    "                cv=5, # number of folds \n",
    "                scoring='r2') # scoring metric\n",
    "# mean of val_score\n",
    "print(\"Meam of validation score is:\", np.mean(result))\n",
    "print(result)"
   ]
  },
  {
   "cell_type": "markdown",
   "metadata": {},
   "source": [
    "### * Polynomial Fearues\n",
    "(degree=2): Adding interaction terms and second order feature."
   ]
  },
  {
   "cell_type": "code",
   "execution_count": 922,
   "metadata": {},
   "outputs": [
    {
     "data": {
      "text/plain": [
       "(0.6107771467644758, 0.627595437541874)"
      ]
     },
     "execution_count": 922,
     "metadata": {},
     "output_type": "execute_result"
    }
   ],
   "source": [
    "# Only with interaction terms\n",
    "from sklearn.preprocessing import PolynomialFeatures\n",
    "\n",
    "poly = PolynomialFeatures(degree=2,interaction_only = True)\n",
    "\n",
    "X_train_poly = poly.fit_transform(X_train_scaled)\n",
    "X_val_poly = poly.transform(X_val_scaled)\n",
    "\n",
    "lr.fit(X_train_poly,y_train)\n",
    "lr.score(X_train_poly,y_train), lr.score(X_val_poly,y_val)"
   ]
  },
  {
   "cell_type": "code",
   "execution_count": 923,
   "metadata": {},
   "outputs": [
    {
     "name": "stdout",
     "output_type": "stream",
     "text": [
      "Mean of validation score is: 0.6069348681404447\n",
      "[0.62615559 0.63505917 0.56939587 0.57936717 0.62469654]\n"
     ]
    }
   ],
   "source": [
    "# Cross-validation\n",
    "# Will not use X_test, y_test\n",
    "lr = LinearRegression()\n",
    "# X_, X_test, y_, y_test = train_test_split(X, y, test_size=.2, random_state=20)\n",
    "# X_train, X_val, y_train, y_val = train_test_split(X_, y_, test_size=.25, random_state=21)\n",
    "result = cross_val_score(lr, X_train_poly, y_train, # estimator, features, target\n",
    "                cv=5, # number of folds \n",
    "                scoring='r2') # scoring metric\n",
    "# mean of val_score\n",
    "print(\"Mean of validation score is:\", np.mean(result))\n",
    "print(result)"
   ]
  },
  {
   "cell_type": "code",
   "execution_count": 924,
   "metadata": {},
   "outputs": [],
   "source": [
    "# increased train score, but decreased val score.\n",
    "# overfitting"
   ]
  },
  {
   "cell_type": "code",
   "execution_count": 933,
   "metadata": {},
   "outputs": [
    {
     "data": {
      "text/plain": [
       "(0.6112128595641906, 0.6284341911072298)"
      ]
     },
     "execution_count": 933,
     "metadata": {},
     "output_type": "execute_result"
    }
   ],
   "source": [
    "from sklearn.preprocessing import PolynomialFeatures\n",
    "\n",
    "poly = PolynomialFeatures(degree=2,interaction_only = False)\n",
    "\n",
    "X_train_poly = poly.fit_transform(X_train_scaled)\n",
    "X_val_poly = poly.transform(X_val_scaled)\n",
    "\n",
    "lr.fit(X_train_poly,y_train)\n",
    "lr.score(X_train_poly,y_train), lr.score(X_val_poly,y_val)"
   ]
  },
  {
   "cell_type": "code",
   "execution_count": 934,
   "metadata": {},
   "outputs": [
    {
     "data": {
      "text/plain": [
       "[('1', 0.0),\n",
       " ('budget', 10.505691152984603),\n",
       " ('runtime', -1.5366390012730557),\n",
       " ('release_year', 1.0622914038239524),\n",
       " ('budget^2', -0.13179768151732107),\n",
       " ('budget runtime', -0.06136324306904866),\n",
       " ('budget release_year', 1.0495879741741216),\n",
       " ('runtime^2', 0.009880843443800748),\n",
       " ('runtime release_year', -0.2342608659263133),\n",
       " ('release_year^2', -0.14195821752534)]"
      ]
     },
     "execution_count": 934,
     "metadata": {},
     "output_type": "execute_result"
    }
   ],
   "source": [
    "feature = poly.get_feature_names(con_feature)\n",
    "list(zip((feature),lr.coef_))"
   ]
  },
  {
   "cell_type": "code",
   "execution_count": 930,
   "metadata": {},
   "outputs": [
    {
     "name": "stdout",
     "output_type": "stream",
     "text": [
      "Mean of validation score is: 0.6061871572432634\n",
      "[0.6252968  0.63482906 0.56921639 0.57735525 0.62423829]\n"
     ]
    }
   ],
   "source": [
    "# Cross-validation\n",
    "# Will not use X_test, y_test\n",
    "lr = LinearRegression()\n",
    "# X_, X_test, y_, y_test = train_test_split(X, y, test_size=.2, random_state=20)\n",
    "# X_train, X_val, y_train, y_val = train_test_split(X_, y_, test_size=.25, random_state=21)\n",
    "result = cross_val_score(lr, X_train_poly, y_train, # estimator, features, target\n",
    "                cv=5, # number of folds \n",
    "                scoring='r2') # scoring metric\n",
    "# mean of val_score\n",
    "print(\"Mean of validation score is:\", np.mean(result))\n",
    "print(result)"
   ]
  },
  {
   "cell_type": "code",
   "execution_count": null,
   "metadata": {},
   "outputs": [],
   "source": []
  },
  {
   "cell_type": "code",
   "execution_count": 932,
   "metadata": {},
   "outputs": [],
   "source": [
    "# overfitting even more"
   ]
  },
  {
   "cell_type": "markdown",
   "metadata": {},
   "source": [
    "## 3. Intermediate Feature Engineering: Categorical features\n",
    "Use `OneHotEncoder` or `pd.get_dummies(df['column'])` to treat categorical variables"
   ]
  },
  {
   "cell_type": "markdown",
   "metadata": {},
   "source": [
    "### 1. genre"
   ]
  },
  {
   "cell_type": "code",
   "execution_count": 935,
   "metadata": {},
   "outputs": [
    {
     "name": "stdout",
     "output_type": "stream",
     "text": [
      "<class 'pandas.core.frame.DataFrame'>\n",
      "Int64Index: 3667 entries, 4 to 4998\n",
      "Data columns (total 23 columns):\n",
      " #   Column               Non-Null Count  Dtype         \n",
      "---  ------               --------------  -----         \n",
      " 0   movie_title          3667 non-null   object        \n",
      " 1   rating               3667 non-null   float64       \n",
      " 2   vote                 3667 non-null   float64       \n",
      " 3   MPAA                 3667 non-null   object        \n",
      " 4   genre                3667 non-null   object        \n",
      " 5   release_date         3667 non-null   datetime64[ns]\n",
      " 6   metascore            1461 non-null   float64       \n",
      " 7   keywords             3667 non-null   object        \n",
      " 8   budget               3244 non-null   float64       \n",
      " 9   opening_weekend_usa  3667 non-null   float64       \n",
      " 10  gross_usa            3667 non-null   float64       \n",
      " 11  gross_world          3666 non-null   float64       \n",
      " 12  runtime              3666 non-null   float64       \n",
      " 13  distributor          3665 non-null   object        \n",
      " 14  language             3667 non-null   object        \n",
      " 15  country              3667 non-null   object        \n",
      " 16  director             3667 non-null   object        \n",
      " 17  writer               3667 non-null   object        \n",
      " 18  star                 3667 non-null   object        \n",
      " 19  link_d               3667 non-null   object        \n",
      " 20  link_w               3667 non-null   object        \n",
      " 21  link_s               3667 non-null   object        \n",
      " 22  release_year         3667 non-null   int64         \n",
      "dtypes: datetime64[ns](1), float64(8), int64(1), object(13)\n",
      "memory usage: 687.6+ KB\n"
     ]
    },
    {
     "data": {
      "text/plain": [
       "(None, ['budget', 'runtime', 'release_year'])"
      ]
     },
     "execution_count": 935,
     "metadata": {},
     "output_type": "execute_result"
    }
   ],
   "source": [
    "all_df.info(), con_feature"
   ]
  },
  {
   "cell_type": "code",
   "execution_count": 936,
   "metadata": {},
   "outputs": [],
   "source": [
    "# Get the data from all_df with both continuous and categorical variables\n",
    "df = all_df[['opening_weekend_usa'] + con_feature + ['genre']]\n",
    "# df = all_df[['rating'] + con_feature + con_book_feature + ['genre']]\n",
    "# df = all_df[['gross_usa'] + con_feature + con_book_feature + ['genre']]\n",
    "X, y = get_Xy(df)\n",
    "# train_test_split\n",
    "X_, X_test, y_, y_test = train_test_split(X, y, test_size=.2, random_state=42)\n",
    "X_train, X_val, y_train, y_val = train_test_split(X_, y_, test_size=.25, random_state=3)"
   ]
  },
  {
   "cell_type": "code",
   "execution_count": 937,
   "metadata": {},
   "outputs": [],
   "source": [
    "\n",
    "# Train set\n",
    "# Convert genre to dummies\n",
    "X_train_genre = X_train['genre'].str.join(sep='*').str.get_dummies(sep='*')\n",
    "\n",
    "# Scaling continuous variables\n",
    "X_train_con = X_train[con_feature]\n",
    "X_train_con_scaled = scaler.fit_transform(X_train_con)\n",
    "X_train_con_scaled_df = pd.DataFrame(X_train_con_scaled, columns=X_train_con.columns, index=X_train_con.index)\n",
    "\n",
    "X_train_poly = poly.fit_transform(X_train_con_scaled)\n",
    "X_train_poly_df = pd.DataFrame(X_train_poly, columns=poly.get_feature_names(X_train_con.columns), index=X_train_con.index)\n",
    "\n",
    "\n",
    "#Combine\n",
    "# X_train = pd.concat([X_train_genre,X_train_con_scaled_df],axis=1)\n",
    "X_train = pd.concat([X_train_genre,X_train_poly_df],axis=1)\n",
    "\n",
    "\n",
    "\n",
    "# Val set\n",
    "# Convert genre to dummies\n",
    "X_val_genre = X_val['genre'].str.join(sep='*').str.get_dummies(sep='*')\n",
    "\n",
    "# Scaling continuous variables\n",
    "X_val_con = X_val[con_feature]\n",
    "X_val_con_scaled = scaler.transform(X_val_con)\n",
    "X_val_con_scaled_df = pd.DataFrame(X_val_con_scaled, columns=X_val_con.columns, index=X_val_con.index)\n",
    "\n",
    "X_val_poly = poly.fit_transform(X_val_con_scaled)\n",
    "X_val_poly_df = pd.DataFrame(X_val_poly, columns=poly.get_feature_names(X_val_con.columns), index=X_val_con.index)\n",
    "\n",
    "\n",
    "#Combine\n",
    "# X_val = pd.concat([X_val_genre,X_val_con_scaled_df],axis=1)\n",
    "X_val = pd.concat([X_val_genre,X_val_poly_df],axis=1)\n",
    "\n",
    "# Find the common columns to keep\n",
    "keep = list(set(X_train.columns).intersection(set(X_val.columns)))\n",
    "X_train = X_train[keep]\n",
    "X_val = X_val[keep]\n",
    "\n",
    "\n",
    "# # Test set\n",
    "# # Convert genre to dummies\n",
    "# X_test_genre = X_test['genre'].str.join(sep='*').str.get_dummies(sep='*')\n",
    "\n",
    "# # Scaling continuous variables\n",
    "# X_test_con = X_test[con_feature]\n",
    "# X_test_con_scaled = scaler.transform(X_test_con)\n",
    "# X_test_con_scaled_df = pd.DataFrame(X_test_con_scaled, columns=X_test_con.columns, index=X_test_con.index)\n",
    "\n",
    "# #Combine\n",
    "# X_test = pd.concat([X_test_genre,X_test_con_scaled_df],axis=1)\n",
    "# keep2 = list(set(keep).intersection(set(X_test.columns)))\n",
    "# X_test = X_test[keep2]"
   ]
  },
  {
   "cell_type": "code",
   "execution_count": 938,
   "metadata": {},
   "outputs": [
    {
     "data": {
      "text/plain": [
       "((1945, 30), (649, 30), (649, 4))"
      ]
     },
     "execution_count": 938,
     "metadata": {},
     "output_type": "execute_result"
    }
   ],
   "source": [
    "X_train.shape, X_val.shape, X_test.shape"
   ]
  },
  {
   "cell_type": "code",
   "execution_count": 939,
   "metadata": {},
   "outputs": [],
   "source": [
    "# X_train"
   ]
  },
  {
   "cell_type": "code",
   "execution_count": 940,
   "metadata": {},
   "outputs": [
    {
     "name": "stdout",
     "output_type": "stream",
     "text": [
      "\n",
      "Train R^2 score was: 0.6312620070718025\n",
      "Validation R^2 score was: 0.6538644349534796\n",
      "Feature coefficient results: \n",
      "\n",
      "budget : 0.67\n",
      "runtime : -3.01\n",
      "release_year : -0.28\n",
      "genre : -0.80\n"
     ]
    },
    {
     "data": {
      "image/png": "[encoded data removed]",
      "text/plain": [
       "<Figure size 432x288 with 1 Axes>"
      ]
     },
     "metadata": {},
     "output_type": "display_data"
    }
   ],
   "source": [
    "get_score(X_train, X_val, y_train, y_val) # only scaling"
   ]
  },
  {
   "cell_type": "code",
   "execution_count": 941,
   "metadata": {},
   "outputs": [
    {
     "name": "stdout",
     "output_type": "stream",
     "text": [
      "\n",
      "Train R^2 score was: 0.6312620070718025\n",
      "Validation R^2 score was: 0.6538644349534796\n",
      "Feature coefficient results: \n",
      "\n",
      "budget : 0.67\n",
      "runtime : -3.01\n",
      "release_year : -0.28\n",
      "genre : -0.80\n"
     ]
    },
    {
     "data": {
      "image/png": "[encoded data removed]",
      "text/plain": [
       "<Figure size 432x288 with 1 Axes>"
      ]
     },
     "metadata": {},
     "output_type": "display_data"
    }
   ],
   "source": [
    "get_score(X_train, X_val, y_train, y_val) # scaling+poly"
   ]
  },
  {
   "cell_type": "code",
   "execution_count": null,
   "metadata": {},
   "outputs": [],
   "source": []
  },
  {
   "cell_type": "code",
   "execution_count": 942,
   "metadata": {},
   "outputs": [
    {
     "data": {
      "text/plain": [
       "0.6312620070718025"
      ]
     },
     "execution_count": 942,
     "metadata": {},
     "output_type": "execute_result"
    }
   ],
   "source": [
    "lr=LinearRegression()\n",
    "lr.fit(X_train,y_train)\n",
    "lr.score(X_train,y_train)"
   ]
  },
  {
   "cell_type": "code",
   "execution_count": 943,
   "metadata": {},
   "outputs": [
    {
     "data": {
      "text/plain": [
       "array([ 6.65305617e-01, -3.00914452e+00, -2.83727274e-01, -8.04865695e-01,\n",
       "       -1.78035441e+00, -1.37687155e-01, -1.41571638e-01,  8.64445668e-01,\n",
       "       -2.11591497e-01,  1.42280587e+00, -3.47197258e+00,  1.37797775e+00,\n",
       "        9.86192129e+00, -3.91503906e+00,  8.82001396e-01, -7.46526153e-01,\n",
       "        7.71794943e-02, -2.55238800e+00, -1.50358710e-01,  1.33226763e-15,\n",
       "       -6.31975801e-02, -5.83987527e-01,  3.81629541e-01,  1.46552342e-01,\n",
       "        1.92085031e+00,  9.61402631e-01,  1.04336222e+00, -1.52596801e-01,\n",
       "       -4.80019509e-01, -1.00566169e+00])"
      ]
     },
     "execution_count": 943,
     "metadata": {},
     "output_type": "execute_result"
    }
   ],
   "source": [
    "lr.coef_"
   ]
  },
  {
   "cell_type": "code",
   "execution_count": 944,
   "metadata": {},
   "outputs": [],
   "source": [
    "# pd.DataFrame(list(zip(X_train.columns,lr.coef_))).sort_values(by=[1],ascending=False)"
   ]
  },
  {
   "cell_type": "code",
   "execution_count": 945,
   "metadata": {},
   "outputs": [
    {
     "data": {
      "text/plain": [
       "0.6538644349534796"
      ]
     },
     "execution_count": 945,
     "metadata": {},
     "output_type": "execute_result"
    }
   ],
   "source": [
    "lr.score(X_val,y_val)"
   ]
  },
  {
   "cell_type": "code",
   "execution_count": 946,
   "metadata": {},
   "outputs": [
    {
     "data": {
      "text/plain": [
       "((1945, 30), (1945,))"
      ]
     },
     "execution_count": 946,
     "metadata": {},
     "output_type": "execute_result"
    }
   ],
   "source": [
    "X_train.shape,y_train.shape"
   ]
  },
  {
   "cell_type": "code",
   "execution_count": 947,
   "metadata": {},
   "outputs": [
    {
     "name": "stdout",
     "output_type": "stream",
     "text": [
      "Mean of validation score is: 0.614700479954019\n",
      "[0.58057984 0.63623856 0.64514635 0.5918577  0.61967995]\n"
     ]
    }
   ],
   "source": [
    "# Cross-validation\n",
    "# Will not use X_test, y_test\n",
    "lr = LinearRegression()\n",
    "# X_train, X_test, y_train, y_test = train_test_split(X, y, test_size=.2, random_state=20)\n",
    "result = cross_val_score(lr, X_train, y_train, # estimator, features, target\n",
    "                cv=5, # number of folds \n",
    "                scoring='r2') # scoring metric\n",
    "# mean of val_score\n",
    "print(\"Mean of validation score is:\", np.mean(result))\n",
    "print(result)"
   ]
  },
  {
   "cell_type": "code",
   "execution_count": null,
   "metadata": {},
   "outputs": [],
   "source": []
  },
  {
   "cell_type": "markdown",
   "metadata": {},
   "source": [
    "### 2. MPAA rating"
   ]
  },
  {
   "cell_type": "code",
   "execution_count": 948,
   "metadata": {},
   "outputs": [],
   "source": [
    "# Get the data from all_df with both continuous and categorical variables\n",
    "df = all_df[['opening_weekend_usa'] + con_feature + ['MPAA']]\n",
    "# df = all_df[['rating'] + con_feature + con_book_feature + ['genre']]\n",
    "# df = all_df[['gross_usa'] + con_feature + con_book_feature + ['genre']]\n",
    "X, y = get_Xy(df)\n",
    "# train_test_split\n",
    "X_, X_test, y_, y_test = train_test_split(X, y, test_size=.2, random_state=42)\n",
    "X_train, X_val, y_train, y_val = train_test_split(X_, y_, test_size=.25, random_state=3)"
   ]
  },
  {
   "cell_type": "code",
   "execution_count": 949,
   "metadata": {},
   "outputs": [],
   "source": [
    "# Train set\n",
    "# Convert genre to dummies\n",
    "X_train_genre = X_train['MPAA'].str.join(sep='*').str.get_dummies(sep='*')\n",
    "\n",
    "# Scaling continuous variables\n",
    "X_train_con = X_train[con_feature]\n",
    "X_train_con_scaled = scaler.fit_transform(X_train_con)\n",
    "X_train_con_scaled_df = pd.DataFrame(X_train_con_scaled, columns=X_train_con.columns, index=X_train_con.index)\n",
    "\n",
    "#Combine\n",
    "X_train = pd.concat([X_train_genre,X_train_con_scaled_df],axis=1)\n",
    "\n",
    "\n",
    "\n",
    "# Val set\n",
    "# Convert genre to dummies\n",
    "X_val_genre = X_val['MPAA'].str.join(sep='*').str.get_dummies(sep='*')\n",
    "\n",
    "# Scaling continuous variables\n",
    "X_val_con = X_val[con_feature]\n",
    "X_val_con_scaled = scaler.fit_transform(X_val_con)\n",
    "X_val_con_scaled_df = pd.DataFrame(X_val_con_scaled, columns=X_val_con.columns, index=X_val_con.index)\n",
    "\n",
    "#Combine\n",
    "X_val = pd.concat([X_val_genre,X_val_con_scaled_df],axis=1)\n",
    "\n",
    "\n",
    "# Find the common columns to keep\n",
    "keep = list(set(X_train.columns).intersection(set(X_val.columns)))\n",
    "X_train = pd.concat([X_train_genre,X_train_con_scaled_df],axis=1)[keep]\n",
    "X_val = pd.concat([X_val_genre,X_val_con_scaled_df],axis=1)[keep]"
   ]
  },
  {
   "cell_type": "code",
   "execution_count": 950,
   "metadata": {},
   "outputs": [
    {
     "name": "stdout",
     "output_type": "stream",
     "text": [
      "\n",
      "Train R^2 score was: 0.6052464755899105\n",
      "Validation R^2 score was: 0.6210116489603429\n",
      "Feature coefficient results: \n",
      "\n",
      "budget : -1.55\n",
      "runtime : 1.01\n",
      "release_year : -0.61\n",
      "MPAA : 1.54\n"
     ]
    },
    {
     "data": {
      "image/png": "[encoded data removed]",
      "text/plain": [
       "<Figure size 432x288 with 1 Axes>"
      ]
     },
     "metadata": {},
     "output_type": "display_data"
    }
   ],
   "source": [
    "get_score(X_train, X_val, y_train, y_val)"
   ]
  },
  {
   "cell_type": "code",
   "execution_count": 951,
   "metadata": {},
   "outputs": [
    {
     "name": "stdout",
     "output_type": "stream",
     "text": [
      "Meam of validation score is: 0.5974870741945415\n",
      "[0.53767743 0.61513439 0.61443569 0.61012426 0.6100636 ]\n"
     ]
    }
   ],
   "source": [
    "# Cross-validation\n",
    "# Will not use X_test, y_test\n",
    "lr = LinearRegression()\n",
    "# X_train, X_test, y_train, y_test = train_test_split(X, y, test_size=.2, random_state=20)\n",
    "result = cross_val_score(lr, X_train, y_train, # estimator, features, target\n",
    "                cv=5, # number of folds \n",
    "                scoring='r2') # scoring metric\n",
    "# mean of val_score\n",
    "print(\"Meam of validation score is:\", np.mean(result))\n",
    "print(result)"
   ]
  },
  {
   "cell_type": "code",
   "execution_count": 952,
   "metadata": {},
   "outputs": [],
   "source": [
    "# all_df.info()"
   ]
  },
  {
   "cell_type": "markdown",
   "metadata": {},
   "source": [
    "### 3. language"
   ]
  },
  {
   "cell_type": "code",
   "execution_count": 953,
   "metadata": {},
   "outputs": [],
   "source": [
    "# Get the data from all_df with both continuous and categorical variables\n",
    "df = all_df[['opening_weekend_usa'] + con_feature + ['language']]\n",
    "# df = all_df[['rating'] + con_feature + con_book_feature + ['genre']]\n",
    "# df = all_df[['gross_usa'] + con_feature + con_book_feature + ['genre']]\n",
    "X, y = get_Xy(df)\n",
    "# train_test_split\n",
    "X_, X_test, y_, y_test = train_test_split(X, y, test_size=.2, random_state=42)\n",
    "X_train, X_val, y_train, y_val = train_test_split(X_, y_, test_size=.25, random_state=3)"
   ]
  },
  {
   "cell_type": "code",
   "execution_count": 954,
   "metadata": {},
   "outputs": [],
   "source": [
    "# Train set\n",
    "# Convert genre to dummies\n",
    "X_train_genre = X_train['language'].str.join(sep='*').str.get_dummies(sep='*')\n",
    "\n",
    "# Scaling continuous variables\n",
    "X_train_con = X_train[con_feature]\n",
    "X_train_con_scaled = scaler.fit_transform(X_train_con)\n",
    "X_train_con_scaled_df = pd.DataFrame(X_train_con_scaled, columns=X_train_con.columns, index=X_train_con.index)\n",
    "\n",
    "#Combine\n",
    "X_train = pd.concat([X_train_genre,X_train_con_scaled_df],axis=1)\n",
    "\n",
    "\n",
    "\n",
    "# Val set\n",
    "# Convert genre to dummies\n",
    "X_val_genre = X_val['language'].str.join(sep='*').str.get_dummies(sep='*')\n",
    "\n",
    "# Scaling continuous variables\n",
    "X_val_con = X_val[con_feature]\n",
    "X_val_con_scaled = scaler.fit_transform(X_val_con)\n",
    "X_val_con_scaled_df = pd.DataFrame(X_val_con_scaled, columns=X_val_con.columns, index=X_val_con.index)\n",
    "\n",
    "#Combine\n",
    "X_val = pd.concat([X_val_genre,X_val_con_scaled_df],axis=1)\n",
    "\n",
    "\n",
    "# Find the common columns to keep\n",
    "keep = list(set(X_train.columns).intersection(set(X_val.columns)))\n",
    "X_train = pd.concat([X_train_genre,X_train_con_scaled_df],axis=1)[keep]\n",
    "X_val = pd.concat([X_val_genre,X_val_con_scaled_df],axis=1)[keep]"
   ]
  },
  {
   "cell_type": "code",
   "execution_count": null,
   "metadata": {},
   "outputs": [],
   "source": []
  },
  {
   "cell_type": "code",
   "execution_count": 955,
   "metadata": {},
   "outputs": [
    {
     "name": "stdout",
     "output_type": "stream",
     "text": [
      "\n",
      "Train R^2 score was: 0.6143766052016362\n",
      "Validation R^2 score was: 0.6027190358779049\n",
      "Feature coefficient results: \n",
      "\n",
      "budget : -0.80\n",
      "runtime : 3.93\n",
      "release_year : -5.20\n",
      "language : -3.50\n"
     ]
    },
    {
     "data": {
      "image/png": "[encoded data removed]",
      "text/plain": [
       "<Figure size 432x288 with 1 Axes>"
      ]
     },
     "metadata": {},
     "output_type": "display_data"
    }
   ],
   "source": [
    "get_score(X_train, X_val, y_train, y_val)"
   ]
  },
  {
   "cell_type": "code",
   "execution_count": 956,
   "metadata": {},
   "outputs": [],
   "source": [
    "# X_train.info()"
   ]
  },
  {
   "cell_type": "code",
   "execution_count": 957,
   "metadata": {},
   "outputs": [
    {
     "name": "stdout",
     "output_type": "stream",
     "text": [
      "Meam of validation score is: -1.177780418051331e+22\n",
      "[-7.73897109e+21 -2.20467838e+15  6.11823947e-01 -5.11500476e+22\n",
      " -8.90459676e+07]\n"
     ]
    }
   ],
   "source": [
    "# Cross-validation\n",
    "# Will not use X_test, y_test\n",
    "lr = LinearRegression()\n",
    "# X_train, X_test, y_train, y_test = train_test_split(X, y, test_size=.2, random_state=20)\n",
    "result = cross_val_score(lr, X_train, y_train, # estimator, features, target\n",
    "                cv=5, # number of folds \n",
    "                scoring='r2') # scoring metric\n",
    "# mean of val_score\n",
    "print(\"Meam of validation score is:\", np.mean(result))\n",
    "print(result)"
   ]
  },
  {
   "cell_type": "code",
   "execution_count": null,
   "metadata": {},
   "outputs": [],
   "source": []
  },
  {
   "cell_type": "markdown",
   "metadata": {},
   "source": [
    "### 4. country"
   ]
  },
  {
   "cell_type": "code",
   "execution_count": 958,
   "metadata": {},
   "outputs": [],
   "source": [
    "# Get the data from all_df with both continuous and categorical variables\n",
    "df = all_df[['opening_weekend_usa'] + con_feature + ['country']]\n",
    "# df = all_df[['opening_weekend_usa'] + con_feature + ['genre'] + ['MPAA'] + ['language'] + ['country']]\n",
    "# df = all_df[['gross_usa'] + con_feature + con_book_feature + ['genre']]\n",
    "X, y = get_Xy(df)"
   ]
  },
  {
   "cell_type": "code",
   "execution_count": 959,
   "metadata": {},
   "outputs": [],
   "source": [
    "# train_test_split\n",
    "X_, X_test, y_, y_test = train_test_split(X, y, test_size=.2, random_state=13)\n",
    "X_train, X_val, y_train, y_val = train_test_split(X_, y_, test_size=.25, random_state=3)\n",
    "\n",
    "\n",
    "# Train set\n",
    "# Convert genre to dummies\n",
    "X_train_genre = X_train['country'].str.join(sep='*').str.get_dummies(sep='*')\n",
    "\n",
    "# Scaling continuous variables\n",
    "X_train_con = X_train[con_feature]\n",
    "X_train_con_scaled = scaler.fit_transform(X_train_con)\n",
    "X_train_con_scaled_df = pd.DataFrame(X_train_con_scaled, columns=X_train_con.columns, index=X_train_con.index)\n",
    "\n",
    "#Combine\n",
    "X_train = pd.concat([X_train_genre,X_train_con_scaled_df],axis=1)\n",
    "\n",
    "\n",
    "\n",
    "# Val set\n",
    "# Convert genre to dummies\n",
    "X_val_genre = X_val['country'].str.join(sep='*').str.get_dummies(sep='*')\n",
    "\n",
    "# Scaling continuous variables\n",
    "X_val_con = X_val[con_feature]\n",
    "X_val_con_scaled = scaler.fit_transform(X_val_con)\n",
    "X_val_con_scaled_df = pd.DataFrame(X_val_con_scaled, columns=X_val_con.columns, index=X_val_con.index)\n",
    "\n",
    "#Combine\n",
    "X_val = pd.concat([X_val_genre,X_val_con_scaled_df],axis=1)\n",
    "\n",
    "# Find the common columns to keep\n",
    "keep = list(set(X_train.columns).intersection(set(X_val.columns)))\n",
    "X_train = pd.concat([X_train_genre,X_train_con_scaled_df],axis=1)[keep]\n",
    "X_val = pd.concat([X_val_genre,X_val_con_scaled_df],axis=1)[keep]"
   ]
  },
  {
   "cell_type": "code",
   "execution_count": 866,
   "metadata": {},
   "outputs": [
    {
     "data": {
      "text/html": [
       "<div>\n",
       "<style scoped>\n",
       "    .dataframe tbody tr th:only-of-type {\n",
       "        vertical-align: middle;\n",
       "    }\n",
       "\n",
       "    .dataframe tbody tr th {\n",
       "        vertical-align: top;\n",
       "    }\n",
       "\n",
       "    .dataframe thead th {\n",
       "        text-align: right;\n",
       "    }\n",
       "</style>\n",
       "<table border=\"1\" class=\"dataframe\">\n",
       "  <thead>\n",
       "    <tr style=\"text-align: right;\">\n",
       "      <th></th>\n",
       "      <th>0</th>\n",
       "    </tr>\n",
       "  </thead>\n",
       "  <tbody>\n",
       "    <tr>\n",
       "      <th>USA</th>\n",
       "      <td>2071</td>\n",
       "    </tr>\n",
       "    <tr>\n",
       "      <th>UK</th>\n",
       "      <td>384</td>\n",
       "    </tr>\n",
       "    <tr>\n",
       "      <th>Canada</th>\n",
       "      <td>188</td>\n",
       "    </tr>\n",
       "    <tr>\n",
       "      <th>Germany</th>\n",
       "      <td>154</td>\n",
       "    </tr>\n",
       "    <tr>\n",
       "      <th>France</th>\n",
       "      <td>145</td>\n",
       "    </tr>\n",
       "    <tr>\n",
       "      <th>...</th>\n",
       "      <td>...</td>\n",
       "    </tr>\n",
       "    <tr>\n",
       "      <th>NorthKorea</th>\n",
       "      <td>1</td>\n",
       "    </tr>\n",
       "    <tr>\n",
       "      <th>Panama</th>\n",
       "      <td>1</td>\n",
       "    </tr>\n",
       "    <tr>\n",
       "      <th>Slovenia</th>\n",
       "      <td>1</td>\n",
       "    </tr>\n",
       "    <tr>\n",
       "      <th>Singapore</th>\n",
       "      <td>1</td>\n",
       "    </tr>\n",
       "    <tr>\n",
       "      <th>Liechtenstein</th>\n",
       "      <td>1</td>\n",
       "    </tr>\n",
       "  </tbody>\n",
       "</table>\n",
       "<p>61 rows × 1 columns</p>\n",
       "</div>"
      ],
      "text/plain": [
       "                  0\n",
       "USA            2071\n",
       "UK              384\n",
       "Canada          188\n",
       "Germany         154\n",
       "France          145\n",
       "...             ...\n",
       "NorthKorea        1\n",
       "Panama            1\n",
       "Slovenia          1\n",
       "Singapore         1\n",
       "Liechtenstein     1\n",
       "\n",
       "[61 rows x 1 columns]"
      ]
     },
     "execution_count": 866,
     "metadata": {},
     "output_type": "execute_result"
    }
   ],
   "source": [
    "pd.DataFrame(X_train_genre.sum()).sort_values(by=[0],ascending=False)"
   ]
  },
  {
   "cell_type": "code",
   "execution_count": 855,
   "metadata": {},
   "outputs": [
    {
     "name": "stdout",
     "output_type": "stream",
     "text": [
      "\n",
      "Train R^2 score was: 0.5234214751163859\n",
      "Validation R^2 score was: 0.4830423833481903\n",
      "Feature coefficient results: \n",
      "\n",
      "budget : 3.64\n",
      "runtime : -3.11\n",
      "release_year : 0.07\n",
      "country : -0.75\n"
     ]
    },
    {
     "data": {
      "image/png": "[encoded data removed]",
      "text/plain": [
       "<Figure size 432x288 with 1 Axes>"
      ]
     },
     "metadata": {},
     "output_type": "display_data"
    }
   ],
   "source": [
    "get_score(X_train, X_val, y_train, y_val)"
   ]
  },
  {
   "cell_type": "code",
   "execution_count": 856,
   "metadata": {},
   "outputs": [
    {
     "name": "stdout",
     "output_type": "stream",
     "text": [
      "Meam of validation score is: 0.4952746912735127\n",
      "[0.54014443 0.44291288 0.52722044 0.5179398  0.44815591]\n"
     ]
    }
   ],
   "source": [
    "# Cross-validation\n",
    "# Will not use X_test, y_test\n",
    "lr = LinearRegression()\n",
    "# X_train, X_test, y_train, y_test = train_test_split(X, y, test_size=.2, random_state=20)\n",
    "result = cross_val_score(lr, X_train, y_train, # estimator, features, target\n",
    "                cv=5, # number of folds \n",
    "                scoring='r2') # scoring metric\n",
    "# mean of val_score\n",
    "print(\"Meam of validation score is:\", np.mean(result))\n",
    "print(result)"
   ]
  },
  {
   "cell_type": "markdown",
   "metadata": {},
   "source": [
    "### 5. distributor"
   ]
  },
  {
   "cell_type": "code",
   "execution_count": null,
   "metadata": {},
   "outputs": [],
   "source": []
  },
  {
   "cell_type": "code",
   "execution_count": 382,
   "metadata": {},
   "outputs": [],
   "source": [
    "# Get the data from all_df with both continuous and categorical variables\n",
    "df = all_df[['opening_weekend_usa'] + con_feature + ['distributor']]\n",
    "# df = all_df[['opening_weekend_usa'] + con_feature + ['genre'] + ['MPAA'] + ['language'] + ['country'] + ['distributor']\n",
    "# df = all_df[['gross_usa'] + con_feature + con_book_feature + ['genre']]\n",
    "X, y = get_Xy(df)"
   ]
  },
  {
   "cell_type": "code",
   "execution_count": 383,
   "metadata": {},
   "outputs": [],
   "source": [
    "# train_test_split\n",
    "X_, X_test, y_, y_test = train_test_split(X, y, test_size=.2, random_state=13)\n",
    "X_train, X_val, y_train, y_val = train_test_split(X_, y_, test_size=.25, random_state=3)\n",
    "\n",
    "\n",
    "# Train set\n",
    "# Convert genre to dummies\n",
    "X_train_genre = X_train['distributor'].str.join(sep='*').str.get_dummies(sep='*')\n",
    "\n",
    "# Scaling continuous variables\n",
    "X_train_con = X_train[con_feature]\n",
    "X_train_con_scaled = scaler.fit_transform(X_train_con)\n",
    "X_train_con_scaled_df = pd.DataFrame(X_train_con_scaled, columns=X_train_con.columns, index=X_train_con.index)\n",
    "\n",
    "#Combine\n",
    "X_train = pd.concat([X_train_genre,X_train_con_scaled_df],axis=1)\n",
    "\n",
    "\n",
    "\n",
    "# Val set\n",
    "# Convert genre to dummies\n",
    "X_val_genre = X_val['distributor'].str.join(sep='*').str.get_dummies(sep='*')\n",
    "\n",
    "# Scaling continuous variables\n",
    "X_val_con = X_val[con_feature]\n",
    "X_val_con_scaled = scaler.fit_transform(X_val_con)\n",
    "X_val_con_scaled_df = pd.DataFrame(X_val_con_scaled, columns=X_val_con.columns, index=X_val_con.index)\n",
    "\n",
    "#Combine\n",
    "X_val = pd.concat([X_val_genre,X_val_con_scaled_df],axis=1)\n",
    "\n",
    "# Find the common columns to keep\n",
    "keep = list(set(X_train.columns).intersection(set(X_val.columns)))\n",
    "X_train = pd.concat([X_train_genre,X_train_con_scaled_df],axis=1)[keep]\n",
    "X_val = pd.concat([X_val_genre,X_val_con_scaled_df],axis=1)[keep]"
   ]
  },
  {
   "cell_type": "code",
   "execution_count": 384,
   "metadata": {},
   "outputs": [
    {
     "name": "stdout",
     "output_type": "stream",
     "text": [
      "\n",
      "Train R^2 score was: 0.47946516536238315\n",
      "Validation R^2 score was: 0.48286620606740405\n",
      "Feature coefficient results: \n",
      "\n",
      "budget : 0.42\n",
      "runtime : 0.16\n",
      "release_year : -0.69\n",
      "distributor : 0.49\n"
     ]
    },
    {
     "data": {
      "image/png": "[encoded data removed]",
      "text/plain": [
       "<Figure size 432x288 with 1 Axes>"
      ]
     },
     "metadata": {},
     "output_type": "display_data"
    }
   ],
   "source": [
    "get_score(X_train, X_val, y_train, y_val)"
   ]
  },
  {
   "cell_type": "code",
   "execution_count": 386,
   "metadata": {},
   "outputs": [
    {
     "name": "stdout",
     "output_type": "stream",
     "text": [
      "Meam of validation score is: -2.5078038437472117e+19\n",
      "[ 4.47836294e-01 -1.25390192e+20  4.07681873e-01  1.57570409e-01\n",
      "  4.79229774e-01]\n"
     ]
    }
   ],
   "source": [
    "# Cross-validation\n",
    "# Will not use X_test, y_test\n",
    "lr = LinearRegression()\n",
    "# X_train, X_test, y_train, y_test = train_test_split(X, y, test_size=.2, random_state=20)\n",
    "result = cross_val_score(lr, X_train, y_train, # estimator, features, target\n",
    "                cv=5, # number of folds \n",
    "                scoring='r2') # scoring metric\n",
    "# mean of val_score\n",
    "print(\"Meam of validation score is:\", np.mean(result))\n",
    "print(result)"
   ]
  },
  {
   "cell_type": "code",
   "execution_count": null,
   "metadata": {},
   "outputs": [],
   "source": []
  },
  {
   "cell_type": "markdown",
   "metadata": {},
   "source": [
    "### 7. actor"
   ]
  },
  {
   "cell_type": "code",
   "execution_count": null,
   "metadata": {},
   "outputs": [],
   "source": []
  },
  {
   "cell_type": "code",
   "execution_count": 967,
   "metadata": {},
   "outputs": [],
   "source": [
    "# Get the data from all_df with both continuous and categorical variables\n",
    "df = all_df[['opening_weekend_usa'] + con_feature + ['star']]\n",
    "# df = all_df[['opening_weekend_usa'] + con_feature + ['genre'] + ['MPAA'] + ['language'] + ['country'] + ['distributor']\n",
    "# df = all_df[['gross_usa'] + con_feature + con_book_feature + ['genre']]\n",
    "X, y = get_Xy(df)"
   ]
  },
  {
   "cell_type": "code",
   "execution_count": 968,
   "metadata": {},
   "outputs": [],
   "source": [
    "# train_test_split\n",
    "X_, X_test, y_, y_test = train_test_split(X, y, test_size=.2, random_state=13)\n",
    "X_train, X_val, y_train, y_val = train_test_split(X_, y_, test_size=.25, random_state=3)\n",
    "\n",
    "\n",
    "# Train set\n",
    "# Convert genre to dummies\n",
    "X_train_genre = X_train['star'].str.join(sep='*').str.get_dummies(sep='*')\n",
    "keep_actor = list(set(X_train_genre.columns).intersection(set(actor_list)))\n",
    "X_train_genre = X_train_genre[keep_actor]\n",
    "\n",
    "# Scaling continuous variables\n",
    "X_train_con = X_train[con_feature]\n",
    "X_train_con_scaled = scaler.fit_transform(X_train_con)\n",
    "X_train_con_scaled_df = pd.DataFrame(X_train_con_scaled, columns=X_train_con.columns, index=X_train_con.index)\n",
    "\n",
    "#Combine\n",
    "X_train = pd.concat([X_train_genre,X_train_con_scaled_df],axis=1)\n",
    "\n",
    "\n",
    "\n",
    "# Val set\n",
    "# Convert genre to dummies\n",
    "X_val_genre = X_val['star'].str.join(sep='*').str.get_dummies(sep='*')\n",
    "keep_actor = list(set(X_val_genre.columns).intersection(set(actor_list)))\n",
    "X_val_genre = X_val_genre[keep_actor]\n",
    "\n",
    "# Scaling continuous variables\n",
    "X_val_con = X_val[con_feature]\n",
    "X_val_con_scaled = scaler.fit_transform(X_val_con)\n",
    "X_val_con_scaled_df = pd.DataFrame(X_val_con_scaled, columns=X_val_con.columns, index=X_val_con.index)\n",
    "\n",
    "#Combine\n",
    "X_val = pd.concat([X_val_genre,X_val_con_scaled_df],axis=1)\n",
    "\n",
    "# Find the common columns to keep\n",
    "keep = list(set(X_train.columns).intersection(set(X_val.columns)))\n",
    "X_train = pd.concat([X_train_genre,X_train_con_scaled_df],axis=1)[keep]\n",
    "X_val = pd.concat([X_val_genre,X_val_con_scaled_df],axis=1)[keep]"
   ]
  },
  {
   "cell_type": "code",
   "execution_count": 969,
   "metadata": {},
   "outputs": [],
   "source": [
    "# Get the data from all_df with both continuous and categorical variables\n",
    "df = all_df[['opening_weekend_usa'] + con_feature + ['star']]\n",
    "# df = all_df[['opening_weekend_usa'] + con_feature + ['genre'] + ['MPAA'] + ['language'] + ['country'] + ['distributor']\n",
    "# df = all_df[['gross_usa'] + con_feature + con_book_feature + ['genre']]\n",
    "X, y = get_Xy(df)"
   ]
  },
  {
   "cell_type": "code",
   "execution_count": 970,
   "metadata": {},
   "outputs": [],
   "source": [
    "#\n",
    "## scaling + poly\n",
    "\n",
    "# train_test_split\n",
    "X_, X_test, y_, y_test = train_test_split(X, y, test_size=.2, random_state=13)\n",
    "X_train, X_val, y_train, y_val = train_test_split(X_, y_, test_size=.25, random_state=3)\n",
    "\n",
    "\n",
    "# Train set\n",
    "# Convert genre to dummies\n",
    "X_train_genre = X_train['star'].str.join(sep='*').str.get_dummies(sep='*')\n",
    "keep_actor = list(set(X_train_genre.columns).intersection(set(actor_list)))\n",
    "X_train_genre = X_train_genre[keep_actor]\n",
    "\n",
    "# Scaling continuous variables\n",
    "X_train_con = X_train[con_feature]\n",
    "X_train_con_scaled = scaler.fit_transform(X_train_con)\n",
    "X_train_con_scaled_df = pd.DataFrame(X_train_con_scaled, columns=X_train_con.columns, index=X_train_con.index)\n",
    "\n",
    "X_train_poly = poly.fit_transform(X_train_con_scaled)\n",
    "X_train_poly_df = pd.DataFrame(X_train_poly, columns=poly.get_feature_names(X_train_con.columns), index=X_train_con.index)\n",
    "\n",
    "\n",
    "#Combine\n",
    "# X_train = pd.concat([X_train_genre,X_train_con_scaled_df],axis=1)\n",
    "X_train = pd.concat([X_train_genre,X_train_poly_df],axis=1)\n",
    "\n",
    "\n",
    "\n",
    "# Val set\n",
    "# Convert genre to dummies\n",
    "X_val_genre = X_val['star'].str.join(sep='*').str.get_dummies(sep='*')\n",
    "keep_actor = list(set(X_val_genre.columns).intersection(set(actor_list)))\n",
    "X_val_genre = X_val_genre[keep_actor]\n",
    "\n",
    "# Scaling continuous variables\n",
    "X_val_con = X_val[con_feature]\n",
    "X_val_con_scaled = scaler.transform(X_val_con)\n",
    "X_val_con_scaled_df = pd.DataFrame(X_val_con_scaled, columns=X_val_con.columns, index=X_val_con.index)\n",
    "\n",
    "X_val_poly = poly.fit_transform(X_val_con_scaled)\n",
    "X_val_poly_df = pd.DataFrame(X_val_poly, columns=poly.get_feature_names(X_val_con.columns), index=X_val_con.index)\n",
    "\n",
    "\n",
    "#Combine\n",
    "# X_val = pd.concat([X_val_genre,X_val_con_scaled_df],axis=1)\n",
    "X_val = pd.concat([X_val_genre,X_val_poly_df],axis=1)\n",
    "\n",
    "# Find the common columns to keep\n",
    "keep = list(set(X_train.columns).intersection(set(X_val.columns)))\n",
    "X_train = X_train[keep]\n",
    "X_val = X_val[keep]"
   ]
  },
  {
   "cell_type": "code",
   "execution_count": 971,
   "metadata": {},
   "outputs": [],
   "source": [
    "# X_train_genre"
   ]
  },
  {
   "cell_type": "code",
   "execution_count": 972,
   "metadata": {},
   "outputs": [
    {
     "name": "stdout",
     "output_type": "stream",
     "text": [
      "\n",
      "Train R^2 score was: 0.6629678841738382\n",
      "Validation R^2 score was: 0.6070203961378139\n",
      "Feature coefficient results: \n",
      "\n",
      "budget : -2.29\n",
      "runtime : -0.87\n",
      "release_year : -1.30\n",
      "star : 3.44\n"
     ]
    },
    {
     "data": {
      "image/png": "[encoded data removed]",
      "text/plain": [
       "<Figure size 432x288 with 1 Axes>"
      ]
     },
     "metadata": {},
     "output_type": "display_data"
    }
   ],
   "source": [
    "get_score(X_train, X_val, y_train, y_val)"
   ]
  },
  {
   "cell_type": "code",
   "execution_count": 973,
   "metadata": {},
   "outputs": [
    {
     "name": "stdout",
     "output_type": "stream",
     "text": [
      "Mean of validation score is: 0.604101070517906\n",
      "[0.59353453 0.64136877 0.60426265 0.59872306 0.58261634]\n"
     ]
    }
   ],
   "source": [
    "# Cross-validation\n",
    "# Will not use X_test, y_test\n",
    "lr = LinearRegression()\n",
    "# X_train, X_test, y_train, y_test = train_test_split(X, y, test_size=.2, random_state=20)\n",
    "result = cross_val_score(lr, X_train, y_train, # estimator, features, target\n",
    "                cv=5, # number of folds \n",
    "                scoring='r2') # scoring metric\n",
    "# mean of val_score\n",
    "print(\"Mean of validation score is:\", np.mean(result))\n",
    "print(result)"
   ]
  },
  {
   "cell_type": "code",
   "execution_count": null,
   "metadata": {},
   "outputs": [],
   "source": []
  },
  {
   "cell_type": "markdown",
   "metadata": {},
   "source": [
    "### 6. all categorical variables\n",
    "\n",
    "#### * all categorical variables + scaling"
   ]
  },
  {
   "cell_type": "code",
   "execution_count": 979,
   "metadata": {},
   "outputs": [],
   "source": [
    "# Get the data from all_df with both continuous and categorical variables\n",
    "# Get the data from all_df with both continuous and categorical variables\n",
    "df = all_df[['opening_weekend_usa'] + con_feature + \\\n",
    "            ['genre'] + ['MPAA'] + ['language'] + ['country'] + ['distributor'] + ['star']]\n",
    "# df = all_df[['gross_usa'] + con_feature + con_book_feature + ['genre']]\n",
    "X, y = get_Xy(df)\n",
    "\n",
    "\n",
    "\n",
    "# train_test_split\n",
    "X_, X_test, y_, y_test = train_test_split(X, y, test_size=.2, random_state=13)\n",
    "X_train, X_val, y_train, y_val = train_test_split(X_, y_, test_size=.25, random_state=3)"
   ]
  },
  {
   "cell_type": "code",
   "execution_count": 980,
   "metadata": {},
   "outputs": [],
   "source": [
    "\n",
    "# Train set\n",
    "# Convert all cat to dummies\n",
    "X_train_genre = X_train['genre'].str.join(sep='*').str.get_dummies(sep='*')\n",
    "X_train_MPAA = pd.get_dummies(X_train['MPAA'])\n",
    "X_train_language= X_train['language'].str.join(sep='*').str.get_dummies(sep='*')\n",
    "X_train_country = X_train['country'].str.join(sep='*').str.get_dummies(sep='*')\n",
    "X_train_distributor = pd.get_dummies(X_train['distributor'])\n",
    "X_train_genre = X_train['star'].str.join(sep='*').str.get_dummies(sep='*')\n",
    "keep_actor = list(set(X_train_genre.columns).intersection(set(actor_list)))\n",
    "X_train_genre = X_train_genre[keep_actor]\n",
    "\n",
    "\n",
    "# Scaling continuous variables\n",
    "X_train_con = X_train[con_feature]\n",
    "X_train_con_scaled = scaler.fit_transform(X_train_con)\n",
    "X_train_con_scaled_df = pd.DataFrame(X_train_con_scaled, columns=X_train_con.columns, index=X_train_con.index)\n",
    "\n",
    "#Combine\n",
    "X_train = pd.concat([X_train_genre,X_train_MPAA, X_train_language, X_train_country, X_train_distributor,\\\n",
    "                     X_train_con_scaled_df],axis=1)\n",
    "\n",
    "\n",
    "\n",
    "# Val set\n",
    "# Convert genre to dummies\n",
    "X_val_genre = X_val['genre'].str.join(sep='*').str.get_dummies(sep='*')\n",
    "X_val_MPAA = pd.get_dummies(X_val['MPAA'])\n",
    "X_val_language= X_val['language'].str.join(sep='*').str.get_dummies(sep='*')\n",
    "X_val_country = X_val['country'].str.join(sep='*').str.get_dummies(sep='*')\n",
    "X_val_distributor = pd.get_dummies(X_val['distributor'])\n",
    "X_val_genre = X_val['star'].str.join(sep='*').str.get_dummies(sep='*')\n",
    "keep_actor = list(set(X_val_genre.columns).intersection(set(actor_list)))\n",
    "X_val_genre = X_val_genre[keep_actor]\n",
    "\n",
    "\n",
    "# Scaling continuous variables\n",
    "X_val_con = X_val[con_feature]\n",
    "X_val_con_scaled = scaler.transform(X_val_con)\n",
    "X_val_con_scaled_df = pd.DataFrame(X_val_con_scaled, columns=X_val_con.columns, index=X_val_con.index)\n",
    "\n",
    "#Combine\n",
    "X_val = pd.concat([X_val_genre,X_val_MPAA, X_val_language, X_val_country, X_val_distributor, \\\n",
    "                   X_val_con_scaled_df],axis=1)\n",
    "            \n",
    "            \n",
    "# Find the common columns to keep\n",
    "keep = list(set(X_train.columns).intersection(set(X_val.columns)))\n",
    "X_train = X_train[keep]\n",
    "X_val = X_val[keep]"
   ]
  },
  {
   "cell_type": "code",
   "execution_count": 981,
   "metadata": {},
   "outputs": [
    {
     "data": {
      "text/plain": [
       "((1945, 323), (649, 323))"
      ]
     },
     "execution_count": 981,
     "metadata": {},
     "output_type": "execute_result"
    }
   ],
   "source": [
    "X_train.shape, X_val.shape"
   ]
  },
  {
   "cell_type": "code",
   "execution_count": 982,
   "metadata": {},
   "outputs": [
    {
     "name": "stdout",
     "output_type": "stream",
     "text": [
      "\n",
      "Train R^2 score was: 0.7179542337245232\n",
      "Validation R^2 score was: -8.89743074602731e+24\n",
      "Feature coefficient results: \n",
      "\n",
      "budget : -2.33\n",
      "runtime : -2.80\n",
      "release_year : -3.02\n",
      "genre : -2.78\n",
      "MPAA : 7.17\n",
      "language : 2.10\n",
      "country : -0.09\n",
      "distributor : -6.64\n",
      "star : 1.59\n"
     ]
    },
    {
     "data": {
      "image/png": "[encoded data removed]",
      "text/plain": [
       "<Figure size 432x288 with 1 Axes>"
      ]
     },
     "metadata": {},
     "output_type": "display_data"
    }
   ],
   "source": [
    "get_score(X_train, X_val, y_train, y_val)"
   ]
  },
  {
   "cell_type": "code",
   "execution_count": 984,
   "metadata": {},
   "outputs": [
    {
     "name": "stdout",
     "output_type": "stream",
     "text": [
      "Mean of validation score is: -2.1543444759595957e+24\n",
      "[-3.13860357e+21 -1.05552160e+25 -5.78754177e+22 -1.43123561e+23\n",
      " -1.23688312e+22]\n"
     ]
    }
   ],
   "source": [
    "# Cross-validation\n",
    "# Will not use X_test, y_test\n",
    "lr = LinearRegression()\n",
    "# X_train, X_test, y_train, y_test = train_test_split(X, y, test_size=.2, random_state=20)\n",
    "result = cross_val_score(lr, X_train, y_train, # estimator, features, target\n",
    "                cv=5, # number of folds \n",
    "                scoring='r2') # scoring metric\n",
    "# mean of val_score\n",
    "print(\"Mean of validation score is:\", np.mean(result))\n",
    "print(result)"
   ]
  },
  {
   "cell_type": "markdown",
   "metadata": {},
   "source": [
    "#### * All categorical variables + scaling + polynomial features"
   ]
  },
  {
   "cell_type": "code",
   "execution_count": 985,
   "metadata": {},
   "outputs": [],
   "source": [
    "# Get the data from all_df with both continuous and categorical variables\n",
    "# Get the data from all_df with both continuous and categorical variables\n",
    "df = all_df[['opening_weekend_usa'] + con_feature + \\\n",
    "            ['genre'] + ['MPAA'] + ['language'] + ['country'] + ['distributor'] + ['star']]\n",
    "# df = all_df[['gross_usa'] + con_feature + con_book_feature + ['genre']]\n",
    "X, y = get_Xy(df)\n",
    "\n",
    "\n",
    "\n",
    "# train_test_split\n",
    "X_, X_test, y_, y_test = train_test_split(X, y, test_size=.2, random_state=13)\n",
    "X_train, X_val, y_train, y_val = train_test_split(X_, y_, test_size=.25, random_state=3)"
   ]
  },
  {
   "cell_type": "code",
   "execution_count": 986,
   "metadata": {},
   "outputs": [],
   "source": [
    "\n",
    "# Train set\n",
    "# Convert all cat to dummies\n",
    "X_train_genre = X_train['genre'].str.join(sep='*').str.get_dummies(sep='*')\n",
    "X_train_MPAA = pd.get_dummies(X_train['MPAA'])\n",
    "X_train_language= X_train['language'].str.join(sep='*').str.get_dummies(sep='*')\n",
    "X_train_country = X_train['country'].str.join(sep='*').str.get_dummies(sep='*')\n",
    "X_train_distributor = pd.get_dummies(X_train['distributor'])\n",
    "X_train_genre = X_train['star'].str.join(sep='*').str.get_dummies(sep='*')\n",
    "keep_actor = list(set(X_train_genre.columns).intersection(set(actor_list)))\n",
    "X_train_genre = X_train_genre[keep_actor]\n",
    "\n",
    "\n",
    "# Scaling continuous variables\n",
    "X_train_con = X_train[con_feature]\n",
    "X_train_con_scaled = scaler.fit_transform(X_train_con)\n",
    "X_train_con_scaled_df = pd.DataFrame(X_train_con_scaled, columns=X_train_con.columns, index=X_train_con.index)\n",
    "\n",
    "X_train_poly = poly.fit_transform(X_train_con_scaled)\n",
    "X_train_poly_df = pd.DataFrame(X_train_poly, columns=poly.get_feature_names(X_train_con.columns), index=X_train_con.index)\n",
    "\n",
    "\n",
    "# Combine\n",
    "# X_train = pd.concat([X_train_genre,X_train_con_scaled_df],axis=1)\n",
    "X_train = pd.concat([X_train_genre,X_train_poly_df],axis=1)\n",
    "\n",
    "\n",
    "\n",
    "# Val set\n",
    "# Convert genre to dummies\n",
    "X_val_genre = X_val['genre'].str.join(sep='*').str.get_dummies(sep='*')\n",
    "X_val_MPAA = pd.get_dummies(X_val['MPAA'])\n",
    "X_val_language= X_val['language'].str.join(sep='*').str.get_dummies(sep='*')\n",
    "X_val_country = X_val['country'].str.join(sep='*').str.get_dummies(sep='*')\n",
    "X_val_distributor = pd.get_dummies(X_val['distributor'])\n",
    "X_val_genre = X_val['star'].str.join(sep='*').str.get_dummies(sep='*')\n",
    "keep_actor = list(set(X_val_genre.columns).intersection(set(actor_list)))\n",
    "X_val_genre = X_val_genre[keep_actor]\n",
    "\n",
    "\n",
    "# Scaling continuous variables\n",
    "X_val_con = X_val[con_feature]\n",
    "X_val_con_scaled = scaler.transform(X_val_con)\n",
    "X_val_con_scaled_df = pd.DataFrame(X_val_con_scaled, columns=X_val_con.columns, index=X_val_con.index)\n",
    "\n",
    "X_val_poly = poly.fit_transform(X_val_con_scaled)\n",
    "X_val_poly_df = pd.DataFrame(X_val_poly, columns=poly.get_feature_names(X_val_con.columns), index=X_val_con.index)\n",
    "\n",
    "\n",
    "# Combine\n",
    "# X_val = pd.concat([X_val_genre,X_val_con_scaled_df],axis=1)\n",
    "X_val = pd.concat([X_val_genre,X_val_poly_df],axis=1)\n",
    "\n",
    "# Find the common columns to keep\n",
    "keep = list(set(X_train.columns).intersection(set(X_val.columns)))\n",
    "X_train = X_train[keep]\n",
    "X_val = X_val[keep]"
   ]
  },
  {
   "cell_type": "code",
   "execution_count": 987,
   "metadata": {},
   "outputs": [
    {
     "data": {
      "text/plain": [
       "((1945, 109), (649, 109))"
      ]
     },
     "execution_count": 987,
     "metadata": {},
     "output_type": "execute_result"
    }
   ],
   "source": [
    "X_train.shape, X_val.shape"
   ]
  },
  {
   "cell_type": "code",
   "execution_count": 988,
   "metadata": {},
   "outputs": [
    {
     "data": {
      "text/plain": [
       "0.6629678841738382"
      ]
     },
     "execution_count": 988,
     "metadata": {},
     "output_type": "execute_result"
    }
   ],
   "source": [
    "lr = LinearRegression()\n",
    "lr.fit(X_train,y_train)\n",
    "lr.score(X_train,y_train)"
   ]
  },
  {
   "cell_type": "code",
   "execution_count": 989,
   "metadata": {},
   "outputs": [
    {
     "data": {
      "text/plain": [
       "[('1', -2.2932571508140427),\n",
       " ('budget', -0.870053497791391),\n",
       " ('runtime', -1.3047244233234263),\n",
       " ('release_year', 3.444411202909062),\n",
       " ('budget^2', 1.1079023725568686),\n",
       " ('budget runtime', -2.7175887694219174),\n",
       " ('budget release_year', -3.145365731443444),\n",
       " ('runtime^2', 0.318859563264275),\n",
       " ('runtime release_year', -1.1399952530622077),\n",
       " ('release_year^2', -5.589054384387402)]"
      ]
     },
     "execution_count": 989,
     "metadata": {},
     "output_type": "execute_result"
    }
   ],
   "source": [
    "list(zip(poly.get_feature_names(X_val_con.columns), lr.coef_))"
   ]
  },
  {
   "cell_type": "code",
   "execution_count": 990,
   "metadata": {},
   "outputs": [
    {
     "name": "stdout",
     "output_type": "stream",
     "text": [
      "\n",
      "Train R^2 score was: 0.6629678841738382\n",
      "Validation R^2 score was: 0.6070203961378139\n",
      "Feature coefficient results: \n",
      "\n",
      "budget : -2.29\n",
      "runtime : -0.87\n",
      "release_year : -1.30\n",
      "genre : 3.44\n",
      "MPAA : 1.11\n",
      "language : -2.72\n",
      "country : -3.15\n",
      "distributor : 0.32\n",
      "star : -1.14\n"
     ]
    },
    {
     "data": {
      "image/png": "[encoded data removed]",
      "text/plain": [
       "<Figure size 432x288 with 1 Axes>"
      ]
     },
     "metadata": {},
     "output_type": "display_data"
    }
   ],
   "source": [
    "get_score(X_train, X_val, y_train, y_val)"
   ]
  },
  {
   "cell_type": "code",
   "execution_count": 992,
   "metadata": {},
   "outputs": [
    {
     "name": "stdout",
     "output_type": "stream",
     "text": [
      "Mean of validation score is: 0.604101070517906\n",
      "[0.59353453 0.64136877 0.60426265 0.59872306 0.58261634]\n"
     ]
    }
   ],
   "source": [
    "# Cross-validation\n",
    "# Will not use X_test, y_test\n",
    "lr = LinearRegression()\n",
    "# X_, X_test, y_, y_test = train_test_split(X, y, test_size=.2, random_state=13)\n",
    "# X_train, X_val, y_train, y_val = train_test_split(X_, y_, test_size=.25, random_state=3)\n",
    "result = cross_val_score(lr, X_train, y_train, # estimator, features, target\n",
    "                cv=5, # number of folds \n",
    "                scoring='r2') # scoring metric\n",
    "# mean of val_score\n",
    "print(\"Mean of validation score is:\", np.mean(result))\n",
    "print(result)"
   ]
  },
  {
   "cell_type": "code",
   "execution_count": null,
   "metadata": {},
   "outputs": [],
   "source": []
  },
  {
   "cell_type": "code",
   "execution_count": null,
   "metadata": {},
   "outputs": [],
   "source": []
  },
  {
   "cell_type": "code",
   "execution_count": 320,
   "metadata": {},
   "outputs": [],
   "source": [
    "# all_variable_score('movie only')"
   ]
  },
  {
   "cell_type": "code",
   "execution_count": 321,
   "metadata": {},
   "outputs": [],
   "source": [
    "# all_variable_score('movie+book')"
   ]
  },
  {
   "cell_type": "code",
   "execution_count": null,
   "metadata": {},
   "outputs": [],
   "source": []
  },
  {
   "cell_type": "code",
   "execution_count": null,
   "metadata": {},
   "outputs": [],
   "source": []
  },
  {
   "cell_type": "markdown",
   "metadata": {},
   "source": [
    "## 4. Incorporate Polynomial Features"
   ]
  },
  {
   "cell_type": "code",
   "execution_count": 999,
   "metadata": {},
   "outputs": [],
   "source": [
    "from sklearn.preprocessing import PolynomialFeatures\n",
    "poly = PolynomialFeatures(degree=2,interaction_only = True)\n",
    "\n",
    "\n",
    "# Get the data from all_df with both continuous and categorical variables\n",
    "# Get the data from all_df with both continuous and categorical variables\n",
    "df = all_df[['opening_weekend_usa'] + con_feature + \\\n",
    "            ['genre'] + ['MPAA'] + ['language'] + ['country'] + ['distributor'] + ['star']]\n",
    "# df = all_df[['gross_usa'] + con_feature + con_book_feature + ['genre']]\n",
    "X, y = get_Xy(df)\n",
    "\n",
    "\n",
    "\n",
    "# train_test_split\n",
    "X_, X_test, y_, y_test = train_test_split(X, y, test_size=.2, random_state=13)\n",
    "X_train, X_val, y_train, y_val = train_test_split(X_, y_, test_size=.25, random_state=3)\n",
    "\n",
    "\n",
    "# train_test_split\n",
    "X_, X_test, y_, y_test = train_test_split(X, y, test_size=.2, random_state=13)\n",
    "X_train, X_val, y_train, y_val = train_test_split(X_, y_, test_size=.25, random_state=3)\n",
    "\n",
    "\n",
    "# Train set\n",
    "# Convert all cat to dummies\n",
    "X_train_genre = X_train['genre'].str.join(sep='*').str.get_dummies(sep='*')\n",
    "X_train_MPAA = pd.get_dummies(X_train['MPAA'])\n",
    "X_train_language= X_train['language'].str.join(sep='*').str.get_dummies(sep='*')\n",
    "X_train_country = X_train['country'].str.join(sep='*').str.get_dummies(sep='*')\n",
    "X_train_distributor = pd.get_dummies(X_train['distributor'])\n",
    "X_train_genre = X_train['star'].str.join(sep='*').str.get_dummies(sep='*')\n",
    "keep_actor = list(set(X_train_genre.columns).intersection(set(actor_list)))\n",
    "X_train_genre = X_train_genre[keep_actor]\n",
    "\n",
    "# Scaling continuous variables\n",
    "X_train_con = X_train[con_feature]\n",
    "X_train_con_scaled = poly.fit_transform(scaler.fit_transform(X_train_con)) # standardscalar and polyfeatrues\n",
    "poly_column = poly.get_feature_names(con_feature) # poly coef columns\n",
    "X_train_con_scaled_df = pd.DataFrame(X_train_con_scaled, columns = poly_column,\\\n",
    "                                     index=X_train_con.index)\n",
    "\n",
    "#Combine\n",
    "X_train = pd.concat([X_train_genre,X_train_MPAA, X_train_language, X_train_country, X_train_distributor,\\\n",
    "                     X_train_con_scaled_df],axis=1)\n",
    "\n",
    "\n",
    "\n",
    "# Val set\n",
    "# Convert genre to dummies\n",
    "X_val_genre = X_val['genre'].str.join(sep='*').str.get_dummies(sep='*')\n",
    "X_val_MPAA = pd.get_dummies(X_val['MPAA'])\n",
    "X_val_language= X_val['language'].str.join(sep='*').str.get_dummies(sep='*')\n",
    "X_val_country = X_val['country'].str.join(sep='*').str.get_dummies(sep='*')\n",
    "X_val_distributor = pd.get_dummies(X_val['distributor'])\n",
    "X_val_genre = X_val['star'].str.join(sep='*').str.get_dummies(sep='*')\n",
    "keep_actor = list(set(X_val_genre.columns).intersection(set(actor_list)))\n",
    "X_val_genre = X_val_genre[keep_actor]\n",
    "\n",
    "# Scaling continuous variables\n",
    "X_val_con = X_val[con_feature]\n",
    "X_val_con_scaled = poly.transform(scaler.fit_transform(X_val_con)) # standardscalar and polyfeatrues\n",
    "poly_column = poly.get_feature_names(con_feature) # poly coef columns\n",
    "X_val_con_scaled_df = pd.DataFrame(X_val_con_scaled, columns = poly_column,\\\n",
    "                                   index=X_val_con.index)\n",
    "\n",
    "#Combine\n",
    "X_val = pd.concat([X_val_genre,X_val_MPAA, X_val_language, X_val_country, X_val_distributor, \\\n",
    "                   X_val_con_scaled_df],axis=1)\n",
    "\n",
    "# Find the common columns to keep\n",
    "keep = list(set(X_train.columns).intersection(set(X_val.columns)))\n",
    "X_train = X_train[keep]\n",
    "X_val = X_val[keep]"
   ]
  },
  {
   "cell_type": "code",
   "execution_count": 1000,
   "metadata": {},
   "outputs": [
    {
     "name": "stdout",
     "output_type": "stream",
     "text": [
      "\n",
      "Train R^2 score was: 0.7217599911011177\n",
      "Validation R^2 score was: 0.552856287760285\n",
      "Feature coefficient results: \n",
      "\n",
      "budget : -1.48\n",
      "runtime : -3.21\n",
      "release_year : -1.42\n",
      "genre : -3.16\n",
      "MPAA : 7.34\n",
      "language : 2.09\n",
      "country : -0.15\n",
      "distributor : -6.79\n",
      "star : 2.29\n"
     ]
    },
    {
     "data": {
      "image/png": "[encoded data removed]",
      "text/plain": [
       "<Figure size 432x288 with 1 Axes>"
      ]
     },
     "metadata": {},
     "output_type": "display_data"
    }
   ],
   "source": [
    "get_score(X_train, X_val, y_train, y_val)"
   ]
  },
  {
   "cell_type": "code",
   "execution_count": 1001,
   "metadata": {},
   "outputs": [
    {
     "name": "stdout",
     "output_type": "stream",
     "text": [
      "Mean of validation score is: -1.6137588493625806e+24\n",
      "[-3.07617397e+22 -2.07961583e+24 -3.14980693e+22 -5.90763403e+24\n",
      " -1.92845760e+22]\n"
     ]
    }
   ],
   "source": [
    "# Cross-validation\n",
    "# Will not use X_test, y_test\n",
    "lr = LinearRegression()\n",
    "# X_, X_test, y_, y_test = train_test_split(X, y, test_size=.2, random_state=13)\n",
    "# X_train, X_val, y_train, y_val = train_test_split(X_, y_, test_size=.25, random_state=3)\n",
    "result = cross_val_score(lr, X_train, y_train, # estimator, features, target\n",
    "                cv=5, # number of folds \n",
    "                scoring='r2') # scoring metric\n",
    "# mean of val_score\n",
    "print(\"Mean of validation score is:\", np.mean(result))\n",
    "print(result)"
   ]
  },
  {
   "cell_type": "code",
   "execution_count": null,
   "metadata": {},
   "outputs": [],
   "source": []
  },
  {
   "cell_type": "code",
   "execution_count": 995,
   "metadata": {},
   "outputs": [
    {
     "name": "stdout",
     "output_type": "stream",
     "text": [
      "\n",
      "Train R^2 score was: 0.7058985260546331\n",
      "Validation R^2 score was: -8.942910051390256e+19\n",
      "Feature coefficient results: \n",
      "\n",
      "budget : -3.08\n",
      "runtime : -2.79\n",
      "release_year : 4.76\n",
      "genre : 1.14\n",
      "MPAA : -1.07\n",
      "language : -20.64\n",
      "country : -4.37\n",
      "distributor : -2.73\n"
     ]
    },
    {
     "data": {
      "image/png": "[encoded data removed]",
      "text/plain": [
       "<Figure size 432x288 with 1 Axes>"
      ]
     },
     "metadata": {},
     "output_type": "display_data"
    }
   ],
   "source": [
    "from sklearn.preprocessing import PolynomialFeatures\n",
    "poly = PolynomialFeatures(degree=2,interaction_only = False)\n",
    "\n",
    "\n",
    "# Get the data from all_df with both continuous and categorical variables\n",
    "# Get the data from all_df with both continuous and categorical variables\n",
    "df = all_df[['opening_weekend_usa'] + con_feature + \\\n",
    "            ['genre'] + ['MPAA'] + ['language'] + ['country'] + ['distributor']]\n",
    "# df = all_df[['gross_usa'] + con_feature + con_book_feature + ['genre']]\n",
    "X, y = get_Xy(df)\n",
    "\n",
    "\n",
    "\n",
    "# train_test_split\n",
    "X_, X_test, y_, y_test = train_test_split(X, y, test_size=.2, random_state=13)\n",
    "X_train, X_val, y_train, y_val = train_test_split(X_, y_, test_size=.25, random_state=3)\n",
    "\n",
    "\n",
    "# train_test_split\n",
    "X_, X_test, y_, y_test = train_test_split(X, y, test_size=.2, random_state=13)\n",
    "X_train, X_val, y_train, y_val = train_test_split(X_, y_, test_size=.25, random_state=3)\n",
    "\n",
    "\n",
    "# Train set\n",
    "# Convert all cat to dummies\n",
    "X_train_genre = X_train['genre'].str.join(sep='*').str.get_dummies(sep='*')\n",
    "X_train_MPAA = pd.get_dummies(X_train['MPAA'])\n",
    "X_train_language= X_train['language'].str.join(sep='*').str.get_dummies(sep='*')\n",
    "X_train_country = X_train['country'].str.join(sep='*').str.get_dummies(sep='*')\n",
    "X_train_distributor = pd.get_dummies(X_train['distributor'])\n",
    "\n",
    "# Scaling continuous variables\n",
    "X_train_con = X_train[con_feature]\n",
    "X_train_con_scaled = poly.fit_transform(scaler.fit_transform(X_train_con)) # standardscalar and polyfeatrues\n",
    "poly_column = poly.get_feature_names(con_feature) # poly coef columns\n",
    "X_train_con_scaled_df = pd.DataFrame(X_train_con_scaled, columns = poly_column,\\\n",
    "                                     index=X_train_con.index)\n",
    "\n",
    "#Combine\n",
    "X_train = pd.concat([X_train_genre,X_train_MPAA, X_train_language, X_train_country, X_train_distributor,\\\n",
    "                     X_train_con_scaled_df],axis=1)\n",
    "\n",
    "\n",
    "\n",
    "# Val set\n",
    "# Convert genre to dummies\n",
    "X_val_genre = X_val['genre'].str.join(sep='*').str.get_dummies(sep='*')\n",
    "X_val_MPAA = pd.get_dummies(X_val['MPAA'])\n",
    "X_val_language= X_val['language'].str.join(sep='*').str.get_dummies(sep='*')\n",
    "X_val_country = X_val['country'].str.join(sep='*').str.get_dummies(sep='*')\n",
    "X_val_distributor = pd.get_dummies(X_val['distributor'])\n",
    "\n",
    "# Scaling continuous variables\n",
    "X_val_con = X_val[con_feature]\n",
    "X_val_con_scaled = poly.transform(scaler.fit_transform(X_val_con)) # standardscalar and polyfeatrues\n",
    "poly_column = poly.get_feature_names(con_feature) # poly coef columns\n",
    "X_val_con_scaled_df = pd.DataFrame(X_val_con_scaled, columns = poly_column,\\\n",
    "                                   index=X_val_con.index)\n",
    "\n",
    "#Combine\n",
    "X_val = pd.concat([X_val_genre,X_val_MPAA, X_val_language, X_val_country, X_val_distributor, \\\n",
    "                   X_val_con_scaled_df],axis=1)\n",
    "\n",
    "# Find the common columns to keep\n",
    "keep = list(set(X_train.columns).intersection(set(X_val.columns)))\n",
    "X_train = X_train[keep]\n",
    "X_val = X_val[keep]\n",
    "\n",
    "get_score(X_train, X_val, y_train, y_val)"
   ]
  },
  {
   "cell_type": "code",
   "execution_count": null,
   "metadata": {},
   "outputs": [],
   "source": []
  },
  {
   "cell_type": "markdown",
   "metadata": {},
   "source": [
    "### Find outliers and evaluate the model again"
   ]
  },
  {
   "cell_type": "code",
   "execution_count": 820,
   "metadata": {},
   "outputs": [],
   "source": [
    "lc_df = all_df[['movie_title'] + ['opening_weekend_usa'] + con_feature + \n",
    "               ['genre','release_year','rating']].copy().dropna()"
   ]
  },
  {
   "cell_type": "code",
   "execution_count": 823,
   "metadata": {},
   "outputs": [],
   "source": [
    "X = lc_df[con_feature + ['rating']]\n",
    "y = lc_df['opening_weekend_usa']\n",
    "X_train, X_val, y_train, y_val = train_test_split(X, y, test_size=.15, random_state=58)\n",
    "\n",
    "lr = LinearRegression()\n",
    "lr.fit(X_train, y_train)\n",
    "lr.score(X_train, y_train)\n",
    "lc_df['res'] = lr.predict(lc_df[con_feature + ['rating']])-lc_df['opening_weekend_usa']"
   ]
  },
  {
   "cell_type": "code",
   "execution_count": 878,
   "metadata": {},
   "outputs": [
    {
     "data": {
      "text/html": [
       "<div>\n",
       "<style scoped>\n",
       "    .dataframe tbody tr th:only-of-type {\n",
       "        vertical-align: middle;\n",
       "    }\n",
       "\n",
       "    .dataframe tbody tr th {\n",
       "        vertical-align: top;\n",
       "    }\n",
       "\n",
       "    .dataframe thead th {\n",
       "        text-align: right;\n",
       "    }\n",
       "</style>\n",
       "<table border=\"1\" class=\"dataframe\">\n",
       "  <thead>\n",
       "    <tr style=\"text-align: right;\">\n",
       "      <th></th>\n",
       "      <th>movie_title</th>\n",
       "      <th>release_year</th>\n",
       "      <th>release_year</th>\n",
       "      <th>genre</th>\n",
       "      <th>res</th>\n",
       "    </tr>\n",
       "  </thead>\n",
       "  <tbody>\n",
       "    <tr>\n",
       "      <th>46</th>\n",
       "      <td>Joker</td>\n",
       "      <td>2019</td>\n",
       "      <td>2019</td>\n",
       "      <td>[Crime, Drama, Thriller]</td>\n",
       "      <td>-76.857885</td>\n",
       "    </tr>\n",
       "    <tr>\n",
       "      <th>234</th>\n",
       "      <td>Fifty Shades of Grey</td>\n",
       "      <td>2015</td>\n",
       "      <td>2015</td>\n",
       "      <td>[Drama, Romance, Thriller]</td>\n",
       "      <td>-71.294337</td>\n",
       "    </tr>\n",
       "    <tr>\n",
       "      <th>457</th>\n",
       "      <td>It Chapter Two</td>\n",
       "      <td>2019</td>\n",
       "      <td>2019</td>\n",
       "      <td>[Drama, Fantasy, Horror]</td>\n",
       "      <td>-68.088223</td>\n",
       "    </tr>\n",
       "    <tr>\n",
       "      <th>1600</th>\n",
       "      <td>Halloween</td>\n",
       "      <td>2018</td>\n",
       "      <td>2018</td>\n",
       "      <td>[Crime, Horror, Thriller]</td>\n",
       "      <td>-67.851580</td>\n",
       "    </tr>\n",
       "    <tr>\n",
       "      <th>325</th>\n",
       "      <td>Harry Potter and the Chamber of Secrets</td>\n",
       "      <td>2002</td>\n",
       "      <td>2002</td>\n",
       "      <td>[Adventure, Family, Fantasy]</td>\n",
       "      <td>-62.206409</td>\n",
       "    </tr>\n",
       "    <tr>\n",
       "      <th>...</th>\n",
       "      <td>...</td>\n",
       "      <td>...</td>\n",
       "      <td>...</td>\n",
       "      <td>...</td>\n",
       "      <td>...</td>\n",
       "    </tr>\n",
       "    <tr>\n",
       "      <th>338</th>\n",
       "      <td>The Hangover</td>\n",
       "      <td>2009</td>\n",
       "      <td>2009</td>\n",
       "      <td>[Comedy]</td>\n",
       "      <td>-31.348815</td>\n",
       "    </tr>\n",
       "    <tr>\n",
       "      <th>1735</th>\n",
       "      <td>Friday the 13th</td>\n",
       "      <td>2009</td>\n",
       "      <td>2009</td>\n",
       "      <td>[Horror, Mystery, Thriller]</td>\n",
       "      <td>-31.308174</td>\n",
       "    </tr>\n",
       "    <tr>\n",
       "      <th>450</th>\n",
       "      <td>Sonic the Hedgehog</td>\n",
       "      <td>2020</td>\n",
       "      <td>2020</td>\n",
       "      <td>[Action, Adventure, Comedy]</td>\n",
       "      <td>-30.938759</td>\n",
       "    </tr>\n",
       "    <tr>\n",
       "      <th>644</th>\n",
       "      <td>Ant-Man and the Wasp</td>\n",
       "      <td>2018</td>\n",
       "      <td>2018</td>\n",
       "      <td>[Action, Adventure, Comedy]</td>\n",
       "      <td>-30.790388</td>\n",
       "    </tr>\n",
       "    <tr>\n",
       "      <th>502</th>\n",
       "      <td>Transformers</td>\n",
       "      <td>2007</td>\n",
       "      <td>2007</td>\n",
       "      <td>[Action, Adventure, Sci-Fi]</td>\n",
       "      <td>-30.637347</td>\n",
       "    </tr>\n",
       "  </tbody>\n",
       "</table>\n",
       "<p>100 rows × 5 columns</p>\n",
       "</div>"
      ],
      "text/plain": [
       "                                  movie_title  release_year  release_year  \\\n",
       "46                                      Joker          2019          2019   \n",
       "234                      Fifty Shades of Grey          2015          2015   \n",
       "457                            It Chapter Two          2019          2019   \n",
       "1600                                Halloween          2018          2018   \n",
       "325   Harry Potter and the Chamber of Secrets          2002          2002   \n",
       "...                                       ...           ...           ...   \n",
       "338                              The Hangover          2009          2009   \n",
       "1735                          Friday the 13th          2009          2009   \n",
       "450                        Sonic the Hedgehog          2020          2020   \n",
       "644                      Ant-Man and the Wasp          2018          2018   \n",
       "502                              Transformers          2007          2007   \n",
       "\n",
       "                             genre        res  \n",
       "46        [Crime, Drama, Thriller] -76.857885  \n",
       "234     [Drama, Romance, Thriller] -71.294337  \n",
       "457       [Drama, Fantasy, Horror] -68.088223  \n",
       "1600     [Crime, Horror, Thriller] -67.851580  \n",
       "325   [Adventure, Family, Fantasy] -62.206409  \n",
       "...                            ...        ...  \n",
       "338                       [Comedy] -31.348815  \n",
       "1735   [Horror, Mystery, Thriller] -31.308174  \n",
       "450    [Action, Adventure, Comedy] -30.938759  \n",
       "644    [Action, Adventure, Comedy] -30.790388  \n",
       "502    [Action, Adventure, Sci-Fi] -30.637347  \n",
       "\n",
       "[100 rows x 5 columns]"
      ]
     },
     "execution_count": 878,
     "metadata": {},
     "output_type": "execute_result"
    }
   ],
   "source": [
    "res1 = lc_df[['movie_title','release_year','genre','res']].sort_values(['res']).head(100)\n",
    "res1"
   ]
  },
  {
   "cell_type": "code",
   "execution_count": 882,
   "metadata": {},
   "outputs": [
    {
     "data": {
      "text/html": [
       "<div>\n",
       "<style scoped>\n",
       "    .dataframe tbody tr th:only-of-type {\n",
       "        vertical-align: middle;\n",
       "    }\n",
       "\n",
       "    .dataframe tbody tr th {\n",
       "        vertical-align: top;\n",
       "    }\n",
       "\n",
       "    .dataframe thead th {\n",
       "        text-align: right;\n",
       "    }\n",
       "</style>\n",
       "<table border=\"1\" class=\"dataframe\">\n",
       "  <thead>\n",
       "    <tr style=\"text-align: right;\">\n",
       "      <th></th>\n",
       "      <th>movie_title</th>\n",
       "      <th>release_year</th>\n",
       "      <th>release_year</th>\n",
       "      <th>genre</th>\n",
       "      <th>res</th>\n",
       "    </tr>\n",
       "  </thead>\n",
       "  <tbody>\n",
       "    <tr>\n",
       "      <th>141</th>\n",
       "      <td>The Greatest Showman</td>\n",
       "      <td>2017</td>\n",
       "      <td>2017</td>\n",
       "      <td>[Biography, Drama, Musical]</td>\n",
       "      <td>17.742290</td>\n",
       "    </tr>\n",
       "    <tr>\n",
       "      <th>1372</th>\n",
       "      <td>Tomorrowland</td>\n",
       "      <td>2015</td>\n",
       "      <td>2015</td>\n",
       "      <td>[Action, Adventure, Family]</td>\n",
       "      <td>17.839777</td>\n",
       "    </tr>\n",
       "    <tr>\n",
       "      <th>1733</th>\n",
       "      <td>Perfume: The Story of a Murderer</td>\n",
       "      <td>2007</td>\n",
       "      <td>2007</td>\n",
       "      <td>[Crime, Drama, Fantasy]</td>\n",
       "      <td>17.975599</td>\n",
       "    </tr>\n",
       "    <tr>\n",
       "      <th>3041</th>\n",
       "      <td>Rumor Has It...</td>\n",
       "      <td>2005</td>\n",
       "      <td>2005</td>\n",
       "      <td>[Comedy, Drama, Romance]</td>\n",
       "      <td>18.043484</td>\n",
       "    </tr>\n",
       "    <tr>\n",
       "      <th>2970</th>\n",
       "      <td>Ben-Hur</td>\n",
       "      <td>2016</td>\n",
       "      <td>2016</td>\n",
       "      <td>[Action, Adventure, Drama]</td>\n",
       "      <td>18.313404</td>\n",
       "    </tr>\n",
       "    <tr>\n",
       "      <th>...</th>\n",
       "      <td>...</td>\n",
       "      <td>...</td>\n",
       "      <td>...</td>\n",
       "      <td>...</td>\n",
       "      <td>...</td>\n",
       "    </tr>\n",
       "    <tr>\n",
       "      <th>2963</th>\n",
       "      <td>Brother Bear</td>\n",
       "      <td>2003</td>\n",
       "      <td>2003</td>\n",
       "      <td>[Animation, Adventure, Comedy]</td>\n",
       "      <td>35.847114</td>\n",
       "    </tr>\n",
       "    <tr>\n",
       "      <th>280</th>\n",
       "      <td>The Revenant</td>\n",
       "      <td>2016</td>\n",
       "      <td>2016</td>\n",
       "      <td>[Action, Adventure, Drama]</td>\n",
       "      <td>36.606271</td>\n",
       "    </tr>\n",
       "    <tr>\n",
       "      <th>2390</th>\n",
       "      <td>47 Ronin</td>\n",
       "      <td>2013</td>\n",
       "      <td>2013</td>\n",
       "      <td>[Action, Drama, Fantasy]</td>\n",
       "      <td>37.128046</td>\n",
       "    </tr>\n",
       "    <tr>\n",
       "      <th>409</th>\n",
       "      <td>Frozen</td>\n",
       "      <td>2013</td>\n",
       "      <td>2013</td>\n",
       "      <td>[Animation, Adventure, Comedy]</td>\n",
       "      <td>41.936848</td>\n",
       "    </tr>\n",
       "    <tr>\n",
       "      <th>2063</th>\n",
       "      <td>Kiki's Delivery Service</td>\n",
       "      <td>1990</td>\n",
       "      <td>1990</td>\n",
       "      <td>[Animation, Adventure, Drama]</td>\n",
       "      <td>197.171583</td>\n",
       "    </tr>\n",
       "  </tbody>\n",
       "</table>\n",
       "<p>100 rows × 5 columns</p>\n",
       "</div>"
      ],
      "text/plain": [
       "                           movie_title  release_year  release_year  \\\n",
       "141               The Greatest Showman          2017          2017   \n",
       "1372                      Tomorrowland          2015          2015   \n",
       "1733  Perfume: The Story of a Murderer          2007          2007   \n",
       "3041                   Rumor Has It...          2005          2005   \n",
       "2970                           Ben-Hur          2016          2016   \n",
       "...                                ...           ...           ...   \n",
       "2963                      Brother Bear          2003          2003   \n",
       "280                       The Revenant          2016          2016   \n",
       "2390                          47 Ronin          2013          2013   \n",
       "409                             Frozen          2013          2013   \n",
       "2063           Kiki's Delivery Service          1990          1990   \n",
       "\n",
       "                               genre         res  \n",
       "141      [Biography, Drama, Musical]   17.742290  \n",
       "1372     [Action, Adventure, Family]   17.839777  \n",
       "1733         [Crime, Drama, Fantasy]   17.975599  \n",
       "3041        [Comedy, Drama, Romance]   18.043484  \n",
       "2970      [Action, Adventure, Drama]   18.313404  \n",
       "...                              ...         ...  \n",
       "2963  [Animation, Adventure, Comedy]   35.847114  \n",
       "280       [Action, Adventure, Drama]   36.606271  \n",
       "2390        [Action, Drama, Fantasy]   37.128046  \n",
       "409   [Animation, Adventure, Comedy]   41.936848  \n",
       "2063   [Animation, Adventure, Drama]  197.171583  \n",
       "\n",
       "[100 rows x 5 columns]"
      ]
     },
     "execution_count": 882,
     "metadata": {},
     "output_type": "execute_result"
    }
   ],
   "source": [
    "res2 = lc_df[['movie_title','release_year','genre','res']].sort_values(['res']).tail(100)\n",
    "res2"
   ]
  },
  {
   "cell_type": "code",
   "execution_count": 886,
   "metadata": {},
   "outputs": [],
   "source": [
    "res_df = pd.concat([res1,res2],axis=0)\n",
    "res_movie = res.movie_title.tolist()"
   ]
  },
  {
   "cell_type": "code",
   "execution_count": 827,
   "metadata": {},
   "outputs": [
    {
     "data": {
      "text/html": [
       "<div>\n",
       "<style scoped>\n",
       "    .dataframe tbody tr th:only-of-type {\n",
       "        vertical-align: middle;\n",
       "    }\n",
       "\n",
       "    .dataframe tbody tr th {\n",
       "        vertical-align: top;\n",
       "    }\n",
       "\n",
       "    .dataframe thead th {\n",
       "        text-align: right;\n",
       "    }\n",
       "</style>\n",
       "<table border=\"1\" class=\"dataframe\">\n",
       "  <thead>\n",
       "    <tr style=\"text-align: right;\">\n",
       "      <th></th>\n",
       "      <th>movie_title</th>\n",
       "      <th>rating</th>\n",
       "      <th>vote</th>\n",
       "      <th>MPAA</th>\n",
       "      <th>genre</th>\n",
       "      <th>release_date</th>\n",
       "      <th>metascore</th>\n",
       "      <th>keywords</th>\n",
       "      <th>budget</th>\n",
       "      <th>opening_weekend_usa</th>\n",
       "      <th>...</th>\n",
       "      <th>distributor</th>\n",
       "      <th>language</th>\n",
       "      <th>country</th>\n",
       "      <th>director</th>\n",
       "      <th>writer</th>\n",
       "      <th>star</th>\n",
       "      <th>link_d</th>\n",
       "      <th>link_w</th>\n",
       "      <th>link_s</th>\n",
       "      <th>release_year</th>\n",
       "    </tr>\n",
       "  </thead>\n",
       "  <tbody>\n",
       "    <tr>\n",
       "      <th>2063</th>\n",
       "      <td>Kiki's Delivery Service</td>\n",
       "      <td>7.8</td>\n",
       "      <td>123657.0</td>\n",
       "      <td>G</td>\n",
       "      <td>[Animation, Adventure, Drama]</td>\n",
       "      <td>1990-12-20</td>\n",
       "      <td>83.0</td>\n",
       "      <td>[witch, cat, studio ghibli, goodwill, magic]</td>\n",
       "      <td>800000000.0</td>\n",
       "      <td>0.352556</td>\n",
       "      <td>...</td>\n",
       "      <td>Kiki'sDeliveryServiceProductionCommittee</td>\n",
       "      <td>[Japanese, English]</td>\n",
       "      <td>[Japan, USA]</td>\n",
       "      <td>Hayao Miyazaki</td>\n",
       "      <td>[Eiko Kadono, Hayao Miyazaki]</td>\n",
       "      <td>[Kirsten Dunst, Minami Takayama, Rei Sakuma]</td>\n",
       "      <td>/name/nm0594503/</td>\n",
       "      <td>[/name/nm0434395/, /name/nm0594503/]</td>\n",
       "      <td>[/name/nm0000379/, /name/nm0847439/, /name/nm0...</td>\n",
       "      <td>1990</td>\n",
       "    </tr>\n",
       "  </tbody>\n",
       "</table>\n",
       "<p>1 rows × 23 columns</p>\n",
       "</div>"
      ],
      "text/plain": [
       "                  movie_title  rating      vote MPAA  \\\n",
       "2063  Kiki's Delivery Service     7.8  123657.0    G   \n",
       "\n",
       "                              genre release_date  metascore  \\\n",
       "2063  [Animation, Adventure, Drama]   1990-12-20       83.0   \n",
       "\n",
       "                                          keywords       budget  \\\n",
       "2063  [witch, cat, studio ghibli, goodwill, magic]  800000000.0   \n",
       "\n",
       "      opening_weekend_usa  ...                               distributor  \\\n",
       "2063             0.352556  ...  Kiki'sDeliveryServiceProductionCommittee   \n",
       "\n",
       "                 language       country        director  \\\n",
       "2063  [Japanese, English]  [Japan, USA]  Hayao Miyazaki   \n",
       "\n",
       "                             writer  \\\n",
       "2063  [Eiko Kadono, Hayao Miyazaki]   \n",
       "\n",
       "                                              star            link_d  \\\n",
       "2063  [Kirsten Dunst, Minami Takayama, Rei Sakuma]  /name/nm0594503/   \n",
       "\n",
       "                                    link_w  \\\n",
       "2063  [/name/nm0434395/, /name/nm0594503/]   \n",
       "\n",
       "                                                 link_s release_year  \n",
       "2063  [/name/nm0000379/, /name/nm0847439/, /name/nm0...         1990  \n",
       "\n",
       "[1 rows x 23 columns]"
      ]
     },
     "execution_count": 827,
     "metadata": {},
     "output_type": "execute_result"
    }
   ],
   "source": [
    "all_df[all_df.movie_title == \"Kiki's Delivery Service\"]"
   ]
  },
  {
   "cell_type": "markdown",
   "metadata": {},
   "source": [
    "## 4. Regularization"
   ]
  },
  {
   "cell_type": "code",
   "execution_count": 1002,
   "metadata": {},
   "outputs": [],
   "source": [
    "from sklearn.model_selection import train_test_split\n",
    "from sklearn.linear_model import LinearRegression, Lasso, LassoCV, Ridge, RidgeCV\n",
    "from sklearn.metrics import r2_score"
   ]
  },
  {
   "cell_type": "markdown",
   "metadata": {},
   "source": [
    "### * Ridge"
   ]
  },
  {
   "cell_type": "code",
   "execution_count": 95,
   "metadata": {},
   "outputs": [],
   "source": [
    "## Fit a Ridge model on the standardized data\n",
    "\n",
    "# ridge_model = Ridge(alpha = 0.001)\n",
    "# ridge_model.fit(X_train,y_train)\n",
    "# list(zip(X_train.columns, ridge_model.coef_))"
   ]
  },
  {
   "cell_type": "code",
   "execution_count": 1011,
   "metadata": {},
   "outputs": [
    {
     "name": "stdout",
     "output_type": "stream",
     "text": [
      "The best value of alpha is: 14.694918006248173\n"
     ]
    }
   ],
   "source": [
    "# Run the cross validation, find the best alpha, refit the model on all the data with that alpha\n",
    "\n",
    "alphavec = 10**np.linspace(-2,2,1000)\n",
    "\n",
    "ridge_model = RidgeCV(alphas = alphavec, cv=5)\n",
    "ridge_model.fit(X_train, y_train)\n",
    "print('The best value of alpha is:', ridge_model.alpha_)"
   ]
  },
  {
   "cell_type": "code",
   "execution_count": 1003,
   "metadata": {},
   "outputs": [
    {
     "data": {
      "text/plain": [
       "[('Jack Nicholson', -0.626484461243909),\n",
       " ('FoxSearchlightPictures', -2.400308877331024),\n",
       " ('G', 0.7220833811875199),\n",
       " ('NewZealand', -1.2008162667949525),\n",
       " ('Czech', 1.6136445284733223),\n",
       " ('UnitedArtists', 1.1927543846651878),\n",
       " ('STXFilms', -0.1184779480530019),\n",
       " ('Russell Crowe', -3.7964302145892677),\n",
       " ('George Clooney', 0.9002704413734319),\n",
       " ('Greek', 2.9724801169592534),\n",
       " ('AmericanSignLanguage', -0.1597937972117652),\n",
       " ('DimensionFilms', 4.827456153479279),\n",
       " ('RevolutionStudios', 1.7384799529939141),\n",
       " ('ConstellationEntertainment', -0.36257178075457624),\n",
       " ('PG-13', 0.9372032354201226),\n",
       " ('BadRobot', -0.9126506754874433),\n",
       " ('WaltDisneyAnimationStudios', -2.267288938960053),\n",
       " ('Shia LaBeouf', 1.2217035651042012),\n",
       " ('Yiddish', 1.770155909965857),\n",
       " ('Susan Sarandon', 0.7315849680638866),\n",
       " ('Michelle Pfeiffer', -0.16971590472353668),\n",
       " ('Jude Law', -1.4902917034793672),\n",
       " ('SidneyKimmelEntertainment', -0.20993356529569365),\n",
       " ('MandalayEntertainment', 0.9096118297595445),\n",
       " ('Keira Knightley', -4.134657270823255),\n",
       " ('Scarlett Johansson', -0.6411912193131083),\n",
       " ('Spanish', 1.920675109976332),\n",
       " ('SonyPicturesEntertainment(SPE)', -1.2139158431583048),\n",
       " ('Urdu', -2.1599811130534525),\n",
       " ('Angelina Jolie', -0.21110673770854735),\n",
       " ('USA', 0.0),\n",
       " ('Ed Harris', -0.5209832529288728),\n",
       " ('DoubleDareYou(DDY)', -0.6169002022258425),\n",
       " ('NC-17', -0.5011243230534631),\n",
       " ('Ben Affleck', 1.2648097233152804),\n",
       " ('PhoenixPictures', 0.4528707157037588),\n",
       " ('DeLaurentiisEntertainmentGroup(DEG)', -0.05192218332596138),\n",
       " ('HollywoodPictures', 0.05902781326596158),\n",
       " ('DiNoviPictures', -0.15283642955453033),\n",
       " ('HughesEntertainment', 0.9832548663657723),\n",
       " ('FocusFeatures', -1.2133853054437183),\n",
       " ('Tom Hanks', 1.0719369493522248),\n",
       " ('PolyGramFilmedEntertainment', -0.11705204083470991),\n",
       " ('Bulgaria', -1.140407887205627),\n",
       " ('Khmer', 1.5786001214791812),\n",
       " ('IMGlobal', -0.006393168385549856),\n",
       " ('GoldCircleFilms', -0.4824490625164885),\n",
       " ('Japan', 0.840670009190269),\n",
       " ('Danish', -1.6320079843841364),\n",
       " ('ColumbiaPicturesIndustries', 0.2179001373797023),\n",
       " ('Clint Eastwood', -0.32644972299636393),\n",
       " ('Seth Rogen', 0.37821178613492606),\n",
       " ('Taiwan', 0.48913044366143826),\n",
       " ('runtime release_year', -0.31316943991264945),\n",
       " ('Argentina', -0.9104279079578933),\n",
       " ('Christian Bale', -3.4323774428088294),\n",
       " ('CaravanPictures', -0.04523814797345543),\n",
       " ('GKFilms', -1.7241730089686138),\n",
       " ('ScottishGaelic', -0.123697710278346),\n",
       " ('BBCFilms', -0.37608064127396573),\n",
       " ('Ethan Hawke', 1.6548463843201173),\n",
       " ('Johnny Depp', -2.20925604268175),\n",
       " ('Liam Neeson', 2.289056094390117),\n",
       " ('SLMProductionGroup', -0.005773487127287116),\n",
       " ('DinoDeLaurentiisCompany', 0.0526153741539107),\n",
       " ('Sandra Bullock', 4.0760860784597375),\n",
       " ('CherninEntertainment', -0.6248401640603469),\n",
       " ('Latin', -1.6817642419202097),\n",
       " ('CarolcoPictures', 0.9612361729953269),\n",
       " ('Bruce Willis', -2.723141498508456),\n",
       " ('Gerard Butler', -0.9872478174602295),\n",
       " ('Mandarin', -0.22532183662715688),\n",
       " ('Antonio Banderas', 0.5322731961645423),\n",
       " ('Adam Sandler', 5.479001275958609),\n",
       " ('Tom Cruise', 1.8462999155852113),\n",
       " ('Brazil', -0.6955778720837896),\n",
       " ('PG', 1.2852286678404212),\n",
       " ('Robin Williams', -1.1457847853207324),\n",
       " ('Australia', -0.5753694897256624),\n",
       " ('Netherlands', -0.5816572927929547),\n",
       " ('LegendaryEntertainment', -1.1253885726167052),\n",
       " ('Robert Downey Jr.', -0.5762673743200476),\n",
       " ('Kate Winslet', -3.8091813785612234),\n",
       " ('Steve Carell', 0.42428400599150784),\n",
       " ('CircleFilms', -0.3174000567768898),\n",
       " ('SpaceRocketNation', -0.11874953239153445),\n",
       " ('budget', 9.961859319613879),\n",
       " ('John Cusack', -0.09738087814408747),\n",
       " ('TouchstonePictures', 1.5894582050919757),\n",
       " ('LStarCapital', -0.0658713856940106),\n",
       " ('Rachel McAdams', 1.3798101133325178),\n",
       " ('Greece', -1.2212980850702038),\n",
       " ('France', -1.6973583657616362),\n",
       " ('Swedish', 0.19859930527342373),\n",
       " ('Miramax', -0.14325344942964197),\n",
       " ('Matt Damon', 0.8869283102751735),\n",
       " ('BritishBroadcastingCorporation(BBC)', -0.5429266760824752),\n",
       " ('Sylvester Stallone', -0.2547886476606411),\n",
       " ('UniversalPictures', 4.101575317957176),\n",
       " ('Charlize Theron', -0.9086956503479582),\n",
       " ('Hindi', -0.8056482241366458),\n",
       " ('Michael Douglas', -0.5490372245241512),\n",
       " ('GeffenPictures', 0.2296496802169264),\n",
       " ('ImagineEntertainment', -0.1092453923104001),\n",
       " ('Denmark', 0.5300073560581611),\n",
       " ('Cantonese', 1.4420944061470526),\n",
       " ('Somali', 0.6824210174871762),\n",
       " ('PalmStarMedia', 0.785079746085985),\n",
       " ('SouthAfrica', 1.3865601524483646),\n",
       " ('Cambodia', -0.32794009788023787),\n",
       " ('Chile', -0.05706925910052566),\n",
       " ('CzechRepublic', -0.7216287444363397),\n",
       " ('Joaquin Phoenix', -0.7913963171581699),\n",
       " ('Pathé', -0.38007280600640336),\n",
       " ('WaltDisneyPictures', 0.8098721773901353),\n",
       " ('Aboriginal', 0.7385488533629864),\n",
       " ('Japanese', 1.4913928602119908),\n",
       " ('Hungary', 2.5490540714275762),\n",
       " ('EonProductions', 0.7258974049973806),\n",
       " ('Michael Fassbender', 1.611424440881286),\n",
       " ('Welsh', -1.0469923570152466),\n",
       " ('BroadwayVideo', -0.3298083771067906),\n",
       " ('Leonardo DiCaprio', 3.401953878516436),\n",
       " ('Chinese', -0.8098167289181413),\n",
       " ('BigBeachFilms', 0.1790936615874163),\n",
       " ('TheGeffenCompany', -0.252179774697599),\n",
       " ('Filipino', -1.4611520227178698),\n",
       " ('Chris Evans', 1.7322856804757998),\n",
       " ('runtime', -1.1030745681672678),\n",
       " ('Natalie Portman', 0.48885944241639834),\n",
       " ('Mexico', -1.102538838136115),\n",
       " ('Robert Redford', -1.310059706188431),\n",
       " ('AmblinEntertainment', -0.19082350110764568),\n",
       " ('HongKong', 0.7743893542657275),\n",
       " ('FortyFourStudios', 0.7620900775916074),\n",
       " ('Lionsgate', 1.0039164037635682),\n",
       " ('John Goodman', 2.255406332491004),\n",
       " ('Amy Adams', -0.9728140006719135),\n",
       " ('AngryFilms', 0.2188113142130397),\n",
       " ('Bill Murray', -2.30453787657762),\n",
       " ('UnitedArabEmirates', -0.2558978858766164),\n",
       " ('MillenniumFilms', -0.6223604709492933),\n",
       " ('Hugh Jackman', -0.38114126331145226),\n",
       " ('BeaconCommunications', -0.15264549685917936),\n",
       " ('budget release_year', 0.9500074433088619),\n",
       " ('ArtLinsonProductions', 0.2719500665337743),\n",
       " ('LorimarFilmEntertainment', 0.09620164697161072),\n",
       " ('Will Smith', 4.149601286185021),\n",
       " ('Ireland', -1.7249636237736923),\n",
       " ('ScreenGems', 3.9040326030652386),\n",
       " ('Portuguese', -0.2762989586561129),\n",
       " ('PixarAnimationStudios', 5.345761494777153),\n",
       " ('Romanian', -0.9365754572713532),\n",
       " ('Metro-Goldwyn-Mayer(MGM)', 0.9068599554772825),\n",
       " ('Thailand', -1.6041669387976436),\n",
       " ('Thai', 1.8069498515049653),\n",
       " ('Unrated', -0.6782748147181404),\n",
       " ('AstralBellevuePathé', 0.3323943987010977),\n",
       " ('WarnerBros.FamilyEntertainment', 0.31592015413479063),\n",
       " ('1', 0.0),\n",
       " ('Germany', -0.175184282395481),\n",
       " ('CastleRockEntertainment', -3.0885641677687583),\n",
       " ('Colombia', -0.302926448893074),\n",
       " ('Armenian', -1.288238873852426),\n",
       " ('TouchwoodPacificPartners1', -0.1767258037339145),\n",
       " ('Korean', 0.916077960581975),\n",
       " ('Italy', -3.0841973942797867),\n",
       " ('Sigourney Weaver', -1.2540164482808227),\n",
       " ('TwentiethCenturyFox', 2.0112746068746565),\n",
       " ('BlumhouseProductions', 1.811848750768902),\n",
       " ('BonaFilmGroup', -1.0024835007415285),\n",
       " ('Tommy Lee Jones', 0.05503067297581991),\n",
       " ('Samuel L. Jackson', 2.249224701611468),\n",
       " ('Arabic', -0.8424901480558031),\n",
       " ('BazelevsProduction', 1.3388775145551848),\n",
       " ('Willem Dafoe', -0.21337701713150523),\n",
       " ('UK', -1.7190770570816278),\n",
       " ('John Travolta', -0.011639812543196097),\n",
       " ('Greek,Ancient(to1453)', -0.9488577690344051),\n",
       " ('Kevin Costner', -0.26060437946119336),\n",
       " ('French', -0.666028853949116),\n",
       " ('R', -0.43376147992637626),\n",
       " ('German', -0.31129980315265193),\n",
       " ('Serbo-Croatian', 0.4206899935235366),\n",
       " ('Sweden', -1.235221674063462),\n",
       " ('Esperanto', -1.3405423440397446),\n",
       " ('GarySanchezProductions', 2.7923893980341465),\n",
       " ('CBSFilms', 1.790643421908411),\n",
       " ('Participant', -2.1714343165264447),\n",
       " ('Italian', 1.2420008040017056),\n",
       " ('ScottRudinProductions', 0.6824210174871769),\n",
       " ('release_year', 1.5146019296077653),\n",
       " ('AlliedFilmmakers', -0.2482627973827524),\n",
       " ('Bradley Cooper', 1.684173934652639),\n",
       " ('Dennis Quaid', -1.0369189884193777),\n",
       " ('Aramaic', 0.8568512356173088),\n",
       " ('Denzel Washington', 1.3607570718369275),\n",
       " ('RoguePictures', 1.6306656807441147),\n",
       " ('LionsGateFilms', -1.0443436802242316),\n",
       " ('Emmett/Furla/OasisFilms(EFOFilms)', -0.2221573433313534),\n",
       " ('Iceland', -0.7335670179979482),\n",
       " ('Norway', -0.9124869662597841),\n",
       " ('Meryl Streep', -0.22793465294977291),\n",
       " ('Finland', -0.024232164449257805),\n",
       " ('Anne Hathaway', 3.4076129872123846),\n",
       " ('STXEntertainment', 0.647455462886162),\n",
       " ('Mark Wahlberg', 0.5933222619314494),\n",
       " ('Sean Penn', -2.409748608577518),\n",
       " ('Julianne Moore', -0.6709128039797682),\n",
       " ('WaltDisneyProductions', 0.46127510027065),\n",
       " ('Vince Vaughn', -0.18920048645250398),\n",
       " ('TheSaulZaentzCompany', -0.04390635990613565),\n",
       " ('Ryan Reynolds', 1.650872315386624),\n",
       " ('budget runtime', 0.5402795127163763),\n",
       " ('StudioCanal', 1.1032596944719006),\n",
       " ('Ukrainian', 0.5345026986057505),\n",
       " ('A24', -1.244669394845586),\n",
       " ('Polish', 0.9517155113589255),\n",
       " ('Will Ferrell', 3.2938858874095525),\n",
       " ('Hungarian', 0.8375833422226636),\n",
       " ('Al Pacino', -1.5136293745282945),\n",
       " ('Owen Wilson', 1.3263985459783707),\n",
       " ('NewLineCinema', 2.6956550169685913),\n",
       " ('Tagalog', -1.9207075071138713),\n",
       " ('FingerprintReleasing', -0.03529683951528716),\n",
       " ('EndgameEntertainment', 0.02780318580659514),\n",
       " ('Maori', -1.2065390213491256),\n",
       " ('Kurt Russell', -1.8190400115139274),\n",
       " ('Jason Statham', -2.1787066527709595),\n",
       " ('Passed', -0.36532486819240423),\n",
       " ('Malta', 1.959971554345505),\n",
       " ('AlconEntertainment', 1.4530816176986092),\n",
       " ('TriStarPictures', 0.5253707570673193),\n",
       " ('Tibetan', -0.2079446615405842),\n",
       " ('DreamworksPictures', 0.29780559604906576),\n",
       " ('Julia Roberts', -0.5450912352087829),\n",
       " ('Gene Hackman', 0.37882580611956024),\n",
       " ('EuropaCorp', 4.775301057166883),\n",
       " ('Kirsten Dunst', -2.764190128099864),\n",
       " ('Nicole Kidman', -2.6229713164438637),\n",
       " ('Serbian', -0.8363824398994189),\n",
       " ('Reese Witherspoon', 3.3756374053227365),\n",
       " ('Kristen Stewart', -1.3566287964821162),\n",
       " ('Cameron Diaz', 0.9953511253297949),\n",
       " ('IntrepidPictures', 0.7768930534428207),\n",
       " ('Belgium', -1.0273076766131237),\n",
       " ('LakeshoreEntertainment', 0.6211533532036326),\n",
       " ('FilmDistrict', 0.7728374538225196),\n",
       " ('CrossCreekPictures', -0.8190715183506205),\n",
       " ('Spain', -2.3252776642295103),\n",
       " ('Morocco', -0.5943740638337129),\n",
       " ('Ben Stiller', 1.1486488263794328),\n",
       " ('OldEnglish', -1.566427852783763),\n",
       " ('Morgan Freeman', 0.6114557672403853),\n",
       " ('Nicolas Cage', -1.4055232066915817),\n",
       " ('Naomi Watts', -2.192231145184722),\n",
       " ('Russia', -1.5585710218561506),\n",
       " ('GramercyPictures(I)', -0.13869301382116414),\n",
       " ('JerseyFilms', -0.2880528405680903),\n",
       " ('Pushto', -1.5801771764907209),\n",
       " ('ParamountPictures', 3.168391405609078),\n",
       " ('Harrison Ford', 2.2020543675342394),\n",
       " ('NewRegencyProductions', -0.013988353637728927),\n",
       " ('Lucasfilm', -0.008515167784888082),\n",
       " ('Ewan McGregor', -1.4668342666613312),\n",
       " ('DavisEntertainment', 0.7853695291654995),\n",
       " ('CinergiPicturesEntertainment', -0.5598194317436612),\n",
       " ('Indonesian', 0.2165758098606724),\n",
       " ('Matthew McConaughey', -2.2595316584179366),\n",
       " ('ColumbiaPictures', 0.6733131092687976),\n",
       " ('China', -1.3735995641068386),\n",
       " ('Steve Martin', -2.831747775888882),\n",
       " ('Eddie Murphy', 3.4857188724919195),\n",
       " ('WorldviewEntertainment', -1.4461764169565283),\n",
       " ('Canada', 0.9608877217866534),\n",
       " ('English', 0.0),\n",
       " ('Austria', 0.764034056392897),\n",
       " ('Cate Blanchett', -1.3780288068588555),\n",
       " ('Jennifer Aniston', -0.16530392552604678),\n",
       " ('UnitedFilmDistributionCompany(UFDC)', 0.4356432233622279),\n",
       " ('Brooksfilms', -0.16501094426990684),\n",
       " ('WarnerBros.', 1.173501375802212),\n",
       " ('Switzerland', 0.5190219791891026),\n",
       " ('Dutch', 0.023584598281414956),\n",
       " ('Norwegian', 1.448639502260899),\n",
       " ('Jeff Bridges', -0.6501201731780322),\n",
       " ('EntertainmentOne', -0.7383773222132121),\n",
       " ('Hebrew', -1.822368498126872),\n",
       " ('Brad Pitt', -2.2022724818508306),\n",
       " ('Fox2000Pictures', -0.14131598043972546),\n",
       " ('PathéEntertainment', 0.4893751353870125),\n",
       " ('Klingon', 1.7285820498815774),\n",
       " ('AnnapurnaPictures', -1.6438370626448944),\n",
       " ('Colin Farrell', -2.5812177533979286),\n",
       " ('BollKinoBeteiligungsGmbH&Co.KG', -1.1948169881205335),\n",
       " ('Anthony Hopkins', -0.16129103470182288),\n",
       " ('Gary Oldman', 0.17198861012839992),\n",
       " ('Robert De Niro', -1.2234977327007324),\n",
       " ('Jake Gyllenhaal', -0.7321254968311066),\n",
       " ('Dari', -1.048197577409989),\n",
       " ('Sindarin', 0.25304317800432485),\n",
       " ('OrionPictures', 0.18663981534705468),\n",
       " ('PolygramFilmedEntertainment', -0.5121884606192232),\n",
       " ('Icelandic', -2.225143701854569),\n",
       " ('Albanian', 1.5040012834400365),\n",
       " ('Keanu Reeves', 0.22432082193967867),\n",
       " ('Vietnamese', 1.1958481871462734),\n",
       " ('LDEntertainment', -0.35080786830754807),\n",
       " ('Mel Gibson', 0.542178135591283),\n",
       " ('WarnerIndependentPictures(WIP)', -0.7744982867090316),\n",
       " ('TheWeinsteinCompany', -2.236077590951833),\n",
       " ('Alec Baldwin', -3.086508207076135),\n",
       " ('Punjabi', 0.7494606915719175),\n",
       " ('LiveEntertainment', -0.44536840168248837),\n",
       " ('WestGermany', -0.21235272640621466),\n",
       " ('Not', -1.5541742689273026),\n",
       " ('Woody Harrelson', -0.8676985249952186),\n",
       " ('Russian', 0.5118403877047073),\n",
       " ('Turkish', -1.205512323141333),\n",
       " ('Arnold Schwarzenegger', -1.463250147476585),\n",
       " ('Dwayne Johnson', 2.1960834916300973),\n",
       " ('AmericanZoetrope', 1.824546466820765),\n",
       " ('SummitEntertainment', -0.617141032195075),\n",
       " ('Shanghainese', -0.343754752367336),\n",
       " ('Navajo', 0.06898868230069763),\n",
       " ('India', -1.8796520662928464),\n",
       " ('Jim Carrey', 3.949882353589636)]"
      ]
     },
     "execution_count": 1003,
     "metadata": {},
     "output_type": "execute_result"
    }
   ],
   "source": [
    "# Fit Ridge model once again with the best alpha\n",
    "ridge_model = Ridge(alpha = 9)\n",
    "ridge_model.fit(X_train,y_train)\n",
    "list(zip(X_train.columns, ridge_model.coef_))"
   ]
  },
  {
   "cell_type": "code",
   "execution_count": 491,
   "metadata": {},
   "outputs": [
    {
     "data": {
      "text/html": [
       "<div>\n",
       "<style scoped>\n",
       "    .dataframe tbody tr th:only-of-type {\n",
       "        vertical-align: middle;\n",
       "    }\n",
       "\n",
       "    .dataframe tbody tr th {\n",
       "        vertical-align: top;\n",
       "    }\n",
       "\n",
       "    .dataframe thead th {\n",
       "        text-align: right;\n",
       "    }\n",
       "</style>\n",
       "<table border=\"1\" class=\"dataframe\">\n",
       "  <thead>\n",
       "    <tr style=\"text-align: right;\">\n",
       "      <th></th>\n",
       "      <th>key</th>\n",
       "      <th>coef</th>\n",
       "    </tr>\n",
       "  </thead>\n",
       "  <tbody>\n",
       "    <tr>\n",
       "      <th>227</th>\n",
       "      <td>budget</td>\n",
       "      <td>10.935559</td>\n",
       "    </tr>\n",
       "    <tr>\n",
       "      <th>56</th>\n",
       "      <td>Lucasfilm</td>\n",
       "      <td>6.946843</td>\n",
       "    </tr>\n",
       "    <tr>\n",
       "      <th>63</th>\n",
       "      <td>MarvelStudios</td>\n",
       "      <td>6.180770</td>\n",
       "    </tr>\n",
       "    <tr>\n",
       "      <th>199</th>\n",
       "      <td>NewLineCinema</td>\n",
       "      <td>5.470673</td>\n",
       "    </tr>\n",
       "    <tr>\n",
       "      <th>58</th>\n",
       "      <td>SouthKorea</td>\n",
       "      <td>5.176082</td>\n",
       "    </tr>\n",
       "    <tr>\n",
       "      <th>169</th>\n",
       "      <td>Animation</td>\n",
       "      <td>4.677467</td>\n",
       "    </tr>\n",
       "    <tr>\n",
       "      <th>101</th>\n",
       "      <td>DreamWorksAnimation</td>\n",
       "      <td>4.480670</td>\n",
       "    </tr>\n",
       "    <tr>\n",
       "      <th>213</th>\n",
       "      <td>ScreenGems</td>\n",
       "      <td>4.428600</td>\n",
       "    </tr>\n",
       "    <tr>\n",
       "      <th>2</th>\n",
       "      <td>TwistedPictures</td>\n",
       "      <td>4.286668</td>\n",
       "    </tr>\n",
       "    <tr>\n",
       "      <th>34</th>\n",
       "      <td>TwentiethCenturyFoxAnimation</td>\n",
       "      <td>4.218576</td>\n",
       "    </tr>\n",
       "    <tr>\n",
       "      <th>115</th>\n",
       "      <td>Japanese</td>\n",
       "      <td>4.003172</td>\n",
       "    </tr>\n",
       "    <tr>\n",
       "      <th>220</th>\n",
       "      <td>Malta</td>\n",
       "      <td>3.872975</td>\n",
       "    </tr>\n",
       "    <tr>\n",
       "      <th>39</th>\n",
       "      <td>ParamountPictures</td>\n",
       "      <td>3.861746</td>\n",
       "    </tr>\n",
       "    <tr>\n",
       "      <th>1</th>\n",
       "      <td>UniversalPictures</td>\n",
       "      <td>3.796997</td>\n",
       "    </tr>\n",
       "    <tr>\n",
       "      <th>11</th>\n",
       "      <td>BlumhouseProductions</td>\n",
       "      <td>3.720529</td>\n",
       "    </tr>\n",
       "    <tr>\n",
       "      <th>26</th>\n",
       "      <td>DimensionFilms</td>\n",
       "      <td>3.712301</td>\n",
       "    </tr>\n",
       "    <tr>\n",
       "      <th>12</th>\n",
       "      <td>Czech</td>\n",
       "      <td>3.586160</td>\n",
       "    </tr>\n",
       "    <tr>\n",
       "      <th>9</th>\n",
       "      <td>TwentiethCenturyFox</td>\n",
       "      <td>3.582783</td>\n",
       "    </tr>\n",
       "    <tr>\n",
       "      <th>8</th>\n",
       "      <td>NewZealand</td>\n",
       "      <td>2.852307</td>\n",
       "    </tr>\n",
       "    <tr>\n",
       "      <th>10</th>\n",
       "      <td>Afrikaans</td>\n",
       "      <td>2.712169</td>\n",
       "    </tr>\n",
       "  </tbody>\n",
       "</table>\n",
       "</div>"
      ],
      "text/plain": [
       "                              key       coef\n",
       "227                        budget  10.935559\n",
       "56                      Lucasfilm   6.946843\n",
       "63                  MarvelStudios   6.180770\n",
       "199                 NewLineCinema   5.470673\n",
       "58                     SouthKorea   5.176082\n",
       "169                     Animation   4.677467\n",
       "101           DreamWorksAnimation   4.480670\n",
       "213                    ScreenGems   4.428600\n",
       "2                 TwistedPictures   4.286668\n",
       "34   TwentiethCenturyFoxAnimation   4.218576\n",
       "115                      Japanese   4.003172\n",
       "220                         Malta   3.872975\n",
       "39              ParamountPictures   3.861746\n",
       "1               UniversalPictures   3.796997\n",
       "11           BlumhouseProductions   3.720529\n",
       "26                 DimensionFilms   3.712301\n",
       "12                          Czech   3.586160\n",
       "9             TwentiethCenturyFox   3.582783\n",
       "8                      NewZealand   2.852307\n",
       "10                      Afrikaans   2.712169"
      ]
     },
     "execution_count": 491,
     "metadata": {},
     "output_type": "execute_result"
    }
   ],
   "source": [
    "top_key = pd.DataFrame(list(zip(X_train.columns, ridge_model.coef_)),columns=['key','coef'])\n",
    "top_key.sort_values(by='coef',ascending=False).head(20)"
   ]
  },
  {
   "cell_type": "code",
   "execution_count": 497,
   "metadata": {},
   "outputs": [
    {
     "data": {
      "text/html": [
       "<div>\n",
       "<style scoped>\n",
       "    .dataframe tbody tr th:only-of-type {\n",
       "        vertical-align: middle;\n",
       "    }\n",
       "\n",
       "    .dataframe tbody tr th {\n",
       "        vertical-align: top;\n",
       "    }\n",
       "\n",
       "    .dataframe thead th {\n",
       "        text-align: right;\n",
       "    }\n",
       "</style>\n",
       "<table border=\"1\" class=\"dataframe\">\n",
       "  <thead>\n",
       "    <tr style=\"text-align: right;\">\n",
       "      <th></th>\n",
       "      <th>key</th>\n",
       "      <th>coef</th>\n",
       "    </tr>\n",
       "  </thead>\n",
       "  <tbody>\n",
       "  </tbody>\n",
       "</table>\n",
       "</div>"
      ],
      "text/plain": [
       "Empty DataFrame\n",
       "Columns: [key, coef]\n",
       "Index: []"
      ]
     },
     "execution_count": 497,
     "metadata": {},
     "output_type": "execute_result"
    }
   ],
   "source": [
    "top_key[top_key.key.isin(actor_list)]"
   ]
  },
  {
   "cell_type": "code",
   "execution_count": 498,
   "metadata": {},
   "outputs": [
    {
     "data": {
      "text/plain": [
       "268"
      ]
     },
     "execution_count": 498,
     "metadata": {},
     "output_type": "execute_result"
    }
   ],
   "source": [
    "len(top_key.key)"
   ]
  },
  {
   "cell_type": "code",
   "execution_count": null,
   "metadata": {},
   "outputs": [],
   "source": []
  },
  {
   "cell_type": "code",
   "execution_count": 1005,
   "metadata": {},
   "outputs": [
    {
     "data": {
      "text/plain": [
       "[('1', 0.0),\n",
       " ('budget', 10.790618270578577),\n",
       " ('runtime', -1.5901919249599614),\n",
       " ('release_year', 1.0475192630001275),\n",
       " ('budget runtime', 0.41360357112924545),\n",
       " ('budget release_year', 0.8134108466760998),\n",
       " ('runtime release_year', -0.40008266845410717)]"
      ]
     },
     "execution_count": 1005,
     "metadata": {},
     "output_type": "execute_result"
    }
   ],
   "source": [
    "# Fit Ridge model once again with the best alpha\n",
    "ridge_model = Ridge(alpha = 9)\n",
    "ridge_model.fit(X_train_con_scaled_df,y_train)\n",
    "list(zip(X_train_con_scaled_df.columns, ridge_model.coef_))"
   ]
  },
  {
   "cell_type": "code",
   "execution_count": 1006,
   "metadata": {},
   "outputs": [
    {
     "data": {
      "text/plain": [
       "0.6280066942795596"
      ]
     },
     "execution_count": 1006,
     "metadata": {},
     "output_type": "execute_result"
    }
   ],
   "source": [
    "val_pred = ridge_model.predict(X_val_con_scaled_df)\n",
    "r2_score(y_val, val_pred)"
   ]
  },
  {
   "cell_type": "code",
   "execution_count": 1007,
   "metadata": {},
   "outputs": [
    {
     "name": "stdout",
     "output_type": "stream",
     "text": [
      "\n",
      "Train R^2 score was: 0.7217599911011177\n",
      "Validation R^2 score was: 0.552856287760285\n",
      "Feature coefficient results: \n",
      "\n",
      "budget : -1.48\n",
      "runtime : -3.21\n",
      "release_year : -1.42\n",
      "genre : -3.16\n",
      "MPAA : 7.34\n",
      "language : 2.09\n",
      "country : -0.15\n",
      "distributor : -6.79\n",
      "star : 2.29\n"
     ]
    },
    {
     "data": {
      "image/png": "[encoded data removed]",
      "text/plain": [
       "<Figure size 432x288 with 1 Axes>"
      ]
     },
     "metadata": {},
     "output_type": "display_data"
    }
   ],
   "source": [
    "get_score(X_train, X_val, y_train, y_val)"
   ]
  },
  {
   "cell_type": "code",
   "execution_count": null,
   "metadata": {},
   "outputs": [],
   "source": []
  },
  {
   "cell_type": "markdown",
   "metadata": {},
   "source": [
    "### * LASSO"
   ]
  },
  {
   "cell_type": "code",
   "execution_count": 1008,
   "metadata": {},
   "outputs": [
    {
     "data": {
      "text/plain": [
       "[('1', 0.0),\n",
       " ('budget', 10.869471240606385),\n",
       " ('runtime', -1.611672469933273),\n",
       " ('release_year', 1.0161579684797188),\n",
       " ('budget runtime', 0.4049149340124763),\n",
       " ('budget release_year', 0.7715600057139052),\n",
       " ('runtime release_year', -0.40032965382437763)]"
      ]
     },
     "execution_count": 1008,
     "metadata": {},
     "output_type": "execute_result"
    }
   ],
   "source": [
    "lasso_model = Lasso(alpha = 0.001)\n",
    "lasso_model.fit(X_train_con_scaled_df,y_train)\n",
    "list(zip(X_train_con_scaled_df.columns, lasso_model.coef_))"
   ]
  },
  {
   "cell_type": "code",
   "execution_count": 415,
   "metadata": {},
   "outputs": [
    {
     "name": "stdout",
     "output_type": "stream",
     "text": [
      "The best value of alpha is: 0.03660695147596903\n"
     ]
    }
   ],
   "source": [
    "# Run the cross validation, find the best alpha, refit the model on all the data with that alpha\n",
    "\n",
    "\n",
    "alphavec = 10**np.linspace(-5,5,1000)\n",
    "\n",
    "lasso_model = LassoCV(alphas = alphavec, cv=5)\n",
    "lasso_model.fit(X_train_con_scaled_df, y_train)\n",
    "print('The best value of alpha is:', lasso_model.alpha_)"
   ]
  },
  {
   "cell_type": "code",
   "execution_count": 1009,
   "metadata": {},
   "outputs": [
    {
     "data": {
      "text/plain": [
       "[('1', 0.0),\n",
       " ('budget', 10.877745596221406),\n",
       " ('runtime', -1.5474948072327137),\n",
       " ('release_year', 0.9493614150583384),\n",
       " ('budget runtime', 0.36337683954390504),\n",
       " ('budget release_year', 0.6831753238740066),\n",
       " ('runtime release_year', -0.3289324434094806)]"
      ]
     },
     "execution_count": 1009,
     "metadata": {},
     "output_type": "execute_result"
    }
   ],
   "source": [
    "lasso_model = Lasso(alpha = 0.036)\n",
    "lasso_model.fit(X_train_con_scaled_df,y_train)\n",
    "list(zip(X_train_con_scaled_df.columns, lasso_model.coef_))"
   ]
  },
  {
   "cell_type": "code",
   "execution_count": 1010,
   "metadata": {},
   "outputs": [
    {
     "data": {
      "text/plain": [
       "0.6284271657771358"
      ]
     },
     "execution_count": 1010,
     "metadata": {},
     "output_type": "execute_result"
    }
   ],
   "source": [
    "val_pred = lasso_model.predict(X_val_con_scaled_df)\n",
    "r2_score(y_val, val_pred)"
   ]
  },
  {
   "cell_type": "code",
   "execution_count": null,
   "metadata": {},
   "outputs": [],
   "source": []
  },
  {
   "cell_type": "code",
   "execution_count": null,
   "metadata": {},
   "outputs": [],
   "source": []
  }
 ],
 "metadata": {
  "kernelspec": {
   "display_name": "Python 3",
   "language": "python",
   "name": "python3"
  },
  "language_info": {
   "codemirror_mode": {
    "name": "ipython",
    "version": 3
   },
   "file_extension": ".py",
   "mimetype": "text/x-python",
   "name": "python",
   "nbconvert_exporter": "python",
   "pygments_lexer": "ipython3",
   "version": "3.8.5"
  }
 },
 "nbformat": 4,
 "nbformat_minor": 4
}
