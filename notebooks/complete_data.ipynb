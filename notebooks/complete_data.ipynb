{
 "cells": [
  {
   "cell_type": "code",
   "execution_count": 1,
   "metadata": {},
   "outputs": [],
   "source": [
    "import pandas as pd\n",
    "from sklearn.model_selection import train_test_split\n",
    "from sklearn.linear_model import LinearRegression\n",
    "from sklearn.metrics import mean_squared_error\n",
    "from sklearn.preprocessing import OneHotEncoder\n",
    "import numpy as np\n",
    "import seaborn as sns\n",
    "import matplotlib.pyplot as plt"
   ]
  },
  {
   "cell_type": "markdown",
   "metadata": {},
   "source": [
    "## 1. Load raw combined data"
   ]
  },
  {
   "cell_type": "code",
   "execution_count": 2,
   "metadata": {},
   "outputs": [],
   "source": [
    "# Load movie+book data\n",
    "import pandas as pd\n",
    "all_data_df = pd.read_pickle('../dump/all_ab_df')"
   ]
  },
  {
   "cell_type": "code",
   "execution_count": 3,
   "metadata": {},
   "outputs": [
    {
     "data": {
      "text/plain": [
       "(1812, 35)"
      ]
     },
     "execution_count": 3,
     "metadata": {},
     "output_type": "execute_result"
    }
   ],
   "source": [
    "all_data_df.shape"
   ]
  },
  {
   "cell_type": "code",
   "execution_count": 4,
   "metadata": {},
   "outputs": [
    {
     "name": "stdout",
     "output_type": "stream",
     "text": [
      "<class 'pandas.core.frame.DataFrame'>\n",
      "Int64Index: 1812 entries, 0 to 1811\n",
      "Data columns (total 35 columns):\n",
      " #   Column               Non-Null Count  Dtype         \n",
      "---  ------               --------------  -----         \n",
      " 0   movie_title          1812 non-null   object        \n",
      " 1   rating               1812 non-null   float64       \n",
      " 2   vote                 1812 non-null   int64         \n",
      " 3   certificate          1812 non-null   object        \n",
      " 4   genre                1812 non-null   object        \n",
      " 5   release_date         1812 non-null   datetime64[ns]\n",
      " 6   metascore            686 non-null    float64       \n",
      " 7   keywords             1812 non-null   object        \n",
      " 8   budget               1312 non-null   float64       \n",
      " 9   opening_weekend_usa  1091 non-null   float64       \n",
      " 10  gross_usa            1238 non-null   float64       \n",
      " 11  gross_world          1327 non-null   float64       \n",
      " 12  runtime              1791 non-null   float64       \n",
      " 13  director             1812 non-null   object        \n",
      " 14  link_d               1812 non-null   object        \n",
      " 15  writer               1812 non-null   object        \n",
      " 16  link_w               1812 non-null   object        \n",
      " 17  star                 1812 non-null   object        \n",
      " 18  link_s               1812 non-null   object        \n",
      " 19  distributor          1803 non-null   object        \n",
      " 20  language             1812 non-null   object        \n",
      " 21  country              1812 non-null   object        \n",
      " 22  book_title           1812 non-null   object        \n",
      " 23  author               1812 non-null   object        \n",
      " 24  rating_value         1812 non-null   float64       \n",
      " 25  rating_count         1812 non-null   float64       \n",
      " 26  review_count         1812 non-null   float64       \n",
      " 27  page                 1774 non-null   float64       \n",
      " 28  year                 1808 non-null   float64       \n",
      " 29  title                1812 non-null   object        \n",
      " 30  book_popularity      1812 non-null   float64       \n",
      " 31  author_popularity    1812 non-null   float64       \n",
      " 32  years                1812 non-null   object        \n",
      " 33  release_year         1812 non-null   int64         \n",
      " 34  count_a              1812 non-null   int64         \n",
      "dtypes: datetime64[ns](1), float64(14), int64(3), object(17)\n",
      "memory usage: 509.6+ KB\n"
     ]
    }
   ],
   "source": [
    "all_data_df.info()"
   ]
  },
  {
   "cell_type": "code",
   "execution_count": 5,
   "metadata": {},
   "outputs": [],
   "source": [
    "all_df = all_data_df.drop(columns=['vote','metascore','keywords',\\\n",
    "                                   'link_d','link_s','link_w',\\\n",
    "                                   'book_title','years']).\\\n",
    "                    drop_duplicates(subset=['movie_title','director'])\n",
    "all_df.rename(columns = {'certificate':'MPAA','star':'actor','year':'publish_year',\\\n",
    "                        'rating_value':'rating_value_b','rating_count':'rating_count_b','review_count':'review_count_b'},\\\n",
    "              inplace=True)"
   ]
  },
  {
   "cell_type": "code",
   "execution_count": 6,
   "metadata": {},
   "outputs": [
    {
     "name": "stdout",
     "output_type": "stream",
     "text": [
      "<class 'pandas.core.frame.DataFrame'>\n",
      "Int64Index: 1135 entries, 0 to 1811\n",
      "Data columns (total 27 columns):\n",
      " #   Column               Non-Null Count  Dtype         \n",
      "---  ------               --------------  -----         \n",
      " 0   movie_title          1135 non-null   object        \n",
      " 1   rating               1135 non-null   float64       \n",
      " 2   MPAA                 1135 non-null   object        \n",
      " 3   genre                1135 non-null   object        \n",
      " 4   release_date         1135 non-null   datetime64[ns]\n",
      " 5   budget               830 non-null    float64       \n",
      " 6   opening_weekend_usa  713 non-null    float64       \n",
      " 7   gross_usa            790 non-null    float64       \n",
      " 8   gross_world          842 non-null    float64       \n",
      " 9   runtime              1124 non-null   float64       \n",
      " 10  director             1135 non-null   object        \n",
      " 11  writer               1135 non-null   object        \n",
      " 12  actor                1135 non-null   object        \n",
      " 13  distributor          1133 non-null   object        \n",
      " 14  language             1135 non-null   object        \n",
      " 15  country              1135 non-null   object        \n",
      " 16  author               1135 non-null   object        \n",
      " 17  rating_value_b       1135 non-null   float64       \n",
      " 18  rating_count_b       1135 non-null   float64       \n",
      " 19  review_count_b       1135 non-null   float64       \n",
      " 20  page                 1106 non-null   float64       \n",
      " 21  publish_year         1131 non-null   float64       \n",
      " 22  title                1135 non-null   object        \n",
      " 23  book_popularity      1135 non-null   float64       \n",
      " 24  author_popularity    1135 non-null   float64       \n",
      " 25  release_year         1135 non-null   int64         \n",
      " 26  count_a              1135 non-null   int64         \n",
      "dtypes: datetime64[ns](1), float64(13), int64(2), object(11)\n",
      "memory usage: 248.3+ KB\n"
     ]
    }
   ],
   "source": [
    "all_df.info()"
   ]
  },
  {
   "cell_type": "code",
   "execution_count": 7,
   "metadata": {},
   "outputs": [],
   "source": [
    "cat_feature = ['MPAA','genre','distributor','language','country']\n",
    "con_feature = ['budget','runtime','release_year','publish_year','page','book_popularity','author_popularity','count_a']"
   ]
  },
  {
   "cell_type": "code",
   "execution_count": 8,
   "metadata": {},
   "outputs": [],
   "source": [
    "all_df = all_df.dropna(subset=['gross_usa','gross_world','opening_weekend_usa','budget']).reset_index()"
   ]
  },
  {
   "cell_type": "code",
   "execution_count": 9,
   "metadata": {},
   "outputs": [
    {
     "name": "stdout",
     "output_type": "stream",
     "text": [
      "<class 'pandas.core.frame.DataFrame'>\n",
      "RangeIndex: 596 entries, 0 to 595\n",
      "Data columns (total 28 columns):\n",
      " #   Column               Non-Null Count  Dtype         \n",
      "---  ------               --------------  -----         \n",
      " 0   index                596 non-null    int64         \n",
      " 1   movie_title          596 non-null    object        \n",
      " 2   rating               596 non-null    float64       \n",
      " 3   MPAA                 596 non-null    object        \n",
      " 4   genre                596 non-null    object        \n",
      " 5   release_date         596 non-null    datetime64[ns]\n",
      " 6   budget               596 non-null    float64       \n",
      " 7   opening_weekend_usa  596 non-null    float64       \n",
      " 8   gross_usa            596 non-null    float64       \n",
      " 9   gross_world          596 non-null    float64       \n",
      " 10  runtime              592 non-null    float64       \n",
      " 11  director             596 non-null    object        \n",
      " 12  writer               596 non-null    object        \n",
      " 13  actor                596 non-null    object        \n",
      " 14  distributor          596 non-null    object        \n",
      " 15  language             596 non-null    object        \n",
      " 16  country              596 non-null    object        \n",
      " 17  author               596 non-null    object        \n",
      " 18  rating_value_b       596 non-null    float64       \n",
      " 19  rating_count_b       596 non-null    float64       \n",
      " 20  review_count_b       596 non-null    float64       \n",
      " 21  page                 585 non-null    float64       \n",
      " 22  publish_year         595 non-null    float64       \n",
      " 23  title                596 non-null    object        \n",
      " 24  book_popularity      596 non-null    float64       \n",
      " 25  author_popularity    596 non-null    float64       \n",
      " 26  release_year         596 non-null    int64         \n",
      " 27  count_a              596 non-null    int64         \n",
      "dtypes: datetime64[ns](1), float64(13), int64(3), object(11)\n",
      "memory usage: 130.5+ KB\n"
     ]
    }
   ],
   "source": [
    "all_df.info()"
   ]
  },
  {
   "cell_type": "code",
   "execution_count": 10,
   "metadata": {},
   "outputs": [
    {
     "data": {
      "text/html": [
       "<div>\n",
       "<style scoped>\n",
       "    .dataframe tbody tr th:only-of-type {\n",
       "        vertical-align: middle;\n",
       "    }\n",
       "\n",
       "    .dataframe tbody tr th {\n",
       "        vertical-align: top;\n",
       "    }\n",
       "\n",
       "    .dataframe thead th {\n",
       "        text-align: right;\n",
       "    }\n",
       "</style>\n",
       "<table border=\"1\" class=\"dataframe\">\n",
       "  <thead>\n",
       "    <tr style=\"text-align: right;\">\n",
       "      <th></th>\n",
       "      <th>index</th>\n",
       "      <th>movie_title</th>\n",
       "      <th>rating</th>\n",
       "      <th>MPAA</th>\n",
       "      <th>genre</th>\n",
       "      <th>release_date</th>\n",
       "      <th>budget</th>\n",
       "      <th>opening_weekend_usa</th>\n",
       "      <th>gross_usa</th>\n",
       "      <th>gross_world</th>\n",
       "      <th>...</th>\n",
       "      <th>rating_value_b</th>\n",
       "      <th>rating_count_b</th>\n",
       "      <th>review_count_b</th>\n",
       "      <th>page</th>\n",
       "      <th>publish_year</th>\n",
       "      <th>title</th>\n",
       "      <th>book_popularity</th>\n",
       "      <th>author_popularity</th>\n",
       "      <th>release_year</th>\n",
       "      <th>count_a</th>\n",
       "    </tr>\n",
       "  </thead>\n",
       "  <tbody>\n",
       "    <tr>\n",
       "      <th>0</th>\n",
       "      <td>1</td>\n",
       "      <td>The Godfather</td>\n",
       "      <td>9.2</td>\n",
       "      <td>R</td>\n",
       "      <td>[Crime, Drama]</td>\n",
       "      <td>1972-03-24</td>\n",
       "      <td>6000000.0</td>\n",
       "      <td>302393.0</td>\n",
       "      <td>134966411.0</td>\n",
       "      <td>2.461210e+08</td>\n",
       "      <td>...</td>\n",
       "      <td>4.36</td>\n",
       "      <td>343457.0</td>\n",
       "      <td>8930.0</td>\n",
       "      <td>448.0</td>\n",
       "      <td>1969.0</td>\n",
       "      <td>The Godfather</td>\n",
       "      <td>0.16</td>\n",
       "      <td>0.0699</td>\n",
       "      <td>1972</td>\n",
       "      <td>1</td>\n",
       "    </tr>\n",
       "    <tr>\n",
       "      <th>1</th>\n",
       "      <td>2</td>\n",
       "      <td>Harry Potter and the Sorcerer's Stone</td>\n",
       "      <td>7.6</td>\n",
       "      <td>PG</td>\n",
       "      <td>[Adventure, Family, Fantasy]</td>\n",
       "      <td>2001-11-16</td>\n",
       "      <td>125000000.0</td>\n",
       "      <td>90294621.0</td>\n",
       "      <td>318087620.0</td>\n",
       "      <td>1.006918e+09</td>\n",
       "      <td>...</td>\n",
       "      <td>4.48</td>\n",
       "      <td>7292896.0</td>\n",
       "      <td>115556.0</td>\n",
       "      <td>309.0</td>\n",
       "      <td>1997.0</td>\n",
       "      <td>Harry Potter and the Sorcerer's Stone</td>\n",
       "      <td>0.14</td>\n",
       "      <td>0.0149</td>\n",
       "      <td>2001</td>\n",
       "      <td>4</td>\n",
       "    </tr>\n",
       "    <tr>\n",
       "      <th>2</th>\n",
       "      <td>4</td>\n",
       "      <td>Little Women</td>\n",
       "      <td>7.8</td>\n",
       "      <td>PG</td>\n",
       "      <td>[Drama, Romance]</td>\n",
       "      <td>2019-12-25</td>\n",
       "      <td>40000000.0</td>\n",
       "      <td>16755310.0</td>\n",
       "      <td>108101214.0</td>\n",
       "      <td>2.166012e+08</td>\n",
       "      <td>...</td>\n",
       "      <td>4.09</td>\n",
       "      <td>1717984.0</td>\n",
       "      <td>31224.0</td>\n",
       "      <td>449.0</td>\n",
       "      <td>1868.0</td>\n",
       "      <td>Little Women</td>\n",
       "      <td>0.00</td>\n",
       "      <td>0.0151</td>\n",
       "      <td>2019</td>\n",
       "      <td>0</td>\n",
       "    </tr>\n",
       "    <tr>\n",
       "      <th>3</th>\n",
       "      <td>8</td>\n",
       "      <td>Little Women</td>\n",
       "      <td>7.3</td>\n",
       "      <td>PG</td>\n",
       "      <td>[Drama, Family, Romance]</td>\n",
       "      <td>1994-12-25</td>\n",
       "      <td>18000000.0</td>\n",
       "      <td>2411247.0</td>\n",
       "      <td>50083616.0</td>\n",
       "      <td>5.008362e+07</td>\n",
       "      <td>...</td>\n",
       "      <td>4.09</td>\n",
       "      <td>1717984.0</td>\n",
       "      <td>31224.0</td>\n",
       "      <td>449.0</td>\n",
       "      <td>1868.0</td>\n",
       "      <td>Little Women</td>\n",
       "      <td>0.00</td>\n",
       "      <td>0.0151</td>\n",
       "      <td>1994</td>\n",
       "      <td>0</td>\n",
       "    </tr>\n",
       "    <tr>\n",
       "      <th>4</th>\n",
       "      <td>20</td>\n",
       "      <td>Ready Player One</td>\n",
       "      <td>7.5</td>\n",
       "      <td>PG-13</td>\n",
       "      <td>[Action, Adventure, Sci-Fi]</td>\n",
       "      <td>2018-03-29</td>\n",
       "      <td>175000000.0</td>\n",
       "      <td>41764050.0</td>\n",
       "      <td>137690172.0</td>\n",
       "      <td>5.828937e+08</td>\n",
       "      <td>...</td>\n",
       "      <td>4.25</td>\n",
       "      <td>898280.0</td>\n",
       "      <td>88779.0</td>\n",
       "      <td>374.0</td>\n",
       "      <td>2011.0</td>\n",
       "      <td>Ready Player One</td>\n",
       "      <td>0.00</td>\n",
       "      <td>0.0012</td>\n",
       "      <td>2018</td>\n",
       "      <td>2</td>\n",
       "    </tr>\n",
       "  </tbody>\n",
       "</table>\n",
       "<p>5 rows × 28 columns</p>\n",
       "</div>"
      ],
      "text/plain": [
       "   index                            movie_title  rating   MPAA  \\\n",
       "0      1                          The Godfather     9.2      R   \n",
       "1      2  Harry Potter and the Sorcerer's Stone     7.6     PG   \n",
       "2      4                           Little Women     7.8     PG   \n",
       "3      8                           Little Women     7.3     PG   \n",
       "4     20                       Ready Player One     7.5  PG-13   \n",
       "\n",
       "                          genre release_date       budget  \\\n",
       "0                [Crime, Drama]   1972-03-24    6000000.0   \n",
       "1  [Adventure, Family, Fantasy]   2001-11-16  125000000.0   \n",
       "2              [Drama, Romance]   2019-12-25   40000000.0   \n",
       "3      [Drama, Family, Romance]   1994-12-25   18000000.0   \n",
       "4   [Action, Adventure, Sci-Fi]   2018-03-29  175000000.0   \n",
       "\n",
       "   opening_weekend_usa    gross_usa   gross_world  ...  rating_value_b  \\\n",
       "0             302393.0  134966411.0  2.461210e+08  ...            4.36   \n",
       "1           90294621.0  318087620.0  1.006918e+09  ...            4.48   \n",
       "2           16755310.0  108101214.0  2.166012e+08  ...            4.09   \n",
       "3            2411247.0   50083616.0  5.008362e+07  ...            4.09   \n",
       "4           41764050.0  137690172.0  5.828937e+08  ...            4.25   \n",
       "\n",
       "  rating_count_b review_count_b   page publish_year  \\\n",
       "0       343457.0         8930.0  448.0       1969.0   \n",
       "1      7292896.0       115556.0  309.0       1997.0   \n",
       "2      1717984.0        31224.0  449.0       1868.0   \n",
       "3      1717984.0        31224.0  449.0       1868.0   \n",
       "4       898280.0        88779.0  374.0       2011.0   \n",
       "\n",
       "                                   title book_popularity author_popularity  \\\n",
       "0                          The Godfather            0.16            0.0699   \n",
       "1  Harry Potter and the Sorcerer's Stone            0.14            0.0149   \n",
       "2                           Little Women            0.00            0.0151   \n",
       "3                           Little Women            0.00            0.0151   \n",
       "4                       Ready Player One            0.00            0.0012   \n",
       "\n",
       "   release_year  count_a  \n",
       "0          1972        1  \n",
       "1          2001        4  \n",
       "2          2019        0  \n",
       "3          1994        0  \n",
       "4          2018        2  \n",
       "\n",
       "[5 rows x 28 columns]"
      ]
     },
     "execution_count": 10,
     "metadata": {},
     "output_type": "execute_result"
    }
   ],
   "source": [
    "all_df.head()"
   ]
  },
  {
   "cell_type": "code",
   "execution_count": 11,
   "metadata": {},
   "outputs": [
    {
     "data": {
      "text/plain": [
       "(1812, 35)"
      ]
     },
     "execution_count": 11,
     "metadata": {},
     "output_type": "execute_result"
    }
   ],
   "source": [
    "all_data_df.shape"
   ]
  },
  {
   "cell_type": "code",
   "execution_count": 12,
   "metadata": {},
   "outputs": [
    {
     "data": {
      "text/plain": [
       "(596, 28)"
      ]
     },
     "execution_count": 12,
     "metadata": {},
     "output_type": "execute_result"
    }
   ],
   "source": [
    "all_df.shape"
   ]
  },
  {
   "cell_type": "code",
   "execution_count": 13,
   "metadata": {},
   "outputs": [],
   "source": [
    "all_df.to_pickle('../dump/all_df')"
   ]
  },
  {
   "cell_type": "code",
   "execution_count": 14,
   "metadata": {},
   "outputs": [
    {
     "data": {
      "text/plain": [
       "Index(['index', 'movie_title', 'rating', 'MPAA', 'genre', 'release_date',\n",
       "       'budget', 'opening_weekend_usa', 'gross_usa', 'gross_world', 'runtime',\n",
       "       'director', 'writer', 'actor', 'distributor', 'language', 'country',\n",
       "       'author', 'rating_value_b', 'rating_count_b', 'review_count_b', 'page',\n",
       "       'publish_year', 'title', 'book_popularity', 'author_popularity',\n",
       "       'release_year', 'count_a'],\n",
       "      dtype='object')"
      ]
     },
     "execution_count": 14,
     "metadata": {},
     "output_type": "execute_result"
    }
   ],
   "source": [
    "all_df.columns"
   ]
  },
  {
   "cell_type": "markdown",
   "metadata": {},
   "source": [
    "## 2. Collect more features"
   ]
  },
  {
   "cell_type": "markdown",
   "metadata": {},
   "source": [
    "### (1) release time of the movie"
   ]
  },
  {
   "cell_type": "code",
   "execution_count": 15,
   "metadata": {},
   "outputs": [],
   "source": [
    "# Divide release_date into year, month, day of week\n",
    "all_df['release_year'] = all_df['release_date'].dt.year\n",
    "all_df['release_month'] = all_df['release_date'].dt.month\n",
    "all_df['dow'] = all_df['release_date'].dt.weekday"
   ]
  },
  {
   "cell_type": "code",
   "execution_count": null,
   "metadata": {},
   "outputs": [],
   "source": []
  },
  {
   "cell_type": "markdown",
   "metadata": {},
   "source": [
    "### (2) director value"
   ]
  },
  {
   "cell_type": "code",
   "execution_count": 16,
   "metadata": {},
   "outputs": [],
   "source": [
    "# Find corresponding value of each director when movie is released\n",
    "# ['avg_rating','avg_gross'] (per movie directed)\n",
    "director_df = pd.read_pickle('../dump/director_data')"
   ]
  },
  {
   "cell_type": "code",
   "execution_count": 17,
   "metadata": {},
   "outputs": [
    {
     "data": {
      "text/plain": [
       "(6, 32634196)"
      ]
     },
     "execution_count": 17,
     "metadata": {},
     "output_type": "execute_result"
    }
   ],
   "source": [
    "# Find the mean rating, gross of all directors\n",
    "director_rating_mean = int(director_df.rating.mean())\n",
    "director_gross_mean = int(director_df.gross_usa.mean())\n",
    "\n",
    "director_rating_mean, director_gross_mean"
   ]
  },
  {
   "cell_type": "code",
   "execution_count": 18,
   "metadata": {},
   "outputs": [],
   "source": [
    "def director_value(movie):\n",
    "    \"\"\"\n",
    "    input: movie (each row in all_data_df)\n",
    "    output: \n",
    "        - film_count: number of movies directed before the movie of interest\n",
    "        - avg_rating: average rating of movies directed before the movie of interest\n",
    "        - avg_gross: gross per movie before the movie of interest\n",
    "    \"\"\"\n",
    "    \n",
    "    movie_title = movie.movie_title\n",
    "    director = movie.director\n",
    "    year = movie.release_date\n",
    "\n",
    "    headers = ['movie_title','director','film_count_d','avg_rating_d','avg_gross_d']\n",
    "    \n",
    "    # Assign default values\n",
    "    film_count,avg_rating,avg_gross = 0, director_rating_mean, director_gross_mean\n",
    "    \n",
    "    doi_df = director_df[(director_df.director == director) & (director_df.year < year)]\n",
    "    \n",
    "    # Fill NaN with director's mean\n",
    "    doi_df[['rating','gross_usa']].apply(lambda x: x.fillna(x.mean(),axis=0))\n",
    "    \n",
    "    # If there's still NaN, fill with all directors' mean\n",
    "    doi_df[['rating']] = doi_df[['rating']].apply(lambda x: x.fillna(director_rating_mean,axis=0))\n",
    "    doi_df[['gross_usa']] = doi_df[['gross_usa']].apply(lambda x: x.fillna(director_gross_mean,axis=0))\n",
    "    \n",
    "   \n",
    "    if doi_df.shape[0] == 0:\n",
    "        film_count,avg_rating,avg_gross = 0, director_rating_mean, director_gross_mean\n",
    "    else:\n",
    "        \n",
    "    \n",
    "    \n",
    "        film_count = doi_df.shape[0]\n",
    "\n",
    "        \n",
    "        avg_rating = doi_df['rating'].mean()\n",
    "        if avg_rating == np.nan:\n",
    "            avg_rating = director_rating_mean\n",
    "\n",
    "        try:\n",
    "            avg_gross = int(doi_df['gross_usa'].mean())\n",
    "        except ValueError:\n",
    "            avg_gross = director_gross_mean\n",
    "        \n",
    "    \n",
    "    director_value = dict(zip(headers, [movie_title,director,film_count,avg_rating,avg_gross]))\n",
    "    \n",
    "    return director_value"
   ]
  },
  {
   "cell_type": "code",
   "execution_count": 19,
   "metadata": {},
   "outputs": [],
   "source": [
    "# Create df including columns of director film_count, avg_rating, avg_gross\n",
    "# Rows correspond to rows in all_df\n",
    "movie_director_df = all_df.dropna().apply(director_value,axis=1).apply(pd.Series)"
   ]
  },
  {
   "cell_type": "code",
   "execution_count": 20,
   "metadata": {},
   "outputs": [
    {
     "data": {
      "text/html": [
       "<div>\n",
       "<style scoped>\n",
       "    .dataframe tbody tr th:only-of-type {\n",
       "        vertical-align: middle;\n",
       "    }\n",
       "\n",
       "    .dataframe tbody tr th {\n",
       "        vertical-align: top;\n",
       "    }\n",
       "\n",
       "    .dataframe thead th {\n",
       "        text-align: right;\n",
       "    }\n",
       "</style>\n",
       "<table border=\"1\" class=\"dataframe\">\n",
       "  <thead>\n",
       "    <tr style=\"text-align: right;\">\n",
       "      <th></th>\n",
       "      <th>movie_title</th>\n",
       "      <th>director</th>\n",
       "      <th>film_count_d</th>\n",
       "      <th>avg_rating_d</th>\n",
       "      <th>avg_gross_d</th>\n",
       "    </tr>\n",
       "  </thead>\n",
       "  <tbody>\n",
       "    <tr>\n",
       "      <th>0</th>\n",
       "      <td>The Godfather</td>\n",
       "      <td>Francis Ford Coppola</td>\n",
       "      <td>7</td>\n",
       "      <td>5.285714</td>\n",
       "      <td>32634196</td>\n",
       "    </tr>\n",
       "    <tr>\n",
       "      <th>1</th>\n",
       "      <td>Harry Potter and the Sorcerer's Stone</td>\n",
       "      <td>Chris Columbus</td>\n",
       "      <td>9</td>\n",
       "      <td>6.622222</td>\n",
       "      <td>106588545</td>\n",
       "    </tr>\n",
       "    <tr>\n",
       "      <th>2</th>\n",
       "      <td>Little Women</td>\n",
       "      <td>Greta Gerwig</td>\n",
       "      <td>2</td>\n",
       "      <td>6.700000</td>\n",
       "      <td>24481851</td>\n",
       "    </tr>\n",
       "    <tr>\n",
       "      <th>3</th>\n",
       "      <td>Little Women</td>\n",
       "      <td>Gillian Armstrong</td>\n",
       "      <td>11</td>\n",
       "      <td>6.663636</td>\n",
       "      <td>24220795</td>\n",
       "    </tr>\n",
       "    <tr>\n",
       "      <th>4</th>\n",
       "      <td>Ready Player One</td>\n",
       "      <td>Steven Spielberg</td>\n",
       "      <td>34</td>\n",
       "      <td>7.202941</td>\n",
       "      <td>132444136</td>\n",
       "    </tr>\n",
       "    <tr>\n",
       "      <th>...</th>\n",
       "      <td>...</td>\n",
       "      <td>...</td>\n",
       "      <td>...</td>\n",
       "      <td>...</td>\n",
       "      <td>...</td>\n",
       "    </tr>\n",
       "    <tr>\n",
       "      <th>591</th>\n",
       "      <td>Never Die Alone</td>\n",
       "      <td>Ernest R. Dickerson</td>\n",
       "      <td>7</td>\n",
       "      <td>6.157143</td>\n",
       "      <td>20446469</td>\n",
       "    </tr>\n",
       "    <tr>\n",
       "      <th>592</th>\n",
       "      <td>Radio Free Albemuth</td>\n",
       "      <td>John Alan Simon</td>\n",
       "      <td>0</td>\n",
       "      <td>6.000000</td>\n",
       "      <td>32634196</td>\n",
       "    </tr>\n",
       "    <tr>\n",
       "      <th>593</th>\n",
       "      <td>The Golden Bowl</td>\n",
       "      <td>James Ivory</td>\n",
       "      <td>23</td>\n",
       "      <td>6.317391</td>\n",
       "      <td>18103663</td>\n",
       "    </tr>\n",
       "    <tr>\n",
       "      <th>594</th>\n",
       "      <td>The Good Mother</td>\n",
       "      <td>Leonard Nimoy</td>\n",
       "      <td>3</td>\n",
       "      <td>6.700000</td>\n",
       "      <td>117988379</td>\n",
       "    </tr>\n",
       "    <tr>\n",
       "      <th>595</th>\n",
       "      <td>Finders Keepers</td>\n",
       "      <td>Richard Lester</td>\n",
       "      <td>22</td>\n",
       "      <td>6.481818</td>\n",
       "      <td>34423133</td>\n",
       "    </tr>\n",
       "  </tbody>\n",
       "</table>\n",
       "<p>581 rows × 5 columns</p>\n",
       "</div>"
      ],
      "text/plain": [
       "                               movie_title              director  \\\n",
       "0                            The Godfather  Francis Ford Coppola   \n",
       "1    Harry Potter and the Sorcerer's Stone        Chris Columbus   \n",
       "2                             Little Women          Greta Gerwig   \n",
       "3                             Little Women     Gillian Armstrong   \n",
       "4                         Ready Player One      Steven Spielberg   \n",
       "..                                     ...                   ...   \n",
       "591                        Never Die Alone   Ernest R. Dickerson   \n",
       "592                    Radio Free Albemuth       John Alan Simon   \n",
       "593                        The Golden Bowl           James Ivory   \n",
       "594                        The Good Mother         Leonard Nimoy   \n",
       "595                        Finders Keepers        Richard Lester   \n",
       "\n",
       "     film_count_d  avg_rating_d  avg_gross_d  \n",
       "0               7      5.285714     32634196  \n",
       "1               9      6.622222    106588545  \n",
       "2               2      6.700000     24481851  \n",
       "3              11      6.663636     24220795  \n",
       "4              34      7.202941    132444136  \n",
       "..            ...           ...          ...  \n",
       "591             7      6.157143     20446469  \n",
       "592             0      6.000000     32634196  \n",
       "593            23      6.317391     18103663  \n",
       "594             3      6.700000    117988379  \n",
       "595            22      6.481818     34423133  \n",
       "\n",
       "[581 rows x 5 columns]"
      ]
     },
     "execution_count": 20,
     "metadata": {},
     "output_type": "execute_result"
    }
   ],
   "source": [
    "movie_director_df"
   ]
  },
  {
   "cell_type": "code",
   "execution_count": 21,
   "metadata": {},
   "outputs": [],
   "source": [
    "# Merge all_df and director value\n",
    "all_d_df = pd.merge(all_df, movie_director_df, left_index=True, right_index=True ,how='left')"
   ]
  },
  {
   "cell_type": "code",
   "execution_count": 22,
   "metadata": {},
   "outputs": [],
   "source": [
    "# Merge all_df and director value\n",
    "all_d_df = pd.merge(all_df, movie_director_df, on=['movie_title','director'] ,how='left')"
   ]
  },
  {
   "cell_type": "code",
   "execution_count": 23,
   "metadata": {},
   "outputs": [
    {
     "data": {
      "text/html": [
       "<div>\n",
       "<style scoped>\n",
       "    .dataframe tbody tr th:only-of-type {\n",
       "        vertical-align: middle;\n",
       "    }\n",
       "\n",
       "    .dataframe tbody tr th {\n",
       "        vertical-align: top;\n",
       "    }\n",
       "\n",
       "    .dataframe thead th {\n",
       "        text-align: right;\n",
       "    }\n",
       "</style>\n",
       "<table border=\"1\" class=\"dataframe\">\n",
       "  <thead>\n",
       "    <tr style=\"text-align: right;\">\n",
       "      <th></th>\n",
       "      <th>index</th>\n",
       "      <th>movie_title</th>\n",
       "      <th>rating</th>\n",
       "      <th>MPAA</th>\n",
       "      <th>genre</th>\n",
       "      <th>release_date</th>\n",
       "      <th>budget</th>\n",
       "      <th>opening_weekend_usa</th>\n",
       "      <th>gross_usa</th>\n",
       "      <th>gross_world</th>\n",
       "      <th>...</th>\n",
       "      <th>title</th>\n",
       "      <th>book_popularity</th>\n",
       "      <th>author_popularity</th>\n",
       "      <th>release_year</th>\n",
       "      <th>count_a</th>\n",
       "      <th>release_month</th>\n",
       "      <th>dow</th>\n",
       "      <th>film_count_d</th>\n",
       "      <th>avg_rating_d</th>\n",
       "      <th>avg_gross_d</th>\n",
       "    </tr>\n",
       "  </thead>\n",
       "  <tbody>\n",
       "    <tr>\n",
       "      <th>0</th>\n",
       "      <td>1</td>\n",
       "      <td>The Godfather</td>\n",
       "      <td>9.2</td>\n",
       "      <td>R</td>\n",
       "      <td>[Crime, Drama]</td>\n",
       "      <td>1972-03-24</td>\n",
       "      <td>6000000.0</td>\n",
       "      <td>302393.0</td>\n",
       "      <td>134966411.0</td>\n",
       "      <td>2.461210e+08</td>\n",
       "      <td>...</td>\n",
       "      <td>The Godfather</td>\n",
       "      <td>0.16</td>\n",
       "      <td>0.0699</td>\n",
       "      <td>1972</td>\n",
       "      <td>1</td>\n",
       "      <td>3</td>\n",
       "      <td>4</td>\n",
       "      <td>7.0</td>\n",
       "      <td>5.285714</td>\n",
       "      <td>32634196.0</td>\n",
       "    </tr>\n",
       "    <tr>\n",
       "      <th>1</th>\n",
       "      <td>2</td>\n",
       "      <td>Harry Potter and the Sorcerer's Stone</td>\n",
       "      <td>7.6</td>\n",
       "      <td>PG</td>\n",
       "      <td>[Adventure, Family, Fantasy]</td>\n",
       "      <td>2001-11-16</td>\n",
       "      <td>125000000.0</td>\n",
       "      <td>90294621.0</td>\n",
       "      <td>318087620.0</td>\n",
       "      <td>1.006918e+09</td>\n",
       "      <td>...</td>\n",
       "      <td>Harry Potter and the Sorcerer's Stone</td>\n",
       "      <td>0.14</td>\n",
       "      <td>0.0149</td>\n",
       "      <td>2001</td>\n",
       "      <td>4</td>\n",
       "      <td>11</td>\n",
       "      <td>4</td>\n",
       "      <td>9.0</td>\n",
       "      <td>6.622222</td>\n",
       "      <td>106588545.0</td>\n",
       "    </tr>\n",
       "    <tr>\n",
       "      <th>2</th>\n",
       "      <td>4</td>\n",
       "      <td>Little Women</td>\n",
       "      <td>7.8</td>\n",
       "      <td>PG</td>\n",
       "      <td>[Drama, Romance]</td>\n",
       "      <td>2019-12-25</td>\n",
       "      <td>40000000.0</td>\n",
       "      <td>16755310.0</td>\n",
       "      <td>108101214.0</td>\n",
       "      <td>2.166012e+08</td>\n",
       "      <td>...</td>\n",
       "      <td>Little Women</td>\n",
       "      <td>0.00</td>\n",
       "      <td>0.0151</td>\n",
       "      <td>2019</td>\n",
       "      <td>0</td>\n",
       "      <td>12</td>\n",
       "      <td>2</td>\n",
       "      <td>2.0</td>\n",
       "      <td>6.700000</td>\n",
       "      <td>24481851.0</td>\n",
       "    </tr>\n",
       "    <tr>\n",
       "      <th>3</th>\n",
       "      <td>8</td>\n",
       "      <td>Little Women</td>\n",
       "      <td>7.3</td>\n",
       "      <td>PG</td>\n",
       "      <td>[Drama, Family, Romance]</td>\n",
       "      <td>1994-12-25</td>\n",
       "      <td>18000000.0</td>\n",
       "      <td>2411247.0</td>\n",
       "      <td>50083616.0</td>\n",
       "      <td>5.008362e+07</td>\n",
       "      <td>...</td>\n",
       "      <td>Little Women</td>\n",
       "      <td>0.00</td>\n",
       "      <td>0.0151</td>\n",
       "      <td>1994</td>\n",
       "      <td>0</td>\n",
       "      <td>12</td>\n",
       "      <td>6</td>\n",
       "      <td>11.0</td>\n",
       "      <td>6.663636</td>\n",
       "      <td>24220795.0</td>\n",
       "    </tr>\n",
       "    <tr>\n",
       "      <th>4</th>\n",
       "      <td>20</td>\n",
       "      <td>Ready Player One</td>\n",
       "      <td>7.5</td>\n",
       "      <td>PG-13</td>\n",
       "      <td>[Action, Adventure, Sci-Fi]</td>\n",
       "      <td>2018-03-29</td>\n",
       "      <td>175000000.0</td>\n",
       "      <td>41764050.0</td>\n",
       "      <td>137690172.0</td>\n",
       "      <td>5.828937e+08</td>\n",
       "      <td>...</td>\n",
       "      <td>Ready Player One</td>\n",
       "      <td>0.00</td>\n",
       "      <td>0.0012</td>\n",
       "      <td>2018</td>\n",
       "      <td>2</td>\n",
       "      <td>3</td>\n",
       "      <td>3</td>\n",
       "      <td>34.0</td>\n",
       "      <td>7.202941</td>\n",
       "      <td>132444136.0</td>\n",
       "    </tr>\n",
       "    <tr>\n",
       "      <th>...</th>\n",
       "      <td>...</td>\n",
       "      <td>...</td>\n",
       "      <td>...</td>\n",
       "      <td>...</td>\n",
       "      <td>...</td>\n",
       "      <td>...</td>\n",
       "      <td>...</td>\n",
       "      <td>...</td>\n",
       "      <td>...</td>\n",
       "      <td>...</td>\n",
       "      <td>...</td>\n",
       "      <td>...</td>\n",
       "      <td>...</td>\n",
       "      <td>...</td>\n",
       "      <td>...</td>\n",
       "      <td>...</td>\n",
       "      <td>...</td>\n",
       "      <td>...</td>\n",
       "      <td>...</td>\n",
       "      <td>...</td>\n",
       "      <td>...</td>\n",
       "    </tr>\n",
       "    <tr>\n",
       "      <th>591</th>\n",
       "      <td>1785</td>\n",
       "      <td>Never Die Alone</td>\n",
       "      <td>5.7</td>\n",
       "      <td>R</td>\n",
       "      <td>[Action, Crime, Drama]</td>\n",
       "      <td>2004-03-26</td>\n",
       "      <td>3000000.0</td>\n",
       "      <td>3089993.0</td>\n",
       "      <td>5645298.0</td>\n",
       "      <td>5.923000e+06</td>\n",
       "      <td>...</td>\n",
       "      <td>Never Die Alone</td>\n",
       "      <td>0.26</td>\n",
       "      <td>0.0093</td>\n",
       "      <td>2004</td>\n",
       "      <td>65</td>\n",
       "      <td>3</td>\n",
       "      <td>4</td>\n",
       "      <td>7.0</td>\n",
       "      <td>6.157143</td>\n",
       "      <td>20446469.0</td>\n",
       "    </tr>\n",
       "    <tr>\n",
       "      <th>592</th>\n",
       "      <td>1787</td>\n",
       "      <td>Radio Free Albemuth</td>\n",
       "      <td>5.7</td>\n",
       "      <td>R</td>\n",
       "      <td>[Drama, Sci-Fi]</td>\n",
       "      <td>2014-06-27</td>\n",
       "      <td>3600000.0</td>\n",
       "      <td>5553.0</td>\n",
       "      <td>9365.0</td>\n",
       "      <td>9.365000e+03</td>\n",
       "      <td>...</td>\n",
       "      <td>Radio Free Albemuth</td>\n",
       "      <td>0.00</td>\n",
       "      <td>0.0039</td>\n",
       "      <td>2014</td>\n",
       "      <td>63</td>\n",
       "      <td>6</td>\n",
       "      <td>4</td>\n",
       "      <td>0.0</td>\n",
       "      <td>6.000000</td>\n",
       "      <td>32634196.0</td>\n",
       "    </tr>\n",
       "    <tr>\n",
       "      <th>593</th>\n",
       "      <td>1793</td>\n",
       "      <td>The Golden Bowl</td>\n",
       "      <td>5.9</td>\n",
       "      <td>R</td>\n",
       "      <td>[Drama, Romance]</td>\n",
       "      <td>2001-05-25</td>\n",
       "      <td>15000000.0</td>\n",
       "      <td>90170.0</td>\n",
       "      <td>3050532.0</td>\n",
       "      <td>5.753678e+06</td>\n",
       "      <td>...</td>\n",
       "      <td>The Golden Bowl</td>\n",
       "      <td>0.36</td>\n",
       "      <td>0.7878</td>\n",
       "      <td>2001</td>\n",
       "      <td>0</td>\n",
       "      <td>5</td>\n",
       "      <td>4</td>\n",
       "      <td>23.0</td>\n",
       "      <td>6.317391</td>\n",
       "      <td>18103663.0</td>\n",
       "    </tr>\n",
       "    <tr>\n",
       "      <th>594</th>\n",
       "      <td>1803</td>\n",
       "      <td>The Good Mother</td>\n",
       "      <td>5.8</td>\n",
       "      <td>R</td>\n",
       "      <td>[Drama, Romance]</td>\n",
       "      <td>1988-11-04</td>\n",
       "      <td>14000000.0</td>\n",
       "      <td>1804288.0</td>\n",
       "      <td>4764606.0</td>\n",
       "      <td>4.764606e+06</td>\n",
       "      <td>...</td>\n",
       "      <td>The Good Mother</td>\n",
       "      <td>1.56</td>\n",
       "      <td>0.2796</td>\n",
       "      <td>1988</td>\n",
       "      <td>2</td>\n",
       "      <td>11</td>\n",
       "      <td>4</td>\n",
       "      <td>3.0</td>\n",
       "      <td>6.700000</td>\n",
       "      <td>117988379.0</td>\n",
       "    </tr>\n",
       "    <tr>\n",
       "      <th>595</th>\n",
       "      <td>1804</td>\n",
       "      <td>Finders Keepers</td>\n",
       "      <td>5.5</td>\n",
       "      <td>R</td>\n",
       "      <td>[Comedy]</td>\n",
       "      <td>1984-05-18</td>\n",
       "      <td>7000000.0</td>\n",
       "      <td>865207.0</td>\n",
       "      <td>1467396.0</td>\n",
       "      <td>1.467396e+06</td>\n",
       "      <td>...</td>\n",
       "      <td>Finders Keepers</td>\n",
       "      <td>0.12</td>\n",
       "      <td>0.7481</td>\n",
       "      <td>1984</td>\n",
       "      <td>11</td>\n",
       "      <td>5</td>\n",
       "      <td>4</td>\n",
       "      <td>22.0</td>\n",
       "      <td>6.481818</td>\n",
       "      <td>34423133.0</td>\n",
       "    </tr>\n",
       "  </tbody>\n",
       "</table>\n",
       "<p>596 rows × 33 columns</p>\n",
       "</div>"
      ],
      "text/plain": [
       "     index                            movie_title  rating   MPAA  \\\n",
       "0        1                          The Godfather     9.2      R   \n",
       "1        2  Harry Potter and the Sorcerer's Stone     7.6     PG   \n",
       "2        4                           Little Women     7.8     PG   \n",
       "3        8                           Little Women     7.3     PG   \n",
       "4       20                       Ready Player One     7.5  PG-13   \n",
       "..     ...                                    ...     ...    ...   \n",
       "591   1785                        Never Die Alone     5.7      R   \n",
       "592   1787                    Radio Free Albemuth     5.7      R   \n",
       "593   1793                        The Golden Bowl     5.9      R   \n",
       "594   1803                        The Good Mother     5.8      R   \n",
       "595   1804                        Finders Keepers     5.5      R   \n",
       "\n",
       "                            genre release_date       budget  \\\n",
       "0                  [Crime, Drama]   1972-03-24    6000000.0   \n",
       "1    [Adventure, Family, Fantasy]   2001-11-16  125000000.0   \n",
       "2                [Drama, Romance]   2019-12-25   40000000.0   \n",
       "3        [Drama, Family, Romance]   1994-12-25   18000000.0   \n",
       "4     [Action, Adventure, Sci-Fi]   2018-03-29  175000000.0   \n",
       "..                            ...          ...          ...   \n",
       "591        [Action, Crime, Drama]   2004-03-26    3000000.0   \n",
       "592               [Drama, Sci-Fi]   2014-06-27    3600000.0   \n",
       "593              [Drama, Romance]   2001-05-25   15000000.0   \n",
       "594              [Drama, Romance]   1988-11-04   14000000.0   \n",
       "595                      [Comedy]   1984-05-18    7000000.0   \n",
       "\n",
       "     opening_weekend_usa    gross_usa   gross_world  ...  \\\n",
       "0               302393.0  134966411.0  2.461210e+08  ...   \n",
       "1             90294621.0  318087620.0  1.006918e+09  ...   \n",
       "2             16755310.0  108101214.0  2.166012e+08  ...   \n",
       "3              2411247.0   50083616.0  5.008362e+07  ...   \n",
       "4             41764050.0  137690172.0  5.828937e+08  ...   \n",
       "..                   ...          ...           ...  ...   \n",
       "591            3089993.0    5645298.0  5.923000e+06  ...   \n",
       "592               5553.0       9365.0  9.365000e+03  ...   \n",
       "593              90170.0    3050532.0  5.753678e+06  ...   \n",
       "594            1804288.0    4764606.0  4.764606e+06  ...   \n",
       "595             865207.0    1467396.0  1.467396e+06  ...   \n",
       "\n",
       "                                     title book_popularity author_popularity  \\\n",
       "0                            The Godfather            0.16            0.0699   \n",
       "1    Harry Potter and the Sorcerer's Stone            0.14            0.0149   \n",
       "2                             Little Women            0.00            0.0151   \n",
       "3                             Little Women            0.00            0.0151   \n",
       "4                         Ready Player One            0.00            0.0012   \n",
       "..                                     ...             ...               ...   \n",
       "591                        Never Die Alone            0.26            0.0093   \n",
       "592                    Radio Free Albemuth            0.00            0.0039   \n",
       "593                        The Golden Bowl            0.36            0.7878   \n",
       "594                        The Good Mother            1.56            0.2796   \n",
       "595                        Finders Keepers            0.12            0.7481   \n",
       "\n",
       "    release_year count_a release_month dow film_count_d  avg_rating_d  \\\n",
       "0           1972       1             3   4          7.0      5.285714   \n",
       "1           2001       4            11   4          9.0      6.622222   \n",
       "2           2019       0            12   2          2.0      6.700000   \n",
       "3           1994       0            12   6         11.0      6.663636   \n",
       "4           2018       2             3   3         34.0      7.202941   \n",
       "..           ...     ...           ...  ..          ...           ...   \n",
       "591         2004      65             3   4          7.0      6.157143   \n",
       "592         2014      63             6   4          0.0      6.000000   \n",
       "593         2001       0             5   4         23.0      6.317391   \n",
       "594         1988       2            11   4          3.0      6.700000   \n",
       "595         1984      11             5   4         22.0      6.481818   \n",
       "\n",
       "     avg_gross_d  \n",
       "0     32634196.0  \n",
       "1    106588545.0  \n",
       "2     24481851.0  \n",
       "3     24220795.0  \n",
       "4    132444136.0  \n",
       "..           ...  \n",
       "591   20446469.0  \n",
       "592   32634196.0  \n",
       "593   18103663.0  \n",
       "594  117988379.0  \n",
       "595   34423133.0  \n",
       "\n",
       "[596 rows x 33 columns]"
      ]
     },
     "execution_count": 23,
     "metadata": {},
     "output_type": "execute_result"
    }
   ],
   "source": [
    "all_d_df"
   ]
  },
  {
   "cell_type": "code",
   "execution_count": 24,
   "metadata": {},
   "outputs": [
    {
     "data": {
      "text/plain": [
       "Index(['index', 'movie_title', 'rating', 'MPAA', 'genre', 'release_date',\n",
       "       'budget', 'opening_weekend_usa', 'gross_usa', 'gross_world', 'runtime',\n",
       "       'director', 'writer', 'actor', 'distributor', 'language', 'country',\n",
       "       'author', 'rating_value_b', 'rating_count_b', 'review_count_b', 'page',\n",
       "       'publish_year', 'title', 'book_popularity', 'author_popularity',\n",
       "       'release_year', 'count_a', 'release_month', 'dow', 'film_count_d',\n",
       "       'avg_rating_d', 'avg_gross_d'],\n",
       "      dtype='object')"
      ]
     },
     "execution_count": 24,
     "metadata": {},
     "output_type": "execute_result"
    }
   ],
   "source": [
    "all_d_df.columns"
   ]
  },
  {
   "cell_type": "code",
   "execution_count": null,
   "metadata": {},
   "outputs": [],
   "source": []
  },
  {
   "cell_type": "code",
   "execution_count": null,
   "metadata": {},
   "outputs": [],
   "source": []
  },
  {
   "cell_type": "code",
   "execution_count": null,
   "metadata": {},
   "outputs": [],
   "source": []
  },
  {
   "cell_type": "markdown",
   "metadata": {},
   "source": [
    "### (3) cast (actors) value"
   ]
  },
  {
   "cell_type": "code",
   "execution_count": 25,
   "metadata": {},
   "outputs": [
    {
     "ename": "FileNotFoundError",
     "evalue": "[Errno 2] No such file or directory: '../dump/actor_correct_data'",
     "output_type": "error",
     "traceback": [
      "\u001b[0;31m---------------------------------------------------------------------------\u001b[0m",
      "\u001b[0;31mFileNotFoundError\u001b[0m                         Traceback (most recent call last)",
      "\u001b[0;32m<ipython-input-25-7688c599523e>\u001b[0m in \u001b[0;36m<module>\u001b[0;34m\u001b[0m\n\u001b[1;32m      1\u001b[0m \u001b[0;31m# Find corresponding value of each director when movie is released\u001b[0m\u001b[0;34m\u001b[0m\u001b[0;34m\u001b[0m\u001b[0;34m\u001b[0m\u001b[0m\n\u001b[1;32m      2\u001b[0m \u001b[0;31m# ['avg_rating','avg_gross'] (per movie directed)\u001b[0m\u001b[0;34m\u001b[0m\u001b[0;34m\u001b[0m\u001b[0;34m\u001b[0m\u001b[0m\n\u001b[0;32m----> 3\u001b[0;31m \u001b[0mactor_df\u001b[0m \u001b[0;34m=\u001b[0m \u001b[0mpd\u001b[0m\u001b[0;34m.\u001b[0m\u001b[0mread_pickle\u001b[0m\u001b[0;34m(\u001b[0m\u001b[0;34m'../dump/actor_correct_data'\u001b[0m\u001b[0;34m)\u001b[0m\u001b[0;34m\u001b[0m\u001b[0;34m\u001b[0m\u001b[0m\n\u001b[0m\u001b[1;32m      4\u001b[0m \u001b[0mactor_df\u001b[0m\u001b[0;34m.\u001b[0m\u001b[0mshape\u001b[0m\u001b[0;34m\u001b[0m\u001b[0;34m\u001b[0m\u001b[0m\n",
      "\u001b[0;32m/opt/anaconda3/lib/python3.8/site-packages/pandas/io/pickle.py\u001b[0m in \u001b[0;36mread_pickle\u001b[0;34m(filepath_or_buffer, compression)\u001b[0m\n\u001b[1;32m    167\u001b[0m     \u001b[0;32mif\u001b[0m \u001b[0;32mnot\u001b[0m \u001b[0misinstance\u001b[0m\u001b[0;34m(\u001b[0m\u001b[0mfp_or_buf\u001b[0m\u001b[0;34m,\u001b[0m \u001b[0mstr\u001b[0m\u001b[0;34m)\u001b[0m \u001b[0;32mand\u001b[0m \u001b[0mcompression\u001b[0m \u001b[0;34m==\u001b[0m \u001b[0;34m\"infer\"\u001b[0m\u001b[0;34m:\u001b[0m\u001b[0;34m\u001b[0m\u001b[0;34m\u001b[0m\u001b[0m\n\u001b[1;32m    168\u001b[0m         \u001b[0mcompression\u001b[0m \u001b[0;34m=\u001b[0m \u001b[0;32mNone\u001b[0m\u001b[0;34m\u001b[0m\u001b[0;34m\u001b[0m\u001b[0m\n\u001b[0;32m--> 169\u001b[0;31m     \u001b[0mf\u001b[0m\u001b[0;34m,\u001b[0m \u001b[0mfh\u001b[0m \u001b[0;34m=\u001b[0m \u001b[0mget_handle\u001b[0m\u001b[0;34m(\u001b[0m\u001b[0mfp_or_buf\u001b[0m\u001b[0;34m,\u001b[0m \u001b[0;34m\"rb\"\u001b[0m\u001b[0;34m,\u001b[0m \u001b[0mcompression\u001b[0m\u001b[0;34m=\u001b[0m\u001b[0mcompression\u001b[0m\u001b[0;34m,\u001b[0m \u001b[0mis_text\u001b[0m\u001b[0;34m=\u001b[0m\u001b[0;32mFalse\u001b[0m\u001b[0;34m)\u001b[0m\u001b[0;34m\u001b[0m\u001b[0;34m\u001b[0m\u001b[0m\n\u001b[0m\u001b[1;32m    170\u001b[0m \u001b[0;34m\u001b[0m\u001b[0m\n\u001b[1;32m    171\u001b[0m     \u001b[0;31m# 1) try standard library Pickle\u001b[0m\u001b[0;34m\u001b[0m\u001b[0;34m\u001b[0m\u001b[0;34m\u001b[0m\u001b[0m\n",
      "\u001b[0;32m/opt/anaconda3/lib/python3.8/site-packages/pandas/io/common.py\u001b[0m in \u001b[0;36mget_handle\u001b[0;34m(path_or_buf, mode, encoding, compression, memory_map, is_text, errors)\u001b[0m\n\u001b[1;32m    497\u001b[0m         \u001b[0;32melse\u001b[0m\u001b[0;34m:\u001b[0m\u001b[0;34m\u001b[0m\u001b[0;34m\u001b[0m\u001b[0m\n\u001b[1;32m    498\u001b[0m             \u001b[0;31m# Binary mode\u001b[0m\u001b[0;34m\u001b[0m\u001b[0;34m\u001b[0m\u001b[0;34m\u001b[0m\u001b[0m\n\u001b[0;32m--> 499\u001b[0;31m             \u001b[0mf\u001b[0m \u001b[0;34m=\u001b[0m \u001b[0mopen\u001b[0m\u001b[0;34m(\u001b[0m\u001b[0mpath_or_buf\u001b[0m\u001b[0;34m,\u001b[0m \u001b[0mmode\u001b[0m\u001b[0;34m)\u001b[0m\u001b[0;34m\u001b[0m\u001b[0;34m\u001b[0m\u001b[0m\n\u001b[0m\u001b[1;32m    500\u001b[0m         \u001b[0mhandles\u001b[0m\u001b[0;34m.\u001b[0m\u001b[0mappend\u001b[0m\u001b[0;34m(\u001b[0m\u001b[0mf\u001b[0m\u001b[0;34m)\u001b[0m\u001b[0;34m\u001b[0m\u001b[0;34m\u001b[0m\u001b[0m\n\u001b[1;32m    501\u001b[0m \u001b[0;34m\u001b[0m\u001b[0m\n",
      "\u001b[0;31mFileNotFoundError\u001b[0m: [Errno 2] No such file or directory: '../dump/actor_correct_data'"
     ]
    }
   ],
   "source": [
    "# Find corresponding value of each director when movie is released\n",
    "# ['avg_rating','avg_gross'] (per movie directed)\n",
    "actor_df = pd.read_pickle('../dump/actor_correct_data')\n",
    "actor_df.shape"
   ]
  },
  {
   "cell_type": "code",
   "execution_count": null,
   "metadata": {},
   "outputs": [],
   "source": [
    "actor_df.head()"
   ]
  },
  {
   "cell_type": "code",
   "execution_count": null,
   "metadata": {},
   "outputs": [],
   "source": [
    "actor_df.director.nunique()"
   ]
  },
  {
   "cell_type": "code",
   "execution_count": null,
   "metadata": {},
   "outputs": [],
   "source": [
    "# Find the mean rating, gross of all directors\n",
    "actor_rating_mean = int(actor_df.rating.mean())\n",
    "actor_gross_mean = int(actor_df.gross_usa.mean())\n",
    "\n",
    "actor_rating_mean, actor_gross_mean"
   ]
  },
  {
   "cell_type": "code",
   "execution_count": null,
   "metadata": {},
   "outputs": [],
   "source": [
    "def actor_value(actor,year):\n",
    "    \"\"\"\n",
    "    input: actor name and (release) year of the movie of interest\n",
    "    output: \n",
    "        - film_count: number of movies the actor was in before the movie of interest\n",
    "        - avg_rating: average rating of movies the actor was in before the movie of interest\n",
    "        - avg_gross: gross per movie before the movie of interest\n",
    "    \"\"\"\n",
    "    \n",
    "    aoi_df = actor_df[(actor_df.actor == actor) & (actor_df.year.dt.year < year)].copy()\n",
    "    \n",
    "    # Fill NaN with actor's mean\n",
    "    values={'rating':aoi_df.rating.mean(), 'gross_usa':aoi_df.gross_usa.mean()}\n",
    "    aoi_df.fillna(value=values,inplace=True)\n",
    "    \n",
    "    # If there's still NaN, fill with all actors' mean\n",
    "    values={'rating':actor_rating_mean, 'gross_usa':actor_gross_mean}\n",
    "    aoi_df.fillna(value=values,inplace=True)\n",
    "        \n",
    "    \n",
    "    # If there's no movie prior to movie of interest  \n",
    "    if aoi_df.shape[0] == 0:\n",
    "        film_count,avg_rating,avg_gross = 0, actor_rating_mean, actor_gross_mean\n",
    "        \n",
    "    else:\n",
    "        \n",
    "        film_count = aoi_df.shape[0]\n",
    "        \n",
    "        avg_rating = aoi_df['rating'].mean()\n",
    "        avg_gross = aoi_df['gross_usa'].mean()\n",
    "\n",
    "        \n",
    "    \n",
    "    actor_value = [film_count, avg_rating, avg_gross]\n",
    "    \n",
    "    print(actor,actor_value)\n",
    "    \n",
    "    return actor_value,aoi_df"
   ]
  },
  {
   "cell_type": "code",
   "execution_count": null,
   "metadata": {},
   "outputs": [],
   "source": [
    "def get_cast(movie):\n",
    "    \"\"\"\n",
    "    input: movie (each row in all_data_df)\n",
    "    output: \n",
    "        - film_count: number of movies directed before the movie of interest\n",
    "        - avg_rating: average rating of movies directed before the movie of interest\n",
    "        - avg_gross: gross per movie before the movie of interest\n",
    "    \"\"\"\n",
    "    \n",
    "    movie_title = movie.movie_title\n",
    "    year = movie.release_year\n",
    "    actors = movie.actor\n",
    "    lead = actors[0]\n",
    "    \n",
    "    film_counts = []\n",
    "    ratings = []\n",
    "    grosses = []\n",
    "    \n",
    "    for actor in actors:\n",
    "        result = actor_value(actor,year)\n",
    "        film_counts.append(result[0])\n",
    "        ratings.append(result[1])\n",
    "        grosses.append(result[2])\n",
    "        \n",
    "    avg_film_count = np.mean(film_counts)\n",
    "    avg_rating = np.mean(ratings)\n",
    "    avg_gross = np.mean(grosses)    \n",
    "    \n",
    "    \n",
    "    lead_result = actor_value(lead,year)\n",
    "    \n",
    "\n",
    "    headers = ['movie_title','cast','avg_film_count_c','avg_rating_c','avg_gross_c',\\\n",
    "              'avg_film_count_l','avg_rating_l','avg_gross_l']\n",
    "\n",
    "        \n",
    "    \n",
    "    cast_info = dict(zip(headers, [movie_title,actors,avg_film_count,avg_rating,avg_gross,\\\n",
    "                                  lead_result[0],lead_result[1],lead_result[2]]))\n",
    "    \n",
    "    return cast_info"
   ]
  },
  {
   "cell_type": "code",
   "execution_count": null,
   "metadata": {},
   "outputs": [],
   "source": [
    "# Create df including columns of director film_count, avg_rating, avg_gross\n",
    "# Rows correspond to rows in all_df\n",
    "movie_actor_df = all_df.iloc[:2].apply(get_cast,axis=1).apply(pd.Series)"
   ]
  },
  {
   "cell_type": "code",
   "execution_count": null,
   "metadata": {},
   "outputs": [],
   "source": [
    "# Merge all_df and cast info\n",
    "all_dc_df = pd.merge(all_d_df, movie_actor_df, lon=['movie_title','director'] ,how='left')"
   ]
  },
  {
   "cell_type": "code",
   "execution_count": null,
   "metadata": {},
   "outputs": [],
   "source": []
  },
  {
   "cell_type": "code",
   "execution_count": null,
   "metadata": {},
   "outputs": [],
   "source": []
  },
  {
   "cell_type": "markdown",
   "metadata": {},
   "source": [
    "### (4) book and author popularity"
   ]
  },
  {
   "cell_type": "code",
   "execution_count": null,
   "metadata": {},
   "outputs": [],
   "source": [
    "# Load book_history_2\n",
    "book_history = pd.read_pickle('../dump/book_history_2_data_all')"
   ]
  },
  {
   "cell_type": "code",
   "execution_count": null,
   "metadata": {},
   "outputs": [],
   "source": [
    "# book_history.sort_values('book_popularity',ascending=False)"
   ]
  },
  {
   "cell_type": "code",
   "execution_count": null,
   "metadata": {},
   "outputs": [],
   "source": [
    "book_history.info()"
   ]
  },
  {
   "cell_type": "code",
   "execution_count": null,
   "metadata": {},
   "outputs": [],
   "source": [
    "all_d_df.info()"
   ]
  },
  {
   "cell_type": "code",
   "execution_count": null,
   "metadata": {},
   "outputs": [],
   "source": [
    "book_history['release_date'] = book_history['release_date'].astype('datetime64[ns]')"
   ]
  },
  {
   "cell_type": "code",
   "execution_count": null,
   "metadata": {},
   "outputs": [],
   "source": [
    "book_history.info()"
   ]
  },
  {
   "cell_type": "code",
   "execution_count": null,
   "metadata": {},
   "outputs": [],
   "source": [
    "np.log(book_history.title_search).hist(bins=20)"
   ]
  },
  {
   "cell_type": "code",
   "execution_count": null,
   "metadata": {},
   "outputs": [],
   "source": [
    "np.log(book_history.search_fiction_book).hist(bins=20)"
   ]
  },
  {
   "cell_type": "code",
   "execution_count": null,
   "metadata": {},
   "outputs": [],
   "source": [
    "np.log(book_history.author_search).hist(bins=20)"
   ]
  },
  {
   "cell_type": "code",
   "execution_count": null,
   "metadata": {},
   "outputs": [],
   "source": [
    "np.log(book_history.search_fiction_author).hist(bins=20)"
   ]
  },
  {
   "cell_type": "code",
   "execution_count": null,
   "metadata": {},
   "outputs": [],
   "source": [
    "all_d_df.shape, book_history.shape"
   ]
  },
  {
   "cell_type": "code",
   "execution_count": null,
   "metadata": {},
   "outputs": [],
   "source": [
    "# Merge book data with movie df\n",
    "all_da_df = pd.merge(all_d_df, book_history, left_on=['movie_title','release_date'],\\\n",
    "                      right_on=['title','release_date'],how='left',copy=False)"
   ]
  },
  {
   "cell_type": "code",
   "execution_count": null,
   "metadata": {},
   "outputs": [],
   "source": [
    "all_da_df['log_book_search'] = np.log(all_da_df['title_search'])\n",
    "all_da_df['log_author_search'] = np.log(all_da_df['author_search'])"
   ]
  },
  {
   "cell_type": "code",
   "execution_count": null,
   "metadata": {},
   "outputs": [],
   "source": [
    "all_da_df.columns"
   ]
  },
  {
   "cell_type": "code",
   "execution_count": null,
   "metadata": {},
   "outputs": [],
   "source": [
    "# all_da_df.drop(columns=['title', 'genre_y','book_popularity_x','author_popularity_x'],inplace=True)"
   ]
  },
  {
   "cell_type": "code",
   "execution_count": null,
   "metadata": {},
   "outputs": [],
   "source": [
    "all_da_df.columns"
   ]
  },
  {
   "cell_type": "code",
   "execution_count": null,
   "metadata": {},
   "outputs": [],
   "source": [
    "all_da_df.rename(columns = {'genre_x':'genre','book_popularity_y':'book_popularity',\\\n",
    "                            'author_popularity_y':'author_popularity'},inplace=True)"
   ]
  },
  {
   "cell_type": "code",
   "execution_count": null,
   "metadata": {},
   "outputs": [],
   "source": [
    "all_da_df"
   ]
  },
  {
   "cell_type": "code",
   "execution_count": null,
   "metadata": {},
   "outputs": [],
   "source": [
    "all_da_df.drop_duplicates(subset=['movie_title','release_date'],inplace=True)"
   ]
  },
  {
   "cell_type": "code",
   "execution_count": null,
   "metadata": {},
   "outputs": [],
   "source": [
    "all_da_df.shape"
   ]
  },
  {
   "cell_type": "code",
   "execution_count": null,
   "metadata": {},
   "outputs": [],
   "source": [
    "all_da_df.columns"
   ]
  },
  {
   "cell_type": "code",
   "execution_count": null,
   "metadata": {},
   "outputs": [],
   "source": [
    "all_df = all_da_df"
   ]
  },
  {
   "cell_type": "code",
   "execution_count": null,
   "metadata": {},
   "outputs": [],
   "source": [
    "all_df.info()"
   ]
  },
  {
   "cell_type": "code",
   "execution_count": null,
   "metadata": {},
   "outputs": [],
   "source": [
    "all_df[all_df.search_fiction_book.isna() == True]"
   ]
  },
  {
   "cell_type": "code",
   "execution_count": null,
   "metadata": {},
   "outputs": [],
   "source": [
    "# Fill up the four missing values\n",
    "all_df.loc[38,'search_fiction_book'] = 29600\n",
    "all_df.loc[95,'search_fiction_book'] = 44200\n",
    "all_df.loc[533,'search_fiction_book'] = 26200\n",
    "all_df.loc[665,'search_fiction_book'] = 231000"
   ]
  },
  {
   "cell_type": "code",
   "execution_count": null,
   "metadata": {},
   "outputs": [],
   "source": []
  },
  {
   "cell_type": "code",
   "execution_count": null,
   "metadata": {},
   "outputs": [],
   "source": [
    "# Re-evaluate book_popularity"
   ]
  },
  {
   "cell_type": "code",
   "execution_count": null,
   "metadata": {},
   "outputs": [],
   "source": [
    "all_df['book_popularity_test'] = all_df['title_search'] / all_df['search_fiction_book']"
   ]
  },
  {
   "cell_type": "code",
   "execution_count": null,
   "metadata": {},
   "outputs": [],
   "source": [
    "# log plot distribution looks ok\n",
    "np.log(all_df['book_popularity_test']).hist()"
   ]
  },
  {
   "cell_type": "code",
   "execution_count": null,
   "metadata": {},
   "outputs": [],
   "source": [
    "all_df['log_book_popularity'] = np.log(all_df['book_popularity_test'])"
   ]
  },
  {
   "cell_type": "code",
   "execution_count": null,
   "metadata": {},
   "outputs": [],
   "source": [
    "# Same for author populatiry\n",
    "all_df['author_popularity_test'] = all_df['author_search'] / all_df['search_fiction_author']"
   ]
  },
  {
   "cell_type": "code",
   "execution_count": null,
   "metadata": {},
   "outputs": [],
   "source": [
    "np.log(all_df['author_popularity_test']).hist()"
   ]
  },
  {
   "cell_type": "code",
   "execution_count": null,
   "metadata": {},
   "outputs": [],
   "source": [
    "all_df['log_author_popularity'] = np.log(all_df['author_popularity_test'])"
   ]
  },
  {
   "cell_type": "code",
   "execution_count": null,
   "metadata": {},
   "outputs": [],
   "source": [
    "all_df.shape"
   ]
  },
  {
   "cell_type": "code",
   "execution_count": null,
   "metadata": {},
   "outputs": [],
   "source": [
    "all_df.to_pickle('../dump/complete_data')"
   ]
  },
  {
   "cell_type": "code",
   "execution_count": null,
   "metadata": {},
   "outputs": [],
   "source": []
  },
  {
   "cell_type": "markdown",
   "metadata": {},
   "source": [
    "## 3. Simple EDA"
   ]
  },
  {
   "cell_type": "code",
   "execution_count": null,
   "metadata": {},
   "outputs": [],
   "source": [
    "all_df.corr()"
   ]
  },
  {
   "cell_type": "code",
   "execution_count": null,
   "metadata": {},
   "outputs": [],
   "source": [
    "# sns.heatmap(all_df.corr(), cmap=\"seismic\", annot=True, vmin=-1, vmax=1);\n",
    "sns.heatmap(all_df.corr(), cmap=\"seismic\", vmin=-0.8, vmax=1);"
   ]
  },
  {
   "cell_type": "code",
   "execution_count": null,
   "metadata": {},
   "outputs": [],
   "source": [
    "continuous_variables = ['opening_weekend_usa', 'gross_usa', 'gross_world','rating', \\\n",
    "                        'budget','runtime','release_year', 'release_month','dow',\\\n",
    "                        'film_count_d', 'avg_rating_d', 'avg_gross_d', \\\n",
    "        'page', 'publish_year','log_book_search','title_search','search_fiction_book', \\\n",
    "        'log_author_search','author_search', 'search_fiction_author',\\\n",
    "       'book_popularity', 'author_popularity']\n",
    "all_df_select = all_df[continuous_variables]"
   ]
  },
  {
   "cell_type": "code",
   "execution_count": null,
   "metadata": {},
   "outputs": [],
   "source": [
    "# sns.pairplot(all_df_select)"
   ]
  },
  {
   "cell_type": "code",
   "execution_count": null,
   "metadata": {},
   "outputs": [],
   "source": []
  },
  {
   "cell_type": "markdown",
   "metadata": {},
   "source": [
    "## 4. Clean each column\n",
    "Clean the format and convert data type if necessarry for later steps."
   ]
  },
  {
   "cell_type": "markdown",
   "metadata": {},
   "source": [
    "### (1) Target variable\n",
    "### (i) opening_weekend_usa"
   ]
  },
  {
   "cell_type": "code",
   "execution_count": null,
   "metadata": {},
   "outputs": [],
   "source": [
    "# Examine the distribution. Pretty skewed.\n",
    "all_df['opening_weekend_usa'].hist(bins=20)"
   ]
  },
  {
   "cell_type": "code",
   "execution_count": null,
   "metadata": {},
   "outputs": [],
   "source": [
    "# Try log. Slightly better. Still not very normal\n",
    "np.log(all_df['opening_weekend_usa']).hist(bins=20)"
   ]
  },
  {
   "cell_type": "code",
   "execution_count": null,
   "metadata": {},
   "outputs": [],
   "source": [
    "# demonstration of the power transform on data with a skew\n",
    "from numpy import exp\n",
    "from numpy.random import randn\n",
    "from sklearn.preprocessing import PowerTransformer\n",
    "from matplotlib import pyplot as plt\n",
    "# generate gaussian data sample\n",
    "data = randn(1000)\n",
    "# add a skew to the data distribution\n",
    "data = exp(data)\n",
    "# histogram of the raw data with a skew\n",
    "plt.hist(data, bins=25)\n",
    "plt.show()\n",
    "# reshape data to have rows and columns\n",
    "data = data.reshape((len(data),1))\n",
    "# power transform the raw data\n",
    "power = PowerTransformer(method='yeo-johnson', standardize=True)\n",
    "data_trans = power.fit_transform(data)\n",
    "# histogram of the transformed data\n",
    "plt.hist(data_trans, bins=25)\n",
    "plt.show()"
   ]
  },
  {
   "cell_type": "code",
   "execution_count": null,
   "metadata": {},
   "outputs": [],
   "source": [
    "# Explore power transform\n",
    "data = all_df[['opening_weekend_usa']]\n",
    "power = PowerTransformer(method='yeo-johnson', standardize=True)\n",
    "data_trans = power.fit_transform(data)\n",
    "plt.hist(data_trans, bins=25)\n",
    "plt.show()"
   ]
  },
  {
   "cell_type": "code",
   "execution_count": null,
   "metadata": {},
   "outputs": [],
   "source": [
    "# Explore power transform (box-cox)\n",
    "data = all_df[['opening_weekend_usa']]\n",
    "power = PowerTransformer(method='box-cox', standardize=True)\n",
    "data_trans = power.fit_transform(data)\n",
    "plt.hist(data_trans, bins=25)\n",
    "plt.show()"
   ]
  },
  {
   "cell_type": "code",
   "execution_count": null,
   "metadata": {},
   "outputs": [],
   "source": [
    "# Seems like both log and power transform are similarr\n",
    "all_df['log_owu'] = np.log(all_df['opening_weekend_usa'])\n",
    "\n",
    "data = all_df[['opening_weekend_usa']]\n",
    "power = PowerTransformer(method='box-cox', standardize=True)\n",
    "data_trans = power.fit_transform(data)\n",
    "all_df['log_owu'] = data_trans.reshape(len(data),)"
   ]
  },
  {
   "cell_type": "code",
   "execution_count": null,
   "metadata": {},
   "outputs": [],
   "source": [
    "all_df.shape"
   ]
  },
  {
   "cell_type": "code",
   "execution_count": null,
   "metadata": {},
   "outputs": [],
   "source": []
  },
  {
   "cell_type": "markdown",
   "metadata": {},
   "source": [
    "### (ii) IMDb rating"
   ]
  },
  {
   "cell_type": "code",
   "execution_count": null,
   "metadata": {},
   "outputs": [],
   "source": [
    "# Distribution looks ok. Will keep it as it is for now.\n",
    "all_df['rating'].hist(bins=20)"
   ]
  },
  {
   "cell_type": "code",
   "execution_count": null,
   "metadata": {},
   "outputs": [],
   "source": []
  },
  {
   "cell_type": "markdown",
   "metadata": {},
   "source": [
    "### (2) Independent variables (predictors)\n",
    "### (a) Continuous variables"
   ]
  },
  {
   "cell_type": "markdown",
   "metadata": {},
   "source": [
    "#### 1. time"
   ]
  },
  {
   "cell_type": "code",
   "execution_count": null,
   "metadata": {},
   "outputs": [],
   "source": [
    "# Movie release year\n",
    "all_df['release_year'].hist(bins=20)"
   ]
  },
  {
   "cell_type": "code",
   "execution_count": null,
   "metadata": {},
   "outputs": [],
   "source": [
    "# Convert to \"how old\" the movie is\n",
    "(2020-all_df['release_year']).hist(bins=20)"
   ]
  },
  {
   "cell_type": "code",
   "execution_count": null,
   "metadata": {},
   "outputs": [],
   "source": [
    "# Try power transform\n",
    "data = (all_df[['release_year']].apply(lambda x: 2021 - x))\n",
    "power = PowerTransformer(method='box-cox', standardize=True)\n",
    "data_trans = power.fit_transform(data)\n",
    "plt.hist(data_trans, bins=25)\n",
    "plt.show()\n",
    "# Create a new column in case needed in the futurre\n",
    "all_df['T_movie_age'] = data_trans.reshape(len(data),)"
   ]
  },
  {
   "cell_type": "code",
   "execution_count": null,
   "metadata": {},
   "outputs": [],
   "source": [
    "# Also check for book first published year\n",
    "(2020-all_df['publish_year']).hist(bins=20)"
   ]
  },
  {
   "cell_type": "code",
   "execution_count": null,
   "metadata": {},
   "outputs": [],
   "source": [
    "# Try power transform\n",
    "data = (all_df[['publish_year']].apply(lambda x: 2021 - x))\n",
    "power = PowerTransformer(method='box-cox', standardize=True)\n",
    "data_trans = power.fit_transform(data)\n",
    "plt.hist(data_trans, bins=25)\n",
    "plt.show()\n",
    "# Create a new column in case needed in the futurre\n",
    "all_df['T_book_age'] = data_trans.reshape(len(data),)"
   ]
  },
  {
   "cell_type": "code",
   "execution_count": null,
   "metadata": {},
   "outputs": [],
   "source": []
  },
  {
   "cell_type": "markdown",
   "metadata": {},
   "source": [
    "### (b) Categorical variables - single label"
   ]
  },
  {
   "cell_type": "markdown",
   "metadata": {},
   "source": [
    "### 1. MPAA rating"
   ]
  },
  {
   "cell_type": "code",
   "execution_count": null,
   "metadata": {},
   "outputs": [],
   "source": [
    "# Find the distribution and keep only the top frequent categories\n",
    "all_df.MPAA.value_counts()"
   ]
  },
  {
   "cell_type": "code",
   "execution_count": null,
   "metadata": {},
   "outputs": [],
   "source": [
    "# Keep only the top 3\n",
    "MPAA_discard = ['G','Passed','Not','X','M/PG','Approved','NC-17','Unrated']\n",
    "all_df.MPAA.replace(MPAA_discard,'Other',inplace=True)"
   ]
  },
  {
   "cell_type": "code",
   "execution_count": null,
   "metadata": {},
   "outputs": [],
   "source": [
    "all_df.MPAA.value_counts()"
   ]
  },
  {
   "cell_type": "code",
   "execution_count": null,
   "metadata": {},
   "outputs": [],
   "source": []
  },
  {
   "cell_type": "markdown",
   "metadata": {},
   "source": [
    "### 2. distributor"
   ]
  },
  {
   "cell_type": "code",
   "execution_count": null,
   "metadata": {},
   "outputs": [],
   "source": [
    "all_df.distributor.value_counts().head(5)"
   ]
  },
  {
   "cell_type": "code",
   "execution_count": null,
   "metadata": {},
   "outputs": [],
   "source": [
    "# Keep only the top 3\n",
    "distributor_keep = ['WarnerBros.','ParamountPictures','ColumbiaPictures','UniversalPictures',\\\n",
    "             'TwentiethCenturyFox','TwentiethCenturyFox']\n",
    "distributor_discard = list(set(all_df.distributor.unique()).difference(set(distributor_keep)))\n",
    "all_df.distributor.replace(distributor_discard,'Other',inplace=True)"
   ]
  },
  {
   "cell_type": "code",
   "execution_count": null,
   "metadata": {},
   "outputs": [],
   "source": [
    "all_df.distributor.value_counts()"
   ]
  },
  {
   "cell_type": "code",
   "execution_count": null,
   "metadata": {},
   "outputs": [],
   "source": []
  },
  {
   "cell_type": "markdown",
   "metadata": {},
   "source": [
    "### (b) Categorical variables - multi label"
   ]
  },
  {
   "cell_type": "markdown",
   "metadata": {},
   "source": [
    "### 1. genre\n",
    "Find the top frequent genres and convert the column from list to set in preparation for `MultiLabelBinarizer()`."
   ]
  },
  {
   "cell_type": "code",
   "execution_count": null,
   "metadata": {},
   "outputs": [],
   "source": [
    "# Find the top 10 genre\n",
    "genre_all = []\n",
    "for row in all_df.genre:\n",
    "    genre_all += row\n",
    "genre_count = []\n",
    "for genre in set(genre_all):\n",
    "    genre_count.append({'genre':genre,'count':genre_all.count(genre)})\n",
    "sorted(genre_count, key = lambda i: i['count'],reverse=True)"
   ]
  },
  {
   "cell_type": "code",
   "execution_count": null,
   "metadata": {},
   "outputs": [],
   "source": [
    "# Keep only the top 10 genre\n",
    "genre_list = ['Drama','Adventure','Comedy','Action','Crime','Romance','Thriller',\\\n",
    "              'Mystery','Family','Fantasy']\n",
    "# The rest will go to \"Other\"\n",
    "all_df['genre']= all_df.genre.apply(lambda x:\\\n",
    "                            [genre if genre in genre_list else 'Other'for genre in x])\n",
    "# Convert genre column from list to set\n",
    "all_df['genre'] = all_df.genre.apply(lambda x: set(x))\n",
    "all_df[['genre']]"
   ]
  },
  {
   "cell_type": "code",
   "execution_count": null,
   "metadata": {},
   "outputs": [],
   "source": []
  },
  {
   "cell_type": "markdown",
   "metadata": {},
   "source": [
    "### 2. language"
   ]
  },
  {
   "cell_type": "code",
   "execution_count": null,
   "metadata": {
    "scrolled": true
   },
   "outputs": [],
   "source": [
    "# Find the top 10 language\n",
    "language_all = []\n",
    "for row in all_df.language:\n",
    "    language_all += row\n",
    "language_count = []\n",
    "for language in set(language_all):\n",
    "    language_count.append({'language':language,'count':language_all.count(language)})\n",
    "sorted(language_count, key = lambda i: i['count'],reverse=True)"
   ]
  },
  {
   "cell_type": "code",
   "execution_count": null,
   "metadata": {},
   "outputs": [],
   "source": [
    "# Keep only the top 6 language\n",
    "language_list = ['English','French','German','Spanish','Russian','Italian']\n",
    "# The rest will go to \"Other\"\n",
    "all_df['language']= all_df.language.apply(lambda x:\\\n",
    "                            [language if language in language_list else 'Other' for language in x])\n",
    "# Convert genre column from list to set\n",
    "all_df['language'] = all_df.language.apply(lambda x: set(x))\n",
    "all_df[['language']]"
   ]
  },
  {
   "cell_type": "code",
   "execution_count": null,
   "metadata": {},
   "outputs": [],
   "source": []
  },
  {
   "cell_type": "code",
   "execution_count": null,
   "metadata": {},
   "outputs": [],
   "source": []
  },
  {
   "cell_type": "markdown",
   "metadata": {},
   "source": [
    "### 3. country"
   ]
  },
  {
   "cell_type": "code",
   "execution_count": null,
   "metadata": {
    "scrolled": true
   },
   "outputs": [],
   "source": [
    "# Find the top 10 country\n",
    "country_all = []\n",
    "for row in all_df.country:\n",
    "    country_all += row\n",
    "country_count = []\n",
    "for country in set(country_all):\n",
    "    country_count.append({'country':country,'count':country_all.count(country)})\n",
    "sorted(country_count, key = lambda i: i['count'],reverse=True)"
   ]
  },
  {
   "cell_type": "code",
   "execution_count": null,
   "metadata": {},
   "outputs": [],
   "source": [
    "# Keep only the top 5 country\n",
    "country_list = ['USA','UK','Germany','France','Canada']\n",
    "# The rest will go to \"Other\"\n",
    "all_df['country']= all_df.country.apply(lambda x:\\\n",
    "                            [country if country in country_list else 'Other' for country in x])\n",
    "# Convert genre column from list to set\n",
    "all_df['country'] = all_df.country.apply(lambda x: set(x))\n",
    "all_df[['country']]"
   ]
  },
  {
   "cell_type": "code",
   "execution_count": null,
   "metadata": {},
   "outputs": [],
   "source": []
  },
  {
   "cell_type": "code",
   "execution_count": null,
   "metadata": {},
   "outputs": [],
   "source": [
    "# Save the cleaned all_df\n",
    "all_df.to_pickle('../dump/complete_data_cleaned')"
   ]
  },
  {
   "cell_type": "code",
   "execution_count": null,
   "metadata": {},
   "outputs": [],
   "source": []
  },
  {
   "cell_type": "code",
   "execution_count": null,
   "metadata": {},
   "outputs": [],
   "source": []
  },
  {
   "cell_type": "code",
   "execution_count": null,
   "metadata": {},
   "outputs": [],
   "source": []
  },
  {
   "cell_type": "code",
   "execution_count": null,
   "metadata": {},
   "outputs": [],
   "source": []
  },
  {
   "cell_type": "code",
   "execution_count": null,
   "metadata": {},
   "outputs": [],
   "source": []
  },
  {
   "cell_type": "code",
   "execution_count": null,
   "metadata": {},
   "outputs": [],
   "source": []
  }
 ],
 "metadata": {
  "kernelspec": {
   "display_name": "Python 3",
   "language": "python",
   "name": "python3"
  },
  "language_info": {
   "codemirror_mode": {
    "name": "ipython",
    "version": 3
   },
   "file_extension": ".py",
   "mimetype": "text/x-python",
   "name": "python",
   "nbconvert_exporter": "python",
   "pygments_lexer": "ipython3",
   "version": "3.8.5"
  }
 },
 "nbformat": 4,
 "nbformat_minor": 4
}
