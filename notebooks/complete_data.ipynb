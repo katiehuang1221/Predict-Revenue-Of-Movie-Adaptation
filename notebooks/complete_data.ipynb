{
 "cells": [
  {
   "cell_type": "code",
   "execution_count": 1,
   "metadata": {},
   "outputs": [],
   "source": [
    "import pandas as pd\n",
    "from sklearn.model_selection import train_test_split\n",
    "from sklearn.linear_model import LinearRegression\n",
    "from sklearn.metrics import mean_squared_error\n",
    "from sklearn.preprocessing import OneHotEncoder\n",
    "import numpy as np\n",
    "import seaborn as sns\n",
    "import matplotlib.pyplot as plt"
   ]
  },
  {
   "cell_type": "markdown",
   "metadata": {},
   "source": [
    "## 1. Load raw combined data"
   ]
  },
  {
   "cell_type": "code",
   "execution_count": 2,
   "metadata": {},
   "outputs": [],
   "source": [
    "# Load movie+book data\n",
    "import pandas as pd\n",
    "all_data_df = pd.read_pickle('../dump/all_ab_df')"
   ]
  },
  {
   "cell_type": "code",
   "execution_count": 3,
   "metadata": {},
   "outputs": [
    {
     "data": {
      "text/plain": [
       "(1812, 35)"
      ]
     },
     "execution_count": 3,
     "metadata": {},
     "output_type": "execute_result"
    }
   ],
   "source": [
    "all_data_df.shape"
   ]
  },
  {
   "cell_type": "code",
   "execution_count": 4,
   "metadata": {},
   "outputs": [
    {
     "name": "stdout",
     "output_type": "stream",
     "text": [
      "<class 'pandas.core.frame.DataFrame'>\n",
      "Int64Index: 1812 entries, 0 to 1811\n",
      "Data columns (total 35 columns):\n",
      " #   Column               Non-Null Count  Dtype         \n",
      "---  ------               --------------  -----         \n",
      " 0   movie_title          1812 non-null   object        \n",
      " 1   rating               1812 non-null   float64       \n",
      " 2   vote                 1812 non-null   int64         \n",
      " 3   certificate          1812 non-null   object        \n",
      " 4   genre                1812 non-null   object        \n",
      " 5   release_date         1812 non-null   datetime64[ns]\n",
      " 6   metascore            686 non-null    float64       \n",
      " 7   keywords             1812 non-null   object        \n",
      " 8   budget               1312 non-null   float64       \n",
      " 9   opening_weekend_usa  1091 non-null   float64       \n",
      " 10  gross_usa            1238 non-null   float64       \n",
      " 11  gross_world          1327 non-null   float64       \n",
      " 12  runtime              1791 non-null   float64       \n",
      " 13  director             1812 non-null   object        \n",
      " 14  link_d               1812 non-null   object        \n",
      " 15  writer               1812 non-null   object        \n",
      " 16  link_w               1812 non-null   object        \n",
      " 17  star                 1812 non-null   object        \n",
      " 18  link_s               1812 non-null   object        \n",
      " 19  distributor          1803 non-null   object        \n",
      " 20  language             1812 non-null   object        \n",
      " 21  country              1812 non-null   object        \n",
      " 22  book_title           1812 non-null   object        \n",
      " 23  author               1812 non-null   object        \n",
      " 24  rating_value         1812 non-null   float64       \n",
      " 25  rating_count         1812 non-null   float64       \n",
      " 26  review_count         1812 non-null   float64       \n",
      " 27  page                 1774 non-null   float64       \n",
      " 28  year                 1808 non-null   float64       \n",
      " 29  title                1812 non-null   object        \n",
      " 30  book_popularity      1812 non-null   float64       \n",
      " 31  author_popularity    1812 non-null   float64       \n",
      " 32  years                1812 non-null   object        \n",
      " 33  release_year         1812 non-null   int64         \n",
      " 34  count_a              1812 non-null   int64         \n",
      "dtypes: datetime64[ns](1), float64(14), int64(3), object(17)\n",
      "memory usage: 509.6+ KB\n"
     ]
    }
   ],
   "source": [
    "all_data_df.info()"
   ]
  },
  {
   "cell_type": "code",
   "execution_count": 5,
   "metadata": {},
   "outputs": [],
   "source": [
    "all_df = all_data_df.drop(columns=['vote','metascore','keywords',\\\n",
    "                                   'link_d','link_s','link_w',\\\n",
    "                                   'book_title','years']).\\\n",
    "                    drop_duplicates(subset=['movie_title','director'])\n",
    "all_df.rename(columns = {'certificate':'MPAA','star':'actor','year':'publish_year',\\\n",
    "                        'rating_value':'rating_value_b','rating_count':'rating_count_b','review_count':'review_count_b'},\\\n",
    "              inplace=True)"
   ]
  },
  {
   "cell_type": "code",
   "execution_count": 6,
   "metadata": {},
   "outputs": [
    {
     "name": "stdout",
     "output_type": "stream",
     "text": [
      "<class 'pandas.core.frame.DataFrame'>\n",
      "Int64Index: 1135 entries, 0 to 1811\n",
      "Data columns (total 27 columns):\n",
      " #   Column               Non-Null Count  Dtype         \n",
      "---  ------               --------------  -----         \n",
      " 0   movie_title          1135 non-null   object        \n",
      " 1   rating               1135 non-null   float64       \n",
      " 2   MPAA                 1135 non-null   object        \n",
      " 3   genre                1135 non-null   object        \n",
      " 4   release_date         1135 non-null   datetime64[ns]\n",
      " 5   budget               830 non-null    float64       \n",
      " 6   opening_weekend_usa  713 non-null    float64       \n",
      " 7   gross_usa            790 non-null    float64       \n",
      " 8   gross_world          842 non-null    float64       \n",
      " 9   runtime              1124 non-null   float64       \n",
      " 10  director             1135 non-null   object        \n",
      " 11  writer               1135 non-null   object        \n",
      " 12  actor                1135 non-null   object        \n",
      " 13  distributor          1133 non-null   object        \n",
      " 14  language             1135 non-null   object        \n",
      " 15  country              1135 non-null   object        \n",
      " 16  author               1135 non-null   object        \n",
      " 17  rating_value_b       1135 non-null   float64       \n",
      " 18  rating_count_b       1135 non-null   float64       \n",
      " 19  review_count_b       1135 non-null   float64       \n",
      " 20  page                 1106 non-null   float64       \n",
      " 21  publish_year         1131 non-null   float64       \n",
      " 22  title                1135 non-null   object        \n",
      " 23  book_popularity      1135 non-null   float64       \n",
      " 24  author_popularity    1135 non-null   float64       \n",
      " 25  release_year         1135 non-null   int64         \n",
      " 26  count_a              1135 non-null   int64         \n",
      "dtypes: datetime64[ns](1), float64(13), int64(2), object(11)\n",
      "memory usage: 248.3+ KB\n"
     ]
    }
   ],
   "source": [
    "all_df.info()"
   ]
  },
  {
   "cell_type": "code",
   "execution_count": 7,
   "metadata": {},
   "outputs": [
    {
     "data": {
      "text/html": [
       "<div>\n",
       "<style scoped>\n",
       "    .dataframe tbody tr th:only-of-type {\n",
       "        vertical-align: middle;\n",
       "    }\n",
       "\n",
       "    .dataframe tbody tr th {\n",
       "        vertical-align: top;\n",
       "    }\n",
       "\n",
       "    .dataframe thead th {\n",
       "        text-align: right;\n",
       "    }\n",
       "</style>\n",
       "<table border=\"1\" class=\"dataframe\">\n",
       "  <thead>\n",
       "    <tr style=\"text-align: right;\">\n",
       "      <th></th>\n",
       "      <th>movie_title</th>\n",
       "      <th>rating</th>\n",
       "      <th>MPAA</th>\n",
       "      <th>genre</th>\n",
       "      <th>release_date</th>\n",
       "      <th>budget</th>\n",
       "      <th>opening_weekend_usa</th>\n",
       "      <th>gross_usa</th>\n",
       "      <th>gross_world</th>\n",
       "      <th>runtime</th>\n",
       "      <th>...</th>\n",
       "      <th>rating_value_b</th>\n",
       "      <th>rating_count_b</th>\n",
       "      <th>review_count_b</th>\n",
       "      <th>page</th>\n",
       "      <th>publish_year</th>\n",
       "      <th>title</th>\n",
       "      <th>book_popularity</th>\n",
       "      <th>author_popularity</th>\n",
       "      <th>release_year</th>\n",
       "      <th>count_a</th>\n",
       "    </tr>\n",
       "  </thead>\n",
       "  <tbody>\n",
       "    <tr>\n",
       "      <th>1083</th>\n",
       "      <td>Nevada Smith</td>\n",
       "      <td>6.9</td>\n",
       "      <td>Not</td>\n",
       "      <td>[Western]</td>\n",
       "      <td>1966-07-23</td>\n",
       "      <td>NaN</td>\n",
       "      <td>NaN</td>\n",
       "      <td>14170000.0</td>\n",
       "      <td>NaN</td>\n",
       "      <td>139.0</td>\n",
       "      <td>...</td>\n",
       "      <td>4.25</td>\n",
       "      <td>4.0</td>\n",
       "      <td>1.0</td>\n",
       "      <td>130.0</td>\n",
       "      <td>NaN</td>\n",
       "      <td>Nevada Smith</td>\n",
       "      <td>0.00</td>\n",
       "      <td>0.0301</td>\n",
       "      <td>1966</td>\n",
       "      <td>0</td>\n",
       "    </tr>\n",
       "    <tr>\n",
       "      <th>1258</th>\n",
       "      <td>The Man Who Knew Too Little</td>\n",
       "      <td>6.7</td>\n",
       "      <td>PG</td>\n",
       "      <td>[Comedy, Crime, Drama]</td>\n",
       "      <td>1997-11-14</td>\n",
       "      <td>20000000.0</td>\n",
       "      <td>4604819.0</td>\n",
       "      <td>13717039.0</td>\n",
       "      <td>13717039.0</td>\n",
       "      <td>94.0</td>\n",
       "      <td>...</td>\n",
       "      <td>4.00</td>\n",
       "      <td>1.0</td>\n",
       "      <td>1.0</td>\n",
       "      <td>NaN</td>\n",
       "      <td>NaN</td>\n",
       "      <td>The Man Who Knew Too Little</td>\n",
       "      <td>0.14</td>\n",
       "      <td>0.0376</td>\n",
       "      <td>1997</td>\n",
       "      <td>0</td>\n",
       "    </tr>\n",
       "    <tr>\n",
       "      <th>1271</th>\n",
       "      <td>Airport 1975</td>\n",
       "      <td>5.7</td>\n",
       "      <td>PG</td>\n",
       "      <td>[Action, Drama, Thriller]</td>\n",
       "      <td>1974-10-18</td>\n",
       "      <td>3000000.0</td>\n",
       "      <td>NaN</td>\n",
       "      <td>NaN</td>\n",
       "      <td>NaN</td>\n",
       "      <td>107.0</td>\n",
       "      <td>...</td>\n",
       "      <td>3.00</td>\n",
       "      <td>2.0</td>\n",
       "      <td>1.0</td>\n",
       "      <td>NaN</td>\n",
       "      <td>NaN</td>\n",
       "      <td>Airport 1975</td>\n",
       "      <td>0.25</td>\n",
       "      <td>0.2990</td>\n",
       "      <td>1974</td>\n",
       "      <td>0</td>\n",
       "    </tr>\n",
       "    <tr>\n",
       "      <th>1619</th>\n",
       "      <td>Bend of the River</td>\n",
       "      <td>7.3</td>\n",
       "      <td>Approved</td>\n",
       "      <td>[Action, Adventure, Romance]</td>\n",
       "      <td>1952-04-15</td>\n",
       "      <td>NaN</td>\n",
       "      <td>NaN</td>\n",
       "      <td>NaN</td>\n",
       "      <td>NaN</td>\n",
       "      <td>101.0</td>\n",
       "      <td>...</td>\n",
       "      <td>4.00</td>\n",
       "      <td>4.0</td>\n",
       "      <td>0.0</td>\n",
       "      <td>NaN</td>\n",
       "      <td>NaN</td>\n",
       "      <td>Bend of the River</td>\n",
       "      <td>0.02</td>\n",
       "      <td>0.0129</td>\n",
       "      <td>1952</td>\n",
       "      <td>0</td>\n",
       "    </tr>\n",
       "  </tbody>\n",
       "</table>\n",
       "<p>4 rows × 27 columns</p>\n",
       "</div>"
      ],
      "text/plain": [
       "                      movie_title  rating      MPAA  \\\n",
       "1083                 Nevada Smith     6.9       Not   \n",
       "1258  The Man Who Knew Too Little     6.7        PG   \n",
       "1271                 Airport 1975     5.7        PG   \n",
       "1619            Bend of the River     7.3  Approved   \n",
       "\n",
       "                             genre release_date      budget  \\\n",
       "1083                     [Western]   1966-07-23         NaN   \n",
       "1258        [Comedy, Crime, Drama]   1997-11-14  20000000.0   \n",
       "1271     [Action, Drama, Thriller]   1974-10-18   3000000.0   \n",
       "1619  [Action, Adventure, Romance]   1952-04-15         NaN   \n",
       "\n",
       "      opening_weekend_usa   gross_usa  gross_world  runtime  ...  \\\n",
       "1083                  NaN  14170000.0          NaN    139.0  ...   \n",
       "1258            4604819.0  13717039.0   13717039.0     94.0  ...   \n",
       "1271                  NaN         NaN          NaN    107.0  ...   \n",
       "1619                  NaN         NaN          NaN    101.0  ...   \n",
       "\n",
       "     rating_value_b rating_count_b review_count_b   page publish_year  \\\n",
       "1083           4.25            4.0            1.0  130.0          NaN   \n",
       "1258           4.00            1.0            1.0    NaN          NaN   \n",
       "1271           3.00            2.0            1.0    NaN          NaN   \n",
       "1619           4.00            4.0            0.0    NaN          NaN   \n",
       "\n",
       "                            title book_popularity  author_popularity  \\\n",
       "1083                 Nevada Smith            0.00             0.0301   \n",
       "1258  The Man Who Knew Too Little            0.14             0.0376   \n",
       "1271                 Airport 1975            0.25             0.2990   \n",
       "1619            Bend of the River            0.02             0.0129   \n",
       "\n",
       "      release_year  count_a  \n",
       "1083          1966        0  \n",
       "1258          1997        0  \n",
       "1271          1974        0  \n",
       "1619          1952        0  \n",
       "\n",
       "[4 rows x 27 columns]"
      ]
     },
     "execution_count": 7,
     "metadata": {},
     "output_type": "execute_result"
    }
   ],
   "source": [
    "all_df[all_df.publish_year.isna()==True]"
   ]
  },
  {
   "cell_type": "code",
   "execution_count": 8,
   "metadata": {},
   "outputs": [],
   "source": [
    "all_df.loc[1083,'publish_year'] = 1961\n",
    "all_df.loc[1258,'publish_year'] = 1989\n",
    "all_df.loc[1271,'publish_year'] = 1968\n",
    "all_df.loc[1619,'publish_year'] = 1950"
   ]
  },
  {
   "cell_type": "code",
   "execution_count": 9,
   "metadata": {},
   "outputs": [],
   "source": [
    "# fillna with mean of all movies\n",
    "# all_df.fillna(all_df.mean(),inplace=True)"
   ]
  },
  {
   "cell_type": "code",
   "execution_count": 10,
   "metadata": {},
   "outputs": [
    {
     "data": {
      "text/plain": [
       "0      NaN\n",
       "12     NaN\n",
       "25     NaN\n",
       "31     NaN\n",
       "32     NaN\n",
       "        ..\n",
       "1801   NaN\n",
       "1806   NaN\n",
       "1808   NaN\n",
       "1810   NaN\n",
       "1811   NaN\n",
       "Name: budget, Length: 305, dtype: float64"
      ]
     },
     "execution_count": 10,
     "metadata": {},
     "output_type": "execute_result"
    }
   ],
   "source": [
    "all_df[all_df['budget'].isna()==True].budget"
   ]
  },
  {
   "cell_type": "code",
   "execution_count": 11,
   "metadata": {},
   "outputs": [
    {
     "data": {
      "text/plain": [
       "nan"
      ]
     },
     "execution_count": 11,
     "metadata": {},
     "output_type": "execute_result"
    }
   ],
   "source": [
    "all_df.iloc[0].budget"
   ]
  },
  {
   "cell_type": "code",
   "execution_count": null,
   "metadata": {},
   "outputs": [],
   "source": []
  },
  {
   "cell_type": "code",
   "execution_count": 12,
   "metadata": {},
   "outputs": [],
   "source": [
    "# all_df = all_df.dropna(subset=['gross_usa','gross_world','opening_weekend_usa','budget']).reset_index()"
   ]
  },
  {
   "cell_type": "code",
   "execution_count": 13,
   "metadata": {},
   "outputs": [
    {
     "name": "stdout",
     "output_type": "stream",
     "text": [
      "<class 'pandas.core.frame.DataFrame'>\n",
      "Int64Index: 1135 entries, 0 to 1811\n",
      "Data columns (total 27 columns):\n",
      " #   Column               Non-Null Count  Dtype         \n",
      "---  ------               --------------  -----         \n",
      " 0   movie_title          1135 non-null   object        \n",
      " 1   rating               1135 non-null   float64       \n",
      " 2   MPAA                 1135 non-null   object        \n",
      " 3   genre                1135 non-null   object        \n",
      " 4   release_date         1135 non-null   datetime64[ns]\n",
      " 5   budget               830 non-null    float64       \n",
      " 6   opening_weekend_usa  713 non-null    float64       \n",
      " 7   gross_usa            790 non-null    float64       \n",
      " 8   gross_world          842 non-null    float64       \n",
      " 9   runtime              1124 non-null   float64       \n",
      " 10  director             1135 non-null   object        \n",
      " 11  writer               1135 non-null   object        \n",
      " 12  actor                1135 non-null   object        \n",
      " 13  distributor          1133 non-null   object        \n",
      " 14  language             1135 non-null   object        \n",
      " 15  country              1135 non-null   object        \n",
      " 16  author               1135 non-null   object        \n",
      " 17  rating_value_b       1135 non-null   float64       \n",
      " 18  rating_count_b       1135 non-null   float64       \n",
      " 19  review_count_b       1135 non-null   float64       \n",
      " 20  page                 1106 non-null   float64       \n",
      " 21  publish_year         1135 non-null   float64       \n",
      " 22  title                1135 non-null   object        \n",
      " 23  book_popularity      1135 non-null   float64       \n",
      " 24  author_popularity    1135 non-null   float64       \n",
      " 25  release_year         1135 non-null   int64         \n",
      " 26  count_a              1135 non-null   int64         \n",
      "dtypes: datetime64[ns](1), float64(13), int64(2), object(11)\n",
      "memory usage: 288.3+ KB\n"
     ]
    }
   ],
   "source": [
    "all_df.info()"
   ]
  },
  {
   "cell_type": "code",
   "execution_count": 14,
   "metadata": {},
   "outputs": [
    {
     "data": {
      "text/html": [
       "<div>\n",
       "<style scoped>\n",
       "    .dataframe tbody tr th:only-of-type {\n",
       "        vertical-align: middle;\n",
       "    }\n",
       "\n",
       "    .dataframe tbody tr th {\n",
       "        vertical-align: top;\n",
       "    }\n",
       "\n",
       "    .dataframe thead th {\n",
       "        text-align: right;\n",
       "    }\n",
       "</style>\n",
       "<table border=\"1\" class=\"dataframe\">\n",
       "  <thead>\n",
       "    <tr style=\"text-align: right;\">\n",
       "      <th></th>\n",
       "      <th>movie_title</th>\n",
       "      <th>rating</th>\n",
       "      <th>MPAA</th>\n",
       "      <th>genre</th>\n",
       "      <th>release_date</th>\n",
       "      <th>budget</th>\n",
       "      <th>opening_weekend_usa</th>\n",
       "      <th>gross_usa</th>\n",
       "      <th>gross_world</th>\n",
       "      <th>runtime</th>\n",
       "      <th>...</th>\n",
       "      <th>rating_value_b</th>\n",
       "      <th>rating_count_b</th>\n",
       "      <th>review_count_b</th>\n",
       "      <th>page</th>\n",
       "      <th>publish_year</th>\n",
       "      <th>title</th>\n",
       "      <th>book_popularity</th>\n",
       "      <th>author_popularity</th>\n",
       "      <th>release_year</th>\n",
       "      <th>count_a</th>\n",
       "    </tr>\n",
       "  </thead>\n",
       "  <tbody>\n",
       "    <tr>\n",
       "      <th>0</th>\n",
       "      <td>After We Collided</td>\n",
       "      <td>5.0</td>\n",
       "      <td>R</td>\n",
       "      <td>[Drama, Romance]</td>\n",
       "      <td>2020-10-23</td>\n",
       "      <td>NaN</td>\n",
       "      <td>422899.0</td>\n",
       "      <td>2386483.0</td>\n",
       "      <td>4.799041e+07</td>\n",
       "      <td>105.0</td>\n",
       "      <td>...</td>\n",
       "      <td>3.78</td>\n",
       "      <td>92534.0</td>\n",
       "      <td>5490.0</td>\n",
       "      <td>674.0</td>\n",
       "      <td>2013.0</td>\n",
       "      <td>After We Collided</td>\n",
       "      <td>0.00</td>\n",
       "      <td>0.2159</td>\n",
       "      <td>2020</td>\n",
       "      <td>12</td>\n",
       "    </tr>\n",
       "    <tr>\n",
       "      <th>1</th>\n",
       "      <td>The Godfather</td>\n",
       "      <td>9.2</td>\n",
       "      <td>R</td>\n",
       "      <td>[Crime, Drama]</td>\n",
       "      <td>1972-03-24</td>\n",
       "      <td>6000000.0</td>\n",
       "      <td>302393.0</td>\n",
       "      <td>134966411.0</td>\n",
       "      <td>2.461210e+08</td>\n",
       "      <td>175.0</td>\n",
       "      <td>...</td>\n",
       "      <td>4.36</td>\n",
       "      <td>343457.0</td>\n",
       "      <td>8930.0</td>\n",
       "      <td>448.0</td>\n",
       "      <td>1969.0</td>\n",
       "      <td>The Godfather</td>\n",
       "      <td>0.16</td>\n",
       "      <td>0.0699</td>\n",
       "      <td>1972</td>\n",
       "      <td>1</td>\n",
       "    </tr>\n",
       "    <tr>\n",
       "      <th>2</th>\n",
       "      <td>Harry Potter and the Sorcerer's Stone</td>\n",
       "      <td>7.6</td>\n",
       "      <td>PG</td>\n",
       "      <td>[Adventure, Family, Fantasy]</td>\n",
       "      <td>2001-11-16</td>\n",
       "      <td>125000000.0</td>\n",
       "      <td>90294621.0</td>\n",
       "      <td>318087620.0</td>\n",
       "      <td>1.006918e+09</td>\n",
       "      <td>159.0</td>\n",
       "      <td>...</td>\n",
       "      <td>4.48</td>\n",
       "      <td>7292896.0</td>\n",
       "      <td>115556.0</td>\n",
       "      <td>309.0</td>\n",
       "      <td>1997.0</td>\n",
       "      <td>Harry Potter and the Sorcerer's Stone</td>\n",
       "      <td>0.14</td>\n",
       "      <td>0.0149</td>\n",
       "      <td>2001</td>\n",
       "      <td>4</td>\n",
       "    </tr>\n",
       "    <tr>\n",
       "      <th>4</th>\n",
       "      <td>Little Women</td>\n",
       "      <td>7.8</td>\n",
       "      <td>PG</td>\n",
       "      <td>[Drama, Romance]</td>\n",
       "      <td>2019-12-25</td>\n",
       "      <td>40000000.0</td>\n",
       "      <td>16755310.0</td>\n",
       "      <td>108101214.0</td>\n",
       "      <td>2.166012e+08</td>\n",
       "      <td>135.0</td>\n",
       "      <td>...</td>\n",
       "      <td>4.09</td>\n",
       "      <td>1717984.0</td>\n",
       "      <td>31224.0</td>\n",
       "      <td>449.0</td>\n",
       "      <td>1868.0</td>\n",
       "      <td>Little Women</td>\n",
       "      <td>0.00</td>\n",
       "      <td>0.0151</td>\n",
       "      <td>2019</td>\n",
       "      <td>0</td>\n",
       "    </tr>\n",
       "    <tr>\n",
       "      <th>8</th>\n",
       "      <td>Little Women</td>\n",
       "      <td>7.3</td>\n",
       "      <td>PG</td>\n",
       "      <td>[Drama, Family, Romance]</td>\n",
       "      <td>1994-12-25</td>\n",
       "      <td>18000000.0</td>\n",
       "      <td>2411247.0</td>\n",
       "      <td>50083616.0</td>\n",
       "      <td>5.008362e+07</td>\n",
       "      <td>115.0</td>\n",
       "      <td>...</td>\n",
       "      <td>4.09</td>\n",
       "      <td>1717984.0</td>\n",
       "      <td>31224.0</td>\n",
       "      <td>449.0</td>\n",
       "      <td>1868.0</td>\n",
       "      <td>Little Women</td>\n",
       "      <td>0.00</td>\n",
       "      <td>0.0151</td>\n",
       "      <td>1994</td>\n",
       "      <td>0</td>\n",
       "    </tr>\n",
       "  </tbody>\n",
       "</table>\n",
       "<p>5 rows × 27 columns</p>\n",
       "</div>"
      ],
      "text/plain": [
       "                             movie_title  rating MPAA  \\\n",
       "0                      After We Collided     5.0    R   \n",
       "1                          The Godfather     9.2    R   \n",
       "2  Harry Potter and the Sorcerer's Stone     7.6   PG   \n",
       "4                           Little Women     7.8   PG   \n",
       "8                           Little Women     7.3   PG   \n",
       "\n",
       "                          genre release_date       budget  \\\n",
       "0              [Drama, Romance]   2020-10-23          NaN   \n",
       "1                [Crime, Drama]   1972-03-24    6000000.0   \n",
       "2  [Adventure, Family, Fantasy]   2001-11-16  125000000.0   \n",
       "4              [Drama, Romance]   2019-12-25   40000000.0   \n",
       "8      [Drama, Family, Romance]   1994-12-25   18000000.0   \n",
       "\n",
       "   opening_weekend_usa    gross_usa   gross_world  runtime  ...  \\\n",
       "0             422899.0    2386483.0  4.799041e+07    105.0  ...   \n",
       "1             302393.0  134966411.0  2.461210e+08    175.0  ...   \n",
       "2           90294621.0  318087620.0  1.006918e+09    159.0  ...   \n",
       "4           16755310.0  108101214.0  2.166012e+08    135.0  ...   \n",
       "8            2411247.0   50083616.0  5.008362e+07    115.0  ...   \n",
       "\n",
       "  rating_value_b rating_count_b review_count_b   page publish_year  \\\n",
       "0           3.78        92534.0         5490.0  674.0       2013.0   \n",
       "1           4.36       343457.0         8930.0  448.0       1969.0   \n",
       "2           4.48      7292896.0       115556.0  309.0       1997.0   \n",
       "4           4.09      1717984.0        31224.0  449.0       1868.0   \n",
       "8           4.09      1717984.0        31224.0  449.0       1868.0   \n",
       "\n",
       "                                   title book_popularity  author_popularity  \\\n",
       "0                      After We Collided            0.00             0.2159   \n",
       "1                          The Godfather            0.16             0.0699   \n",
       "2  Harry Potter and the Sorcerer's Stone            0.14             0.0149   \n",
       "4                           Little Women            0.00             0.0151   \n",
       "8                           Little Women            0.00             0.0151   \n",
       "\n",
       "   release_year  count_a  \n",
       "0          2020       12  \n",
       "1          1972        1  \n",
       "2          2001        4  \n",
       "4          2019        0  \n",
       "8          1994        0  \n",
       "\n",
       "[5 rows x 27 columns]"
      ]
     },
     "execution_count": 14,
     "metadata": {},
     "output_type": "execute_result"
    }
   ],
   "source": [
    "all_df.head()"
   ]
  },
  {
   "cell_type": "code",
   "execution_count": 15,
   "metadata": {},
   "outputs": [
    {
     "data": {
      "text/plain": [
       "(1812, 35)"
      ]
     },
     "execution_count": 15,
     "metadata": {},
     "output_type": "execute_result"
    }
   ],
   "source": [
    "all_data_df.shape"
   ]
  },
  {
   "cell_type": "code",
   "execution_count": 16,
   "metadata": {},
   "outputs": [
    {
     "data": {
      "text/plain": [
       "(1135, 27)"
      ]
     },
     "execution_count": 16,
     "metadata": {},
     "output_type": "execute_result"
    }
   ],
   "source": [
    "all_df.shape"
   ]
  },
  {
   "cell_type": "code",
   "execution_count": 17,
   "metadata": {},
   "outputs": [],
   "source": [
    "all_df.to_pickle('../dump/all_df')"
   ]
  },
  {
   "cell_type": "code",
   "execution_count": 18,
   "metadata": {},
   "outputs": [
    {
     "data": {
      "text/plain": [
       "Index(['movie_title', 'rating', 'MPAA', 'genre', 'release_date', 'budget',\n",
       "       'opening_weekend_usa', 'gross_usa', 'gross_world', 'runtime',\n",
       "       'director', 'writer', 'actor', 'distributor', 'language', 'country',\n",
       "       'author', 'rating_value_b', 'rating_count_b', 'review_count_b', 'page',\n",
       "       'publish_year', 'title', 'book_popularity', 'author_popularity',\n",
       "       'release_year', 'count_a'],\n",
       "      dtype='object')"
      ]
     },
     "execution_count": 18,
     "metadata": {},
     "output_type": "execute_result"
    }
   ],
   "source": [
    "all_df.columns"
   ]
  },
  {
   "cell_type": "markdown",
   "metadata": {},
   "source": [
    "## 2. Collect more features"
   ]
  },
  {
   "cell_type": "markdown",
   "metadata": {},
   "source": [
    "### (1) release time of the movie"
   ]
  },
  {
   "cell_type": "code",
   "execution_count": 19,
   "metadata": {},
   "outputs": [],
   "source": [
    "# Divide release_date into year, month, day of week\n",
    "all_df['release_year'] = all_df['release_date'].dt.year\n",
    "all_df['release_month'] = all_df['release_date'].dt.month\n",
    "all_df['dow'] = all_df['release_date'].dt.weekday"
   ]
  },
  {
   "cell_type": "code",
   "execution_count": null,
   "metadata": {},
   "outputs": [],
   "source": []
  },
  {
   "cell_type": "markdown",
   "metadata": {},
   "source": [
    "### (2) director value"
   ]
  },
  {
   "cell_type": "code",
   "execution_count": 20,
   "metadata": {},
   "outputs": [],
   "source": [
    "# Find corresponding value of each director when movie is released\n",
    "# ['avg_rating','avg_gross'] (per movie directed)\n",
    "director_df = pd.read_pickle('../dump/director_data')"
   ]
  },
  {
   "cell_type": "code",
   "execution_count": 21,
   "metadata": {},
   "outputs": [
    {
     "data": {
      "text/plain": [
       "4590"
      ]
     },
     "execution_count": 21,
     "metadata": {},
     "output_type": "execute_result"
    }
   ],
   "source": [
    "director_df.director.nunique()"
   ]
  },
  {
   "cell_type": "code",
   "execution_count": 22,
   "metadata": {},
   "outputs": [
    {
     "data": {
      "text/plain": [
       "(6, 32634196)"
      ]
     },
     "execution_count": 22,
     "metadata": {},
     "output_type": "execute_result"
    }
   ],
   "source": [
    "# Find the mean rating, gross of all directors\n",
    "director_rating_mean = int(director_df.rating.mean())\n",
    "director_gross_mean = int(director_df.gross_usa.mean())\n",
    "\n",
    "director_rating_mean, director_gross_mean"
   ]
  },
  {
   "cell_type": "code",
   "execution_count": 23,
   "metadata": {},
   "outputs": [],
   "source": [
    "def director_value(movie):\n",
    "    \"\"\"\n",
    "    input: movie (each row in all_data_df)\n",
    "    output: \n",
    "        - film_count: number of movies directed before the movie of interest\n",
    "        - avg_rating: average rating of movies directed before the movie of interest\n",
    "        - avg_gross: gross per movie before the movie of interest\n",
    "    \"\"\"\n",
    "    \n",
    "    movie_title = movie.movie_title\n",
    "    director = movie.director\n",
    "    year = movie.release_date\n",
    "\n",
    "    headers = ['movie_title','director','film_count_d','avg_rating_d','avg_gross_d']\n",
    "    \n",
    "    # Assign default values\n",
    "    film_count,avg_rating,avg_gross = 0, director_rating_mean, director_gross_mean\n",
    "    \n",
    "    doi_df = director_df[(director_df.director == director) & (director_df.year < year)]\n",
    "    \n",
    "    # Fill NaN with director's mean\n",
    "    doi_df[['rating','gross_usa']].apply(lambda x: x.fillna(x.mean(),axis=0))\n",
    "    \n",
    "    # If there's still NaN, fill with all directors' mean\n",
    "    doi_df[['rating']] = doi_df[['rating']].apply(lambda x: x.fillna(director_rating_mean,axis=0))\n",
    "    doi_df[['gross_usa']] = doi_df[['gross_usa']].apply(lambda x: x.fillna(director_gross_mean,axis=0))\n",
    "    \n",
    "   \n",
    "    if doi_df.shape[0] == 0:\n",
    "        film_count,avg_rating,avg_gross = 0, director_rating_mean, director_gross_mean\n",
    "    else:\n",
    "        \n",
    "    \n",
    "    \n",
    "        film_count = doi_df.shape[0]\n",
    "\n",
    "        \n",
    "        avg_rating = doi_df['rating'].mean()\n",
    "        if avg_rating == np.nan:\n",
    "            avg_rating = director_rating_mean\n",
    "\n",
    "        try:\n",
    "            avg_gross = int(doi_df['gross_usa'].mean())\n",
    "        except ValueError:\n",
    "            avg_gross = director_gross_mean\n",
    "        \n",
    "    \n",
    "    director_value = dict(zip(headers, [movie_title,director,film_count,avg_rating,avg_gross]))\n",
    "    \n",
    "    return director_value"
   ]
  },
  {
   "cell_type": "code",
   "execution_count": 24,
   "metadata": {},
   "outputs": [],
   "source": [
    "# Create df including columns of director film_count, avg_rating, avg_gross\n",
    "# Rows correspond to rows in all_df\n",
    "movie_director_df = all_df.apply(director_value,axis=1).apply(pd.Series)"
   ]
  },
  {
   "cell_type": "code",
   "execution_count": 25,
   "metadata": {},
   "outputs": [],
   "source": [
    "# Merge all_df and director value\n",
    "all_d_df = pd.merge(all_df, movie_director_df, left_index=True, right_index=True ,how='left')"
   ]
  },
  {
   "cell_type": "code",
   "execution_count": 26,
   "metadata": {},
   "outputs": [],
   "source": [
    "# Merge all_df and director value\n",
    "all_d_df = pd.merge(all_df, movie_director_df, on=['movie_title','director'] ,how='left')"
   ]
  },
  {
   "cell_type": "code",
   "execution_count": 27,
   "metadata": {},
   "outputs": [
    {
     "data": {
      "text/html": [
       "<div>\n",
       "<style scoped>\n",
       "    .dataframe tbody tr th:only-of-type {\n",
       "        vertical-align: middle;\n",
       "    }\n",
       "\n",
       "    .dataframe tbody tr th {\n",
       "        vertical-align: top;\n",
       "    }\n",
       "\n",
       "    .dataframe thead th {\n",
       "        text-align: right;\n",
       "    }\n",
       "</style>\n",
       "<table border=\"1\" class=\"dataframe\">\n",
       "  <thead>\n",
       "    <tr style=\"text-align: right;\">\n",
       "      <th></th>\n",
       "      <th>movie_title</th>\n",
       "      <th>rating</th>\n",
       "      <th>MPAA</th>\n",
       "      <th>genre</th>\n",
       "      <th>release_date</th>\n",
       "      <th>budget</th>\n",
       "      <th>opening_weekend_usa</th>\n",
       "      <th>gross_usa</th>\n",
       "      <th>gross_world</th>\n",
       "      <th>runtime</th>\n",
       "      <th>...</th>\n",
       "      <th>title</th>\n",
       "      <th>book_popularity</th>\n",
       "      <th>author_popularity</th>\n",
       "      <th>release_year</th>\n",
       "      <th>count_a</th>\n",
       "      <th>release_month</th>\n",
       "      <th>dow</th>\n",
       "      <th>film_count_d</th>\n",
       "      <th>avg_rating_d</th>\n",
       "      <th>avg_gross_d</th>\n",
       "    </tr>\n",
       "  </thead>\n",
       "  <tbody>\n",
       "    <tr>\n",
       "      <th>0</th>\n",
       "      <td>After We Collided</td>\n",
       "      <td>5.0</td>\n",
       "      <td>R</td>\n",
       "      <td>[Drama, Romance]</td>\n",
       "      <td>2020-10-23</td>\n",
       "      <td>NaN</td>\n",
       "      <td>422899.0</td>\n",
       "      <td>2386483.0</td>\n",
       "      <td>4.799041e+07</td>\n",
       "      <td>105.0</td>\n",
       "      <td>...</td>\n",
       "      <td>After We Collided</td>\n",
       "      <td>0.00</td>\n",
       "      <td>0.2159</td>\n",
       "      <td>2020</td>\n",
       "      <td>12</td>\n",
       "      <td>10</td>\n",
       "      <td>4</td>\n",
       "      <td>6</td>\n",
       "      <td>5.316667</td>\n",
       "      <td>31997784</td>\n",
       "    </tr>\n",
       "    <tr>\n",
       "      <th>1</th>\n",
       "      <td>The Godfather</td>\n",
       "      <td>9.2</td>\n",
       "      <td>R</td>\n",
       "      <td>[Crime, Drama]</td>\n",
       "      <td>1972-03-24</td>\n",
       "      <td>6000000.0</td>\n",
       "      <td>302393.0</td>\n",
       "      <td>134966411.0</td>\n",
       "      <td>2.461210e+08</td>\n",
       "      <td>175.0</td>\n",
       "      <td>...</td>\n",
       "      <td>The Godfather</td>\n",
       "      <td>0.16</td>\n",
       "      <td>0.0699</td>\n",
       "      <td>1972</td>\n",
       "      <td>1</td>\n",
       "      <td>3</td>\n",
       "      <td>4</td>\n",
       "      <td>7</td>\n",
       "      <td>5.285714</td>\n",
       "      <td>32634196</td>\n",
       "    </tr>\n",
       "    <tr>\n",
       "      <th>2</th>\n",
       "      <td>Harry Potter and the Sorcerer's Stone</td>\n",
       "      <td>7.6</td>\n",
       "      <td>PG</td>\n",
       "      <td>[Adventure, Family, Fantasy]</td>\n",
       "      <td>2001-11-16</td>\n",
       "      <td>125000000.0</td>\n",
       "      <td>90294621.0</td>\n",
       "      <td>318087620.0</td>\n",
       "      <td>1.006918e+09</td>\n",
       "      <td>159.0</td>\n",
       "      <td>...</td>\n",
       "      <td>Harry Potter and the Sorcerer's Stone</td>\n",
       "      <td>0.14</td>\n",
       "      <td>0.0149</td>\n",
       "      <td>2001</td>\n",
       "      <td>4</td>\n",
       "      <td>11</td>\n",
       "      <td>4</td>\n",
       "      <td>9</td>\n",
       "      <td>6.622222</td>\n",
       "      <td>106588545</td>\n",
       "    </tr>\n",
       "    <tr>\n",
       "      <th>3</th>\n",
       "      <td>Little Women</td>\n",
       "      <td>7.8</td>\n",
       "      <td>PG</td>\n",
       "      <td>[Drama, Romance]</td>\n",
       "      <td>2019-12-25</td>\n",
       "      <td>40000000.0</td>\n",
       "      <td>16755310.0</td>\n",
       "      <td>108101214.0</td>\n",
       "      <td>2.166012e+08</td>\n",
       "      <td>135.0</td>\n",
       "      <td>...</td>\n",
       "      <td>Little Women</td>\n",
       "      <td>0.00</td>\n",
       "      <td>0.0151</td>\n",
       "      <td>2019</td>\n",
       "      <td>0</td>\n",
       "      <td>12</td>\n",
       "      <td>2</td>\n",
       "      <td>2</td>\n",
       "      <td>6.700000</td>\n",
       "      <td>24481851</td>\n",
       "    </tr>\n",
       "    <tr>\n",
       "      <th>4</th>\n",
       "      <td>Little Women</td>\n",
       "      <td>7.3</td>\n",
       "      <td>PG</td>\n",
       "      <td>[Drama, Family, Romance]</td>\n",
       "      <td>1994-12-25</td>\n",
       "      <td>18000000.0</td>\n",
       "      <td>2411247.0</td>\n",
       "      <td>50083616.0</td>\n",
       "      <td>5.008362e+07</td>\n",
       "      <td>115.0</td>\n",
       "      <td>...</td>\n",
       "      <td>Little Women</td>\n",
       "      <td>0.00</td>\n",
       "      <td>0.0151</td>\n",
       "      <td>1994</td>\n",
       "      <td>0</td>\n",
       "      <td>12</td>\n",
       "      <td>6</td>\n",
       "      <td>11</td>\n",
       "      <td>6.663636</td>\n",
       "      <td>24220795</td>\n",
       "    </tr>\n",
       "    <tr>\n",
       "      <th>...</th>\n",
       "      <td>...</td>\n",
       "      <td>...</td>\n",
       "      <td>...</td>\n",
       "      <td>...</td>\n",
       "      <td>...</td>\n",
       "      <td>...</td>\n",
       "      <td>...</td>\n",
       "      <td>...</td>\n",
       "      <td>...</td>\n",
       "      <td>...</td>\n",
       "      <td>...</td>\n",
       "      <td>...</td>\n",
       "      <td>...</td>\n",
       "      <td>...</td>\n",
       "      <td>...</td>\n",
       "      <td>...</td>\n",
       "      <td>...</td>\n",
       "      <td>...</td>\n",
       "      <td>...</td>\n",
       "      <td>...</td>\n",
       "      <td>...</td>\n",
       "    </tr>\n",
       "    <tr>\n",
       "      <th>1130</th>\n",
       "      <td>The Wayward Bus</td>\n",
       "      <td>6.7</td>\n",
       "      <td>Not</td>\n",
       "      <td>[Drama]</td>\n",
       "      <td>1957-05-27</td>\n",
       "      <td>NaN</td>\n",
       "      <td>NaN</td>\n",
       "      <td>NaN</td>\n",
       "      <td>NaN</td>\n",
       "      <td>87.0</td>\n",
       "      <td>...</td>\n",
       "      <td>The Wayward Bus</td>\n",
       "      <td>0.00</td>\n",
       "      <td>0.0176</td>\n",
       "      <td>1957</td>\n",
       "      <td>18</td>\n",
       "      <td>5</td>\n",
       "      <td>0</td>\n",
       "      <td>8</td>\n",
       "      <td>6.125000</td>\n",
       "      <td>32634196</td>\n",
       "    </tr>\n",
       "    <tr>\n",
       "      <th>1131</th>\n",
       "      <td>From the Terrace</td>\n",
       "      <td>6.7</td>\n",
       "      <td>Passed</td>\n",
       "      <td>[Drama, Romance]</td>\n",
       "      <td>1960-09-09</td>\n",
       "      <td>NaN</td>\n",
       "      <td>NaN</td>\n",
       "      <td>11336000.0</td>\n",
       "      <td>NaN</td>\n",
       "      <td>149.0</td>\n",
       "      <td>...</td>\n",
       "      <td>From the Terrace</td>\n",
       "      <td>0.00</td>\n",
       "      <td>0.0418</td>\n",
       "      <td>1960</td>\n",
       "      <td>3</td>\n",
       "      <td>9</td>\n",
       "      <td>4</td>\n",
       "      <td>22</td>\n",
       "      <td>6.627273</td>\n",
       "      <td>29622714</td>\n",
       "    </tr>\n",
       "    <tr>\n",
       "      <th>1132</th>\n",
       "      <td>Anne of Green Gables</td>\n",
       "      <td>7.0</td>\n",
       "      <td>Passed</td>\n",
       "      <td>[Comedy, Drama, Family]</td>\n",
       "      <td>1934-11-23</td>\n",
       "      <td>226000.0</td>\n",
       "      <td>NaN</td>\n",
       "      <td>NaN</td>\n",
       "      <td>NaN</td>\n",
       "      <td>78.0</td>\n",
       "      <td>...</td>\n",
       "      <td>Anne of Green Gables</td>\n",
       "      <td>0.05</td>\n",
       "      <td>0.0314</td>\n",
       "      <td>1934</td>\n",
       "      <td>0</td>\n",
       "      <td>11</td>\n",
       "      <td>4</td>\n",
       "      <td>1</td>\n",
       "      <td>6.400000</td>\n",
       "      <td>32634196</td>\n",
       "    </tr>\n",
       "    <tr>\n",
       "      <th>1133</th>\n",
       "      <td>Odds Against Tomorrow</td>\n",
       "      <td>7.4</td>\n",
       "      <td>Approved</td>\n",
       "      <td>[Crime, Drama, Thriller]</td>\n",
       "      <td>1959-11-01</td>\n",
       "      <td>NaN</td>\n",
       "      <td>NaN</td>\n",
       "      <td>NaN</td>\n",
       "      <td>NaN</td>\n",
       "      <td>100.0</td>\n",
       "      <td>...</td>\n",
       "      <td>Odds Against Tomorrow</td>\n",
       "      <td>0.00</td>\n",
       "      <td>0.0180</td>\n",
       "      <td>1959</td>\n",
       "      <td>0</td>\n",
       "      <td>11</td>\n",
       "      <td>6</td>\n",
       "      <td>25</td>\n",
       "      <td>6.776000</td>\n",
       "      <td>31384828</td>\n",
       "    </tr>\n",
       "    <tr>\n",
       "      <th>1134</th>\n",
       "      <td>Once Is Not Enough</td>\n",
       "      <td>4.6</td>\n",
       "      <td>R</td>\n",
       "      <td>[Drama, Romance]</td>\n",
       "      <td>1975-06-20</td>\n",
       "      <td>NaN</td>\n",
       "      <td>NaN</td>\n",
       "      <td>15700729.0</td>\n",
       "      <td>1.570073e+07</td>\n",
       "      <td>121.0</td>\n",
       "      <td>...</td>\n",
       "      <td>Once Is Not Enough</td>\n",
       "      <td>0.20</td>\n",
       "      <td>0.0201</td>\n",
       "      <td>1975</td>\n",
       "      <td>3</td>\n",
       "      <td>6</td>\n",
       "      <td>4</td>\n",
       "      <td>15</td>\n",
       "      <td>6.580000</td>\n",
       "      <td>32634196</td>\n",
       "    </tr>\n",
       "  </tbody>\n",
       "</table>\n",
       "<p>1135 rows × 32 columns</p>\n",
       "</div>"
      ],
      "text/plain": [
       "                                movie_title  rating      MPAA  \\\n",
       "0                         After We Collided     5.0         R   \n",
       "1                             The Godfather     9.2         R   \n",
       "2     Harry Potter and the Sorcerer's Stone     7.6        PG   \n",
       "3                              Little Women     7.8        PG   \n",
       "4                              Little Women     7.3        PG   \n",
       "...                                     ...     ...       ...   \n",
       "1130                        The Wayward Bus     6.7       Not   \n",
       "1131                       From the Terrace     6.7    Passed   \n",
       "1132                   Anne of Green Gables     7.0    Passed   \n",
       "1133                  Odds Against Tomorrow     7.4  Approved   \n",
       "1134                     Once Is Not Enough     4.6         R   \n",
       "\n",
       "                             genre release_date       budget  \\\n",
       "0                 [Drama, Romance]   2020-10-23          NaN   \n",
       "1                   [Crime, Drama]   1972-03-24    6000000.0   \n",
       "2     [Adventure, Family, Fantasy]   2001-11-16  125000000.0   \n",
       "3                 [Drama, Romance]   2019-12-25   40000000.0   \n",
       "4         [Drama, Family, Romance]   1994-12-25   18000000.0   \n",
       "...                            ...          ...          ...   \n",
       "1130                       [Drama]   1957-05-27          NaN   \n",
       "1131              [Drama, Romance]   1960-09-09          NaN   \n",
       "1132       [Comedy, Drama, Family]   1934-11-23     226000.0   \n",
       "1133      [Crime, Drama, Thriller]   1959-11-01          NaN   \n",
       "1134              [Drama, Romance]   1975-06-20          NaN   \n",
       "\n",
       "      opening_weekend_usa    gross_usa   gross_world  runtime  ...  \\\n",
       "0                422899.0    2386483.0  4.799041e+07    105.0  ...   \n",
       "1                302393.0  134966411.0  2.461210e+08    175.0  ...   \n",
       "2              90294621.0  318087620.0  1.006918e+09    159.0  ...   \n",
       "3              16755310.0  108101214.0  2.166012e+08    135.0  ...   \n",
       "4               2411247.0   50083616.0  5.008362e+07    115.0  ...   \n",
       "...                   ...          ...           ...      ...  ...   \n",
       "1130                  NaN          NaN           NaN     87.0  ...   \n",
       "1131                  NaN   11336000.0           NaN    149.0  ...   \n",
       "1132                  NaN          NaN           NaN     78.0  ...   \n",
       "1133                  NaN          NaN           NaN    100.0  ...   \n",
       "1134                  NaN   15700729.0  1.570073e+07    121.0  ...   \n",
       "\n",
       "                                      title book_popularity author_popularity  \\\n",
       "0                         After We Collided            0.00            0.2159   \n",
       "1                             The Godfather            0.16            0.0699   \n",
       "2     Harry Potter and the Sorcerer's Stone            0.14            0.0149   \n",
       "3                              Little Women            0.00            0.0151   \n",
       "4                              Little Women            0.00            0.0151   \n",
       "...                                     ...             ...               ...   \n",
       "1130                        The Wayward Bus            0.00            0.0176   \n",
       "1131                       From the Terrace            0.00            0.0418   \n",
       "1132                   Anne of Green Gables            0.05            0.0314   \n",
       "1133                  Odds Against Tomorrow            0.00            0.0180   \n",
       "1134                     Once Is Not Enough            0.20            0.0201   \n",
       "\n",
       "     release_year count_a release_month dow  film_count_d  avg_rating_d  \\\n",
       "0            2020      12            10   4             6      5.316667   \n",
       "1            1972       1             3   4             7      5.285714   \n",
       "2            2001       4            11   4             9      6.622222   \n",
       "3            2019       0            12   2             2      6.700000   \n",
       "4            1994       0            12   6            11      6.663636   \n",
       "...           ...     ...           ...  ..           ...           ...   \n",
       "1130         1957      18             5   0             8      6.125000   \n",
       "1131         1960       3             9   4            22      6.627273   \n",
       "1132         1934       0            11   4             1      6.400000   \n",
       "1133         1959       0            11   6            25      6.776000   \n",
       "1134         1975       3             6   4            15      6.580000   \n",
       "\n",
       "      avg_gross_d  \n",
       "0        31997784  \n",
       "1        32634196  \n",
       "2       106588545  \n",
       "3        24481851  \n",
       "4        24220795  \n",
       "...           ...  \n",
       "1130     32634196  \n",
       "1131     29622714  \n",
       "1132     32634196  \n",
       "1133     31384828  \n",
       "1134     32634196  \n",
       "\n",
       "[1135 rows x 32 columns]"
      ]
     },
     "execution_count": 27,
     "metadata": {},
     "output_type": "execute_result"
    }
   ],
   "source": [
    "all_d_df"
   ]
  },
  {
   "cell_type": "code",
   "execution_count": 28,
   "metadata": {},
   "outputs": [
    {
     "data": {
      "text/plain": [
       "Index(['movie_title', 'rating', 'MPAA', 'genre', 'release_date', 'budget',\n",
       "       'opening_weekend_usa', 'gross_usa', 'gross_world', 'runtime',\n",
       "       'director', 'writer', 'actor', 'distributor', 'language', 'country',\n",
       "       'author', 'rating_value_b', 'rating_count_b', 'review_count_b', 'page',\n",
       "       'publish_year', 'title', 'book_popularity', 'author_popularity',\n",
       "       'release_year', 'count_a', 'release_month', 'dow', 'film_count_d',\n",
       "       'avg_rating_d', 'avg_gross_d'],\n",
       "      dtype='object')"
      ]
     },
     "execution_count": 28,
     "metadata": {},
     "output_type": "execute_result"
    }
   ],
   "source": [
    "all_d_df.columns"
   ]
  },
  {
   "cell_type": "code",
   "execution_count": 29,
   "metadata": {},
   "outputs": [],
   "source": [
    "# Fillna with director avg gross in USA\n",
    "all_d_df.loc[(pd.isnull(all_d_df.gross_usa)),'gross_usa'] =\\\n",
    "all_d_df.loc[(pd.isnull(all_d_df.gross_usa)),'avg_gross_d']"
   ]
  },
  {
   "cell_type": "code",
   "execution_count": 30,
   "metadata": {},
   "outputs": [],
   "source": [
    "# all_d_df[all_d_df.gross_usa.isna()==True]"
   ]
  },
  {
   "cell_type": "code",
   "execution_count": 31,
   "metadata": {},
   "outputs": [
    {
     "name": "stdout",
     "output_type": "stream",
     "text": [
      "<class 'pandas.core.frame.DataFrame'>\n",
      "Int64Index: 1135 entries, 0 to 1134\n",
      "Data columns (total 32 columns):\n",
      " #   Column               Non-Null Count  Dtype         \n",
      "---  ------               --------------  -----         \n",
      " 0   movie_title          1135 non-null   object        \n",
      " 1   rating               1135 non-null   float64       \n",
      " 2   MPAA                 1135 non-null   object        \n",
      " 3   genre                1135 non-null   object        \n",
      " 4   release_date         1135 non-null   datetime64[ns]\n",
      " 5   budget               830 non-null    float64       \n",
      " 6   opening_weekend_usa  713 non-null    float64       \n",
      " 7   gross_usa            1135 non-null   float64       \n",
      " 8   gross_world          842 non-null    float64       \n",
      " 9   runtime              1124 non-null   float64       \n",
      " 10  director             1135 non-null   object        \n",
      " 11  writer               1135 non-null   object        \n",
      " 12  actor                1135 non-null   object        \n",
      " 13  distributor          1133 non-null   object        \n",
      " 14  language             1135 non-null   object        \n",
      " 15  country              1135 non-null   object        \n",
      " 16  author               1135 non-null   object        \n",
      " 17  rating_value_b       1135 non-null   float64       \n",
      " 18  rating_count_b       1135 non-null   float64       \n",
      " 19  review_count_b       1135 non-null   float64       \n",
      " 20  page                 1106 non-null   float64       \n",
      " 21  publish_year         1135 non-null   float64       \n",
      " 22  title                1135 non-null   object        \n",
      " 23  book_popularity      1135 non-null   float64       \n",
      " 24  author_popularity    1135 non-null   float64       \n",
      " 25  release_year         1135 non-null   int64         \n",
      " 26  count_a              1135 non-null   int64         \n",
      " 27  release_month        1135 non-null   int64         \n",
      " 28  dow                  1135 non-null   int64         \n",
      " 29  film_count_d         1135 non-null   int64         \n",
      " 30  avg_rating_d         1135 non-null   float64       \n",
      " 31  avg_gross_d          1135 non-null   int64         \n",
      "dtypes: datetime64[ns](1), float64(14), int64(6), object(11)\n",
      "memory usage: 292.6+ KB\n"
     ]
    }
   ],
   "source": [
    "all_d_df.info()"
   ]
  },
  {
   "cell_type": "markdown",
   "metadata": {},
   "source": [
    "### (3) cast (actors) value"
   ]
  },
  {
   "cell_type": "code",
   "execution_count": 32,
   "metadata": {},
   "outputs": [],
   "source": [
    "# # Find corresponding value of each director when movie is released\n",
    "# # ['avg_rating','avg_gross'] (per movie directed)\n",
    "# actor_df = pd.read_pickle('../dump/actor_correct_data')\n",
    "# actor_df.shape"
   ]
  },
  {
   "cell_type": "code",
   "execution_count": 33,
   "metadata": {},
   "outputs": [],
   "source": [
    "# actor_df.head()"
   ]
  },
  {
   "cell_type": "code",
   "execution_count": 34,
   "metadata": {},
   "outputs": [],
   "source": [
    "# actor_df.director.nunique()"
   ]
  },
  {
   "cell_type": "code",
   "execution_count": 35,
   "metadata": {},
   "outputs": [],
   "source": [
    "# # Find the mean rating, gross of all directors\n",
    "# actor_rating_mean = int(actor_df.rating.mean())\n",
    "# actor_gross_mean = int(actor_df.gross_usa.mean())\n",
    "\n",
    "# actor_rating_mean, actor_gross_mean"
   ]
  },
  {
   "cell_type": "code",
   "execution_count": 36,
   "metadata": {},
   "outputs": [],
   "source": [
    "def actor_value(actor,year):\n",
    "    \"\"\"\n",
    "    input: actor name and (release) year of the movie of interest\n",
    "    output: \n",
    "        - film_count: number of movies the actor was in before the movie of interest\n",
    "        - avg_rating: average rating of movies the actor was in before the movie of interest\n",
    "        - avg_gross: gross per movie before the movie of interest\n",
    "    \"\"\"\n",
    "    \n",
    "    aoi_df = actor_df[(actor_df.actor == actor) & (actor_df.year.dt.year < year)].copy()\n",
    "    \n",
    "    # Fill NaN with actor's mean\n",
    "    values={'rating':aoi_df.rating.mean(), 'gross_usa':aoi_df.gross_usa.mean()}\n",
    "    aoi_df.fillna(value=values,inplace=True)\n",
    "    \n",
    "    # If there's still NaN, fill with all actors' mean\n",
    "    values={'rating':actor_rating_mean, 'gross_usa':actor_gross_mean}\n",
    "    aoi_df.fillna(value=values,inplace=True)\n",
    "        \n",
    "    \n",
    "    # If there's no movie prior to movie of interest  \n",
    "    if aoi_df.shape[0] == 0:\n",
    "        film_count,avg_rating,avg_gross = 0, actor_rating_mean, actor_gross_mean\n",
    "        \n",
    "    else:\n",
    "        \n",
    "        film_count = aoi_df.shape[0]\n",
    "        \n",
    "        avg_rating = aoi_df['rating'].mean()\n",
    "        avg_gross = aoi_df['gross_usa'].mean()\n",
    "\n",
    "        \n",
    "    \n",
    "    actor_value = [film_count, avg_rating, avg_gross]\n",
    "    \n",
    "    print(actor,actor_value)\n",
    "    \n",
    "    return actor_value,aoi_df"
   ]
  },
  {
   "cell_type": "code",
   "execution_count": 37,
   "metadata": {},
   "outputs": [],
   "source": [
    "def get_cast(movie):\n",
    "    \"\"\"\n",
    "    input: movie (each row in all_data_df)\n",
    "    output: \n",
    "        - film_count: number of movies directed before the movie of interest\n",
    "        - avg_rating: average rating of movies directed before the movie of interest\n",
    "        - avg_gross: gross per movie before the movie of interest\n",
    "    \"\"\"\n",
    "    \n",
    "    movie_title = movie.movie_title\n",
    "    year = movie.release_year\n",
    "    actors = movie.actor\n",
    "    lead = actors[0]\n",
    "    \n",
    "    film_counts = []\n",
    "    ratings = []\n",
    "    grosses = []\n",
    "    \n",
    "    for actor in actors:\n",
    "        result = actor_value(actor,year)\n",
    "        film_counts.append(result[0])\n",
    "        ratings.append(result[1])\n",
    "        grosses.append(result[2])\n",
    "        \n",
    "    avg_film_count = np.mean(film_counts)\n",
    "    avg_rating = np.mean(ratings)\n",
    "    avg_gross = np.mean(grosses)    \n",
    "    \n",
    "    \n",
    "    lead_result = actor_value(lead,year)\n",
    "    \n",
    "\n",
    "    headers = ['movie_title','cast','avg_film_count_c','avg_rating_c','avg_gross_c',\\\n",
    "              'avg_film_count_l','avg_rating_l','avg_gross_l']\n",
    "\n",
    "        \n",
    "    \n",
    "    cast_info = dict(zip(headers, [movie_title,actors,avg_film_count,avg_rating,avg_gross,\\\n",
    "                                  lead_result[0],lead_result[1],lead_result[2]]))\n",
    "    \n",
    "    return cast_info"
   ]
  },
  {
   "cell_type": "code",
   "execution_count": 38,
   "metadata": {},
   "outputs": [],
   "source": [
    "# # Create df including columns of director film_count, avg_rating, avg_gross\n",
    "# # Rows correspond to rows in all_df\n",
    "# movie_actor_df = all_df.iloc[:2].apply(get_cast,axis=1).apply(pd.Series)"
   ]
  },
  {
   "cell_type": "code",
   "execution_count": 39,
   "metadata": {},
   "outputs": [],
   "source": [
    "# # Merge all_df and cast info\n",
    "# all_dc_df = pd.merge(all_d_df, movie_actor_df, lon=['movie_title','director'] ,how='left')"
   ]
  },
  {
   "cell_type": "code",
   "execution_count": null,
   "metadata": {},
   "outputs": [],
   "source": []
  },
  {
   "cell_type": "code",
   "execution_count": null,
   "metadata": {},
   "outputs": [],
   "source": []
  },
  {
   "cell_type": "markdown",
   "metadata": {},
   "source": [
    "### (4) book and author popularity"
   ]
  },
  {
   "cell_type": "code",
   "execution_count": 40,
   "metadata": {},
   "outputs": [],
   "source": [
    "# Load book_history_2\n",
    "book_history = pd.read_pickle('../dump/book_history_2_data_all')"
   ]
  },
  {
   "cell_type": "code",
   "execution_count": 41,
   "metadata": {},
   "outputs": [],
   "source": [
    "# book_history.sort_values('book_popularity',ascending=False)"
   ]
  },
  {
   "cell_type": "code",
   "execution_count": 42,
   "metadata": {},
   "outputs": [
    {
     "name": "stdout",
     "output_type": "stream",
     "text": [
      "<class 'pandas.core.frame.DataFrame'>\n",
      "Int64Index: 1295 entries, 0 to 128\n",
      "Data columns (total 9 columns):\n",
      " #   Column                 Non-Null Count  Dtype  \n",
      "---  ------                 --------------  -----  \n",
      " 0   title                  1295 non-null   object \n",
      " 1   release_date           1295 non-null   object \n",
      " 2   genre                  1295 non-null   object \n",
      " 3   title_search           1291 non-null   float64\n",
      " 4   search_fiction_book    1285 non-null   float64\n",
      " 5   author_search          1294 non-null   float64\n",
      " 6   search_fiction_author  1295 non-null   int64  \n",
      " 7   book_popularity        1281 non-null   float64\n",
      " 8   author_popularity      1294 non-null   float64\n",
      "dtypes: float64(5), int64(1), object(3)\n",
      "memory usage: 101.2+ KB\n"
     ]
    }
   ],
   "source": [
    "book_history.info()"
   ]
  },
  {
   "cell_type": "code",
   "execution_count": 43,
   "metadata": {},
   "outputs": [
    {
     "name": "stdout",
     "output_type": "stream",
     "text": [
      "<class 'pandas.core.frame.DataFrame'>\n",
      "Int64Index: 1135 entries, 0 to 1134\n",
      "Data columns (total 32 columns):\n",
      " #   Column               Non-Null Count  Dtype         \n",
      "---  ------               --------------  -----         \n",
      " 0   movie_title          1135 non-null   object        \n",
      " 1   rating               1135 non-null   float64       \n",
      " 2   MPAA                 1135 non-null   object        \n",
      " 3   genre                1135 non-null   object        \n",
      " 4   release_date         1135 non-null   datetime64[ns]\n",
      " 5   budget               830 non-null    float64       \n",
      " 6   opening_weekend_usa  713 non-null    float64       \n",
      " 7   gross_usa            1135 non-null   float64       \n",
      " 8   gross_world          842 non-null    float64       \n",
      " 9   runtime              1124 non-null   float64       \n",
      " 10  director             1135 non-null   object        \n",
      " 11  writer               1135 non-null   object        \n",
      " 12  actor                1135 non-null   object        \n",
      " 13  distributor          1133 non-null   object        \n",
      " 14  language             1135 non-null   object        \n",
      " 15  country              1135 non-null   object        \n",
      " 16  author               1135 non-null   object        \n",
      " 17  rating_value_b       1135 non-null   float64       \n",
      " 18  rating_count_b       1135 non-null   float64       \n",
      " 19  review_count_b       1135 non-null   float64       \n",
      " 20  page                 1106 non-null   float64       \n",
      " 21  publish_year         1135 non-null   float64       \n",
      " 22  title                1135 non-null   object        \n",
      " 23  book_popularity      1135 non-null   float64       \n",
      " 24  author_popularity    1135 non-null   float64       \n",
      " 25  release_year         1135 non-null   int64         \n",
      " 26  count_a              1135 non-null   int64         \n",
      " 27  release_month        1135 non-null   int64         \n",
      " 28  dow                  1135 non-null   int64         \n",
      " 29  film_count_d         1135 non-null   int64         \n",
      " 30  avg_rating_d         1135 non-null   float64       \n",
      " 31  avg_gross_d          1135 non-null   int64         \n",
      "dtypes: datetime64[ns](1), float64(14), int64(6), object(11)\n",
      "memory usage: 292.6+ KB\n"
     ]
    }
   ],
   "source": [
    "all_d_df.info()"
   ]
  },
  {
   "cell_type": "code",
   "execution_count": 44,
   "metadata": {},
   "outputs": [],
   "source": [
    "book_history['release_date'] = book_history['release_date'].astype('datetime64[ns]')"
   ]
  },
  {
   "cell_type": "code",
   "execution_count": 45,
   "metadata": {},
   "outputs": [
    {
     "name": "stdout",
     "output_type": "stream",
     "text": [
      "<class 'pandas.core.frame.DataFrame'>\n",
      "Int64Index: 1295 entries, 0 to 128\n",
      "Data columns (total 9 columns):\n",
      " #   Column                 Non-Null Count  Dtype         \n",
      "---  ------                 --------------  -----         \n",
      " 0   title                  1295 non-null   object        \n",
      " 1   release_date           1295 non-null   datetime64[ns]\n",
      " 2   genre                  1295 non-null   object        \n",
      " 3   title_search           1291 non-null   float64       \n",
      " 4   search_fiction_book    1285 non-null   float64       \n",
      " 5   author_search          1294 non-null   float64       \n",
      " 6   search_fiction_author  1295 non-null   int64         \n",
      " 7   book_popularity        1281 non-null   float64       \n",
      " 8   author_popularity      1294 non-null   float64       \n",
      "dtypes: datetime64[ns](1), float64(5), int64(1), object(2)\n",
      "memory usage: 101.2+ KB\n"
     ]
    }
   ],
   "source": [
    "book_history.info()"
   ]
  },
  {
   "cell_type": "code",
   "execution_count": 46,
   "metadata": {},
   "outputs": [
    {
     "data": {
      "text/plain": [
       "<AxesSubplot:>"
      ]
     },
     "execution_count": 46,
     "metadata": {},
     "output_type": "execute_result"
    },
    {
     "data": {
      "image/png": "[encoded data removed]",
      "text/plain": [
       "<Figure size 432x288 with 1 Axes>"
      ]
     },
     "metadata": {
      "needs_background": "light"
     },
     "output_type": "display_data"
    }
   ],
   "source": [
    "np.log(book_history.title_search).hist(bins=20)"
   ]
  },
  {
   "cell_type": "code",
   "execution_count": 47,
   "metadata": {},
   "outputs": [
    {
     "data": {
      "text/plain": [
       "<AxesSubplot:>"
      ]
     },
     "execution_count": 47,
     "metadata": {},
     "output_type": "execute_result"
    },
    {
     "data": {
      "image/png": "[encoded data removed]",
      "text/plain": [
       "<Figure size 432x288 with 1 Axes>"
      ]
     },
     "metadata": {
      "needs_background": "light"
     },
     "output_type": "display_data"
    }
   ],
   "source": [
    "np.log(book_history.search_fiction_book).hist(bins=20)"
   ]
  },
  {
   "cell_type": "code",
   "execution_count": 48,
   "metadata": {},
   "outputs": [
    {
     "data": {
      "text/plain": [
       "<AxesSubplot:>"
      ]
     },
     "execution_count": 48,
     "metadata": {},
     "output_type": "execute_result"
    },
    {
     "data": {
      "image/png": "[encoded data removed]",
      "text/plain": [
       "<Figure size 432x288 with 1 Axes>"
      ]
     },
     "metadata": {
      "needs_background": "light"
     },
     "output_type": "display_data"
    }
   ],
   "source": [
    "np.log(book_history.author_search).hist(bins=20)"
   ]
  },
  {
   "cell_type": "code",
   "execution_count": 49,
   "metadata": {},
   "outputs": [
    {
     "data": {
      "text/plain": [
       "<AxesSubplot:>"
      ]
     },
     "execution_count": 49,
     "metadata": {},
     "output_type": "execute_result"
    },
    {
     "data": {
      "image/png": "[encoded data removed]",
      "text/plain": [
       "<Figure size 432x288 with 1 Axes>"
      ]
     },
     "metadata": {
      "needs_background": "light"
     },
     "output_type": "display_data"
    }
   ],
   "source": [
    "np.log(book_history.search_fiction_author).hist(bins=20)"
   ]
  },
  {
   "cell_type": "code",
   "execution_count": 50,
   "metadata": {},
   "outputs": [
    {
     "data": {
      "text/plain": [
       "((1135, 32), (1295, 9))"
      ]
     },
     "execution_count": 50,
     "metadata": {},
     "output_type": "execute_result"
    }
   ],
   "source": [
    "all_d_df.shape, book_history.shape"
   ]
  },
  {
   "cell_type": "code",
   "execution_count": 51,
   "metadata": {},
   "outputs": [],
   "source": [
    "# Merge book data with movie df\n",
    "all_da_df = pd.merge(all_d_df, book_history, left_on=['movie_title','release_date'],\\\n",
    "                      right_on=['title','release_date'],how='left',copy=False)"
   ]
  },
  {
   "cell_type": "code",
   "execution_count": 52,
   "metadata": {},
   "outputs": [],
   "source": [
    "all_da_df['log_book_search'] = np.log(all_da_df['title_search'])\n",
    "all_da_df['log_author_search'] = np.log(all_da_df['author_search'])"
   ]
  },
  {
   "cell_type": "code",
   "execution_count": 53,
   "metadata": {},
   "outputs": [
    {
     "data": {
      "text/plain": [
       "Index(['movie_title', 'rating', 'MPAA', 'genre_x', 'release_date', 'budget',\n",
       "       'opening_weekend_usa', 'gross_usa', 'gross_world', 'runtime',\n",
       "       'director', 'writer', 'actor', 'distributor', 'language', 'country',\n",
       "       'author', 'rating_value_b', 'rating_count_b', 'review_count_b', 'page',\n",
       "       'publish_year', 'title_x', 'book_popularity_x', 'author_popularity_x',\n",
       "       'release_year', 'count_a', 'release_month', 'dow', 'film_count_d',\n",
       "       'avg_rating_d', 'avg_gross_d', 'title_y', 'genre_y', 'title_search',\n",
       "       'search_fiction_book', 'author_search', 'search_fiction_author',\n",
       "       'book_popularity_y', 'author_popularity_y', 'log_book_search',\n",
       "       'log_author_search'],\n",
       "      dtype='object')"
      ]
     },
     "execution_count": 53,
     "metadata": {},
     "output_type": "execute_result"
    }
   ],
   "source": [
    "all_da_df.columns"
   ]
  },
  {
   "cell_type": "code",
   "execution_count": 54,
   "metadata": {},
   "outputs": [],
   "source": [
    "# all_da_df.drop(columns=['title', 'genre_y','book_popularity_x','author_popularity_x'],inplace=True)"
   ]
  },
  {
   "cell_type": "code",
   "execution_count": 55,
   "metadata": {},
   "outputs": [
    {
     "data": {
      "text/plain": [
       "Index(['movie_title', 'rating', 'MPAA', 'genre_x', 'release_date', 'budget',\n",
       "       'opening_weekend_usa', 'gross_usa', 'gross_world', 'runtime',\n",
       "       'director', 'writer', 'actor', 'distributor', 'language', 'country',\n",
       "       'author', 'rating_value_b', 'rating_count_b', 'review_count_b', 'page',\n",
       "       'publish_year', 'title_x', 'book_popularity_x', 'author_popularity_x',\n",
       "       'release_year', 'count_a', 'release_month', 'dow', 'film_count_d',\n",
       "       'avg_rating_d', 'avg_gross_d', 'title_y', 'genre_y', 'title_search',\n",
       "       'search_fiction_book', 'author_search', 'search_fiction_author',\n",
       "       'book_popularity_y', 'author_popularity_y', 'log_book_search',\n",
       "       'log_author_search'],\n",
       "      dtype='object')"
      ]
     },
     "execution_count": 55,
     "metadata": {},
     "output_type": "execute_result"
    }
   ],
   "source": [
    "all_da_df.columns"
   ]
  },
  {
   "cell_type": "code",
   "execution_count": 56,
   "metadata": {},
   "outputs": [],
   "source": [
    "all_da_df.rename(columns = {'genre_x':'genre','book_popularity_y':'book_popularity',\\\n",
    "                            'author_popularity_y':'author_popularity'},inplace=True)"
   ]
  },
  {
   "cell_type": "code",
   "execution_count": 57,
   "metadata": {},
   "outputs": [
    {
     "data": {
      "text/html": [
       "<div>\n",
       "<style scoped>\n",
       "    .dataframe tbody tr th:only-of-type {\n",
       "        vertical-align: middle;\n",
       "    }\n",
       "\n",
       "    .dataframe tbody tr th {\n",
       "        vertical-align: top;\n",
       "    }\n",
       "\n",
       "    .dataframe thead th {\n",
       "        text-align: right;\n",
       "    }\n",
       "</style>\n",
       "<table border=\"1\" class=\"dataframe\">\n",
       "  <thead>\n",
       "    <tr style=\"text-align: right;\">\n",
       "      <th></th>\n",
       "      <th>movie_title</th>\n",
       "      <th>rating</th>\n",
       "      <th>MPAA</th>\n",
       "      <th>genre</th>\n",
       "      <th>release_date</th>\n",
       "      <th>budget</th>\n",
       "      <th>opening_weekend_usa</th>\n",
       "      <th>gross_usa</th>\n",
       "      <th>gross_world</th>\n",
       "      <th>runtime</th>\n",
       "      <th>...</th>\n",
       "      <th>title_y</th>\n",
       "      <th>genre_y</th>\n",
       "      <th>title_search</th>\n",
       "      <th>search_fiction_book</th>\n",
       "      <th>author_search</th>\n",
       "      <th>search_fiction_author</th>\n",
       "      <th>book_popularity</th>\n",
       "      <th>author_popularity</th>\n",
       "      <th>log_book_search</th>\n",
       "      <th>log_author_search</th>\n",
       "    </tr>\n",
       "  </thead>\n",
       "  <tbody>\n",
       "    <tr>\n",
       "      <th>0</th>\n",
       "      <td>After We Collided</td>\n",
       "      <td>5.0</td>\n",
       "      <td>R</td>\n",
       "      <td>[Drama, Romance]</td>\n",
       "      <td>2020-10-23</td>\n",
       "      <td>NaN</td>\n",
       "      <td>422899.0</td>\n",
       "      <td>2386483.0</td>\n",
       "      <td>4.799041e+07</td>\n",
       "      <td>105.0</td>\n",
       "      <td>...</td>\n",
       "      <td>NaN</td>\n",
       "      <td>NaN</td>\n",
       "      <td>NaN</td>\n",
       "      <td>NaN</td>\n",
       "      <td>NaN</td>\n",
       "      <td>NaN</td>\n",
       "      <td>NaN</td>\n",
       "      <td>NaN</td>\n",
       "      <td>NaN</td>\n",
       "      <td>NaN</td>\n",
       "    </tr>\n",
       "    <tr>\n",
       "      <th>1</th>\n",
       "      <td>The Godfather</td>\n",
       "      <td>9.2</td>\n",
       "      <td>R</td>\n",
       "      <td>[Crime, Drama]</td>\n",
       "      <td>1972-03-24</td>\n",
       "      <td>6000000.0</td>\n",
       "      <td>302393.0</td>\n",
       "      <td>134966411.0</td>\n",
       "      <td>2.461210e+08</td>\n",
       "      <td>175.0</td>\n",
       "      <td>...</td>\n",
       "      <td>The Godfather</td>\n",
       "      <td>[Crime, Drama]</td>\n",
       "      <td>192.0</td>\n",
       "      <td>728.0</td>\n",
       "      <td>258.0</td>\n",
       "      <td>4550.0</td>\n",
       "      <td>0.26</td>\n",
       "      <td>0.0567</td>\n",
       "      <td>5.257495</td>\n",
       "      <td>5.552960</td>\n",
       "    </tr>\n",
       "    <tr>\n",
       "      <th>2</th>\n",
       "      <td>Harry Potter and the Sorcerer's Stone</td>\n",
       "      <td>7.6</td>\n",
       "      <td>PG</td>\n",
       "      <td>[Adventure, Family, Fantasy]</td>\n",
       "      <td>2001-11-16</td>\n",
       "      <td>125000000.0</td>\n",
       "      <td>90294621.0</td>\n",
       "      <td>318087620.0</td>\n",
       "      <td>1.006918e+09</td>\n",
       "      <td>159.0</td>\n",
       "      <td>...</td>\n",
       "      <td>Harry Potter and the Sorcerer's Stone</td>\n",
       "      <td>[Adventure, Family, Fantasy]</td>\n",
       "      <td>5720.0</td>\n",
       "      <td>31300.0</td>\n",
       "      <td>68600.0</td>\n",
       "      <td>5680000.0</td>\n",
       "      <td>0.18</td>\n",
       "      <td>0.0121</td>\n",
       "      <td>8.651724</td>\n",
       "      <td>11.136048</td>\n",
       "    </tr>\n",
       "    <tr>\n",
       "      <th>3</th>\n",
       "      <td>Harry Potter and the Sorcerer's Stone</td>\n",
       "      <td>7.6</td>\n",
       "      <td>PG</td>\n",
       "      <td>[Adventure, Family, Fantasy]</td>\n",
       "      <td>2001-11-16</td>\n",
       "      <td>125000000.0</td>\n",
       "      <td>90294621.0</td>\n",
       "      <td>318087620.0</td>\n",
       "      <td>1.006918e+09</td>\n",
       "      <td>159.0</td>\n",
       "      <td>...</td>\n",
       "      <td>Harry Potter and the Sorcerer's Stone</td>\n",
       "      <td>[Adventure, Family, Fantasy]</td>\n",
       "      <td>5720.0</td>\n",
       "      <td>31300.0</td>\n",
       "      <td>68600.0</td>\n",
       "      <td>5680000.0</td>\n",
       "      <td>0.18</td>\n",
       "      <td>0.0121</td>\n",
       "      <td>8.651724</td>\n",
       "      <td>11.136048</td>\n",
       "    </tr>\n",
       "    <tr>\n",
       "      <th>4</th>\n",
       "      <td>Little Women</td>\n",
       "      <td>7.8</td>\n",
       "      <td>PG</td>\n",
       "      <td>[Drama, Romance]</td>\n",
       "      <td>2019-12-25</td>\n",
       "      <td>40000000.0</td>\n",
       "      <td>16755310.0</td>\n",
       "      <td>108101214.0</td>\n",
       "      <td>2.166012e+08</td>\n",
       "      <td>135.0</td>\n",
       "      <td>...</td>\n",
       "      <td>Little Women</td>\n",
       "      <td>[Drama, Romance]</td>\n",
       "      <td>214000.0</td>\n",
       "      <td>37500000.0</td>\n",
       "      <td>2060000.0</td>\n",
       "      <td>210000000.0</td>\n",
       "      <td>0.01</td>\n",
       "      <td>0.0098</td>\n",
       "      <td>12.273731</td>\n",
       "      <td>14.538217</td>\n",
       "    </tr>\n",
       "    <tr>\n",
       "      <th>...</th>\n",
       "      <td>...</td>\n",
       "      <td>...</td>\n",
       "      <td>...</td>\n",
       "      <td>...</td>\n",
       "      <td>...</td>\n",
       "      <td>...</td>\n",
       "      <td>...</td>\n",
       "      <td>...</td>\n",
       "      <td>...</td>\n",
       "      <td>...</td>\n",
       "      <td>...</td>\n",
       "      <td>...</td>\n",
       "      <td>...</td>\n",
       "      <td>...</td>\n",
       "      <td>...</td>\n",
       "      <td>...</td>\n",
       "      <td>...</td>\n",
       "      <td>...</td>\n",
       "      <td>...</td>\n",
       "      <td>...</td>\n",
       "      <td>...</td>\n",
       "    </tr>\n",
       "    <tr>\n",
       "      <th>1518</th>\n",
       "      <td>The Wayward Bus</td>\n",
       "      <td>6.7</td>\n",
       "      <td>Not</td>\n",
       "      <td>[Drama]</td>\n",
       "      <td>1957-05-27</td>\n",
       "      <td>NaN</td>\n",
       "      <td>NaN</td>\n",
       "      <td>32634196.0</td>\n",
       "      <td>NaN</td>\n",
       "      <td>87.0</td>\n",
       "      <td>...</td>\n",
       "      <td>NaN</td>\n",
       "      <td>NaN</td>\n",
       "      <td>NaN</td>\n",
       "      <td>NaN</td>\n",
       "      <td>NaN</td>\n",
       "      <td>NaN</td>\n",
       "      <td>NaN</td>\n",
       "      <td>NaN</td>\n",
       "      <td>NaN</td>\n",
       "      <td>NaN</td>\n",
       "    </tr>\n",
       "    <tr>\n",
       "      <th>1519</th>\n",
       "      <td>From the Terrace</td>\n",
       "      <td>6.7</td>\n",
       "      <td>Passed</td>\n",
       "      <td>[Drama, Romance]</td>\n",
       "      <td>1960-09-09</td>\n",
       "      <td>NaN</td>\n",
       "      <td>NaN</td>\n",
       "      <td>11336000.0</td>\n",
       "      <td>NaN</td>\n",
       "      <td>149.0</td>\n",
       "      <td>...</td>\n",
       "      <td>NaN</td>\n",
       "      <td>NaN</td>\n",
       "      <td>NaN</td>\n",
       "      <td>NaN</td>\n",
       "      <td>NaN</td>\n",
       "      <td>NaN</td>\n",
       "      <td>NaN</td>\n",
       "      <td>NaN</td>\n",
       "      <td>NaN</td>\n",
       "      <td>NaN</td>\n",
       "    </tr>\n",
       "    <tr>\n",
       "      <th>1520</th>\n",
       "      <td>Anne of Green Gables</td>\n",
       "      <td>7.0</td>\n",
       "      <td>Passed</td>\n",
       "      <td>[Comedy, Drama, Family]</td>\n",
       "      <td>1934-11-23</td>\n",
       "      <td>226000.0</td>\n",
       "      <td>NaN</td>\n",
       "      <td>32634196.0</td>\n",
       "      <td>NaN</td>\n",
       "      <td>78.0</td>\n",
       "      <td>...</td>\n",
       "      <td>Anne of Green Gables</td>\n",
       "      <td>[Comedy, Drama, Family]</td>\n",
       "      <td>6820000.0</td>\n",
       "      <td>54900000.0</td>\n",
       "      <td>27900000.0</td>\n",
       "      <td>737000000.0</td>\n",
       "      <td>0.12</td>\n",
       "      <td>0.0379</td>\n",
       "      <td>15.735370</td>\n",
       "      <td>17.144137</td>\n",
       "    </tr>\n",
       "    <tr>\n",
       "      <th>1521</th>\n",
       "      <td>Odds Against Tomorrow</td>\n",
       "      <td>7.4</td>\n",
       "      <td>Approved</td>\n",
       "      <td>[Crime, Drama, Thriller]</td>\n",
       "      <td>1959-11-01</td>\n",
       "      <td>NaN</td>\n",
       "      <td>NaN</td>\n",
       "      <td>31384828.0</td>\n",
       "      <td>NaN</td>\n",
       "      <td>100.0</td>\n",
       "      <td>...</td>\n",
       "      <td>NaN</td>\n",
       "      <td>NaN</td>\n",
       "      <td>NaN</td>\n",
       "      <td>NaN</td>\n",
       "      <td>NaN</td>\n",
       "      <td>NaN</td>\n",
       "      <td>NaN</td>\n",
       "      <td>NaN</td>\n",
       "      <td>NaN</td>\n",
       "      <td>NaN</td>\n",
       "    </tr>\n",
       "    <tr>\n",
       "      <th>1522</th>\n",
       "      <td>Once Is Not Enough</td>\n",
       "      <td>4.6</td>\n",
       "      <td>R</td>\n",
       "      <td>[Drama, Romance]</td>\n",
       "      <td>1975-06-20</td>\n",
       "      <td>NaN</td>\n",
       "      <td>NaN</td>\n",
       "      <td>15700729.0</td>\n",
       "      <td>1.570073e+07</td>\n",
       "      <td>121.0</td>\n",
       "      <td>...</td>\n",
       "      <td>NaN</td>\n",
       "      <td>NaN</td>\n",
       "      <td>NaN</td>\n",
       "      <td>NaN</td>\n",
       "      <td>NaN</td>\n",
       "      <td>NaN</td>\n",
       "      <td>NaN</td>\n",
       "      <td>NaN</td>\n",
       "      <td>NaN</td>\n",
       "      <td>NaN</td>\n",
       "    </tr>\n",
       "  </tbody>\n",
       "</table>\n",
       "<p>1523 rows × 42 columns</p>\n",
       "</div>"
      ],
      "text/plain": [
       "                                movie_title  rating      MPAA  \\\n",
       "0                         After We Collided     5.0         R   \n",
       "1                             The Godfather     9.2         R   \n",
       "2     Harry Potter and the Sorcerer's Stone     7.6        PG   \n",
       "3     Harry Potter and the Sorcerer's Stone     7.6        PG   \n",
       "4                              Little Women     7.8        PG   \n",
       "...                                     ...     ...       ...   \n",
       "1518                        The Wayward Bus     6.7       Not   \n",
       "1519                       From the Terrace     6.7    Passed   \n",
       "1520                   Anne of Green Gables     7.0    Passed   \n",
       "1521                  Odds Against Tomorrow     7.4  Approved   \n",
       "1522                     Once Is Not Enough     4.6         R   \n",
       "\n",
       "                             genre release_date       budget  \\\n",
       "0                 [Drama, Romance]   2020-10-23          NaN   \n",
       "1                   [Crime, Drama]   1972-03-24    6000000.0   \n",
       "2     [Adventure, Family, Fantasy]   2001-11-16  125000000.0   \n",
       "3     [Adventure, Family, Fantasy]   2001-11-16  125000000.0   \n",
       "4                 [Drama, Romance]   2019-12-25   40000000.0   \n",
       "...                            ...          ...          ...   \n",
       "1518                       [Drama]   1957-05-27          NaN   \n",
       "1519              [Drama, Romance]   1960-09-09          NaN   \n",
       "1520       [Comedy, Drama, Family]   1934-11-23     226000.0   \n",
       "1521      [Crime, Drama, Thriller]   1959-11-01          NaN   \n",
       "1522              [Drama, Romance]   1975-06-20          NaN   \n",
       "\n",
       "      opening_weekend_usa    gross_usa   gross_world  runtime  ...  \\\n",
       "0                422899.0    2386483.0  4.799041e+07    105.0  ...   \n",
       "1                302393.0  134966411.0  2.461210e+08    175.0  ...   \n",
       "2              90294621.0  318087620.0  1.006918e+09    159.0  ...   \n",
       "3              90294621.0  318087620.0  1.006918e+09    159.0  ...   \n",
       "4              16755310.0  108101214.0  2.166012e+08    135.0  ...   \n",
       "...                   ...          ...           ...      ...  ...   \n",
       "1518                  NaN   32634196.0           NaN     87.0  ...   \n",
       "1519                  NaN   11336000.0           NaN    149.0  ...   \n",
       "1520                  NaN   32634196.0           NaN     78.0  ...   \n",
       "1521                  NaN   31384828.0           NaN    100.0  ...   \n",
       "1522                  NaN   15700729.0  1.570073e+07    121.0  ...   \n",
       "\n",
       "                                    title_y                       genre_y  \\\n",
       "0                                       NaN                           NaN   \n",
       "1                             The Godfather                [Crime, Drama]   \n",
       "2     Harry Potter and the Sorcerer's Stone  [Adventure, Family, Fantasy]   \n",
       "3     Harry Potter and the Sorcerer's Stone  [Adventure, Family, Fantasy]   \n",
       "4                              Little Women              [Drama, Romance]   \n",
       "...                                     ...                           ...   \n",
       "1518                                    NaN                           NaN   \n",
       "1519                                    NaN                           NaN   \n",
       "1520                   Anne of Green Gables       [Comedy, Drama, Family]   \n",
       "1521                                    NaN                           NaN   \n",
       "1522                                    NaN                           NaN   \n",
       "\n",
       "     title_search search_fiction_book author_search search_fiction_author  \\\n",
       "0             NaN                 NaN           NaN                   NaN   \n",
       "1           192.0               728.0         258.0                4550.0   \n",
       "2          5720.0             31300.0       68600.0             5680000.0   \n",
       "3          5720.0             31300.0       68600.0             5680000.0   \n",
       "4        214000.0          37500000.0     2060000.0           210000000.0   \n",
       "...           ...                 ...           ...                   ...   \n",
       "1518          NaN                 NaN           NaN                   NaN   \n",
       "1519          NaN                 NaN           NaN                   NaN   \n",
       "1520    6820000.0          54900000.0    27900000.0           737000000.0   \n",
       "1521          NaN                 NaN           NaN                   NaN   \n",
       "1522          NaN                 NaN           NaN                   NaN   \n",
       "\n",
       "     book_popularity  author_popularity  log_book_search  log_author_search  \n",
       "0                NaN                NaN              NaN                NaN  \n",
       "1               0.26             0.0567         5.257495           5.552960  \n",
       "2               0.18             0.0121         8.651724          11.136048  \n",
       "3               0.18             0.0121         8.651724          11.136048  \n",
       "4               0.01             0.0098        12.273731          14.538217  \n",
       "...              ...                ...              ...                ...  \n",
       "1518             NaN                NaN              NaN                NaN  \n",
       "1519             NaN                NaN              NaN                NaN  \n",
       "1520            0.12             0.0379        15.735370          17.144137  \n",
       "1521             NaN                NaN              NaN                NaN  \n",
       "1522             NaN                NaN              NaN                NaN  \n",
       "\n",
       "[1523 rows x 42 columns]"
      ]
     },
     "execution_count": 57,
     "metadata": {},
     "output_type": "execute_result"
    }
   ],
   "source": [
    "all_da_df"
   ]
  },
  {
   "cell_type": "code",
   "execution_count": 58,
   "metadata": {},
   "outputs": [],
   "source": [
    "all_da_df.drop_duplicates(subset=['movie_title','release_date'],inplace=True)"
   ]
  },
  {
   "cell_type": "code",
   "execution_count": 59,
   "metadata": {},
   "outputs": [
    {
     "data": {
      "text/plain": [
       "(1135, 42)"
      ]
     },
     "execution_count": 59,
     "metadata": {},
     "output_type": "execute_result"
    }
   ],
   "source": [
    "all_da_df.shape"
   ]
  },
  {
   "cell_type": "code",
   "execution_count": 60,
   "metadata": {},
   "outputs": [
    {
     "data": {
      "text/plain": [
       "Index(['movie_title', 'rating', 'MPAA', 'genre', 'release_date', 'budget',\n",
       "       'opening_weekend_usa', 'gross_usa', 'gross_world', 'runtime',\n",
       "       'director', 'writer', 'actor', 'distributor', 'language', 'country',\n",
       "       'author', 'rating_value_b', 'rating_count_b', 'review_count_b', 'page',\n",
       "       'publish_year', 'title_x', 'book_popularity_x', 'author_popularity_x',\n",
       "       'release_year', 'count_a', 'release_month', 'dow', 'film_count_d',\n",
       "       'avg_rating_d', 'avg_gross_d', 'title_y', 'genre_y', 'title_search',\n",
       "       'search_fiction_book', 'author_search', 'search_fiction_author',\n",
       "       'book_popularity', 'author_popularity', 'log_book_search',\n",
       "       'log_author_search'],\n",
       "      dtype='object')"
      ]
     },
     "execution_count": 60,
     "metadata": {},
     "output_type": "execute_result"
    }
   ],
   "source": [
    "all_da_df.columns"
   ]
  },
  {
   "cell_type": "code",
   "execution_count": 61,
   "metadata": {},
   "outputs": [],
   "source": [
    "all_df = all_da_df"
   ]
  },
  {
   "cell_type": "code",
   "execution_count": 62,
   "metadata": {},
   "outputs": [
    {
     "name": "stdout",
     "output_type": "stream",
     "text": [
      "<class 'pandas.core.frame.DataFrame'>\n",
      "Int64Index: 1135 entries, 0 to 1522\n",
      "Data columns (total 42 columns):\n",
      " #   Column                 Non-Null Count  Dtype         \n",
      "---  ------                 --------------  -----         \n",
      " 0   movie_title            1135 non-null   object        \n",
      " 1   rating                 1135 non-null   float64       \n",
      " 2   MPAA                   1135 non-null   object        \n",
      " 3   genre                  1135 non-null   object        \n",
      " 4   release_date           1135 non-null   datetime64[ns]\n",
      " 5   budget                 830 non-null    float64       \n",
      " 6   opening_weekend_usa    713 non-null    float64       \n",
      " 7   gross_usa              1135 non-null   float64       \n",
      " 8   gross_world            842 non-null    float64       \n",
      " 9   runtime                1124 non-null   float64       \n",
      " 10  director               1135 non-null   object        \n",
      " 11  writer                 1135 non-null   object        \n",
      " 12  actor                  1135 non-null   object        \n",
      " 13  distributor            1133 non-null   object        \n",
      " 14  language               1135 non-null   object        \n",
      " 15  country                1135 non-null   object        \n",
      " 16  author                 1135 non-null   object        \n",
      " 17  rating_value_b         1135 non-null   float64       \n",
      " 18  rating_count_b         1135 non-null   float64       \n",
      " 19  review_count_b         1135 non-null   float64       \n",
      " 20  page                   1106 non-null   float64       \n",
      " 21  publish_year           1135 non-null   float64       \n",
      " 22  title_x                1135 non-null   object        \n",
      " 23  book_popularity_x      1135 non-null   float64       \n",
      " 24  author_popularity_x    1135 non-null   float64       \n",
      " 25  release_year           1135 non-null   int64         \n",
      " 26  count_a                1135 non-null   int64         \n",
      " 27  release_month          1135 non-null   int64         \n",
      " 28  dow                    1135 non-null   int64         \n",
      " 29  film_count_d           1135 non-null   int64         \n",
      " 30  avg_rating_d           1135 non-null   float64       \n",
      " 31  avg_gross_d            1135 non-null   int64         \n",
      " 32  title_y                881 non-null    object        \n",
      " 33  genre_y                881 non-null    object        \n",
      " 34  title_search           881 non-null    float64       \n",
      " 35  search_fiction_book    872 non-null    float64       \n",
      " 36  author_search          881 non-null    float64       \n",
      " 37  search_fiction_author  881 non-null    float64       \n",
      " 38  book_popularity        872 non-null    float64       \n",
      " 39  author_popularity      881 non-null    float64       \n",
      " 40  log_book_search        881 non-null    float64       \n",
      " 41  log_author_search      881 non-null    float64       \n",
      "dtypes: datetime64[ns](1), float64(22), int64(6), object(13)\n",
      "memory usage: 381.3+ KB\n"
     ]
    }
   ],
   "source": [
    "all_df.info()"
   ]
  },
  {
   "cell_type": "code",
   "execution_count": 63,
   "metadata": {},
   "outputs": [
    {
     "data": {
      "text/html": [
       "<div>\n",
       "<style scoped>\n",
       "    .dataframe tbody tr th:only-of-type {\n",
       "        vertical-align: middle;\n",
       "    }\n",
       "\n",
       "    .dataframe tbody tr th {\n",
       "        vertical-align: top;\n",
       "    }\n",
       "\n",
       "    .dataframe thead th {\n",
       "        text-align: right;\n",
       "    }\n",
       "</style>\n",
       "<table border=\"1\" class=\"dataframe\">\n",
       "  <thead>\n",
       "    <tr style=\"text-align: right;\">\n",
       "      <th></th>\n",
       "      <th>movie_title</th>\n",
       "      <th>rating</th>\n",
       "      <th>MPAA</th>\n",
       "      <th>genre</th>\n",
       "      <th>release_date</th>\n",
       "      <th>budget</th>\n",
       "      <th>opening_weekend_usa</th>\n",
       "      <th>gross_usa</th>\n",
       "      <th>gross_world</th>\n",
       "      <th>runtime</th>\n",
       "      <th>...</th>\n",
       "      <th>title_y</th>\n",
       "      <th>genre_y</th>\n",
       "      <th>title_search</th>\n",
       "      <th>search_fiction_book</th>\n",
       "      <th>author_search</th>\n",
       "      <th>search_fiction_author</th>\n",
       "      <th>book_popularity</th>\n",
       "      <th>author_popularity</th>\n",
       "      <th>log_book_search</th>\n",
       "      <th>log_author_search</th>\n",
       "    </tr>\n",
       "  </thead>\n",
       "  <tbody>\n",
       "    <tr>\n",
       "      <th>0</th>\n",
       "      <td>After We Collided</td>\n",
       "      <td>5.0</td>\n",
       "      <td>R</td>\n",
       "      <td>[Drama, Romance]</td>\n",
       "      <td>2020-10-23</td>\n",
       "      <td>NaN</td>\n",
       "      <td>422899.0</td>\n",
       "      <td>2386483.0</td>\n",
       "      <td>47990414.0</td>\n",
       "      <td>105.0</td>\n",
       "      <td>...</td>\n",
       "      <td>NaN</td>\n",
       "      <td>NaN</td>\n",
       "      <td>NaN</td>\n",
       "      <td>NaN</td>\n",
       "      <td>NaN</td>\n",
       "      <td>NaN</td>\n",
       "      <td>NaN</td>\n",
       "      <td>NaN</td>\n",
       "      <td>NaN</td>\n",
       "      <td>NaN</td>\n",
       "    </tr>\n",
       "    <tr>\n",
       "      <th>12</th>\n",
       "      <td>Little Women</td>\n",
       "      <td>7.3</td>\n",
       "      <td>Approved</td>\n",
       "      <td>[Drama, Family, Romance]</td>\n",
       "      <td>1949-04-01</td>\n",
       "      <td>NaN</td>\n",
       "      <td>NaN</td>\n",
       "      <td>7466500.0</td>\n",
       "      <td>12905600.0</td>\n",
       "      <td>122.0</td>\n",
       "      <td>...</td>\n",
       "      <td>NaN</td>\n",
       "      <td>NaN</td>\n",
       "      <td>NaN</td>\n",
       "      <td>NaN</td>\n",
       "      <td>NaN</td>\n",
       "      <td>NaN</td>\n",
       "      <td>NaN</td>\n",
       "      <td>NaN</td>\n",
       "      <td>NaN</td>\n",
       "      <td>NaN</td>\n",
       "    </tr>\n",
       "    <tr>\n",
       "      <th>20</th>\n",
       "      <td>The Invisible Man</td>\n",
       "      <td>7.7</td>\n",
       "      <td>TV-PG</td>\n",
       "      <td>[Horror, Sci-Fi]</td>\n",
       "      <td>1933-11-13</td>\n",
       "      <td>NaN</td>\n",
       "      <td>NaN</td>\n",
       "      <td>27199443.0</td>\n",
       "      <td>27105.0</td>\n",
       "      <td>71.0</td>\n",
       "      <td>...</td>\n",
       "      <td>NaN</td>\n",
       "      <td>NaN</td>\n",
       "      <td>NaN</td>\n",
       "      <td>NaN</td>\n",
       "      <td>NaN</td>\n",
       "      <td>NaN</td>\n",
       "      <td>NaN</td>\n",
       "      <td>NaN</td>\n",
       "      <td>NaN</td>\n",
       "      <td>NaN</td>\n",
       "    </tr>\n",
       "    <tr>\n",
       "      <th>23</th>\n",
       "      <td>The Dry</td>\n",
       "      <td>7.7</td>\n",
       "      <td>1h</td>\n",
       "      <td>[Crime, Drama, Mystery]</td>\n",
       "      <td>2021-01-01</td>\n",
       "      <td>NaN</td>\n",
       "      <td>NaN</td>\n",
       "      <td>27209899.0</td>\n",
       "      <td>5855861.0</td>\n",
       "      <td>117.0</td>\n",
       "      <td>...</td>\n",
       "      <td>NaN</td>\n",
       "      <td>NaN</td>\n",
       "      <td>NaN</td>\n",
       "      <td>NaN</td>\n",
       "      <td>NaN</td>\n",
       "      <td>NaN</td>\n",
       "      <td>NaN</td>\n",
       "      <td>NaN</td>\n",
       "      <td>NaN</td>\n",
       "      <td>NaN</td>\n",
       "    </tr>\n",
       "    <tr>\n",
       "      <th>50</th>\n",
       "      <td>The War with Grandpa</td>\n",
       "      <td>5.5</td>\n",
       "      <td>PG</td>\n",
       "      <td>[Comedy, Drama, Family]</td>\n",
       "      <td>2020-10-09</td>\n",
       "      <td>NaN</td>\n",
       "      <td>3623880.0</td>\n",
       "      <td>19341450.0</td>\n",
       "      <td>34170113.0</td>\n",
       "      <td>94.0</td>\n",
       "      <td>...</td>\n",
       "      <td>NaN</td>\n",
       "      <td>NaN</td>\n",
       "      <td>NaN</td>\n",
       "      <td>NaN</td>\n",
       "      <td>NaN</td>\n",
       "      <td>NaN</td>\n",
       "      <td>NaN</td>\n",
       "      <td>NaN</td>\n",
       "      <td>NaN</td>\n",
       "      <td>NaN</td>\n",
       "    </tr>\n",
       "    <tr>\n",
       "      <th>...</th>\n",
       "      <td>...</td>\n",
       "      <td>...</td>\n",
       "      <td>...</td>\n",
       "      <td>...</td>\n",
       "      <td>...</td>\n",
       "      <td>...</td>\n",
       "      <td>...</td>\n",
       "      <td>...</td>\n",
       "      <td>...</td>\n",
       "      <td>...</td>\n",
       "      <td>...</td>\n",
       "      <td>...</td>\n",
       "      <td>...</td>\n",
       "      <td>...</td>\n",
       "      <td>...</td>\n",
       "      <td>...</td>\n",
       "      <td>...</td>\n",
       "      <td>...</td>\n",
       "      <td>...</td>\n",
       "      <td>...</td>\n",
       "      <td>...</td>\n",
       "    </tr>\n",
       "    <tr>\n",
       "      <th>1513</th>\n",
       "      <td>Island of the Blue Dolphins</td>\n",
       "      <td>6.1</td>\n",
       "      <td>1h</td>\n",
       "      <td>[Adventure, Biography, Drama]</td>\n",
       "      <td>1964-09-10</td>\n",
       "      <td>NaN</td>\n",
       "      <td>NaN</td>\n",
       "      <td>32634196.0</td>\n",
       "      <td>NaN</td>\n",
       "      <td>93.0</td>\n",
       "      <td>...</td>\n",
       "      <td>NaN</td>\n",
       "      <td>NaN</td>\n",
       "      <td>NaN</td>\n",
       "      <td>NaN</td>\n",
       "      <td>NaN</td>\n",
       "      <td>NaN</td>\n",
       "      <td>NaN</td>\n",
       "      <td>NaN</td>\n",
       "      <td>NaN</td>\n",
       "      <td>NaN</td>\n",
       "    </tr>\n",
       "    <tr>\n",
       "      <th>1518</th>\n",
       "      <td>The Wayward Bus</td>\n",
       "      <td>6.7</td>\n",
       "      <td>Not</td>\n",
       "      <td>[Drama]</td>\n",
       "      <td>1957-05-27</td>\n",
       "      <td>NaN</td>\n",
       "      <td>NaN</td>\n",
       "      <td>32634196.0</td>\n",
       "      <td>NaN</td>\n",
       "      <td>87.0</td>\n",
       "      <td>...</td>\n",
       "      <td>NaN</td>\n",
       "      <td>NaN</td>\n",
       "      <td>NaN</td>\n",
       "      <td>NaN</td>\n",
       "      <td>NaN</td>\n",
       "      <td>NaN</td>\n",
       "      <td>NaN</td>\n",
       "      <td>NaN</td>\n",
       "      <td>NaN</td>\n",
       "      <td>NaN</td>\n",
       "    </tr>\n",
       "    <tr>\n",
       "      <th>1519</th>\n",
       "      <td>From the Terrace</td>\n",
       "      <td>6.7</td>\n",
       "      <td>Passed</td>\n",
       "      <td>[Drama, Romance]</td>\n",
       "      <td>1960-09-09</td>\n",
       "      <td>NaN</td>\n",
       "      <td>NaN</td>\n",
       "      <td>11336000.0</td>\n",
       "      <td>NaN</td>\n",
       "      <td>149.0</td>\n",
       "      <td>...</td>\n",
       "      <td>NaN</td>\n",
       "      <td>NaN</td>\n",
       "      <td>NaN</td>\n",
       "      <td>NaN</td>\n",
       "      <td>NaN</td>\n",
       "      <td>NaN</td>\n",
       "      <td>NaN</td>\n",
       "      <td>NaN</td>\n",
       "      <td>NaN</td>\n",
       "      <td>NaN</td>\n",
       "    </tr>\n",
       "    <tr>\n",
       "      <th>1521</th>\n",
       "      <td>Odds Against Tomorrow</td>\n",
       "      <td>7.4</td>\n",
       "      <td>Approved</td>\n",
       "      <td>[Crime, Drama, Thriller]</td>\n",
       "      <td>1959-11-01</td>\n",
       "      <td>NaN</td>\n",
       "      <td>NaN</td>\n",
       "      <td>31384828.0</td>\n",
       "      <td>NaN</td>\n",
       "      <td>100.0</td>\n",
       "      <td>...</td>\n",
       "      <td>NaN</td>\n",
       "      <td>NaN</td>\n",
       "      <td>NaN</td>\n",
       "      <td>NaN</td>\n",
       "      <td>NaN</td>\n",
       "      <td>NaN</td>\n",
       "      <td>NaN</td>\n",
       "      <td>NaN</td>\n",
       "      <td>NaN</td>\n",
       "      <td>NaN</td>\n",
       "    </tr>\n",
       "    <tr>\n",
       "      <th>1522</th>\n",
       "      <td>Once Is Not Enough</td>\n",
       "      <td>4.6</td>\n",
       "      <td>R</td>\n",
       "      <td>[Drama, Romance]</td>\n",
       "      <td>1975-06-20</td>\n",
       "      <td>NaN</td>\n",
       "      <td>NaN</td>\n",
       "      <td>15700729.0</td>\n",
       "      <td>15700729.0</td>\n",
       "      <td>121.0</td>\n",
       "      <td>...</td>\n",
       "      <td>NaN</td>\n",
       "      <td>NaN</td>\n",
       "      <td>NaN</td>\n",
       "      <td>NaN</td>\n",
       "      <td>NaN</td>\n",
       "      <td>NaN</td>\n",
       "      <td>NaN</td>\n",
       "      <td>NaN</td>\n",
       "      <td>NaN</td>\n",
       "      <td>NaN</td>\n",
       "    </tr>\n",
       "  </tbody>\n",
       "</table>\n",
       "<p>263 rows × 42 columns</p>\n",
       "</div>"
      ],
      "text/plain": [
       "                      movie_title  rating      MPAA  \\\n",
       "0               After We Collided     5.0         R   \n",
       "12                   Little Women     7.3  Approved   \n",
       "20              The Invisible Man     7.7     TV-PG   \n",
       "23                        The Dry     7.7        1h   \n",
       "50           The War with Grandpa     5.5        PG   \n",
       "...                           ...     ...       ...   \n",
       "1513  Island of the Blue Dolphins     6.1        1h   \n",
       "1518              The Wayward Bus     6.7       Not   \n",
       "1519             From the Terrace     6.7    Passed   \n",
       "1521        Odds Against Tomorrow     7.4  Approved   \n",
       "1522           Once Is Not Enough     4.6         R   \n",
       "\n",
       "                              genre release_date  budget  opening_weekend_usa  \\\n",
       "0                  [Drama, Romance]   2020-10-23     NaN             422899.0   \n",
       "12         [Drama, Family, Romance]   1949-04-01     NaN                  NaN   \n",
       "20                 [Horror, Sci-Fi]   1933-11-13     NaN                  NaN   \n",
       "23          [Crime, Drama, Mystery]   2021-01-01     NaN                  NaN   \n",
       "50          [Comedy, Drama, Family]   2020-10-09     NaN            3623880.0   \n",
       "...                             ...          ...     ...                  ...   \n",
       "1513  [Adventure, Biography, Drama]   1964-09-10     NaN                  NaN   \n",
       "1518                        [Drama]   1957-05-27     NaN                  NaN   \n",
       "1519               [Drama, Romance]   1960-09-09     NaN                  NaN   \n",
       "1521       [Crime, Drama, Thriller]   1959-11-01     NaN                  NaN   \n",
       "1522               [Drama, Romance]   1975-06-20     NaN                  NaN   \n",
       "\n",
       "       gross_usa  gross_world  runtime  ... title_y genre_y title_search  \\\n",
       "0      2386483.0   47990414.0    105.0  ...     NaN     NaN          NaN   \n",
       "12     7466500.0   12905600.0    122.0  ...     NaN     NaN          NaN   \n",
       "20    27199443.0      27105.0     71.0  ...     NaN     NaN          NaN   \n",
       "23    27209899.0    5855861.0    117.0  ...     NaN     NaN          NaN   \n",
       "50    19341450.0   34170113.0     94.0  ...     NaN     NaN          NaN   \n",
       "...          ...          ...      ...  ...     ...     ...          ...   \n",
       "1513  32634196.0          NaN     93.0  ...     NaN     NaN          NaN   \n",
       "1518  32634196.0          NaN     87.0  ...     NaN     NaN          NaN   \n",
       "1519  11336000.0          NaN    149.0  ...     NaN     NaN          NaN   \n",
       "1521  31384828.0          NaN    100.0  ...     NaN     NaN          NaN   \n",
       "1522  15700729.0   15700729.0    121.0  ...     NaN     NaN          NaN   \n",
       "\n",
       "     search_fiction_book author_search search_fiction_author book_popularity  \\\n",
       "0                    NaN           NaN                   NaN             NaN   \n",
       "12                   NaN           NaN                   NaN             NaN   \n",
       "20                   NaN           NaN                   NaN             NaN   \n",
       "23                   NaN           NaN                   NaN             NaN   \n",
       "50                   NaN           NaN                   NaN             NaN   \n",
       "...                  ...           ...                   ...             ...   \n",
       "1513                 NaN           NaN                   NaN             NaN   \n",
       "1518                 NaN           NaN                   NaN             NaN   \n",
       "1519                 NaN           NaN                   NaN             NaN   \n",
       "1521                 NaN           NaN                   NaN             NaN   \n",
       "1522                 NaN           NaN                   NaN             NaN   \n",
       "\n",
       "      author_popularity  log_book_search  log_author_search  \n",
       "0                   NaN              NaN                NaN  \n",
       "12                  NaN              NaN                NaN  \n",
       "20                  NaN              NaN                NaN  \n",
       "23                  NaN              NaN                NaN  \n",
       "50                  NaN              NaN                NaN  \n",
       "...                 ...              ...                ...  \n",
       "1513                NaN              NaN                NaN  \n",
       "1518                NaN              NaN                NaN  \n",
       "1519                NaN              NaN                NaN  \n",
       "1521                NaN              NaN                NaN  \n",
       "1522                NaN              NaN                NaN  \n",
       "\n",
       "[263 rows x 42 columns]"
      ]
     },
     "execution_count": 63,
     "metadata": {},
     "output_type": "execute_result"
    }
   ],
   "source": [
    "all_df[all_df.search_fiction_book.isna() == True]"
   ]
  },
  {
   "cell_type": "code",
   "execution_count": 64,
   "metadata": {},
   "outputs": [],
   "source": [
    "# Fill up the four missing values\n",
    "all_df.loc[55,'search_fiction_book'] = 29600\n",
    "all_df.loc[128,'search_fiction_book'] = 44200\n",
    "all_df.loc[706,'search_fiction_book'] = 26200\n",
    "all_df.loc[824,'search_fiction_book'] = 29200\n",
    "all_df.loc[919,'search_fiction_book'] = 238000\n",
    "\n",
    "all_df.loc[1357,'search_fiction_book'] = 61300\n",
    "all_df.loc[1404,'search_fiction_book'] = 29200\n",
    "all_df.loc[1445,'search_fiction_book'] = 44100"
   ]
  },
  {
   "cell_type": "code",
   "execution_count": null,
   "metadata": {},
   "outputs": [],
   "source": []
  },
  {
   "cell_type": "code",
   "execution_count": 65,
   "metadata": {},
   "outputs": [],
   "source": [
    "# Re-evaluate book_popularity"
   ]
  },
  {
   "cell_type": "code",
   "execution_count": 66,
   "metadata": {},
   "outputs": [],
   "source": [
    "all_df['book_popularity_test'] = all_df['title_search'] / all_df['search_fiction_book']"
   ]
  },
  {
   "cell_type": "code",
   "execution_count": 67,
   "metadata": {},
   "outputs": [
    {
     "data": {
      "text/plain": [
       "<AxesSubplot:>"
      ]
     },
     "execution_count": 67,
     "metadata": {},
     "output_type": "execute_result"
    },
    {
     "data": {
      "image/png": "[encoded data removed]",
      "text/plain": [
       "<Figure size 432x288 with 1 Axes>"
      ]
     },
     "metadata": {
      "needs_background": "light"
     },
     "output_type": "display_data"
    }
   ],
   "source": [
    "# log plot distribution looks ok\n",
    "np.log(all_df['book_popularity_test']).hist()"
   ]
  },
  {
   "cell_type": "code",
   "execution_count": 68,
   "metadata": {},
   "outputs": [],
   "source": [
    "all_df['log_book_popularity'] = np.log(all_df['book_popularity_test'])"
   ]
  },
  {
   "cell_type": "code",
   "execution_count": 69,
   "metadata": {},
   "outputs": [],
   "source": [
    "# Same for author populatiry\n",
    "all_df['author_popularity_test'] = all_df['author_search'] / all_df['search_fiction_author']"
   ]
  },
  {
   "cell_type": "code",
   "execution_count": 70,
   "metadata": {},
   "outputs": [
    {
     "data": {
      "text/plain": [
       "<AxesSubplot:>"
      ]
     },
     "execution_count": 70,
     "metadata": {},
     "output_type": "execute_result"
    },
    {
     "data": {
      "image/png": "[encoded data removed]",
      "text/plain": [
       "<Figure size 432x288 with 1 Axes>"
      ]
     },
     "metadata": {
      "needs_background": "light"
     },
     "output_type": "display_data"
    }
   ],
   "source": [
    "np.log(all_df['author_popularity_test']).hist()"
   ]
  },
  {
   "cell_type": "code",
   "execution_count": 71,
   "metadata": {},
   "outputs": [],
   "source": [
    "all_df['log_author_popularity'] = np.log(all_df['author_popularity_test'])"
   ]
  },
  {
   "cell_type": "code",
   "execution_count": 72,
   "metadata": {},
   "outputs": [
    {
     "data": {
      "text/plain": [
       "(1135, 46)"
      ]
     },
     "execution_count": 72,
     "metadata": {},
     "output_type": "execute_result"
    }
   ],
   "source": [
    "all_df.shape"
   ]
  },
  {
   "cell_type": "code",
   "execution_count": 73,
   "metadata": {},
   "outputs": [],
   "source": [
    "all_df.to_pickle('../dump/complete_data')"
   ]
  },
  {
   "cell_type": "code",
   "execution_count": null,
   "metadata": {},
   "outputs": [],
   "source": []
  },
  {
   "cell_type": "markdown",
   "metadata": {},
   "source": [
    "## 3. Simple EDA"
   ]
  },
  {
   "cell_type": "code",
   "execution_count": 74,
   "metadata": {},
   "outputs": [
    {
     "data": {
      "text/html": [
       "<div>\n",
       "<style scoped>\n",
       "    .dataframe tbody tr th:only-of-type {\n",
       "        vertical-align: middle;\n",
       "    }\n",
       "\n",
       "    .dataframe tbody tr th {\n",
       "        vertical-align: top;\n",
       "    }\n",
       "\n",
       "    .dataframe thead th {\n",
       "        text-align: right;\n",
       "    }\n",
       "</style>\n",
       "<table border=\"1\" class=\"dataframe\">\n",
       "  <thead>\n",
       "    <tr style=\"text-align: right;\">\n",
       "      <th></th>\n",
       "      <th>rating</th>\n",
       "      <th>budget</th>\n",
       "      <th>opening_weekend_usa</th>\n",
       "      <th>gross_usa</th>\n",
       "      <th>gross_world</th>\n",
       "      <th>runtime</th>\n",
       "      <th>rating_value_b</th>\n",
       "      <th>rating_count_b</th>\n",
       "      <th>review_count_b</th>\n",
       "      <th>page</th>\n",
       "      <th>...</th>\n",
       "      <th>author_search</th>\n",
       "      <th>search_fiction_author</th>\n",
       "      <th>book_popularity</th>\n",
       "      <th>author_popularity</th>\n",
       "      <th>log_book_search</th>\n",
       "      <th>log_author_search</th>\n",
       "      <th>book_popularity_test</th>\n",
       "      <th>log_book_popularity</th>\n",
       "      <th>author_popularity_test</th>\n",
       "      <th>log_author_popularity</th>\n",
       "    </tr>\n",
       "  </thead>\n",
       "  <tbody>\n",
       "    <tr>\n",
       "      <th>rating</th>\n",
       "      <td>1.000000</td>\n",
       "      <td>-0.063073</td>\n",
       "      <td>0.077431</td>\n",
       "      <td>0.225434</td>\n",
       "      <td>0.199837</td>\n",
       "      <td>0.272943</td>\n",
       "      <td>0.228420</td>\n",
       "      <td>0.115617</td>\n",
       "      <td>0.119337</td>\n",
       "      <td>0.029876</td>\n",
       "      <td>...</td>\n",
       "      <td>0.017086</td>\n",
       "      <td>0.249235</td>\n",
       "      <td>0.023629</td>\n",
       "      <td>-0.052623</td>\n",
       "      <td>0.193656</td>\n",
       "      <td>0.105211</td>\n",
       "      <td>0.012689</td>\n",
       "      <td>0.091055</td>\n",
       "      <td>-0.052626</td>\n",
       "      <td>0.029491</td>\n",
       "    </tr>\n",
       "    <tr>\n",
       "      <th>budget</th>\n",
       "      <td>-0.063073</td>\n",
       "      <td>1.000000</td>\n",
       "      <td>0.625747</td>\n",
       "      <td>0.555791</td>\n",
       "      <td>0.671365</td>\n",
       "      <td>0.166458</td>\n",
       "      <td>0.150978</td>\n",
       "      <td>0.285879</td>\n",
       "      <td>0.241206</td>\n",
       "      <td>0.088296</td>\n",
       "      <td>...</td>\n",
       "      <td>-0.078074</td>\n",
       "      <td>-0.325793</td>\n",
       "      <td>0.004907</td>\n",
       "      <td>-0.025467</td>\n",
       "      <td>-0.122364</td>\n",
       "      <td>-0.102243</td>\n",
       "      <td>-0.027229</td>\n",
       "      <td>0.017641</td>\n",
       "      <td>-0.025467</td>\n",
       "      <td>-0.161562</td>\n",
       "    </tr>\n",
       "    <tr>\n",
       "      <th>opening_weekend_usa</th>\n",
       "      <td>0.077431</td>\n",
       "      <td>0.625747</td>\n",
       "      <td>1.000000</td>\n",
       "      <td>0.845860</td>\n",
       "      <td>0.852947</td>\n",
       "      <td>0.162687</td>\n",
       "      <td>0.202666</td>\n",
       "      <td>0.524430</td>\n",
       "      <td>0.447139</td>\n",
       "      <td>0.119929</td>\n",
       "      <td>...</td>\n",
       "      <td>0.051499</td>\n",
       "      <td>0.002917</td>\n",
       "      <td>0.054716</td>\n",
       "      <td>0.107244</td>\n",
       "      <td>0.224825</td>\n",
       "      <td>0.209465</td>\n",
       "      <td>0.061033</td>\n",
       "      <td>0.056855</td>\n",
       "      <td>0.107242</td>\n",
       "      <td>-0.014309</td>\n",
       "    </tr>\n",
       "    <tr>\n",
       "      <th>gross_usa</th>\n",
       "      <td>0.225434</td>\n",
       "      <td>0.555791</td>\n",
       "      <td>0.845860</td>\n",
       "      <td>1.000000</td>\n",
       "      <td>0.925121</td>\n",
       "      <td>0.222852</td>\n",
       "      <td>0.174291</td>\n",
       "      <td>0.403204</td>\n",
       "      <td>0.337226</td>\n",
       "      <td>0.099477</td>\n",
       "      <td>...</td>\n",
       "      <td>-0.012094</td>\n",
       "      <td>-0.076215</td>\n",
       "      <td>0.054662</td>\n",
       "      <td>0.036373</td>\n",
       "      <td>0.036528</td>\n",
       "      <td>0.022986</td>\n",
       "      <td>0.005048</td>\n",
       "      <td>0.092941</td>\n",
       "      <td>0.036369</td>\n",
       "      <td>-0.012868</td>\n",
       "    </tr>\n",
       "    <tr>\n",
       "      <th>gross_world</th>\n",
       "      <td>0.199837</td>\n",
       "      <td>0.671365</td>\n",
       "      <td>0.852947</td>\n",
       "      <td>0.925121</td>\n",
       "      <td>1.000000</td>\n",
       "      <td>0.257278</td>\n",
       "      <td>0.222423</td>\n",
       "      <td>0.463302</td>\n",
       "      <td>0.384959</td>\n",
       "      <td>0.120449</td>\n",
       "      <td>...</td>\n",
       "      <td>0.013268</td>\n",
       "      <td>-0.073085</td>\n",
       "      <td>0.043603</td>\n",
       "      <td>0.077638</td>\n",
       "      <td>0.110596</td>\n",
       "      <td>0.105643</td>\n",
       "      <td>0.050290</td>\n",
       "      <td>0.083045</td>\n",
       "      <td>0.077634</td>\n",
       "      <td>-0.026242</td>\n",
       "    </tr>\n",
       "    <tr>\n",
       "      <th>runtime</th>\n",
       "      <td>0.272943</td>\n",
       "      <td>0.166458</td>\n",
       "      <td>0.162687</td>\n",
       "      <td>0.222852</td>\n",
       "      <td>0.257278</td>\n",
       "      <td>1.000000</td>\n",
       "      <td>0.186103</td>\n",
       "      <td>0.140060</td>\n",
       "      <td>0.131281</td>\n",
       "      <td>0.339467</td>\n",
       "      <td>...</td>\n",
       "      <td>-0.020891</td>\n",
       "      <td>-0.016835</td>\n",
       "      <td>0.007481</td>\n",
       "      <td>0.014893</td>\n",
       "      <td>0.009130</td>\n",
       "      <td>-0.006777</td>\n",
       "      <td>-0.023911</td>\n",
       "      <td>0.031851</td>\n",
       "      <td>0.014891</td>\n",
       "      <td>0.070889</td>\n",
       "    </tr>\n",
       "    <tr>\n",
       "      <th>rating_value_b</th>\n",
       "      <td>0.228420</td>\n",
       "      <td>0.150978</td>\n",
       "      <td>0.202666</td>\n",
       "      <td>0.174291</td>\n",
       "      <td>0.222423</td>\n",
       "      <td>0.186103</td>\n",
       "      <td>1.000000</td>\n",
       "      <td>0.193470</td>\n",
       "      <td>0.203491</td>\n",
       "      <td>0.191211</td>\n",
       "      <td>...</td>\n",
       "      <td>-0.011524</td>\n",
       "      <td>-0.044241</td>\n",
       "      <td>0.030999</td>\n",
       "      <td>0.005268</td>\n",
       "      <td>0.003547</td>\n",
       "      <td>-0.020890</td>\n",
       "      <td>0.018327</td>\n",
       "      <td>0.102459</td>\n",
       "      <td>0.005271</td>\n",
       "      <td>0.055994</td>\n",
       "    </tr>\n",
       "    <tr>\n",
       "      <th>rating_count_b</th>\n",
       "      <td>0.115617</td>\n",
       "      <td>0.285879</td>\n",
       "      <td>0.524430</td>\n",
       "      <td>0.403204</td>\n",
       "      <td>0.463302</td>\n",
       "      <td>0.140060</td>\n",
       "      <td>0.193470</td>\n",
       "      <td>1.000000</td>\n",
       "      <td>0.869757</td>\n",
       "      <td>0.127277</td>\n",
       "      <td>...</td>\n",
       "      <td>0.028047</td>\n",
       "      <td>-0.023825</td>\n",
       "      <td>0.007516</td>\n",
       "      <td>0.127954</td>\n",
       "      <td>0.127041</td>\n",
       "      <td>0.101197</td>\n",
       "      <td>-0.012761</td>\n",
       "      <td>0.099844</td>\n",
       "      <td>0.127952</td>\n",
       "      <td>0.011643</td>\n",
       "    </tr>\n",
       "    <tr>\n",
       "      <th>review_count_b</th>\n",
       "      <td>0.119337</td>\n",
       "      <td>0.241206</td>\n",
       "      <td>0.447139</td>\n",
       "      <td>0.337226</td>\n",
       "      <td>0.384959</td>\n",
       "      <td>0.131281</td>\n",
       "      <td>0.203491</td>\n",
       "      <td>0.869757</td>\n",
       "      <td>1.000000</td>\n",
       "      <td>0.131830</td>\n",
       "      <td>...</td>\n",
       "      <td>0.054342</td>\n",
       "      <td>-0.021747</td>\n",
       "      <td>-0.016583</td>\n",
       "      <td>0.195648</td>\n",
       "      <td>0.167436</td>\n",
       "      <td>0.131180</td>\n",
       "      <td>-0.020316</td>\n",
       "      <td>0.000106</td>\n",
       "      <td>0.195645</td>\n",
       "      <td>-0.042591</td>\n",
       "    </tr>\n",
       "    <tr>\n",
       "      <th>page</th>\n",
       "      <td>0.029876</td>\n",
       "      <td>0.088296</td>\n",
       "      <td>0.119929</td>\n",
       "      <td>0.099477</td>\n",
       "      <td>0.120449</td>\n",
       "      <td>0.339467</td>\n",
       "      <td>0.191211</td>\n",
       "      <td>0.127277</td>\n",
       "      <td>0.131830</td>\n",
       "      <td>1.000000</td>\n",
       "      <td>...</td>\n",
       "      <td>0.026105</td>\n",
       "      <td>-0.003265</td>\n",
       "      <td>0.074824</td>\n",
       "      <td>0.055310</td>\n",
       "      <td>0.077476</td>\n",
       "      <td>0.062915</td>\n",
       "      <td>-0.008417</td>\n",
       "      <td>0.068960</td>\n",
       "      <td>0.055306</td>\n",
       "      <td>0.082576</td>\n",
       "    </tr>\n",
       "    <tr>\n",
       "      <th>publish_year</th>\n",
       "      <td>-0.107063</td>\n",
       "      <td>0.094414</td>\n",
       "      <td>0.034979</td>\n",
       "      <td>0.015272</td>\n",
       "      <td>0.022960</td>\n",
       "      <td>-0.054497</td>\n",
       "      <td>-0.081667</td>\n",
       "      <td>-0.044194</td>\n",
       "      <td>0.013446</td>\n",
       "      <td>-0.026718</td>\n",
       "      <td>...</td>\n",
       "      <td>-0.043692</td>\n",
       "      <td>-0.294493</td>\n",
       "      <td>-0.030700</td>\n",
       "      <td>0.029251</td>\n",
       "      <td>-0.208386</td>\n",
       "      <td>-0.165683</td>\n",
       "      <td>-0.012729</td>\n",
       "      <td>-0.151557</td>\n",
       "      <td>0.029251</td>\n",
       "      <td>-0.193741</td>\n",
       "    </tr>\n",
       "    <tr>\n",
       "      <th>book_popularity_x</th>\n",
       "      <td>-0.000842</td>\n",
       "      <td>0.008885</td>\n",
       "      <td>0.085712</td>\n",
       "      <td>0.068374</td>\n",
       "      <td>0.042595</td>\n",
       "      <td>0.044544</td>\n",
       "      <td>0.038641</td>\n",
       "      <td>0.013571</td>\n",
       "      <td>-0.011257</td>\n",
       "      <td>0.115931</td>\n",
       "      <td>...</td>\n",
       "      <td>0.029058</td>\n",
       "      <td>-0.137369</td>\n",
       "      <td>0.793628</td>\n",
       "      <td>0.251097</td>\n",
       "      <td>0.093720</td>\n",
       "      <td>0.040142</td>\n",
       "      <td>0.175411</td>\n",
       "      <td>0.483518</td>\n",
       "      <td>0.251095</td>\n",
       "      <td>0.356371</td>\n",
       "    </tr>\n",
       "    <tr>\n",
       "      <th>author_popularity_x</th>\n",
       "      <td>-0.025156</td>\n",
       "      <td>0.005884</td>\n",
       "      <td>0.113013</td>\n",
       "      <td>0.041630</td>\n",
       "      <td>0.088505</td>\n",
       "      <td>0.019999</td>\n",
       "      <td>0.010034</td>\n",
       "      <td>0.121852</td>\n",
       "      <td>0.185202</td>\n",
       "      <td>0.048058</td>\n",
       "      <td>...</td>\n",
       "      <td>0.604977</td>\n",
       "      <td>0.010860</td>\n",
       "      <td>0.264201</td>\n",
       "      <td>0.949224</td>\n",
       "      <td>0.164553</td>\n",
       "      <td>0.302511</td>\n",
       "      <td>0.055740</td>\n",
       "      <td>0.207053</td>\n",
       "      <td>0.949223</td>\n",
       "      <td>0.430844</td>\n",
       "    </tr>\n",
       "    <tr>\n",
       "      <th>release_year</th>\n",
       "      <td>-0.330014</td>\n",
       "      <td>0.465159</td>\n",
       "      <td>0.207104</td>\n",
       "      <td>0.093757</td>\n",
       "      <td>0.169261</td>\n",
       "      <td>0.024225</td>\n",
       "      <td>0.017799</td>\n",
       "      <td>0.084057</td>\n",
       "      <td>0.172916</td>\n",
       "      <td>0.018660</td>\n",
       "      <td>...</td>\n",
       "      <td>-0.160036</td>\n",
       "      <td>-0.725543</td>\n",
       "      <td>-0.031011</td>\n",
       "      <td>-0.000181</td>\n",
       "      <td>-0.416080</td>\n",
       "      <td>-0.339086</td>\n",
       "      <td>-0.056526</td>\n",
       "      <td>-0.163570</td>\n",
       "      <td>-0.000181</td>\n",
       "      <td>-0.336126</td>\n",
       "    </tr>\n",
       "    <tr>\n",
       "      <th>count_a</th>\n",
       "      <td>-0.080614</td>\n",
       "      <td>0.161009</td>\n",
       "      <td>0.175658</td>\n",
       "      <td>0.093153</td>\n",
       "      <td>0.088794</td>\n",
       "      <td>-0.009017</td>\n",
       "      <td>0.060022</td>\n",
       "      <td>0.020418</td>\n",
       "      <td>0.041789</td>\n",
       "      <td>0.013998</td>\n",
       "      <td>...</td>\n",
       "      <td>-0.023487</td>\n",
       "      <td>-0.125951</td>\n",
       "      <td>0.062753</td>\n",
       "      <td>-0.002656</td>\n",
       "      <td>0.004281</td>\n",
       "      <td>0.057169</td>\n",
       "      <td>-0.000836</td>\n",
       "      <td>0.037679</td>\n",
       "      <td>-0.002653</td>\n",
       "      <td>0.037597</td>\n",
       "    </tr>\n",
       "    <tr>\n",
       "      <th>release_month</th>\n",
       "      <td>0.066950</td>\n",
       "      <td>0.020610</td>\n",
       "      <td>0.009944</td>\n",
       "      <td>0.046203</td>\n",
       "      <td>0.052188</td>\n",
       "      <td>0.062680</td>\n",
       "      <td>0.019018</td>\n",
       "      <td>-0.000724</td>\n",
       "      <td>-0.003455</td>\n",
       "      <td>-0.037593</td>\n",
       "      <td>...</td>\n",
       "      <td>0.002104</td>\n",
       "      <td>0.054510</td>\n",
       "      <td>0.029783</td>\n",
       "      <td>-0.038324</td>\n",
       "      <td>0.018129</td>\n",
       "      <td>0.009996</td>\n",
       "      <td>-0.014288</td>\n",
       "      <td>-0.016855</td>\n",
       "      <td>-0.038326</td>\n",
       "      <td>0.005717</td>\n",
       "    </tr>\n",
       "    <tr>\n",
       "      <th>dow</th>\n",
       "      <td>-0.069536</td>\n",
       "      <td>0.095473</td>\n",
       "      <td>0.017749</td>\n",
       "      <td>-0.029654</td>\n",
       "      <td>-0.047606</td>\n",
       "      <td>-0.063939</td>\n",
       "      <td>-0.032865</td>\n",
       "      <td>0.043238</td>\n",
       "      <td>0.056147</td>\n",
       "      <td>0.015715</td>\n",
       "      <td>...</td>\n",
       "      <td>0.031636</td>\n",
       "      <td>-0.133429</td>\n",
       "      <td>0.020373</td>\n",
       "      <td>0.050324</td>\n",
       "      <td>-0.090395</td>\n",
       "      <td>-0.068002</td>\n",
       "      <td>-0.047011</td>\n",
       "      <td>0.018784</td>\n",
       "      <td>0.050321</td>\n",
       "      <td>0.000255</td>\n",
       "    </tr>\n",
       "    <tr>\n",
       "      <th>film_count_d</th>\n",
       "      <td>0.135685</td>\n",
       "      <td>-0.117244</td>\n",
       "      <td>0.054634</td>\n",
       "      <td>-0.016779</td>\n",
       "      <td>0.014384</td>\n",
       "      <td>-0.000329</td>\n",
       "      <td>0.020415</td>\n",
       "      <td>-0.003381</td>\n",
       "      <td>-0.021853</td>\n",
       "      <td>0.023962</td>\n",
       "      <td>...</td>\n",
       "      <td>0.091425</td>\n",
       "      <td>0.349149</td>\n",
       "      <td>-0.042523</td>\n",
       "      <td>0.003502</td>\n",
       "      <td>0.256879</td>\n",
       "      <td>0.240538</td>\n",
       "      <td>0.003924</td>\n",
       "      <td>-0.002710</td>\n",
       "      <td>0.003505</td>\n",
       "      <td>0.080209</td>\n",
       "    </tr>\n",
       "    <tr>\n",
       "      <th>avg_rating_d</th>\n",
       "      <td>0.264547</td>\n",
       "      <td>0.147733</td>\n",
       "      <td>0.090423</td>\n",
       "      <td>0.128197</td>\n",
       "      <td>0.117428</td>\n",
       "      <td>0.268024</td>\n",
       "      <td>0.050764</td>\n",
       "      <td>0.084385</td>\n",
       "      <td>0.112379</td>\n",
       "      <td>0.032216</td>\n",
       "      <td>...</td>\n",
       "      <td>0.022423</td>\n",
       "      <td>-0.034554</td>\n",
       "      <td>0.075738</td>\n",
       "      <td>0.044202</td>\n",
       "      <td>-0.009855</td>\n",
       "      <td>-0.009453</td>\n",
       "      <td>0.049627</td>\n",
       "      <td>0.067271</td>\n",
       "      <td>0.044202</td>\n",
       "      <td>0.030334</td>\n",
       "    </tr>\n",
       "    <tr>\n",
       "      <th>avg_gross_d</th>\n",
       "      <td>0.063066</td>\n",
       "      <td>0.408331</td>\n",
       "      <td>0.298024</td>\n",
       "      <td>0.344721</td>\n",
       "      <td>0.342095</td>\n",
       "      <td>0.098312</td>\n",
       "      <td>0.067996</td>\n",
       "      <td>0.138364</td>\n",
       "      <td>0.123447</td>\n",
       "      <td>0.015193</td>\n",
       "      <td>...</td>\n",
       "      <td>-0.023591</td>\n",
       "      <td>-0.031046</td>\n",
       "      <td>0.005651</td>\n",
       "      <td>-0.053523</td>\n",
       "      <td>0.024262</td>\n",
       "      <td>0.018653</td>\n",
       "      <td>-0.004199</td>\n",
       "      <td>0.001016</td>\n",
       "      <td>-0.053525</td>\n",
       "      <td>-0.076199</td>\n",
       "    </tr>\n",
       "    <tr>\n",
       "      <th>title_search</th>\n",
       "      <td>0.100128</td>\n",
       "      <td>-0.072548</td>\n",
       "      <td>0.243913</td>\n",
       "      <td>0.108925</td>\n",
       "      <td>0.089417</td>\n",
       "      <td>0.016991</td>\n",
       "      <td>-0.015964</td>\n",
       "      <td>0.025697</td>\n",
       "      <td>0.021850</td>\n",
       "      <td>0.125342</td>\n",
       "      <td>...</td>\n",
       "      <td>0.400870</td>\n",
       "      <td>0.262020</td>\n",
       "      <td>0.310294</td>\n",
       "      <td>0.184008</td>\n",
       "      <td>0.391948</td>\n",
       "      <td>0.328531</td>\n",
       "      <td>0.072733</td>\n",
       "      <td>0.197609</td>\n",
       "      <td>0.184006</td>\n",
       "      <td>0.199194</td>\n",
       "    </tr>\n",
       "    <tr>\n",
       "      <th>search_fiction_book</th>\n",
       "      <td>0.165622</td>\n",
       "      <td>-0.236637</td>\n",
       "      <td>-0.007315</td>\n",
       "      <td>-0.066717</td>\n",
       "      <td>-0.076520</td>\n",
       "      <td>0.048415</td>\n",
       "      <td>-0.009878</td>\n",
       "      <td>-0.023220</td>\n",
       "      <td>-0.014395</td>\n",
       "      <td>0.064982</td>\n",
       "      <td>...</td>\n",
       "      <td>0.153166</td>\n",
       "      <td>0.669918</td>\n",
       "      <td>-0.089233</td>\n",
       "      <td>-0.009078</td>\n",
       "      <td>0.570952</td>\n",
       "      <td>0.501852</td>\n",
       "      <td>-0.036007</td>\n",
       "      <td>-0.213046</td>\n",
       "      <td>-0.009078</td>\n",
       "      <td>0.062892</td>\n",
       "    </tr>\n",
       "    <tr>\n",
       "      <th>author_search</th>\n",
       "      <td>0.017086</td>\n",
       "      <td>-0.078074</td>\n",
       "      <td>0.051499</td>\n",
       "      <td>-0.012094</td>\n",
       "      <td>0.013268</td>\n",
       "      <td>-0.020891</td>\n",
       "      <td>-0.011524</td>\n",
       "      <td>0.028047</td>\n",
       "      <td>0.054342</td>\n",
       "      <td>0.026105</td>\n",
       "      <td>...</td>\n",
       "      <td>1.000000</td>\n",
       "      <td>0.248467</td>\n",
       "      <td>0.149451</td>\n",
       "      <td>0.628524</td>\n",
       "      <td>0.342976</td>\n",
       "      <td>0.416235</td>\n",
       "      <td>0.036228</td>\n",
       "      <td>0.131080</td>\n",
       "      <td>0.628523</td>\n",
       "      <td>0.312774</td>\n",
       "    </tr>\n",
       "    <tr>\n",
       "      <th>search_fiction_author</th>\n",
       "      <td>0.249235</td>\n",
       "      <td>-0.325793</td>\n",
       "      <td>0.002917</td>\n",
       "      <td>-0.076215</td>\n",
       "      <td>-0.073085</td>\n",
       "      <td>-0.016835</td>\n",
       "      <td>-0.044241</td>\n",
       "      <td>-0.023825</td>\n",
       "      <td>-0.021747</td>\n",
       "      <td>-0.003265</td>\n",
       "      <td>...</td>\n",
       "      <td>0.248467</td>\n",
       "      <td>1.000000</td>\n",
       "      <td>-0.101089</td>\n",
       "      <td>0.002934</td>\n",
       "      <td>0.812408</td>\n",
       "      <td>0.737411</td>\n",
       "      <td>0.047050</td>\n",
       "      <td>-0.150196</td>\n",
       "      <td>0.002934</td>\n",
       "      <td>0.060779</td>\n",
       "    </tr>\n",
       "    <tr>\n",
       "      <th>book_popularity</th>\n",
       "      <td>0.023629</td>\n",
       "      <td>0.004907</td>\n",
       "      <td>0.054716</td>\n",
       "      <td>0.054662</td>\n",
       "      <td>0.043603</td>\n",
       "      <td>0.007481</td>\n",
       "      <td>0.030999</td>\n",
       "      <td>0.007516</td>\n",
       "      <td>-0.016583</td>\n",
       "      <td>0.074824</td>\n",
       "      <td>...</td>\n",
       "      <td>0.149451</td>\n",
       "      <td>-0.101089</td>\n",
       "      <td>1.000000</td>\n",
       "      <td>0.355856</td>\n",
       "      <td>0.132861</td>\n",
       "      <td>0.083950</td>\n",
       "      <td>0.999917</td>\n",
       "      <td>0.598896</td>\n",
       "      <td>0.355855</td>\n",
       "      <td>0.404616</td>\n",
       "    </tr>\n",
       "    <tr>\n",
       "      <th>author_popularity</th>\n",
       "      <td>-0.052623</td>\n",
       "      <td>-0.025467</td>\n",
       "      <td>0.107244</td>\n",
       "      <td>0.036373</td>\n",
       "      <td>0.077638</td>\n",
       "      <td>0.014893</td>\n",
       "      <td>0.005268</td>\n",
       "      <td>0.127954</td>\n",
       "      <td>0.195648</td>\n",
       "      <td>0.055310</td>\n",
       "      <td>...</td>\n",
       "      <td>0.628524</td>\n",
       "      <td>0.002934</td>\n",
       "      <td>0.355856</td>\n",
       "      <td>1.000000</td>\n",
       "      <td>0.173995</td>\n",
       "      <td>0.312463</td>\n",
       "      <td>0.077198</td>\n",
       "      <td>0.251402</td>\n",
       "      <td>1.000000</td>\n",
       "      <td>0.481896</td>\n",
       "    </tr>\n",
       "    <tr>\n",
       "      <th>log_book_search</th>\n",
       "      <td>0.193656</td>\n",
       "      <td>-0.122364</td>\n",
       "      <td>0.224825</td>\n",
       "      <td>0.036528</td>\n",
       "      <td>0.110596</td>\n",
       "      <td>0.009130</td>\n",
       "      <td>0.003547</td>\n",
       "      <td>0.127041</td>\n",
       "      <td>0.167436</td>\n",
       "      <td>0.077476</td>\n",
       "      <td>...</td>\n",
       "      <td>0.342976</td>\n",
       "      <td>0.812408</td>\n",
       "      <td>0.132861</td>\n",
       "      <td>0.173995</td>\n",
       "      <td>1.000000</td>\n",
       "      <td>0.912846</td>\n",
       "      <td>0.085916</td>\n",
       "      <td>0.083280</td>\n",
       "      <td>0.173995</td>\n",
       "      <td>0.161729</td>\n",
       "    </tr>\n",
       "    <tr>\n",
       "      <th>log_author_search</th>\n",
       "      <td>0.105211</td>\n",
       "      <td>-0.102243</td>\n",
       "      <td>0.209465</td>\n",
       "      <td>0.022986</td>\n",
       "      <td>0.105643</td>\n",
       "      <td>-0.006777</td>\n",
       "      <td>-0.020890</td>\n",
       "      <td>0.101197</td>\n",
       "      <td>0.131180</td>\n",
       "      <td>0.062915</td>\n",
       "      <td>...</td>\n",
       "      <td>0.416235</td>\n",
       "      <td>0.737411</td>\n",
       "      <td>0.083950</td>\n",
       "      <td>0.312463</td>\n",
       "      <td>0.912846</td>\n",
       "      <td>1.000000</td>\n",
       "      <td>0.077716</td>\n",
       "      <td>0.038639</td>\n",
       "      <td>0.312462</td>\n",
       "      <td>0.343919</td>\n",
       "    </tr>\n",
       "    <tr>\n",
       "      <th>book_popularity_test</th>\n",
       "      <td>0.012689</td>\n",
       "      <td>-0.027229</td>\n",
       "      <td>0.061033</td>\n",
       "      <td>0.005048</td>\n",
       "      <td>0.050290</td>\n",
       "      <td>-0.023911</td>\n",
       "      <td>0.018327</td>\n",
       "      <td>-0.012761</td>\n",
       "      <td>-0.020316</td>\n",
       "      <td>-0.008417</td>\n",
       "      <td>...</td>\n",
       "      <td>0.036228</td>\n",
       "      <td>0.047050</td>\n",
       "      <td>0.999917</td>\n",
       "      <td>0.077198</td>\n",
       "      <td>0.085916</td>\n",
       "      <td>0.077716</td>\n",
       "      <td>1.000000</td>\n",
       "      <td>0.276221</td>\n",
       "      <td>0.077194</td>\n",
       "      <td>0.111802</td>\n",
       "    </tr>\n",
       "    <tr>\n",
       "      <th>log_book_popularity</th>\n",
       "      <td>0.091055</td>\n",
       "      <td>0.017641</td>\n",
       "      <td>0.056855</td>\n",
       "      <td>0.092941</td>\n",
       "      <td>0.083045</td>\n",
       "      <td>0.031851</td>\n",
       "      <td>0.102459</td>\n",
       "      <td>0.099844</td>\n",
       "      <td>0.000106</td>\n",
       "      <td>0.068960</td>\n",
       "      <td>...</td>\n",
       "      <td>0.131080</td>\n",
       "      <td>-0.150196</td>\n",
       "      <td>0.598896</td>\n",
       "      <td>0.251402</td>\n",
       "      <td>0.083280</td>\n",
       "      <td>0.038639</td>\n",
       "      <td>0.276221</td>\n",
       "      <td>1.000000</td>\n",
       "      <td>0.251400</td>\n",
       "      <td>0.600850</td>\n",
       "    </tr>\n",
       "    <tr>\n",
       "      <th>author_popularity_test</th>\n",
       "      <td>-0.052626</td>\n",
       "      <td>-0.025467</td>\n",
       "      <td>0.107242</td>\n",
       "      <td>0.036369</td>\n",
       "      <td>0.077634</td>\n",
       "      <td>0.014891</td>\n",
       "      <td>0.005271</td>\n",
       "      <td>0.127952</td>\n",
       "      <td>0.195645</td>\n",
       "      <td>0.055306</td>\n",
       "      <td>...</td>\n",
       "      <td>0.628523</td>\n",
       "      <td>0.002934</td>\n",
       "      <td>0.355855</td>\n",
       "      <td>1.000000</td>\n",
       "      <td>0.173995</td>\n",
       "      <td>0.312462</td>\n",
       "      <td>0.077194</td>\n",
       "      <td>0.251400</td>\n",
       "      <td>1.000000</td>\n",
       "      <td>0.481895</td>\n",
       "    </tr>\n",
       "    <tr>\n",
       "      <th>log_author_popularity</th>\n",
       "      <td>0.029491</td>\n",
       "      <td>-0.161562</td>\n",
       "      <td>-0.014309</td>\n",
       "      <td>-0.012868</td>\n",
       "      <td>-0.026242</td>\n",
       "      <td>0.070889</td>\n",
       "      <td>0.055994</td>\n",
       "      <td>0.011643</td>\n",
       "      <td>-0.042591</td>\n",
       "      <td>0.082576</td>\n",
       "      <td>...</td>\n",
       "      <td>0.312774</td>\n",
       "      <td>0.060779</td>\n",
       "      <td>0.404616</td>\n",
       "      <td>0.481896</td>\n",
       "      <td>0.161729</td>\n",
       "      <td>0.343919</td>\n",
       "      <td>0.111802</td>\n",
       "      <td>0.600850</td>\n",
       "      <td>0.481895</td>\n",
       "      <td>1.000000</td>\n",
       "    </tr>\n",
       "  </tbody>\n",
       "</table>\n",
       "<p>32 rows × 32 columns</p>\n",
       "</div>"
      ],
      "text/plain": [
       "                          rating    budget  opening_weekend_usa  gross_usa  \\\n",
       "rating                  1.000000 -0.063073             0.077431   0.225434   \n",
       "budget                 -0.063073  1.000000             0.625747   0.555791   \n",
       "opening_weekend_usa     0.077431  0.625747             1.000000   0.845860   \n",
       "gross_usa               0.225434  0.555791             0.845860   1.000000   \n",
       "gross_world             0.199837  0.671365             0.852947   0.925121   \n",
       "runtime                 0.272943  0.166458             0.162687   0.222852   \n",
       "rating_value_b          0.228420  0.150978             0.202666   0.174291   \n",
       "rating_count_b          0.115617  0.285879             0.524430   0.403204   \n",
       "review_count_b          0.119337  0.241206             0.447139   0.337226   \n",
       "page                    0.029876  0.088296             0.119929   0.099477   \n",
       "publish_year           -0.107063  0.094414             0.034979   0.015272   \n",
       "book_popularity_x      -0.000842  0.008885             0.085712   0.068374   \n",
       "author_popularity_x    -0.025156  0.005884             0.113013   0.041630   \n",
       "release_year           -0.330014  0.465159             0.207104   0.093757   \n",
       "count_a                -0.080614  0.161009             0.175658   0.093153   \n",
       "release_month           0.066950  0.020610             0.009944   0.046203   \n",
       "dow                    -0.069536  0.095473             0.017749  -0.029654   \n",
       "film_count_d            0.135685 -0.117244             0.054634  -0.016779   \n",
       "avg_rating_d            0.264547  0.147733             0.090423   0.128197   \n",
       "avg_gross_d             0.063066  0.408331             0.298024   0.344721   \n",
       "title_search            0.100128 -0.072548             0.243913   0.108925   \n",
       "search_fiction_book     0.165622 -0.236637            -0.007315  -0.066717   \n",
       "author_search           0.017086 -0.078074             0.051499  -0.012094   \n",
       "search_fiction_author   0.249235 -0.325793             0.002917  -0.076215   \n",
       "book_popularity         0.023629  0.004907             0.054716   0.054662   \n",
       "author_popularity      -0.052623 -0.025467             0.107244   0.036373   \n",
       "log_book_search         0.193656 -0.122364             0.224825   0.036528   \n",
       "log_author_search       0.105211 -0.102243             0.209465   0.022986   \n",
       "book_popularity_test    0.012689 -0.027229             0.061033   0.005048   \n",
       "log_book_popularity     0.091055  0.017641             0.056855   0.092941   \n",
       "author_popularity_test -0.052626 -0.025467             0.107242   0.036369   \n",
       "log_author_popularity   0.029491 -0.161562            -0.014309  -0.012868   \n",
       "\n",
       "                        gross_world   runtime  rating_value_b  rating_count_b  \\\n",
       "rating                     0.199837  0.272943        0.228420        0.115617   \n",
       "budget                     0.671365  0.166458        0.150978        0.285879   \n",
       "opening_weekend_usa        0.852947  0.162687        0.202666        0.524430   \n",
       "gross_usa                  0.925121  0.222852        0.174291        0.403204   \n",
       "gross_world                1.000000  0.257278        0.222423        0.463302   \n",
       "runtime                    0.257278  1.000000        0.186103        0.140060   \n",
       "rating_value_b             0.222423  0.186103        1.000000        0.193470   \n",
       "rating_count_b             0.463302  0.140060        0.193470        1.000000   \n",
       "review_count_b             0.384959  0.131281        0.203491        0.869757   \n",
       "page                       0.120449  0.339467        0.191211        0.127277   \n",
       "publish_year               0.022960 -0.054497       -0.081667       -0.044194   \n",
       "book_popularity_x          0.042595  0.044544        0.038641        0.013571   \n",
       "author_popularity_x        0.088505  0.019999        0.010034        0.121852   \n",
       "release_year               0.169261  0.024225        0.017799        0.084057   \n",
       "count_a                    0.088794 -0.009017        0.060022        0.020418   \n",
       "release_month              0.052188  0.062680        0.019018       -0.000724   \n",
       "dow                       -0.047606 -0.063939       -0.032865        0.043238   \n",
       "film_count_d               0.014384 -0.000329        0.020415       -0.003381   \n",
       "avg_rating_d               0.117428  0.268024        0.050764        0.084385   \n",
       "avg_gross_d                0.342095  0.098312        0.067996        0.138364   \n",
       "title_search               0.089417  0.016991       -0.015964        0.025697   \n",
       "search_fiction_book       -0.076520  0.048415       -0.009878       -0.023220   \n",
       "author_search              0.013268 -0.020891       -0.011524        0.028047   \n",
       "search_fiction_author     -0.073085 -0.016835       -0.044241       -0.023825   \n",
       "book_popularity            0.043603  0.007481        0.030999        0.007516   \n",
       "author_popularity          0.077638  0.014893        0.005268        0.127954   \n",
       "log_book_search            0.110596  0.009130        0.003547        0.127041   \n",
       "log_author_search          0.105643 -0.006777       -0.020890        0.101197   \n",
       "book_popularity_test       0.050290 -0.023911        0.018327       -0.012761   \n",
       "log_book_popularity        0.083045  0.031851        0.102459        0.099844   \n",
       "author_popularity_test     0.077634  0.014891        0.005271        0.127952   \n",
       "log_author_popularity     -0.026242  0.070889        0.055994        0.011643   \n",
       "\n",
       "                        review_count_b      page  ...  author_search  \\\n",
       "rating                        0.119337  0.029876  ...       0.017086   \n",
       "budget                        0.241206  0.088296  ...      -0.078074   \n",
       "opening_weekend_usa           0.447139  0.119929  ...       0.051499   \n",
       "gross_usa                     0.337226  0.099477  ...      -0.012094   \n",
       "gross_world                   0.384959  0.120449  ...       0.013268   \n",
       "runtime                       0.131281  0.339467  ...      -0.020891   \n",
       "rating_value_b                0.203491  0.191211  ...      -0.011524   \n",
       "rating_count_b                0.869757  0.127277  ...       0.028047   \n",
       "review_count_b                1.000000  0.131830  ...       0.054342   \n",
       "page                          0.131830  1.000000  ...       0.026105   \n",
       "publish_year                  0.013446 -0.026718  ...      -0.043692   \n",
       "book_popularity_x            -0.011257  0.115931  ...       0.029058   \n",
       "author_popularity_x           0.185202  0.048058  ...       0.604977   \n",
       "release_year                  0.172916  0.018660  ...      -0.160036   \n",
       "count_a                       0.041789  0.013998  ...      -0.023487   \n",
       "release_month                -0.003455 -0.037593  ...       0.002104   \n",
       "dow                           0.056147  0.015715  ...       0.031636   \n",
       "film_count_d                 -0.021853  0.023962  ...       0.091425   \n",
       "avg_rating_d                  0.112379  0.032216  ...       0.022423   \n",
       "avg_gross_d                   0.123447  0.015193  ...      -0.023591   \n",
       "title_search                  0.021850  0.125342  ...       0.400870   \n",
       "search_fiction_book          -0.014395  0.064982  ...       0.153166   \n",
       "author_search                 0.054342  0.026105  ...       1.000000   \n",
       "search_fiction_author        -0.021747 -0.003265  ...       0.248467   \n",
       "book_popularity              -0.016583  0.074824  ...       0.149451   \n",
       "author_popularity             0.195648  0.055310  ...       0.628524   \n",
       "log_book_search               0.167436  0.077476  ...       0.342976   \n",
       "log_author_search             0.131180  0.062915  ...       0.416235   \n",
       "book_popularity_test         -0.020316 -0.008417  ...       0.036228   \n",
       "log_book_popularity           0.000106  0.068960  ...       0.131080   \n",
       "author_popularity_test        0.195645  0.055306  ...       0.628523   \n",
       "log_author_popularity        -0.042591  0.082576  ...       0.312774   \n",
       "\n",
       "                        search_fiction_author  book_popularity  \\\n",
       "rating                               0.249235         0.023629   \n",
       "budget                              -0.325793         0.004907   \n",
       "opening_weekend_usa                  0.002917         0.054716   \n",
       "gross_usa                           -0.076215         0.054662   \n",
       "gross_world                         -0.073085         0.043603   \n",
       "runtime                             -0.016835         0.007481   \n",
       "rating_value_b                      -0.044241         0.030999   \n",
       "rating_count_b                      -0.023825         0.007516   \n",
       "review_count_b                      -0.021747        -0.016583   \n",
       "page                                -0.003265         0.074824   \n",
       "publish_year                        -0.294493        -0.030700   \n",
       "book_popularity_x                   -0.137369         0.793628   \n",
       "author_popularity_x                  0.010860         0.264201   \n",
       "release_year                        -0.725543        -0.031011   \n",
       "count_a                             -0.125951         0.062753   \n",
       "release_month                        0.054510         0.029783   \n",
       "dow                                 -0.133429         0.020373   \n",
       "film_count_d                         0.349149        -0.042523   \n",
       "avg_rating_d                        -0.034554         0.075738   \n",
       "avg_gross_d                         -0.031046         0.005651   \n",
       "title_search                         0.262020         0.310294   \n",
       "search_fiction_book                  0.669918        -0.089233   \n",
       "author_search                        0.248467         0.149451   \n",
       "search_fiction_author                1.000000        -0.101089   \n",
       "book_popularity                     -0.101089         1.000000   \n",
       "author_popularity                    0.002934         0.355856   \n",
       "log_book_search                      0.812408         0.132861   \n",
       "log_author_search                    0.737411         0.083950   \n",
       "book_popularity_test                 0.047050         0.999917   \n",
       "log_book_popularity                 -0.150196         0.598896   \n",
       "author_popularity_test               0.002934         0.355855   \n",
       "log_author_popularity                0.060779         0.404616   \n",
       "\n",
       "                        author_popularity  log_book_search  log_author_search  \\\n",
       "rating                          -0.052623         0.193656           0.105211   \n",
       "budget                          -0.025467        -0.122364          -0.102243   \n",
       "opening_weekend_usa              0.107244         0.224825           0.209465   \n",
       "gross_usa                        0.036373         0.036528           0.022986   \n",
       "gross_world                      0.077638         0.110596           0.105643   \n",
       "runtime                          0.014893         0.009130          -0.006777   \n",
       "rating_value_b                   0.005268         0.003547          -0.020890   \n",
       "rating_count_b                   0.127954         0.127041           0.101197   \n",
       "review_count_b                   0.195648         0.167436           0.131180   \n",
       "page                             0.055310         0.077476           0.062915   \n",
       "publish_year                     0.029251        -0.208386          -0.165683   \n",
       "book_popularity_x                0.251097         0.093720           0.040142   \n",
       "author_popularity_x              0.949224         0.164553           0.302511   \n",
       "release_year                    -0.000181        -0.416080          -0.339086   \n",
       "count_a                         -0.002656         0.004281           0.057169   \n",
       "release_month                   -0.038324         0.018129           0.009996   \n",
       "dow                              0.050324        -0.090395          -0.068002   \n",
       "film_count_d                     0.003502         0.256879           0.240538   \n",
       "avg_rating_d                     0.044202        -0.009855          -0.009453   \n",
       "avg_gross_d                     -0.053523         0.024262           0.018653   \n",
       "title_search                     0.184008         0.391948           0.328531   \n",
       "search_fiction_book             -0.009078         0.570952           0.501852   \n",
       "author_search                    0.628524         0.342976           0.416235   \n",
       "search_fiction_author            0.002934         0.812408           0.737411   \n",
       "book_popularity                  0.355856         0.132861           0.083950   \n",
       "author_popularity                1.000000         0.173995           0.312463   \n",
       "log_book_search                  0.173995         1.000000           0.912846   \n",
       "log_author_search                0.312463         0.912846           1.000000   \n",
       "book_popularity_test             0.077198         0.085916           0.077716   \n",
       "log_book_popularity              0.251402         0.083280           0.038639   \n",
       "author_popularity_test           1.000000         0.173995           0.312462   \n",
       "log_author_popularity            0.481896         0.161729           0.343919   \n",
       "\n",
       "                        book_popularity_test  log_book_popularity  \\\n",
       "rating                              0.012689             0.091055   \n",
       "budget                             -0.027229             0.017641   \n",
       "opening_weekend_usa                 0.061033             0.056855   \n",
       "gross_usa                           0.005048             0.092941   \n",
       "gross_world                         0.050290             0.083045   \n",
       "runtime                            -0.023911             0.031851   \n",
       "rating_value_b                      0.018327             0.102459   \n",
       "rating_count_b                     -0.012761             0.099844   \n",
       "review_count_b                     -0.020316             0.000106   \n",
       "page                               -0.008417             0.068960   \n",
       "publish_year                       -0.012729            -0.151557   \n",
       "book_popularity_x                   0.175411             0.483518   \n",
       "author_popularity_x                 0.055740             0.207053   \n",
       "release_year                       -0.056526            -0.163570   \n",
       "count_a                            -0.000836             0.037679   \n",
       "release_month                      -0.014288            -0.016855   \n",
       "dow                                -0.047011             0.018784   \n",
       "film_count_d                        0.003924            -0.002710   \n",
       "avg_rating_d                        0.049627             0.067271   \n",
       "avg_gross_d                        -0.004199             0.001016   \n",
       "title_search                        0.072733             0.197609   \n",
       "search_fiction_book                -0.036007            -0.213046   \n",
       "author_search                       0.036228             0.131080   \n",
       "search_fiction_author               0.047050            -0.150196   \n",
       "book_popularity                     0.999917             0.598896   \n",
       "author_popularity                   0.077198             0.251402   \n",
       "log_book_search                     0.085916             0.083280   \n",
       "log_author_search                   0.077716             0.038639   \n",
       "book_popularity_test                1.000000             0.276221   \n",
       "log_book_popularity                 0.276221             1.000000   \n",
       "author_popularity_test              0.077194             0.251400   \n",
       "log_author_popularity               0.111802             0.600850   \n",
       "\n",
       "                        author_popularity_test  log_author_popularity  \n",
       "rating                               -0.052626               0.029491  \n",
       "budget                               -0.025467              -0.161562  \n",
       "opening_weekend_usa                   0.107242              -0.014309  \n",
       "gross_usa                             0.036369              -0.012868  \n",
       "gross_world                           0.077634              -0.026242  \n",
       "runtime                               0.014891               0.070889  \n",
       "rating_value_b                        0.005271               0.055994  \n",
       "rating_count_b                        0.127952               0.011643  \n",
       "review_count_b                        0.195645              -0.042591  \n",
       "page                                  0.055306               0.082576  \n",
       "publish_year                          0.029251              -0.193741  \n",
       "book_popularity_x                     0.251095               0.356371  \n",
       "author_popularity_x                   0.949223               0.430844  \n",
       "release_year                         -0.000181              -0.336126  \n",
       "count_a                              -0.002653               0.037597  \n",
       "release_month                        -0.038326               0.005717  \n",
       "dow                                   0.050321               0.000255  \n",
       "film_count_d                          0.003505               0.080209  \n",
       "avg_rating_d                          0.044202               0.030334  \n",
       "avg_gross_d                          -0.053525              -0.076199  \n",
       "title_search                          0.184006               0.199194  \n",
       "search_fiction_book                  -0.009078               0.062892  \n",
       "author_search                         0.628523               0.312774  \n",
       "search_fiction_author                 0.002934               0.060779  \n",
       "book_popularity                       0.355855               0.404616  \n",
       "author_popularity                     1.000000               0.481896  \n",
       "log_book_search                       0.173995               0.161729  \n",
       "log_author_search                     0.312462               0.343919  \n",
       "book_popularity_test                  0.077194               0.111802  \n",
       "log_book_popularity                   0.251400               0.600850  \n",
       "author_popularity_test                1.000000               0.481895  \n",
       "log_author_popularity                 0.481895               1.000000  \n",
       "\n",
       "[32 rows x 32 columns]"
      ]
     },
     "execution_count": 74,
     "metadata": {},
     "output_type": "execute_result"
    }
   ],
   "source": [
    "all_df.corr()"
   ]
  },
  {
   "cell_type": "code",
   "execution_count": 75,
   "metadata": {},
   "outputs": [
    {
     "data": {
      "image/png": "[encoded data removed]",
      "text/plain": [
       "<Figure size 432x288 with 2 Axes>"
      ]
     },
     "metadata": {
      "needs_background": "light"
     },
     "output_type": "display_data"
    }
   ],
   "source": [
    "# sns.heatmap(all_df.corr(), cmap=\"seismic\", annot=True, vmin=-1, vmax=1);\n",
    "sns.heatmap(all_df.corr(), cmap=\"seismic\", vmin=-0.8, vmax=1);"
   ]
  },
  {
   "cell_type": "code",
   "execution_count": 76,
   "metadata": {},
   "outputs": [],
   "source": [
    "continuous_variables = ['opening_weekend_usa', 'gross_usa', 'gross_world','rating', \\\n",
    "                        'budget','runtime','release_year', 'release_month','dow',\\\n",
    "                        'film_count_d', 'avg_rating_d', 'avg_gross_d', \\\n",
    "        'page', 'publish_year','log_book_search','title_search','search_fiction_book', \\\n",
    "        'log_author_search','author_search', 'search_fiction_author',\\\n",
    "       'book_popularity', 'author_popularity']\n",
    "all_df_select = all_df[continuous_variables]"
   ]
  },
  {
   "cell_type": "code",
   "execution_count": 77,
   "metadata": {},
   "outputs": [],
   "source": [
    "# sns.pairplot(all_df_select)"
   ]
  },
  {
   "cell_type": "code",
   "execution_count": null,
   "metadata": {},
   "outputs": [],
   "source": []
  },
  {
   "cell_type": "markdown",
   "metadata": {},
   "source": [
    "## 4. Clean each column\n",
    "Clean the format and convert data type if necessarry for later steps."
   ]
  },
  {
   "cell_type": "markdown",
   "metadata": {},
   "source": [
    "### (1) Target variable\n",
    "### (i) opening_weekend_usa"
   ]
  },
  {
   "cell_type": "code",
   "execution_count": 78,
   "metadata": {},
   "outputs": [
    {
     "data": {
      "text/plain": [
       "<AxesSubplot:>"
      ]
     },
     "execution_count": 78,
     "metadata": {},
     "output_type": "execute_result"
    },
    {
     "data": {
      "image/png": "[encoded data removed]",
      "text/plain": [
       "<Figure size 432x288 with 1 Axes>"
      ]
     },
     "metadata": {
      "needs_background": "light"
     },
     "output_type": "display_data"
    }
   ],
   "source": [
    "# Examine the distribution. Pretty skewed.\n",
    "all_df['opening_weekend_usa'].hist(bins=20)\n",
    "# all_df['opening_weekend_usa']"
   ]
  },
  {
   "cell_type": "code",
   "execution_count": 79,
   "metadata": {},
   "outputs": [
    {
     "data": {
      "text/plain": [
       "<AxesSubplot:>"
      ]
     },
     "execution_count": 79,
     "metadata": {},
     "output_type": "execute_result"
    },
    {
     "data": {
      "image/png": "[encoded data removed]",
      "text/plain": [
       "<Figure size 432x288 with 1 Axes>"
      ]
     },
     "metadata": {
      "needs_background": "light"
     },
     "output_type": "display_data"
    }
   ],
   "source": [
    "# Try log. Slightly better. Still not very normal\n",
    "np.log(all_df['opening_weekend_usa']).hist(bins=20)"
   ]
  },
  {
   "cell_type": "code",
   "execution_count": 80,
   "metadata": {},
   "outputs": [
    {
     "data": {
      "image/png": "[encoded data removed]",
      "text/plain": [
       "<Figure size 432x288 with 1 Axes>"
      ]
     },
     "metadata": {
      "needs_background": "light"
     },
     "output_type": "display_data"
    },
    {
     "data": {
      "image/png": "[encoded data removed]",
      "text/plain": [
       "<Figure size 432x288 with 1 Axes>"
      ]
     },
     "metadata": {
      "needs_background": "light"
     },
     "output_type": "display_data"
    }
   ],
   "source": [
    "# demonstration of the power transform on data with a skew\n",
    "from numpy import exp\n",
    "from numpy.random import randn\n",
    "from sklearn.preprocessing import PowerTransformer\n",
    "from matplotlib import pyplot as plt\n",
    "# generate gaussian data sample\n",
    "data = randn(1000)\n",
    "# add a skew to the data distribution\n",
    "data = exp(data)\n",
    "# histogram of the raw data with a skew\n",
    "plt.hist(data, bins=25)\n",
    "plt.show()\n",
    "# reshape data to have rows and columns\n",
    "data = data.reshape((len(data),1))\n",
    "# power transform the raw data\n",
    "power = PowerTransformer(method='yeo-johnson', standardize=True)\n",
    "data_trans = power.fit_transform(data)\n",
    "# histogram of the transformed data\n",
    "plt.hist(data_trans, bins=25)\n",
    "plt.show()"
   ]
  },
  {
   "cell_type": "code",
   "execution_count": 81,
   "metadata": {},
   "outputs": [
    {
     "data": {
      "image/png": "[encoded data removed]",
      "text/plain": [
       "<Figure size 432x288 with 1 Axes>"
      ]
     },
     "metadata": {
      "needs_background": "light"
     },
     "output_type": "display_data"
    }
   ],
   "source": [
    "# Explore power transform\n",
    "data = all_df[['opening_weekend_usa']]\n",
    "power = PowerTransformer(method='yeo-johnson', standardize=True)\n",
    "data_trans = power.fit_transform(data)\n",
    "plt.hist(data_trans, bins=25)\n",
    "plt.show()"
   ]
  },
  {
   "cell_type": "code",
   "execution_count": 82,
   "metadata": {},
   "outputs": [
    {
     "data": {
      "image/png": "[encoded data removed]",
      "text/plain": [
       "<Figure size 432x288 with 1 Axes>"
      ]
     },
     "metadata": {
      "needs_background": "light"
     },
     "output_type": "display_data"
    }
   ],
   "source": [
    "# Explore power transform (box-cox)\n",
    "data = all_df[['opening_weekend_usa']]\n",
    "power = PowerTransformer(method='box-cox', standardize=True)\n",
    "data_trans = power.fit_transform(data)\n",
    "plt.hist(data_trans, bins=25)\n",
    "plt.show()"
   ]
  },
  {
   "cell_type": "code",
   "execution_count": 83,
   "metadata": {},
   "outputs": [],
   "source": [
    "# Seems like both log and power transform are similarr\n",
    "all_df['log_owu'] = np.log(all_df['opening_weekend_usa'])\n",
    "\n",
    "data = all_df[['opening_weekend_usa']]\n",
    "power = PowerTransformer(method='box-cox', standardize=True)\n",
    "data_trans = power.fit_transform(data)\n",
    "all_df['log_owu'] = data_trans.reshape(len(data),)"
   ]
  },
  {
   "cell_type": "code",
   "execution_count": 84,
   "metadata": {},
   "outputs": [
    {
     "data": {
      "text/plain": [
       "(1135, 47)"
      ]
     },
     "execution_count": 84,
     "metadata": {},
     "output_type": "execute_result"
    }
   ],
   "source": [
    "all_df.shape"
   ]
  },
  {
   "cell_type": "code",
   "execution_count": null,
   "metadata": {},
   "outputs": [],
   "source": []
  },
  {
   "cell_type": "markdown",
   "metadata": {},
   "source": [
    "### (ii) gross_world"
   ]
  },
  {
   "cell_type": "code",
   "execution_count": 85,
   "metadata": {},
   "outputs": [
    {
     "data": {
      "text/plain": [
       "0       4.799041e+07\n",
       "1       2.461210e+08\n",
       "2       1.006918e+09\n",
       "4       2.166012e+08\n",
       "8       5.008362e+07\n",
       "            ...     \n",
       "1518             NaN\n",
       "1519             NaN\n",
       "1520             NaN\n",
       "1521             NaN\n",
       "1522    1.570073e+07\n",
       "Name: gross_world, Length: 1135, dtype: float64"
      ]
     },
     "execution_count": 85,
     "metadata": {},
     "output_type": "execute_result"
    }
   ],
   "source": [
    "# Examine the distribution. Pretty skewed.\n",
    "# all_df['opening_weekend_usa'].hist(bins=20)\n",
    "all_df['gross_world']"
   ]
  },
  {
   "cell_type": "code",
   "execution_count": 86,
   "metadata": {},
   "outputs": [
    {
     "data": {
      "text/plain": [
       "<AxesSubplot:>"
      ]
     },
     "execution_count": 86,
     "metadata": {},
     "output_type": "execute_result"
    },
    {
     "data": {
      "image/png": "[encoded data removed]",
      "text/plain": [
       "<Figure size 432x288 with 1 Axes>"
      ]
     },
     "metadata": {
      "needs_background": "light"
     },
     "output_type": "display_data"
    }
   ],
   "source": [
    "# Try log. Slightly better. Still not very normal\n",
    "np.log(all_df['gross_world']).hist(bins=20)"
   ]
  },
  {
   "cell_type": "code",
   "execution_count": 87,
   "metadata": {},
   "outputs": [
    {
     "data": {
      "image/png": "[encoded data removed]",
      "text/plain": [
       "<Figure size 432x288 with 1 Axes>"
      ]
     },
     "metadata": {
      "needs_background": "light"
     },
     "output_type": "display_data"
    },
    {
     "data": {
      "image/png": "[encoded data removed]",
      "text/plain": [
       "<Figure size 432x288 with 1 Axes>"
      ]
     },
     "metadata": {
      "needs_background": "light"
     },
     "output_type": "display_data"
    }
   ],
   "source": [
    "# demonstration of the power transform on data with a skew\n",
    "from numpy import exp\n",
    "from numpy.random import randn\n",
    "from sklearn.preprocessing import PowerTransformer\n",
    "from matplotlib import pyplot as plt\n",
    "# generate gaussian data sample\n",
    "data = randn(1000)\n",
    "# add a skew to the data distribution\n",
    "data = exp(data)\n",
    "# histogram of the raw data with a skew\n",
    "plt.hist(data, bins=25)\n",
    "plt.show()\n",
    "# reshape data to have rows and columns\n",
    "data = data.reshape((len(data),1))\n",
    "# power transform the raw data\n",
    "power = PowerTransformer(method='yeo-johnson', standardize=True)\n",
    "data_trans = power.fit_transform(data)\n",
    "# histogram of the transformed data\n",
    "plt.hist(data_trans, bins=25)\n",
    "plt.show()"
   ]
  },
  {
   "cell_type": "code",
   "execution_count": 88,
   "metadata": {},
   "outputs": [
    {
     "data": {
      "image/png": "[encoded data removed]",
      "text/plain": [
       "<Figure size 432x288 with 1 Axes>"
      ]
     },
     "metadata": {
      "needs_background": "light"
     },
     "output_type": "display_data"
    }
   ],
   "source": [
    "# Explore power transform\n",
    "data = all_df[['opening_weekend_usa']]\n",
    "power = PowerTransformer(method='yeo-johnson', standardize=True)\n",
    "data_trans = power.fit_transform(data)\n",
    "plt.hist(data_trans, bins=25)\n",
    "plt.show()"
   ]
  },
  {
   "cell_type": "code",
   "execution_count": 89,
   "metadata": {},
   "outputs": [
    {
     "data": {
      "image/png": "[encoded data removed]",
      "text/plain": [
       "<Figure size 432x288 with 1 Axes>"
      ]
     },
     "metadata": {
      "needs_background": "light"
     },
     "output_type": "display_data"
    }
   ],
   "source": [
    "# Explore power transform (box-cox)\n",
    "data = all_df[['opening_weekend_usa']]\n",
    "power = PowerTransformer(method='box-cox', standardize=True)\n",
    "data_trans = power.fit_transform(data)\n",
    "plt.hist(data_trans, bins=25)\n",
    "plt.show()"
   ]
  },
  {
   "cell_type": "code",
   "execution_count": 90,
   "metadata": {},
   "outputs": [],
   "source": [
    "# Seems like both log and power transform are similarr\n",
    "all_df['log_owu'] = np.log(all_df['opening_weekend_usa'])\n",
    "\n",
    "data = all_df[['opening_weekend_usa']]\n",
    "power = PowerTransformer(method='box-cox', standardize=True)\n",
    "data_trans = power.fit_transform(data)\n",
    "all_df['log_owu'] = data_trans.reshape(len(data),)"
   ]
  },
  {
   "cell_type": "code",
   "execution_count": 91,
   "metadata": {},
   "outputs": [
    {
     "data": {
      "text/plain": [
       "(1135, 47)"
      ]
     },
     "execution_count": 91,
     "metadata": {},
     "output_type": "execute_result"
    }
   ],
   "source": [
    "all_df.shape"
   ]
  },
  {
   "cell_type": "code",
   "execution_count": null,
   "metadata": {},
   "outputs": [],
   "source": []
  },
  {
   "cell_type": "markdown",
   "metadata": {},
   "source": [
    "### (ii) IMDb rating"
   ]
  },
  {
   "cell_type": "code",
   "execution_count": 92,
   "metadata": {},
   "outputs": [
    {
     "data": {
      "text/plain": [
       "<AxesSubplot:>"
      ]
     },
     "execution_count": 92,
     "metadata": {},
     "output_type": "execute_result"
    },
    {
     "data": {
      "image/png": "[encoded data removed]",
      "text/plain": [
       "<Figure size 432x288 with 1 Axes>"
      ]
     },
     "metadata": {
      "needs_background": "light"
     },
     "output_type": "display_data"
    }
   ],
   "source": [
    "# Distribution looks ok. Will keep it as it is for now.\n",
    "all_df['rating'].hist(bins=20)"
   ]
  },
  {
   "cell_type": "code",
   "execution_count": null,
   "metadata": {},
   "outputs": [],
   "source": []
  },
  {
   "cell_type": "markdown",
   "metadata": {},
   "source": [
    "### (2) Independent variables (predictors)\n",
    "### (a) Continuous variables"
   ]
  },
  {
   "cell_type": "markdown",
   "metadata": {},
   "source": [
    "#### 1. time"
   ]
  },
  {
   "cell_type": "code",
   "execution_count": 93,
   "metadata": {},
   "outputs": [
    {
     "data": {
      "text/plain": [
       "<AxesSubplot:>"
      ]
     },
     "execution_count": 93,
     "metadata": {},
     "output_type": "execute_result"
    },
    {
     "data": {
      "image/png": "[encoded data removed]",
      "text/plain": [
       "<Figure size 432x288 with 1 Axes>"
      ]
     },
     "metadata": {
      "needs_background": "light"
     },
     "output_type": "display_data"
    }
   ],
   "source": [
    "# Movie release year\n",
    "all_df['release_year'].hist(bins=20)"
   ]
  },
  {
   "cell_type": "code",
   "execution_count": 94,
   "metadata": {},
   "outputs": [
    {
     "data": {
      "text/plain": [
       "<AxesSubplot:>"
      ]
     },
     "execution_count": 94,
     "metadata": {},
     "output_type": "execute_result"
    },
    {
     "data": {
      "image/png": "[encoded data removed]",
      "text/plain": [
       "<Figure size 432x288 with 1 Axes>"
      ]
     },
     "metadata": {
      "needs_background": "light"
     },
     "output_type": "display_data"
    }
   ],
   "source": [
    "# Convert to \"how old\" the movie is\n",
    "(2020-all_df['release_year']).hist(bins=20)"
   ]
  },
  {
   "cell_type": "code",
   "execution_count": 95,
   "metadata": {},
   "outputs": [
    {
     "data": {
      "image/png": "[encoded data removed]",
      "text/plain": [
       "<Figure size 432x288 with 1 Axes>"
      ]
     },
     "metadata": {
      "needs_background": "light"
     },
     "output_type": "display_data"
    }
   ],
   "source": [
    "# Try power transform\n",
    "data = (all_df[['release_year']].apply(lambda x: 2022 - x))\n",
    "power = PowerTransformer(method='box-cox', standardize=True)\n",
    "data_trans = power.fit_transform(data)\n",
    "plt.hist(data_trans, bins=25)\n",
    "plt.show()\n",
    "# Create a new column in case needed in the futurre\n",
    "all_df['T_movie_age'] = data_trans.reshape(len(data),)"
   ]
  },
  {
   "cell_type": "code",
   "execution_count": 96,
   "metadata": {},
   "outputs": [
    {
     "data": {
      "text/plain": [
       "<AxesSubplot:>"
      ]
     },
     "execution_count": 96,
     "metadata": {},
     "output_type": "execute_result"
    },
    {
     "data": {
      "image/png": "[encoded data removed]",
      "text/plain": [
       "<Figure size 432x288 with 1 Axes>"
      ]
     },
     "metadata": {
      "needs_background": "light"
     },
     "output_type": "display_data"
    }
   ],
   "source": [
    "# Also check for book first published year\n",
    "(2020-all_df['publish_year']).hist(bins=20)"
   ]
  },
  {
   "cell_type": "code",
   "execution_count": 97,
   "metadata": {},
   "outputs": [
    {
     "data": {
      "image/png": "[encoded data removed]",
      "text/plain": [
       "<Figure size 432x288 with 1 Axes>"
      ]
     },
     "metadata": {
      "needs_background": "light"
     },
     "output_type": "display_data"
    }
   ],
   "source": [
    "# Try power transform\n",
    "data = (all_df[['publish_year']].apply(lambda x: 2021 - x))\n",
    "power = PowerTransformer(method='box-cox', standardize=True)\n",
    "data_trans = power.fit_transform(data)\n",
    "plt.hist(data_trans, bins=25)\n",
    "plt.show()\n",
    "# Create a new column in case needed in the futurre\n",
    "all_df['T_book_age'] = data_trans.reshape(len(data),)"
   ]
  },
  {
   "cell_type": "code",
   "execution_count": null,
   "metadata": {},
   "outputs": [],
   "source": []
  },
  {
   "cell_type": "markdown",
   "metadata": {},
   "source": [
    "### (b) Categorical variables - single label"
   ]
  },
  {
   "cell_type": "markdown",
   "metadata": {},
   "source": [
    "### 1. MPAA rating"
   ]
  },
  {
   "cell_type": "code",
   "execution_count": 98,
   "metadata": {},
   "outputs": [
    {
     "data": {
      "text/plain": [
       "R           437\n",
       "PG-13       228\n",
       "PG          179\n",
       "Approved     90\n",
       "Not          67\n",
       "Passed       54\n",
       "G            38\n",
       "Unrated       9\n",
       "1h            8\n",
       "TV-MA         7\n",
       "TV-14         4\n",
       "TV-PG         4\n",
       "GP            3\n",
       "M             3\n",
       "M/PG          2\n",
       "X             1\n",
       "2h            1\n",
       "Name: MPAA, dtype: int64"
      ]
     },
     "execution_count": 98,
     "metadata": {},
     "output_type": "execute_result"
    }
   ],
   "source": [
    "# Find the distribution and keep only the top frequent categories\n",
    "all_df.MPAA.value_counts()"
   ]
  },
  {
   "cell_type": "code",
   "execution_count": 99,
   "metadata": {},
   "outputs": [],
   "source": [
    "# Keep only the top 3\n",
    "MPAA_discard = ['G','Passed','Not','X','M/PG','Approved','NC-17','Unrated']\n",
    "all_df.MPAA.replace(MPAA_discard,'Other',inplace=True)"
   ]
  },
  {
   "cell_type": "code",
   "execution_count": 100,
   "metadata": {},
   "outputs": [
    {
     "data": {
      "text/plain": [
       "R        437\n",
       "Other    261\n",
       "PG-13    228\n",
       "PG       179\n",
       "1h         8\n",
       "TV-MA      7\n",
       "TV-PG      4\n",
       "TV-14      4\n",
       "GP         3\n",
       "M          3\n",
       "2h         1\n",
       "Name: MPAA, dtype: int64"
      ]
     },
     "execution_count": 100,
     "metadata": {},
     "output_type": "execute_result"
    }
   ],
   "source": [
    "all_df.MPAA.value_counts()"
   ]
  },
  {
   "cell_type": "code",
   "execution_count": null,
   "metadata": {},
   "outputs": [],
   "source": []
  },
  {
   "cell_type": "markdown",
   "metadata": {},
   "source": [
    "### 2. distributor"
   ]
  },
  {
   "cell_type": "code",
   "execution_count": 101,
   "metadata": {},
   "outputs": [
    {
     "data": {
      "text/plain": [
       "WarnerBros.                 68\n",
       "TwentiethCenturyFox         63\n",
       "ParamountPictures           60\n",
       "ColumbiaPictures            59\n",
       "Metro-Goldwyn-Mayer(MGM)    53\n",
       "Name: distributor, dtype: int64"
      ]
     },
     "execution_count": 101,
     "metadata": {},
     "output_type": "execute_result"
    }
   ],
   "source": [
    "all_df.distributor.value_counts().head(5)"
   ]
  },
  {
   "cell_type": "code",
   "execution_count": 102,
   "metadata": {},
   "outputs": [],
   "source": [
    "# Keep only the top 3\n",
    "distributor_keep = ['WarnerBros.','ParamountPictures','ColumbiaPictures','UniversalPictures',\\\n",
    "             'TwentiethCenturyFox','TwentiethCenturyFox']\n",
    "distributor_discard = list(set(all_df.distributor.unique()).difference(set(distributor_keep)))\n",
    "all_df.distributor.replace(distributor_discard,'Other',inplace=True)"
   ]
  },
  {
   "cell_type": "code",
   "execution_count": 103,
   "metadata": {},
   "outputs": [
    {
     "data": {
      "text/plain": [
       "Other                  840\n",
       "WarnerBros.             68\n",
       "TwentiethCenturyFox     63\n",
       "ParamountPictures       60\n",
       "ColumbiaPictures        59\n",
       "UniversalPictures       45\n",
       "Name: distributor, dtype: int64"
      ]
     },
     "execution_count": 103,
     "metadata": {},
     "output_type": "execute_result"
    }
   ],
   "source": [
    "all_df.distributor.value_counts()"
   ]
  },
  {
   "cell_type": "code",
   "execution_count": null,
   "metadata": {},
   "outputs": [],
   "source": []
  },
  {
   "cell_type": "markdown",
   "metadata": {},
   "source": [
    "### (b) Categorical variables - multi label"
   ]
  },
  {
   "cell_type": "markdown",
   "metadata": {},
   "source": [
    "### 1. genre\n",
    "Find the top frequent genres and convert the column from list to set in preparation for `MultiLabelBinarizer()`."
   ]
  },
  {
   "cell_type": "code",
   "execution_count": 104,
   "metadata": {},
   "outputs": [
    {
     "data": {
      "text/plain": [
       "[{'genre': 'Drama', 'count': 814},\n",
       " {'genre': 'Romance', 'count': 287},\n",
       " {'genre': 'Comedy', 'count': 260},\n",
       " {'genre': 'Crime', 'count': 223},\n",
       " {'genre': 'Adventure', 'count': 216},\n",
       " {'genre': 'Thriller', 'count': 182},\n",
       " {'genre': 'Action', 'count': 161},\n",
       " {'genre': 'Mystery', 'count': 143},\n",
       " {'genre': 'Family', 'count': 125},\n",
       " {'genre': 'Fantasy', 'count': 95},\n",
       " {'genre': 'Horror', 'count': 77},\n",
       " {'genre': 'Sci-Fi', 'count': 74},\n",
       " {'genre': 'War', 'count': 47},\n",
       " {'genre': 'Film-Noir', 'count': 35},\n",
       " {'genre': 'History', 'count': 33},\n",
       " {'genre': 'Animation', 'count': 28},\n",
       " {'genre': 'Biography', 'count': 27},\n",
       " {'genre': 'Western', 'count': 20},\n",
       " {'genre': 'Music', 'count': 14},\n",
       " {'genre': 'Sport', 'count': 12},\n",
       " {'genre': 'Musical', 'count': 11}]"
      ]
     },
     "execution_count": 104,
     "metadata": {},
     "output_type": "execute_result"
    }
   ],
   "source": [
    "# Find the top 10 genre\n",
    "genre_all = []\n",
    "for row in all_df.genre:\n",
    "    genre_all += row\n",
    "genre_count = []\n",
    "for genre in set(genre_all):\n",
    "    genre_count.append({'genre':genre,'count':genre_all.count(genre)})\n",
    "sorted(genre_count, key = lambda i: i['count'],reverse=True)"
   ]
  },
  {
   "cell_type": "code",
   "execution_count": 105,
   "metadata": {},
   "outputs": [
    {
     "data": {
      "text/html": [
       "<div>\n",
       "<style scoped>\n",
       "    .dataframe tbody tr th:only-of-type {\n",
       "        vertical-align: middle;\n",
       "    }\n",
       "\n",
       "    .dataframe tbody tr th {\n",
       "        vertical-align: top;\n",
       "    }\n",
       "\n",
       "    .dataframe thead th {\n",
       "        text-align: right;\n",
       "    }\n",
       "</style>\n",
       "<table border=\"1\" class=\"dataframe\">\n",
       "  <thead>\n",
       "    <tr style=\"text-align: right;\">\n",
       "      <th></th>\n",
       "      <th>genre</th>\n",
       "    </tr>\n",
       "  </thead>\n",
       "  <tbody>\n",
       "    <tr>\n",
       "      <th>0</th>\n",
       "      <td>{Drama, Romance}</td>\n",
       "    </tr>\n",
       "    <tr>\n",
       "      <th>1</th>\n",
       "      <td>{Drama, Crime}</td>\n",
       "    </tr>\n",
       "    <tr>\n",
       "      <th>2</th>\n",
       "      <td>{Family, Adventure, Fantasy}</td>\n",
       "    </tr>\n",
       "    <tr>\n",
       "      <th>4</th>\n",
       "      <td>{Drama, Romance}</td>\n",
       "    </tr>\n",
       "    <tr>\n",
       "      <th>8</th>\n",
       "      <td>{Drama, Romance, Family}</td>\n",
       "    </tr>\n",
       "    <tr>\n",
       "      <th>...</th>\n",
       "      <td>...</td>\n",
       "    </tr>\n",
       "    <tr>\n",
       "      <th>1518</th>\n",
       "      <td>{Drama}</td>\n",
       "    </tr>\n",
       "    <tr>\n",
       "      <th>1519</th>\n",
       "      <td>{Drama, Romance}</td>\n",
       "    </tr>\n",
       "    <tr>\n",
       "      <th>1520</th>\n",
       "      <td>{Drama, Family, Comedy}</td>\n",
       "    </tr>\n",
       "    <tr>\n",
       "      <th>1521</th>\n",
       "      <td>{Drama, Crime, Thriller}</td>\n",
       "    </tr>\n",
       "    <tr>\n",
       "      <th>1522</th>\n",
       "      <td>{Drama, Romance}</td>\n",
       "    </tr>\n",
       "  </tbody>\n",
       "</table>\n",
       "<p>1135 rows × 1 columns</p>\n",
       "</div>"
      ],
      "text/plain": [
       "                             genre\n",
       "0                 {Drama, Romance}\n",
       "1                   {Drama, Crime}\n",
       "2     {Family, Adventure, Fantasy}\n",
       "4                 {Drama, Romance}\n",
       "8         {Drama, Romance, Family}\n",
       "...                            ...\n",
       "1518                       {Drama}\n",
       "1519              {Drama, Romance}\n",
       "1520       {Drama, Family, Comedy}\n",
       "1521      {Drama, Crime, Thriller}\n",
       "1522              {Drama, Romance}\n",
       "\n",
       "[1135 rows x 1 columns]"
      ]
     },
     "execution_count": 105,
     "metadata": {},
     "output_type": "execute_result"
    }
   ],
   "source": [
    "# Keep only the top 12 genre\n",
    "genre_list = ['Drama','Adventure','Comedy','Action','Crime','Romance','Thriller',\\\n",
    "              'Mystery','Family','Fantasy','Horror','Sci-Fi']\n",
    "# The rest will go to \"Other\"\n",
    "all_df['genre']= all_df.genre.apply(lambda x:\\\n",
    "                            [genre if genre in genre_list else 'Other'for genre in x])\n",
    "# Convert genre column from list to set\n",
    "all_df['genre'] = all_df.genre.apply(lambda x: set(x))\n",
    "all_df[['genre']]"
   ]
  },
  {
   "cell_type": "code",
   "execution_count": null,
   "metadata": {},
   "outputs": [],
   "source": []
  },
  {
   "cell_type": "markdown",
   "metadata": {},
   "source": [
    "### 2. language"
   ]
  },
  {
   "cell_type": "code",
   "execution_count": 106,
   "metadata": {
    "scrolled": true
   },
   "outputs": [
    {
     "data": {
      "text/plain": [
       "[{'language': 'English', 'count': 1135},\n",
       " {'language': 'French', 'count': 119},\n",
       " {'language': 'Spanish', 'count': 88},\n",
       " {'language': 'German', 'count': 81},\n",
       " {'language': 'Italian', 'count': 53},\n",
       " {'language': 'Russian', 'count': 45},\n",
       " {'language': 'Latin', 'count': 26},\n",
       " {'language': 'Japanese', 'count': 19},\n",
       " {'language': 'Arabic', 'count': 18},\n",
       " {'language': 'Mandarin', 'count': 14},\n",
       " {'language': 'Portuguese', 'count': 10},\n",
       " {'language': 'Greek', 'count': 10},\n",
       " {'language': 'Hebrew', 'count': 10},\n",
       " {'language': 'Polish', 'count': 8},\n",
       " {'language': 'Cantonese', 'count': 6},\n",
       " {'language': 'Dutch', 'count': 6},\n",
       " {'language': 'Turkish', 'count': 5},\n",
       " {'language': 'Swedish', 'count': 5},\n",
       " {'language': 'Ukrainian', 'count': 5},\n",
       " {'language': 'Hindi', 'count': 5},\n",
       " {'language': 'Danish', 'count': 4},\n",
       " {'language': 'Yiddish', 'count': 4},\n",
       " {'language': 'Chinese', 'count': 4},\n",
       " {'language': 'AmericanSignLanguage', 'count': 4},\n",
       " {'language': 'Urdu', 'count': 3},\n",
       " {'language': 'Icelandic', 'count': 2},\n",
       " {'language': 'Romanian', 'count': 2},\n",
       " {'language': 'NorthAmericanIndian', 'count': 2},\n",
       " {'language': 'Polynesian', 'count': 2},\n",
       " {'language': 'Pawnee', 'count': 2},\n",
       " {'language': 'Serbian', 'count': 2},\n",
       " {'language': 'Thai', 'count': 2},\n",
       " {'language': 'Indonesian', 'count': 2},\n",
       " {'language': 'Vietnamese', 'count': 2},\n",
       " {'language': 'Persian', 'count': 2},\n",
       " {'language': 'Czech', 'count': 2},\n",
       " {'language': 'Armenian', 'count': 2},\n",
       " {'language': 'ScottishGaelic', 'count': 2},\n",
       " {'language': 'Tagalog', 'count': 1},\n",
       " {'language': 'Korean', 'count': 1},\n",
       " {'language': 'Hungarian', 'count': 1},\n",
       " {'language': 'Scots', 'count': 1},\n",
       " {'language': 'Sindarin', 'count': 1},\n",
       " {'language': 'Khmer', 'count': 1},\n",
       " {'language': 'TokPisin', 'count': 1},\n",
       " {'language': 'Pushto', 'count': 1},\n",
       " {'language': 'Aboriginal', 'count': 1},\n",
       " {'language': 'Malay', 'count': 1},\n",
       " {'language': 'SwissGerman', 'count': 1},\n",
       " {'language': 'Akan', 'count': 1},\n",
       " {'language': 'Hawaiian', 'count': 1},\n",
       " {'language': 'Zulu', 'count': 1},\n",
       " {'language': 'Swahili', 'count': 1},\n",
       " {'language': 'Yoruba', 'count': 1},\n",
       " {'language': 'Shanghainese', 'count': 1},\n",
       " {'language': 'Welsh', 'count': 1},\n",
       " {'language': 'Filipino', 'count': 1},\n",
       " {'language': 'Sioux', 'count': 1},\n",
       " {'language': 'Apachelanguages', 'count': 1},\n",
       " {'language': 'Bengali', 'count': 1},\n",
       " {'language': 'Sanskrit', 'count': 1},\n",
       " {'language': 'Irish', 'count': 1},\n",
       " {'language': 'Dari', 'count': 1},\n",
       " {'language': 'Cornish', 'count': 1},\n",
       " {'language': 'Norse,Old', 'count': 1},\n",
       " {'language': 'Quechua', 'count': 1},\n",
       " {'language': 'Tamil', 'count': 1},\n",
       " {'language': 'Afrikaans', 'count': 1},\n",
       " {'language': 'Kurdish', 'count': 1}]"
      ]
     },
     "execution_count": 106,
     "metadata": {},
     "output_type": "execute_result"
    }
   ],
   "source": [
    "# Find the top 10 language\n",
    "language_all = []\n",
    "for row in all_df.language:\n",
    "    language_all += row\n",
    "language_count = []\n",
    "for language in set(language_all):\n",
    "    language_count.append({'language':language,'count':language_all.count(language)})\n",
    "sorted(language_count, key = lambda i: i['count'],reverse=True)"
   ]
  },
  {
   "cell_type": "code",
   "execution_count": 107,
   "metadata": {},
   "outputs": [
    {
     "data": {
      "text/html": [
       "<div>\n",
       "<style scoped>\n",
       "    .dataframe tbody tr th:only-of-type {\n",
       "        vertical-align: middle;\n",
       "    }\n",
       "\n",
       "    .dataframe tbody tr th {\n",
       "        vertical-align: top;\n",
       "    }\n",
       "\n",
       "    .dataframe thead th {\n",
       "        text-align: right;\n",
       "    }\n",
       "</style>\n",
       "<table border=\"1\" class=\"dataframe\">\n",
       "  <thead>\n",
       "    <tr style=\"text-align: right;\">\n",
       "      <th></th>\n",
       "      <th>language</th>\n",
       "    </tr>\n",
       "  </thead>\n",
       "  <tbody>\n",
       "    <tr>\n",
       "      <th>0</th>\n",
       "      <td>{English, Other}</td>\n",
       "    </tr>\n",
       "    <tr>\n",
       "      <th>1</th>\n",
       "      <td>{English, Other, Italian}</td>\n",
       "    </tr>\n",
       "    <tr>\n",
       "      <th>2</th>\n",
       "      <td>{English}</td>\n",
       "    </tr>\n",
       "    <tr>\n",
       "      <th>4</th>\n",
       "      <td>{English, French}</td>\n",
       "    </tr>\n",
       "    <tr>\n",
       "      <th>8</th>\n",
       "      <td>{French, English, German}</td>\n",
       "    </tr>\n",
       "    <tr>\n",
       "      <th>...</th>\n",
       "      <td>...</td>\n",
       "    </tr>\n",
       "    <tr>\n",
       "      <th>1518</th>\n",
       "      <td>{English}</td>\n",
       "    </tr>\n",
       "    <tr>\n",
       "      <th>1519</th>\n",
       "      <td>{English}</td>\n",
       "    </tr>\n",
       "    <tr>\n",
       "      <th>1520</th>\n",
       "      <td>{English}</td>\n",
       "    </tr>\n",
       "    <tr>\n",
       "      <th>1521</th>\n",
       "      <td>{English}</td>\n",
       "    </tr>\n",
       "    <tr>\n",
       "      <th>1522</th>\n",
       "      <td>{English}</td>\n",
       "    </tr>\n",
       "  </tbody>\n",
       "</table>\n",
       "<p>1135 rows × 1 columns</p>\n",
       "</div>"
      ],
      "text/plain": [
       "                       language\n",
       "0              {English, Other}\n",
       "1     {English, Other, Italian}\n",
       "2                     {English}\n",
       "4             {English, French}\n",
       "8     {French, English, German}\n",
       "...                         ...\n",
       "1518                  {English}\n",
       "1519                  {English}\n",
       "1520                  {English}\n",
       "1521                  {English}\n",
       "1522                  {English}\n",
       "\n",
       "[1135 rows x 1 columns]"
      ]
     },
     "execution_count": 107,
     "metadata": {},
     "output_type": "execute_result"
    }
   ],
   "source": [
    "# Keep only the top 6 language\n",
    "language_list = ['English','French','German','Spanish','Russian','Italian']\n",
    "# The rest will go to \"Other\"\n",
    "all_df['language']= all_df.language.apply(lambda x:\\\n",
    "                            [language if language in language_list else 'Other' for language in x])\n",
    "# Convert genre column from list to set\n",
    "all_df['language'] = all_df.language.apply(lambda x: set(x))\n",
    "all_df[['language']]"
   ]
  },
  {
   "cell_type": "code",
   "execution_count": null,
   "metadata": {},
   "outputs": [],
   "source": []
  },
  {
   "cell_type": "code",
   "execution_count": null,
   "metadata": {},
   "outputs": [],
   "source": []
  },
  {
   "cell_type": "markdown",
   "metadata": {},
   "source": [
    "### 3. country"
   ]
  },
  {
   "cell_type": "code",
   "execution_count": 116,
   "metadata": {
    "scrolled": true
   },
   "outputs": [
    {
     "data": {
      "text/plain": [
       "[{'country': 'USA', 'count': 830},\n",
       " {'country': 'UK', 'count': 182},\n",
       " {'country': 'Other', 'count': 139},\n",
       " {'country': 'Germany', 'count': 60},\n",
       " {'country': 'France', 'count': 54},\n",
       " {'country': 'Canada', 'count': 50}]"
      ]
     },
     "execution_count": 116,
     "metadata": {},
     "output_type": "execute_result"
    }
   ],
   "source": [
    "# Find the top 10 country\n",
    "country_all = []\n",
    "for row in all_df.country:\n",
    "    country_all += row\n",
    "country_count = []\n",
    "for country in set(country_all):\n",
    "    country_count.append({'country':country,'count':country_all.count(country)})\n",
    "sorted(country_count, key = lambda i: i['count'],reverse=True)"
   ]
  },
  {
   "cell_type": "code",
   "execution_count": 117,
   "metadata": {},
   "outputs": [
    {
     "name": "stderr",
     "output_type": "stream",
     "text": [
      "<ipython-input-117-cd5c8916fe15>:4: SettingWithCopyWarning: \n",
      "A value is trying to be set on a copy of a slice from a DataFrame.\n",
      "Try using .loc[row_indexer,col_indexer] = value instead\n",
      "\n",
      "See the caveats in the documentation: https://pandas.pydata.org/pandas-docs/stable/user_guide/indexing.html#returning-a-view-versus-a-copy\n",
      "  all_df['country']= all_df.country.apply(lambda x:\\\n",
      "<ipython-input-117-cd5c8916fe15>:7: SettingWithCopyWarning: \n",
      "A value is trying to be set on a copy of a slice from a DataFrame.\n",
      "Try using .loc[row_indexer,col_indexer] = value instead\n",
      "\n",
      "See the caveats in the documentation: https://pandas.pydata.org/pandas-docs/stable/user_guide/indexing.html#returning-a-view-versus-a-copy\n",
      "  all_df['country'] = all_df.country.apply(lambda x: set(x))\n"
     ]
    },
    {
     "data": {
      "text/html": [
       "<div>\n",
       "<style scoped>\n",
       "    .dataframe tbody tr th:only-of-type {\n",
       "        vertical-align: middle;\n",
       "    }\n",
       "\n",
       "    .dataframe tbody tr th {\n",
       "        vertical-align: top;\n",
       "    }\n",
       "\n",
       "    .dataframe thead th {\n",
       "        text-align: right;\n",
       "    }\n",
       "</style>\n",
       "<table border=\"1\" class=\"dataframe\">\n",
       "  <thead>\n",
       "    <tr style=\"text-align: right;\">\n",
       "      <th></th>\n",
       "      <th>country</th>\n",
       "    </tr>\n",
       "  </thead>\n",
       "  <tbody>\n",
       "    <tr>\n",
       "      <th>1</th>\n",
       "      <td>{USA}</td>\n",
       "    </tr>\n",
       "    <tr>\n",
       "      <th>2</th>\n",
       "      <td>{UK, USA}</td>\n",
       "    </tr>\n",
       "    <tr>\n",
       "      <th>4</th>\n",
       "      <td>{USA}</td>\n",
       "    </tr>\n",
       "    <tr>\n",
       "      <th>8</th>\n",
       "      <td>{Canada, USA}</td>\n",
       "    </tr>\n",
       "    <tr>\n",
       "      <th>13</th>\n",
       "      <td>{USA}</td>\n",
       "    </tr>\n",
       "    <tr>\n",
       "      <th>...</th>\n",
       "      <td>...</td>\n",
       "    </tr>\n",
       "    <tr>\n",
       "      <th>1514</th>\n",
       "      <td>{USA}</td>\n",
       "    </tr>\n",
       "    <tr>\n",
       "      <th>1515</th>\n",
       "      <td>{USA}</td>\n",
       "    </tr>\n",
       "    <tr>\n",
       "      <th>1516</th>\n",
       "      <td>{UK, USA}</td>\n",
       "    </tr>\n",
       "    <tr>\n",
       "      <th>1517</th>\n",
       "      <td>{USA}</td>\n",
       "    </tr>\n",
       "    <tr>\n",
       "      <th>1520</th>\n",
       "      <td>{USA}</td>\n",
       "    </tr>\n",
       "  </tbody>\n",
       "</table>\n",
       "<p>830 rows × 1 columns</p>\n",
       "</div>"
      ],
      "text/plain": [
       "            country\n",
       "1             {USA}\n",
       "2         {UK, USA}\n",
       "4             {USA}\n",
       "8     {Canada, USA}\n",
       "13            {USA}\n",
       "...             ...\n",
       "1514          {USA}\n",
       "1515          {USA}\n",
       "1516      {UK, USA}\n",
       "1517          {USA}\n",
       "1520          {USA}\n",
       "\n",
       "[830 rows x 1 columns]"
      ]
     },
     "execution_count": 117,
     "metadata": {},
     "output_type": "execute_result"
    }
   ],
   "source": [
    "# Keep only the top 5 country\n",
    "country_list = ['USA','UK','Germany','France','Canada','Italy','Australia','India']\n",
    "# The rest will go to \"Other\"\n",
    "all_df['country']= all_df.country.apply(lambda x:\\\n",
    "                            [country if country in country_list else 'Other' for country in x])\n",
    "# Convert genre column from list to set\n",
    "all_df['country'] = all_df.country.apply(lambda x: set(x))\n",
    "all_df[['country']]"
   ]
  },
  {
   "cell_type": "code",
   "execution_count": null,
   "metadata": {},
   "outputs": [],
   "source": []
  },
  {
   "cell_type": "code",
   "execution_count": 118,
   "metadata": {},
   "outputs": [
    {
     "name": "stdout",
     "output_type": "stream",
     "text": [
      "<class 'pandas.core.frame.DataFrame'>\n",
      "Int64Index: 830 entries, 1 to 1520\n",
      "Data columns (total 49 columns):\n",
      " #   Column                  Non-Null Count  Dtype         \n",
      "---  ------                  --------------  -----         \n",
      " 0   movie_title             830 non-null    object        \n",
      " 1   rating                  830 non-null    float64       \n",
      " 2   MPAA                    830 non-null    object        \n",
      " 3   genre                   830 non-null    object        \n",
      " 4   release_date            830 non-null    datetime64[ns]\n",
      " 5   budget                  830 non-null    float64       \n",
      " 6   opening_weekend_usa     596 non-null    float64       \n",
      " 7   gross_usa               830 non-null    float64       \n",
      " 8   gross_world             680 non-null    float64       \n",
      " 9   runtime                 830 non-null    float64       \n",
      " 10  director                830 non-null    object        \n",
      " 11  writer                  830 non-null    object        \n",
      " 12  actor                   830 non-null    object        \n",
      " 13  distributor             830 non-null    object        \n",
      " 14  language                830 non-null    object        \n",
      " 15  country                 830 non-null    object        \n",
      " 16  author                  830 non-null    object        \n",
      " 17  rating_value_b          830 non-null    float64       \n",
      " 18  rating_count_b          830 non-null    float64       \n",
      " 19  review_count_b          830 non-null    float64       \n",
      " 20  page                    830 non-null    float64       \n",
      " 21  publish_year            830 non-null    float64       \n",
      " 22  title_x                 830 non-null    object        \n",
      " 23  book_popularity_x       830 non-null    float64       \n",
      " 24  author_popularity_x     830 non-null    float64       \n",
      " 25  release_year            830 non-null    int64         \n",
      " 26  count_a                 830 non-null    int64         \n",
      " 27  release_month           830 non-null    int64         \n",
      " 28  dow                     830 non-null    int64         \n",
      " 29  film_count_d            830 non-null    int64         \n",
      " 30  avg_rating_d            830 non-null    float64       \n",
      " 31  avg_gross_d             830 non-null    int64         \n",
      " 32  title_y                 830 non-null    object        \n",
      " 33  genre_y                 830 non-null    object        \n",
      " 34  title_search            830 non-null    float64       \n",
      " 35  search_fiction_book     830 non-null    float64       \n",
      " 36  author_search           830 non-null    float64       \n",
      " 37  search_fiction_author   830 non-null    float64       \n",
      " 38  book_popularity         822 non-null    float64       \n",
      " 39  author_popularity       830 non-null    float64       \n",
      " 40  log_book_search         830 non-null    float64       \n",
      " 41  log_author_search       830 non-null    float64       \n",
      " 42  book_popularity_test    830 non-null    float64       \n",
      " 43  log_book_popularity     830 non-null    float64       \n",
      " 44  author_popularity_test  830 non-null    float64       \n",
      " 45  log_author_popularity   830 non-null    float64       \n",
      " 46  log_owu                 596 non-null    float64       \n",
      " 47  T_movie_age             830 non-null    float64       \n",
      " 48  T_book_age              830 non-null    float64       \n",
      "dtypes: datetime64[ns](1), float64(29), int64(6), object(13)\n",
      "memory usage: 324.2+ KB\n"
     ]
    }
   ],
   "source": [
    "all_df.info()"
   ]
  },
  {
   "cell_type": "code",
   "execution_count": 119,
   "metadata": {},
   "outputs": [
    {
     "data": {
      "text/html": [
       "<div>\n",
       "<style scoped>\n",
       "    .dataframe tbody tr th:only-of-type {\n",
       "        vertical-align: middle;\n",
       "    }\n",
       "\n",
       "    .dataframe tbody tr th {\n",
       "        vertical-align: top;\n",
       "    }\n",
       "\n",
       "    .dataframe thead th {\n",
       "        text-align: right;\n",
       "    }\n",
       "</style>\n",
       "<table border=\"1\" class=\"dataframe\">\n",
       "  <thead>\n",
       "    <tr style=\"text-align: right;\">\n",
       "      <th></th>\n",
       "      <th>movie_title</th>\n",
       "      <th>rating</th>\n",
       "      <th>MPAA</th>\n",
       "      <th>genre</th>\n",
       "      <th>release_date</th>\n",
       "      <th>budget</th>\n",
       "      <th>opening_weekend_usa</th>\n",
       "      <th>gross_usa</th>\n",
       "      <th>gross_world</th>\n",
       "      <th>runtime</th>\n",
       "      <th>...</th>\n",
       "      <th>author_popularity</th>\n",
       "      <th>log_book_search</th>\n",
       "      <th>log_author_search</th>\n",
       "      <th>book_popularity_test</th>\n",
       "      <th>log_book_popularity</th>\n",
       "      <th>author_popularity_test</th>\n",
       "      <th>log_author_popularity</th>\n",
       "      <th>log_owu</th>\n",
       "      <th>T_movie_age</th>\n",
       "      <th>T_book_age</th>\n",
       "    </tr>\n",
       "  </thead>\n",
       "  <tbody>\n",
       "  </tbody>\n",
       "</table>\n",
       "<p>0 rows × 49 columns</p>\n",
       "</div>"
      ],
      "text/plain": [
       "Empty DataFrame\n",
       "Columns: [movie_title, rating, MPAA, genre, release_date, budget, opening_weekend_usa, gross_usa, gross_world, runtime, director, writer, actor, distributor, language, country, author, rating_value_b, rating_count_b, review_count_b, page, publish_year, title_x, book_popularity_x, author_popularity_x, release_year, count_a, release_month, dow, film_count_d, avg_rating_d, avg_gross_d, title_y, genre_y, title_search, search_fiction_book, author_search, search_fiction_author, book_popularity, author_popularity, log_book_search, log_author_search, book_popularity_test, log_book_popularity, author_popularity_test, log_author_popularity, log_owu, T_movie_age, T_book_age]\n",
       "Index: []\n",
       "\n",
       "[0 rows x 49 columns]"
      ]
     },
     "execution_count": 119,
     "metadata": {},
     "output_type": "execute_result"
    }
   ],
   "source": [
    "all_df[all_df.title_search.isna() == True]"
   ]
  },
  {
   "cell_type": "code",
   "execution_count": 120,
   "metadata": {},
   "outputs": [
    {
     "name": "stdout",
     "output_type": "stream",
     "text": [
      "<class 'pandas.core.frame.DataFrame'>\n",
      "Int64Index: 830 entries, 1 to 1520\n",
      "Data columns (total 49 columns):\n",
      " #   Column                  Non-Null Count  Dtype         \n",
      "---  ------                  --------------  -----         \n",
      " 0   movie_title             830 non-null    object        \n",
      " 1   rating                  830 non-null    float64       \n",
      " 2   MPAA                    830 non-null    object        \n",
      " 3   genre                   830 non-null    object        \n",
      " 4   release_date            830 non-null    datetime64[ns]\n",
      " 5   budget                  830 non-null    float64       \n",
      " 6   opening_weekend_usa     596 non-null    float64       \n",
      " 7   gross_usa               830 non-null    float64       \n",
      " 8   gross_world             680 non-null    float64       \n",
      " 9   runtime                 830 non-null    float64       \n",
      " 10  director                830 non-null    object        \n",
      " 11  writer                  830 non-null    object        \n",
      " 12  actor                   830 non-null    object        \n",
      " 13  distributor             830 non-null    object        \n",
      " 14  language                830 non-null    object        \n",
      " 15  country                 830 non-null    object        \n",
      " 16  author                  830 non-null    object        \n",
      " 17  rating_value_b          830 non-null    float64       \n",
      " 18  rating_count_b          830 non-null    float64       \n",
      " 19  review_count_b          830 non-null    float64       \n",
      " 20  page                    830 non-null    float64       \n",
      " 21  publish_year            830 non-null    float64       \n",
      " 22  title_x                 830 non-null    object        \n",
      " 23  book_popularity_x       830 non-null    float64       \n",
      " 24  author_popularity_x     830 non-null    float64       \n",
      " 25  release_year            830 non-null    int64         \n",
      " 26  count_a                 830 non-null    int64         \n",
      " 27  release_month           830 non-null    int64         \n",
      " 28  dow                     830 non-null    int64         \n",
      " 29  film_count_d            830 non-null    int64         \n",
      " 30  avg_rating_d            830 non-null    float64       \n",
      " 31  avg_gross_d             830 non-null    int64         \n",
      " 32  title_y                 830 non-null    object        \n",
      " 33  genre_y                 830 non-null    object        \n",
      " 34  title_search            830 non-null    float64       \n",
      " 35  search_fiction_book     830 non-null    float64       \n",
      " 36  author_search           830 non-null    float64       \n",
      " 37  search_fiction_author   830 non-null    float64       \n",
      " 38  book_popularity         822 non-null    float64       \n",
      " 39  author_popularity       830 non-null    float64       \n",
      " 40  log_book_search         830 non-null    float64       \n",
      " 41  log_author_search       830 non-null    float64       \n",
      " 42  book_popularity_test    830 non-null    float64       \n",
      " 43  log_book_popularity     830 non-null    float64       \n",
      " 44  author_popularity_test  830 non-null    float64       \n",
      " 45  log_author_popularity   830 non-null    float64       \n",
      " 46  log_owu                 596 non-null    float64       \n",
      " 47  T_movie_age             830 non-null    float64       \n",
      " 48  T_book_age              830 non-null    float64       \n",
      "dtypes: datetime64[ns](1), float64(29), int64(6), object(13)\n",
      "memory usage: 324.2+ KB\n"
     ]
    }
   ],
   "source": [
    "# Drop budget == NaN\n",
    "all_df = all_df.dropna(subset=['budget'])\n",
    "# Fill page with mean\n",
    "all_df[['page']] = all_df[['page']].fillna(value = all_df['page'].mean())\n",
    "all_df[['runtime']] = all_df[['runtime']].fillna(value = all_df['runtime'].mean())\n",
    "all_df.info()"
   ]
  },
  {
   "cell_type": "code",
   "execution_count": null,
   "metadata": {},
   "outputs": [],
   "source": []
  },
  {
   "cell_type": "code",
   "execution_count": 121,
   "metadata": {},
   "outputs": [],
   "source": [
    "# Save the cleaned all_df\n",
    "all_df.to_pickle('../dump/complete_data_cleaned')"
   ]
  },
  {
   "cell_type": "code",
   "execution_count": null,
   "metadata": {},
   "outputs": [],
   "source": []
  },
  {
   "cell_type": "code",
   "execution_count": null,
   "metadata": {},
   "outputs": [],
   "source": []
  },
  {
   "cell_type": "code",
   "execution_count": null,
   "metadata": {},
   "outputs": [],
   "source": []
  },
  {
   "cell_type": "code",
   "execution_count": null,
   "metadata": {},
   "outputs": [],
   "source": []
  },
  {
   "cell_type": "code",
   "execution_count": null,
   "metadata": {},
   "outputs": [],
   "source": []
  }
 ],
 "metadata": {
  "kernelspec": {
   "display_name": "Python 3",
   "language": "python",
   "name": "python3"
  },
  "language_info": {
   "codemirror_mode": {
    "name": "ipython",
    "version": 3
   },
   "file_extension": ".py",
   "mimetype": "text/x-python",
   "name": "python",
   "nbconvert_exporter": "python",
   "pygments_lexer": "ipython3",
   "version": "3.8.5"
  }
 },
 "nbformat": 4,
 "nbformat_minor": 4
}
