{
 "cells": [
  {
   "cell_type": "code",
   "execution_count": 1,
   "metadata": {},
   "outputs": [],
   "source": [
    "import pandas as pd\n",
    "from sklearn.model_selection import train_test_split\n",
    "from sklearn.linear_model import LinearRegression\n",
    "from sklearn.metrics import mean_squared_error\n",
    "from sklearn.preprocessing import OneHotEncoder\n",
    "import numpy as np\n",
    "import seaborn as sns\n",
    "import matplotlib.pyplot as plt"
   ]
  },
  {
   "cell_type": "markdown",
   "metadata": {},
   "source": [
    "## 1. Load raw combined data"
   ]
  },
  {
   "cell_type": "code",
   "execution_count": 8,
   "metadata": {},
   "outputs": [],
   "source": [
    "# Load movie+book data\n",
    "import pandas as pd\n",
    "all_data_df = pd.read_pickle('../dump/combined_correctRT_data')"
   ]
  },
  {
   "cell_type": "code",
   "execution_count": 18,
   "metadata": {},
   "outputs": [
    {
     "data": {
      "text/plain": [
       "(1370, 29)"
      ]
     },
     "execution_count": 18,
     "metadata": {},
     "output_type": "execute_result"
    }
   ],
   "source": [
    "all_data_df.shape"
   ]
  },
  {
   "cell_type": "code",
   "execution_count": 21,
   "metadata": {},
   "outputs": [
    {
     "name": "stdout",
     "output_type": "stream",
     "text": [
      "<class 'pandas.core.frame.DataFrame'>\n",
      "Int64Index: 1370 entries, 0 to 1369\n",
      "Data columns (total 29 columns):\n",
      " #   Column               Non-Null Count  Dtype         \n",
      "---  ------               --------------  -----         \n",
      " 0   movie_title          1370 non-null   object        \n",
      " 1   rating               1370 non-null   float64       \n",
      " 2   vote                 1370 non-null   int64         \n",
      " 3   certificate          1370 non-null   object        \n",
      " 4   genre                1370 non-null   object        \n",
      " 5   release_date         1370 non-null   datetime64[ns]\n",
      " 6   metascore            481 non-null    float64       \n",
      " 7   keywords             1370 non-null   object        \n",
      " 8   budget               965 non-null    float64       \n",
      " 9   opening_weekend_usa  817 non-null    float64       \n",
      " 10  gross_usa            932 non-null    float64       \n",
      " 11  gross_world          995 non-null    float64       \n",
      " 12  runtime              1354 non-null   float64       \n",
      " 13  director             1370 non-null   object        \n",
      " 14  link_d               1370 non-null   object        \n",
      " 15  writer               1370 non-null   object        \n",
      " 16  link_w               1370 non-null   object        \n",
      " 17  star                 1370 non-null   object        \n",
      " 18  link_s               1370 non-null   object        \n",
      " 19  distributor          1365 non-null   object        \n",
      " 20  language             1370 non-null   object        \n",
      " 21  country              1370 non-null   object        \n",
      " 22  book_title           1370 non-null   object        \n",
      " 23  author               1370 non-null   object        \n",
      " 24  rating_value         1370 non-null   float64       \n",
      " 25  rating_count         1370 non-null   float64       \n",
      " 26  review_count         1370 non-null   float64       \n",
      " 27  page                 1333 non-null   float64       \n",
      " 28  year                 1365 non-null   float64       \n",
      "dtypes: datetime64[ns](1), float64(12), int64(1), object(15)\n",
      "memory usage: 321.1+ KB\n"
     ]
    }
   ],
   "source": [
    "all_data_df.info()"
   ]
  },
  {
   "cell_type": "code",
   "execution_count": 22,
   "metadata": {},
   "outputs": [],
   "source": [
    "all_df = all_data_df.drop(columns=['vote','metascore','keywords',\\\n",
    "                                   'link_d','link_s','link_w',\\\n",
    "                                   'book_title','rating_value','rating_count','review_count']).\\\n",
    "                    drop_duplicates(subset=['movie_title','director'])\n",
    "all_df.rename(columns = {'certificate':'MPAA','star':'actor','year':'publish_year'},inplace=True)"
   ]
  },
  {
   "cell_type": "code",
   "execution_count": 23,
   "metadata": {},
   "outputs": [],
   "source": [
    "all_df = all_df.dropna().reset_index()"
   ]
  },
  {
   "cell_type": "code",
   "execution_count": 24,
   "metadata": {},
   "outputs": [
    {
     "data": {
      "text/html": [
       "<div>\n",
       "<style scoped>\n",
       "    .dataframe tbody tr th:only-of-type {\n",
       "        vertical-align: middle;\n",
       "    }\n",
       "\n",
       "    .dataframe tbody tr th {\n",
       "        vertical-align: top;\n",
       "    }\n",
       "\n",
       "    .dataframe thead th {\n",
       "        text-align: right;\n",
       "    }\n",
       "</style>\n",
       "<table border=\"1\" class=\"dataframe\">\n",
       "  <thead>\n",
       "    <tr style=\"text-align: right;\">\n",
       "      <th></th>\n",
       "      <th>index</th>\n",
       "      <th>movie_title</th>\n",
       "      <th>rating</th>\n",
       "      <th>MPAA</th>\n",
       "      <th>genre</th>\n",
       "      <th>release_date</th>\n",
       "      <th>budget</th>\n",
       "      <th>opening_weekend_usa</th>\n",
       "      <th>gross_usa</th>\n",
       "      <th>gross_world</th>\n",
       "      <th>runtime</th>\n",
       "      <th>director</th>\n",
       "      <th>writer</th>\n",
       "      <th>actor</th>\n",
       "      <th>distributor</th>\n",
       "      <th>language</th>\n",
       "      <th>country</th>\n",
       "      <th>author</th>\n",
       "      <th>page</th>\n",
       "      <th>publish_year</th>\n",
       "    </tr>\n",
       "  </thead>\n",
       "  <tbody>\n",
       "    <tr>\n",
       "      <th>0</th>\n",
       "      <td>1</td>\n",
       "      <td>The Godfather</td>\n",
       "      <td>9.2</td>\n",
       "      <td>R</td>\n",
       "      <td>[Crime, Drama]</td>\n",
       "      <td>1972-03-24</td>\n",
       "      <td>6000000.0</td>\n",
       "      <td>302393.0</td>\n",
       "      <td>134966411.0</td>\n",
       "      <td>2.461210e+08</td>\n",
       "      <td>175.0</td>\n",
       "      <td>Francis Ford Coppola</td>\n",
       "      <td>[Mario Puzo, Francis Ford Coppola]</td>\n",
       "      <td>[Marlon Brando, Al Pacino, James Caan]</td>\n",
       "      <td>ParamountPictures</td>\n",
       "      <td>[English, Italian, Latin]</td>\n",
       "      <td>[USA]</td>\n",
       "      <td>Mario Puzo</td>\n",
       "      <td>448.0</td>\n",
       "      <td>1969.0</td>\n",
       "    </tr>\n",
       "    <tr>\n",
       "      <th>1</th>\n",
       "      <td>2</td>\n",
       "      <td>Harry Potter and the Sorcerer's Stone</td>\n",
       "      <td>7.6</td>\n",
       "      <td>PG</td>\n",
       "      <td>[Adventure, Family, Fantasy]</td>\n",
       "      <td>2001-11-16</td>\n",
       "      <td>125000000.0</td>\n",
       "      <td>90294621.0</td>\n",
       "      <td>318087620.0</td>\n",
       "      <td>1.006918e+09</td>\n",
       "      <td>159.0</td>\n",
       "      <td>Chris Columbus</td>\n",
       "      <td>[J.K. Rowling, Steve Kloves]</td>\n",
       "      <td>[Daniel Radcliffe, Rupert Grint, Richard Harris]</td>\n",
       "      <td>WarnerBros.</td>\n",
       "      <td>[English]</td>\n",
       "      <td>[UK, USA]</td>\n",
       "      <td>J.K. Rowling</td>\n",
       "      <td>309.0</td>\n",
       "      <td>1997.0</td>\n",
       "    </tr>\n",
       "    <tr>\n",
       "      <th>2</th>\n",
       "      <td>4</td>\n",
       "      <td>Little Women</td>\n",
       "      <td>7.8</td>\n",
       "      <td>PG</td>\n",
       "      <td>[Drama, Romance]</td>\n",
       "      <td>2019-12-25</td>\n",
       "      <td>40000000.0</td>\n",
       "      <td>16755310.0</td>\n",
       "      <td>108101214.0</td>\n",
       "      <td>2.166012e+08</td>\n",
       "      <td>135.0</td>\n",
       "      <td>Greta Gerwig</td>\n",
       "      <td>[Greta Gerwig, Louisa May Alcott]</td>\n",
       "      <td>[Saoirse Ronan, Emma Watson, Florence Pugh]</td>\n",
       "      <td>ColumbiaPictures</td>\n",
       "      <td>[English, French]</td>\n",
       "      <td>[USA]</td>\n",
       "      <td>Louisa May Alcott</td>\n",
       "      <td>449.0</td>\n",
       "      <td>1868.0</td>\n",
       "    </tr>\n",
       "    <tr>\n",
       "      <th>3</th>\n",
       "      <td>5</td>\n",
       "      <td>Little Women</td>\n",
       "      <td>7.3</td>\n",
       "      <td>PG</td>\n",
       "      <td>[Drama, Family, Romance]</td>\n",
       "      <td>1994-12-25</td>\n",
       "      <td>18000000.0</td>\n",
       "      <td>2411247.0</td>\n",
       "      <td>50083616.0</td>\n",
       "      <td>5.008362e+07</td>\n",
       "      <td>115.0</td>\n",
       "      <td>Gillian Armstrong</td>\n",
       "      <td>[Louisa May Alcott, Robin Swicord]</td>\n",
       "      <td>[Susan Sarandon, Winona Ryder, Kirsten Dunst]</td>\n",
       "      <td>ColumbiaPictures</td>\n",
       "      <td>[English, German, French]</td>\n",
       "      <td>[USA, Canada]</td>\n",
       "      <td>Louisa May Alcott</td>\n",
       "      <td>449.0</td>\n",
       "      <td>1868.0</td>\n",
       "    </tr>\n",
       "    <tr>\n",
       "      <th>4</th>\n",
       "      <td>8</td>\n",
       "      <td>Ready Player One</td>\n",
       "      <td>7.5</td>\n",
       "      <td>PG-13</td>\n",
       "      <td>[Action, Adventure, Sci-Fi]</td>\n",
       "      <td>2018-03-29</td>\n",
       "      <td>175000000.0</td>\n",
       "      <td>41764050.0</td>\n",
       "      <td>137690172.0</td>\n",
       "      <td>5.828937e+08</td>\n",
       "      <td>140.0</td>\n",
       "      <td>Steven Spielberg</td>\n",
       "      <td>[Zak Penn, Ernest Cline]</td>\n",
       "      <td>[Tye Sheridan, Olivia Cooke, Ben Mendelsohn]</td>\n",
       "      <td>WarnerBros.</td>\n",
       "      <td>[English]</td>\n",
       "      <td>[USA, India]</td>\n",
       "      <td>Ernest Cline</td>\n",
       "      <td>374.0</td>\n",
       "      <td>2011.0</td>\n",
       "    </tr>\n",
       "  </tbody>\n",
       "</table>\n",
       "</div>"
      ],
      "text/plain": [
       "   index                            movie_title  rating   MPAA  \\\n",
       "0      1                          The Godfather     9.2      R   \n",
       "1      2  Harry Potter and the Sorcerer's Stone     7.6     PG   \n",
       "2      4                           Little Women     7.8     PG   \n",
       "3      5                           Little Women     7.3     PG   \n",
       "4      8                       Ready Player One     7.5  PG-13   \n",
       "\n",
       "                          genre release_date       budget  \\\n",
       "0                [Crime, Drama]   1972-03-24    6000000.0   \n",
       "1  [Adventure, Family, Fantasy]   2001-11-16  125000000.0   \n",
       "2              [Drama, Romance]   2019-12-25   40000000.0   \n",
       "3      [Drama, Family, Romance]   1994-12-25   18000000.0   \n",
       "4   [Action, Adventure, Sci-Fi]   2018-03-29  175000000.0   \n",
       "\n",
       "   opening_weekend_usa    gross_usa   gross_world  runtime  \\\n",
       "0             302393.0  134966411.0  2.461210e+08    175.0   \n",
       "1           90294621.0  318087620.0  1.006918e+09    159.0   \n",
       "2           16755310.0  108101214.0  2.166012e+08    135.0   \n",
       "3            2411247.0   50083616.0  5.008362e+07    115.0   \n",
       "4           41764050.0  137690172.0  5.828937e+08    140.0   \n",
       "\n",
       "               director                              writer  \\\n",
       "0  Francis Ford Coppola  [Mario Puzo, Francis Ford Coppola]   \n",
       "1        Chris Columbus        [J.K. Rowling, Steve Kloves]   \n",
       "2          Greta Gerwig   [Greta Gerwig, Louisa May Alcott]   \n",
       "3     Gillian Armstrong  [Louisa May Alcott, Robin Swicord]   \n",
       "4      Steven Spielberg            [Zak Penn, Ernest Cline]   \n",
       "\n",
       "                                              actor        distributor  \\\n",
       "0            [Marlon Brando, Al Pacino, James Caan]  ParamountPictures   \n",
       "1  [Daniel Radcliffe, Rupert Grint, Richard Harris]        WarnerBros.   \n",
       "2       [Saoirse Ronan, Emma Watson, Florence Pugh]   ColumbiaPictures   \n",
       "3     [Susan Sarandon, Winona Ryder, Kirsten Dunst]   ColumbiaPictures   \n",
       "4      [Tye Sheridan, Olivia Cooke, Ben Mendelsohn]        WarnerBros.   \n",
       "\n",
       "                    language        country             author   page  \\\n",
       "0  [English, Italian, Latin]          [USA]         Mario Puzo  448.0   \n",
       "1                  [English]      [UK, USA]       J.K. Rowling  309.0   \n",
       "2          [English, French]          [USA]  Louisa May Alcott  449.0   \n",
       "3  [English, German, French]  [USA, Canada]  Louisa May Alcott  449.0   \n",
       "4                  [English]   [USA, India]       Ernest Cline  374.0   \n",
       "\n",
       "   publish_year  \n",
       "0        1969.0  \n",
       "1        1997.0  \n",
       "2        1868.0  \n",
       "3        1868.0  \n",
       "4        2011.0  "
      ]
     },
     "execution_count": 24,
     "metadata": {},
     "output_type": "execute_result"
    }
   ],
   "source": [
    "all_df.head()"
   ]
  },
  {
   "cell_type": "code",
   "execution_count": 25,
   "metadata": {},
   "outputs": [
    {
     "data": {
      "text/plain": [
       "(1370, 29)"
      ]
     },
     "execution_count": 25,
     "metadata": {},
     "output_type": "execute_result"
    }
   ],
   "source": [
    "all_data_df.shape"
   ]
  },
  {
   "cell_type": "code",
   "execution_count": 26,
   "metadata": {},
   "outputs": [
    {
     "data": {
      "text/plain": [
       "(608, 20)"
      ]
     },
     "execution_count": 26,
     "metadata": {},
     "output_type": "execute_result"
    }
   ],
   "source": [
    "all_df.shape"
   ]
  },
  {
   "cell_type": "code",
   "execution_count": 27,
   "metadata": {},
   "outputs": [],
   "source": [
    "all_df.to_pickle('../dump/all_df')"
   ]
  },
  {
   "cell_type": "code",
   "execution_count": 17,
   "metadata": {},
   "outputs": [
    {
     "data": {
      "text/plain": [
       "Index(['level_0', 'index', 'movie_title', 'rating', 'MPAA', 'genre',\n",
       "       'release_date', 'budget', 'opening_weekend_usa', 'gross_usa',\n",
       "       'gross_world', 'runtime', 'director', 'writer', 'actor', 'distributor',\n",
       "       'language', 'country', 'author', 'page', 'publish_year',\n",
       "       'book_popularity', 'author_popularity'],\n",
       "      dtype='object')"
      ]
     },
     "execution_count": 17,
     "metadata": {},
     "output_type": "execute_result"
    }
   ],
   "source": [
    "all_df.columns"
   ]
  },
  {
   "cell_type": "markdown",
   "metadata": {},
   "source": [
    "## 2. Collect more features"
   ]
  },
  {
   "cell_type": "markdown",
   "metadata": {},
   "source": [
    "### (1) release time of the movie"
   ]
  },
  {
   "cell_type": "code",
   "execution_count": 10,
   "metadata": {},
   "outputs": [],
   "source": [
    "# Divide release_date into year, month, day of week\n",
    "all_df['release_year'] = all_df['release_date'].dt.year\n",
    "all_df['release_month'] = all_df['release_date'].dt.month\n",
    "all_df['dow'] = all_df['release_date'].dt.weekday"
   ]
  },
  {
   "cell_type": "code",
   "execution_count": null,
   "metadata": {},
   "outputs": [],
   "source": []
  },
  {
   "cell_type": "markdown",
   "metadata": {},
   "source": [
    "### (2) director value"
   ]
  },
  {
   "cell_type": "code",
   "execution_count": 11,
   "metadata": {},
   "outputs": [],
   "source": [
    "# Find corresponding value of each director when movie is released\n",
    "# ['avg_rating','avg_gross'] (per movie directed)\n",
    "director_df = pd.read_pickle('../dump/director_data')"
   ]
  },
  {
   "cell_type": "code",
   "execution_count": 12,
   "metadata": {},
   "outputs": [
    {
     "data": {
      "text/plain": [
       "(6, 32634196)"
      ]
     },
     "execution_count": 12,
     "metadata": {},
     "output_type": "execute_result"
    }
   ],
   "source": [
    "# Find the mean rating, gross of all directors\n",
    "director_rating_mean = int(director_df.rating.mean())\n",
    "director_gross_mean = int(director_df.gross_usa.mean())\n",
    "\n",
    "director_rating_mean, director_gross_mean"
   ]
  },
  {
   "cell_type": "code",
   "execution_count": 13,
   "metadata": {},
   "outputs": [],
   "source": [
    "def director_value(movie):\n",
    "    \"\"\"\n",
    "    input: movie (each row in all_data_df)\n",
    "    output: \n",
    "        - film_count: number of movies directed before the movie of interest\n",
    "        - avg_rating: average rating of movies directed before the movie of interest\n",
    "        - avg_gross: gross per movie before the movie of interest\n",
    "    \"\"\"\n",
    "    \n",
    "    movie_title = movie.movie_title\n",
    "    director = movie.director\n",
    "    year = movie.release_date\n",
    "\n",
    "    headers = ['movie_title','director','film_count_d','avg_rating_d','avg_gross_d']\n",
    "    \n",
    "    # Assign default values\n",
    "    film_count,avg_rating,avg_gross = 0, director_rating_mean, director_gross_mean\n",
    "    \n",
    "    doi_df = director_df[(director_df.director == director) & (director_df.year < year)]\n",
    "    \n",
    "    # Fill NaN with director's mean\n",
    "    doi_df[['rating','gross_usa']].apply(lambda x: x.fillna(x.mean(),axis=0))\n",
    "    \n",
    "    # If there's still NaN, fill with all directors' mean\n",
    "    doi_df[['rating']] = doi_df[['rating']].apply(lambda x: x.fillna(director_rating_mean,axis=0))\n",
    "    doi_df[['gross_usa']] = doi_df[['gross_usa']].apply(lambda x: x.fillna(director_gross_mean,axis=0))\n",
    "    \n",
    "   \n",
    "    if doi_df.shape[0] == 0:\n",
    "        film_count,avg_rating,avg_gross = 0, director_rating_mean, director_gross_mean\n",
    "    else:\n",
    "        \n",
    "    \n",
    "    \n",
    "        film_count = doi_df.shape[0]\n",
    "\n",
    "        \n",
    "        avg_rating = doi_df['rating'].mean()\n",
    "        if avg_rating == np.nan:\n",
    "            avg_rating = director_rating_mean\n",
    "\n",
    "        try:\n",
    "            avg_gross = int(doi_df['gross_usa'].mean())\n",
    "        except ValueError:\n",
    "            avg_gross = director_gross_mean\n",
    "        \n",
    "    \n",
    "    director_value = dict(zip(headers, [movie_title,director,film_count,avg_rating,avg_gross]))\n",
    "    \n",
    "    return director_value"
   ]
  },
  {
   "cell_type": "code",
   "execution_count": 14,
   "metadata": {},
   "outputs": [],
   "source": [
    "# Create df including columns of director film_count, avg_rating, avg_gross\n",
    "# Rows correspond to rows in all_df\n",
    "movie_director_df = all_df.dropna().apply(director_value,axis=1).apply(pd.Series)"
   ]
  },
  {
   "cell_type": "code",
   "execution_count": 15,
   "metadata": {},
   "outputs": [
    {
     "data": {
      "text/html": [
       "<div>\n",
       "<style scoped>\n",
       "    .dataframe tbody tr th:only-of-type {\n",
       "        vertical-align: middle;\n",
       "    }\n",
       "\n",
       "    .dataframe tbody tr th {\n",
       "        vertical-align: top;\n",
       "    }\n",
       "\n",
       "    .dataframe thead th {\n",
       "        text-align: right;\n",
       "    }\n",
       "</style>\n",
       "<table border=\"1\" class=\"dataframe\">\n",
       "  <thead>\n",
       "    <tr style=\"text-align: right;\">\n",
       "      <th></th>\n",
       "      <th>movie_title</th>\n",
       "      <th>director</th>\n",
       "      <th>film_count_d</th>\n",
       "      <th>avg_rating_d</th>\n",
       "      <th>avg_gross_d</th>\n",
       "    </tr>\n",
       "  </thead>\n",
       "  <tbody>\n",
       "    <tr>\n",
       "      <th>0</th>\n",
       "      <td>The Godfather</td>\n",
       "      <td>Francis Ford Coppola</td>\n",
       "      <td>7</td>\n",
       "      <td>5.285714</td>\n",
       "      <td>32634196</td>\n",
       "    </tr>\n",
       "    <tr>\n",
       "      <th>1</th>\n",
       "      <td>Harry Potter and the Sorcerer's Stone</td>\n",
       "      <td>Chris Columbus</td>\n",
       "      <td>9</td>\n",
       "      <td>6.622222</td>\n",
       "      <td>106588545</td>\n",
       "    </tr>\n",
       "    <tr>\n",
       "      <th>2</th>\n",
       "      <td>Little Women</td>\n",
       "      <td>Greta Gerwig</td>\n",
       "      <td>2</td>\n",
       "      <td>6.700000</td>\n",
       "      <td>24481851</td>\n",
       "    </tr>\n",
       "    <tr>\n",
       "      <th>3</th>\n",
       "      <td>Little Women</td>\n",
       "      <td>Gillian Armstrong</td>\n",
       "      <td>11</td>\n",
       "      <td>6.663636</td>\n",
       "      <td>24220795</td>\n",
       "    </tr>\n",
       "    <tr>\n",
       "      <th>4</th>\n",
       "      <td>Ready Player One</td>\n",
       "      <td>Steven Spielberg</td>\n",
       "      <td>34</td>\n",
       "      <td>7.202941</td>\n",
       "      <td>132444136</td>\n",
       "    </tr>\n",
       "    <tr>\n",
       "      <th>...</th>\n",
       "      <td>...</td>\n",
       "      <td>...</td>\n",
       "      <td>...</td>\n",
       "      <td>...</td>\n",
       "      <td>...</td>\n",
       "    </tr>\n",
       "    <tr>\n",
       "      <th>576</th>\n",
       "      <td>Never Die Alone</td>\n",
       "      <td>Ernest R. Dickerson</td>\n",
       "      <td>7</td>\n",
       "      <td>6.157143</td>\n",
       "      <td>20446469</td>\n",
       "    </tr>\n",
       "    <tr>\n",
       "      <th>577</th>\n",
       "      <td>Radio Free Albemuth</td>\n",
       "      <td>John Alan Simon</td>\n",
       "      <td>0</td>\n",
       "      <td>6.000000</td>\n",
       "      <td>32634196</td>\n",
       "    </tr>\n",
       "    <tr>\n",
       "      <th>578</th>\n",
       "      <td>The Golden Bowl</td>\n",
       "      <td>James Ivory</td>\n",
       "      <td>23</td>\n",
       "      <td>6.317391</td>\n",
       "      <td>18103663</td>\n",
       "    </tr>\n",
       "    <tr>\n",
       "      <th>579</th>\n",
       "      <td>The Good Mother</td>\n",
       "      <td>Leonard Nimoy</td>\n",
       "      <td>3</td>\n",
       "      <td>6.700000</td>\n",
       "      <td>117988379</td>\n",
       "    </tr>\n",
       "    <tr>\n",
       "      <th>580</th>\n",
       "      <td>Finders Keepers</td>\n",
       "      <td>Richard Lester</td>\n",
       "      <td>22</td>\n",
       "      <td>6.481818</td>\n",
       "      <td>34423133</td>\n",
       "    </tr>\n",
       "  </tbody>\n",
       "</table>\n",
       "<p>581 rows × 5 columns</p>\n",
       "</div>"
      ],
      "text/plain": [
       "                               movie_title              director  \\\n",
       "0                            The Godfather  Francis Ford Coppola   \n",
       "1    Harry Potter and the Sorcerer's Stone        Chris Columbus   \n",
       "2                             Little Women          Greta Gerwig   \n",
       "3                             Little Women     Gillian Armstrong   \n",
       "4                         Ready Player One      Steven Spielberg   \n",
       "..                                     ...                   ...   \n",
       "576                        Never Die Alone   Ernest R. Dickerson   \n",
       "577                    Radio Free Albemuth       John Alan Simon   \n",
       "578                        The Golden Bowl           James Ivory   \n",
       "579                        The Good Mother         Leonard Nimoy   \n",
       "580                        Finders Keepers        Richard Lester   \n",
       "\n",
       "     film_count_d  avg_rating_d  avg_gross_d  \n",
       "0               7      5.285714     32634196  \n",
       "1               9      6.622222    106588545  \n",
       "2               2      6.700000     24481851  \n",
       "3              11      6.663636     24220795  \n",
       "4              34      7.202941    132444136  \n",
       "..            ...           ...          ...  \n",
       "576             7      6.157143     20446469  \n",
       "577             0      6.000000     32634196  \n",
       "578            23      6.317391     18103663  \n",
       "579             3      6.700000    117988379  \n",
       "580            22      6.481818     34423133  \n",
       "\n",
       "[581 rows x 5 columns]"
      ]
     },
     "execution_count": 15,
     "metadata": {},
     "output_type": "execute_result"
    }
   ],
   "source": [
    "movie_director_df"
   ]
  },
  {
   "cell_type": "code",
   "execution_count": 16,
   "metadata": {},
   "outputs": [],
   "source": [
    "# Merge all_df and director value\n",
    "all_d_df = pd.merge(all_df, movie_director_df, left_index=True, right_index=True ,how='left')"
   ]
  },
  {
   "cell_type": "code",
   "execution_count": 17,
   "metadata": {},
   "outputs": [],
   "source": [
    "# Merge all_df and director value\n",
    "all_d_df = pd.merge(all_df, movie_director_df, on=['movie_title','director'] ,how='left')"
   ]
  },
  {
   "cell_type": "code",
   "execution_count": 18,
   "metadata": {},
   "outputs": [
    {
     "data": {
      "text/html": [
       "<div>\n",
       "<style scoped>\n",
       "    .dataframe tbody tr th:only-of-type {\n",
       "        vertical-align: middle;\n",
       "    }\n",
       "\n",
       "    .dataframe tbody tr th {\n",
       "        vertical-align: top;\n",
       "    }\n",
       "\n",
       "    .dataframe thead th {\n",
       "        text-align: right;\n",
       "    }\n",
       "</style>\n",
       "<table border=\"1\" class=\"dataframe\">\n",
       "  <thead>\n",
       "    <tr style=\"text-align: right;\">\n",
       "      <th></th>\n",
       "      <th>index</th>\n",
       "      <th>movie_title</th>\n",
       "      <th>rating</th>\n",
       "      <th>MPAA</th>\n",
       "      <th>genre</th>\n",
       "      <th>release_date</th>\n",
       "      <th>budget</th>\n",
       "      <th>opening_weekend_usa</th>\n",
       "      <th>gross_usa</th>\n",
       "      <th>gross_world</th>\n",
       "      <th>...</th>\n",
       "      <th>page</th>\n",
       "      <th>publish_year</th>\n",
       "      <th>book_popularity</th>\n",
       "      <th>author_popularity</th>\n",
       "      <th>release_year</th>\n",
       "      <th>release_month</th>\n",
       "      <th>dow</th>\n",
       "      <th>film_count_d</th>\n",
       "      <th>avg_rating_d</th>\n",
       "      <th>avg_gross_d</th>\n",
       "    </tr>\n",
       "  </thead>\n",
       "  <tbody>\n",
       "    <tr>\n",
       "      <th>0</th>\n",
       "      <td>1</td>\n",
       "      <td>The Godfather</td>\n",
       "      <td>9.2</td>\n",
       "      <td>R</td>\n",
       "      <td>[Crime, Drama]</td>\n",
       "      <td>1972-03-24</td>\n",
       "      <td>6000000.0</td>\n",
       "      <td>302393.0</td>\n",
       "      <td>134966411.0</td>\n",
       "      <td>2.461210e+08</td>\n",
       "      <td>...</td>\n",
       "      <td>448.0</td>\n",
       "      <td>1969.0</td>\n",
       "      <td>0.16</td>\n",
       "      <td>0.0699</td>\n",
       "      <td>1972</td>\n",
       "      <td>3</td>\n",
       "      <td>4</td>\n",
       "      <td>7</td>\n",
       "      <td>5.285714</td>\n",
       "      <td>32634196</td>\n",
       "    </tr>\n",
       "    <tr>\n",
       "      <th>1</th>\n",
       "      <td>2</td>\n",
       "      <td>Harry Potter and the Sorcerer's Stone</td>\n",
       "      <td>7.6</td>\n",
       "      <td>PG</td>\n",
       "      <td>[Adventure, Family, Fantasy]</td>\n",
       "      <td>2001-11-16</td>\n",
       "      <td>125000000.0</td>\n",
       "      <td>90294621.0</td>\n",
       "      <td>318087620.0</td>\n",
       "      <td>1.006918e+09</td>\n",
       "      <td>...</td>\n",
       "      <td>309.0</td>\n",
       "      <td>1997.0</td>\n",
       "      <td>0.14</td>\n",
       "      <td>0.0149</td>\n",
       "      <td>2001</td>\n",
       "      <td>11</td>\n",
       "      <td>4</td>\n",
       "      <td>9</td>\n",
       "      <td>6.622222</td>\n",
       "      <td>106588545</td>\n",
       "    </tr>\n",
       "    <tr>\n",
       "      <th>2</th>\n",
       "      <td>4</td>\n",
       "      <td>Little Women</td>\n",
       "      <td>7.8</td>\n",
       "      <td>PG</td>\n",
       "      <td>[Drama, Romance]</td>\n",
       "      <td>2019-12-25</td>\n",
       "      <td>40000000.0</td>\n",
       "      <td>16755310.0</td>\n",
       "      <td>108101214.0</td>\n",
       "      <td>2.166012e+08</td>\n",
       "      <td>...</td>\n",
       "      <td>449.0</td>\n",
       "      <td>1868.0</td>\n",
       "      <td>0.00</td>\n",
       "      <td>0.0151</td>\n",
       "      <td>2019</td>\n",
       "      <td>12</td>\n",
       "      <td>2</td>\n",
       "      <td>2</td>\n",
       "      <td>6.700000</td>\n",
       "      <td>24481851</td>\n",
       "    </tr>\n",
       "    <tr>\n",
       "      <th>3</th>\n",
       "      <td>8</td>\n",
       "      <td>Little Women</td>\n",
       "      <td>7.3</td>\n",
       "      <td>PG</td>\n",
       "      <td>[Drama, Family, Romance]</td>\n",
       "      <td>1994-12-25</td>\n",
       "      <td>18000000.0</td>\n",
       "      <td>2411247.0</td>\n",
       "      <td>50083616.0</td>\n",
       "      <td>5.008362e+07</td>\n",
       "      <td>...</td>\n",
       "      <td>449.0</td>\n",
       "      <td>1868.0</td>\n",
       "      <td>0.00</td>\n",
       "      <td>0.0151</td>\n",
       "      <td>1994</td>\n",
       "      <td>12</td>\n",
       "      <td>6</td>\n",
       "      <td>11</td>\n",
       "      <td>6.663636</td>\n",
       "      <td>24220795</td>\n",
       "    </tr>\n",
       "    <tr>\n",
       "      <th>4</th>\n",
       "      <td>20</td>\n",
       "      <td>Ready Player One</td>\n",
       "      <td>7.5</td>\n",
       "      <td>PG-13</td>\n",
       "      <td>[Action, Adventure, Sci-Fi]</td>\n",
       "      <td>2018-03-29</td>\n",
       "      <td>175000000.0</td>\n",
       "      <td>41764050.0</td>\n",
       "      <td>137690172.0</td>\n",
       "      <td>5.828937e+08</td>\n",
       "      <td>...</td>\n",
       "      <td>374.0</td>\n",
       "      <td>2011.0</td>\n",
       "      <td>0.00</td>\n",
       "      <td>0.0012</td>\n",
       "      <td>2018</td>\n",
       "      <td>3</td>\n",
       "      <td>3</td>\n",
       "      <td>34</td>\n",
       "      <td>7.202941</td>\n",
       "      <td>132444136</td>\n",
       "    </tr>\n",
       "    <tr>\n",
       "      <th>...</th>\n",
       "      <td>...</td>\n",
       "      <td>...</td>\n",
       "      <td>...</td>\n",
       "      <td>...</td>\n",
       "      <td>...</td>\n",
       "      <td>...</td>\n",
       "      <td>...</td>\n",
       "      <td>...</td>\n",
       "      <td>...</td>\n",
       "      <td>...</td>\n",
       "      <td>...</td>\n",
       "      <td>...</td>\n",
       "      <td>...</td>\n",
       "      <td>...</td>\n",
       "      <td>...</td>\n",
       "      <td>...</td>\n",
       "      <td>...</td>\n",
       "      <td>...</td>\n",
       "      <td>...</td>\n",
       "      <td>...</td>\n",
       "      <td>...</td>\n",
       "    </tr>\n",
       "    <tr>\n",
       "      <th>576</th>\n",
       "      <td>1552</td>\n",
       "      <td>Never Die Alone</td>\n",
       "      <td>5.7</td>\n",
       "      <td>R</td>\n",
       "      <td>[Action, Crime, Drama]</td>\n",
       "      <td>2004-03-26</td>\n",
       "      <td>3000000.0</td>\n",
       "      <td>3089993.0</td>\n",
       "      <td>5645298.0</td>\n",
       "      <td>5.923000e+06</td>\n",
       "      <td>...</td>\n",
       "      <td>480.0</td>\n",
       "      <td>2015.0</td>\n",
       "      <td>0.26</td>\n",
       "      <td>0.0093</td>\n",
       "      <td>2004</td>\n",
       "      <td>3</td>\n",
       "      <td>4</td>\n",
       "      <td>7</td>\n",
       "      <td>6.157143</td>\n",
       "      <td>20446469</td>\n",
       "    </tr>\n",
       "    <tr>\n",
       "      <th>577</th>\n",
       "      <td>1554</td>\n",
       "      <td>Radio Free Albemuth</td>\n",
       "      <td>5.7</td>\n",
       "      <td>R</td>\n",
       "      <td>[Drama, Sci-Fi]</td>\n",
       "      <td>2014-06-27</td>\n",
       "      <td>3600000.0</td>\n",
       "      <td>5553.0</td>\n",
       "      <td>9365.0</td>\n",
       "      <td>9.365000e+03</td>\n",
       "      <td>...</td>\n",
       "      <td>214.0</td>\n",
       "      <td>1985.0</td>\n",
       "      <td>0.00</td>\n",
       "      <td>0.0039</td>\n",
       "      <td>2014</td>\n",
       "      <td>6</td>\n",
       "      <td>4</td>\n",
       "      <td>0</td>\n",
       "      <td>6.000000</td>\n",
       "      <td>32634196</td>\n",
       "    </tr>\n",
       "    <tr>\n",
       "      <th>578</th>\n",
       "      <td>1559</td>\n",
       "      <td>The Golden Bowl</td>\n",
       "      <td>5.9</td>\n",
       "      <td>R</td>\n",
       "      <td>[Drama, Romance]</td>\n",
       "      <td>2001-05-25</td>\n",
       "      <td>15000000.0</td>\n",
       "      <td>90170.0</td>\n",
       "      <td>3050532.0</td>\n",
       "      <td>5.753678e+06</td>\n",
       "      <td>...</td>\n",
       "      <td>591.0</td>\n",
       "      <td>1904.0</td>\n",
       "      <td>0.36</td>\n",
       "      <td>0.7878</td>\n",
       "      <td>2001</td>\n",
       "      <td>5</td>\n",
       "      <td>4</td>\n",
       "      <td>23</td>\n",
       "      <td>6.317391</td>\n",
       "      <td>18103663</td>\n",
       "    </tr>\n",
       "    <tr>\n",
       "      <th>579</th>\n",
       "      <td>1567</td>\n",
       "      <td>The Good Mother</td>\n",
       "      <td>5.8</td>\n",
       "      <td>R</td>\n",
       "      <td>[Drama, Romance]</td>\n",
       "      <td>1988-11-04</td>\n",
       "      <td>14000000.0</td>\n",
       "      <td>1804288.0</td>\n",
       "      <td>4764606.0</td>\n",
       "      <td>4.764606e+06</td>\n",
       "      <td>...</td>\n",
       "      <td>320.0</td>\n",
       "      <td>1986.0</td>\n",
       "      <td>1.56</td>\n",
       "      <td>0.2796</td>\n",
       "      <td>1988</td>\n",
       "      <td>11</td>\n",
       "      <td>4</td>\n",
       "      <td>3</td>\n",
       "      <td>6.700000</td>\n",
       "      <td>117988379</td>\n",
       "    </tr>\n",
       "    <tr>\n",
       "      <th>580</th>\n",
       "      <td>1568</td>\n",
       "      <td>Finders Keepers</td>\n",
       "      <td>5.5</td>\n",
       "      <td>R</td>\n",
       "      <td>[Comedy]</td>\n",
       "      <td>1984-05-18</td>\n",
       "      <td>7000000.0</td>\n",
       "      <td>865207.0</td>\n",
       "      <td>1467396.0</td>\n",
       "      <td>1.467396e+06</td>\n",
       "      <td>...</td>\n",
       "      <td>434.0</td>\n",
       "      <td>2015.0</td>\n",
       "      <td>0.12</td>\n",
       "      <td>0.7481</td>\n",
       "      <td>1984</td>\n",
       "      <td>5</td>\n",
       "      <td>4</td>\n",
       "      <td>22</td>\n",
       "      <td>6.481818</td>\n",
       "      <td>34423133</td>\n",
       "    </tr>\n",
       "  </tbody>\n",
       "</table>\n",
       "<p>581 rows × 28 columns</p>\n",
       "</div>"
      ],
      "text/plain": [
       "     index                            movie_title  rating   MPAA  \\\n",
       "0        1                          The Godfather     9.2      R   \n",
       "1        2  Harry Potter and the Sorcerer's Stone     7.6     PG   \n",
       "2        4                           Little Women     7.8     PG   \n",
       "3        8                           Little Women     7.3     PG   \n",
       "4       20                       Ready Player One     7.5  PG-13   \n",
       "..     ...                                    ...     ...    ...   \n",
       "576   1552                        Never Die Alone     5.7      R   \n",
       "577   1554                    Radio Free Albemuth     5.7      R   \n",
       "578   1559                        The Golden Bowl     5.9      R   \n",
       "579   1567                        The Good Mother     5.8      R   \n",
       "580   1568                        Finders Keepers     5.5      R   \n",
       "\n",
       "                            genre release_date       budget  \\\n",
       "0                  [Crime, Drama]   1972-03-24    6000000.0   \n",
       "1    [Adventure, Family, Fantasy]   2001-11-16  125000000.0   \n",
       "2                [Drama, Romance]   2019-12-25   40000000.0   \n",
       "3        [Drama, Family, Romance]   1994-12-25   18000000.0   \n",
       "4     [Action, Adventure, Sci-Fi]   2018-03-29  175000000.0   \n",
       "..                            ...          ...          ...   \n",
       "576        [Action, Crime, Drama]   2004-03-26    3000000.0   \n",
       "577               [Drama, Sci-Fi]   2014-06-27    3600000.0   \n",
       "578              [Drama, Romance]   2001-05-25   15000000.0   \n",
       "579              [Drama, Romance]   1988-11-04   14000000.0   \n",
       "580                      [Comedy]   1984-05-18    7000000.0   \n",
       "\n",
       "     opening_weekend_usa    gross_usa   gross_world  ...   page publish_year  \\\n",
       "0               302393.0  134966411.0  2.461210e+08  ...  448.0       1969.0   \n",
       "1             90294621.0  318087620.0  1.006918e+09  ...  309.0       1997.0   \n",
       "2             16755310.0  108101214.0  2.166012e+08  ...  449.0       1868.0   \n",
       "3              2411247.0   50083616.0  5.008362e+07  ...  449.0       1868.0   \n",
       "4             41764050.0  137690172.0  5.828937e+08  ...  374.0       2011.0   \n",
       "..                   ...          ...           ...  ...    ...          ...   \n",
       "576            3089993.0    5645298.0  5.923000e+06  ...  480.0       2015.0   \n",
       "577               5553.0       9365.0  9.365000e+03  ...  214.0       1985.0   \n",
       "578              90170.0    3050532.0  5.753678e+06  ...  591.0       1904.0   \n",
       "579            1804288.0    4764606.0  4.764606e+06  ...  320.0       1986.0   \n",
       "580             865207.0    1467396.0  1.467396e+06  ...  434.0       2015.0   \n",
       "\n",
       "    book_popularity author_popularity release_year release_month dow  \\\n",
       "0              0.16            0.0699         1972             3   4   \n",
       "1              0.14            0.0149         2001            11   4   \n",
       "2              0.00            0.0151         2019            12   2   \n",
       "3              0.00            0.0151         1994            12   6   \n",
       "4              0.00            0.0012         2018             3   3   \n",
       "..              ...               ...          ...           ...  ..   \n",
       "576            0.26            0.0093         2004             3   4   \n",
       "577            0.00            0.0039         2014             6   4   \n",
       "578            0.36            0.7878         2001             5   4   \n",
       "579            1.56            0.2796         1988            11   4   \n",
       "580            0.12            0.7481         1984             5   4   \n",
       "\n",
       "    film_count_d  avg_rating_d  avg_gross_d  \n",
       "0              7      5.285714     32634196  \n",
       "1              9      6.622222    106588545  \n",
       "2              2      6.700000     24481851  \n",
       "3             11      6.663636     24220795  \n",
       "4             34      7.202941    132444136  \n",
       "..           ...           ...          ...  \n",
       "576            7      6.157143     20446469  \n",
       "577            0      6.000000     32634196  \n",
       "578           23      6.317391     18103663  \n",
       "579            3      6.700000    117988379  \n",
       "580           22      6.481818     34423133  \n",
       "\n",
       "[581 rows x 28 columns]"
      ]
     },
     "execution_count": 18,
     "metadata": {},
     "output_type": "execute_result"
    }
   ],
   "source": [
    "all_d_df"
   ]
  },
  {
   "cell_type": "code",
   "execution_count": 19,
   "metadata": {},
   "outputs": [
    {
     "data": {
      "text/plain": [
       "Index(['index', 'movie_title', 'rating', 'MPAA', 'genre', 'release_date',\n",
       "       'budget', 'opening_weekend_usa', 'gross_usa', 'gross_world', 'runtime',\n",
       "       'director', 'writer', 'actor', 'distributor', 'language', 'country',\n",
       "       'author', 'page', 'publish_year', 'book_popularity',\n",
       "       'author_popularity', 'release_year', 'release_month', 'dow',\n",
       "       'film_count_d', 'avg_rating_d', 'avg_gross_d'],\n",
       "      dtype='object')"
      ]
     },
     "execution_count": 19,
     "metadata": {},
     "output_type": "execute_result"
    }
   ],
   "source": [
    "all_d_df.columns"
   ]
  },
  {
   "cell_type": "code",
   "execution_count": null,
   "metadata": {},
   "outputs": [],
   "source": []
  },
  {
   "cell_type": "code",
   "execution_count": null,
   "metadata": {},
   "outputs": [],
   "source": []
  },
  {
   "cell_type": "code",
   "execution_count": null,
   "metadata": {},
   "outputs": [],
   "source": []
  },
  {
   "cell_type": "markdown",
   "metadata": {},
   "source": [
    "### (3) cast (actors) value"
   ]
  },
  {
   "cell_type": "code",
   "execution_count": null,
   "metadata": {},
   "outputs": [],
   "source": [
    "# Find corresponding value of each director when movie is released\n",
    "# ['avg_rating','avg_gross'] (per movie directed)\n",
    "actor_df = pd.read_pickle('../dump/actor_correct_data')\n",
    "actor_df.shape"
   ]
  },
  {
   "cell_type": "code",
   "execution_count": null,
   "metadata": {},
   "outputs": [],
   "source": [
    "actor_df.head()"
   ]
  },
  {
   "cell_type": "code",
   "execution_count": null,
   "metadata": {},
   "outputs": [],
   "source": [
    "actor_df.director.nunique()"
   ]
  },
  {
   "cell_type": "code",
   "execution_count": null,
   "metadata": {},
   "outputs": [],
   "source": [
    "# Find the mean rating, gross of all directors\n",
    "actor_rating_mean = int(actor_df.rating.mean())\n",
    "actor_gross_mean = int(actor_df.gross_usa.mean())\n",
    "\n",
    "actor_rating_mean, actor_gross_mean"
   ]
  },
  {
   "cell_type": "code",
   "execution_count": null,
   "metadata": {},
   "outputs": [],
   "source": [
    "def actor_value(actor,year):\n",
    "    \"\"\"\n",
    "    input: actor name and (release) year of the movie of interest\n",
    "    output: \n",
    "        - film_count: number of movies the actor was in before the movie of interest\n",
    "        - avg_rating: average rating of movies the actor was in before the movie of interest\n",
    "        - avg_gross: gross per movie before the movie of interest\n",
    "    \"\"\"\n",
    "    \n",
    "    aoi_df = actor_df[(actor_df.actor == actor) & (actor_df.year.dt.year < year)].copy()\n",
    "    \n",
    "    # Fill NaN with actor's mean\n",
    "    values={'rating':aoi_df.rating.mean(), 'gross_usa':aoi_df.gross_usa.mean()}\n",
    "    aoi_df.fillna(value=values,inplace=True)\n",
    "    \n",
    "    # If there's still NaN, fill with all actors' mean\n",
    "    values={'rating':actor_rating_mean, 'gross_usa':actor_gross_mean}\n",
    "    aoi_df.fillna(value=values,inplace=True)\n",
    "        \n",
    "    \n",
    "    # If there's no movie prior to movie of interest  \n",
    "    if aoi_df.shape[0] == 0:\n",
    "        film_count,avg_rating,avg_gross = 0, actor_rating_mean, actor_gross_mean\n",
    "        \n",
    "    else:\n",
    "        \n",
    "        film_count = aoi_df.shape[0]\n",
    "        \n",
    "        avg_rating = aoi_df['rating'].mean()\n",
    "        avg_gross = aoi_df['gross_usa'].mean()\n",
    "\n",
    "        \n",
    "    \n",
    "    actor_value = [film_count, avg_rating, avg_gross]\n",
    "    \n",
    "    print(actor,actor_value)\n",
    "    \n",
    "    return actor_value,aoi_df"
   ]
  },
  {
   "cell_type": "code",
   "execution_count": null,
   "metadata": {},
   "outputs": [],
   "source": [
    "def get_cast(movie):\n",
    "    \"\"\"\n",
    "    input: movie (each row in all_data_df)\n",
    "    output: \n",
    "        - film_count: number of movies directed before the movie of interest\n",
    "        - avg_rating: average rating of movies directed before the movie of interest\n",
    "        - avg_gross: gross per movie before the movie of interest\n",
    "    \"\"\"\n",
    "    \n",
    "    movie_title = movie.movie_title\n",
    "    year = movie.release_year\n",
    "    actors = movie.actor\n",
    "    lead = actors[0]\n",
    "    \n",
    "    film_counts = []\n",
    "    ratings = []\n",
    "    grosses = []\n",
    "    \n",
    "    for actor in actors:\n",
    "        result = actor_value(actor,year)\n",
    "        film_counts.append(result[0])\n",
    "        ratings.append(result[1])\n",
    "        grosses.append(result[2])\n",
    "        \n",
    "    avg_film_count = np.mean(film_counts)\n",
    "    avg_rating = np.mean(ratings)\n",
    "    avg_gross = np.mean(grosses)    \n",
    "    \n",
    "    \n",
    "    lead_result = actor_value(lead,year)\n",
    "    \n",
    "\n",
    "    headers = ['movie_title','cast','avg_film_count_c','avg_rating_c','avg_gross_c',\\\n",
    "              'avg_film_count_l','avg_rating_l','avg_gross_l']\n",
    "\n",
    "        \n",
    "    \n",
    "    cast_info = dict(zip(headers, [movie_title,actors,avg_film_count,avg_rating,avg_gross,\\\n",
    "                                  lead_result[0],lead_result[1],lead_result[2]]))\n",
    "    \n",
    "    return cast_info"
   ]
  },
  {
   "cell_type": "code",
   "execution_count": null,
   "metadata": {},
   "outputs": [],
   "source": [
    "# Create df including columns of director film_count, avg_rating, avg_gross\n",
    "# Rows correspond to rows in all_df\n",
    "movie_actor_df = all_df.iloc[:2].apply(get_cast,axis=1).apply(pd.Series)"
   ]
  },
  {
   "cell_type": "code",
   "execution_count": null,
   "metadata": {},
   "outputs": [],
   "source": [
    "# Merge all_df and cast info\n",
    "all_dc_df = pd.merge(all_d_df, movie_actor_df, lon=['movie_title','director'] ,how='left')"
   ]
  },
  {
   "cell_type": "code",
   "execution_count": null,
   "metadata": {},
   "outputs": [],
   "source": []
  },
  {
   "cell_type": "code",
   "execution_count": null,
   "metadata": {},
   "outputs": [],
   "source": []
  },
  {
   "cell_type": "markdown",
   "metadata": {},
   "source": [
    "### (4) book and author popularity"
   ]
  },
  {
   "cell_type": "code",
   "execution_count": 20,
   "metadata": {},
   "outputs": [],
   "source": [
    "# Load book_history_2\n",
    "book_history = pd.read_pickle('../dump/book_history_2_data')"
   ]
  },
  {
   "cell_type": "code",
   "execution_count": 21,
   "metadata": {},
   "outputs": [
    {
     "data": {
      "text/html": [
       "<div>\n",
       "<style scoped>\n",
       "    .dataframe tbody tr th:only-of-type {\n",
       "        vertical-align: middle;\n",
       "    }\n",
       "\n",
       "    .dataframe tbody tr th {\n",
       "        vertical-align: top;\n",
       "    }\n",
       "\n",
       "    .dataframe thead th {\n",
       "        text-align: right;\n",
       "    }\n",
       "</style>\n",
       "<table border=\"1\" class=\"dataframe\">\n",
       "  <thead>\n",
       "    <tr style=\"text-align: right;\">\n",
       "      <th></th>\n",
       "      <th>title</th>\n",
       "      <th>release_date</th>\n",
       "      <th>genre</th>\n",
       "      <th>title_search</th>\n",
       "      <th>search_fiction_book</th>\n",
       "      <th>author_search</th>\n",
       "      <th>search_fiction_author</th>\n",
       "      <th>book_popularity</th>\n",
       "      <th>author_popularity</th>\n",
       "    </tr>\n",
       "  </thead>\n",
       "  <tbody>\n",
       "    <tr>\n",
       "      <th>664</th>\n",
       "      <td>To Die For</td>\n",
       "      <td>1995-10-06</td>\n",
       "      <td>[Comedy, Crime, Drama]</td>\n",
       "      <td>31700</td>\n",
       "      <td>13100.0</td>\n",
       "      <td>35200</td>\n",
       "      <td>140000</td>\n",
       "      <td>2.42</td>\n",
       "      <td>0.2514</td>\n",
       "    </tr>\n",
       "    <tr>\n",
       "      <th>898</th>\n",
       "      <td>The Lost Weekend</td>\n",
       "      <td>1946-01-01</td>\n",
       "      <td>[Drama, Film-Noir]</td>\n",
       "      <td>21600000</td>\n",
       "      <td>12100000.0</td>\n",
       "      <td>424000000</td>\n",
       "      <td>560000000</td>\n",
       "      <td>1.79</td>\n",
       "      <td>0.7571</td>\n",
       "    </tr>\n",
       "    <tr>\n",
       "      <th>712</th>\n",
       "      <td>Paper Towns</td>\n",
       "      <td>2015-07-24</td>\n",
       "      <td>[Comedy, Drama, Mystery]</td>\n",
       "      <td>6610000</td>\n",
       "      <td>3720000.0</td>\n",
       "      <td>673000000</td>\n",
       "      <td>109000000</td>\n",
       "      <td>1.78</td>\n",
       "      <td>6.1743</td>\n",
       "    </tr>\n",
       "    <tr>\n",
       "      <th>53</th>\n",
       "      <td>It</td>\n",
       "      <td>2017-09-08</td>\n",
       "      <td>[Horror]</td>\n",
       "      <td>98300000</td>\n",
       "      <td>55900000.0</td>\n",
       "      <td>114000000</td>\n",
       "      <td>169000000</td>\n",
       "      <td>1.76</td>\n",
       "      <td>0.6746</td>\n",
       "    </tr>\n",
       "    <tr>\n",
       "      <th>583</th>\n",
       "      <td>Christine</td>\n",
       "      <td>1983-12-09</td>\n",
       "      <td>[Horror, Thriller]</td>\n",
       "      <td>6830</td>\n",
       "      <td>3990.0</td>\n",
       "      <td>31500</td>\n",
       "      <td>41600</td>\n",
       "      <td>1.71</td>\n",
       "      <td>0.7572</td>\n",
       "    </tr>\n",
       "    <tr>\n",
       "      <th>...</th>\n",
       "      <td>...</td>\n",
       "      <td>...</td>\n",
       "      <td>...</td>\n",
       "      <td>...</td>\n",
       "      <td>...</td>\n",
       "      <td>...</td>\n",
       "      <td>...</td>\n",
       "      <td>...</td>\n",
       "      <td>...</td>\n",
       "    </tr>\n",
       "    <tr>\n",
       "      <th>734</th>\n",
       "      <td>Three Days of the Condor</td>\n",
       "      <td>1975-09-25</td>\n",
       "      <td>[Mystery, Thriller]</td>\n",
       "      <td>92</td>\n",
       "      <td>NaN</td>\n",
       "      <td>2550</td>\n",
       "      <td>12300</td>\n",
       "      <td>NaN</td>\n",
       "      <td>0.2073</td>\n",
       "    </tr>\n",
       "    <tr>\n",
       "      <th>810</th>\n",
       "      <td>Presumed Innocent</td>\n",
       "      <td>1990-07-27</td>\n",
       "      <td>[Mystery, Thriller]</td>\n",
       "      <td>247</td>\n",
       "      <td>NaN</td>\n",
       "      <td>264</td>\n",
       "      <td>71400</td>\n",
       "      <td>NaN</td>\n",
       "      <td>0.0037</td>\n",
       "    </tr>\n",
       "    <tr>\n",
       "      <th>1078</th>\n",
       "      <td>Shalako</td>\n",
       "      <td>1968-12-13</td>\n",
       "      <td>[Western]</td>\n",
       "      <td>48300</td>\n",
       "      <td>NaN</td>\n",
       "      <td>82400000</td>\n",
       "      <td>727000000</td>\n",
       "      <td>NaN</td>\n",
       "      <td>0.1133</td>\n",
       "    </tr>\n",
       "    <tr>\n",
       "      <th>1108</th>\n",
       "      <td>The List of Adrian Messenger</td>\n",
       "      <td>1963-05-29</td>\n",
       "      <td>[Mystery, Thriller]</td>\n",
       "      <td>770000</td>\n",
       "      <td>NaN</td>\n",
       "      <td>25300000</td>\n",
       "      <td>663000000</td>\n",
       "      <td>NaN</td>\n",
       "      <td>0.0382</td>\n",
       "    </tr>\n",
       "    <tr>\n",
       "      <th>1126</th>\n",
       "      <td>The Hanging Tree</td>\n",
       "      <td>1959-02-20</td>\n",
       "      <td>[Western]</td>\n",
       "      <td>170000</td>\n",
       "      <td>NaN</td>\n",
       "      <td>1020000</td>\n",
       "      <td>682000000</td>\n",
       "      <td>NaN</td>\n",
       "      <td>0.0015</td>\n",
       "    </tr>\n",
       "  </tbody>\n",
       "</table>\n",
       "<p>1166 rows × 9 columns</p>\n",
       "</div>"
      ],
      "text/plain": [
       "                             title release_date                     genre  \\\n",
       "664                     To Die For   1995-10-06    [Comedy, Crime, Drama]   \n",
       "898               The Lost Weekend   1946-01-01        [Drama, Film-Noir]   \n",
       "712                    Paper Towns   2015-07-24  [Comedy, Drama, Mystery]   \n",
       "53                              It   2017-09-08                  [Horror]   \n",
       "583                      Christine   1983-12-09        [Horror, Thriller]   \n",
       "...                            ...          ...                       ...   \n",
       "734       Three Days of the Condor   1975-09-25       [Mystery, Thriller]   \n",
       "810              Presumed Innocent   1990-07-27       [Mystery, Thriller]   \n",
       "1078                       Shalako   1968-12-13                 [Western]   \n",
       "1108  The List of Adrian Messenger   1963-05-29       [Mystery, Thriller]   \n",
       "1126              The Hanging Tree   1959-02-20                 [Western]   \n",
       "\n",
       "      title_search  search_fiction_book  author_search  search_fiction_author  \\\n",
       "664          31700              13100.0          35200                 140000   \n",
       "898       21600000           12100000.0      424000000              560000000   \n",
       "712        6610000            3720000.0      673000000              109000000   \n",
       "53        98300000           55900000.0      114000000              169000000   \n",
       "583           6830               3990.0          31500                  41600   \n",
       "...            ...                  ...            ...                    ...   \n",
       "734             92                  NaN           2550                  12300   \n",
       "810            247                  NaN            264                  71400   \n",
       "1078         48300                  NaN       82400000              727000000   \n",
       "1108        770000                  NaN       25300000              663000000   \n",
       "1126        170000                  NaN        1020000              682000000   \n",
       "\n",
       "      book_popularity  author_popularity  \n",
       "664              2.42             0.2514  \n",
       "898              1.79             0.7571  \n",
       "712              1.78             6.1743  \n",
       "53               1.76             0.6746  \n",
       "583              1.71             0.7572  \n",
       "...               ...                ...  \n",
       "734               NaN             0.2073  \n",
       "810               NaN             0.0037  \n",
       "1078              NaN             0.1133  \n",
       "1108              NaN             0.0382  \n",
       "1126              NaN             0.0015  \n",
       "\n",
       "[1166 rows x 9 columns]"
      ]
     },
     "execution_count": 21,
     "metadata": {},
     "output_type": "execute_result"
    }
   ],
   "source": [
    "book_history.sort_values('book_popularity',ascending=False)"
   ]
  },
  {
   "cell_type": "code",
   "execution_count": 22,
   "metadata": {},
   "outputs": [
    {
     "name": "stdout",
     "output_type": "stream",
     "text": [
      "<class 'pandas.core.frame.DataFrame'>\n",
      "RangeIndex: 1166 entries, 0 to 1165\n",
      "Data columns (total 9 columns):\n",
      " #   Column                 Non-Null Count  Dtype  \n",
      "---  ------                 --------------  -----  \n",
      " 0   title                  1166 non-null   object \n",
      " 1   release_date           1166 non-null   object \n",
      " 2   genre                  1166 non-null   object \n",
      " 3   title_search           1166 non-null   int64  \n",
      " 4   search_fiction_book    1158 non-null   float64\n",
      " 5   author_search          1166 non-null   int64  \n",
      " 6   search_fiction_author  1166 non-null   int64  \n",
      " 7   book_popularity        1158 non-null   float64\n",
      " 8   author_popularity      1166 non-null   float64\n",
      "dtypes: float64(3), int64(3), object(3)\n",
      "memory usage: 82.1+ KB\n"
     ]
    }
   ],
   "source": [
    "book_history.info()"
   ]
  },
  {
   "cell_type": "code",
   "execution_count": 23,
   "metadata": {},
   "outputs": [
    {
     "name": "stdout",
     "output_type": "stream",
     "text": [
      "<class 'pandas.core.frame.DataFrame'>\n",
      "Int64Index: 581 entries, 0 to 580\n",
      "Data columns (total 28 columns):\n",
      " #   Column               Non-Null Count  Dtype         \n",
      "---  ------               --------------  -----         \n",
      " 0   index                581 non-null    int64         \n",
      " 1   movie_title          581 non-null    object        \n",
      " 2   rating               581 non-null    float64       \n",
      " 3   MPAA                 581 non-null    object        \n",
      " 4   genre                581 non-null    object        \n",
      " 5   release_date         581 non-null    datetime64[ns]\n",
      " 6   budget               581 non-null    float64       \n",
      " 7   opening_weekend_usa  581 non-null    float64       \n",
      " 8   gross_usa            581 non-null    float64       \n",
      " 9   gross_world          581 non-null    float64       \n",
      " 10  runtime              581 non-null    float64       \n",
      " 11  director             581 non-null    object        \n",
      " 12  writer               581 non-null    object        \n",
      " 13  actor                581 non-null    object        \n",
      " 14  distributor          581 non-null    object        \n",
      " 15  language             581 non-null    object        \n",
      " 16  country              581 non-null    object        \n",
      " 17  author               581 non-null    object        \n",
      " 18  page                 581 non-null    float64       \n",
      " 19  publish_year         581 non-null    float64       \n",
      " 20  book_popularity      581 non-null    float64       \n",
      " 21  author_popularity    581 non-null    float64       \n",
      " 22  release_year         581 non-null    int64         \n",
      " 23  release_month        581 non-null    int64         \n",
      " 24  dow                  581 non-null    int64         \n",
      " 25  film_count_d         581 non-null    int64         \n",
      " 26  avg_rating_d         581 non-null    float64       \n",
      " 27  avg_gross_d          581 non-null    int64         \n",
      "dtypes: datetime64[ns](1), float64(11), int64(6), object(10)\n",
      "memory usage: 131.6+ KB\n"
     ]
    }
   ],
   "source": [
    "all_d_df.info()"
   ]
  },
  {
   "cell_type": "code",
   "execution_count": 24,
   "metadata": {},
   "outputs": [],
   "source": [
    "book_history['release_date'] = book_history['release_date'].astype('datetime64[ns]')"
   ]
  },
  {
   "cell_type": "code",
   "execution_count": 25,
   "metadata": {},
   "outputs": [
    {
     "name": "stdout",
     "output_type": "stream",
     "text": [
      "<class 'pandas.core.frame.DataFrame'>\n",
      "RangeIndex: 1166 entries, 0 to 1165\n",
      "Data columns (total 9 columns):\n",
      " #   Column                 Non-Null Count  Dtype         \n",
      "---  ------                 --------------  -----         \n",
      " 0   title                  1166 non-null   object        \n",
      " 1   release_date           1166 non-null   datetime64[ns]\n",
      " 2   genre                  1166 non-null   object        \n",
      " 3   title_search           1166 non-null   int64         \n",
      " 4   search_fiction_book    1158 non-null   float64       \n",
      " 5   author_search          1166 non-null   int64         \n",
      " 6   search_fiction_author  1166 non-null   int64         \n",
      " 7   book_popularity        1158 non-null   float64       \n",
      " 8   author_popularity      1166 non-null   float64       \n",
      "dtypes: datetime64[ns](1), float64(3), int64(3), object(2)\n",
      "memory usage: 82.1+ KB\n"
     ]
    }
   ],
   "source": [
    "book_history.info()"
   ]
  },
  {
   "cell_type": "code",
   "execution_count": 26,
   "metadata": {},
   "outputs": [
    {
     "data": {
      "text/plain": [
       "<AxesSubplot:>"
      ]
     },
     "execution_count": 26,
     "metadata": {},
     "output_type": "execute_result"
    },
    {
     "data": {
      "image/png": "[encoded data removed]",
      "text/plain": [
       "<Figure size 432x288 with 1 Axes>"
      ]
     },
     "metadata": {
      "needs_background": "light"
     },
     "output_type": "display_data"
    }
   ],
   "source": [
    "np.log(book_history.title_search).hist(bins=20)"
   ]
  },
  {
   "cell_type": "code",
   "execution_count": 27,
   "metadata": {},
   "outputs": [
    {
     "data": {
      "text/plain": [
       "<AxesSubplot:>"
      ]
     },
     "execution_count": 27,
     "metadata": {},
     "output_type": "execute_result"
    },
    {
     "data": {
      "image/png": "[encoded data removed]",
      "text/plain": [
       "<Figure size 432x288 with 1 Axes>"
      ]
     },
     "metadata": {
      "needs_background": "light"
     },
     "output_type": "display_data"
    }
   ],
   "source": [
    "np.log(book_history.search_fiction_book).hist(bins=20)"
   ]
  },
  {
   "cell_type": "code",
   "execution_count": 28,
   "metadata": {},
   "outputs": [
    {
     "data": {
      "text/plain": [
       "<AxesSubplot:>"
      ]
     },
     "execution_count": 28,
     "metadata": {},
     "output_type": "execute_result"
    },
    {
     "data": {
      "image/png": "[encoded data removed]",
      "text/plain": [
       "<Figure size 432x288 with 1 Axes>"
      ]
     },
     "metadata": {
      "needs_background": "light"
     },
     "output_type": "display_data"
    }
   ],
   "source": [
    "np.log(book_history.author_search).hist(bins=20)"
   ]
  },
  {
   "cell_type": "code",
   "execution_count": 29,
   "metadata": {},
   "outputs": [
    {
     "data": {
      "text/plain": [
       "<AxesSubplot:>"
      ]
     },
     "execution_count": 29,
     "metadata": {},
     "output_type": "execute_result"
    },
    {
     "data": {
      "image/png": "[encoded data removed]",
      "text/plain": [
       "<Figure size 432x288 with 1 Axes>"
      ]
     },
     "metadata": {
      "needs_background": "light"
     },
     "output_type": "display_data"
    }
   ],
   "source": [
    "np.log(book_history.search_fiction_author).hist(bins=20)"
   ]
  },
  {
   "cell_type": "code",
   "execution_count": 30,
   "metadata": {},
   "outputs": [
    {
     "data": {
      "text/plain": [
       "((581, 28), (1166, 9))"
      ]
     },
     "execution_count": 30,
     "metadata": {},
     "output_type": "execute_result"
    }
   ],
   "source": [
    "all_d_df.shape, book_history.shape"
   ]
  },
  {
   "cell_type": "code",
   "execution_count": 31,
   "metadata": {},
   "outputs": [],
   "source": [
    "# Merge book data with movie df\n",
    "all_da_df = pd.merge(all_d_df, book_history, left_on=['movie_title','release_date'],\\\n",
    "                      right_on=['title','release_date'],how='left',copy=False)"
   ]
  },
  {
   "cell_type": "code",
   "execution_count": 32,
   "metadata": {},
   "outputs": [],
   "source": [
    "all_da_df['log_book_search'] = np.log(all_da_df['title_search'])\n",
    "all_da_df['log_author_search'] = np.log(all_da_df['author_search'])"
   ]
  },
  {
   "cell_type": "code",
   "execution_count": 33,
   "metadata": {},
   "outputs": [
    {
     "data": {
      "text/plain": [
       "Index(['index', 'movie_title', 'rating', 'MPAA', 'genre_x', 'release_date',\n",
       "       'budget', 'opening_weekend_usa', 'gross_usa', 'gross_world', 'runtime',\n",
       "       'director', 'writer', 'actor', 'distributor', 'language', 'country',\n",
       "       'author', 'page', 'publish_year', 'book_popularity_x',\n",
       "       'author_popularity_x', 'release_year', 'release_month', 'dow',\n",
       "       'film_count_d', 'avg_rating_d', 'avg_gross_d', 'title', 'genre_y',\n",
       "       'title_search', 'search_fiction_book', 'author_search',\n",
       "       'search_fiction_author', 'book_popularity_y', 'author_popularity_y',\n",
       "       'log_book_search', 'log_author_search'],\n",
       "      dtype='object')"
      ]
     },
     "execution_count": 33,
     "metadata": {},
     "output_type": "execute_result"
    }
   ],
   "source": [
    "all_da_df.columns"
   ]
  },
  {
   "cell_type": "code",
   "execution_count": 34,
   "metadata": {},
   "outputs": [],
   "source": [
    "all_da_df.drop(columns=['title', 'genre_y','book_popularity_x','author_popularity_x'],inplace=True)"
   ]
  },
  {
   "cell_type": "code",
   "execution_count": 35,
   "metadata": {},
   "outputs": [
    {
     "data": {
      "text/plain": [
       "Index(['index', 'movie_title', 'rating', 'MPAA', 'genre_x', 'release_date',\n",
       "       'budget', 'opening_weekend_usa', 'gross_usa', 'gross_world', 'runtime',\n",
       "       'director', 'writer', 'actor', 'distributor', 'language', 'country',\n",
       "       'author', 'page', 'publish_year', 'release_year', 'release_month',\n",
       "       'dow', 'film_count_d', 'avg_rating_d', 'avg_gross_d', 'title_search',\n",
       "       'search_fiction_book', 'author_search', 'search_fiction_author',\n",
       "       'book_popularity_y', 'author_popularity_y', 'log_book_search',\n",
       "       'log_author_search'],\n",
       "      dtype='object')"
      ]
     },
     "execution_count": 35,
     "metadata": {},
     "output_type": "execute_result"
    }
   ],
   "source": [
    "all_da_df.columns"
   ]
  },
  {
   "cell_type": "code",
   "execution_count": 36,
   "metadata": {},
   "outputs": [],
   "source": [
    "all_da_df.rename(columns = {'genre_x':'genre','book_popularity_y':'book_popularity',\\\n",
    "                            'author_popularity_y':'author_popularity'},inplace=True)"
   ]
  },
  {
   "cell_type": "code",
   "execution_count": 37,
   "metadata": {},
   "outputs": [
    {
     "data": {
      "text/html": [
       "<div>\n",
       "<style scoped>\n",
       "    .dataframe tbody tr th:only-of-type {\n",
       "        vertical-align: middle;\n",
       "    }\n",
       "\n",
       "    .dataframe tbody tr th {\n",
       "        vertical-align: top;\n",
       "    }\n",
       "\n",
       "    .dataframe thead th {\n",
       "        text-align: right;\n",
       "    }\n",
       "</style>\n",
       "<table border=\"1\" class=\"dataframe\">\n",
       "  <thead>\n",
       "    <tr style=\"text-align: right;\">\n",
       "      <th></th>\n",
       "      <th>index</th>\n",
       "      <th>movie_title</th>\n",
       "      <th>rating</th>\n",
       "      <th>MPAA</th>\n",
       "      <th>genre</th>\n",
       "      <th>release_date</th>\n",
       "      <th>budget</th>\n",
       "      <th>opening_weekend_usa</th>\n",
       "      <th>gross_usa</th>\n",
       "      <th>gross_world</th>\n",
       "      <th>...</th>\n",
       "      <th>avg_rating_d</th>\n",
       "      <th>avg_gross_d</th>\n",
       "      <th>title_search</th>\n",
       "      <th>search_fiction_book</th>\n",
       "      <th>author_search</th>\n",
       "      <th>search_fiction_author</th>\n",
       "      <th>book_popularity</th>\n",
       "      <th>author_popularity</th>\n",
       "      <th>log_book_search</th>\n",
       "      <th>log_author_search</th>\n",
       "    </tr>\n",
       "  </thead>\n",
       "  <tbody>\n",
       "    <tr>\n",
       "      <th>0</th>\n",
       "      <td>1</td>\n",
       "      <td>The Godfather</td>\n",
       "      <td>9.2</td>\n",
       "      <td>R</td>\n",
       "      <td>[Crime, Drama]</td>\n",
       "      <td>1972-03-24</td>\n",
       "      <td>6000000.0</td>\n",
       "      <td>302393.0</td>\n",
       "      <td>134966411.0</td>\n",
       "      <td>2.461210e+08</td>\n",
       "      <td>...</td>\n",
       "      <td>5.285714</td>\n",
       "      <td>32634196</td>\n",
       "      <td>192</td>\n",
       "      <td>728.0</td>\n",
       "      <td>258</td>\n",
       "      <td>4550</td>\n",
       "      <td>0.26</td>\n",
       "      <td>0.0567</td>\n",
       "      <td>5.257495</td>\n",
       "      <td>5.552960</td>\n",
       "    </tr>\n",
       "    <tr>\n",
       "      <th>1</th>\n",
       "      <td>2</td>\n",
       "      <td>Harry Potter and the Sorcerer's Stone</td>\n",
       "      <td>7.6</td>\n",
       "      <td>PG</td>\n",
       "      <td>[Adventure, Family, Fantasy]</td>\n",
       "      <td>2001-11-16</td>\n",
       "      <td>125000000.0</td>\n",
       "      <td>90294621.0</td>\n",
       "      <td>318087620.0</td>\n",
       "      <td>1.006918e+09</td>\n",
       "      <td>...</td>\n",
       "      <td>6.622222</td>\n",
       "      <td>106588545</td>\n",
       "      <td>5720</td>\n",
       "      <td>31300.0</td>\n",
       "      <td>68600</td>\n",
       "      <td>5680000</td>\n",
       "      <td>0.18</td>\n",
       "      <td>0.0121</td>\n",
       "      <td>8.651724</td>\n",
       "      <td>11.136048</td>\n",
       "    </tr>\n",
       "    <tr>\n",
       "      <th>2</th>\n",
       "      <td>2</td>\n",
       "      <td>Harry Potter and the Sorcerer's Stone</td>\n",
       "      <td>7.6</td>\n",
       "      <td>PG</td>\n",
       "      <td>[Adventure, Family, Fantasy]</td>\n",
       "      <td>2001-11-16</td>\n",
       "      <td>125000000.0</td>\n",
       "      <td>90294621.0</td>\n",
       "      <td>318087620.0</td>\n",
       "      <td>1.006918e+09</td>\n",
       "      <td>...</td>\n",
       "      <td>6.622222</td>\n",
       "      <td>106588545</td>\n",
       "      <td>5720</td>\n",
       "      <td>31300.0</td>\n",
       "      <td>68600</td>\n",
       "      <td>5680000</td>\n",
       "      <td>0.18</td>\n",
       "      <td>0.0121</td>\n",
       "      <td>8.651724</td>\n",
       "      <td>11.136048</td>\n",
       "    </tr>\n",
       "    <tr>\n",
       "      <th>3</th>\n",
       "      <td>4</td>\n",
       "      <td>Little Women</td>\n",
       "      <td>7.8</td>\n",
       "      <td>PG</td>\n",
       "      <td>[Drama, Romance]</td>\n",
       "      <td>2019-12-25</td>\n",
       "      <td>40000000.0</td>\n",
       "      <td>16755310.0</td>\n",
       "      <td>108101214.0</td>\n",
       "      <td>2.166012e+08</td>\n",
       "      <td>...</td>\n",
       "      <td>6.700000</td>\n",
       "      <td>24481851</td>\n",
       "      <td>214000</td>\n",
       "      <td>37500000.0</td>\n",
       "      <td>2060000</td>\n",
       "      <td>210000000</td>\n",
       "      <td>0.01</td>\n",
       "      <td>0.0098</td>\n",
       "      <td>12.273731</td>\n",
       "      <td>14.538217</td>\n",
       "    </tr>\n",
       "    <tr>\n",
       "      <th>4</th>\n",
       "      <td>4</td>\n",
       "      <td>Little Women</td>\n",
       "      <td>7.8</td>\n",
       "      <td>PG</td>\n",
       "      <td>[Drama, Romance]</td>\n",
       "      <td>2019-12-25</td>\n",
       "      <td>40000000.0</td>\n",
       "      <td>16755310.0</td>\n",
       "      <td>108101214.0</td>\n",
       "      <td>2.166012e+08</td>\n",
       "      <td>...</td>\n",
       "      <td>6.700000</td>\n",
       "      <td>24481851</td>\n",
       "      <td>214000</td>\n",
       "      <td>37500000.0</td>\n",
       "      <td>2060000</td>\n",
       "      <td>210000000</td>\n",
       "      <td>0.01</td>\n",
       "      <td>0.0098</td>\n",
       "      <td>12.273731</td>\n",
       "      <td>14.538217</td>\n",
       "    </tr>\n",
       "    <tr>\n",
       "      <th>...</th>\n",
       "      <td>...</td>\n",
       "      <td>...</td>\n",
       "      <td>...</td>\n",
       "      <td>...</td>\n",
       "      <td>...</td>\n",
       "      <td>...</td>\n",
       "      <td>...</td>\n",
       "      <td>...</td>\n",
       "      <td>...</td>\n",
       "      <td>...</td>\n",
       "      <td>...</td>\n",
       "      <td>...</td>\n",
       "      <td>...</td>\n",
       "      <td>...</td>\n",
       "      <td>...</td>\n",
       "      <td>...</td>\n",
       "      <td>...</td>\n",
       "      <td>...</td>\n",
       "      <td>...</td>\n",
       "      <td>...</td>\n",
       "      <td>...</td>\n",
       "    </tr>\n",
       "    <tr>\n",
       "      <th>825</th>\n",
       "      <td>1552</td>\n",
       "      <td>Never Die Alone</td>\n",
       "      <td>5.7</td>\n",
       "      <td>R</td>\n",
       "      <td>[Action, Crime, Drama]</td>\n",
       "      <td>2004-03-26</td>\n",
       "      <td>3000000.0</td>\n",
       "      <td>3089993.0</td>\n",
       "      <td>5645298.0</td>\n",
       "      <td>5.923000e+06</td>\n",
       "      <td>...</td>\n",
       "      <td>6.157143</td>\n",
       "      <td>20446469</td>\n",
       "      <td>16700</td>\n",
       "      <td>46800.0</td>\n",
       "      <td>105000</td>\n",
       "      <td>9560000</td>\n",
       "      <td>0.36</td>\n",
       "      <td>0.0110</td>\n",
       "      <td>9.723164</td>\n",
       "      <td>11.561716</td>\n",
       "    </tr>\n",
       "    <tr>\n",
       "      <th>826</th>\n",
       "      <td>1554</td>\n",
       "      <td>Radio Free Albemuth</td>\n",
       "      <td>5.7</td>\n",
       "      <td>R</td>\n",
       "      <td>[Drama, Sci-Fi]</td>\n",
       "      <td>2014-06-27</td>\n",
       "      <td>3600000.0</td>\n",
       "      <td>5553.0</td>\n",
       "      <td>9365.0</td>\n",
       "      <td>9.365000e+03</td>\n",
       "      <td>...</td>\n",
       "      <td>6.000000</td>\n",
       "      <td>32634196</td>\n",
       "      <td>1260</td>\n",
       "      <td>1270000.0</td>\n",
       "      <td>334000</td>\n",
       "      <td>107000000</td>\n",
       "      <td>0.00</td>\n",
       "      <td>0.0031</td>\n",
       "      <td>7.138867</td>\n",
       "      <td>12.718896</td>\n",
       "    </tr>\n",
       "    <tr>\n",
       "      <th>827</th>\n",
       "      <td>1559</td>\n",
       "      <td>The Golden Bowl</td>\n",
       "      <td>5.9</td>\n",
       "      <td>R</td>\n",
       "      <td>[Drama, Romance]</td>\n",
       "      <td>2001-05-25</td>\n",
       "      <td>15000000.0</td>\n",
       "      <td>90170.0</td>\n",
       "      <td>3050532.0</td>\n",
       "      <td>5.753678e+06</td>\n",
       "      <td>...</td>\n",
       "      <td>6.317391</td>\n",
       "      <td>18103663</td>\n",
       "      <td>14300</td>\n",
       "      <td>44600.0</td>\n",
       "      <td>4170000</td>\n",
       "      <td>3190000</td>\n",
       "      <td>0.32</td>\n",
       "      <td>1.3072</td>\n",
       "      <td>9.568015</td>\n",
       "      <td>15.243427</td>\n",
       "    </tr>\n",
       "    <tr>\n",
       "      <th>828</th>\n",
       "      <td>1567</td>\n",
       "      <td>The Good Mother</td>\n",
       "      <td>5.8</td>\n",
       "      <td>R</td>\n",
       "      <td>[Drama, Romance]</td>\n",
       "      <td>1988-11-04</td>\n",
       "      <td>14000000.0</td>\n",
       "      <td>1804288.0</td>\n",
       "      <td>4764606.0</td>\n",
       "      <td>4.764606e+06</td>\n",
       "      <td>...</td>\n",
       "      <td>6.700000</td>\n",
       "      <td>117988379</td>\n",
       "      <td>13700</td>\n",
       "      <td>8480.0</td>\n",
       "      <td>21200</td>\n",
       "      <td>69100</td>\n",
       "      <td>1.62</td>\n",
       "      <td>0.3068</td>\n",
       "      <td>9.525151</td>\n",
       "      <td>9.961756</td>\n",
       "    </tr>\n",
       "    <tr>\n",
       "      <th>829</th>\n",
       "      <td>1568</td>\n",
       "      <td>Finders Keepers</td>\n",
       "      <td>5.5</td>\n",
       "      <td>R</td>\n",
       "      <td>[Comedy]</td>\n",
       "      <td>1984-05-18</td>\n",
       "      <td>7000000.0</td>\n",
       "      <td>865207.0</td>\n",
       "      <td>1467396.0</td>\n",
       "      <td>1.467396e+06</td>\n",
       "      <td>...</td>\n",
       "      <td>6.481818</td>\n",
       "      <td>34423133</td>\n",
       "      <td>798</td>\n",
       "      <td>8260.0</td>\n",
       "      <td>31800</td>\n",
       "      <td>40100</td>\n",
       "      <td>0.10</td>\n",
       "      <td>0.7930</td>\n",
       "      <td>6.682109</td>\n",
       "      <td>10.367222</td>\n",
       "    </tr>\n",
       "  </tbody>\n",
       "</table>\n",
       "<p>830 rows × 34 columns</p>\n",
       "</div>"
      ],
      "text/plain": [
       "     index                            movie_title  rating MPAA  \\\n",
       "0        1                          The Godfather     9.2    R   \n",
       "1        2  Harry Potter and the Sorcerer's Stone     7.6   PG   \n",
       "2        2  Harry Potter and the Sorcerer's Stone     7.6   PG   \n",
       "3        4                           Little Women     7.8   PG   \n",
       "4        4                           Little Women     7.8   PG   \n",
       "..     ...                                    ...     ...  ...   \n",
       "825   1552                        Never Die Alone     5.7    R   \n",
       "826   1554                    Radio Free Albemuth     5.7    R   \n",
       "827   1559                        The Golden Bowl     5.9    R   \n",
       "828   1567                        The Good Mother     5.8    R   \n",
       "829   1568                        Finders Keepers     5.5    R   \n",
       "\n",
       "                            genre release_date       budget  \\\n",
       "0                  [Crime, Drama]   1972-03-24    6000000.0   \n",
       "1    [Adventure, Family, Fantasy]   2001-11-16  125000000.0   \n",
       "2    [Adventure, Family, Fantasy]   2001-11-16  125000000.0   \n",
       "3                [Drama, Romance]   2019-12-25   40000000.0   \n",
       "4                [Drama, Romance]   2019-12-25   40000000.0   \n",
       "..                            ...          ...          ...   \n",
       "825        [Action, Crime, Drama]   2004-03-26    3000000.0   \n",
       "826               [Drama, Sci-Fi]   2014-06-27    3600000.0   \n",
       "827              [Drama, Romance]   2001-05-25   15000000.0   \n",
       "828              [Drama, Romance]   1988-11-04   14000000.0   \n",
       "829                      [Comedy]   1984-05-18    7000000.0   \n",
       "\n",
       "     opening_weekend_usa    gross_usa   gross_world  ...  avg_rating_d  \\\n",
       "0               302393.0  134966411.0  2.461210e+08  ...      5.285714   \n",
       "1             90294621.0  318087620.0  1.006918e+09  ...      6.622222   \n",
       "2             90294621.0  318087620.0  1.006918e+09  ...      6.622222   \n",
       "3             16755310.0  108101214.0  2.166012e+08  ...      6.700000   \n",
       "4             16755310.0  108101214.0  2.166012e+08  ...      6.700000   \n",
       "..                   ...          ...           ...  ...           ...   \n",
       "825            3089993.0    5645298.0  5.923000e+06  ...      6.157143   \n",
       "826               5553.0       9365.0  9.365000e+03  ...      6.000000   \n",
       "827              90170.0    3050532.0  5.753678e+06  ...      6.317391   \n",
       "828            1804288.0    4764606.0  4.764606e+06  ...      6.700000   \n",
       "829             865207.0    1467396.0  1.467396e+06  ...      6.481818   \n",
       "\n",
       "    avg_gross_d title_search search_fiction_book author_search  \\\n",
       "0      32634196          192               728.0           258   \n",
       "1     106588545         5720             31300.0         68600   \n",
       "2     106588545         5720             31300.0         68600   \n",
       "3      24481851       214000          37500000.0       2060000   \n",
       "4      24481851       214000          37500000.0       2060000   \n",
       "..          ...          ...                 ...           ...   \n",
       "825    20446469        16700             46800.0        105000   \n",
       "826    32634196         1260           1270000.0        334000   \n",
       "827    18103663        14300             44600.0       4170000   \n",
       "828   117988379        13700              8480.0         21200   \n",
       "829    34423133          798              8260.0         31800   \n",
       "\n",
       "    search_fiction_author book_popularity author_popularity  log_book_search  \\\n",
       "0                    4550            0.26            0.0567         5.257495   \n",
       "1                 5680000            0.18            0.0121         8.651724   \n",
       "2                 5680000            0.18            0.0121         8.651724   \n",
       "3               210000000            0.01            0.0098        12.273731   \n",
       "4               210000000            0.01            0.0098        12.273731   \n",
       "..                    ...             ...               ...              ...   \n",
       "825               9560000            0.36            0.0110         9.723164   \n",
       "826             107000000            0.00            0.0031         7.138867   \n",
       "827               3190000            0.32            1.3072         9.568015   \n",
       "828                 69100            1.62            0.3068         9.525151   \n",
       "829                 40100            0.10            0.7930         6.682109   \n",
       "\n",
       "     log_author_search  \n",
       "0             5.552960  \n",
       "1            11.136048  \n",
       "2            11.136048  \n",
       "3            14.538217  \n",
       "4            14.538217  \n",
       "..                 ...  \n",
       "825          11.561716  \n",
       "826          12.718896  \n",
       "827          15.243427  \n",
       "828           9.961756  \n",
       "829          10.367222  \n",
       "\n",
       "[830 rows x 34 columns]"
      ]
     },
     "execution_count": 37,
     "metadata": {},
     "output_type": "execute_result"
    }
   ],
   "source": [
    "all_da_df"
   ]
  },
  {
   "cell_type": "code",
   "execution_count": 38,
   "metadata": {},
   "outputs": [],
   "source": [
    "all_da_df.drop_duplicates(subset=['movie_title','release_date'],inplace=True)"
   ]
  },
  {
   "cell_type": "code",
   "execution_count": 39,
   "metadata": {},
   "outputs": [
    {
     "data": {
      "text/plain": [
       "(581, 34)"
      ]
     },
     "execution_count": 39,
     "metadata": {},
     "output_type": "execute_result"
    }
   ],
   "source": [
    "all_da_df.shape"
   ]
  },
  {
   "cell_type": "code",
   "execution_count": 40,
   "metadata": {},
   "outputs": [
    {
     "data": {
      "text/plain": [
       "Index(['index', 'movie_title', 'rating', 'MPAA', 'genre', 'release_date',\n",
       "       'budget', 'opening_weekend_usa', 'gross_usa', 'gross_world', 'runtime',\n",
       "       'director', 'writer', 'actor', 'distributor', 'language', 'country',\n",
       "       'author', 'page', 'publish_year', 'release_year', 'release_month',\n",
       "       'dow', 'film_count_d', 'avg_rating_d', 'avg_gross_d', 'title_search',\n",
       "       'search_fiction_book', 'author_search', 'search_fiction_author',\n",
       "       'book_popularity', 'author_popularity', 'log_book_search',\n",
       "       'log_author_search'],\n",
       "      dtype='object')"
      ]
     },
     "execution_count": 40,
     "metadata": {},
     "output_type": "execute_result"
    }
   ],
   "source": [
    "all_da_df.columns"
   ]
  },
  {
   "cell_type": "code",
   "execution_count": 41,
   "metadata": {},
   "outputs": [],
   "source": [
    "all_df = all_da_df"
   ]
  },
  {
   "cell_type": "code",
   "execution_count": 42,
   "metadata": {},
   "outputs": [
    {
     "name": "stdout",
     "output_type": "stream",
     "text": [
      "<class 'pandas.core.frame.DataFrame'>\n",
      "Int64Index: 581 entries, 0 to 829\n",
      "Data columns (total 34 columns):\n",
      " #   Column                 Non-Null Count  Dtype         \n",
      "---  ------                 --------------  -----         \n",
      " 0   index                  581 non-null    int64         \n",
      " 1   movie_title            581 non-null    object        \n",
      " 2   rating                 581 non-null    float64       \n",
      " 3   MPAA                   581 non-null    object        \n",
      " 4   genre                  581 non-null    object        \n",
      " 5   release_date           581 non-null    datetime64[ns]\n",
      " 6   budget                 581 non-null    float64       \n",
      " 7   opening_weekend_usa    581 non-null    float64       \n",
      " 8   gross_usa              581 non-null    float64       \n",
      " 9   gross_world            581 non-null    float64       \n",
      " 10  runtime                581 non-null    float64       \n",
      " 11  director               581 non-null    object        \n",
      " 12  writer                 581 non-null    object        \n",
      " 13  actor                  581 non-null    object        \n",
      " 14  distributor            581 non-null    object        \n",
      " 15  language               581 non-null    object        \n",
      " 16  country                581 non-null    object        \n",
      " 17  author                 581 non-null    object        \n",
      " 18  page                   581 non-null    float64       \n",
      " 19  publish_year           581 non-null    float64       \n",
      " 20  release_year           581 non-null    int64         \n",
      " 21  release_month          581 non-null    int64         \n",
      " 22  dow                    581 non-null    int64         \n",
      " 23  film_count_d           581 non-null    int64         \n",
      " 24  avg_rating_d           581 non-null    float64       \n",
      " 25  avg_gross_d            581 non-null    int64         \n",
      " 26  title_search           581 non-null    int64         \n",
      " 27  search_fiction_book    577 non-null    float64       \n",
      " 28  author_search          581 non-null    int64         \n",
      " 29  search_fiction_author  581 non-null    int64         \n",
      " 30  book_popularity        577 non-null    float64       \n",
      " 31  author_popularity      581 non-null    float64       \n",
      " 32  log_book_search        581 non-null    float64       \n",
      " 33  log_author_search      581 non-null    float64       \n",
      "dtypes: datetime64[ns](1), float64(14), int64(9), object(10)\n",
      "memory usage: 158.9+ KB\n"
     ]
    }
   ],
   "source": [
    "all_df.info()"
   ]
  },
  {
   "cell_type": "code",
   "execution_count": 43,
   "metadata": {},
   "outputs": [
    {
     "data": {
      "text/html": [
       "<div>\n",
       "<style scoped>\n",
       "    .dataframe tbody tr th:only-of-type {\n",
       "        vertical-align: middle;\n",
       "    }\n",
       "\n",
       "    .dataframe tbody tr th {\n",
       "        vertical-align: top;\n",
       "    }\n",
       "\n",
       "    .dataframe thead th {\n",
       "        text-align: right;\n",
       "    }\n",
       "</style>\n",
       "<table border=\"1\" class=\"dataframe\">\n",
       "  <thead>\n",
       "    <tr style=\"text-align: right;\">\n",
       "      <th></th>\n",
       "      <th>index</th>\n",
       "      <th>movie_title</th>\n",
       "      <th>rating</th>\n",
       "      <th>MPAA</th>\n",
       "      <th>genre</th>\n",
       "      <th>release_date</th>\n",
       "      <th>budget</th>\n",
       "      <th>opening_weekend_usa</th>\n",
       "      <th>gross_usa</th>\n",
       "      <th>gross_world</th>\n",
       "      <th>...</th>\n",
       "      <th>avg_rating_d</th>\n",
       "      <th>avg_gross_d</th>\n",
       "      <th>title_search</th>\n",
       "      <th>search_fiction_book</th>\n",
       "      <th>author_search</th>\n",
       "      <th>search_fiction_author</th>\n",
       "      <th>book_popularity</th>\n",
       "      <th>author_popularity</th>\n",
       "      <th>log_book_search</th>\n",
       "      <th>log_author_search</th>\n",
       "    </tr>\n",
       "  </thead>\n",
       "  <tbody>\n",
       "    <tr>\n",
       "      <th>38</th>\n",
       "      <td>61</td>\n",
       "      <td>Shutter Island</td>\n",
       "      <td>8.2</td>\n",
       "      <td>R</td>\n",
       "      <td>[Mystery, Thriller]</td>\n",
       "      <td>2010-02-19</td>\n",
       "      <td>80000000.0</td>\n",
       "      <td>41062440.0</td>\n",
       "      <td>128012934.0</td>\n",
       "      <td>294804195.0</td>\n",
       "      <td>...</td>\n",
       "      <td>7.383333</td>\n",
       "      <td>33200799</td>\n",
       "      <td>2590</td>\n",
       "      <td>NaN</td>\n",
       "      <td>9620</td>\n",
       "      <td>41500000</td>\n",
       "      <td>NaN</td>\n",
       "      <td>0.0002</td>\n",
       "      <td>7.859413</td>\n",
       "      <td>9.171600</td>\n",
       "    </tr>\n",
       "    <tr>\n",
       "      <th>95</th>\n",
       "      <td>135</td>\n",
       "      <td>The Da Vinci Code</td>\n",
       "      <td>6.6</td>\n",
       "      <td>PG-13</td>\n",
       "      <td>[Mystery, Thriller]</td>\n",
       "      <td>2006-05-19</td>\n",
       "      <td>125000000.0</td>\n",
       "      <td>77073388.0</td>\n",
       "      <td>217536138.0</td>\n",
       "      <td>760006945.0</td>\n",
       "      <td>...</td>\n",
       "      <td>6.430000</td>\n",
       "      <td>75985194</td>\n",
       "      <td>16100</td>\n",
       "      <td>NaN</td>\n",
       "      <td>14700000</td>\n",
       "      <td>13000000</td>\n",
       "      <td>NaN</td>\n",
       "      <td>1.1308</td>\n",
       "      <td>9.686575</td>\n",
       "      <td>16.503358</td>\n",
       "    </tr>\n",
       "    <tr>\n",
       "      <th>531</th>\n",
       "      <td>765</td>\n",
       "      <td>In the Cut</td>\n",
       "      <td>5.3</td>\n",
       "      <td>R</td>\n",
       "      <td>[Mystery, Thriller]</td>\n",
       "      <td>2003-10-31</td>\n",
       "      <td>12000000.0</td>\n",
       "      <td>97625.0</td>\n",
       "      <td>4750602.0</td>\n",
       "      <td>23726793.0</td>\n",
       "      <td>...</td>\n",
       "      <td>6.725000</td>\n",
       "      <td>18188941</td>\n",
       "      <td>3780</td>\n",
       "      <td>NaN</td>\n",
       "      <td>13600</td>\n",
       "      <td>7250000</td>\n",
       "      <td>NaN</td>\n",
       "      <td>0.0019</td>\n",
       "      <td>8.237479</td>\n",
       "      <td>9.517825</td>\n",
       "    </tr>\n",
       "    <tr>\n",
       "      <th>660</th>\n",
       "      <td>971</td>\n",
       "      <td>Presumed Innocent</td>\n",
       "      <td>6.9</td>\n",
       "      <td>R</td>\n",
       "      <td>[Mystery, Thriller]</td>\n",
       "      <td>1990-07-27</td>\n",
       "      <td>22000000.0</td>\n",
       "      <td>11718981.0</td>\n",
       "      <td>86303188.0</td>\n",
       "      <td>221303188.0</td>\n",
       "      <td>...</td>\n",
       "      <td>6.575000</td>\n",
       "      <td>22846388</td>\n",
       "      <td>247</td>\n",
       "      <td>NaN</td>\n",
       "      <td>264</td>\n",
       "      <td>71400</td>\n",
       "      <td>NaN</td>\n",
       "      <td>0.0037</td>\n",
       "      <td>5.509388</td>\n",
       "      <td>5.575949</td>\n",
       "    </tr>\n",
       "  </tbody>\n",
       "</table>\n",
       "<p>4 rows × 34 columns</p>\n",
       "</div>"
      ],
      "text/plain": [
       "     index        movie_title  rating   MPAA                genre  \\\n",
       "38      61     Shutter Island     8.2      R  [Mystery, Thriller]   \n",
       "95     135  The Da Vinci Code     6.6  PG-13  [Mystery, Thriller]   \n",
       "531    765         In the Cut     5.3      R  [Mystery, Thriller]   \n",
       "660    971  Presumed Innocent     6.9      R  [Mystery, Thriller]   \n",
       "\n",
       "    release_date       budget  opening_weekend_usa    gross_usa  gross_world  \\\n",
       "38    2010-02-19   80000000.0           41062440.0  128012934.0  294804195.0   \n",
       "95    2006-05-19  125000000.0           77073388.0  217536138.0  760006945.0   \n",
       "531   2003-10-31   12000000.0              97625.0    4750602.0   23726793.0   \n",
       "660   1990-07-27   22000000.0           11718981.0   86303188.0  221303188.0   \n",
       "\n",
       "     ...  avg_rating_d avg_gross_d title_search search_fiction_book  \\\n",
       "38   ...      7.383333    33200799         2590                 NaN   \n",
       "95   ...      6.430000    75985194        16100                 NaN   \n",
       "531  ...      6.725000    18188941         3780                 NaN   \n",
       "660  ...      6.575000    22846388          247                 NaN   \n",
       "\n",
       "    author_search search_fiction_author book_popularity author_popularity  \\\n",
       "38           9620              41500000             NaN            0.0002   \n",
       "95       14700000              13000000             NaN            1.1308   \n",
       "531         13600               7250000             NaN            0.0019   \n",
       "660           264                 71400             NaN            0.0037   \n",
       "\n",
       "     log_book_search  log_author_search  \n",
       "38          7.859413           9.171600  \n",
       "95          9.686575          16.503358  \n",
       "531         8.237479           9.517825  \n",
       "660         5.509388           5.575949  \n",
       "\n",
       "[4 rows x 34 columns]"
      ]
     },
     "execution_count": 43,
     "metadata": {},
     "output_type": "execute_result"
    }
   ],
   "source": [
    "all_df[all_df.search_fiction_book.isna() == True]"
   ]
  },
  {
   "cell_type": "code",
   "execution_count": 44,
   "metadata": {},
   "outputs": [],
   "source": [
    "# Fill up the four missing values\n",
    "all_df.loc[38,'search_fiction_book'] = 29600\n",
    "all_df.loc[95,'search_fiction_book'] = 44200\n",
    "all_df.loc[531,'search_fiction_book'] = 26200\n",
    "all_df.loc[660,'search_fiction_book'] = 231000"
   ]
  },
  {
   "cell_type": "code",
   "execution_count": null,
   "metadata": {},
   "outputs": [],
   "source": []
  },
  {
   "cell_type": "code",
   "execution_count": 45,
   "metadata": {},
   "outputs": [],
   "source": [
    "# Re-evaluate book_popularity"
   ]
  },
  {
   "cell_type": "code",
   "execution_count": 46,
   "metadata": {},
   "outputs": [],
   "source": [
    "all_df['book_popularity_test'] = all_df['title_search'] / all_df['search_fiction_book']"
   ]
  },
  {
   "cell_type": "code",
   "execution_count": 47,
   "metadata": {},
   "outputs": [
    {
     "data": {
      "text/plain": [
       "<AxesSubplot:>"
      ]
     },
     "execution_count": 47,
     "metadata": {},
     "output_type": "execute_result"
    },
    {
     "data": {
      "image/png": "[encoded data removed]",
      "text/plain": [
       "<Figure size 432x288 with 1 Axes>"
      ]
     },
     "metadata": {
      "needs_background": "light"
     },
     "output_type": "display_data"
    }
   ],
   "source": [
    "# log plot distribution looks ok\n",
    "np.log(all_df['book_popularity_test']).hist()"
   ]
  },
  {
   "cell_type": "code",
   "execution_count": 48,
   "metadata": {},
   "outputs": [],
   "source": [
    "all_df['log_book_popularity'] = np.log(all_df['book_popularity_test'])"
   ]
  },
  {
   "cell_type": "code",
   "execution_count": 49,
   "metadata": {},
   "outputs": [],
   "source": [
    "# Same for author populatiry\n",
    "all_df['author_popularity_test'] = all_df['author_search'] / all_df['search_fiction_author']"
   ]
  },
  {
   "cell_type": "code",
   "execution_count": 50,
   "metadata": {},
   "outputs": [
    {
     "data": {
      "text/plain": [
       "<AxesSubplot:>"
      ]
     },
     "execution_count": 50,
     "metadata": {},
     "output_type": "execute_result"
    },
    {
     "data": {
      "image/png": "[encoded data removed]",
      "text/plain": [
       "<Figure size 432x288 with 1 Axes>"
      ]
     },
     "metadata": {
      "needs_background": "light"
     },
     "output_type": "display_data"
    }
   ],
   "source": [
    "np.log(all_df['author_popularity_test']).hist()"
   ]
  },
  {
   "cell_type": "code",
   "execution_count": 51,
   "metadata": {},
   "outputs": [],
   "source": [
    "all_df['log_author_popularity'] = np.log(all_df['author_popularity_test'])"
   ]
  },
  {
   "cell_type": "code",
   "execution_count": 52,
   "metadata": {},
   "outputs": [
    {
     "data": {
      "text/plain": [
       "(581, 38)"
      ]
     },
     "execution_count": 52,
     "metadata": {},
     "output_type": "execute_result"
    }
   ],
   "source": [
    "all_df.shape"
   ]
  },
  {
   "cell_type": "code",
   "execution_count": 53,
   "metadata": {},
   "outputs": [],
   "source": [
    "all_df.to_pickle('../dump/complete_data')"
   ]
  },
  {
   "cell_type": "code",
   "execution_count": null,
   "metadata": {},
   "outputs": [],
   "source": []
  },
  {
   "cell_type": "markdown",
   "metadata": {},
   "source": [
    "## 3. Simple EDA"
   ]
  },
  {
   "cell_type": "code",
   "execution_count": 54,
   "metadata": {},
   "outputs": [
    {
     "data": {
      "text/html": [
       "<div>\n",
       "<style scoped>\n",
       "    .dataframe tbody tr th:only-of-type {\n",
       "        vertical-align: middle;\n",
       "    }\n",
       "\n",
       "    .dataframe tbody tr th {\n",
       "        vertical-align: top;\n",
       "    }\n",
       "\n",
       "    .dataframe thead th {\n",
       "        text-align: right;\n",
       "    }\n",
       "</style>\n",
       "<table border=\"1\" class=\"dataframe\">\n",
       "  <thead>\n",
       "    <tr style=\"text-align: right;\">\n",
       "      <th></th>\n",
       "      <th>index</th>\n",
       "      <th>rating</th>\n",
       "      <th>budget</th>\n",
       "      <th>opening_weekend_usa</th>\n",
       "      <th>gross_usa</th>\n",
       "      <th>gross_world</th>\n",
       "      <th>runtime</th>\n",
       "      <th>page</th>\n",
       "      <th>publish_year</th>\n",
       "      <th>release_year</th>\n",
       "      <th>...</th>\n",
       "      <th>author_search</th>\n",
       "      <th>search_fiction_author</th>\n",
       "      <th>book_popularity</th>\n",
       "      <th>author_popularity</th>\n",
       "      <th>log_book_search</th>\n",
       "      <th>log_author_search</th>\n",
       "      <th>book_popularity_test</th>\n",
       "      <th>log_book_popularity</th>\n",
       "      <th>author_popularity_test</th>\n",
       "      <th>log_author_popularity</th>\n",
       "    </tr>\n",
       "  </thead>\n",
       "  <tbody>\n",
       "    <tr>\n",
       "      <th>index</th>\n",
       "      <td>1.000000</td>\n",
       "      <td>-0.500822</td>\n",
       "      <td>-0.358683</td>\n",
       "      <td>-0.434366</td>\n",
       "      <td>-0.551645</td>\n",
       "      <td>-0.540932</td>\n",
       "      <td>-0.311140</td>\n",
       "      <td>-0.083602</td>\n",
       "      <td>0.053707</td>\n",
       "      <td>-0.147703</td>\n",
       "      <td>...</td>\n",
       "      <td>-0.044007</td>\n",
       "      <td>-0.214454</td>\n",
       "      <td>-0.029958</td>\n",
       "      <td>-0.054590</td>\n",
       "      <td>-0.312233</td>\n",
       "      <td>-0.233912</td>\n",
       "      <td>-0.032660</td>\n",
       "      <td>-0.039058</td>\n",
       "      <td>-0.054586</td>\n",
       "      <td>-0.002234</td>\n",
       "    </tr>\n",
       "    <tr>\n",
       "      <th>rating</th>\n",
       "      <td>-0.500822</td>\n",
       "      <td>1.000000</td>\n",
       "      <td>0.023923</td>\n",
       "      <td>0.053388</td>\n",
       "      <td>0.282861</td>\n",
       "      <td>0.234868</td>\n",
       "      <td>0.334279</td>\n",
       "      <td>0.043180</td>\n",
       "      <td>-0.038189</td>\n",
       "      <td>-0.174547</td>\n",
       "      <td>...</td>\n",
       "      <td>0.006805</td>\n",
       "      <td>0.108155</td>\n",
       "      <td>0.071661</td>\n",
       "      <td>-0.028846</td>\n",
       "      <td>0.083681</td>\n",
       "      <td>-0.010566</td>\n",
       "      <td>0.070186</td>\n",
       "      <td>0.146091</td>\n",
       "      <td>-0.028851</td>\n",
       "      <td>0.031649</td>\n",
       "    </tr>\n",
       "    <tr>\n",
       "      <th>budget</th>\n",
       "      <td>-0.358683</td>\n",
       "      <td>0.023923</td>\n",
       "      <td>1.000000</td>\n",
       "      <td>0.624763</td>\n",
       "      <td>0.560477</td>\n",
       "      <td>0.659871</td>\n",
       "      <td>0.196036</td>\n",
       "      <td>0.067559</td>\n",
       "      <td>-0.057722</td>\n",
       "      <td>0.278532</td>\n",
       "      <td>...</td>\n",
       "      <td>-0.038852</td>\n",
       "      <td>-0.047739</td>\n",
       "      <td>-0.005430</td>\n",
       "      <td>-0.033175</td>\n",
       "      <td>0.123458</td>\n",
       "      <td>0.102806</td>\n",
       "      <td>-0.000830</td>\n",
       "      <td>0.007546</td>\n",
       "      <td>-0.033176</td>\n",
       "      <td>-0.109422</td>\n",
       "    </tr>\n",
       "    <tr>\n",
       "      <th>opening_weekend_usa</th>\n",
       "      <td>-0.434366</td>\n",
       "      <td>0.053388</td>\n",
       "      <td>0.624763</td>\n",
       "      <td>1.000000</td>\n",
       "      <td>0.838640</td>\n",
       "      <td>0.846679</td>\n",
       "      <td>0.142887</td>\n",
       "      <td>0.126410</td>\n",
       "      <td>0.015840</td>\n",
       "      <td>0.233311</td>\n",
       "      <td>...</td>\n",
       "      <td>0.048301</td>\n",
       "      <td>0.009510</td>\n",
       "      <td>0.052966</td>\n",
       "      <td>0.106362</td>\n",
       "      <td>0.230270</td>\n",
       "      <td>0.213246</td>\n",
       "      <td>0.059285</td>\n",
       "      <td>0.055683</td>\n",
       "      <td>0.106360</td>\n",
       "      <td>-0.011105</td>\n",
       "    </tr>\n",
       "    <tr>\n",
       "      <th>gross_usa</th>\n",
       "      <td>-0.551645</td>\n",
       "      <td>0.282861</td>\n",
       "      <td>0.560477</td>\n",
       "      <td>0.838640</td>\n",
       "      <td>1.000000</td>\n",
       "      <td>0.935175</td>\n",
       "      <td>0.246334</td>\n",
       "      <td>0.117594</td>\n",
       "      <td>-0.047797</td>\n",
       "      <td>0.025183</td>\n",
       "      <td>...</td>\n",
       "      <td>-0.000783</td>\n",
       "      <td>0.032521</td>\n",
       "      <td>0.061272</td>\n",
       "      <td>0.036164</td>\n",
       "      <td>0.147725</td>\n",
       "      <td>0.099596</td>\n",
       "      <td>0.065406</td>\n",
       "      <td>0.112546</td>\n",
       "      <td>0.036161</td>\n",
       "      <td>0.016074</td>\n",
       "    </tr>\n",
       "    <tr>\n",
       "      <th>gross_world</th>\n",
       "      <td>-0.540932</td>\n",
       "      <td>0.234868</td>\n",
       "      <td>0.659871</td>\n",
       "      <td>0.846679</td>\n",
       "      <td>0.935175</td>\n",
       "      <td>1.000000</td>\n",
       "      <td>0.253615</td>\n",
       "      <td>0.119465</td>\n",
       "      <td>-0.030800</td>\n",
       "      <td>0.138007</td>\n",
       "      <td>...</td>\n",
       "      <td>0.027979</td>\n",
       "      <td>0.046062</td>\n",
       "      <td>0.036880</td>\n",
       "      <td>0.075504</td>\n",
       "      <td>0.194063</td>\n",
       "      <td>0.169375</td>\n",
       "      <td>0.043641</td>\n",
       "      <td>0.072472</td>\n",
       "      <td>0.075500</td>\n",
       "      <td>-0.011365</td>\n",
       "    </tr>\n",
       "    <tr>\n",
       "      <th>runtime</th>\n",
       "      <td>-0.311140</td>\n",
       "      <td>0.334279</td>\n",
       "      <td>0.196036</td>\n",
       "      <td>0.142887</td>\n",
       "      <td>0.246334</td>\n",
       "      <td>0.253615</td>\n",
       "      <td>1.000000</td>\n",
       "      <td>0.274192</td>\n",
       "      <td>0.007373</td>\n",
       "      <td>-0.102181</td>\n",
       "      <td>...</td>\n",
       "      <td>-0.036218</td>\n",
       "      <td>-0.030183</td>\n",
       "      <td>0.020261</td>\n",
       "      <td>0.027407</td>\n",
       "      <td>0.008271</td>\n",
       "      <td>-0.014548</td>\n",
       "      <td>0.025347</td>\n",
       "      <td>0.087472</td>\n",
       "      <td>0.027404</td>\n",
       "      <td>0.115522</td>\n",
       "    </tr>\n",
       "    <tr>\n",
       "      <th>page</th>\n",
       "      <td>-0.083602</td>\n",
       "      <td>0.043180</td>\n",
       "      <td>0.067559</td>\n",
       "      <td>0.126410</td>\n",
       "      <td>0.117594</td>\n",
       "      <td>0.119465</td>\n",
       "      <td>0.274192</td>\n",
       "      <td>1.000000</td>\n",
       "      <td>-0.066636</td>\n",
       "      <td>-0.056274</td>\n",
       "      <td>...</td>\n",
       "      <td>0.080310</td>\n",
       "      <td>0.020895</td>\n",
       "      <td>0.103678</td>\n",
       "      <td>0.082863</td>\n",
       "      <td>0.118917</td>\n",
       "      <td>0.108527</td>\n",
       "      <td>0.104632</td>\n",
       "      <td>0.125037</td>\n",
       "      <td>0.082858</td>\n",
       "      <td>0.158810</td>\n",
       "    </tr>\n",
       "    <tr>\n",
       "      <th>publish_year</th>\n",
       "      <td>0.053707</td>\n",
       "      <td>-0.038189</td>\n",
       "      <td>-0.057722</td>\n",
       "      <td>0.015840</td>\n",
       "      <td>-0.047797</td>\n",
       "      <td>-0.030800</td>\n",
       "      <td>0.007373</td>\n",
       "      <td>-0.066636</td>\n",
       "      <td>1.000000</td>\n",
       "      <td>0.250566</td>\n",
       "      <td>...</td>\n",
       "      <td>-0.023830</td>\n",
       "      <td>-0.034094</td>\n",
       "      <td>-0.060059</td>\n",
       "      <td>0.013548</td>\n",
       "      <td>0.006531</td>\n",
       "      <td>0.002759</td>\n",
       "      <td>-0.058661</td>\n",
       "      <td>-0.197883</td>\n",
       "      <td>0.013550</td>\n",
       "      <td>-0.184548</td>\n",
       "    </tr>\n",
       "    <tr>\n",
       "      <th>release_year</th>\n",
       "      <td>-0.147703</td>\n",
       "      <td>-0.174547</td>\n",
       "      <td>0.278532</td>\n",
       "      <td>0.233311</td>\n",
       "      <td>0.025183</td>\n",
       "      <td>0.138007</td>\n",
       "      <td>-0.102181</td>\n",
       "      <td>-0.056274</td>\n",
       "      <td>0.250566</td>\n",
       "      <td>1.000000</td>\n",
       "      <td>...</td>\n",
       "      <td>-0.103776</td>\n",
       "      <td>-0.101899</td>\n",
       "      <td>-0.114305</td>\n",
       "      <td>-0.019632</td>\n",
       "      <td>0.276985</td>\n",
       "      <td>0.262247</td>\n",
       "      <td>-0.111635</td>\n",
       "      <td>-0.384410</td>\n",
       "      <td>-0.019634</td>\n",
       "      <td>-0.447618</td>\n",
       "    </tr>\n",
       "    <tr>\n",
       "      <th>release_month</th>\n",
       "      <td>-0.099561</td>\n",
       "      <td>0.057671</td>\n",
       "      <td>0.066490</td>\n",
       "      <td>0.003354</td>\n",
       "      <td>0.056472</td>\n",
       "      <td>0.064740</td>\n",
       "      <td>0.067303</td>\n",
       "      <td>-0.046641</td>\n",
       "      <td>-0.046579</td>\n",
       "      <td>-0.018653</td>\n",
       "      <td>...</td>\n",
       "      <td>-0.019489</td>\n",
       "      <td>-0.039093</td>\n",
       "      <td>0.058011</td>\n",
       "      <td>-0.039059</td>\n",
       "      <td>-0.056475</td>\n",
       "      <td>-0.058485</td>\n",
       "      <td>0.056558</td>\n",
       "      <td>0.010333</td>\n",
       "      <td>-0.039063</td>\n",
       "      <td>-0.000800</td>\n",
       "    </tr>\n",
       "    <tr>\n",
       "      <th>dow</th>\n",
       "      <td>0.037235</td>\n",
       "      <td>-0.065742</td>\n",
       "      <td>0.010250</td>\n",
       "      <td>0.013068</td>\n",
       "      <td>-0.118922</td>\n",
       "      <td>-0.093549</td>\n",
       "      <td>-0.095624</td>\n",
       "      <td>-0.045677</td>\n",
       "      <td>0.004196</td>\n",
       "      <td>0.037985</td>\n",
       "      <td>...</td>\n",
       "      <td>0.123743</td>\n",
       "      <td>-0.035999</td>\n",
       "      <td>0.052392</td>\n",
       "      <td>0.085488</td>\n",
       "      <td>-0.026498</td>\n",
       "      <td>-0.024225</td>\n",
       "      <td>0.053728</td>\n",
       "      <td>0.008810</td>\n",
       "      <td>0.085485</td>\n",
       "      <td>0.009229</td>\n",
       "    </tr>\n",
       "    <tr>\n",
       "      <th>film_count_d</th>\n",
       "      <td>-0.075657</td>\n",
       "      <td>0.100204</td>\n",
       "      <td>0.135506</td>\n",
       "      <td>0.053374</td>\n",
       "      <td>0.094553</td>\n",
       "      <td>0.132619</td>\n",
       "      <td>0.168372</td>\n",
       "      <td>0.084528</td>\n",
       "      <td>-0.016360</td>\n",
       "      <td>-0.121451</td>\n",
       "      <td>...</td>\n",
       "      <td>0.047868</td>\n",
       "      <td>0.083052</td>\n",
       "      <td>-0.022135</td>\n",
       "      <td>0.040461</td>\n",
       "      <td>0.038866</td>\n",
       "      <td>0.048154</td>\n",
       "      <td>-0.018902</td>\n",
       "      <td>0.057811</td>\n",
       "      <td>0.040462</td>\n",
       "      <td>0.089472</td>\n",
       "    </tr>\n",
       "    <tr>\n",
       "      <th>avg_rating_d</th>\n",
       "      <td>-0.185960</td>\n",
       "      <td>0.269444</td>\n",
       "      <td>0.149642</td>\n",
       "      <td>0.068752</td>\n",
       "      <td>0.102945</td>\n",
       "      <td>0.096303</td>\n",
       "      <td>0.270059</td>\n",
       "      <td>0.001391</td>\n",
       "      <td>-0.017414</td>\n",
       "      <td>-0.008475</td>\n",
       "      <td>...</td>\n",
       "      <td>0.032788</td>\n",
       "      <td>0.062396</td>\n",
       "      <td>0.053276</td>\n",
       "      <td>0.050929</td>\n",
       "      <td>0.075988</td>\n",
       "      <td>0.063819</td>\n",
       "      <td>0.052081</td>\n",
       "      <td>0.064403</td>\n",
       "      <td>0.050928</td>\n",
       "      <td>0.042399</td>\n",
       "    </tr>\n",
       "    <tr>\n",
       "      <th>avg_gross_d</th>\n",
       "      <td>-0.217694</td>\n",
       "      <td>0.086920</td>\n",
       "      <td>0.423419</td>\n",
       "      <td>0.280620</td>\n",
       "      <td>0.312702</td>\n",
       "      <td>0.336864</td>\n",
       "      <td>0.120558</td>\n",
       "      <td>0.012992</td>\n",
       "      <td>-0.006858</td>\n",
       "      <td>0.106607</td>\n",
       "      <td>...</td>\n",
       "      <td>-0.024578</td>\n",
       "      <td>0.041936</td>\n",
       "      <td>0.014045</td>\n",
       "      <td>-0.058176</td>\n",
       "      <td>0.087729</td>\n",
       "      <td>0.060767</td>\n",
       "      <td>0.016991</td>\n",
       "      <td>-0.001585</td>\n",
       "      <td>-0.058179</td>\n",
       "      <td>-0.067455</td>\n",
       "    </tr>\n",
       "    <tr>\n",
       "      <th>title_search</th>\n",
       "      <td>-0.093167</td>\n",
       "      <td>0.053970</td>\n",
       "      <td>-0.003832</td>\n",
       "      <td>0.244297</td>\n",
       "      <td>0.180185</td>\n",
       "      <td>0.140098</td>\n",
       "      <td>0.034389</td>\n",
       "      <td>0.189525</td>\n",
       "      <td>-0.021764</td>\n",
       "      <td>0.007622</td>\n",
       "      <td>...</td>\n",
       "      <td>0.204090</td>\n",
       "      <td>0.184077</td>\n",
       "      <td>0.360925</td>\n",
       "      <td>0.139244</td>\n",
       "      <td>0.315629</td>\n",
       "      <td>0.226636</td>\n",
       "      <td>0.359920</td>\n",
       "      <td>0.153275</td>\n",
       "      <td>0.139241</td>\n",
       "      <td>0.132582</td>\n",
       "    </tr>\n",
       "    <tr>\n",
       "      <th>search_fiction_book</th>\n",
       "      <td>-0.198238</td>\n",
       "      <td>0.097157</td>\n",
       "      <td>-0.045034</td>\n",
       "      <td>0.036012</td>\n",
       "      <td>0.049336</td>\n",
       "      <td>0.049966</td>\n",
       "      <td>0.054232</td>\n",
       "      <td>0.122643</td>\n",
       "      <td>-0.018367</td>\n",
       "      <td>-0.077208</td>\n",
       "      <td>...</td>\n",
       "      <td>0.274336</td>\n",
       "      <td>0.766415</td>\n",
       "      <td>0.002871</td>\n",
       "      <td>0.093445</td>\n",
       "      <td>0.541743</td>\n",
       "      <td>0.470960</td>\n",
       "      <td>0.002435</td>\n",
       "      <td>-0.199618</td>\n",
       "      <td>0.093446</td>\n",
       "      <td>0.067267</td>\n",
       "    </tr>\n",
       "    <tr>\n",
       "      <th>author_search</th>\n",
       "      <td>-0.044007</td>\n",
       "      <td>0.006805</td>\n",
       "      <td>-0.038852</td>\n",
       "      <td>0.048301</td>\n",
       "      <td>-0.000783</td>\n",
       "      <td>0.027979</td>\n",
       "      <td>-0.036218</td>\n",
       "      <td>0.080310</td>\n",
       "      <td>-0.023830</td>\n",
       "      <td>-0.103776</td>\n",
       "      <td>...</td>\n",
       "      <td>1.000000</td>\n",
       "      <td>0.395039</td>\n",
       "      <td>0.144067</td>\n",
       "      <td>0.677137</td>\n",
       "      <td>0.362954</td>\n",
       "      <td>0.424692</td>\n",
       "      <td>0.143068</td>\n",
       "      <td>0.109661</td>\n",
       "      <td>0.677136</td>\n",
       "      <td>0.272375</td>\n",
       "    </tr>\n",
       "    <tr>\n",
       "      <th>search_fiction_author</th>\n",
       "      <td>-0.214454</td>\n",
       "      <td>0.108155</td>\n",
       "      <td>-0.047739</td>\n",
       "      <td>0.009510</td>\n",
       "      <td>0.032521</td>\n",
       "      <td>0.046062</td>\n",
       "      <td>-0.030183</td>\n",
       "      <td>0.020895</td>\n",
       "      <td>-0.034094</td>\n",
       "      <td>-0.101899</td>\n",
       "      <td>...</td>\n",
       "      <td>0.395039</td>\n",
       "      <td>1.000000</td>\n",
       "      <td>-0.042907</td>\n",
       "      <td>0.134124</td>\n",
       "      <td>0.678222</td>\n",
       "      <td>0.615836</td>\n",
       "      <td>-0.043152</td>\n",
       "      <td>-0.167314</td>\n",
       "      <td>0.134127</td>\n",
       "      <td>0.029398</td>\n",
       "    </tr>\n",
       "    <tr>\n",
       "      <th>book_popularity</th>\n",
       "      <td>-0.029958</td>\n",
       "      <td>0.071661</td>\n",
       "      <td>-0.005430</td>\n",
       "      <td>0.052966</td>\n",
       "      <td>0.061272</td>\n",
       "      <td>0.036880</td>\n",
       "      <td>0.020261</td>\n",
       "      <td>0.103678</td>\n",
       "      <td>-0.060059</td>\n",
       "      <td>-0.114305</td>\n",
       "      <td>...</td>\n",
       "      <td>0.144067</td>\n",
       "      <td>-0.042907</td>\n",
       "      <td>1.000000</td>\n",
       "      <td>0.332178</td>\n",
       "      <td>0.337233</td>\n",
       "      <td>0.219167</td>\n",
       "      <td>0.999921</td>\n",
       "      <td>0.616255</td>\n",
       "      <td>0.332177</td>\n",
       "      <td>0.411206</td>\n",
       "    </tr>\n",
       "    <tr>\n",
       "      <th>author_popularity</th>\n",
       "      <td>-0.054590</td>\n",
       "      <td>-0.028846</td>\n",
       "      <td>-0.033175</td>\n",
       "      <td>0.106362</td>\n",
       "      <td>0.036164</td>\n",
       "      <td>0.075504</td>\n",
       "      <td>0.027407</td>\n",
       "      <td>0.082863</td>\n",
       "      <td>0.013548</td>\n",
       "      <td>-0.019632</td>\n",
       "      <td>...</td>\n",
       "      <td>0.677137</td>\n",
       "      <td>0.134124</td>\n",
       "      <td>0.332178</td>\n",
       "      <td>1.000000</td>\n",
       "      <td>0.311521</td>\n",
       "      <td>0.461503</td>\n",
       "      <td>0.334514</td>\n",
       "      <td>0.228459</td>\n",
       "      <td>1.000000</td>\n",
       "      <td>0.473902</td>\n",
       "    </tr>\n",
       "    <tr>\n",
       "      <th>log_book_search</th>\n",
       "      <td>-0.312233</td>\n",
       "      <td>0.083681</td>\n",
       "      <td>0.123458</td>\n",
       "      <td>0.230270</td>\n",
       "      <td>0.147725</td>\n",
       "      <td>0.194063</td>\n",
       "      <td>0.008271</td>\n",
       "      <td>0.118917</td>\n",
       "      <td>0.006531</td>\n",
       "      <td>0.276985</td>\n",
       "      <td>...</td>\n",
       "      <td>0.362954</td>\n",
       "      <td>0.678222</td>\n",
       "      <td>0.337233</td>\n",
       "      <td>0.311521</td>\n",
       "      <td>1.000000</td>\n",
       "      <td>0.853778</td>\n",
       "      <td>0.338746</td>\n",
       "      <td>0.252206</td>\n",
       "      <td>0.311521</td>\n",
       "      <td>0.193613</td>\n",
       "    </tr>\n",
       "    <tr>\n",
       "      <th>log_author_search</th>\n",
       "      <td>-0.233912</td>\n",
       "      <td>-0.010566</td>\n",
       "      <td>0.102806</td>\n",
       "      <td>0.213246</td>\n",
       "      <td>0.099596</td>\n",
       "      <td>0.169375</td>\n",
       "      <td>-0.014548</td>\n",
       "      <td>0.108527</td>\n",
       "      <td>0.002759</td>\n",
       "      <td>0.262247</td>\n",
       "      <td>...</td>\n",
       "      <td>0.424692</td>\n",
       "      <td>0.615836</td>\n",
       "      <td>0.219167</td>\n",
       "      <td>0.461503</td>\n",
       "      <td>0.853778</td>\n",
       "      <td>1.000000</td>\n",
       "      <td>0.222751</td>\n",
       "      <td>0.172451</td>\n",
       "      <td>0.461504</td>\n",
       "      <td>0.429625</td>\n",
       "    </tr>\n",
       "    <tr>\n",
       "      <th>book_popularity_test</th>\n",
       "      <td>-0.032660</td>\n",
       "      <td>0.070186</td>\n",
       "      <td>-0.000830</td>\n",
       "      <td>0.059285</td>\n",
       "      <td>0.065406</td>\n",
       "      <td>0.043641</td>\n",
       "      <td>0.025347</td>\n",
       "      <td>0.104632</td>\n",
       "      <td>-0.058661</td>\n",
       "      <td>-0.111635</td>\n",
       "      <td>...</td>\n",
       "      <td>0.143068</td>\n",
       "      <td>-0.043152</td>\n",
       "      <td>0.999921</td>\n",
       "      <td>0.334514</td>\n",
       "      <td>0.338746</td>\n",
       "      <td>0.222751</td>\n",
       "      <td>1.000000</td>\n",
       "      <td>0.615423</td>\n",
       "      <td>0.334512</td>\n",
       "      <td>0.411734</td>\n",
       "    </tr>\n",
       "    <tr>\n",
       "      <th>log_book_popularity</th>\n",
       "      <td>-0.039058</td>\n",
       "      <td>0.146091</td>\n",
       "      <td>0.007546</td>\n",
       "      <td>0.055683</td>\n",
       "      <td>0.112546</td>\n",
       "      <td>0.072472</td>\n",
       "      <td>0.087472</td>\n",
       "      <td>0.125037</td>\n",
       "      <td>-0.197883</td>\n",
       "      <td>-0.384410</td>\n",
       "      <td>...</td>\n",
       "      <td>0.109661</td>\n",
       "      <td>-0.167314</td>\n",
       "      <td>0.616255</td>\n",
       "      <td>0.228459</td>\n",
       "      <td>0.252206</td>\n",
       "      <td>0.172451</td>\n",
       "      <td>0.615423</td>\n",
       "      <td>1.000000</td>\n",
       "      <td>0.228456</td>\n",
       "      <td>0.603788</td>\n",
       "    </tr>\n",
       "    <tr>\n",
       "      <th>author_popularity_test</th>\n",
       "      <td>-0.054586</td>\n",
       "      <td>-0.028851</td>\n",
       "      <td>-0.033176</td>\n",
       "      <td>0.106360</td>\n",
       "      <td>0.036161</td>\n",
       "      <td>0.075500</td>\n",
       "      <td>0.027404</td>\n",
       "      <td>0.082858</td>\n",
       "      <td>0.013550</td>\n",
       "      <td>-0.019634</td>\n",
       "      <td>...</td>\n",
       "      <td>0.677136</td>\n",
       "      <td>0.134127</td>\n",
       "      <td>0.332177</td>\n",
       "      <td>1.000000</td>\n",
       "      <td>0.311521</td>\n",
       "      <td>0.461504</td>\n",
       "      <td>0.334512</td>\n",
       "      <td>0.228456</td>\n",
       "      <td>1.000000</td>\n",
       "      <td>0.473901</td>\n",
       "    </tr>\n",
       "    <tr>\n",
       "      <th>log_author_popularity</th>\n",
       "      <td>-0.002234</td>\n",
       "      <td>0.031649</td>\n",
       "      <td>-0.109422</td>\n",
       "      <td>-0.011105</td>\n",
       "      <td>0.016074</td>\n",
       "      <td>-0.011365</td>\n",
       "      <td>0.115522</td>\n",
       "      <td>0.158810</td>\n",
       "      <td>-0.184548</td>\n",
       "      <td>-0.447618</td>\n",
       "      <td>...</td>\n",
       "      <td>0.272375</td>\n",
       "      <td>0.029398</td>\n",
       "      <td>0.411206</td>\n",
       "      <td>0.473902</td>\n",
       "      <td>0.193613</td>\n",
       "      <td>0.429625</td>\n",
       "      <td>0.411734</td>\n",
       "      <td>0.603788</td>\n",
       "      <td>0.473901</td>\n",
       "      <td>1.000000</td>\n",
       "    </tr>\n",
       "  </tbody>\n",
       "</table>\n",
       "<p>27 rows × 27 columns</p>\n",
       "</div>"
      ],
      "text/plain": [
       "                           index    rating    budget  opening_weekend_usa  \\\n",
       "index                   1.000000 -0.500822 -0.358683            -0.434366   \n",
       "rating                 -0.500822  1.000000  0.023923             0.053388   \n",
       "budget                 -0.358683  0.023923  1.000000             0.624763   \n",
       "opening_weekend_usa    -0.434366  0.053388  0.624763             1.000000   \n",
       "gross_usa              -0.551645  0.282861  0.560477             0.838640   \n",
       "gross_world            -0.540932  0.234868  0.659871             0.846679   \n",
       "runtime                -0.311140  0.334279  0.196036             0.142887   \n",
       "page                   -0.083602  0.043180  0.067559             0.126410   \n",
       "publish_year            0.053707 -0.038189 -0.057722             0.015840   \n",
       "release_year           -0.147703 -0.174547  0.278532             0.233311   \n",
       "release_month          -0.099561  0.057671  0.066490             0.003354   \n",
       "dow                     0.037235 -0.065742  0.010250             0.013068   \n",
       "film_count_d           -0.075657  0.100204  0.135506             0.053374   \n",
       "avg_rating_d           -0.185960  0.269444  0.149642             0.068752   \n",
       "avg_gross_d            -0.217694  0.086920  0.423419             0.280620   \n",
       "title_search           -0.093167  0.053970 -0.003832             0.244297   \n",
       "search_fiction_book    -0.198238  0.097157 -0.045034             0.036012   \n",
       "author_search          -0.044007  0.006805 -0.038852             0.048301   \n",
       "search_fiction_author  -0.214454  0.108155 -0.047739             0.009510   \n",
       "book_popularity        -0.029958  0.071661 -0.005430             0.052966   \n",
       "author_popularity      -0.054590 -0.028846 -0.033175             0.106362   \n",
       "log_book_search        -0.312233  0.083681  0.123458             0.230270   \n",
       "log_author_search      -0.233912 -0.010566  0.102806             0.213246   \n",
       "book_popularity_test   -0.032660  0.070186 -0.000830             0.059285   \n",
       "log_book_popularity    -0.039058  0.146091  0.007546             0.055683   \n",
       "author_popularity_test -0.054586 -0.028851 -0.033176             0.106360   \n",
       "log_author_popularity  -0.002234  0.031649 -0.109422            -0.011105   \n",
       "\n",
       "                        gross_usa  gross_world   runtime      page  \\\n",
       "index                   -0.551645    -0.540932 -0.311140 -0.083602   \n",
       "rating                   0.282861     0.234868  0.334279  0.043180   \n",
       "budget                   0.560477     0.659871  0.196036  0.067559   \n",
       "opening_weekend_usa      0.838640     0.846679  0.142887  0.126410   \n",
       "gross_usa                1.000000     0.935175  0.246334  0.117594   \n",
       "gross_world              0.935175     1.000000  0.253615  0.119465   \n",
       "runtime                  0.246334     0.253615  1.000000  0.274192   \n",
       "page                     0.117594     0.119465  0.274192  1.000000   \n",
       "publish_year            -0.047797    -0.030800  0.007373 -0.066636   \n",
       "release_year             0.025183     0.138007 -0.102181 -0.056274   \n",
       "release_month            0.056472     0.064740  0.067303 -0.046641   \n",
       "dow                     -0.118922    -0.093549 -0.095624 -0.045677   \n",
       "film_count_d             0.094553     0.132619  0.168372  0.084528   \n",
       "avg_rating_d             0.102945     0.096303  0.270059  0.001391   \n",
       "avg_gross_d              0.312702     0.336864  0.120558  0.012992   \n",
       "title_search             0.180185     0.140098  0.034389  0.189525   \n",
       "search_fiction_book      0.049336     0.049966  0.054232  0.122643   \n",
       "author_search           -0.000783     0.027979 -0.036218  0.080310   \n",
       "search_fiction_author    0.032521     0.046062 -0.030183  0.020895   \n",
       "book_popularity          0.061272     0.036880  0.020261  0.103678   \n",
       "author_popularity        0.036164     0.075504  0.027407  0.082863   \n",
       "log_book_search          0.147725     0.194063  0.008271  0.118917   \n",
       "log_author_search        0.099596     0.169375 -0.014548  0.108527   \n",
       "book_popularity_test     0.065406     0.043641  0.025347  0.104632   \n",
       "log_book_popularity      0.112546     0.072472  0.087472  0.125037   \n",
       "author_popularity_test   0.036161     0.075500  0.027404  0.082858   \n",
       "log_author_popularity    0.016074    -0.011365  0.115522  0.158810   \n",
       "\n",
       "                        publish_year  release_year  ...  author_search  \\\n",
       "index                       0.053707     -0.147703  ...      -0.044007   \n",
       "rating                     -0.038189     -0.174547  ...       0.006805   \n",
       "budget                     -0.057722      0.278532  ...      -0.038852   \n",
       "opening_weekend_usa         0.015840      0.233311  ...       0.048301   \n",
       "gross_usa                  -0.047797      0.025183  ...      -0.000783   \n",
       "gross_world                -0.030800      0.138007  ...       0.027979   \n",
       "runtime                     0.007373     -0.102181  ...      -0.036218   \n",
       "page                       -0.066636     -0.056274  ...       0.080310   \n",
       "publish_year                1.000000      0.250566  ...      -0.023830   \n",
       "release_year                0.250566      1.000000  ...      -0.103776   \n",
       "release_month              -0.046579     -0.018653  ...      -0.019489   \n",
       "dow                         0.004196      0.037985  ...       0.123743   \n",
       "film_count_d               -0.016360     -0.121451  ...       0.047868   \n",
       "avg_rating_d               -0.017414     -0.008475  ...       0.032788   \n",
       "avg_gross_d                -0.006858      0.106607  ...      -0.024578   \n",
       "title_search               -0.021764      0.007622  ...       0.204090   \n",
       "search_fiction_book        -0.018367     -0.077208  ...       0.274336   \n",
       "author_search              -0.023830     -0.103776  ...       1.000000   \n",
       "search_fiction_author      -0.034094     -0.101899  ...       0.395039   \n",
       "book_popularity            -0.060059     -0.114305  ...       0.144067   \n",
       "author_popularity           0.013548     -0.019632  ...       0.677137   \n",
       "log_book_search             0.006531      0.276985  ...       0.362954   \n",
       "log_author_search           0.002759      0.262247  ...       0.424692   \n",
       "book_popularity_test       -0.058661     -0.111635  ...       0.143068   \n",
       "log_book_popularity        -0.197883     -0.384410  ...       0.109661   \n",
       "author_popularity_test      0.013550     -0.019634  ...       0.677136   \n",
       "log_author_popularity      -0.184548     -0.447618  ...       0.272375   \n",
       "\n",
       "                        search_fiction_author  book_popularity  \\\n",
       "index                               -0.214454        -0.029958   \n",
       "rating                               0.108155         0.071661   \n",
       "budget                              -0.047739        -0.005430   \n",
       "opening_weekend_usa                  0.009510         0.052966   \n",
       "gross_usa                            0.032521         0.061272   \n",
       "gross_world                          0.046062         0.036880   \n",
       "runtime                             -0.030183         0.020261   \n",
       "page                                 0.020895         0.103678   \n",
       "publish_year                        -0.034094        -0.060059   \n",
       "release_year                        -0.101899        -0.114305   \n",
       "release_month                       -0.039093         0.058011   \n",
       "dow                                 -0.035999         0.052392   \n",
       "film_count_d                         0.083052        -0.022135   \n",
       "avg_rating_d                         0.062396         0.053276   \n",
       "avg_gross_d                          0.041936         0.014045   \n",
       "title_search                         0.184077         0.360925   \n",
       "search_fiction_book                  0.766415         0.002871   \n",
       "author_search                        0.395039         0.144067   \n",
       "search_fiction_author                1.000000        -0.042907   \n",
       "book_popularity                     -0.042907         1.000000   \n",
       "author_popularity                    0.134124         0.332178   \n",
       "log_book_search                      0.678222         0.337233   \n",
       "log_author_search                    0.615836         0.219167   \n",
       "book_popularity_test                -0.043152         0.999921   \n",
       "log_book_popularity                 -0.167314         0.616255   \n",
       "author_popularity_test               0.134127         0.332177   \n",
       "log_author_popularity                0.029398         0.411206   \n",
       "\n",
       "                        author_popularity  log_book_search  log_author_search  \\\n",
       "index                           -0.054590        -0.312233          -0.233912   \n",
       "rating                          -0.028846         0.083681          -0.010566   \n",
       "budget                          -0.033175         0.123458           0.102806   \n",
       "opening_weekend_usa              0.106362         0.230270           0.213246   \n",
       "gross_usa                        0.036164         0.147725           0.099596   \n",
       "gross_world                      0.075504         0.194063           0.169375   \n",
       "runtime                          0.027407         0.008271          -0.014548   \n",
       "page                             0.082863         0.118917           0.108527   \n",
       "publish_year                     0.013548         0.006531           0.002759   \n",
       "release_year                    -0.019632         0.276985           0.262247   \n",
       "release_month                   -0.039059        -0.056475          -0.058485   \n",
       "dow                              0.085488        -0.026498          -0.024225   \n",
       "film_count_d                     0.040461         0.038866           0.048154   \n",
       "avg_rating_d                     0.050929         0.075988           0.063819   \n",
       "avg_gross_d                     -0.058176         0.087729           0.060767   \n",
       "title_search                     0.139244         0.315629           0.226636   \n",
       "search_fiction_book              0.093445         0.541743           0.470960   \n",
       "author_search                    0.677137         0.362954           0.424692   \n",
       "search_fiction_author            0.134124         0.678222           0.615836   \n",
       "book_popularity                  0.332178         0.337233           0.219167   \n",
       "author_popularity                1.000000         0.311521           0.461503   \n",
       "log_book_search                  0.311521         1.000000           0.853778   \n",
       "log_author_search                0.461503         0.853778           1.000000   \n",
       "book_popularity_test             0.334514         0.338746           0.222751   \n",
       "log_book_popularity              0.228459         0.252206           0.172451   \n",
       "author_popularity_test           1.000000         0.311521           0.461504   \n",
       "log_author_popularity            0.473902         0.193613           0.429625   \n",
       "\n",
       "                        book_popularity_test  log_book_popularity  \\\n",
       "index                              -0.032660            -0.039058   \n",
       "rating                              0.070186             0.146091   \n",
       "budget                             -0.000830             0.007546   \n",
       "opening_weekend_usa                 0.059285             0.055683   \n",
       "gross_usa                           0.065406             0.112546   \n",
       "gross_world                         0.043641             0.072472   \n",
       "runtime                             0.025347             0.087472   \n",
       "page                                0.104632             0.125037   \n",
       "publish_year                       -0.058661            -0.197883   \n",
       "release_year                       -0.111635            -0.384410   \n",
       "release_month                       0.056558             0.010333   \n",
       "dow                                 0.053728             0.008810   \n",
       "film_count_d                       -0.018902             0.057811   \n",
       "avg_rating_d                        0.052081             0.064403   \n",
       "avg_gross_d                         0.016991            -0.001585   \n",
       "title_search                        0.359920             0.153275   \n",
       "search_fiction_book                 0.002435            -0.199618   \n",
       "author_search                       0.143068             0.109661   \n",
       "search_fiction_author              -0.043152            -0.167314   \n",
       "book_popularity                     0.999921             0.616255   \n",
       "author_popularity                   0.334514             0.228459   \n",
       "log_book_search                     0.338746             0.252206   \n",
       "log_author_search                   0.222751             0.172451   \n",
       "book_popularity_test                1.000000             0.615423   \n",
       "log_book_popularity                 0.615423             1.000000   \n",
       "author_popularity_test              0.334512             0.228456   \n",
       "log_author_popularity               0.411734             0.603788   \n",
       "\n",
       "                        author_popularity_test  log_author_popularity  \n",
       "index                                -0.054586              -0.002234  \n",
       "rating                               -0.028851               0.031649  \n",
       "budget                               -0.033176              -0.109422  \n",
       "opening_weekend_usa                   0.106360              -0.011105  \n",
       "gross_usa                             0.036161               0.016074  \n",
       "gross_world                           0.075500              -0.011365  \n",
       "runtime                               0.027404               0.115522  \n",
       "page                                  0.082858               0.158810  \n",
       "publish_year                          0.013550              -0.184548  \n",
       "release_year                         -0.019634              -0.447618  \n",
       "release_month                        -0.039063              -0.000800  \n",
       "dow                                   0.085485               0.009229  \n",
       "film_count_d                          0.040462               0.089472  \n",
       "avg_rating_d                          0.050928               0.042399  \n",
       "avg_gross_d                          -0.058179              -0.067455  \n",
       "title_search                          0.139241               0.132582  \n",
       "search_fiction_book                   0.093446               0.067267  \n",
       "author_search                         0.677136               0.272375  \n",
       "search_fiction_author                 0.134127               0.029398  \n",
       "book_popularity                       0.332177               0.411206  \n",
       "author_popularity                     1.000000               0.473902  \n",
       "log_book_search                       0.311521               0.193613  \n",
       "log_author_search                     0.461504               0.429625  \n",
       "book_popularity_test                  0.334512               0.411734  \n",
       "log_book_popularity                   0.228456               0.603788  \n",
       "author_popularity_test                1.000000               0.473901  \n",
       "log_author_popularity                 0.473901               1.000000  \n",
       "\n",
       "[27 rows x 27 columns]"
      ]
     },
     "execution_count": 54,
     "metadata": {},
     "output_type": "execute_result"
    }
   ],
   "source": [
    "all_df.corr()"
   ]
  },
  {
   "cell_type": "code",
   "execution_count": 55,
   "metadata": {},
   "outputs": [
    {
     "data": {
      "image/png": "[encoded data removed]",
      "text/plain": [
       "<Figure size 432x288 with 2 Axes>"
      ]
     },
     "metadata": {
      "needs_background": "light"
     },
     "output_type": "display_data"
    }
   ],
   "source": [
    "# sns.heatmap(all_df.corr(), cmap=\"seismic\", annot=True, vmin=-1, vmax=1);\n",
    "sns.heatmap(all_df.corr(), cmap=\"seismic\", vmin=-0.8, vmax=1);"
   ]
  },
  {
   "cell_type": "code",
   "execution_count": 56,
   "metadata": {},
   "outputs": [],
   "source": [
    "continuous_variables = ['opening_weekend_usa', 'gross_usa', 'gross_world','rating', \\\n",
    "                        'budget','runtime','release_year', 'release_month','dow',\\\n",
    "                        'film_count_d', 'avg_rating_d', 'avg_gross_d', \\\n",
    "        'page', 'publish_year','log_book_search','title_search','search_fiction_book', \\\n",
    "        'log_author_search','author_search', 'search_fiction_author',\\\n",
    "       'book_popularity', 'author_popularity']\n",
    "all_df_select = all_df[continuous_variables]"
   ]
  },
  {
   "cell_type": "code",
   "execution_count": 57,
   "metadata": {},
   "outputs": [],
   "source": [
    "# sns.pairplot(all_df_select)"
   ]
  },
  {
   "cell_type": "code",
   "execution_count": null,
   "metadata": {},
   "outputs": [],
   "source": []
  },
  {
   "cell_type": "markdown",
   "metadata": {},
   "source": [
    "## 4. Clean each column\n",
    "Clean the format and convert data type if necessarry for later steps."
   ]
  },
  {
   "cell_type": "markdown",
   "metadata": {},
   "source": [
    "### (1) Target variable\n",
    "### (i) opening_weekend_usa"
   ]
  },
  {
   "cell_type": "code",
   "execution_count": 58,
   "metadata": {},
   "outputs": [
    {
     "data": {
      "text/plain": [
       "<AxesSubplot:>"
      ]
     },
     "execution_count": 58,
     "metadata": {},
     "output_type": "execute_result"
    },
    {
     "data": {
      "image/png": "[encoded data removed]",
      "text/plain": [
       "<Figure size 432x288 with 1 Axes>"
      ]
     },
     "metadata": {
      "needs_background": "light"
     },
     "output_type": "display_data"
    }
   ],
   "source": [
    "# Examine the distribution. Pretty skewed.\n",
    "all_df['opening_weekend_usa'].hist(bins=20)"
   ]
  },
  {
   "cell_type": "code",
   "execution_count": 59,
   "metadata": {},
   "outputs": [
    {
     "data": {
      "text/plain": [
       "<AxesSubplot:>"
      ]
     },
     "execution_count": 59,
     "metadata": {},
     "output_type": "execute_result"
    },
    {
     "data": {
      "image/png": "[encoded data removed]",
      "text/plain": [
       "<Figure size 432x288 with 1 Axes>"
      ]
     },
     "metadata": {
      "needs_background": "light"
     },
     "output_type": "display_data"
    }
   ],
   "source": [
    "# Try log. Slightly better. Still not very normal\n",
    "np.log(all_df['opening_weekend_usa']).hist(bins=20)"
   ]
  },
  {
   "cell_type": "code",
   "execution_count": 60,
   "metadata": {},
   "outputs": [
    {
     "data": {
      "image/png": "[encoded data removed]",
      "text/plain": [
       "<Figure size 432x288 with 1 Axes>"
      ]
     },
     "metadata": {
      "needs_background": "light"
     },
     "output_type": "display_data"
    },
    {
     "data": {
      "image/png": "[encoded data removed]",
      "text/plain": [
       "<Figure size 432x288 with 1 Axes>"
      ]
     },
     "metadata": {
      "needs_background": "light"
     },
     "output_type": "display_data"
    }
   ],
   "source": [
    "# demonstration of the power transform on data with a skew\n",
    "from numpy import exp\n",
    "from numpy.random import randn\n",
    "from sklearn.preprocessing import PowerTransformer\n",
    "from matplotlib import pyplot as plt\n",
    "# generate gaussian data sample\n",
    "data = randn(1000)\n",
    "# add a skew to the data distribution\n",
    "data = exp(data)\n",
    "# histogram of the raw data with a skew\n",
    "plt.hist(data, bins=25)\n",
    "plt.show()\n",
    "# reshape data to have rows and columns\n",
    "data = data.reshape((len(data),1))\n",
    "# power transform the raw data\n",
    "power = PowerTransformer(method='yeo-johnson', standardize=True)\n",
    "data_trans = power.fit_transform(data)\n",
    "# histogram of the transformed data\n",
    "plt.hist(data_trans, bins=25)\n",
    "plt.show()"
   ]
  },
  {
   "cell_type": "code",
   "execution_count": 61,
   "metadata": {},
   "outputs": [
    {
     "data": {
      "image/png": "[encoded data removed]",
      "text/plain": [
       "<Figure size 432x288 with 1 Axes>"
      ]
     },
     "metadata": {
      "needs_background": "light"
     },
     "output_type": "display_data"
    }
   ],
   "source": [
    "# Explore power transform\n",
    "data = all_df[['opening_weekend_usa']]\n",
    "power = PowerTransformer(method='yeo-johnson', standardize=True)\n",
    "data_trans = power.fit_transform(data)\n",
    "plt.hist(data_trans, bins=25)\n",
    "plt.show()"
   ]
  },
  {
   "cell_type": "code",
   "execution_count": 62,
   "metadata": {},
   "outputs": [
    {
     "data": {
      "image/png": "[encoded data removed]",
      "text/plain": [
       "<Figure size 432x288 with 1 Axes>"
      ]
     },
     "metadata": {
      "needs_background": "light"
     },
     "output_type": "display_data"
    }
   ],
   "source": [
    "# Explore power transform (box-cox)\n",
    "data = all_df[['opening_weekend_usa']]\n",
    "power = PowerTransformer(method='box-cox', standardize=True)\n",
    "data_trans = power.fit_transform(data)\n",
    "plt.hist(data_trans, bins=25)\n",
    "plt.show()"
   ]
  },
  {
   "cell_type": "code",
   "execution_count": 63,
   "metadata": {},
   "outputs": [],
   "source": [
    "# Seems like both log and power transform are similarr\n",
    "all_df['log_owu'] = np.log(all_df['opening_weekend_usa'])\n",
    "\n",
    "data = all_df[['opening_weekend_usa']]\n",
    "power = PowerTransformer(method='box-cox', standardize=True)\n",
    "data_trans = power.fit_transform(data)\n",
    "all_df['log_owu'] = data_trans.reshape(len(data),)"
   ]
  },
  {
   "cell_type": "code",
   "execution_count": 64,
   "metadata": {},
   "outputs": [
    {
     "data": {
      "text/plain": [
       "(581, 39)"
      ]
     },
     "execution_count": 64,
     "metadata": {},
     "output_type": "execute_result"
    }
   ],
   "source": [
    "all_df.shape"
   ]
  },
  {
   "cell_type": "code",
   "execution_count": null,
   "metadata": {},
   "outputs": [],
   "source": []
  },
  {
   "cell_type": "markdown",
   "metadata": {},
   "source": [
    "### (ii) IMDb rating"
   ]
  },
  {
   "cell_type": "code",
   "execution_count": 65,
   "metadata": {},
   "outputs": [
    {
     "data": {
      "text/plain": [
       "<AxesSubplot:>"
      ]
     },
     "execution_count": 65,
     "metadata": {},
     "output_type": "execute_result"
    },
    {
     "data": {
      "image/png": "[encoded data removed]",
      "text/plain": [
       "<Figure size 432x288 with 1 Axes>"
      ]
     },
     "metadata": {
      "needs_background": "light"
     },
     "output_type": "display_data"
    }
   ],
   "source": [
    "# Distribution looks ok. Will keep it as it is for now.\n",
    "all_df['rating'].hist(bins=20)"
   ]
  },
  {
   "cell_type": "code",
   "execution_count": null,
   "metadata": {},
   "outputs": [],
   "source": []
  },
  {
   "cell_type": "markdown",
   "metadata": {},
   "source": [
    "### (2) Independent variables (predictors)\n",
    "### (a) Continuous variables"
   ]
  },
  {
   "cell_type": "markdown",
   "metadata": {},
   "source": [
    "#### 1. time"
   ]
  },
  {
   "cell_type": "code",
   "execution_count": 66,
   "metadata": {},
   "outputs": [
    {
     "data": {
      "text/plain": [
       "<AxesSubplot:>"
      ]
     },
     "execution_count": 66,
     "metadata": {},
     "output_type": "execute_result"
    },
    {
     "data": {
      "image/png": "[encoded data removed]",
      "text/plain": [
       "<Figure size 432x288 with 1 Axes>"
      ]
     },
     "metadata": {
      "needs_background": "light"
     },
     "output_type": "display_data"
    }
   ],
   "source": [
    "# Movie release year\n",
    "all_df['release_year'].hist(bins=20)"
   ]
  },
  {
   "cell_type": "code",
   "execution_count": 67,
   "metadata": {},
   "outputs": [
    {
     "data": {
      "text/plain": [
       "<AxesSubplot:>"
      ]
     },
     "execution_count": 67,
     "metadata": {},
     "output_type": "execute_result"
    },
    {
     "data": {
      "image/png": "[encoded data removed]",
      "text/plain": [
       "<Figure size 432x288 with 1 Axes>"
      ]
     },
     "metadata": {
      "needs_background": "light"
     },
     "output_type": "display_data"
    }
   ],
   "source": [
    "# Convert to \"how old\" the movie is\n",
    "(2020-all_df['release_year']).hist(bins=20)"
   ]
  },
  {
   "cell_type": "code",
   "execution_count": 68,
   "metadata": {},
   "outputs": [
    {
     "data": {
      "image/png": "[encoded data removed]",
      "text/plain": [
       "<Figure size 432x288 with 1 Axes>"
      ]
     },
     "metadata": {
      "needs_background": "light"
     },
     "output_type": "display_data"
    }
   ],
   "source": [
    "# Try power transform\n",
    "data = (all_df[['release_year']].apply(lambda x: 2021 - x))\n",
    "power = PowerTransformer(method='box-cox', standardize=True)\n",
    "data_trans = power.fit_transform(data)\n",
    "plt.hist(data_trans, bins=25)\n",
    "plt.show()\n",
    "# Create a new column in case needed in the futurre\n",
    "all_df['T_movie_age'] = data_trans.reshape(len(data),)"
   ]
  },
  {
   "cell_type": "code",
   "execution_count": 69,
   "metadata": {},
   "outputs": [
    {
     "data": {
      "text/plain": [
       "<AxesSubplot:>"
      ]
     },
     "execution_count": 69,
     "metadata": {},
     "output_type": "execute_result"
    },
    {
     "data": {
      "image/png": "[encoded data removed]",
      "text/plain": [
       "<Figure size 432x288 with 1 Axes>"
      ]
     },
     "metadata": {
      "needs_background": "light"
     },
     "output_type": "display_data"
    }
   ],
   "source": [
    "# Also check for book first published year\n",
    "(2020-all_df['publish_year']).hist(bins=20)"
   ]
  },
  {
   "cell_type": "code",
   "execution_count": 70,
   "metadata": {},
   "outputs": [
    {
     "data": {
      "image/png": "[encoded data removed]",
      "text/plain": [
       "<Figure size 432x288 with 1 Axes>"
      ]
     },
     "metadata": {
      "needs_background": "light"
     },
     "output_type": "display_data"
    }
   ],
   "source": [
    "# Try power transform\n",
    "data = (all_df[['publish_year']].apply(lambda x: 2021 - x))\n",
    "power = PowerTransformer(method='box-cox', standardize=True)\n",
    "data_trans = power.fit_transform(data)\n",
    "plt.hist(data_trans, bins=25)\n",
    "plt.show()\n",
    "# Create a new column in case needed in the futurre\n",
    "all_df['T_book_age'] = data_trans.reshape(len(data),)"
   ]
  },
  {
   "cell_type": "code",
   "execution_count": null,
   "metadata": {},
   "outputs": [],
   "source": []
  },
  {
   "cell_type": "markdown",
   "metadata": {},
   "source": [
    "### (b) Categorical variables - single label"
   ]
  },
  {
   "cell_type": "markdown",
   "metadata": {},
   "source": [
    "### 1. MPAA rating"
   ]
  },
  {
   "cell_type": "code",
   "execution_count": 71,
   "metadata": {},
   "outputs": [
    {
     "data": {
      "text/plain": [
       "R           273\n",
       "PG-13       184\n",
       "PG          105\n",
       "G            13\n",
       "Passed        3\n",
       "Not           1\n",
       "M/PG          1\n",
       "Approved      1\n",
       "Name: MPAA, dtype: int64"
      ]
     },
     "execution_count": 71,
     "metadata": {},
     "output_type": "execute_result"
    }
   ],
   "source": [
    "# Find the distribution and keep only the top frequent categories\n",
    "all_df.MPAA.value_counts()"
   ]
  },
  {
   "cell_type": "code",
   "execution_count": 72,
   "metadata": {},
   "outputs": [],
   "source": [
    "# Keep only the top 3\n",
    "MPAA_discard = ['G','Passed','Not','X','M/PG','Approved','NC-17','Unrated']\n",
    "all_df.MPAA.replace(MPAA_discard,'Other',inplace=True)"
   ]
  },
  {
   "cell_type": "code",
   "execution_count": 73,
   "metadata": {},
   "outputs": [
    {
     "data": {
      "text/plain": [
       "R        273\n",
       "PG-13    184\n",
       "PG       105\n",
       "Other     19\n",
       "Name: MPAA, dtype: int64"
      ]
     },
     "execution_count": 73,
     "metadata": {},
     "output_type": "execute_result"
    }
   ],
   "source": [
    "all_df.MPAA.value_counts()"
   ]
  },
  {
   "cell_type": "code",
   "execution_count": null,
   "metadata": {},
   "outputs": [],
   "source": []
  },
  {
   "cell_type": "markdown",
   "metadata": {},
   "source": [
    "### 2. distributor"
   ]
  },
  {
   "cell_type": "code",
   "execution_count": 74,
   "metadata": {},
   "outputs": [
    {
     "data": {
      "text/plain": [
       "WarnerBros.            47\n",
       "ColumbiaPictures       35\n",
       "ParamountPictures      34\n",
       "UniversalPictures      30\n",
       "TwentiethCenturyFox    24\n",
       "Name: distributor, dtype: int64"
      ]
     },
     "execution_count": 74,
     "metadata": {},
     "output_type": "execute_result"
    }
   ],
   "source": [
    "all_df.distributor.value_counts().head(5)"
   ]
  },
  {
   "cell_type": "code",
   "execution_count": 75,
   "metadata": {},
   "outputs": [],
   "source": [
    "# Keep only the top 3\n",
    "distributor_keep = ['WarnerBros.','ParamountPictures','ColumbiaPictures','UniversalPictures',\\\n",
    "             'TwentiethCenturyFox','TwentiethCenturyFox']\n",
    "distributor_discard = list(set(all_df.distributor.unique()).difference(set(distributor_keep)))\n",
    "all_df.distributor.replace(distributor_discard,'Other',inplace=True)"
   ]
  },
  {
   "cell_type": "code",
   "execution_count": 76,
   "metadata": {},
   "outputs": [
    {
     "data": {
      "text/plain": [
       "Other                  411\n",
       "WarnerBros.             47\n",
       "ColumbiaPictures        35\n",
       "ParamountPictures       34\n",
       "UniversalPictures       30\n",
       "TwentiethCenturyFox     24\n",
       "Name: distributor, dtype: int64"
      ]
     },
     "execution_count": 76,
     "metadata": {},
     "output_type": "execute_result"
    }
   ],
   "source": [
    "all_df.distributor.value_counts()"
   ]
  },
  {
   "cell_type": "code",
   "execution_count": null,
   "metadata": {},
   "outputs": [],
   "source": []
  },
  {
   "cell_type": "markdown",
   "metadata": {},
   "source": [
    "### (b) Categorical variables - multi label"
   ]
  },
  {
   "cell_type": "markdown",
   "metadata": {},
   "source": [
    "### 1. genre\n",
    "Find the top frequent genres and convert the column from list to set in preparation for `MultiLabelBinarizer()`."
   ]
  },
  {
   "cell_type": "code",
   "execution_count": 77,
   "metadata": {},
   "outputs": [
    {
     "data": {
      "text/plain": [
       "[{'genre': 'Drama', 'count': 414},\n",
       " {'genre': 'Romance', 'count': 145},\n",
       " {'genre': 'Comedy', 'count': 142},\n",
       " {'genre': 'Adventure', 'count': 116},\n",
       " {'genre': 'Crime', 'count': 114},\n",
       " {'genre': 'Action', 'count': 107},\n",
       " {'genre': 'Thriller', 'count': 102},\n",
       " {'genre': 'Mystery', 'count': 79},\n",
       " {'genre': 'Family', 'count': 70},\n",
       " {'genre': 'Fantasy', 'count': 65},\n",
       " {'genre': 'Sci-Fi', 'count': 43},\n",
       " {'genre': 'Horror', 'count': 36},\n",
       " {'genre': 'Animation', 'count': 17},\n",
       " {'genre': 'War', 'count': 17},\n",
       " {'genre': 'History', 'count': 15},\n",
       " {'genre': 'Biography', 'count': 13},\n",
       " {'genre': 'Music', 'count': 8},\n",
       " {'genre': 'Western', 'count': 6},\n",
       " {'genre': 'Sport', 'count': 3},\n",
       " {'genre': 'Film-Noir', 'count': 1},\n",
       " {'genre': 'Musical', 'count': 1}]"
      ]
     },
     "execution_count": 77,
     "metadata": {},
     "output_type": "execute_result"
    }
   ],
   "source": [
    "# Find the top 10 genre\n",
    "genre_all = []\n",
    "for row in all_df.genre:\n",
    "    genre_all += row\n",
    "genre_count = []\n",
    "for genre in set(genre_all):\n",
    "    genre_count.append({'genre':genre,'count':genre_all.count(genre)})\n",
    "sorted(genre_count, key = lambda i: i['count'],reverse=True)"
   ]
  },
  {
   "cell_type": "code",
   "execution_count": 78,
   "metadata": {},
   "outputs": [
    {
     "data": {
      "text/html": [
       "<div>\n",
       "<style scoped>\n",
       "    .dataframe tbody tr th:only-of-type {\n",
       "        vertical-align: middle;\n",
       "    }\n",
       "\n",
       "    .dataframe tbody tr th {\n",
       "        vertical-align: top;\n",
       "    }\n",
       "\n",
       "    .dataframe thead th {\n",
       "        text-align: right;\n",
       "    }\n",
       "</style>\n",
       "<table border=\"1\" class=\"dataframe\">\n",
       "  <thead>\n",
       "    <tr style=\"text-align: right;\">\n",
       "      <th></th>\n",
       "      <th>genre</th>\n",
       "    </tr>\n",
       "  </thead>\n",
       "  <tbody>\n",
       "    <tr>\n",
       "      <th>0</th>\n",
       "      <td>{Crime, Drama}</td>\n",
       "    </tr>\n",
       "    <tr>\n",
       "      <th>1</th>\n",
       "      <td>{Adventure, Fantasy, Family}</td>\n",
       "    </tr>\n",
       "    <tr>\n",
       "      <th>3</th>\n",
       "      <td>{Romance, Drama}</td>\n",
       "    </tr>\n",
       "    <tr>\n",
       "      <th>7</th>\n",
       "      <td>{Family, Romance, Drama}</td>\n",
       "    </tr>\n",
       "    <tr>\n",
       "      <th>11</th>\n",
       "      <td>{Adventure, Action, Other}</td>\n",
       "    </tr>\n",
       "    <tr>\n",
       "      <th>...</th>\n",
       "      <td>...</td>\n",
       "    </tr>\n",
       "    <tr>\n",
       "      <th>825</th>\n",
       "      <td>{Action, Crime, Drama}</td>\n",
       "    </tr>\n",
       "    <tr>\n",
       "      <th>826</th>\n",
       "      <td>{Drama, Other}</td>\n",
       "    </tr>\n",
       "    <tr>\n",
       "      <th>827</th>\n",
       "      <td>{Romance, Drama}</td>\n",
       "    </tr>\n",
       "    <tr>\n",
       "      <th>828</th>\n",
       "      <td>{Romance, Drama}</td>\n",
       "    </tr>\n",
       "    <tr>\n",
       "      <th>829</th>\n",
       "      <td>{Comedy}</td>\n",
       "    </tr>\n",
       "  </tbody>\n",
       "</table>\n",
       "<p>581 rows × 1 columns</p>\n",
       "</div>"
      ],
      "text/plain": [
       "                            genre\n",
       "0                  {Crime, Drama}\n",
       "1    {Adventure, Fantasy, Family}\n",
       "3                {Romance, Drama}\n",
       "7        {Family, Romance, Drama}\n",
       "11     {Adventure, Action, Other}\n",
       "..                            ...\n",
       "825        {Action, Crime, Drama}\n",
       "826                {Drama, Other}\n",
       "827              {Romance, Drama}\n",
       "828              {Romance, Drama}\n",
       "829                      {Comedy}\n",
       "\n",
       "[581 rows x 1 columns]"
      ]
     },
     "execution_count": 78,
     "metadata": {},
     "output_type": "execute_result"
    }
   ],
   "source": [
    "# Keep only the top 10 genre\n",
    "genre_list = ['Drama','Adventure','Comedy','Action','Crime','Romance','Thriller',\\\n",
    "              'Mystery','Family','Fantasy']\n",
    "# The rest will go to \"Other\"\n",
    "all_df['genre']= all_df.genre.apply(lambda x:\\\n",
    "                            [genre if genre in genre_list else 'Other'for genre in x])\n",
    "# Convert genre column from list to set\n",
    "all_df['genre'] = all_df.genre.apply(lambda x: set(x))\n",
    "all_df[['genre']]"
   ]
  },
  {
   "cell_type": "code",
   "execution_count": null,
   "metadata": {},
   "outputs": [],
   "source": []
  },
  {
   "cell_type": "markdown",
   "metadata": {},
   "source": [
    "### 2. language"
   ]
  },
  {
   "cell_type": "code",
   "execution_count": 79,
   "metadata": {
    "scrolled": true
   },
   "outputs": [
    {
     "data": {
      "text/plain": [
       "[{'language': 'English', 'count': 581},\n",
       " {'language': 'French', 'count': 63},\n",
       " {'language': 'Spanish', 'count': 45},\n",
       " {'language': 'German', 'count': 43},\n",
       " {'language': 'Russian', 'count': 34},\n",
       " {'language': 'Italian', 'count': 28},\n",
       " {'language': 'Arabic', 'count': 13},\n",
       " {'language': 'Mandarin', 'count': 12},\n",
       " {'language': 'Latin', 'count': 11},\n",
       " {'language': 'Japanese', 'count': 11},\n",
       " {'language': 'Portuguese', 'count': 6},\n",
       " {'language': 'Ukrainian', 'count': 5},\n",
       " {'language': 'Polish', 'count': 5},\n",
       " {'language': 'Greek', 'count': 5},\n",
       " {'language': 'Hindi', 'count': 5},\n",
       " {'language': 'Hebrew', 'count': 5},\n",
       " {'language': 'Danish', 'count': 4},\n",
       " {'language': 'Turkish', 'count': 4},\n",
       " {'language': 'Cantonese', 'count': 4},\n",
       " {'language': 'Dutch', 'count': 3},\n",
       " {'language': 'Swedish', 'count': 3},\n",
       " {'language': 'Chinese', 'count': 3},\n",
       " {'language': 'NorthAmericanIndian', 'count': 2},\n",
       " {'language': 'Urdu', 'count': 2},\n",
       " {'language': 'Indonesian', 'count': 2},\n",
       " {'language': 'Persian', 'count': 2},\n",
       " {'language': 'Armenian', 'count': 2},\n",
       " {'language': 'Icelandic', 'count': 2},\n",
       " {'language': 'Pawnee', 'count': 2},\n",
       " {'language': 'Romanian', 'count': 2},\n",
       " {'language': 'AmericanSignLanguage', 'count': 2},\n",
       " {'language': 'Yiddish', 'count': 2},\n",
       " {'language': 'Thai', 'count': 2},\n",
       " {'language': 'Serbian', 'count': 2},\n",
       " {'language': 'Afrikaans', 'count': 1},\n",
       " {'language': 'Sindarin', 'count': 1},\n",
       " {'language': 'Akan', 'count': 1},\n",
       " {'language': 'Norse,Old', 'count': 1},\n",
       " {'language': 'Tagalog', 'count': 1},\n",
       " {'language': 'Yoruba', 'count': 1},\n",
       " {'language': 'Filipino', 'count': 1},\n",
       " {'language': 'Swahili', 'count': 1},\n",
       " {'language': 'Aboriginal', 'count': 1},\n",
       " {'language': 'SwissGerman', 'count': 1},\n",
       " {'language': 'Kurdish', 'count': 1},\n",
       " {'language': 'Pushto', 'count': 1},\n",
       " {'language': 'TokPisin', 'count': 1},\n",
       " {'language': 'Scots', 'count': 1},\n",
       " {'language': 'Zulu', 'count': 1},\n",
       " {'language': 'Sanskrit', 'count': 1},\n",
       " {'language': 'Vietnamese', 'count': 1},\n",
       " {'language': 'Tamil', 'count': 1},\n",
       " {'language': 'Apachelanguages', 'count': 1},\n",
       " {'language': 'Dari', 'count': 1},\n",
       " {'language': 'Irish', 'count': 1},\n",
       " {'language': 'Korean', 'count': 1},\n",
       " {'language': 'Bengali', 'count': 1},\n",
       " {'language': 'Cornish', 'count': 1},\n",
       " {'language': 'Khmer', 'count': 1},\n",
       " {'language': 'Sioux', 'count': 1},\n",
       " {'language': 'Shanghainese', 'count': 1}]"
      ]
     },
     "execution_count": 79,
     "metadata": {},
     "output_type": "execute_result"
    }
   ],
   "source": [
    "# Find the top 10 language\n",
    "language_all = []\n",
    "for row in all_df.language:\n",
    "    language_all += row\n",
    "language_count = []\n",
    "for language in set(language_all):\n",
    "    language_count.append({'language':language,'count':language_all.count(language)})\n",
    "sorted(language_count, key = lambda i: i['count'],reverse=True)"
   ]
  },
  {
   "cell_type": "code",
   "execution_count": 80,
   "metadata": {},
   "outputs": [
    {
     "data": {
      "text/html": [
       "<div>\n",
       "<style scoped>\n",
       "    .dataframe tbody tr th:only-of-type {\n",
       "        vertical-align: middle;\n",
       "    }\n",
       "\n",
       "    .dataframe tbody tr th {\n",
       "        vertical-align: top;\n",
       "    }\n",
       "\n",
       "    .dataframe thead th {\n",
       "        text-align: right;\n",
       "    }\n",
       "</style>\n",
       "<table border=\"1\" class=\"dataframe\">\n",
       "  <thead>\n",
       "    <tr style=\"text-align: right;\">\n",
       "      <th></th>\n",
       "      <th>language</th>\n",
       "    </tr>\n",
       "  </thead>\n",
       "  <tbody>\n",
       "    <tr>\n",
       "      <th>0</th>\n",
       "      <td>{Italian, English, Other}</td>\n",
       "    </tr>\n",
       "    <tr>\n",
       "      <th>1</th>\n",
       "      <td>{English}</td>\n",
       "    </tr>\n",
       "    <tr>\n",
       "      <th>3</th>\n",
       "      <td>{French, English}</td>\n",
       "    </tr>\n",
       "    <tr>\n",
       "      <th>7</th>\n",
       "      <td>{French, German, English}</td>\n",
       "    </tr>\n",
       "    <tr>\n",
       "      <th>11</th>\n",
       "      <td>{English}</td>\n",
       "    </tr>\n",
       "    <tr>\n",
       "      <th>...</th>\n",
       "      <td>...</td>\n",
       "    </tr>\n",
       "    <tr>\n",
       "      <th>825</th>\n",
       "      <td>{English}</td>\n",
       "    </tr>\n",
       "    <tr>\n",
       "      <th>826</th>\n",
       "      <td>{English}</td>\n",
       "    </tr>\n",
       "    <tr>\n",
       "      <th>827</th>\n",
       "      <td>{English}</td>\n",
       "    </tr>\n",
       "    <tr>\n",
       "      <th>828</th>\n",
       "      <td>{English}</td>\n",
       "    </tr>\n",
       "    <tr>\n",
       "      <th>829</th>\n",
       "      <td>{English}</td>\n",
       "    </tr>\n",
       "  </tbody>\n",
       "</table>\n",
       "<p>581 rows × 1 columns</p>\n",
       "</div>"
      ],
      "text/plain": [
       "                      language\n",
       "0    {Italian, English, Other}\n",
       "1                    {English}\n",
       "3            {French, English}\n",
       "7    {French, German, English}\n",
       "11                   {English}\n",
       "..                         ...\n",
       "825                  {English}\n",
       "826                  {English}\n",
       "827                  {English}\n",
       "828                  {English}\n",
       "829                  {English}\n",
       "\n",
       "[581 rows x 1 columns]"
      ]
     },
     "execution_count": 80,
     "metadata": {},
     "output_type": "execute_result"
    }
   ],
   "source": [
    "# Keep only the top 6 language\n",
    "language_list = ['English','French','German','Spanish','Russian','Italian']\n",
    "# The rest will go to \"Other\"\n",
    "all_df['language']= all_df.language.apply(lambda x:\\\n",
    "                            [language if language in language_list else 'Other' for language in x])\n",
    "# Convert genre column from list to set\n",
    "all_df['language'] = all_df.language.apply(lambda x: set(x))\n",
    "all_df[['language']]"
   ]
  },
  {
   "cell_type": "code",
   "execution_count": null,
   "metadata": {},
   "outputs": [],
   "source": []
  },
  {
   "cell_type": "code",
   "execution_count": null,
   "metadata": {},
   "outputs": [],
   "source": []
  },
  {
   "cell_type": "markdown",
   "metadata": {},
   "source": [
    "### 3. country"
   ]
  },
  {
   "cell_type": "code",
   "execution_count": 81,
   "metadata": {
    "scrolled": true
   },
   "outputs": [
    {
     "data": {
      "text/plain": [
       "[{'country': 'USA', 'count': 581},\n",
       " {'country': 'UK', 'count': 150},\n",
       " {'country': 'Germany', 'count': 55},\n",
       " {'country': 'France', 'count': 48},\n",
       " {'country': 'Canada', 'count': 47},\n",
       " {'country': 'Australia', 'count': 15},\n",
       " {'country': 'India', 'count': 14},\n",
       " {'country': 'Italy', 'count': 13},\n",
       " {'country': 'China', 'count': 12},\n",
       " {'country': 'Japan', 'count': 10},\n",
       " {'country': 'Mexico', 'count': 8},\n",
       " {'country': 'Sweden', 'count': 8},\n",
       " {'country': 'Ireland', 'count': 8},\n",
       " {'country': 'NewZealand', 'count': 6},\n",
       " {'country': 'CzechRepublic', 'count': 6},\n",
       " {'country': 'Spain', 'count': 5},\n",
       " {'country': 'Switzerland', 'count': 5},\n",
       " {'country': 'Hungary', 'count': 5},\n",
       " {'country': 'Belgium', 'count': 4},\n",
       " {'country': 'HongKong', 'count': 4},\n",
       " {'country': 'UnitedArabEmirates', 'count': 4},\n",
       " {'country': 'Romania', 'count': 3},\n",
       " {'country': 'Netherlands', 'count': 2},\n",
       " {'country': 'Norway', 'count': 2},\n",
       " {'country': 'Malta', 'count': 2},\n",
       " {'country': 'Russia', 'count': 2},\n",
       " {'country': 'Taiwan', 'count': 2},\n",
       " {'country': 'Brazil', 'count': 2},\n",
       " {'country': 'Denmark', 'count': 2},\n",
       " {'country': 'Israel', 'count': 2},\n",
       " {'country': 'Austria', 'count': 1},\n",
       " {'country': 'Bahamas', 'count': 1},\n",
       " {'country': 'Kenya', 'count': 1},\n",
       " {'country': 'SouthKorea', 'count': 1},\n",
       " {'country': 'SouthAfrica', 'count': 1},\n",
       " {'country': 'IsleOfMan', 'count': 1},\n",
       " {'country': 'Bulgaria', 'count': 1},\n",
       " {'country': 'Afghanistan', 'count': 1},\n",
       " {'country': 'Iceland', 'count': 1},\n",
       " {'country': 'Singapore', 'count': 1},\n",
       " {'country': 'Argentina', 'count': 1},\n",
       " {'country': 'Portugal', 'count': 1},\n",
       " {'country': 'Jordan', 'count': 1},\n",
       " {'country': 'Vietnam', 'count': 1},\n",
       " {'country': 'WestGermany', 'count': 1},\n",
       " {'country': 'Morocco', 'count': 1}]"
      ]
     },
     "execution_count": 81,
     "metadata": {},
     "output_type": "execute_result"
    }
   ],
   "source": [
    "# Find the top 10 country\n",
    "country_all = []\n",
    "for row in all_df.country:\n",
    "    country_all += row\n",
    "country_count = []\n",
    "for country in set(country_all):\n",
    "    country_count.append({'country':country,'count':country_all.count(country)})\n",
    "sorted(country_count, key = lambda i: i['count'],reverse=True)"
   ]
  },
  {
   "cell_type": "code",
   "execution_count": 82,
   "metadata": {},
   "outputs": [
    {
     "data": {
      "text/html": [
       "<div>\n",
       "<style scoped>\n",
       "    .dataframe tbody tr th:only-of-type {\n",
       "        vertical-align: middle;\n",
       "    }\n",
       "\n",
       "    .dataframe tbody tr th {\n",
       "        vertical-align: top;\n",
       "    }\n",
       "\n",
       "    .dataframe thead th {\n",
       "        text-align: right;\n",
       "    }\n",
       "</style>\n",
       "<table border=\"1\" class=\"dataframe\">\n",
       "  <thead>\n",
       "    <tr style=\"text-align: right;\">\n",
       "      <th></th>\n",
       "      <th>country</th>\n",
       "    </tr>\n",
       "  </thead>\n",
       "  <tbody>\n",
       "    <tr>\n",
       "      <th>0</th>\n",
       "      <td>{USA}</td>\n",
       "    </tr>\n",
       "    <tr>\n",
       "      <th>1</th>\n",
       "      <td>{USA, UK}</td>\n",
       "    </tr>\n",
       "    <tr>\n",
       "      <th>3</th>\n",
       "      <td>{USA}</td>\n",
       "    </tr>\n",
       "    <tr>\n",
       "      <th>7</th>\n",
       "      <td>{USA, Canada}</td>\n",
       "    </tr>\n",
       "    <tr>\n",
       "      <th>11</th>\n",
       "      <td>{USA, Other}</td>\n",
       "    </tr>\n",
       "    <tr>\n",
       "      <th>...</th>\n",
       "      <td>...</td>\n",
       "    </tr>\n",
       "    <tr>\n",
       "      <th>825</th>\n",
       "      <td>{USA}</td>\n",
       "    </tr>\n",
       "    <tr>\n",
       "      <th>826</th>\n",
       "      <td>{USA}</td>\n",
       "    </tr>\n",
       "    <tr>\n",
       "      <th>827</th>\n",
       "      <td>{USA, France, UK}</td>\n",
       "    </tr>\n",
       "    <tr>\n",
       "      <th>828</th>\n",
       "      <td>{USA}</td>\n",
       "    </tr>\n",
       "    <tr>\n",
       "      <th>829</th>\n",
       "      <td>{USA, UK}</td>\n",
       "    </tr>\n",
       "  </tbody>\n",
       "</table>\n",
       "<p>581 rows × 1 columns</p>\n",
       "</div>"
      ],
      "text/plain": [
       "               country\n",
       "0                {USA}\n",
       "1            {USA, UK}\n",
       "3                {USA}\n",
       "7        {USA, Canada}\n",
       "11        {USA, Other}\n",
       "..                 ...\n",
       "825              {USA}\n",
       "826              {USA}\n",
       "827  {USA, France, UK}\n",
       "828              {USA}\n",
       "829          {USA, UK}\n",
       "\n",
       "[581 rows x 1 columns]"
      ]
     },
     "execution_count": 82,
     "metadata": {},
     "output_type": "execute_result"
    }
   ],
   "source": [
    "# Keep only the top 5 country\n",
    "country_list = ['USA','UK','Germany','France','Canada']\n",
    "# The rest will go to \"Other\"\n",
    "all_df['country']= all_df.country.apply(lambda x:\\\n",
    "                            [country if country in country_list else 'Other' for country in x])\n",
    "# Convert genre column from list to set\n",
    "all_df['country'] = all_df.country.apply(lambda x: set(x))\n",
    "all_df[['country']]"
   ]
  },
  {
   "cell_type": "code",
   "execution_count": null,
   "metadata": {},
   "outputs": [],
   "source": []
  },
  {
   "cell_type": "code",
   "execution_count": 83,
   "metadata": {},
   "outputs": [],
   "source": [
    "# Save the cleaned all_df\n",
    "all_df.to_pickle('../dump/complete_data_cleaned')"
   ]
  },
  {
   "cell_type": "code",
   "execution_count": null,
   "metadata": {},
   "outputs": [],
   "source": []
  },
  {
   "cell_type": "code",
   "execution_count": null,
   "metadata": {},
   "outputs": [],
   "source": []
  },
  {
   "cell_type": "code",
   "execution_count": null,
   "metadata": {},
   "outputs": [],
   "source": []
  },
  {
   "cell_type": "code",
   "execution_count": null,
   "metadata": {},
   "outputs": [],
   "source": []
  },
  {
   "cell_type": "code",
   "execution_count": null,
   "metadata": {},
   "outputs": [],
   "source": []
  },
  {
   "cell_type": "code",
   "execution_count": null,
   "metadata": {},
   "outputs": [],
   "source": []
  }
 ],
 "metadata": {
  "kernelspec": {
   "display_name": "Python 3",
   "language": "python",
   "name": "python3"
  },
  "language_info": {
   "codemirror_mode": {
    "name": "ipython",
    "version": 3
   },
   "file_extension": ".py",
   "mimetype": "text/x-python",
   "name": "python",
   "nbconvert_exporter": "python",
   "pygments_lexer": "ipython3",
   "version": "3.8.5"
  }
 },
 "nbformat": 4,
 "nbformat_minor": 4
}
